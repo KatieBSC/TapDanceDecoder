{
 "cells": [
  {
   "cell_type": "markdown",
   "metadata": {},
   "source": [
    "## Generating tap sounds"
   ]
  },
  {
   "cell_type": "code",
   "execution_count": 1,
   "metadata": {},
   "outputs": [],
   "source": [
    "from scipy.io import wavfile as wav\n",
    "from scipy.io.wavfile import read\n",
    "import matplotlib.pyplot as plt\n",
    "import pandas as pd\n",
    "import numpy as np\n",
    "from pydub import AudioSegment\n",
    "from pydub.silence import split_on_silence\n",
    "from scipy.signal import argrelextrema, find_peaks, peak_prominences, find_peaks_cwt\n",
    "from sklearn.metrics import accuracy_score"
   ]
  },
  {
   "cell_type": "code",
   "execution_count": 2,
   "metadata": {},
   "outputs": [],
   "source": [
    "def get_wav_mp3(mp3_file, wav_name):\n",
    "    song = AudioSegment.from_mp3(mp3_file)\n",
    "    new_song = song.export(wav_name, format=\"wav\")\n",
    "    #print(\"Exported file as: \" + wav_name)\n",
    "    return new_song\n",
    "    \n",
    "def get_wav_mp4(mp4_file, wav_name):\n",
    "    song = AudioSegment.from_file(mp4_file, \"mp4\")\n",
    "    new_song = song.export(wav_name, format=\"wav\")\n",
    "    #print(\"Exported file as: \" + wav_name)\n",
    "    return new_song\n",
    "\n",
    "def build_list(artist, clip_number, length):\n",
    "    i = 1\n",
    "    artist_list = []\n",
    "    while i <= length :\n",
    "        name = artist + \"/\" + str(clip_number) + \"/\" +str(i) + \".wav\"\n",
    "        artist_list.append(name)\n",
    "        i += 1\n",
    "    return artist_list\n",
    "\n",
    "def split_silence_chunks(wavfile, silence_length, threshold, file_names_list):\n",
    "    sound_file = AudioSegment.from_wav(wavfile)\n",
    "    audio_chunks = split_on_silence(sound_file, \n",
    "                        min_silence_len=silence_length,\n",
    "                        silence_thresh=threshold)\n",
    "    for i in range (len(audio_chunks)) :\n",
    "        chunk = audio_chunks[i]\n",
    "        chunk.export(file_names_list[i], format='wav')\n",
    "    print(\"Exported \" + str(len(audio_chunks)) + \" files\")\n",
    "    \n",
    "def detect_leading_silence(sound, silence_threshold=-50.0, chunk_size=10):\n",
    "    '''\n",
    "    sound is a pydub.AudioSegment\n",
    "    silence_threshold in dB\n",
    "    chunk_size in ms\n",
    "\n",
    "    iterate over chunks until you find the first one with sound\n",
    "    '''\n",
    "    trim_ms = 0 # ms\n",
    "\n",
    "    assert chunk_size > 0 # to avoid infinite loop\n",
    "    while sound[trim_ms:trim_ms+chunk_size].dBFS < silence_threshold and trim_ms < len(sound):\n",
    "        trim_ms += chunk_size\n",
    "\n",
    "    return trim_ms"
   ]
  },
  {
   "cell_type": "markdown",
   "metadata": {},
   "source": [
    "## Getting started with shuffles\n",
    "(Source : https://www.youtube.com/watch?v=aJa3DYnAjqU )"
   ]
  },
  {
   "cell_type": "code",
   "execution_count": 3,
   "metadata": {},
   "outputs": [
    {
     "ename": "FileNotFoundError",
     "evalue": "[Errno 2] No such file or directory: 'Shuffle/Shuffle.mp4'",
     "output_type": "error",
     "traceback": [
      "\u001b[0;31m---------------------------------------------------------------------------\u001b[0m",
      "\u001b[0;31mFileNotFoundError\u001b[0m                         Traceback (most recent call last)",
      "\u001b[0;32m<ipython-input-3-ab2dcb0f0776>\u001b[0m in \u001b[0;36m<module>\u001b[0;34m()\u001b[0m\n\u001b[0;32m----> 1\u001b[0;31m \u001b[0mget_wav_mp4\u001b[0m\u001b[0;34m(\u001b[0m\u001b[0;34m'Shuffle/Shuffle.mp4'\u001b[0m\u001b[0;34m,\u001b[0m \u001b[0;34m'Shuffle/Shuffle.wav'\u001b[0m\u001b[0;34m)\u001b[0m\u001b[0;34m;\u001b[0m\u001b[0;34m\u001b[0m\u001b[0m\n\u001b[0m",
      "\u001b[0;32m<ipython-input-2-711229e85ab2>\u001b[0m in \u001b[0;36mget_wav_mp4\u001b[0;34m(mp4_file, wav_name)\u001b[0m\n\u001b[1;32m      6\u001b[0m \u001b[0;34m\u001b[0m\u001b[0m\n\u001b[1;32m      7\u001b[0m \u001b[0;32mdef\u001b[0m \u001b[0mget_wav_mp4\u001b[0m\u001b[0;34m(\u001b[0m\u001b[0mmp4_file\u001b[0m\u001b[0;34m,\u001b[0m \u001b[0mwav_name\u001b[0m\u001b[0;34m)\u001b[0m\u001b[0;34m:\u001b[0m\u001b[0;34m\u001b[0m\u001b[0m\n\u001b[0;32m----> 8\u001b[0;31m     \u001b[0msong\u001b[0m \u001b[0;34m=\u001b[0m \u001b[0mAudioSegment\u001b[0m\u001b[0;34m.\u001b[0m\u001b[0mfrom_file\u001b[0m\u001b[0;34m(\u001b[0m\u001b[0mmp4_file\u001b[0m\u001b[0;34m,\u001b[0m \u001b[0;34m\"mp4\"\u001b[0m\u001b[0;34m)\u001b[0m\u001b[0;34m\u001b[0m\u001b[0m\n\u001b[0m\u001b[1;32m      9\u001b[0m     \u001b[0mnew_song\u001b[0m \u001b[0;34m=\u001b[0m \u001b[0msong\u001b[0m\u001b[0;34m.\u001b[0m\u001b[0mexport\u001b[0m\u001b[0;34m(\u001b[0m\u001b[0mwav_name\u001b[0m\u001b[0;34m,\u001b[0m \u001b[0mformat\u001b[0m\u001b[0;34m=\u001b[0m\u001b[0;34m\"wav\"\u001b[0m\u001b[0;34m)\u001b[0m\u001b[0;34m\u001b[0m\u001b[0m\n\u001b[1;32m     10\u001b[0m     \u001b[0;31m#print(\"Exported file as: \" + wav_name)\u001b[0m\u001b[0;34m\u001b[0m\u001b[0;34m\u001b[0m\u001b[0m\n",
      "\u001b[0;32m~/anaconda3/lib/python3.6/site-packages/pydub/audio_segment.py\u001b[0m in \u001b[0;36mfrom_file\u001b[0;34m(cls, file, format, codec, parameters, **kwargs)\u001b[0m\n\u001b[1;32m    608\u001b[0m         \u001b[0;32mexcept\u001b[0m \u001b[0mTypeError\u001b[0m\u001b[0;34m:\u001b[0m\u001b[0;34m\u001b[0m\u001b[0m\n\u001b[1;32m    609\u001b[0m             \u001b[0mfilename\u001b[0m \u001b[0;34m=\u001b[0m \u001b[0;32mNone\u001b[0m\u001b[0;34m\u001b[0m\u001b[0m\n\u001b[0;32m--> 610\u001b[0;31m         \u001b[0mfile\u001b[0m \u001b[0;34m=\u001b[0m \u001b[0m_fd_or_path_or_tempfile\u001b[0m\u001b[0;34m(\u001b[0m\u001b[0mfile\u001b[0m\u001b[0;34m,\u001b[0m \u001b[0;34m'rb'\u001b[0m\u001b[0;34m,\u001b[0m \u001b[0mtempfile\u001b[0m\u001b[0;34m=\u001b[0m\u001b[0;32mFalse\u001b[0m\u001b[0;34m)\u001b[0m\u001b[0;34m\u001b[0m\u001b[0m\n\u001b[0m\u001b[1;32m    611\u001b[0m \u001b[0;34m\u001b[0m\u001b[0m\n\u001b[1;32m    612\u001b[0m         \u001b[0;32mif\u001b[0m \u001b[0mformat\u001b[0m\u001b[0;34m:\u001b[0m\u001b[0;34m\u001b[0m\u001b[0m\n",
      "\u001b[0;32m~/anaconda3/lib/python3.6/site-packages/pydub/utils.py\u001b[0m in \u001b[0;36m_fd_or_path_or_tempfile\u001b[0;34m(fd, mode, tempfile)\u001b[0m\n\u001b[1;32m     55\u001b[0m \u001b[0;34m\u001b[0m\u001b[0m\n\u001b[1;32m     56\u001b[0m     \u001b[0;32mif\u001b[0m \u001b[0misinstance\u001b[0m\u001b[0;34m(\u001b[0m\u001b[0mfd\u001b[0m\u001b[0;34m,\u001b[0m \u001b[0mbasestring\u001b[0m\u001b[0;34m)\u001b[0m\u001b[0;34m:\u001b[0m\u001b[0;34m\u001b[0m\u001b[0m\n\u001b[0;32m---> 57\u001b[0;31m         \u001b[0mfd\u001b[0m \u001b[0;34m=\u001b[0m \u001b[0mopen\u001b[0m\u001b[0;34m(\u001b[0m\u001b[0mfd\u001b[0m\u001b[0;34m,\u001b[0m \u001b[0mmode\u001b[0m\u001b[0;34m=\u001b[0m\u001b[0mmode\u001b[0m\u001b[0;34m)\u001b[0m\u001b[0;34m\u001b[0m\u001b[0m\n\u001b[0m\u001b[1;32m     58\u001b[0m \u001b[0;34m\u001b[0m\u001b[0m\n\u001b[1;32m     59\u001b[0m     \u001b[0;32mtry\u001b[0m\u001b[0;34m:\u001b[0m\u001b[0;34m\u001b[0m\u001b[0m\n",
      "\u001b[0;31mFileNotFoundError\u001b[0m: [Errno 2] No such file or directory: 'Shuffle/Shuffle.mp4'"
     ]
    }
   ],
   "source": [
    "get_wav_mp4('Shuffle/Shuffle.mp4', 'Shuffle/Shuffle.wav');"
   ]
  },
  {
   "cell_type": "markdown",
   "metadata": {},
   "source": [
    "Manually extract the relevant clip. \n",
    "<br/>Set channel to 1 (mono)."
   ]
  },
  {
   "cell_type": "code",
   "execution_count": null,
   "metadata": {},
   "outputs": [],
   "source": [
    "song = AudioSegment.from_wav('Shuffle/Shuffle.wav')\n",
    "song = song.set_channels(1)\n",
    "start = 30 * 1000\n",
    "end = 34 * 1000\n",
    "three_shuffles = song[start:end]\n",
    "three_shuffles.export('Shuffle/1/three_shuffles.wav', format=\"wav\");"
   ]
  },
  {
   "cell_type": "code",
   "execution_count": null,
   "metadata": {},
   "outputs": [],
   "source": [
    "three_shuffles"
   ]
  },
  {
   "cell_type": "markdown",
   "metadata": {},
   "source": [
    "Split up the audio into its components. This could also be done with split on silence. \n",
    "<br/> Split on time needs to be fixed. (Index error)"
   ]
  },
  {
   "cell_type": "code",
   "execution_count": null,
   "metadata": {},
   "outputs": [],
   "source": [
    "shuffle_1 = three_shuffles[:(three_shuffles.duration_seconds/3)*1000]\n",
    "shuffle_2 = three_shuffles[(three_shuffles.duration_seconds/3)*1000:(three_shuffles.duration_seconds/3)*2000]\n",
    "shuffle_3 = three_shuffles[(three_shuffles.duration_seconds/3)*2000:]"
   ]
  },
  {
   "cell_type": "code",
   "execution_count": null,
   "metadata": {},
   "outputs": [],
   "source": [
    "shuffle_1.export('Shuffle/1/1.wav', format=\"wav\")\n",
    "shuffle_2.export('Shuffle/1/2.wav', format=\"wav\")\n",
    "shuffle_3.export('Shuffle/1/3.wav', format=\"wav\");"
   ]
  },
  {
   "cell_type": "markdown",
   "metadata": {},
   "source": [
    "## Cutting the into/outro silence out of the clips"
   ]
  },
  {
   "cell_type": "code",
   "execution_count": null,
   "metadata": {},
   "outputs": [],
   "source": [
    "path_list = [shuffle_1, shuffle_2, shuffle_3]\n",
    "\n",
    "for i in path_list:\n",
    "    sound = i\n",
    "    start_trim = detect_leading_silence(sound)\n",
    "    end_trim = detect_leading_silence(sound.reverse())\n",
    "    duration = len(sound)    \n",
    "    trimmed_sound = sound[start_trim:duration-end_trim]\n",
    "    trimmed_sound.export('Shuffle/Split/1/'+ str(path_list.index(i)+1)+ '.wav', format='wav')"
   ]
  },
  {
   "cell_type": "markdown",
   "metadata": {},
   "source": [
    "## Now with ball change\n",
    "(Source: https://www.youtube.com/watch?v=hi0wkLqPGR0 )"
   ]
  },
  {
   "cell_type": "code",
   "execution_count": null,
   "metadata": {},
   "outputs": [],
   "source": [
    "get_wav_mp4('Ball_change/Ball_change.mp4', 'Ball_change/Ball_change.wav');"
   ]
  },
  {
   "cell_type": "markdown",
   "metadata": {},
   "source": [
    "Manually extract the relevant clip. \n",
    "<br/>Set channel to 1 (mono)."
   ]
  },
  {
   "cell_type": "code",
   "execution_count": null,
   "metadata": {},
   "outputs": [],
   "source": [
    "song = AudioSegment.from_wav('Ball_change/Ball_change.wav')\n",
    "song = song.set_channels(1)\n",
    "start = 48.5 * 1000\n",
    "end = 52 * 1000\n",
    "three_ball_changes = song[start:end]\n",
    "three_ball_changes.export('Ball_change/1/three_ball_changes.wav', format=\"wav\");"
   ]
  },
  {
   "cell_type": "code",
   "execution_count": null,
   "metadata": {},
   "outputs": [],
   "source": [
    "three_ball_changes"
   ]
  },
  {
   "cell_type": "code",
   "execution_count": null,
   "metadata": {},
   "outputs": [],
   "source": [
    "ball_change_1 = three_ball_changes[:(three_ball_changes.duration_seconds/3)*1000]\n",
    "ball_change_2 = three_ball_changes[(three_ball_changes.duration_seconds/3)*1000:(three_ball_changes.duration_seconds/3)*2000]\n",
    "ball_change_3 = three_ball_changes[(three_ball_changes.duration_seconds/3)*2000:]"
   ]
  },
  {
   "cell_type": "code",
   "execution_count": null,
   "metadata": {},
   "outputs": [],
   "source": [
    "ball_change_1.export('Ball_change/1/1.wav', format=\"wav\")\n",
    "ball_change_2.export('Ball_change/1/2.wav', format=\"wav\")\n",
    "ball_change_3.export('Ball_change/1/3.wav', format=\"wav\");"
   ]
  },
  {
   "cell_type": "markdown",
   "metadata": {},
   "source": [
    "## Cutting the into/outro silence out of the clips"
   ]
  },
  {
   "cell_type": "code",
   "execution_count": null,
   "metadata": {},
   "outputs": [],
   "source": [
    "path_list = [ball_change_1, ball_change_2, ball_change_3]\n",
    "\n",
    "for i in path_list:\n",
    "    sound = i\n",
    "    start_trim = detect_leading_silence(sound)\n",
    "    end_trim = detect_leading_silence(sound.reverse())\n",
    "    duration = len(sound)    \n",
    "    trimmed_sound = sound[start_trim:duration-end_trim]\n",
    "    trimmed_sound.export('Ball_change/Split/1/'+ str(path_list.index(i)+1) + '.wav', format='wav')"
   ]
  },
  {
   "cell_type": "code",
   "execution_count": null,
   "metadata": {},
   "outputs": [],
   "source": []
  },
  {
   "cell_type": "markdown",
   "metadata": {},
   "source": [
    "## Generating a combination"
   ]
  },
  {
   "cell_type": "code",
   "execution_count": null,
   "metadata": {},
   "outputs": [],
   "source": [
    "combi_1 = (shuffle_1 + ball_change_1) * 2 + (shuffle_1 + (ball_change_1 * 3))\n",
    "combi_1.export('Combi/1.wav', format='wav');\n",
    "#(shuffle_1*20).speedup(playback_speed=2.5, crossfade=0)"
   ]
  },
  {
   "cell_type": "code",
   "execution_count": null,
   "metadata": {},
   "outputs": [],
   "source": [
    "combi_2 = shuffle_2 * 4 + ball_change_2 * 4\n",
    "combi_2.export('Combi/2.wav', format='wav');"
   ]
  },
  {
   "cell_type": "code",
   "execution_count": null,
   "metadata": {},
   "outputs": [],
   "source": [
    "combi_3 = combi_1 + combi_2\n",
    "combi_3.export('Combi/3.wav', format='wav');"
   ]
  },
  {
   "cell_type": "code",
   "execution_count": null,
   "metadata": {},
   "outputs": [],
   "source": [
    "combi_3"
   ]
  },
  {
   "cell_type": "code",
   "execution_count": null,
   "metadata": {},
   "outputs": [],
   "source": [
    "combi_basic = shuffle_1 + ball_change_1\n",
    "combi_basic.export('Combi/Basic.wav', format='wav');"
   ]
  },
  {
   "cell_type": "markdown",
   "metadata": {},
   "source": [
    "## Splitting up combination on silence\n",
    "This could be a good strategy for processing generated data\n",
    "<br/> Note the loudness in the samples\n",
    "<br/> Chose reasonably large list size, too big is OK, too small is a problem\n",
    "<br/> Minimum amount of silence to make a split is 250 msec"
   ]
  },
  {
   "cell_type": "code",
   "execution_count": null,
   "metadata": {},
   "outputs": [],
   "source": [
    "combi_3.dBFS"
   ]
  },
  {
   "cell_type": "code",
   "execution_count": null,
   "metadata": {},
   "outputs": [],
   "source": [
    "split_silence_chunks('Combi/1.wav', 250, -42, build_list(artist='Combi/Chunks', clip_number=1, length=16))"
   ]
  },
  {
   "cell_type": "code",
   "execution_count": null,
   "metadata": {},
   "outputs": [],
   "source": [
    "split_silence_chunks('Combi/2.wav', 250, -42, build_list(artist='Combi/Chunks', clip_number=2, length=16))"
   ]
  },
  {
   "cell_type": "code",
   "execution_count": null,
   "metadata": {},
   "outputs": [],
   "source": [
    "split_silence_chunks('Combi/3.wav', 250, -42, build_list(artist='Combi/Chunks', clip_number=3, length=16))"
   ]
  },
  {
   "cell_type": "code",
   "execution_count": null,
   "metadata": {},
   "outputs": [],
   "source": [
    "split_silence_chunks('Combi/Basic.wav', 250, -42, build_list(artist='Combi/Chunks', clip_number='Basic', length=16))"
   ]
  },
  {
   "cell_type": "markdown",
   "metadata": {},
   "source": [
    "## Visualizing the audio data"
   ]
  },
  {
   "cell_type": "code",
   "execution_count": 4,
   "metadata": {},
   "outputs": [],
   "source": [
    "def plot_waves (file, title):\n",
    "    # Read the wav file (mono)\n",
    "    samplingFrequency, signalData = wav.read(file)\n",
    "    \n",
    "    # Plot the signal read from wav file\n",
    "    plt.subplot(211)\n",
    "    plt.title(title)\n",
    "    #plt.plot(signalData[:,1])\n",
    "    plt.plot(signalData[:])\n",
    "    plt.xlabel('Sample')\n",
    "    plt.ylabel('Amplitude')\n",
    "\n",
    "    plt.subplot(212)\n",
    "    #plt.specgram(signalData[:,1],Fs=samplingFrequency)\n",
    "    plt.specgram(signalData[:],Fs=samplingFrequency)\n",
    "    plt.xlabel('Time')\n",
    "    plt.ylabel('Frequency')\n",
    "    return plt.show()"
   ]
  },
  {
   "cell_type": "code",
   "execution_count": null,
   "metadata": {},
   "outputs": [],
   "source": [
    "plot_waves('Shuffle/1/1.wav', 'Shuffle')"
   ]
  },
  {
   "cell_type": "code",
   "execution_count": null,
   "metadata": {
    "scrolled": true
   },
   "outputs": [],
   "source": [
    "plot_waves('Ball_change/1/3.wav', 'Ball change')"
   ]
  },
  {
   "cell_type": "code",
   "execution_count": null,
   "metadata": {
    "scrolled": true
   },
   "outputs": [],
   "source": [
    "plot_waves('Combi/Basic.wav', 'Shuffle ball change')"
   ]
  },
  {
   "cell_type": "code",
   "execution_count": null,
   "metadata": {},
   "outputs": [],
   "source": [
    "plot_waves('Combi/3.wav', 'Longer combination')"
   ]
  },
  {
   "cell_type": "markdown",
   "metadata": {},
   "source": [
    "So, the length of the array of samples is equal to the duration in seconds multiplied by the frame (sample) rate"
   ]
  },
  {
   "cell_type": "code",
   "execution_count": null,
   "metadata": {},
   "outputs": [],
   "source": [
    "len(shuffle_1.get_array_of_samples()), shuffle_1.duration_seconds * shuffle_1.frame_rate"
   ]
  },
  {
   "cell_type": "code",
   "execution_count": null,
   "metadata": {},
   "outputs": [],
   "source": [
    "len(combi_3.get_array_of_samples()), combi_3.duration_seconds * combi_3.frame_rate"
   ]
  },
  {
   "cell_type": "markdown",
   "metadata": {},
   "source": [
    "## Feature Extraction "
   ]
  },
  {
   "cell_type": "code",
   "execution_count": null,
   "metadata": {},
   "outputs": [],
   "source": [
    "samplingFrequency, signalData = wav.read('Combi/Chunks/1/1.wav')\n",
    "#print(len(signalData[:]))\n",
    "pos_signalData = signalData[:].copy()\n",
    "\n",
    "# Remove negative values\n",
    "pos_signalData = pos_signalData[pos_signalData >= 0]\n",
    "# Remove beginning and ending \"noise\"\n",
    "\n",
    "\n",
    "plt.subplot(211)\n",
    "plt.plot(pos_signalData[:])\n",
    "plt.xlabel('Sample')\n",
    "plt.ylabel('|Amplitude|')  \n",
    "\n",
    "plt.subplot(212)\n",
    "plt.plot(signalData[:])\n",
    "plt.xlabel('Sample')\n",
    "plt.ylabel('Amplitude');"
   ]
  },
  {
   "cell_type": "code",
   "execution_count": 6,
   "metadata": {},
   "outputs": [
    {
     "data": {
      "image/png": "[encoded data removed]",
      "text/plain": [
       "<Figure size 432x288 with 2 Axes>"
      ]
     },
     "metadata": {},
     "output_type": "display_data"
    }
   ],
   "source": [
    "# Approach: reformatting the amplitude graph by taking the absolute value, and starting the frame with the first peak\n",
    "# Data: shuffle_1\n",
    "\n",
    "samplingFrequency, signalData = wav.read('../../Source/Shuffle/1/1.wav')\n",
    "#print(len(signalData[:]))\n",
    "pos_signalData = signalData[:].copy()\n",
    "for i in range (len(signalData[:])):\n",
    "    if signalData[i] < 0 :\n",
    "        pos_signalData[i] = np.absolute(signalData[i])\n",
    "    else : \n",
    "        pos_signalData[i] = signalData[i]\n",
    "    \n",
    "\n",
    "\n",
    "\n",
    "plt.subplot(211)\n",
    "plt.plot(pos_signalData[:])\n",
    "plt.xlabel('Sample')\n",
    "plt.ylabel('|Amplitude|')  \n",
    "\n",
    "plt.subplot(212)\n",
    "plt.plot(signalData[:])\n",
    "plt.xlabel('Sample')\n",
    "plt.ylabel('Amplitude');"
   ]
  },
  {
   "cell_type": "markdown",
   "metadata": {},
   "source": [
    "### Peak Analysis"
   ]
  },
  {
   "cell_type": "markdown",
   "metadata": {},
   "source": [
    "x : sequence\n",
    "A signal with peaks.\n",
    "<br/><br/>height : number or ndarray or sequence, optional\n",
    "Required height of peaks. Either a number, None, an array matching x or a 2-element sequence of the former. The first element is always interpreted as the minimal and the second, if supplied, as the maximal required height.\n",
    "<br/><br/>threshold : number or ndarray or sequence, optional\n",
    "Required threshold of peaks, the vertical distance to its neighbouring samples. Either a number, None, an array matching x or a 2-element sequence of the former. The first element is always interpreted as the minimal and the second, if supplied, as the maximal required threshold.\n",
    "<br/><br/>distance : number, optional\n",
    "Required minimal horizontal distance (>= 1) in samples between neighbouring peaks. The removal order is explained in the notes section.\n",
    "<br/><br/>prominence : number or ndarray or sequence, optional\n",
    "Required prominence of peaks. Either a number, None, an array matching x or a 2-element sequence of the former. The first element is always interpreted as the minimal and the second, if supplied, as the maximal required prominence.\n",
    "<br/><br/>width : number or ndarray or sequence, optional\n",
    "Required width of peaks in samples. Either a number, None, an array matching x or a 2-element sequence of the former. The first element is always interpreted as the minimal and the second, if supplied, as the maximal required prominence.\n",
    "<br/><br/>wlen : number, optional\n",
    "Used for calculation of the peaks prominences, thus it is only used if one of the arguments prominence or width is given. See argument wlen in peak_prominences for a full description of its effects.\n",
    "<br/><br/>rel_height : float, optional\n",
    "Used for calculation of the peaks width, thus it is only used if width is given. See argument rel_height in peak_widths for a full description of its effects."
   ]
  },
  {
   "cell_type": "code",
   "execution_count": 7,
   "metadata": {},
   "outputs": [
    {
     "data": {
      "image/png": "[encoded data removed]",
      "text/plain": [
       "<Figure size 432x288 with 1 Axes>"
      ]
     },
     "metadata": {},
     "output_type": "display_data"
    }
   ],
   "source": [
    "# Find all peaks above 1000\n",
    "\n",
    "x = pos_signalData[:]\n",
    "peaks, _ = find_peaks(x, height=1000)\n",
    "plt.plot(x)\n",
    "plt.plot(peaks, x[peaks], \"x\")\n",
    "plt.show()"
   ]
  },
  {
   "cell_type": "code",
   "execution_count": 8,
   "metadata": {},
   "outputs": [
    {
     "name": "stdout",
     "output_type": "stream",
     "text": [
      "[ 615  617  547  505  503  905  514  992  639  835 1000  544  567  610\n",
      "  510  503  533  948  734  905  570  636  578  905  705  694  500 1000\n",
      "  519  556  505  642  784  687  512  708  679  626  649  703  657  611\n",
      "  797  535  754  786  744  671  590  590  530  530  713  630  746  604\n",
      "  534  603  620  680  933  529  551  709  794  528  513  545  976  540\n",
      "  559  641  693  535  525  687  970  859  503  844  883  952  522  931\n",
      "  754  553  553  514]\n"
     ]
    },
    {
     "data": {
      "image/png": "[encoded data removed]",
      "text/plain": [
       "<Figure size 432x288 with 1 Axes>"
      ]
     },
     "metadata": {},
     "output_type": "display_data"
    }
   ],
   "source": [
    "# Peaks with minimum distance of 500 \n",
    "\n",
    "peaks, _ = find_peaks(x, distance=500)\n",
    "print(np.diff(peaks))\n",
    "\n",
    "plt.plot(x)\n",
    "plt.plot(peaks, x[peaks], \"x\")\n",
    "plt.show()\n"
   ]
  },
  {
   "cell_type": "code",
   "execution_count": 9,
   "metadata": {},
   "outputs": [
    {
     "data": {
      "text/plain": [
       "(array([19., 83.,  7., ..., 12., 58., 32.]),\n",
       " array([    2,     2,    13, ..., 58785, 58785, 58795]),\n",
       " array([    7,    15,    15, ..., 58789, 58799, 58799]))"
      ]
     },
     "execution_count": 9,
     "metadata": {},
     "output_type": "execute_result"
    }
   ],
   "source": [
    "peaks, _ = find_peaks(x)\n",
    "prominences = peak_prominences(x, peaks)[0]\n",
    "prominences\n",
    "peak_prominences(x, peaks)\n"
   ]
  },
  {
   "cell_type": "code",
   "execution_count": 10,
   "metadata": {},
   "outputs": [
    {
     "data": {
      "text/plain": [
       "(array([19., 28.,  7., ..., 12., 11., 32.]),\n",
       " array([    3,     8,    13, ..., 58785, 58789, 58795]),\n",
       " array([    7,    12,    15, ..., 58789, 58793, 58799]))"
      ]
     },
     "execution_count": 10,
     "metadata": {},
     "output_type": "execute_result"
    }
   ],
   "source": [
    "peak_prominences(x, peaks, wlen=3.1)"
   ]
  },
  {
   "cell_type": "code",
   "execution_count": 20,
   "metadata": {},
   "outputs": [
    {
     "data": {
      "image/png": "[encoded data removed]",
      "text/plain": [
       "<Figure size 864x576 with 4 Axes>"
      ]
     },
     "metadata": {},
     "output_type": "display_data"
    }
   ],
   "source": [
    "\n",
    "x = pos_signalData[:]\n",
    "peaks, _ = find_peaks(x, distance=1000)\n",
    "peaks2, _ = find_peaks(x, prominence=3000)      \n",
    "peaks3, _ = find_peaks(x, width=10)\n",
    "peaks4, _ = find_peaks(x, threshold=300)    \n",
    "plt.figure(figsize=(12,8))\n",
    "plt.subplot(2, 2, 1)\n",
    "plt.plot(peaks, x[peaks], \"xr\"); plt.plot(x); plt.legend(['distance'])\n",
    "plt.subplot(2, 2, 2)\n",
    "plt.plot(peaks2, x[peaks2], \"ob\"); plt.plot(x); plt.legend(['prominence'])\n",
    "plt.subplot(2, 2, 3)\n",
    "plt.plot(peaks3, x[peaks3], \"vg\"); plt.plot(x); plt.legend(['width'])\n",
    "plt.subplot(2, 2, 4)\n",
    "plt.plot(peaks4, x[peaks4], \"xk\"); plt.plot(x); plt.legend(['threshold'])\n",
    "plt.show()\n"
   ]
  },
  {
   "cell_type": "code",
   "execution_count": 19,
   "metadata": {},
   "outputs": [
    {
     "data": {
      "text/plain": [
       "array([16258, 16697, 16963, 25998, 26024, 26727])"
      ]
     },
     "execution_count": 19,
     "metadata": {},
     "output_type": "execute_result"
    }
   ],
   "source": [
    "peaks2"
   ]
  },
  {
   "cell_type": "markdown",
   "metadata": {},
   "source": [
    "## Same approaches with different data"
   ]
  },
  {
   "cell_type": "code",
   "execution_count": null,
   "metadata": {},
   "outputs": [],
   "source": [
    "# Approach: reformatting the amplitude graph\n",
    "# Data: ball_change_1\n",
    "\n",
    "samplingFrequency, signalData = wav.read('Ball_change/1/1.wav')\n",
    "#print(len(signalData[:]))\n",
    "pos_signalData = signalData[:].copy()\n",
    "for i in range (len(signalData[:])):\n",
    "    if signalData[i] < 0 :\n",
    "        pos_signalData[i] = np.absolute(signalData[i])\n",
    "    else : \n",
    "        pos_signalData[i] = signalData[i]\n",
    "\n",
    "plt.subplot(211)\n",
    "plt.plot(pos_signalData[:])\n",
    "plt.xlabel('Sample')\n",
    "plt.ylabel('|Amplitude|')  \n",
    "\n",
    "plt.subplot(212)\n",
    "plt.plot(signalData[:])\n",
    "plt.xlabel('Sample')\n",
    "plt.ylabel('Amplitude');"
   ]
  },
  {
   "cell_type": "code",
   "execution_count": null,
   "metadata": {},
   "outputs": [],
   "source": [
    "numbers_2 = np.array(ball_change_1.get_array_of_samples())\n",
    "df_2 = pd.DataFrame(numbers_2)\n",
    "df_2.describe()"
   ]
  },
  {
   "cell_type": "markdown",
   "metadata": {},
   "source": [
    "## Organizing audio clips in a DataFrame"
   ]
  },
  {
   "cell_type": "code",
   "execution_count": null,
   "metadata": {},
   "outputs": [],
   "source": [
    "from pathlib import Path\n",
    "path_col = []"
   ]
  },
  {
   "cell_type": "markdown",
   "metadata": {},
   "source": [
    "I'm doing this 3 times, changing the path for each folder (Shuffle/1, Ball_change/1, Combi).\n",
    "<br/> Hopefully, I'll find a more elegant solution."
   ]
  },
  {
   "cell_type": "code",
   "execution_count": null,
   "metadata": {},
   "outputs": [],
   "source": [
    "pathlist = Path('Shuffle/Split').glob('**/*.wav')\n",
    "for path in pathlist:\n",
    "    path_col.append(path)"
   ]
  },
  {
   "cell_type": "code",
   "execution_count": null,
   "metadata": {},
   "outputs": [],
   "source": [
    "pathlist = Path('Ball_change/Split').glob('**/*.wav')\n",
    "for path in pathlist:\n",
    "    path_col.append(path)"
   ]
  },
  {
   "cell_type": "code",
   "execution_count": null,
   "metadata": {},
   "outputs": [],
   "source": [
    "pathlist = Path('Combi/Chunks').glob('**/*.wav')\n",
    "for path in pathlist:\n",
    "    path_col.append(path)\n",
    "    path_col.sort(key=str)"
   ]
  },
  {
   "cell_type": "code",
   "execution_count": null,
   "metadata": {},
   "outputs": [],
   "source": [
    "tap = pd.DataFrame({'Path':path_col})"
   ]
  },
  {
   "cell_type": "markdown",
   "metadata": {},
   "source": [
    "Set all clips to 'mono': **handled when initial wav files are loaded**"
   ]
  },
  {
   "cell_type": "markdown",
   "metadata": {},
   "source": [
    "Pimp out DataFrame with other relevant details\n",
    "<br/> Single line loops 'cause I'm a *gangsta*!"
   ]
  },
  {
   "cell_type": "code",
   "execution_count": null,
   "metadata": {},
   "outputs": [],
   "source": [
    "# 1 for shuffle, 0 for ball change\n",
    "tap['Label'] = [0,0,0,1,0,1,0,1,0,0,0,1,1,1,1,0,0,0,0,1,0,1,0,1,0,0,0,1,1,1,1,0,0,0,0,1,0,1,1,1]\n",
    "tap['Length'] = [AudioSegment.from_wav(str(tap.loc[idx, 'Path'])).duration_seconds for idx in range(len(tap))] \n",
    "tap['Channels'] = [AudioSegment.from_wav(str(tap.loc[idx, 'Path'])).channels for idx in range(len(tap))]\n",
    "tap['Sample_rate'] = [AudioSegment.from_wav(str(tap.loc[idx, 'Path'])).frame_rate for idx in range(len(tap))]\n",
    "tap['Bit_depth'] = [AudioSegment.from_wav(str(tap.loc[idx, 'Path'])).sample_width*8 for idx in range(len(tap))]\n",
    "tap['Mean'] = [pd.DataFrame(np.array(AudioSegment.from_wav(str(tap.loc[idx, 'Path'])).get_array_of_samples())).\n",
    "               describe().iloc[1].item() for idx in range(len(tap))]\n",
    "tap['Std'] = [pd.DataFrame(np.array(AudioSegment.from_wav(str(tap.loc[idx, 'Path'])).get_array_of_samples())).\n",
    "               describe().iloc[2].item() for idx in range(len(tap))]\n",
    "tap['Min'] = [pd.DataFrame(np.array(AudioSegment.from_wav(str(tap.loc[idx, 'Path'])).get_array_of_samples())).\n",
    "               describe().iloc[3].item() for idx in range(len(tap))]\n",
    "tap['Q_1'] = [pd.DataFrame(np.array(AudioSegment.from_wav(str(tap.loc[idx, 'Path'])).get_array_of_samples())).\n",
    "               describe().iloc[4].item() for idx in range(len(tap))]\n",
    "tap['Q_2'] = [pd.DataFrame(np.array(AudioSegment.from_wav(str(tap.loc[idx, 'Path'])).get_array_of_samples())).\n",
    "               describe().iloc[5].item() for idx in range(len(tap))]\n",
    "tap['Q_3'] = [pd.DataFrame(np.array(AudioSegment.from_wav(str(tap.loc[idx, 'Path'])).get_array_of_samples())).\n",
    "               describe().iloc[6].item() for idx in range(len(tap))]\n",
    "tap['Max'] = [pd.DataFrame(np.array(AudioSegment.from_wav(str(tap.loc[idx, 'Path'])).get_array_of_samples())).\n",
    "               describe().iloc[7].item() for idx in range(len(tap))]\n"
   ]
  },
  {
   "cell_type": "code",
   "execution_count": null,
   "metadata": {},
   "outputs": [],
   "source": [
    "tap"
   ]
  },
  {
   "cell_type": "markdown",
   "metadata": {},
   "source": [
    "## Quick and dirty test with mini-dataset"
   ]
  },
  {
   "cell_type": "code",
   "execution_count": null,
   "metadata": {},
   "outputs": [],
   "source": [
    "data = tap.iloc[:,6:].values\n",
    "labels = tap['Label']"
   ]
  },
  {
   "cell_type": "code",
   "execution_count": null,
   "metadata": {},
   "outputs": [],
   "source": [
    "from sklearn.linear_model import LogisticRegression\n",
    "from sklearn.model_selection import train_test_split"
   ]
  },
  {
   "cell_type": "code",
   "execution_count": null,
   "metadata": {},
   "outputs": [],
   "source": [
    "X_train, X_test, y_train, y_test = train_test_split(data, labels, test_size=0.33, random_state=42)"
   ]
  },
  {
   "cell_type": "code",
   "execution_count": null,
   "metadata": {},
   "outputs": [],
   "source": [
    "logreg = LogisticRegression()\n",
    "logreg.fit(X_train,y_train)"
   ]
  },
  {
   "cell_type": "code",
   "execution_count": null,
   "metadata": {},
   "outputs": [],
   "source": [
    "predict = logreg.predict(X_test)\n",
    "proba = logreg.predict_proba(X_test)"
   ]
  },
  {
   "cell_type": "code",
   "execution_count": null,
   "metadata": {},
   "outputs": [],
   "source": [
    "results = pd.DataFrame()\n",
    "results['Predict'] = predict\n",
    "results['True'] = y_test.values\n",
    "results['Prob_0'] = proba[:,0]"
   ]
  },
  {
   "cell_type": "code",
   "execution_count": null,
   "metadata": {},
   "outputs": [],
   "source": [
    "results"
   ]
  },
  {
   "cell_type": "code",
   "execution_count": null,
   "metadata": {},
   "outputs": [],
   "source": [
    "print('Accuracy score: ' + str(accuracy_score(y_test, predict)))"
   ]
  },
  {
   "cell_type": "code",
   "execution_count": null,
   "metadata": {},
   "outputs": [],
   "source": []
  },
  {
   "cell_type": "code",
   "execution_count": null,
   "metadata": {},
   "outputs": [],
   "source": []
  },
  {
   "cell_type": "code",
   "execution_count": null,
   "metadata": {},
   "outputs": [],
   "source": []
  },
  {
   "cell_type": "code",
   "execution_count": null,
   "metadata": {},
   "outputs": [],
   "source": []
  },
  {
   "cell_type": "code",
   "execution_count": null,
   "metadata": {},
   "outputs": [],
   "source": []
  },
  {
   "cell_type": "code",
   "execution_count": null,
   "metadata": {},
   "outputs": [],
   "source": []
  },
  {
   "cell_type": "code",
   "execution_count": null,
   "metadata": {},
   "outputs": [],
   "source": []
  },
  {
   "cell_type": "code",
   "execution_count": null,
   "metadata": {},
   "outputs": [],
   "source": []
  },
  {
   "cell_type": "code",
   "execution_count": null,
   "metadata": {},
   "outputs": [],
   "source": []
  },
  {
   "cell_type": "code",
   "execution_count": null,
   "metadata": {},
   "outputs": [],
   "source": []
  },
  {
   "cell_type": "code",
   "execution_count": null,
   "metadata": {},
   "outputs": [],
   "source": []
  },
  {
   "cell_type": "code",
   "execution_count": null,
   "metadata": {},
   "outputs": [],
   "source": []
  },
  {
   "cell_type": "code",
   "execution_count": null,
   "metadata": {},
   "outputs": [],
   "source": []
  },
  {
   "cell_type": "markdown",
   "metadata": {},
   "source": [
    "## Stolen code to test out"
   ]
  },
  {
   "cell_type": "code",
   "execution_count": null,
   "metadata": {},
   "outputs": [],
   "source": [
    "import glob\n",
    "import os\n",
    "import librosa\n",
    "import numpy as np\n",
    "import matplotlib.pyplot as plt\n",
    "#import tensorflow as tf\n",
    "from matplotlib.pyplot import specgram\n",
    "%matplotlib inline\n",
    "\n",
    "def load_sound_files(file_paths):\n",
    "    raw_sounds = []\n",
    "    for fp in file_paths:\n",
    "        X,sr = librosa.load(fp)\n",
    "        raw_sounds.append(X)\n",
    "    return raw_sounds\n",
    "\n",
    "def plot_waves(sound_names,raw_sounds):\n",
    "    i = 1\n",
    "    fig = plt.figure(figsize=(25,60), dpi = 900)\n",
    "    for n,f in zip(sound_names,raw_sounds):\n",
    "        plt.subplot(10,1,i)\n",
    "        librosa.display.waveplot(np.array(f),sr=22050)\n",
    "        plt.title(n.title())\n",
    "        i += 1\n",
    "    plt.suptitle(\"Figure 1: Waveplot\",x=0.5, y=0.915,fontsize=18)\n",
    "    plt.show()\n",
    "    \n",
    "def plot_specgram(sound_names,raw_sounds):\n",
    "    i = 1\n",
    "    fig = plt.figure(figsize=(25,60), dpi = 900)\n",
    "    for n,f in zip(sound_names,raw_sounds):\n",
    "        plt.subplot(10,1,i)\n",
    "        specgram(np.array(f), Fs=22050)\n",
    "        plt.title(n.title())\n",
    "        i += 1\n",
    "    plt.suptitle(\"Figure 2: Spectrogram\",x=0.5, y=0.915,fontsize=18)\n",
    "    plt.show()\n",
    "\n",
    "def plot_log_power_specgram(sound_names,raw_sounds):\n",
    "    i = 1\n",
    "    fig = plt.figure(figsize=(25,60), dpi = 900)\n",
    "    for n,f in zip(sound_names,raw_sounds):\n",
    "        plt.subplot(10,1,i)\n",
    "        D = librosa.logamplitude(np.abs(librosa.stft(f))**2, ref_power=np.max)\n",
    "        librosa.display.specshow(D,x_axis='time' ,y_axis='log')\n",
    "        plt.title(n.title())\n",
    "        i += 1\n",
    "    plt.suptitle(\"Figure 3: Log power spectrogram\",x=0.5, y=0.915,fontsize=18)\n",
    "    plt.show()\n",
    "\n",
    "sound_file_paths = ['../../Source/Shuffle/1/1.wav', '../../Source/Normal/Shuffle/1/1.wav']\n",
    "\n",
    "sound_names = ['Shuffle as is', 'Shuffle normalized']\n",
    "\n",
    "raw_sounds = load_sound_files(sound_file_paths)\n",
    "\n",
    "plot_waves(sound_names,raw_sounds)\n",
    "plot_specgram(sound_names,raw_sounds)\n",
    "plot_log_power_specgram(sound_names,raw_sounds)"
   ]
  },
  {
   "cell_type": "code",
   "execution_count": null,
   "metadata": {},
   "outputs": [],
   "source": []
  }
 ],
 "metadata": {
  "kernelspec": {
   "display_name": "Python 3",
   "language": "python",
   "name": "python3"
  },
  "language_info": {
   "codemirror_mode": {
    "name": "ipython",
    "version": 3
   },
   "file_extension": ".py",
   "mimetype": "text/x-python",
   "name": "python",
   "nbconvert_exporter": "python",
   "pygments_lexer": "ipython3",
   "version": "3.6.5"
  }
 },
 "nbformat": 4,
 "nbformat_minor": 2
}
