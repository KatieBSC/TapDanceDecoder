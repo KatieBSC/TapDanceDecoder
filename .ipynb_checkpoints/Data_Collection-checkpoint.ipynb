{
 "cells": [
  {
   "cell_type": "markdown",
   "metadata": {},
   "source": [
    "## Data Collection / Preprocessing"
   ]
  },
  {
   "cell_type": "code",
   "execution_count": 192,
   "metadata": {},
   "outputs": [],
   "source": [
    "from scipy.io import wavfile as wav\n",
    "from scipy.io.wavfile import read, write\n",
    "import matplotlib.pyplot as plt\n",
    "import pandas as pd\n",
    "import numpy as np\n",
    "from pydub import AudioSegment, effects\n",
    "from pydub.silence import split_on_silence, detect_nonsilent, detect_silence\n",
    "from scipy.signal import argrelextrema, find_peaks, peak_prominences, find_peaks_cwt, normalize\n",
    "from sklearn.metrics import accuracy_score"
   ]
  },
  {
   "cell_type": "code",
   "execution_count": 2,
   "metadata": {},
   "outputs": [],
   "source": [
    "## CURRENTLY UNUSED FUNCTIONS!!!!!!!!!!!!!!!\n",
    "\n",
    "def build_list(artist, clip_number, length):\n",
    "    i = 1\n",
    "    artist_list = []\n",
    "    while i <= length :\n",
    "        name = artist + \"/\" + str(clip_number) + \"/\" +str(i) + \".wav\"\n",
    "        artist_list.append(name)\n",
    "        i += 1\n",
    "    return artist_list\n",
    "\n",
    "def split_silence_chunks(wavfile, silence_length, threshold, file_names_list):\n",
    "    sound_file = AudioSegment.from_wav(wavfile)\n",
    "    audio_chunks = split_on_silence(sound_file, \n",
    "                        min_silence_len=silence_length,\n",
    "                        silence_thresh=threshold)\n",
    "    for i in range (len(audio_chunks)) :\n",
    "        chunk = audio_chunks[i]\n",
    "        chunk.export(file_names_list[i], format='wav')\n",
    "    print(\"Exported \" + str(len(audio_chunks)) + \" files\")\n",
    "\n",
    "def get_wav_mp3(mp3_file, wav_name):\n",
    "    song = AudioSegment.from_mp3(mp3_file)\n",
    "    new_song = song.export(wav_name, format=\"wav\")\n",
    "    #print(\"Exported file as: \" + wav_name)\n",
    "    return new_song\n",
    "   "
   ]
  },
  {
   "cell_type": "code",
   "execution_count": 190,
   "metadata": {},
   "outputs": [],
   "source": [
    "def get_wav_mp4(mp4_file, wav_name):\n",
    "    song = AudioSegment.from_file(mp4_file, \"mp4\")\n",
    "    new_song = song.export(wav_name, format=\"wav\")\n",
    "    return new_song\n",
    "\n",
    "def detect_leading_silence(sound):\n",
    "    '''I am still trying to figure out the best values for these silence criteria'''\n",
    "    chunk_size = 10\n",
    "    silence_threshold = -20\n",
    "    trim_ms = 0 \n",
    "\n",
    "    assert chunk_size > 0 # to avoid infinite loop\n",
    "    while sound[trim_ms:trim_ms+chunk_size].dBFS < silence_threshold and trim_ms < len(sound):\n",
    "        trim_ms += chunk_size\n",
    "\n",
    "    return trim_ms\n",
    "\n",
    "def set_target_amplitude(sound, target_dBFS = -30):\n",
    "    change_in_dBFS = target_dBFS - sound.dBFS\n",
    "    return sound.apply_gain(change_in_dBFS)\n"
   ]
  },
  {
   "cell_type": "markdown",
   "metadata": {},
   "source": [
    "## Shuffle"
   ]
  },
  {
   "cell_type": "markdown",
   "metadata": {},
   "source": [
    " **1** (Source : https://www.youtube.com/watch?v=aJa3DYnAjqU )"
   ]
  },
  {
   "cell_type": "markdown",
   "metadata": {},
   "source": [
    "** Step 1:** Save file as wav"
   ]
  },
  {
   "cell_type": "code",
   "execution_count": 4,
   "metadata": {},
   "outputs": [],
   "source": [
    "get_wav_mp4('../../Source/Uncut/Shuffle_1.mp4', '../../Source/Uncut/Shuffle_1.wav');"
   ]
  },
  {
   "cell_type": "markdown",
   "metadata": {},
   "source": [
    "**Step 2:** Manually extract the relevant clip. Set channel to 1 (mono). <br/>\n",
    "**Step 2.5**: Set target amplitude (target_dBFS = -30)<br/>\n",
    "**Step 2.5.5**: Normalize???? (Is this redundant? Check out pydub source code)"
   ]
  },
  {
   "cell_type": "code",
   "execution_count": 5,
   "metadata": {},
   "outputs": [],
   "source": [
    "song = AudioSegment.from_wav('../../Source/Uncut/Shuffle_1.wav')\n",
    "song = song.set_channels(1)\n",
    "song = set_target_amplitude(song)\n",
    "song = song.normalize()\n",
    "start = 30 * 1000\n",
    "end = 34 * 1000\n",
    "three_shuffles = song[start:end]"
   ]
  },
  {
   "cell_type": "markdown",
   "metadata": {},
   "source": [
    "**Step 3:** Split up the audio into its components. This could also be done with split on silence. Split on time needs to be fixed. (Index error)"
   ]
  },
  {
   "cell_type": "code",
   "execution_count": 6,
   "metadata": {},
   "outputs": [],
   "source": [
    "shuffle_1 = three_shuffles[:(three_shuffles.duration_seconds/3)*1000]\n",
    "shuffle_2 = three_shuffles[(three_shuffles.duration_seconds/3)*1000:(three_shuffles.duration_seconds/3)*2000]\n",
    "shuffle_3 = three_shuffles[(three_shuffles.duration_seconds/3)*2000:]"
   ]
  },
  {
   "cell_type": "markdown",
   "metadata": {},
   "source": [
    "**Step 4:** Cut the intro/outro silence from the clips. Save and export as wav files"
   ]
  },
  {
   "cell_type": "code",
   "execution_count": 7,
   "metadata": {},
   "outputs": [],
   "source": [
    "path_list = [shuffle_1, shuffle_2, shuffle_3]\n",
    "for i in path_list:\n",
    "    sound = i\n",
    "#    start_trim = detect_leading_silence(sound)\n",
    "#    end_trim = detect_leading_silence(sound.reverse())\n",
    "#    duration = len(sound)    \n",
    "#    trimmed_sound = sound[start_trim:duration-end_trim]\n",
    "    trimmed_sound = sound\n",
    "    trimmed_sound.export('../../Source/Shuffle/1/'+ str(path_list.index(i)+1)+ '.wav', format='wav')"
   ]
  },
  {
   "cell_type": "markdown",
   "metadata": {},
   "source": [
    " **2** (Source: https://en.wikipedia.org/wiki/Tap_dance_technique )"
   ]
  },
  {
   "cell_type": "code",
   "execution_count": 8,
   "metadata": {},
   "outputs": [],
   "source": [
    "full_clip = AudioSegment.from_file('../../Source/Uncut/Tap_Dance_Technique_2.webm', \"webm\")\n",
    "full_clip.export('../../Source/Uncut/Tap_Dance_Technique_2.wav', format=\"wav\");"
   ]
  },
  {
   "cell_type": "code",
   "execution_count": 9,
   "metadata": {},
   "outputs": [],
   "source": [
    "song = AudioSegment.from_wav('../../Source/Uncut/Tap_Dance_Technique_2.wav')\n",
    "song = song.set_channels(1)\n",
    "song = set_target_amplitude(song)\n",
    "song = song.normalize()\n",
    "# I during feature extraction that this clip has a frame_width of 4 instead of 2\n",
    "song = song.set_sample_width(2)\n",
    "start = 7.5 * 1000\n",
    "end = 9 * 1000\n",
    "shuffle = song[start:end]"
   ]
  },
  {
   "cell_type": "code",
   "execution_count": 10,
   "metadata": {},
   "outputs": [],
   "source": [
    "path_list = [shuffle]\n",
    "for i in path_list:\n",
    "    sound = i\n",
    "#    start_trim = detect_leading_silence(sound)\n",
    "#    end_trim = detect_leading_silence(sound.reverse())\n",
    "#    duration = len(sound)    \n",
    "#    trimmed_sound = sound[start_trim:duration-end_trim]\n",
    "    trimmed_sound = sound\n",
    "    trimmed_sound.export('../../Source/Shuffle/2/'+ str(path_list.index(i)+1)+ '.wav', format='wav')"
   ]
  },
  {
   "cell_type": "markdown",
   "metadata": {},
   "source": [
    " **3** (Source: https://www.youtube.com/watch?v=dYCtgIm43Rk )"
   ]
  },
  {
   "cell_type": "code",
   "execution_count": 11,
   "metadata": {},
   "outputs": [],
   "source": [
    "get_wav_mp4('../../Source/Uncut/Shuffleballchange_3.mp4', '../../Source/Uncut/Shuffle_Ball_Change_3.wav');"
   ]
  },
  {
   "cell_type": "code",
   "execution_count": 12,
   "metadata": {},
   "outputs": [],
   "source": [
    "song = AudioSegment.from_wav('../../Source/Uncut/Shuffle_Ball_Change_3.wav')\n",
    "song = song.set_channels(1)\n",
    "song = set_target_amplitude(song)\n",
    "song = song.normalize()\n",
    "start = 15 * 1000\n",
    "end = 16 * 1000\n",
    "shuffle = song[start:end]"
   ]
  },
  {
   "cell_type": "code",
   "execution_count": 13,
   "metadata": {},
   "outputs": [],
   "source": [
    "path_list = [shuffle]\n",
    "for i in path_list:\n",
    "    sound = i\n",
    "#    start_trim = detect_leading_silence(sound)\n",
    "#    end_trim = detect_leading_silence(sound.reverse())\n",
    "#    duration = len(sound)    \n",
    "#    trimmed_sound = sound[start_trim:duration-end_trim]\n",
    "    trimmed_sound = sound\n",
    "    trimmed_sound.export('../../Source/Shuffle/3/'+ str(path_list.index(i)+1)+ '.wav', format='wav')"
   ]
  },
  {
   "cell_type": "markdown",
   "metadata": {},
   "source": [
    "**4** (Source: https://www.youtube.com/watch?v=Xbamib_k874 )"
   ]
  },
  {
   "cell_type": "code",
   "execution_count": 14,
   "metadata": {},
   "outputs": [],
   "source": [
    "get_wav_mp4('../../Source/Uncut/Shuffle_Ball_Change_4.mp4', '../../Source/Uncut/Shuffle_Ball_Change_4.wav');"
   ]
  },
  {
   "cell_type": "code",
   "execution_count": 15,
   "metadata": {},
   "outputs": [],
   "source": [
    "song = AudioSegment.from_wav('../../Source/Uncut/Shuffle_Ball_Change_4.wav')\n",
    "song = song.set_channels(1)\n",
    "song = set_target_amplitude(song)\n",
    "song = song.normalize()\n",
    "start = 29.5 * 1000\n",
    "end = 33 * 1000\n",
    "shuffle_bc_2x = song[start:end]"
   ]
  },
  {
   "cell_type": "code",
   "execution_count": 16,
   "metadata": {},
   "outputs": [],
   "source": [
    "shuffle_1 = shuffle_bc_2x[0:975]\n",
    "shuffle_2 = shuffle_bc_2x[2000:2800]"
   ]
  },
  {
   "cell_type": "code",
   "execution_count": 17,
   "metadata": {},
   "outputs": [],
   "source": [
    "path_list = [shuffle_1, shuffle_2]\n",
    "for i in path_list:\n",
    "    sound = i\n",
    "#    start_trim = detect_leading_silence(sound)\n",
    "#    end_trim = detect_leading_silence(sound.reverse())\n",
    "#    duration = len(sound)    \n",
    "#    trimmed_sound = sound[start_trim:duration-end_trim]\n",
    "    trimmed_sound = sound\n",
    "    trimmed_sound.export('../../Source/Shuffle/4/'+ str(path_list.index(i)+1)+ '.wav', format='wav')"
   ]
  },
  {
   "cell_type": "code",
   "execution_count": null,
   "metadata": {},
   "outputs": [],
   "source": []
  },
  {
   "cell_type": "code",
   "execution_count": null,
   "metadata": {},
   "outputs": [],
   "source": [
    "\n"
   ]
  },
  {
   "cell_type": "code",
   "execution_count": null,
   "metadata": {},
   "outputs": [],
   "source": []
  },
  {
   "cell_type": "code",
   "execution_count": null,
   "metadata": {},
   "outputs": [],
   "source": []
  },
  {
   "cell_type": "code",
   "execution_count": null,
   "metadata": {},
   "outputs": [],
   "source": []
  },
  {
   "cell_type": "code",
   "execution_count": null,
   "metadata": {},
   "outputs": [],
   "source": []
  },
  {
   "cell_type": "code",
   "execution_count": null,
   "metadata": {},
   "outputs": [],
   "source": []
  },
  {
   "cell_type": "code",
   "execution_count": null,
   "metadata": {},
   "outputs": [],
   "source": []
  },
  {
   "cell_type": "code",
   "execution_count": null,
   "metadata": {},
   "outputs": [],
   "source": []
  },
  {
   "cell_type": "code",
   "execution_count": null,
   "metadata": {},
   "outputs": [],
   "source": []
  },
  {
   "cell_type": "code",
   "execution_count": null,
   "metadata": {},
   "outputs": [],
   "source": []
  },
  {
   "cell_type": "markdown",
   "metadata": {},
   "source": [
    "## Ball change"
   ]
  },
  {
   "cell_type": "markdown",
   "metadata": {},
   "source": [
    "**1** (Source: https://www.youtube.com/watch?v=hi0wkLqPGR0 )"
   ]
  },
  {
   "cell_type": "code",
   "execution_count": 18,
   "metadata": {},
   "outputs": [],
   "source": [
    "get_wav_mp4('../../Source/Uncut/Ball_change_1.mp4', '../../Source/Uncut/Ball_change_1.wav');"
   ]
  },
  {
   "cell_type": "code",
   "execution_count": 19,
   "metadata": {},
   "outputs": [],
   "source": [
    "song = AudioSegment.from_wav('../../Source/Uncut/Ball_change_1.wav')\n",
    "song = song.set_channels(1)\n",
    "song = set_target_amplitude(song)\n",
    "song = song.normalize()\n",
    "start = 48.5 * 1000\n",
    "end = 52 * 1000\n",
    "three_ball_changes = song[start:end]"
   ]
  },
  {
   "cell_type": "code",
   "execution_count": 20,
   "metadata": {},
   "outputs": [],
   "source": [
    "ball_change_1 = three_ball_changes[:(three_ball_changes.duration_seconds/3)*1000]\n",
    "ball_change_2 = three_ball_changes[(three_ball_changes.duration_seconds/3)*1000:(three_ball_changes.duration_seconds/3)*2000]\n",
    "ball_change_3 = three_ball_changes[(three_ball_changes.duration_seconds/3)*2000:]"
   ]
  },
  {
   "cell_type": "code",
   "execution_count": 21,
   "metadata": {},
   "outputs": [],
   "source": [
    "path_list = [ball_change_1, ball_change_2, ball_change_3]\n",
    "for i in path_list:\n",
    "    sound = i\n",
    "#    start_trim = detect_leading_silence(sound)\n",
    "#    end_trim = detect_leading_silence(sound.reverse())\n",
    "#    duration = len(sound)    \n",
    "#    trimmed_sound = sound[start_trim:duration-end_trim]\n",
    "    trimmed_sound = sound\n",
    "    trimmed_sound.export('../../Source/Ball_change/1/'+ str(path_list.index(i)+1)+ '.wav', format='wav')"
   ]
  },
  {
   "cell_type": "markdown",
   "metadata": {},
   "source": [
    " **2** (Source: https://en.wikipedia.org/wiki/Tap_dance_technique )"
   ]
  },
  {
   "cell_type": "code",
   "execution_count": 22,
   "metadata": {},
   "outputs": [],
   "source": [
    "song = AudioSegment.from_wav('../../Source/Uncut/Tap_Dance_Technique_2.wav')\n",
    "song = song.set_channels(1)\n",
    "song = set_target_amplitude(song)\n",
    "song = song.normalize()\n",
    "# I during feature extraction that this clip has a frame_width of 4 instead of 2\n",
    "song = song.set_sample_width(2)\n",
    "start = 28 * 1000\n",
    "end = 29.5 * 1000\n",
    "ball_change = song[start:end]"
   ]
  },
  {
   "cell_type": "code",
   "execution_count": 23,
   "metadata": {},
   "outputs": [
    {
     "data": {
      "text/plain": [
       "<_io.BufferedRandom name='../../Source/Ball_change/2/1.wav'>"
      ]
     },
     "execution_count": 23,
     "metadata": {},
     "output_type": "execute_result"
    }
   ],
   "source": [
    "path_list = [ball_change]\n",
    "for i in path_list:\n",
    "    sound = i\n",
    "#    start_trim = detect_leading_silence(sound)\n",
    "#    end_trim = detect_leading_silence(sound.reverse())\n",
    "#    duration = len(sound)    \n",
    "#    trimmed_sound = sound[start_trim:duration-end_trim]\n",
    "    trimmed_sound = sound\n",
    "trimmed_sound.export('../../Source/Ball_change/2/'+ str(path_list.index(i)+1)+ '.wav', format='wav')"
   ]
  },
  {
   "cell_type": "markdown",
   "metadata": {},
   "source": [
    " **3** (Source: https://www.youtube.com/watch?v=dYCtgIm43Rk )"
   ]
  },
  {
   "cell_type": "code",
   "execution_count": 24,
   "metadata": {},
   "outputs": [],
   "source": [
    "song = AudioSegment.from_wav('../../Source/Uncut/Shuffle_Ball_Change_3.wav')\n",
    "song = song.set_channels(1)\n",
    "song = set_target_amplitude(song)\n",
    "song = song.normalize()\n",
    "start = 3.5 * 1000\n",
    "end = 3.9 * 1000\n",
    "ball_change = song[start:end]"
   ]
  },
  {
   "cell_type": "code",
   "execution_count": 25,
   "metadata": {},
   "outputs": [],
   "source": [
    "path_list = [ball_change]\n",
    "for i in path_list:\n",
    "    sound = i\n",
    "#    start_trim = detect_leading_silence(sound)\n",
    "#    end_trim = detect_leading_silence(sound.reverse())\n",
    "#    duration = len(sound)    \n",
    "#    trimmed_sound = sound[start_trim:duration-end_trim]\n",
    "    trimmed_sound = sound\n",
    "    trimmed_sound.export('../../Source/Ball_change/3/'+ str(path_list.index(i)+1)+ '.wav', format='wav')"
   ]
  },
  {
   "cell_type": "markdown",
   "metadata": {},
   "source": [
    "**4** (Source: https://www.youtube.com/watch?v=Xbamib_k874)"
   ]
  },
  {
   "cell_type": "code",
   "execution_count": 26,
   "metadata": {},
   "outputs": [],
   "source": [
    "song = AudioSegment.from_wav('../../Source/Uncut/Shuffle_Ball_Change_4.wav')\n",
    "song = song.set_channels(1)\n",
    "song = set_target_amplitude(song)\n",
    "song = song.normalize()\n",
    "start = 29.5 * 1000\n",
    "end = 33 * 1000\n",
    "shuffle_bc_2x = song[start:end]"
   ]
  },
  {
   "cell_type": "code",
   "execution_count": 27,
   "metadata": {},
   "outputs": [],
   "source": [
    "ball_change_1 = shuffle_bc_2x[975:2000]\n",
    "ball_change_2 = shuffle_bc_2x[2800:]"
   ]
  },
  {
   "cell_type": "code",
   "execution_count": 60,
   "metadata": {},
   "outputs": [],
   "source": [
    "path_list = [ball_change_1, ball_change_2]\n",
    "for i in path_list:\n",
    "    sound = i\n",
    "#    start_trim = detect_leading_silence(sound)\n",
    "#    end_trim = detect_leading_silence(sound.reverse())\n",
    "#    duration = len(sound)    \n",
    "#    trimmed_sound = sound[start_trim:duration-end_trim]\n",
    "    trimmed_sound = sound\n",
    "    trimmed_sound.export('../../Source/Ball_change/4/'+ str(path_list.index(i)+1)+ '.wav', format='wav')"
   ]
  },
  {
   "cell_type": "code",
   "execution_count": null,
   "metadata": {},
   "outputs": [],
   "source": []
  },
  {
   "cell_type": "code",
   "execution_count": null,
   "metadata": {},
   "outputs": [],
   "source": []
  },
  {
   "cell_type": "markdown",
   "metadata": {},
   "source": [
    "## Normalization of audio files (HOPEFULLY)"
   ]
  },
  {
   "cell_type": "code",
   "execution_count": 414,
   "metadata": {},
   "outputs": [],
   "source": [
    "def match_target_amplitude(sound, target_dBFS):\n",
    "    change_in_dBFS = target_dBFS - sound.dBFS\n",
    "    return sound.apply_gain(change_in_dBFS)"
   ]
  },
  {
   "cell_type": "code",
   "execution_count": 415,
   "metadata": {},
   "outputs": [],
   "source": [
    "file_list = ['Shuffle/1/1', 'Shuffle/1/2', 'Shuffle/1/3', 'Shuffle/2/1', 'Shuffle/3/1', 'Shuffle/4/1', 'Shuffle/4/2',\n",
    "            'Ball_change/1/1', 'Ball_change/1/2', 'Ball_change/1/3', 'Ball_change/2/1', 'Ball_change/3/1', 'Ball_change/4/1', 'Ball_change/4/2'] \n",
    "\n",
    "for i in file_list:  \n",
    "    sound = AudioSegment.from_wav('../../Source/' + i + '.wav')\n",
    "    normalized_sound = match_target_amplitude(sound, -20)\n",
    "    normalized_sound.export(\"../../Source/Normal/\" + i + '.wav', format=\"wav\")"
   ]
  },
  {
   "cell_type": "code",
   "execution_count": 416,
   "metadata": {},
   "outputs": [
    {
     "name": "stdout",
     "output_type": "stream",
     "text": [
      "-35.407502867553205\n",
      "-33.15029340480577\n",
      "-33.99744373270901\n",
      "-30.29164426856982\n",
      "-22.076604579929754\n",
      "-31.01438027812177\n",
      "-32.715614586553286\n",
      "-28.370798439033223\n",
      "-30.026992268801944\n",
      "-29.672753272586945\n",
      "-27.549264044723728\n",
      "-22.969339179637338\n",
      "-28.864000746924063\n",
      "-28.32920591117081\n",
      "-20.074004472294703\n",
      "-20.039319565109217\n",
      "-20.04464669783558\n",
      "-21.26406720878561\n",
      "-20.00212083742674\n",
      "-19.99417036580705\n",
      "-20.039319565109217\n",
      "-20.041982723075215\n",
      "-20.036657223436862\n",
      "-20.039319565109217\n",
      "-20.127637798851126\n",
      "-20.007425197675907\n",
      "-19.996819714504753\n",
      "-19.99417036580705\n"
     ]
    }
   ],
   "source": [
    "for i in file_list:  \n",
    "    sound = AudioSegment.from_wav('../../Source/' + i + '.wav')\n",
    "    print(sound.dBFS)\n",
    "for i in file_list:  \n",
    "    sound = AudioSegment.from_wav('../../Source/Normal/' + i + '.wav')\n",
    "    print(sound.dBFS)"
   ]
  },
  {
   "cell_type": "code",
   "execution_count": null,
   "metadata": {},
   "outputs": [],
   "source": []
  },
  {
   "cell_type": "code",
   "execution_count": null,
   "metadata": {},
   "outputs": [],
   "source": []
  },
  {
   "cell_type": "code",
   "execution_count": null,
   "metadata": {},
   "outputs": [],
   "source": []
  },
  {
   "cell_type": "code",
   "execution_count": null,
   "metadata": {},
   "outputs": [],
   "source": []
  },
  {
   "cell_type": "code",
   "execution_count": null,
   "metadata": {},
   "outputs": [],
   "source": []
  },
  {
   "cell_type": "code",
   "execution_count": null,
   "metadata": {},
   "outputs": [],
   "source": []
  },
  {
   "cell_type": "code",
   "execution_count": null,
   "metadata": {},
   "outputs": [],
   "source": []
  },
  {
   "cell_type": "markdown",
   "metadata": {},
   "source": [
    "## Cutting out silence"
   ]
  },
  {
   "cell_type": "code",
   "execution_count": 115,
   "metadata": {},
   "outputs": [],
   "source": [
    "# file_list = ['Shuffle/1/1', 'Shuffle/1/2', 'Shuffle/1/3', 'Shuffle/2/1', 'Shuffle/3/1', 'Shuffle/4/1', 'Shuffle/4/2',\n",
    "#             'Ball_change/1/1', 'Ball_change/1/2', 'Ball_change/1/3', 'Ball_change/2/1', 'Ball_change/3/1', 'Ball_change/4/1', 'Ball_change/4/2']\n",
    "# \n",
    "# for i in file_list:\n",
    "#     samplingFrequency, signalData = wav.read('../../Source/' + i + '.wav')\n",
    "#     signalData_normed = normalize(signalData, samplingFrequency) # Am I using this correctly?!?!?!?!\n",
    "#     signalData_normed = signalData_normed[0]\n",
    "#     wav.write('../../Source/Normal/' + i + '.wav', rate, signalData_normed)\n",
    "#     "
   ]
  },
  {
   "cell_type": "code",
   "execution_count": 358,
   "metadata": {},
   "outputs": [
    {
     "name": "stdout",
     "output_type": "stream",
     "text": [
      "Shuffle/1/1\n",
      "-20.074004472294703\n",
      "1.3333333333333333\n",
      "0.0\n",
      "Shuffle/1/2\n",
      "-20.039319565109217\n",
      "1.3333333333333333\n",
      "0.0\n",
      "Shuffle/1/3\n",
      "-20.04464669783558\n",
      "1.3333333333333333\n",
      "0.0\n",
      "Shuffle/2/1\n",
      "-21.26406720878561\n",
      "1.5\n",
      "0.0\n",
      "Shuffle/3/1\n",
      "-20.00212083742674\n",
      "1.0\n",
      "0.0\n",
      "Shuffle/4/1\n",
      "-19.99417036580705\n",
      "0.9749886621315192\n",
      "0.9749886621315192\n",
      "Shuffle/4/2\n",
      "-20.039319565109217\n",
      "0.8\n",
      "0.8\n",
      "Ball_change/1/1\n",
      "-20.041982723075215\n",
      "1.1666666666666667\n",
      "0.0\n",
      "Ball_change/1/2\n",
      "-20.036657223436862\n",
      "1.1666666666666667\n",
      "0.0\n",
      "Ball_change/1/3\n",
      "-20.039319565109217\n",
      "1.1666666666666667\n",
      "0.0\n",
      "Ball_change/2/1\n",
      "-20.127637798851126\n",
      "1.5\n",
      "0.0\n",
      "Ball_change/3/1\n",
      "-20.007425197675907\n",
      "0.4\n",
      "0.4\n",
      "Ball_change/4/1\n",
      "-19.996819714504753\n",
      "1.0250113378684806\n",
      "0.0\n",
      "Ball_change/4/2\n",
      "-19.99417036580705\n",
      "0.7\n",
      "0.7\n"
     ]
    }
   ],
   "source": [
    "#def detect_silence(audio_segment, min_silence_len=1000, silence_thresh=-16, seek_step=1):\n",
    "\n",
    "file_list = ['Shuffle/1/1', 'Shuffle/1/2', 'Shuffle/1/3', 'Shuffle/2/1', 'Shuffle/3/1', 'Shuffle/4/1', 'Shuffle/4/2',\n",
    "            'Ball_change/1/1', 'Ball_change/1/2', 'Ball_change/1/3', 'Ball_change/2/1', 'Ball_change/3/1', 'Ball_change/4/1', 'Ball_change/4/2']\n",
    "\n",
    "\n",
    "for i in file_list:\n",
    "    song = AudioSegment.from_wav('../../Source/Normal/' + i + '.wav')\n",
    "    print (i)\n",
    "    print (song.dBFS)\n",
    "    print (song.duration_seconds)\n",
    "    new_song = song.strip_silence(silence_thresh=-16)\n",
    "    print(new_song.duration_seconds)\n",
    "    new_song\n",
    "    #print (detect_leading_silence(song))"
   ]
  },
  {
   "cell_type": "code",
   "execution_count": 351,
   "metadata": {},
   "outputs": [
    {
     "data": {
      "text/html": [
       "\n",
       "                    <audio controls>\n",
       "                        <source src=\"data:audio/mpeg;base64,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\" type=\"audio/mpeg\"/>\n",
       "                        Your browser does not support the audio element.\n",
       "                    </audio>\n",
       "                  "
      ],
      "text/plain": [
       "<pydub.audio_segment.AudioSegment at 0x1c1dc52cf8>"
      ]
     },
     "execution_count": 351,
     "metadata": {},
     "output_type": "execute_result"
    }
   ],
   "source": [
    "song = AudioSegment.from_wav('../../Source/Normal/Ball_change/1/2.wav')\n",
    "new_song = song[:700]\n",
    "new_song\n",
    "#new_song.export('../../Source/Nonsilent/Ball_change/1/2.wav', format='wav')"
   ]
  },
  {
   "cell_type": "markdown",
   "metadata": {},
   "source": [
    "## Finding the two f**king peaks... FML ... I need a new project"
   ]
  },
  {
   "cell_type": "markdown",
   "metadata": {},
   "source": [
    "### Doing this by hand because I am insane"
   ]
  },
  {
   "cell_type": "code",
   "execution_count": 439,
   "metadata": {},
   "outputs": [],
   "source": [
    "first_wave_amp_list, second_wave_amp_list = [], []\n",
    "first_wave_idx_list, second_wave_idx_list = [], []"
   ]
  },
  {
   "cell_type": "code",
   "execution_count": 494,
   "metadata": {},
   "outputs": [
    {
     "data": {
      "text/plain": [
       "[<matplotlib.lines.Line2D at 0x1c3fe1ed68>]"
      ]
     },
     "execution_count": 494,
     "metadata": {},
     "output_type": "execute_result"
    },
    {
     "data": {
      "image/png": "[encoded data removed]",
      "text/plain": [
       "<Figure size 432x288 with 1 Axes>"
      ]
     },
     "metadata": {},
     "output_type": "display_data"
    }
   ],
   "source": [
    "song = AudioSegment.from_wav('../../Source/Normal/Ball_change/4/2.wav')\n",
    "plt.plot(np.array(song.get_array_of_samples()))\n",
    "part1 = song[:song.duration_seconds/2*1000]\n",
    "part2 = song[song.duration_seconds/2*1000:]\n",
    "plt.plot(np.array(part1.get_array_of_samples()))"
   ]
  },
  {
   "cell_type": "code",
   "execution_count": 495,
   "metadata": {},
   "outputs": [
    {
     "name": "stdout",
     "output_type": "stream",
     "text": [
      "19770 24375\n",
      "448 20623\n"
     ]
    }
   ],
   "source": [
    "first_wave_amp = np.array(part1.get_array_of_samples()).max()\n",
    "second_wave_amp = np.array(part2.get_array_of_samples()).max()\n",
    "first_wave_idx = np.array(part1.get_array_of_samples()).argmax()\n",
    "second_wave_idx = np.array(part2.get_array_of_samples()).argmax()+ len(part1.get_array_of_samples())\n",
    "print (first_wave_amp, second_wave_amp)\n",
    "print(first_wave_idx, second_wave_idx)"
   ]
  },
  {
   "cell_type": "code",
   "execution_count": 496,
   "metadata": {},
   "outputs": [],
   "source": [
    "first_wave_amp_list.append(first_wave_amp)\n",
    "second_wave_amp_list.append(second_wave_amp)\n",
    "first_wave_idx_list.append(first_wave_idx)\n",
    "second_wave_idx_list.append(second_wave_idx)"
   ]
  },
  {
   "cell_type": "markdown",
   "metadata": {},
   "source": [
    "### Export the four lists to csv to use in DataFrame"
   ]
  },
  {
   "cell_type": "code",
   "execution_count": 505,
   "metadata": {},
   "outputs": [],
   "source": [
    "diff_list = []\n",
    "for i in range (len(first_wave_idx_list)):\n",
    "    diff_list.append(second_wave_idx_list[i] - first_wave_idx_list[i])\n",
    "\n",
    "peak_info = pd.DataFrame({'Peak_1':first_wave_amp_list,\n",
    "                          'Peak_2':second_wave_amp_list,\n",
    "                          'Peak_1_idx':first_wave_idx_list,\n",
    "                          'Peak_2_idx':second_wave_idx_list,\n",
    "                          'Peak_dist':diff_list\n",
    "                         })"
   ]
  },
  {
   "cell_type": "code",
   "execution_count": 506,
   "metadata": {},
   "outputs": [
    {
     "data": {
      "text/html": [
       "<div>\n",
       "<style scoped>\n",
       "    .dataframe tbody tr th:only-of-type {\n",
       "        vertical-align: middle;\n",
       "    }\n",
       "\n",
       "    .dataframe tbody tr th {\n",
       "        vertical-align: top;\n",
       "    }\n",
       "\n",
       "    .dataframe thead th {\n",
       "        text-align: right;\n",
       "    }\n",
       "</style>\n",
       "<table border=\"1\" class=\"dataframe\">\n",
       "  <thead>\n",
       "    <tr style=\"text-align: right;\">\n",
       "      <th></th>\n",
       "      <th>Peak_1</th>\n",
       "      <th>Peak_2</th>\n",
       "      <th>Peak_1_idx</th>\n",
       "      <th>Peak_2_idx</th>\n",
       "      <th>Peak_dist</th>\n",
       "    </tr>\n",
       "  </thead>\n",
       "  <tbody>\n",
       "    <tr>\n",
       "      <th>0</th>\n",
       "      <td>32767</td>\n",
       "      <td>32767</td>\n",
       "      <td>16278</td>\n",
       "      <td>26016</td>\n",
       "      <td>9738</td>\n",
       "    </tr>\n",
       "    <tr>\n",
       "      <th>1</th>\n",
       "      <td>32767</td>\n",
       "      <td>32767</td>\n",
       "      <td>17341</td>\n",
       "      <td>29507</td>\n",
       "      <td>12166</td>\n",
       "    </tr>\n",
       "    <tr>\n",
       "      <th>2</th>\n",
       "      <td>32767</td>\n",
       "      <td>32767</td>\n",
       "      <td>15455</td>\n",
       "      <td>30247</td>\n",
       "      <td>14792</td>\n",
       "    </tr>\n",
       "    <tr>\n",
       "      <th>3</th>\n",
       "      <td>32767</td>\n",
       "      <td>32767</td>\n",
       "      <td>7392</td>\n",
       "      <td>17930</td>\n",
       "      <td>10538</td>\n",
       "    </tr>\n",
       "    <tr>\n",
       "      <th>4</th>\n",
       "      <td>29403</td>\n",
       "      <td>29080</td>\n",
       "      <td>179</td>\n",
       "      <td>28424</td>\n",
       "      <td>28245</td>\n",
       "    </tr>\n",
       "    <tr>\n",
       "      <th>5</th>\n",
       "      <td>29125</td>\n",
       "      <td>27785</td>\n",
       "      <td>14674</td>\n",
       "      <td>23830</td>\n",
       "      <td>9156</td>\n",
       "    </tr>\n",
       "    <tr>\n",
       "      <th>6</th>\n",
       "      <td>32767</td>\n",
       "      <td>31129</td>\n",
       "      <td>9086</td>\n",
       "      <td>17849</td>\n",
       "      <td>8763</td>\n",
       "    </tr>\n",
       "    <tr>\n",
       "      <th>7</th>\n",
       "      <td>25438</td>\n",
       "      <td>32767</td>\n",
       "      <td>5732</td>\n",
       "      <td>16867</td>\n",
       "      <td>11135</td>\n",
       "    </tr>\n",
       "    <tr>\n",
       "      <th>8</th>\n",
       "      <td>31638</td>\n",
       "      <td>32767</td>\n",
       "      <td>11724</td>\n",
       "      <td>24586</td>\n",
       "      <td>12862</td>\n",
       "    </tr>\n",
       "    <tr>\n",
       "      <th>9</th>\n",
       "      <td>28943</td>\n",
       "      <td>32767</td>\n",
       "      <td>21934</td>\n",
       "      <td>35041</td>\n",
       "      <td>13107</td>\n",
       "    </tr>\n",
       "    <tr>\n",
       "      <th>10</th>\n",
       "      <td>32767</td>\n",
       "      <td>28909</td>\n",
       "      <td>5380</td>\n",
       "      <td>38456</td>\n",
       "      <td>33076</td>\n",
       "    </tr>\n",
       "    <tr>\n",
       "      <th>11</th>\n",
       "      <td>26880</td>\n",
       "      <td>32767</td>\n",
       "      <td>24</td>\n",
       "      <td>11747</td>\n",
       "      <td>11723</td>\n",
       "    </tr>\n",
       "    <tr>\n",
       "      <th>12</th>\n",
       "      <td>26286</td>\n",
       "      <td>25146</td>\n",
       "      <td>1308</td>\n",
       "      <td>20661</td>\n",
       "      <td>19353</td>\n",
       "    </tr>\n",
       "    <tr>\n",
       "      <th>13</th>\n",
       "      <td>19770</td>\n",
       "      <td>24375</td>\n",
       "      <td>448</td>\n",
       "      <td>20623</td>\n",
       "      <td>20175</td>\n",
       "    </tr>\n",
       "  </tbody>\n",
       "</table>\n",
       "</div>"
      ],
      "text/plain": [
       "    Peak_1  Peak_2  Peak_1_idx  Peak_2_idx  Peak_dist\n",
       "0    32767   32767       16278       26016       9738\n",
       "1    32767   32767       17341       29507      12166\n",
       "2    32767   32767       15455       30247      14792\n",
       "3    32767   32767        7392       17930      10538\n",
       "4    29403   29080         179       28424      28245\n",
       "5    29125   27785       14674       23830       9156\n",
       "6    32767   31129        9086       17849       8763\n",
       "7    25438   32767        5732       16867      11135\n",
       "8    31638   32767       11724       24586      12862\n",
       "9    28943   32767       21934       35041      13107\n",
       "10   32767   28909        5380       38456      33076\n",
       "11   26880   32767          24       11747      11723\n",
       "12   26286   25146        1308       20661      19353\n",
       "13   19770   24375         448       20623      20175"
      ]
     },
     "execution_count": 506,
     "metadata": {},
     "output_type": "execute_result"
    }
   ],
   "source": [
    "peak_info"
   ]
  },
  {
   "cell_type": "code",
   "execution_count": 507,
   "metadata": {},
   "outputs": [],
   "source": [
    "peak_info.to_csv('peak_info.csv')"
   ]
  },
  {
   "cell_type": "code",
   "execution_count": null,
   "metadata": {},
   "outputs": [],
   "source": []
  }
 ],
 "metadata": {
  "kernelspec": {
   "display_name": "Python 3",
   "language": "python",
   "name": "python3"
  },
  "language_info": {
   "codemirror_mode": {
    "name": "ipython",
    "version": 3
   },
   "file_extension": ".py",
   "mimetype": "text/x-python",
   "name": "python",
   "nbconvert_exporter": "python",
   "pygments_lexer": "ipython3",
   "version": "3.6.5"
  }
 },
 "nbformat": 4,
 "nbformat_minor": 2
}
