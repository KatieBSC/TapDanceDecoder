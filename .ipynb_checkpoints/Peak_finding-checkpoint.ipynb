{
 "cells": [
  {
   "cell_type": "markdown",
   "metadata": {},
   "source": [
    "## Peak Finding"
   ]
  },
  {
   "cell_type": "code",
   "execution_count": null,
   "metadata": {},
   "outputs": [],
   "source": []
  },
  {
   "cell_type": "code",
   "execution_count": null,
   "metadata": {},
   "outputs": [],
   "source": []
  },
  {
   "cell_type": "code",
   "execution_count": 91,
   "metadata": {},
   "outputs": [],
   "source": [
    "from scipy.io import wavfile as wav\n",
    "from scipy.io.wavfile import read\n",
    "from pydub import AudioSegment\n",
    "import pandas as pd\n",
    "from scipy.stats import lognorm"
   ]
  },
  {
   "cell_type": "code",
   "execution_count": 33,
   "metadata": {},
   "outputs": [],
   "source": [
    "freq,data = wav.read('../../Source/Normal/Shuffle/1/1.wav')"
   ]
  },
  {
   "cell_type": "code",
   "execution_count": null,
   "metadata": {},
   "outputs": [],
   "source": []
  },
  {
   "cell_type": "code",
   "execution_count": 4,
   "metadata": {},
   "outputs": [
    {
     "data": {
      "text/plain": [
       "<Figure size 640x480 with 1 Axes>"
      ]
     },
     "metadata": {},
     "output_type": "display_data"
    }
   ],
   "source": [
    "import sys\n",
    "from numpy import NaN, Inf, arange, isscalar, asarray, array\n",
    "import matplotlib.pyplot as plt\n",
    "\n",
    "def peakdet(v, delta, x = None):\n",
    "    \"\"\"\n",
    "    Converted from MATLAB script at http://billauer.co.il/peakdet.html\n",
    "    \n",
    "    Returns two arrays\n",
    "    \n",
    "    function [maxtab, mintab]=peakdet(v, delta, x)\n",
    "    %PEAKDET Detect peaks in a vector\n",
    "    %        [MAXTAB, MINTAB] = PEAKDET(V, DELTA) finds the local\n",
    "    %        maxima and minima (\"peaks\") in the vector V.\n",
    "    %        MAXTAB and MINTAB consists of two columns. Column 1\n",
    "    %        contains indices in V, and column 2 the found values.\n",
    "    %      \n",
    "    %        With [MAXTAB, MINTAB] = PEAKDET(V, DELTA, X) the indices\n",
    "    %        in MAXTAB and MINTAB are replaced with the corresponding\n",
    "    %        X-values.\n",
    "    %\n",
    "    %        A point is considered a maximum peak if it has the maximal\n",
    "    %        value, and was preceded (to the left) by a value lower by\n",
    "    %        DELTA.\n",
    "    \n",
    "    % Eli Billauer, 3.4.05 (Explicitly not copyrighted).\n",
    "    % This function is released to the public domain; Any use is allowed.\n",
    "    \n",
    "    \"\"\"\n",
    "    maxtab = []\n",
    "    mintab = []\n",
    "       \n",
    "    if x is None:\n",
    "        x = arange(len(v))\n",
    "    \n",
    "    v = asarray(v)\n",
    "    \n",
    "    if len(v) != len(x):\n",
    "        sys.exit('Input vectors v and x must have same length')\n",
    "    \n",
    "    if not isscalar(delta):\n",
    "        sys.exit('Input argument delta must be a scalar')\n",
    "    \n",
    "    if delta <= 0:\n",
    "        sys.exit('Input argument delta must be positive')\n",
    "    \n",
    "    mn, mx = Inf, -Inf\n",
    "    mnpos, mxpos = NaN, NaN\n",
    "    \n",
    "    lookformax = True\n",
    "    \n",
    "    for i in arange(len(v)):\n",
    "        this = v[i]\n",
    "        if this > mx:\n",
    "            mx = this\n",
    "            mxpos = x[i]\n",
    "        if this < mn:\n",
    "            mn = this\n",
    "            mnpos = x[i]\n",
    "        \n",
    "        if lookformax:\n",
    "            if this < mx-delta:\n",
    "                maxtab.append((mxpos, mx))\n",
    "                mn = this\n",
    "                mnpos = x[i]\n",
    "                lookformax = False\n",
    "        else:\n",
    "            if this > mn+delta:\n",
    "                mintab.append((mnpos, mn))\n",
    "                mx = this\n",
    "                mxpos = x[i]\n",
    "                lookformax = True\n",
    "\n",
    "    return array(maxtab), array(mintab)\n",
    "\n",
    "if __name__==\"__main__\":\n",
    "    from matplotlib.pyplot import plot, scatter, show\n",
    "    #series = [0,0,0,2,0,0,0,-2,0,0,0,2,0,0,0,-2,0]\n",
    "    series = data\n",
    "    maxtab, mintab = peakdet(series,.3)\n",
    "    plot(series)\n",
    "    scatter(array(maxtab)[:,0], array(maxtab)[:,1], color='blue')\n",
    "    scatter(array(mintab)[:,0], array(mintab)[:,1], color='red')\n",
    "    plt.show()"
   ]
  },
  {
   "cell_type": "code",
   "execution_count": 5,
   "metadata": {},
   "outputs": [
    {
     "data": {
      "text/plain": [
       "0"
      ]
     },
     "execution_count": 5,
     "metadata": {},
     "output_type": "execute_result"
    }
   ],
   "source": [
    "maxtab[0,0]"
   ]
  },
  {
   "cell_type": "code",
   "execution_count": 6,
   "metadata": {},
   "outputs": [
    {
     "data": {
      "text/plain": [
       "16278"
      ]
     },
     "execution_count": 6,
     "metadata": {},
     "output_type": "execute_result"
    }
   ],
   "source": [
    "data.argmax()"
   ]
  },
  {
   "cell_type": "code",
   "execution_count": null,
   "metadata": {},
   "outputs": [],
   "source": []
  },
  {
   "cell_type": "code",
   "execution_count": null,
   "metadata": {},
   "outputs": [],
   "source": []
  },
  {
   "cell_type": "code",
   "execution_count": null,
   "metadata": {},
   "outputs": [],
   "source": []
  },
  {
   "cell_type": "code",
   "execution_count": null,
   "metadata": {},
   "outputs": [],
   "source": []
  },
  {
   "cell_type": "markdown",
   "metadata": {},
   "source": [
    "## Using curve fit"
   ]
  },
  {
   "cell_type": "code",
   "execution_count": 7,
   "metadata": {},
   "outputs": [],
   "source": [
    "import numpy as np\n",
    "import matplotlib.pyplot as plt\n",
    "from scipy.optimize import curve_fit"
   ]
  },
  {
   "cell_type": "code",
   "execution_count": 27,
   "metadata": {},
   "outputs": [],
   "source": [
    "def func(x, a, b, c):\n",
    "    return a * np.exp(-b * x) + c\n",
    "\n",
    "def func_sin (x):\n",
    "    return np.sin(x)\n"
   ]
  },
  {
   "cell_type": "code",
   "execution_count": 52,
   "metadata": {},
   "outputs": [
    {
     "data": {
      "image/png": "[encoded data removed]",
      "text/plain": [
       "<Figure size 432x288 with 1 Axes>"
      ]
     },
     "metadata": {},
     "output_type": "display_data"
    }
   ],
   "source": [
    "xdata = np.linspace(0, 4, 50) #50 evenly spaced points between 0 and 4 (inclusive)\n",
    "y = func(xdata, 2.5, 1.3, 0.5)\n",
    "#y = func_sin(xdata)\n",
    "np.random.seed(1729)\n",
    "y_noise = 0.2 * np.random.normal(size=xdata.size)\n",
    "ydata = y + y_noise\n",
    "plt.plot(xdata, ydata, 'b-', label='data');"
   ]
  },
  {
   "cell_type": "code",
   "execution_count": 53,
   "metadata": {},
   "outputs": [
    {
     "data": {
      "text/plain": [
       "(array([2.55423706, 1.35190947, 0.47450618]),\n",
       " array([[ 0.0158905 ,  0.00681778, -0.0007614 ],\n",
       "        [ 0.00681778,  0.02019919,  0.00541905],\n",
       "        [-0.0007614 ,  0.00541905,  0.00282595]]))"
      ]
     },
     "execution_count": 53,
     "metadata": {},
     "output_type": "execute_result"
    }
   ],
   "source": [
    "popt, pcov = curve_fit(func, xdata, ydata)\n",
    "popt, pcov"
   ]
  },
  {
   "cell_type": "code",
   "execution_count": 31,
   "metadata": {},
   "outputs": [
    {
     "data": {
      "text/plain": [
       "[<matplotlib.lines.Line2D at 0x131e107630>]"
      ]
     },
     "execution_count": 31,
     "metadata": {},
     "output_type": "execute_result"
    },
    {
     "data": {
      "image/png": "[encoded data removed]",
      "text/plain": [
       "<Figure size 432x288 with 1 Axes>"
      ]
     },
     "metadata": {},
     "output_type": "display_data"
    }
   ],
   "source": [
    "plt.plot(xdata, func(xdata, *popt), 'r-', label='fit: a=%5.3f, b=%5.3f, c=%5.3f' % tuple(popt))"
   ]
  },
  {
   "cell_type": "markdown",
   "metadata": {},
   "source": [
    "### With my data"
   ]
  },
  {
   "cell_type": "code",
   "execution_count": 48,
   "metadata": {},
   "outputs": [
    {
     "data": {
      "text/plain": [
       "(25021, 33764, 58785, 58800)"
      ]
     },
     "execution_count": 48,
     "metadata": {},
     "output_type": "execute_result"
    },
    {
     "data": {
      "image/png": "[encoded data removed]",
      "text/plain": [
       "<Figure size 432x288 with 3 Axes>"
      ]
     },
     "metadata": {},
     "output_type": "display_data"
    }
   ],
   "source": [
    "song = AudioSegment.from_wav('../../Source/Shuffle/1/1.wav')\n",
    "\n",
    "part1 = song[:song.duration_seconds/2.35*1000]\n",
    "part2 = song[song.duration_seconds/2.35*1000:]\n",
    "\n",
    "\n",
    "plt.subplot(211)\n",
    "plt.title('Full clip')\n",
    "plt.plot(np.array(song.get_array_of_samples()), 'orange')\n",
    "\n",
    "plt.subplots_adjust(hspace=0.5)\n",
    "plt.subplot(223)\n",
    "plt.title('Part 1')\n",
    "plt.plot(np.array(part1.get_array_of_samples()), 'r')\n",
    "\n",
    "plt.subplot(224)\n",
    "plt.title('Part 2')\n",
    "plt.plot(np.array(part2.get_array_of_samples()), 'b')\n",
    "\n",
    "len(part1.get_array_of_samples()), len(part2.get_array_of_samples()), len(part1.get_array_of_samples())+len(part2.get_array_of_samples()),len(np.array(song.get_array_of_samples()))\n",
    "\n",
    "\n"
   ]
  },
  {
   "cell_type": "code",
   "execution_count": 89,
   "metadata": {},
   "outputs": [],
   "source": [
    "curve = pd.DataFrame({'y_amp':np.array(part2.get_array_of_samples())})\n",
    "#curve['x_timestep'] = np.arange(0, len(curve)) # Index could be used for this"
   ]
  },
  {
   "cell_type": "code",
   "execution_count": 116,
   "metadata": {},
   "outputs": [
    {
     "data": {
      "text/plain": [
       "array([    0,     1,     2, ..., 33761, 33762, 33763])"
      ]
     },
     "execution_count": 116,
     "metadata": {},
     "output_type": "execute_result"
    }
   ],
   "source": [
    "curve.describe()"
   ]
  },
  {
   "cell_type": "code",
   "execution_count": 140,
   "metadata": {},
   "outputs": [
    {
     "data": {
      "text/plain": [
       "nan"
      ]
     },
     "execution_count": 140,
     "metadata": {},
     "output_type": "execute_result"
    }
   ],
   "source": [
    "loc = -1.092140  # mean\n",
    "scale = 524.782288  # std\n",
    "\n",
    "lower = lognorm.ppf(loc,scale) # NaN\n",
    "upper = lognorm.ppf(1,loc,scale) # NaN\n",
    "x = curve.index.values\n",
    "\n",
    "y = lognorm.pdf(x, loc, scale) # This is only returning NaN\n"
   ]
  },
  {
   "cell_type": "code",
   "execution_count": 151,
   "metadata": {},
   "outputs": [
    {
     "name": "stdout",
     "output_type": "stream",
     "text": [
      "(1.0, -263.45263293204573, 1)\n",
      "(0.3209690557263931, -231.2351687049636, 784.5100836101815)\n",
      "(0.4936609684037577, -6.278788306234361, 531.0417230026229)\n"
     ]
    }
   ],
   "source": [
    "samp = lognorm(0.5,loc=loc,scale=scale).rvs(size=35000)\n",
    "\n",
    "## this is where the fit gets it initial guess from\n",
    "print (lognorm._fitstart(samp))\n",
    "#\n",
    "#(1.0, 0.66628696413404565, 0.28031095750445462)\n",
    "#\n",
    "print (lognorm.fit(samp))\n",
    "## note that the fit failed completely as the parameters did not change at all\n",
    "#\n",
    "#(1.0, 0.66628696413404565, 0.28031095750445462)\n",
    "#\n",
    "## fit again with a better initial guess for loc\n",
    "print (lognorm.fit(samp, loc=0))\n",
    "#\n",
    "#(0.50146296628099118, 0.0011019321419653122, 0.99361128537912125)\n"
   ]
  },
  {
   "cell_type": "code",
   "execution_count": 156,
   "metadata": {},
   "outputs": [
    {
     "name": "stdout",
     "output_type": "stream",
     "text": [
      "2.7268922194652738e-05 -1.09214 1.0921560327867403\n",
      "0.08815375428265897 2.7268922194652738e-05\n"
     ]
    }
   ],
   "source": [
    "# lognorm(mu=10,sigma=3)\n",
    "# so shape=3, loc=0, scale=np.exp(10) ?\n",
    "x=np.arange(0,35000)\n",
    "sample_dist = lognorm.pdf(x, 3, loc=0, scale=np.exp(10))\n",
    "shape, loc, scale = lognorm.fit(sample_dist, floc=loc)\n",
    "print (shape, loc, scale)\n",
    "print (np.log(scale), shape) # mu and sigma"
   ]
  },
  {
   "cell_type": "code",
   "execution_count": 130,
   "metadata": {},
   "outputs": [
    {
     "data": {
      "image/png": "[encoded data removed]",
      "text/plain": [
       "<Figure size 1440x576 with 1 Axes>"
      ]
     },
     "metadata": {},
     "output_type": "display_data"
    }
   ],
   "source": [
    "plt.figure(1, figsize=(20, 8))\n",
    "\n",
    "\n",
    "plt.plot(curve['y_amp'])\n",
    "\n",
    "\n",
    "plt.show()"
   ]
  },
  {
   "cell_type": "code",
   "execution_count": 180,
   "metadata": {},
   "outputs": [
    {
     "data": {
      "text/plain": [
       "[<matplotlib.lines.Line2D at 0x1a3be72470>]"
      ]
     },
     "execution_count": 180,
     "metadata": {},
     "output_type": "execute_result"
    },
    {
     "data": {
      "image/png": "[encoded data removed]",
      "text/plain": [
       "<Figure size 432x288 with 1 Axes>"
      ]
     },
     "metadata": {},
     "output_type": "display_data"
    }
   ],
   "source": [
    "fig, ax = plt.subplots(1, 1)\n",
    "s = 500\n",
    "x = np.linspace(lognorm.ppf(.01, s),lognorm.ppf(.89, s), 30)\n",
    "ax.plot(x, lognorm.pdf(x, s), 'r')#,curve['y_amp'] )"
   ]
  },
  {
   "cell_type": "code",
   "execution_count": null,
   "metadata": {},
   "outputs": [],
   "source": []
  },
  {
   "cell_type": "code",
   "execution_count": null,
   "metadata": {},
   "outputs": [],
   "source": []
  },
  {
   "cell_type": "code",
   "execution_count": null,
   "metadata": {},
   "outputs": [],
   "source": []
  },
  {
   "cell_type": "code",
   "execution_count": 185,
   "metadata": {},
   "outputs": [],
   "source": []
  },
  {
   "cell_type": "markdown",
   "metadata": {},
   "source": [
    "## FEATURE EXTRACTION TAKE 2"
   ]
  },
  {
   "cell_type": "markdown",
   "metadata": {},
   "source": [
    "## New attempt (Thursday) with librosa"
   ]
  },
  {
   "cell_type": "code",
   "execution_count": 360,
   "metadata": {},
   "outputs": [],
   "source": [
    "import librosa.display\n",
    "from pathlib import Path\n",
    "from sklearn.metrics import accuracy_score"
   ]
  },
  {
   "cell_type": "code",
   "execution_count": 221,
   "metadata": {},
   "outputs": [],
   "source": [
    "samples, sample_rate = librosa.load('../../Source/Shuffle/1/1.wav')"
   ]
  },
  {
   "cell_type": "code",
   "execution_count": 222,
   "metadata": {},
   "outputs": [
    {
     "data": {
      "text/plain": [
       "<matplotlib.collections.PolyCollection at 0x1c3fd3d3c8>"
      ]
     },
     "execution_count": 222,
     "metadata": {},
     "output_type": "execute_result"
    },
    {
     "data": {
      "image/png": "[encoded data removed]",
      "text/plain": [
       "<Figure size 432x288 with 1 Axes>"
      ]
     },
     "metadata": {},
     "output_type": "display_data"
    }
   ],
   "source": [
    "librosa.display.waveplot(samples, sr=sample_rate)"
   ]
  },
  {
   "cell_type": "code",
   "execution_count": 223,
   "metadata": {},
   "outputs": [],
   "source": [
    "# Extract mfcc feature from data\n",
    "mfccs = np.mean(librosa.feature.mfcc(y=samples, sr=sample_rate, n_mfcc=40).T,axis=0) "
   ]
  },
  {
   "cell_type": "code",
   "execution_count": 242,
   "metadata": {},
   "outputs": [
    {
     "data": {
      "text/plain": [
       "array([-2.93324979e+02,  6.99169251e+01, -3.08261602e+01,  2.04941441e+00,\n",
       "       -4.49648714e+00,  3.58712962e+00,  1.10923705e+00, -9.26278422e-01,\n",
       "       -6.82139531e+00, -1.95696533e+00, -1.03211499e+01, -9.86431243e-01,\n",
       "       -5.83167647e+00,  3.26631579e-01, -5.30220586e+00,  1.56439503e-01,\n",
       "       -3.86639989e+00,  2.92424631e+00, -2.04339189e+00,  6.04684326e-01,\n",
       "       -3.33496832e+00,  2.22497037e+00, -4.36309938e+00, -2.58458760e-01,\n",
       "       -5.27971176e+00, -3.40058333e-01, -3.24612152e+00,  2.80615027e-01,\n",
       "       -6.00028990e+00, -8.99876258e-01, -5.26769846e+00, -6.36059627e-01,\n",
       "       -5.40846509e+00, -4.98014734e-01, -4.97530146e+00, -1.22819305e-01,\n",
       "       -4.88724094e+00,  1.02158403e+00, -3.30485236e+00,  1.66782696e+00])"
      ]
     },
     "execution_count": 242,
     "metadata": {},
     "output_type": "execute_result"
    }
   ],
   "source": [
    "len(mfccs)\n",
    "mfccs"
   ]
  },
  {
   "cell_type": "markdown",
   "metadata": {},
   "source": [
    "### Repeat for all data (Organize in a DataFrame)"
   ]
  },
  {
   "cell_type": "code",
   "execution_count": 233,
   "metadata": {},
   "outputs": [],
   "source": [
    "def build_list(step, folder, length):\n",
    "    i = 1\n",
    "    step_list = []\n",
    "    while i <= length :\n",
    "        name = step + \"/\" + str(folder) + \"/\" +str(i) + \".wav\"\n",
    "        step_list.append(name)\n",
    "        i += 1\n",
    "    return step_list\n",
    "\n",
    "def get_label(path):\n",
    "    #return path.parts[-3]\n",
    "    if path.parts[-3] == 'Shuffle':\n",
    "        return 1\n",
    "    else:\n",
    "        return 0"
   ]
  },
  {
   "cell_type": "code",
   "execution_count": 235,
   "metadata": {},
   "outputs": [],
   "source": [
    "shuffle_col, bc_col, path_col = [], [], []"
   ]
  },
  {
   "cell_type": "code",
   "execution_count": 236,
   "metadata": {},
   "outputs": [],
   "source": [
    "pathlist = Path('../../Source/Shuffle').glob('**/*.wav')\n",
    "for path in pathlist:\n",
    "    shuffle_col.append(path)\n",
    "    shuffle_col.sort()"
   ]
  },
  {
   "cell_type": "code",
   "execution_count": 237,
   "metadata": {},
   "outputs": [],
   "source": [
    "pathlist = Path('../../Source/Normal/Ball_change').glob('**/*.wav')\n",
    "for path in pathlist:\n",
    "    bc_col.append(path)\n",
    "    bc_col.sort()"
   ]
  },
  {
   "cell_type": "code",
   "execution_count": 238,
   "metadata": {},
   "outputs": [],
   "source": [
    "path_col = shuffle_col + bc_col"
   ]
  },
  {
   "cell_type": "code",
   "execution_count": 239,
   "metadata": {},
   "outputs": [
    {
     "data": {
      "text/html": [
       "<div>\n",
       "<style scoped>\n",
       "    .dataframe tbody tr th:only-of-type {\n",
       "        vertical-align: middle;\n",
       "    }\n",
       "\n",
       "    .dataframe tbody tr th {\n",
       "        vertical-align: top;\n",
       "    }\n",
       "\n",
       "    .dataframe thead th {\n",
       "        text-align: right;\n",
       "    }\n",
       "</style>\n",
       "<table border=\"1\" class=\"dataframe\">\n",
       "  <thead>\n",
       "    <tr style=\"text-align: right;\">\n",
       "      <th></th>\n",
       "      <th>Path</th>\n",
       "    </tr>\n",
       "  </thead>\n",
       "  <tbody>\n",
       "    <tr>\n",
       "      <th>0</th>\n",
       "      <td>../../Source/Shuffle/1/1.wav</td>\n",
       "    </tr>\n",
       "    <tr>\n",
       "      <th>1</th>\n",
       "      <td>../../Source/Shuffle/1/2.wav</td>\n",
       "    </tr>\n",
       "    <tr>\n",
       "      <th>2</th>\n",
       "      <td>../../Source/Shuffle/1/3.wav</td>\n",
       "    </tr>\n",
       "    <tr>\n",
       "      <th>3</th>\n",
       "      <td>../../Source/Shuffle/2/1.wav</td>\n",
       "    </tr>\n",
       "    <tr>\n",
       "      <th>4</th>\n",
       "      <td>../../Source/Shuffle/3/1.wav</td>\n",
       "    </tr>\n",
       "    <tr>\n",
       "      <th>5</th>\n",
       "      <td>../../Source/Shuffle/4/1.wav</td>\n",
       "    </tr>\n",
       "    <tr>\n",
       "      <th>6</th>\n",
       "      <td>../../Source/Shuffle/4/2.wav</td>\n",
       "    </tr>\n",
       "    <tr>\n",
       "      <th>7</th>\n",
       "      <td>../../Source/Normal/Ball_change/1/1.wav</td>\n",
       "    </tr>\n",
       "    <tr>\n",
       "      <th>8</th>\n",
       "      <td>../../Source/Normal/Ball_change/1/2.wav</td>\n",
       "    </tr>\n",
       "    <tr>\n",
       "      <th>9</th>\n",
       "      <td>../../Source/Normal/Ball_change/1/3.wav</td>\n",
       "    </tr>\n",
       "    <tr>\n",
       "      <th>10</th>\n",
       "      <td>../../Source/Normal/Ball_change/2/1.wav</td>\n",
       "    </tr>\n",
       "    <tr>\n",
       "      <th>11</th>\n",
       "      <td>../../Source/Normal/Ball_change/3/1.wav</td>\n",
       "    </tr>\n",
       "    <tr>\n",
       "      <th>12</th>\n",
       "      <td>../../Source/Normal/Ball_change/4/1.wav</td>\n",
       "    </tr>\n",
       "    <tr>\n",
       "      <th>13</th>\n",
       "      <td>../../Source/Normal/Ball_change/4/2.wav</td>\n",
       "    </tr>\n",
       "  </tbody>\n",
       "</table>\n",
       "</div>"
      ],
      "text/plain": [
       "                                       Path\n",
       "0              ../../Source/Shuffle/1/1.wav\n",
       "1              ../../Source/Shuffle/1/2.wav\n",
       "2              ../../Source/Shuffle/1/3.wav\n",
       "3              ../../Source/Shuffle/2/1.wav\n",
       "4              ../../Source/Shuffle/3/1.wav\n",
       "5              ../../Source/Shuffle/4/1.wav\n",
       "6              ../../Source/Shuffle/4/2.wav\n",
       "7   ../../Source/Normal/Ball_change/1/1.wav\n",
       "8   ../../Source/Normal/Ball_change/1/2.wav\n",
       "9   ../../Source/Normal/Ball_change/1/3.wav\n",
       "10  ../../Source/Normal/Ball_change/2/1.wav\n",
       "11  ../../Source/Normal/Ball_change/3/1.wav\n",
       "12  ../../Source/Normal/Ball_change/4/1.wav\n",
       "13  ../../Source/Normal/Ball_change/4/2.wav"
      ]
     },
     "execution_count": 239,
     "metadata": {},
     "output_type": "execute_result"
    }
   ],
   "source": [
    "tap = pd.DataFrame({'Path':path_col})\n",
    "tap"
   ]
  },
  {
   "cell_type": "code",
   "execution_count": 240,
   "metadata": {},
   "outputs": [],
   "source": [
    "tap['Labels'] = [get_label(tap.loc[idx,'Path']) for idx in range(len(tap))]"
   ]
  },
  {
   "cell_type": "code",
   "execution_count": null,
   "metadata": {},
   "outputs": [],
   "source": [
    "#tap['Min'] = [wav.read(str(tap.loc[idx, 'Path']))[1].min() for idx in range (len(tap))]"
   ]
  },
  {
   "cell_type": "code",
   "execution_count": 244,
   "metadata": {},
   "outputs": [],
   "source": [
    "def get_features(path):\n",
    "    samples, sample_rate = librosa.load(path)\n",
    "    mfccs = np.mean(librosa.feature.mfcc(y=samples, sr=sample_rate, n_mfcc=40).T,axis=0)\n",
    "    return mfccs"
   ]
  },
  {
   "cell_type": "code",
   "execution_count": 345,
   "metadata": {},
   "outputs": [],
   "source": [
    "for i in range (40):\n",
    "    tap[str(i)] = [get_features(tap.loc[idx, 'Path'])[i] for idx in range (len(tap))]"
   ]
  },
  {
   "cell_type": "markdown",
   "metadata": {},
   "source": [
    "### Add data from peak_info"
   ]
  },
  {
   "cell_type": "code",
   "execution_count": 362,
   "metadata": {},
   "outputs": [
    {
     "data": {
      "text/html": [
       "<div>\n",
       "<style scoped>\n",
       "    .dataframe tbody tr th:only-of-type {\n",
       "        vertical-align: middle;\n",
       "    }\n",
       "\n",
       "    .dataframe tbody tr th {\n",
       "        vertical-align: top;\n",
       "    }\n",
       "\n",
       "    .dataframe thead th {\n",
       "        text-align: right;\n",
       "    }\n",
       "</style>\n",
       "<table border=\"1\" class=\"dataframe\">\n",
       "  <thead>\n",
       "    <tr style=\"text-align: right;\">\n",
       "      <th></th>\n",
       "      <th>Unnamed: 0</th>\n",
       "      <th>Peak_1</th>\n",
       "      <th>Peak_2</th>\n",
       "      <th>Peak_1_idx</th>\n",
       "      <th>Peak_2_idx</th>\n",
       "      <th>Peak_dist</th>\n",
       "    </tr>\n",
       "  </thead>\n",
       "  <tbody>\n",
       "    <tr>\n",
       "      <th>0</th>\n",
       "      <td>0</td>\n",
       "      <td>32767</td>\n",
       "      <td>32767</td>\n",
       "      <td>16278</td>\n",
       "      <td>26016</td>\n",
       "      <td>9738</td>\n",
       "    </tr>\n",
       "    <tr>\n",
       "      <th>1</th>\n",
       "      <td>1</td>\n",
       "      <td>32767</td>\n",
       "      <td>32767</td>\n",
       "      <td>17341</td>\n",
       "      <td>29507</td>\n",
       "      <td>12166</td>\n",
       "    </tr>\n",
       "    <tr>\n",
       "      <th>2</th>\n",
       "      <td>2</td>\n",
       "      <td>32767</td>\n",
       "      <td>32767</td>\n",
       "      <td>15455</td>\n",
       "      <td>30247</td>\n",
       "      <td>14792</td>\n",
       "    </tr>\n",
       "    <tr>\n",
       "      <th>3</th>\n",
       "      <td>3</td>\n",
       "      <td>32767</td>\n",
       "      <td>32767</td>\n",
       "      <td>7392</td>\n",
       "      <td>17930</td>\n",
       "      <td>10538</td>\n",
       "    </tr>\n",
       "    <tr>\n",
       "      <th>4</th>\n",
       "      <td>4</td>\n",
       "      <td>29403</td>\n",
       "      <td>29080</td>\n",
       "      <td>179</td>\n",
       "      <td>28424</td>\n",
       "      <td>28245</td>\n",
       "    </tr>\n",
       "    <tr>\n",
       "      <th>5</th>\n",
       "      <td>5</td>\n",
       "      <td>29125</td>\n",
       "      <td>27785</td>\n",
       "      <td>14674</td>\n",
       "      <td>23830</td>\n",
       "      <td>9156</td>\n",
       "    </tr>\n",
       "    <tr>\n",
       "      <th>6</th>\n",
       "      <td>6</td>\n",
       "      <td>32767</td>\n",
       "      <td>31129</td>\n",
       "      <td>9086</td>\n",
       "      <td>17849</td>\n",
       "      <td>8763</td>\n",
       "    </tr>\n",
       "    <tr>\n",
       "      <th>7</th>\n",
       "      <td>7</td>\n",
       "      <td>25438</td>\n",
       "      <td>32767</td>\n",
       "      <td>5732</td>\n",
       "      <td>16867</td>\n",
       "      <td>11135</td>\n",
       "    </tr>\n",
       "    <tr>\n",
       "      <th>8</th>\n",
       "      <td>8</td>\n",
       "      <td>31638</td>\n",
       "      <td>32767</td>\n",
       "      <td>11724</td>\n",
       "      <td>24586</td>\n",
       "      <td>12862</td>\n",
       "    </tr>\n",
       "    <tr>\n",
       "      <th>9</th>\n",
       "      <td>9</td>\n",
       "      <td>28943</td>\n",
       "      <td>32767</td>\n",
       "      <td>21934</td>\n",
       "      <td>35041</td>\n",
       "      <td>13107</td>\n",
       "    </tr>\n",
       "    <tr>\n",
       "      <th>10</th>\n",
       "      <td>10</td>\n",
       "      <td>32767</td>\n",
       "      <td>28909</td>\n",
       "      <td>5380</td>\n",
       "      <td>38456</td>\n",
       "      <td>33076</td>\n",
       "    </tr>\n",
       "    <tr>\n",
       "      <th>11</th>\n",
       "      <td>11</td>\n",
       "      <td>26880</td>\n",
       "      <td>32767</td>\n",
       "      <td>24</td>\n",
       "      <td>11747</td>\n",
       "      <td>11723</td>\n",
       "    </tr>\n",
       "    <tr>\n",
       "      <th>12</th>\n",
       "      <td>12</td>\n",
       "      <td>26286</td>\n",
       "      <td>25146</td>\n",
       "      <td>1308</td>\n",
       "      <td>20661</td>\n",
       "      <td>19353</td>\n",
       "    </tr>\n",
       "    <tr>\n",
       "      <th>13</th>\n",
       "      <td>13</td>\n",
       "      <td>19770</td>\n",
       "      <td>24375</td>\n",
       "      <td>448</td>\n",
       "      <td>20623</td>\n",
       "      <td>20175</td>\n",
       "    </tr>\n",
       "  </tbody>\n",
       "</table>\n",
       "</div>"
      ],
      "text/plain": [
       "    Unnamed: 0  Peak_1  Peak_2  Peak_1_idx  Peak_2_idx  Peak_dist\n",
       "0            0   32767   32767       16278       26016       9738\n",
       "1            1   32767   32767       17341       29507      12166\n",
       "2            2   32767   32767       15455       30247      14792\n",
       "3            3   32767   32767        7392       17930      10538\n",
       "4            4   29403   29080         179       28424      28245\n",
       "5            5   29125   27785       14674       23830       9156\n",
       "6            6   32767   31129        9086       17849       8763\n",
       "7            7   25438   32767        5732       16867      11135\n",
       "8            8   31638   32767       11724       24586      12862\n",
       "9            9   28943   32767       21934       35041      13107\n",
       "10          10   32767   28909        5380       38456      33076\n",
       "11          11   26880   32767          24       11747      11723\n",
       "12          12   26286   25146        1308       20661      19353\n",
       "13          13   19770   24375         448       20623      20175"
      ]
     },
     "execution_count": 362,
     "metadata": {},
     "output_type": "execute_result"
    }
   ],
   "source": [
    "peak_info = pd.read_csv('peak_info.csv')\n",
    "peak_info"
   ]
  },
  {
   "cell_type": "markdown",
   "metadata": {},
   "source": [
    "### Pythagorean theorem to add \"relevant\" features w/r/t the two peaks"
   ]
  },
  {
   "cell_type": "code",
   "execution_count": 363,
   "metadata": {},
   "outputs": [
    {
     "data": {
      "text/plain": [
       "array([ 0.        ,  0.        ,  0.        ,  0.        ,  0.01143565,\n",
       "        0.14635212,  0.18692229, -0.65819488, -0.08777795, -0.2917525 ,\n",
       "        0.11664046, -0.50217521,  0.0589056 , -0.22825279])"
      ]
     },
     "execution_count": 363,
     "metadata": {},
     "output_type": "execute_result"
    }
   ],
   "source": [
    "a2 = peak_info['Peak_dist'].values**2 \n",
    "b2 = (peak_info['Peak_1'].values - peak_info['Peak_2'].values)**2\n",
    "c2 = a2 + b2\n",
    "c = np.sqrt(c2)\n",
    "cneg = -c\n",
    "slope = (peak_info['Peak_1'].values - peak_info['Peak_2'].values) / peak_info['Peak_dist'].values\n",
    "slope"
   ]
  },
  {
   "cell_type": "code",
   "execution_count": 364,
   "metadata": {},
   "outputs": [],
   "source": [
    "tap['Slope'] = slope"
   ]
  },
  {
   "cell_type": "code",
   "execution_count": 366,
   "metadata": {},
   "outputs": [
    {
     "data": {
      "text/html": [
       "<div>\n",
       "<style scoped>\n",
       "    .dataframe tbody tr th:only-of-type {\n",
       "        vertical-align: middle;\n",
       "    }\n",
       "\n",
       "    .dataframe tbody tr th {\n",
       "        vertical-align: top;\n",
       "    }\n",
       "\n",
       "    .dataframe thead th {\n",
       "        text-align: right;\n",
       "    }\n",
       "</style>\n",
       "<table border=\"1\" class=\"dataframe\">\n",
       "  <thead>\n",
       "    <tr style=\"text-align: right;\">\n",
       "      <th></th>\n",
       "      <th>Path</th>\n",
       "      <th>Labels</th>\n",
       "      <th>mfcc</th>\n",
       "      <th>0</th>\n",
       "      <th>1</th>\n",
       "      <th>2</th>\n",
       "      <th>3</th>\n",
       "      <th>4</th>\n",
       "      <th>5</th>\n",
       "      <th>6</th>\n",
       "      <th>...</th>\n",
       "      <th>31</th>\n",
       "      <th>32</th>\n",
       "      <th>33</th>\n",
       "      <th>34</th>\n",
       "      <th>35</th>\n",
       "      <th>36</th>\n",
       "      <th>37</th>\n",
       "      <th>38</th>\n",
       "      <th>39</th>\n",
       "      <th>Slope</th>\n",
       "    </tr>\n",
       "  </thead>\n",
       "  <tbody>\n",
       "    <tr>\n",
       "      <th>0</th>\n",
       "      <td>../../Source/Shuffle/1/1.wav</td>\n",
       "      <td>1</td>\n",
       "      <td>[-293.324979330955, 69.91692513863941, -30.826...</td>\n",
       "      <td>-293.324979</td>\n",
       "      <td>69.916925</td>\n",
       "      <td>-30.826160</td>\n",
       "      <td>2.049414</td>\n",
       "      <td>-4.496487</td>\n",
       "      <td>3.587130</td>\n",
       "      <td>1.109237</td>\n",
       "      <td>...</td>\n",
       "      <td>-0.636060</td>\n",
       "      <td>-5.408465</td>\n",
       "      <td>-0.498015</td>\n",
       "      <td>-4.975301</td>\n",
       "      <td>-0.122819</td>\n",
       "      <td>-4.887241</td>\n",
       "      <td>1.021584</td>\n",
       "      <td>-3.304852</td>\n",
       "      <td>1.667827</td>\n",
       "      <td>0.000000</td>\n",
       "    </tr>\n",
       "    <tr>\n",
       "      <th>1</th>\n",
       "      <td>../../Source/Shuffle/1/2.wav</td>\n",
       "      <td>1</td>\n",
       "      <td>[-276.26650999983576, 68.26327823816729, -36.6...</td>\n",
       "      <td>-276.266510</td>\n",
       "      <td>68.263278</td>\n",
       "      <td>-36.615667</td>\n",
       "      <td>5.305029</td>\n",
       "      <td>-5.954178</td>\n",
       "      <td>2.666508</td>\n",
       "      <td>3.021715</td>\n",
       "      <td>...</td>\n",
       "      <td>-0.102422</td>\n",
       "      <td>-4.830428</td>\n",
       "      <td>0.547850</td>\n",
       "      <td>-5.434464</td>\n",
       "      <td>1.211024</td>\n",
       "      <td>-4.144923</td>\n",
       "      <td>1.080524</td>\n",
       "      <td>-3.205386</td>\n",
       "      <td>1.662278</td>\n",
       "      <td>0.000000</td>\n",
       "    </tr>\n",
       "    <tr>\n",
       "      <th>2</th>\n",
       "      <td>../../Source/Shuffle/1/3.wav</td>\n",
       "      <td>1</td>\n",
       "      <td>[-274.9368099855396, 71.73185783505252, -38.72...</td>\n",
       "      <td>-274.936810</td>\n",
       "      <td>71.731858</td>\n",
       "      <td>-38.724074</td>\n",
       "      <td>4.732382</td>\n",
       "      <td>-3.488196</td>\n",
       "      <td>2.976912</td>\n",
       "      <td>2.397730</td>\n",
       "      <td>...</td>\n",
       "      <td>0.539130</td>\n",
       "      <td>-3.999879</td>\n",
       "      <td>-0.789776</td>\n",
       "      <td>-5.696328</td>\n",
       "      <td>0.496009</td>\n",
       "      <td>-4.336192</td>\n",
       "      <td>0.904035</td>\n",
       "      <td>-2.891622</td>\n",
       "      <td>1.183886</td>\n",
       "      <td>0.000000</td>\n",
       "    </tr>\n",
       "    <tr>\n",
       "      <th>3</th>\n",
       "      <td>../../Source/Shuffle/2/1.wav</td>\n",
       "      <td>1</td>\n",
       "      <td>[-326.4174602053943, 112.22326566038315, -44.1...</td>\n",
       "      <td>-326.417460</td>\n",
       "      <td>112.223266</td>\n",
       "      <td>-44.161899</td>\n",
       "      <td>28.389066</td>\n",
       "      <td>5.440479</td>\n",
       "      <td>10.000289</td>\n",
       "      <td>-1.217789</td>\n",
       "      <td>...</td>\n",
       "      <td>-1.519514</td>\n",
       "      <td>-2.083231</td>\n",
       "      <td>1.679214</td>\n",
       "      <td>-1.359012</td>\n",
       "      <td>1.875121</td>\n",
       "      <td>-1.500028</td>\n",
       "      <td>1.136799</td>\n",
       "      <td>-1.029760</td>\n",
       "      <td>0.435550</td>\n",
       "      <td>0.000000</td>\n",
       "    </tr>\n",
       "    <tr>\n",
       "      <th>4</th>\n",
       "      <td>../../Source/Shuffle/3/1.wav</td>\n",
       "      <td>1</td>\n",
       "      <td>[-141.85590017732724, 26.935705089911632, -72....</td>\n",
       "      <td>-141.855900</td>\n",
       "      <td>26.935705</td>\n",
       "      <td>-72.139592</td>\n",
       "      <td>16.181255</td>\n",
       "      <td>-55.381490</td>\n",
       "      <td>15.658915</td>\n",
       "      <td>-15.245119</td>\n",
       "      <td>...</td>\n",
       "      <td>-0.263565</td>\n",
       "      <td>-3.020770</td>\n",
       "      <td>0.935590</td>\n",
       "      <td>-3.086069</td>\n",
       "      <td>0.824559</td>\n",
       "      <td>-2.220420</td>\n",
       "      <td>2.242528</td>\n",
       "      <td>-3.602058</td>\n",
       "      <td>0.658871</td>\n",
       "      <td>0.011436</td>\n",
       "    </tr>\n",
       "  </tbody>\n",
       "</table>\n",
       "<p>5 rows × 44 columns</p>\n",
       "</div>"
      ],
      "text/plain": [
       "                           Path  Labels  \\\n",
       "0  ../../Source/Shuffle/1/1.wav       1   \n",
       "1  ../../Source/Shuffle/1/2.wav       1   \n",
       "2  ../../Source/Shuffle/1/3.wav       1   \n",
       "3  ../../Source/Shuffle/2/1.wav       1   \n",
       "4  ../../Source/Shuffle/3/1.wav       1   \n",
       "\n",
       "                                                mfcc           0           1  \\\n",
       "0  [-293.324979330955, 69.91692513863941, -30.826... -293.324979   69.916925   \n",
       "1  [-276.26650999983576, 68.26327823816729, -36.6... -276.266510   68.263278   \n",
       "2  [-274.9368099855396, 71.73185783505252, -38.72... -274.936810   71.731858   \n",
       "3  [-326.4174602053943, 112.22326566038315, -44.1... -326.417460  112.223266   \n",
       "4  [-141.85590017732724, 26.935705089911632, -72.... -141.855900   26.935705   \n",
       "\n",
       "           2          3          4          5          6    ...           31  \\\n",
       "0 -30.826160   2.049414  -4.496487   3.587130   1.109237    ...    -0.636060   \n",
       "1 -36.615667   5.305029  -5.954178   2.666508   3.021715    ...    -0.102422   \n",
       "2 -38.724074   4.732382  -3.488196   2.976912   2.397730    ...     0.539130   \n",
       "3 -44.161899  28.389066   5.440479  10.000289  -1.217789    ...    -1.519514   \n",
       "4 -72.139592  16.181255 -55.381490  15.658915 -15.245119    ...    -0.263565   \n",
       "\n",
       "         32        33        34        35        36        37        38  \\\n",
       "0 -5.408465 -0.498015 -4.975301 -0.122819 -4.887241  1.021584 -3.304852   \n",
       "1 -4.830428  0.547850 -5.434464  1.211024 -4.144923  1.080524 -3.205386   \n",
       "2 -3.999879 -0.789776 -5.696328  0.496009 -4.336192  0.904035 -2.891622   \n",
       "3 -2.083231  1.679214 -1.359012  1.875121 -1.500028  1.136799 -1.029760   \n",
       "4 -3.020770  0.935590 -3.086069  0.824559 -2.220420  2.242528 -3.602058   \n",
       "\n",
       "         39     Slope  \n",
       "0  1.667827  0.000000  \n",
       "1  1.662278  0.000000  \n",
       "2  1.183886  0.000000  \n",
       "3  0.435550  0.000000  \n",
       "4  0.658871  0.011436  \n",
       "\n",
       "[5 rows x 44 columns]"
      ]
     },
     "execution_count": 366,
     "metadata": {},
     "output_type": "execute_result"
    }
   ],
   "source": [
    "tap.head()"
   ]
  }
 ],
 "metadata": {
  "kernelspec": {
   "display_name": "Python 3",
   "language": "python",
   "name": "python3"
  },
  "language_info": {
   "codemirror_mode": {
    "name": "ipython",
    "version": 3
   },
   "file_extension": ".py",
   "mimetype": "text/x-python",
   "name": "python",
   "nbconvert_exporter": "python",
   "pygments_lexer": "ipython3",
   "version": "3.6.5"
  }
 },
 "nbformat": 4,
 "nbformat_minor": 2
}
