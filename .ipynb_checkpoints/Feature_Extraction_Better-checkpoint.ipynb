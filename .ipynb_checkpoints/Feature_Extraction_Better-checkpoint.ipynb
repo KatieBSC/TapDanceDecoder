{
 "cells": [
  {
   "cell_type": "markdown",
   "metadata": {},
   "source": [
    "## Feature Extraction, New and Improved"
   ]
  },
  {
   "cell_type": "code",
   "execution_count": 1,
   "metadata": {},
   "outputs": [],
   "source": [
    "import pandas as pd\n",
    "import numpy as np\n",
    "import matplotlib.pyplot as plt\n",
    "import librosa.display\n",
    "from pathlib import Path\n",
    "from sklearn.metrics import accuracy_score,roc_curve, auc,roc_auc_score"
   ]
  },
  {
   "cell_type": "markdown",
   "metadata": {},
   "source": [
    "## New attempt (Thursday) with librosa"
   ]
  },
  {
   "cell_type": "code",
   "execution_count": 2,
   "metadata": {},
   "outputs": [],
   "source": [
    "samples, sample_rate = librosa.load('../../Source/Shuffle/1/1.wav')"
   ]
  },
  {
   "cell_type": "markdown",
   "metadata": {},
   "source": [
    "**Visualize audio files with librosa**"
   ]
  },
  {
   "cell_type": "code",
   "execution_count": 3,
   "metadata": {},
   "outputs": [
    {
     "data": {
      "text/plain": [
       "<matplotlib.collections.PolyCollection at 0x1c14cbde10>"
      ]
     },
     "execution_count": 3,
     "metadata": {},
     "output_type": "execute_result"
    },
    {
     "data": {
      "image/png": "[encoded data removed]",
      "text/plain": [
       "<Figure size 432x288 with 1 Axes>"
      ]
     },
     "metadata": {},
     "output_type": "display_data"
    }
   ],
   "source": [
    "librosa.display.waveplot(samples, sr=sample_rate)"
   ]
  },
  {
   "cell_type": "markdown",
   "metadata": {},
   "source": [
    "### Feature:\n",
    "Mel-frequency cepstral coefficients "
   ]
  },
  {
   "cell_type": "code",
   "execution_count": 4,
   "metadata": {},
   "outputs": [],
   "source": [
    "n_mfcc = 40   #Remember to change file path at end of nb"
   ]
  },
  {
   "cell_type": "code",
   "execution_count": 5,
   "metadata": {},
   "outputs": [],
   "source": [
    "# Extract mfcc feature from data\n",
    "mfccs = np.mean(librosa.feature.mfcc(y=samples, sr=sample_rate, n_mfcc=n_mfcc).T,axis=0) "
   ]
  },
  {
   "cell_type": "code",
   "execution_count": 6,
   "metadata": {},
   "outputs": [
    {
     "data": {
      "text/plain": [
       "30"
      ]
     },
     "execution_count": 6,
     "metadata": {},
     "output_type": "execute_result"
    }
   ],
   "source": [
    "len(mfccs)\n"
   ]
  },
  {
   "cell_type": "markdown",
   "metadata": {},
   "source": [
    "### Repeat for all data (Organize in a DataFrame)"
   ]
  },
  {
   "cell_type": "code",
   "execution_count": 7,
   "metadata": {},
   "outputs": [],
   "source": [
    "def build_list(step, folder, length):\n",
    "    i = 1\n",
    "    step_list = []\n",
    "    while i <= length :\n",
    "        name = step + \"/\" + str(folder) + \"/\" +str(i) + \".wav\"\n",
    "        step_list.append(name)\n",
    "        i += 1\n",
    "    return step_list\n",
    "\n",
    "def get_label(path):\n",
    "    if path.parts[-3] == 'Shuffle':\n",
    "        return 1\n",
    "    else:\n",
    "        return 0"
   ]
  },
  {
   "cell_type": "code",
   "execution_count": 8,
   "metadata": {},
   "outputs": [],
   "source": [
    "shuffle_col, bc_col, path_col = [], [], []"
   ]
  },
  {
   "cell_type": "code",
   "execution_count": 9,
   "metadata": {},
   "outputs": [],
   "source": [
    "pathlist = Path('../../Source/Shuffle').glob('**/*.wav')\n",
    "for path in pathlist:\n",
    "    shuffle_col.append(path)\n",
    "    shuffle_col.sort()"
   ]
  },
  {
   "cell_type": "code",
   "execution_count": 10,
   "metadata": {},
   "outputs": [],
   "source": [
    "pathlist = Path('../../Source/Ball_change').glob('**/*.wav')\n",
    "for path in pathlist:\n",
    "    bc_col.append(path)\n",
    "    bc_col.sort()"
   ]
  },
  {
   "cell_type": "code",
   "execution_count": 11,
   "metadata": {},
   "outputs": [],
   "source": [
    "path_col = shuffle_col + bc_col"
   ]
  },
  {
   "cell_type": "code",
   "execution_count": 12,
   "metadata": {},
   "outputs": [
    {
     "data": {
      "text/html": [
       "<div>\n",
       "<style scoped>\n",
       "    .dataframe tbody tr th:only-of-type {\n",
       "        vertical-align: middle;\n",
       "    }\n",
       "\n",
       "    .dataframe tbody tr th {\n",
       "        vertical-align: top;\n",
       "    }\n",
       "\n",
       "    .dataframe thead th {\n",
       "        text-align: right;\n",
       "    }\n",
       "</style>\n",
       "<table border=\"1\" class=\"dataframe\">\n",
       "  <thead>\n",
       "    <tr style=\"text-align: right;\">\n",
       "      <th></th>\n",
       "      <th>Path</th>\n",
       "    </tr>\n",
       "  </thead>\n",
       "  <tbody>\n",
       "    <tr>\n",
       "      <th>0</th>\n",
       "      <td>../../Source/Shuffle/1/1.wav</td>\n",
       "    </tr>\n",
       "    <tr>\n",
       "      <th>1</th>\n",
       "      <td>../../Source/Shuffle/1/2.wav</td>\n",
       "    </tr>\n",
       "    <tr>\n",
       "      <th>2</th>\n",
       "      <td>../../Source/Shuffle/1/3.wav</td>\n",
       "    </tr>\n",
       "    <tr>\n",
       "      <th>3</th>\n",
       "      <td>../../Source/Shuffle/2/1.wav</td>\n",
       "    </tr>\n",
       "    <tr>\n",
       "      <th>4</th>\n",
       "      <td>../../Source/Shuffle/3/1.wav</td>\n",
       "    </tr>\n",
       "    <tr>\n",
       "      <th>5</th>\n",
       "      <td>../../Source/Shuffle/4/1.wav</td>\n",
       "    </tr>\n",
       "    <tr>\n",
       "      <th>6</th>\n",
       "      <td>../../Source/Shuffle/4/2.wav</td>\n",
       "    </tr>\n",
       "    <tr>\n",
       "      <th>7</th>\n",
       "      <td>../../Source/Ball_change/1/1.wav</td>\n",
       "    </tr>\n",
       "    <tr>\n",
       "      <th>8</th>\n",
       "      <td>../../Source/Ball_change/1/2.wav</td>\n",
       "    </tr>\n",
       "    <tr>\n",
       "      <th>9</th>\n",
       "      <td>../../Source/Ball_change/1/3.wav</td>\n",
       "    </tr>\n",
       "    <tr>\n",
       "      <th>10</th>\n",
       "      <td>../../Source/Ball_change/2/1.wav</td>\n",
       "    </tr>\n",
       "    <tr>\n",
       "      <th>11</th>\n",
       "      <td>../../Source/Ball_change/3/1.wav</td>\n",
       "    </tr>\n",
       "    <tr>\n",
       "      <th>12</th>\n",
       "      <td>../../Source/Ball_change/4/1.wav</td>\n",
       "    </tr>\n",
       "    <tr>\n",
       "      <th>13</th>\n",
       "      <td>../../Source/Ball_change/4/2.wav</td>\n",
       "    </tr>\n",
       "  </tbody>\n",
       "</table>\n",
       "</div>"
      ],
      "text/plain": [
       "                                Path\n",
       "0       ../../Source/Shuffle/1/1.wav\n",
       "1       ../../Source/Shuffle/1/2.wav\n",
       "2       ../../Source/Shuffle/1/3.wav\n",
       "3       ../../Source/Shuffle/2/1.wav\n",
       "4       ../../Source/Shuffle/3/1.wav\n",
       "5       ../../Source/Shuffle/4/1.wav\n",
       "6       ../../Source/Shuffle/4/2.wav\n",
       "7   ../../Source/Ball_change/1/1.wav\n",
       "8   ../../Source/Ball_change/1/2.wav\n",
       "9   ../../Source/Ball_change/1/3.wav\n",
       "10  ../../Source/Ball_change/2/1.wav\n",
       "11  ../../Source/Ball_change/3/1.wav\n",
       "12  ../../Source/Ball_change/4/1.wav\n",
       "13  ../../Source/Ball_change/4/2.wav"
      ]
     },
     "execution_count": 12,
     "metadata": {},
     "output_type": "execute_result"
    }
   ],
   "source": [
    "tap = pd.DataFrame({'Path':path_col})\n",
    "tap"
   ]
  },
  {
   "cell_type": "code",
   "execution_count": 13,
   "metadata": {},
   "outputs": [],
   "source": [
    "tap['Labels'] = [get_label(tap.loc[idx,'Path']) for idx in range(len(tap))]"
   ]
  },
  {
   "cell_type": "code",
   "execution_count": 14,
   "metadata": {},
   "outputs": [],
   "source": [
    "def get_features(path):\n",
    "    samples, sample_rate = librosa.load(path)\n",
    "    mfccs = np.mean(librosa.feature.mfcc(y=samples, sr=sample_rate, n_mfcc=n_mfcc).T,axis=0)\n",
    "    return mfccs"
   ]
  },
  {
   "cell_type": "code",
   "execution_count": 15,
   "metadata": {},
   "outputs": [],
   "source": [
    "for i in range (n_mfcc):\n",
    "    tap[str(i)] = [get_features(tap.loc[idx, 'Path'])[i] for idx in range (len(tap))]"
   ]
  },
  {
   "cell_type": "markdown",
   "metadata": {},
   "source": [
    "### Feature:\n",
    "Slope of tangent line between two peaks/beats (from peak_info)\n",
    "<br/> *Why?* <br/> Shuffles tend to have two sounds that sound alike, hence, slope of 0, and ball-changes have two different sounding sounds. Just an initial idea."
   ]
  },
  {
   "cell_type": "code",
   "execution_count": 16,
   "metadata": {},
   "outputs": [
    {
     "data": {
      "text/html": [
       "<div>\n",
       "<style scoped>\n",
       "    .dataframe tbody tr th:only-of-type {\n",
       "        vertical-align: middle;\n",
       "    }\n",
       "\n",
       "    .dataframe tbody tr th {\n",
       "        vertical-align: top;\n",
       "    }\n",
       "\n",
       "    .dataframe thead th {\n",
       "        text-align: right;\n",
       "    }\n",
       "</style>\n",
       "<table border=\"1\" class=\"dataframe\">\n",
       "  <thead>\n",
       "    <tr style=\"text-align: right;\">\n",
       "      <th></th>\n",
       "      <th>Unnamed: 0</th>\n",
       "      <th>Peak_1</th>\n",
       "      <th>Peak_2</th>\n",
       "      <th>Peak_1_idx</th>\n",
       "      <th>Peak_2_idx</th>\n",
       "      <th>Peak_dist</th>\n",
       "    </tr>\n",
       "  </thead>\n",
       "  <tbody>\n",
       "    <tr>\n",
       "      <th>0</th>\n",
       "      <td>0</td>\n",
       "      <td>32767</td>\n",
       "      <td>32767</td>\n",
       "      <td>16278</td>\n",
       "      <td>26016</td>\n",
       "      <td>9738</td>\n",
       "    </tr>\n",
       "    <tr>\n",
       "      <th>1</th>\n",
       "      <td>1</td>\n",
       "      <td>32767</td>\n",
       "      <td>32767</td>\n",
       "      <td>17341</td>\n",
       "      <td>29507</td>\n",
       "      <td>12166</td>\n",
       "    </tr>\n",
       "    <tr>\n",
       "      <th>2</th>\n",
       "      <td>2</td>\n",
       "      <td>32767</td>\n",
       "      <td>32767</td>\n",
       "      <td>15455</td>\n",
       "      <td>30247</td>\n",
       "      <td>14792</td>\n",
       "    </tr>\n",
       "    <tr>\n",
       "      <th>3</th>\n",
       "      <td>3</td>\n",
       "      <td>32767</td>\n",
       "      <td>32767</td>\n",
       "      <td>7392</td>\n",
       "      <td>17930</td>\n",
       "      <td>10538</td>\n",
       "    </tr>\n",
       "    <tr>\n",
       "      <th>4</th>\n",
       "      <td>4</td>\n",
       "      <td>29403</td>\n",
       "      <td>29080</td>\n",
       "      <td>179</td>\n",
       "      <td>28424</td>\n",
       "      <td>28245</td>\n",
       "    </tr>\n",
       "    <tr>\n",
       "      <th>5</th>\n",
       "      <td>5</td>\n",
       "      <td>29125</td>\n",
       "      <td>27785</td>\n",
       "      <td>14674</td>\n",
       "      <td>23830</td>\n",
       "      <td>9156</td>\n",
       "    </tr>\n",
       "    <tr>\n",
       "      <th>6</th>\n",
       "      <td>6</td>\n",
       "      <td>32767</td>\n",
       "      <td>31129</td>\n",
       "      <td>9086</td>\n",
       "      <td>17849</td>\n",
       "      <td>8763</td>\n",
       "    </tr>\n",
       "    <tr>\n",
       "      <th>7</th>\n",
       "      <td>7</td>\n",
       "      <td>25438</td>\n",
       "      <td>32767</td>\n",
       "      <td>5732</td>\n",
       "      <td>16867</td>\n",
       "      <td>11135</td>\n",
       "    </tr>\n",
       "    <tr>\n",
       "      <th>8</th>\n",
       "      <td>8</td>\n",
       "      <td>31638</td>\n",
       "      <td>32767</td>\n",
       "      <td>11724</td>\n",
       "      <td>24586</td>\n",
       "      <td>12862</td>\n",
       "    </tr>\n",
       "    <tr>\n",
       "      <th>9</th>\n",
       "      <td>9</td>\n",
       "      <td>28943</td>\n",
       "      <td>32767</td>\n",
       "      <td>21934</td>\n",
       "      <td>35041</td>\n",
       "      <td>13107</td>\n",
       "    </tr>\n",
       "    <tr>\n",
       "      <th>10</th>\n",
       "      <td>10</td>\n",
       "      <td>32767</td>\n",
       "      <td>28909</td>\n",
       "      <td>5380</td>\n",
       "      <td>38456</td>\n",
       "      <td>33076</td>\n",
       "    </tr>\n",
       "    <tr>\n",
       "      <th>11</th>\n",
       "      <td>11</td>\n",
       "      <td>26880</td>\n",
       "      <td>32767</td>\n",
       "      <td>24</td>\n",
       "      <td>11747</td>\n",
       "      <td>11723</td>\n",
       "    </tr>\n",
       "    <tr>\n",
       "      <th>12</th>\n",
       "      <td>12</td>\n",
       "      <td>26286</td>\n",
       "      <td>25146</td>\n",
       "      <td>1308</td>\n",
       "      <td>20661</td>\n",
       "      <td>19353</td>\n",
       "    </tr>\n",
       "    <tr>\n",
       "      <th>13</th>\n",
       "      <td>13</td>\n",
       "      <td>19770</td>\n",
       "      <td>24375</td>\n",
       "      <td>448</td>\n",
       "      <td>20623</td>\n",
       "      <td>20175</td>\n",
       "    </tr>\n",
       "  </tbody>\n",
       "</table>\n",
       "</div>"
      ],
      "text/plain": [
       "    Unnamed: 0  Peak_1  Peak_2  Peak_1_idx  Peak_2_idx  Peak_dist\n",
       "0            0   32767   32767       16278       26016       9738\n",
       "1            1   32767   32767       17341       29507      12166\n",
       "2            2   32767   32767       15455       30247      14792\n",
       "3            3   32767   32767        7392       17930      10538\n",
       "4            4   29403   29080         179       28424      28245\n",
       "5            5   29125   27785       14674       23830       9156\n",
       "6            6   32767   31129        9086       17849       8763\n",
       "7            7   25438   32767        5732       16867      11135\n",
       "8            8   31638   32767       11724       24586      12862\n",
       "9            9   28943   32767       21934       35041      13107\n",
       "10          10   32767   28909        5380       38456      33076\n",
       "11          11   26880   32767          24       11747      11723\n",
       "12          12   26286   25146        1308       20661      19353\n",
       "13          13   19770   24375         448       20623      20175"
      ]
     },
     "execution_count": 16,
     "metadata": {},
     "output_type": "execute_result"
    }
   ],
   "source": [
    "peak_info = pd.read_csv('../../Source/Data/peak_info.csv')\n",
    "peak_info"
   ]
  },
  {
   "cell_type": "markdown",
   "metadata": {},
   "source": [
    "**Pythagorean theorem** to add \"relevant\" features w/r/t the two peaks"
   ]
  },
  {
   "cell_type": "code",
   "execution_count": 17,
   "metadata": {},
   "outputs": [
    {
     "data": {
      "text/plain": [
       "array([ 0.        ,  0.        ,  0.        ,  0.        ,  0.01143565,\n",
       "        0.14635212,  0.18692229, -0.65819488, -0.08777795, -0.2917525 ,\n",
       "        0.11664046, -0.50217521,  0.0589056 , -0.22825279])"
      ]
     },
     "execution_count": 17,
     "metadata": {},
     "output_type": "execute_result"
    }
   ],
   "source": [
    "a2 = peak_info['Peak_dist'].values**2 \n",
    "b2 = (peak_info['Peak_1'].values - peak_info['Peak_2'].values)**2\n",
    "c2 = a2 + b2\n",
    "c = np.sqrt(c2)\n",
    "cneg = -c\n",
    "slope = (peak_info['Peak_1'].values - peak_info['Peak_2'].values) / peak_info['Peak_dist'].values\n",
    "slope"
   ]
  },
  {
   "cell_type": "code",
   "execution_count": 18,
   "metadata": {},
   "outputs": [],
   "source": [
    "tap['Slope'] = slope"
   ]
  },
  {
   "cell_type": "markdown",
   "metadata": {},
   "source": [
    "### Cleaned up data"
   ]
  },
  {
   "cell_type": "code",
   "execution_count": 19,
   "metadata": {},
   "outputs": [
    {
     "data": {
      "text/html": [
       "<div>\n",
       "<style scoped>\n",
       "    .dataframe tbody tr th:only-of-type {\n",
       "        vertical-align: middle;\n",
       "    }\n",
       "\n",
       "    .dataframe tbody tr th {\n",
       "        vertical-align: top;\n",
       "    }\n",
       "\n",
       "    .dataframe thead th {\n",
       "        text-align: right;\n",
       "    }\n",
       "</style>\n",
       "<table border=\"1\" class=\"dataframe\">\n",
       "  <thead>\n",
       "    <tr style=\"text-align: right;\">\n",
       "      <th></th>\n",
       "      <th>Path</th>\n",
       "      <th>Labels</th>\n",
       "      <th>0</th>\n",
       "      <th>1</th>\n",
       "      <th>2</th>\n",
       "      <th>3</th>\n",
       "      <th>4</th>\n",
       "      <th>5</th>\n",
       "      <th>6</th>\n",
       "      <th>7</th>\n",
       "      <th>...</th>\n",
       "      <th>21</th>\n",
       "      <th>22</th>\n",
       "      <th>23</th>\n",
       "      <th>24</th>\n",
       "      <th>25</th>\n",
       "      <th>26</th>\n",
       "      <th>27</th>\n",
       "      <th>28</th>\n",
       "      <th>29</th>\n",
       "      <th>Slope</th>\n",
       "    </tr>\n",
       "  </thead>\n",
       "  <tbody>\n",
       "    <tr>\n",
       "      <th>0</th>\n",
       "      <td>../../Source/Shuffle/1/1.wav</td>\n",
       "      <td>1</td>\n",
       "      <td>-293.324979</td>\n",
       "      <td>69.916925</td>\n",
       "      <td>-30.826160</td>\n",
       "      <td>2.049414</td>\n",
       "      <td>-4.496487</td>\n",
       "      <td>3.587130</td>\n",
       "      <td>1.109237</td>\n",
       "      <td>-0.926278</td>\n",
       "      <td>...</td>\n",
       "      <td>2.224970</td>\n",
       "      <td>-4.363099</td>\n",
       "      <td>-0.258459</td>\n",
       "      <td>-5.279712</td>\n",
       "      <td>-0.340058</td>\n",
       "      <td>-3.246122</td>\n",
       "      <td>0.280615</td>\n",
       "      <td>-6.000290</td>\n",
       "      <td>-0.899876</td>\n",
       "      <td>0.000000</td>\n",
       "    </tr>\n",
       "    <tr>\n",
       "      <th>1</th>\n",
       "      <td>../../Source/Shuffle/1/2.wav</td>\n",
       "      <td>1</td>\n",
       "      <td>-276.266510</td>\n",
       "      <td>68.263278</td>\n",
       "      <td>-36.615667</td>\n",
       "      <td>5.305029</td>\n",
       "      <td>-5.954178</td>\n",
       "      <td>2.666508</td>\n",
       "      <td>3.021715</td>\n",
       "      <td>-3.797338</td>\n",
       "      <td>...</td>\n",
       "      <td>2.165899</td>\n",
       "      <td>-5.909448</td>\n",
       "      <td>-0.080335</td>\n",
       "      <td>-6.413993</td>\n",
       "      <td>1.396265</td>\n",
       "      <td>-3.023252</td>\n",
       "      <td>0.915387</td>\n",
       "      <td>-4.630155</td>\n",
       "      <td>1.618170</td>\n",
       "      <td>0.000000</td>\n",
       "    </tr>\n",
       "    <tr>\n",
       "      <th>2</th>\n",
       "      <td>../../Source/Shuffle/1/3.wav</td>\n",
       "      <td>1</td>\n",
       "      <td>-274.936810</td>\n",
       "      <td>71.731858</td>\n",
       "      <td>-38.724074</td>\n",
       "      <td>4.732382</td>\n",
       "      <td>-3.488196</td>\n",
       "      <td>2.976912</td>\n",
       "      <td>2.397730</td>\n",
       "      <td>-3.932935</td>\n",
       "      <td>...</td>\n",
       "      <td>1.316025</td>\n",
       "      <td>-5.749707</td>\n",
       "      <td>0.834045</td>\n",
       "      <td>-6.548704</td>\n",
       "      <td>0.321155</td>\n",
       "      <td>-4.796860</td>\n",
       "      <td>0.208068</td>\n",
       "      <td>-4.152533</td>\n",
       "      <td>0.476722</td>\n",
       "      <td>0.000000</td>\n",
       "    </tr>\n",
       "    <tr>\n",
       "      <th>3</th>\n",
       "      <td>../../Source/Shuffle/2/1.wav</td>\n",
       "      <td>1</td>\n",
       "      <td>-326.417460</td>\n",
       "      <td>112.223266</td>\n",
       "      <td>-44.161899</td>\n",
       "      <td>28.389066</td>\n",
       "      <td>5.440479</td>\n",
       "      <td>10.000289</td>\n",
       "      <td>-1.217789</td>\n",
       "      <td>6.791773</td>\n",
       "      <td>...</td>\n",
       "      <td>2.007109</td>\n",
       "      <td>-3.113516</td>\n",
       "      <td>0.543491</td>\n",
       "      <td>-3.239805</td>\n",
       "      <td>1.707846</td>\n",
       "      <td>-6.242094</td>\n",
       "      <td>-0.805958</td>\n",
       "      <td>-4.331307</td>\n",
       "      <td>-0.940939</td>\n",
       "      <td>0.000000</td>\n",
       "    </tr>\n",
       "    <tr>\n",
       "      <th>4</th>\n",
       "      <td>../../Source/Shuffle/3/1.wav</td>\n",
       "      <td>1</td>\n",
       "      <td>-141.855900</td>\n",
       "      <td>26.935705</td>\n",
       "      <td>-72.139592</td>\n",
       "      <td>16.181255</td>\n",
       "      <td>-55.381490</td>\n",
       "      <td>15.658915</td>\n",
       "      <td>-15.245119</td>\n",
       "      <td>3.821122</td>\n",
       "      <td>...</td>\n",
       "      <td>5.425504</td>\n",
       "      <td>-2.765038</td>\n",
       "      <td>6.763831</td>\n",
       "      <td>-3.798886</td>\n",
       "      <td>5.609641</td>\n",
       "      <td>1.389078</td>\n",
       "      <td>4.155606</td>\n",
       "      <td>-3.456605</td>\n",
       "      <td>-0.289201</td>\n",
       "      <td>0.011436</td>\n",
       "    </tr>\n",
       "  </tbody>\n",
       "</table>\n",
       "<p>5 rows × 33 columns</p>\n",
       "</div>"
      ],
      "text/plain": [
       "                           Path  Labels           0           1          2  \\\n",
       "0  ../../Source/Shuffle/1/1.wav       1 -293.324979   69.916925 -30.826160   \n",
       "1  ../../Source/Shuffle/1/2.wav       1 -276.266510   68.263278 -36.615667   \n",
       "2  ../../Source/Shuffle/1/3.wav       1 -274.936810   71.731858 -38.724074   \n",
       "3  ../../Source/Shuffle/2/1.wav       1 -326.417460  112.223266 -44.161899   \n",
       "4  ../../Source/Shuffle/3/1.wav       1 -141.855900   26.935705 -72.139592   \n",
       "\n",
       "           3          4          5          6         7    ...           21  \\\n",
       "0   2.049414  -4.496487   3.587130   1.109237 -0.926278    ...     2.224970   \n",
       "1   5.305029  -5.954178   2.666508   3.021715 -3.797338    ...     2.165899   \n",
       "2   4.732382  -3.488196   2.976912   2.397730 -3.932935    ...     1.316025   \n",
       "3  28.389066   5.440479  10.000289  -1.217789  6.791773    ...     2.007109   \n",
       "4  16.181255 -55.381490  15.658915 -15.245119  3.821122    ...     5.425504   \n",
       "\n",
       "         22        23        24        25        26        27        28  \\\n",
       "0 -4.363099 -0.258459 -5.279712 -0.340058 -3.246122  0.280615 -6.000290   \n",
       "1 -5.909448 -0.080335 -6.413993  1.396265 -3.023252  0.915387 -4.630155   \n",
       "2 -5.749707  0.834045 -6.548704  0.321155 -4.796860  0.208068 -4.152533   \n",
       "3 -3.113516  0.543491 -3.239805  1.707846 -6.242094 -0.805958 -4.331307   \n",
       "4 -2.765038  6.763831 -3.798886  5.609641  1.389078  4.155606 -3.456605   \n",
       "\n",
       "         29     Slope  \n",
       "0 -0.899876  0.000000  \n",
       "1  1.618170  0.000000  \n",
       "2  0.476722  0.000000  \n",
       "3 -0.940939  0.000000  \n",
       "4 -0.289201  0.011436  \n",
       "\n",
       "[5 rows x 33 columns]"
      ]
     },
     "execution_count": 19,
     "metadata": {},
     "output_type": "execute_result"
    }
   ],
   "source": [
    "tap.head()"
   ]
  },
  {
   "cell_type": "code",
   "execution_count": 20,
   "metadata": {},
   "outputs": [],
   "source": [
    "#tap.to_csv('../../Source/Data/Tap_data_n40.csv')"
   ]
  }
 ],
 "metadata": {
  "kernelspec": {
   "display_name": "Python 3",
   "language": "python",
   "name": "python3"
  },
  "language_info": {
   "codemirror_mode": {
    "name": "ipython",
    "version": 3
   },
   "file_extension": ".py",
   "mimetype": "text/x-python",
   "name": "python",
   "nbconvert_exporter": "python",
   "pygments_lexer": "ipython3",
   "version": "3.6.5"
  }
 },
 "nbformat": 4,
 "nbformat_minor": 2
}
