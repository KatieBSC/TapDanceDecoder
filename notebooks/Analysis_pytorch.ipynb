{
 "cells": [
  {
   "cell_type": "markdown",
   "metadata": {},
   "source": [
    "## Model Analysis: vanilla_net, one_hidden_net, many_hidden_net"
   ]
  },
  {
   "cell_type": "code",
   "execution_count": 70,
   "metadata": {},
   "outputs": [],
   "source": [
    "import pandas as pd\n",
    "from sklearn.metrics import accuracy_score\n",
    "import matplotlib.pyplot as plt"
   ]
  },
  {
   "cell_type": "code",
   "execution_count": 110,
   "metadata": {},
   "outputs": [],
   "source": [
    "pred = pd.read_csv('../src/predict/predictions/one_hidden_test_audio_20f.csv', names=['orig'])\n",
    "pred_sig = pd.read_csv('../src/predict/predictions/one_hidden_test_audio_20f_sig.csv', names=['sig'])\n",
    "pred_sgd = pd.read_csv('../src/predict/predictions/one_hidden_test_audio_20f_sig_sgd.csv', names=['sgd'])\n",
    "pred_adam = pd.read_csv('../src/predict/predictions/one_hidden_test_audio_20f_sig_adam.csv', names=['adam'])\n",
    "pred_many = pd.read_csv('../src/predict/predictions/many_hidden_audio_adam.csv', names=['many'])\n",
    "true = pd.read_csv('../../../Source/Data/y_test_mfccplus.csv')"
   ]
  },
  {
   "cell_type": "code",
   "execution_count": 111,
   "metadata": {},
   "outputs": [
    {
     "data": {
      "text/html": [
       "<div>\n",
       "<style scoped>\n",
       "    .dataframe tbody tr th:only-of-type {\n",
       "        vertical-align: middle;\n",
       "    }\n",
       "\n",
       "    .dataframe tbody tr th {\n",
       "        vertical-align: top;\n",
       "    }\n",
       "\n",
       "    .dataframe thead th {\n",
       "        text-align: right;\n",
       "    }\n",
       "</style>\n",
       "<table border=\"1\" class=\"dataframe\">\n",
       "  <thead>\n",
       "    <tr style=\"text-align: right;\">\n",
       "      <th></th>\n",
       "      <th>orig</th>\n",
       "      <th>sig</th>\n",
       "      <th>sgd</th>\n",
       "      <th>adam</th>\n",
       "      <th>many</th>\n",
       "      <th>Labels</th>\n",
       "    </tr>\n",
       "  </thead>\n",
       "  <tbody>\n",
       "    <tr>\n",
       "      <th>0</th>\n",
       "      <td>1</td>\n",
       "      <td>1</td>\n",
       "      <td>1</td>\n",
       "      <td>1</td>\n",
       "      <td>0</td>\n",
       "      <td>1</td>\n",
       "    </tr>\n",
       "    <tr>\n",
       "      <th>1</th>\n",
       "      <td>1</td>\n",
       "      <td>1</td>\n",
       "      <td>1</td>\n",
       "      <td>1</td>\n",
       "      <td>1</td>\n",
       "      <td>1</td>\n",
       "    </tr>\n",
       "    <tr>\n",
       "      <th>2</th>\n",
       "      <td>1</td>\n",
       "      <td>1</td>\n",
       "      <td>0</td>\n",
       "      <td>1</td>\n",
       "      <td>1</td>\n",
       "      <td>1</td>\n",
       "    </tr>\n",
       "    <tr>\n",
       "      <th>3</th>\n",
       "      <td>0</td>\n",
       "      <td>0</td>\n",
       "      <td>0</td>\n",
       "      <td>0</td>\n",
       "      <td>0</td>\n",
       "      <td>0</td>\n",
       "    </tr>\n",
       "    <tr>\n",
       "      <th>4</th>\n",
       "      <td>0</td>\n",
       "      <td>0</td>\n",
       "      <td>1</td>\n",
       "      <td>1</td>\n",
       "      <td>1</td>\n",
       "      <td>0</td>\n",
       "    </tr>\n",
       "  </tbody>\n",
       "</table>\n",
       "</div>"
      ],
      "text/plain": [
       "   orig  sig  sgd  adam  many  Labels\n",
       "0     1    1    1     1     0       1\n",
       "1     1    1    1     1     1       1\n",
       "2     1    1    0     1     1       1\n",
       "3     0    0    0     0     0       0\n",
       "4     0    0    1     1     1       0"
      ]
     },
     "execution_count": 111,
     "metadata": {},
     "output_type": "execute_result"
    }
   ],
   "source": [
    "results = pd.concat([pred, pred_sig, pred_sgd, pred_adam, pred_many, true], axis= 1)\n",
    "results.head()"
   ]
  },
  {
   "cell_type": "code",
   "execution_count": 90,
   "metadata": {},
   "outputs": [],
   "source": [
    "#mistakes = results.copy()\n",
    "#mistakes = mistakes.loc[~(mistakes['Labels'] == mistakes['orig']| mistakes['sig'] | mistakes['sgd'] | mistakes['adam'])]\n",
    "#mistakes"
   ]
  },
  {
   "cell_type": "code",
   "execution_count": 114,
   "metadata": {},
   "outputs": [],
   "source": [
    "acc_dict = {}\n",
    "for i in results.columns[:5]:\n",
    "    acc_dict[str(i)]= accuracy_score(y_pred=results[str(i)], y_true=results['Labels'])"
   ]
  },
  {
   "cell_type": "code",
   "execution_count": 126,
   "metadata": {},
   "outputs": [
    {
     "data": {
      "image/png": "[encoded data removed]",
      "text/plain": [
       "<Figure size 432x288 with 1 Axes>"
      ]
     },
     "metadata": {},
     "output_type": "display_data"
    }
   ],
   "source": [
    "plt.bar(range(len(acc_dict)), acc_dict.values(), align='center')\n",
    "plt.xticks(range(len(acc_dict)), list(acc_dict.keys()))\n",
    "plt.ylabel('Accuracy')\n",
    "plt.ylim(0,1)\n",
    "plt.title('Model accuracy on test set');"
   ]
  },
  {
   "cell_type": "code",
   "execution_count": 116,
   "metadata": {},
   "outputs": [
    {
     "data": {
      "text/plain": [
       "{'orig': 0.8717948717948718,\n",
       " 'sig': 0.8974358974358975,\n",
       " 'sgd': 0.8333333333333334,\n",
       " 'adam': 0.7307692307692307,\n",
       " 'many': 0.8589743589743589}"
      ]
     },
     "execution_count": 116,
     "metadata": {},
     "output_type": "execute_result"
    }
   ],
   "source": [
    "acc_dict"
   ]
  },
  {
   "cell_type": "markdown",
   "metadata": {},
   "source": [
    "## Training Errors"
   ]
  },
  {
   "cell_type": "code",
   "execution_count": 119,
   "metadata": {},
   "outputs": [],
   "source": [
    "error = pd.read_csv('../src/train/train_errors/vanilla_mfccplus.csv', names=['vanilla'])\n",
    "error_2 = pd.read_csv('../src/train/train_errors/one_hidden.csv', names=['one_hid'])\n",
    "error_3 = pd.read_csv('../src/train/train_errors/one_hidden_20f.csv', names=['one_hid_20f'])\n",
    "error_4 = pd.read_csv('../src/train/train_errors/one_hidden_20f_sig.csv', names=['one_hid_20f_sig'])\n",
    "error_5 = pd.read_csv('../src/train/train_errors/one_hidden_20f_sig_sgd.csv', names=['one_hid_20f_sgd'])\n",
    "error_6 = pd.read_csv('../src/train/train_errors/one_hidden_20f_sig_adam.csv', names=['one_hid_20f_adam'])\n",
    "error_7 = pd.read_csv('../src/train/train_errors/many_hidden_adam.csv', names=['many_hid_adam'])"
   ]
  },
  {
   "cell_type": "code",
   "execution_count": 120,
   "metadata": {},
   "outputs": [
    {
     "data": {
      "image/png": "[encoded data removed]",
      "text/plain": [
       "<Figure size 1152x576 with 1 Axes>"
      ]
     },
     "metadata": {},
     "output_type": "display_data"
    }
   ],
   "source": [
    "train_errors = pd.concat([error, error_2, error_3, error_4, error_5, error_6, error_7], axis =1)\n",
    "train_errors.plot(figsize=(16,8), title='Training Errors by model');"
   ]
  },
  {
   "cell_type": "code",
   "execution_count": null,
   "metadata": {},
   "outputs": [],
   "source": []
  },
  {
   "cell_type": "code",
   "execution_count": null,
   "metadata": {},
   "outputs": [],
   "source": []
  },
  {
   "cell_type": "code",
   "execution_count": null,
   "metadata": {},
   "outputs": [],
   "source": []
  }
 ],
 "metadata": {
  "kernelspec": {
   "display_name": "Python 3",
   "language": "python",
   "name": "python3"
  },
  "language_info": {
   "codemirror_mode": {
    "name": "ipython",
    "version": 3
   },
   "file_extension": ".py",
   "mimetype": "text/x-python",
   "name": "python",
   "nbconvert_exporter": "python",
   "pygments_lexer": "ipython3",
   "version": "3.6.5"
  }
 },
 "nbformat": 4,
 "nbformat_minor": 2
}
