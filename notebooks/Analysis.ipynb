{
 "cells": [
  {
   "cell_type": "markdown",
   "metadata": {},
   "source": [
    "## Analysis: By feature and model\n",
    "### Training on augmented data, Testing on untransformed data"
   ]
  },
  {
   "cell_type": "code",
   "execution_count": 1,
   "metadata": {},
   "outputs": [],
   "source": [
    "import pandas as pd\n",
    "from sklearn.metrics import accuracy_score\n",
    "import matplotlib.pyplot as plt"
   ]
  },
  {
   "cell_type": "markdown",
   "metadata": {},
   "source": [
    "## Torch Models"
   ]
  },
  {
   "cell_type": "code",
   "execution_count": 56,
   "metadata": {},
   "outputs": [],
   "source": [
    "V_stft = pd.read_csv('../src/predict/predictions/vanilla_test_stft.csv', names=['Pred'])\n",
    "true_V_stft = pd.read_csv('../src/predict/predictions/true_vanilla_test_stft.csv', names=['True'])\n",
    "\n",
    "V_mfcc = pd.read_csv('../src/predict/predictions/vanilla_test_mfcc.csv', names=['Pred'])\n",
    "true_V_mfcc = pd.read_csv('../src/predict/predictions/true_vanilla_test_mfcc.csv', names=['True'])\n",
    "\n",
    "OH_stft = pd.read_csv('../src/predict/predictions/one_hidden_test_stft.csv', names=['Pred'])\n",
    "true_OH_stft = pd.read_csv('../src/predict/predictions/true_one_hidden_test_stft.csv', names=['True'])\n",
    "\n",
    "OH_mfcc = pd.read_csv('../src/predict/predictions/one_hidden_test_mfcc.csv', names=['Pred'])\n",
    "true_OH_mfcc = pd.read_csv('../src/predict/predictions/true_one_hidden_test_mfcc.csv', names=['True'])"
   ]
  },
  {
   "cell_type": "code",
   "execution_count": 58,
   "metadata": {},
   "outputs": [],
   "source": [
    "vanilla_stft_results = pd.concat([V_stft, true_V_stft], axis = 1)\n",
    "vanilla_mfcc_results = pd.concat([V_mfcc, true_V_mfcc], axis = 1)\n",
    "one_hidden_stft_results = pd.concat([OH_stft, true_OH_stft], axis = 1)\n",
    "one_hidden_mfcc_results = pd.concat([OH_mfcc, true_OH_mfcc], axis = 1)"
   ]
  },
  {
   "cell_type": "code",
   "execution_count": 83,
   "metadata": {},
   "outputs": [],
   "source": [
    "df_list = [vanilla_stft_results, vanilla_mfcc_results, one_hidden_stft_results, one_hidden_mfcc_results]\n",
    "acc_list = []\n",
    "for df in df_list:\n",
    "    acc_list.append(accuracy_score(y_true=df['True'], y_pred=df['Pred']))"
   ]
  },
  {
   "cell_type": "code",
   "execution_count": 101,
   "metadata": {},
   "outputs": [],
   "source": [
    "torch_results = pd.DataFrame(acc_list, columns=['Accuracy'])\n",
    "torch_results.index = ['Linear_stft', 'Linear_mfcc', '1_hidden_stft', '1_hidden_mfcc']"
   ]
  },
  {
   "cell_type": "code",
   "execution_count": 142,
   "metadata": {},
   "outputs": [
    {
     "data": {
      "image/png": "[encoded data removed]",
      "text/plain": [
       "<Figure size 576x432 with 1 Axes>"
      ]
     },
     "metadata": {},
     "output_type": "display_data"
    }
   ],
   "source": [
    "ax = torch_results.plot.bar(legend=False, rot=0, figsize=(8,6))\n",
    "ax.set_title('Accuracy results by torch model');"
   ]
  },
  {
   "cell_type": "markdown",
   "metadata": {},
   "source": [
    "**Conclusion:** Using the Short-time Fourier Transform as input feature yields better results than Mel-frequency Cepstral Coefficients (num_ceps=20) for both the linear and non-linear torch models. Perhaps a combination of these features could yield an even better result."
   ]
  },
  {
   "cell_type": "code",
   "execution_count": null,
   "metadata": {},
   "outputs": [],
   "source": []
  },
  {
   "cell_type": "markdown",
   "metadata": {},
   "source": [
    "## sklearn Models (Logistic Regression, Random Forest)"
   ]
  },
  {
   "cell_type": "code",
   "execution_count": 125,
   "metadata": {},
   "outputs": [],
   "source": [
    "SK_stft = pd.read_csv('../../../Source/Data/results_sklearn_augmented_stft.csv')\n",
    "SK_mfcc = pd.read_csv('../../../Source/Data/results_sklearn_augmented_mfcc.csv')"
   ]
  },
  {
   "cell_type": "code",
   "execution_count": 129,
   "metadata": {},
   "outputs": [],
   "source": [
    "acc_stft_lr = accuracy_score(y_pred=SK_stft['Predict_lr'], y_true=SK_stft['True'])\n",
    "acc_stft_rf = accuracy_score(y_pred=SK_stft['Predict_rf'], y_true=SK_stft['True'])\n",
    "acc_mfcc_lr = accuracy_score(y_pred=SK_mfcc['Predict_lr'], y_true=SK_mfcc['True'])\n",
    "acc_mfcc_rf = accuracy_score(y_pred=SK_mfcc['Predict_rf'], y_true=SK_mfcc['True'])"
   ]
  },
  {
   "cell_type": "code",
   "execution_count": 144,
   "metadata": {},
   "outputs": [],
   "source": [
    "sklearn_results = pd.DataFrame([acc_stft_lr,acc_mfcc_lr, acc_stft_rf, acc_mfcc_rf], columns=['Accuracy'])\n",
    "sklearn_results.index = ['LogReg_stft', 'LogReg_mfcc', 'RndFst_stft','RndFst_mfcc']"
   ]
  },
  {
   "cell_type": "code",
   "execution_count": 145,
   "metadata": {},
   "outputs": [
    {
     "data": {
      "image/png": "[encoded data removed]",
      "text/plain": [
       "<Figure size 576x432 with 1 Axes>"
      ]
     },
     "metadata": {},
     "output_type": "display_data"
    }
   ],
   "source": [
    "ax = sklearn_results.plot.bar(legend=False, rot=0, figsize=(8,6))\n",
    "ax.set_title('Accuracy results by OOB model');"
   ]
  },
  {
   "cell_type": "markdown",
   "metadata": {},
   "source": [
    "**Conclusion:** Using the Short-time Fourier Transform as input feature yields ***worse*** results than Mel-frequency Cepstral Coefficients (num_ceps=20) for both the linear and non-linear sklearn models. In fact, the Random Forest model using MFCCs yields the best result of all the out-of-the-box methods."
   ]
  },
  {
   "cell_type": "code",
   "execution_count": null,
   "metadata": {},
   "outputs": [],
   "source": []
  }
 ],
 "metadata": {
  "kernelspec": {
   "display_name": "Python 3",
   "language": "python",
   "name": "python3"
  },
  "language_info": {
   "codemirror_mode": {
    "name": "ipython",
    "version": 3
   },
   "file_extension": ".py",
   "mimetype": "text/x-python",
   "name": "python",
   "nbconvert_exporter": "python",
   "pygments_lexer": "ipython3",
   "version": "3.6.5"
  }
 },
 "nbformat": 4,
 "nbformat_minor": 2
}
