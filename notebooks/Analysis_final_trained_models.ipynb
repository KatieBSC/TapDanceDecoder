{
 "cells": [
  {
   "cell_type": "markdown",
   "metadata": {},
   "source": [
    "# Analysis: Trained FNN Models"
   ]
  },
  {
   "cell_type": "markdown",
   "metadata": {},
   "source": [
    "Which model performs the best so far?"
   ]
  },
  {
   "cell_type": "code",
   "execution_count": 4,
   "metadata": {},
   "outputs": [],
   "source": [
    "import pandas as pd\n",
    "import matplotlib.pyplot as plt\n",
    "from sklearn.metrics import accuracy_score, confusion_matrix, precision_score, recall_score, f1_score, roc_auc_score, roc_curve\n"
   ]
  },
  {
   "cell_type": "code",
   "execution_count": 5,
   "metadata": {},
   "outputs": [],
   "source": [
    "# Models to compare\n",
    "\n",
    "#model = ('../src/train/trained_models/one_hidden_mfcc_zcr_energy_rmse_bpm.pt')\n",
    "#model = ('../src/train/trained_models/one_hidden_mfcc_zcr_energy_rmse_bpm_128.pt')\n",
    "#model = ('../src/train/trained_models/one_hidden_mfcc_zcr_energy_rmse_bpm_256.pt')\n",
    "#model = ('../src/train/trained_models/two_hidden_mfcc_zcr_energy_rmse_bpm.pt')\n",
    "\n",
    "#model = ('../src/train/trained_models/one_hidden_mfcc_128.pt')\n",
    "#model = ('../src/train/trained_models/two_hidden_mfcc.pt')\n",
    "#model = ('../src/train/trained_models/one_hidden_mfcc_bpm_128.pt')\n",
    "#model = ('../src/train/trained_models/two_hidden_mfcc_bpm.pt')\n"
   ]
  },
  {
   "cell_type": "markdown",
   "metadata": {},
   "source": [
    "## Validation Results"
   ]
  },
  {
   "cell_type": "markdown",
   "metadata": {},
   "source": [
    "Models tested on validation data set"
   ]
  },
  {
   "cell_type": "code",
   "execution_count": 6,
   "metadata": {},
   "outputs": [],
   "source": [
    "t1 = pd.read_csv('../src/predict/predictions/true_two_hidden_test_mfcc_bpm.csv', names=['True'])\n",
    "r1 = pd.read_csv('../src/predict/predictions/two_hidden_test_mfcc_bpm.csv', names=['Pred'])\n",
    "\n",
    "t2 = pd.read_csv('../src/predict/predictions/true_one_hidden_test_mfcc_bpm_128.csv', names=['True'])\n",
    "r2 = pd.read_csv('../src/predict/predictions/one_hidden_test_mfcc_bpm_128.csv', names=['Pred'])\n",
    "\n",
    "t3 = pd.read_csv('../src/predict/predictions/true_two_hidden_test_mfcc.csv', names=['True'])\n",
    "r3 = pd.read_csv('../src/predict/predictions/two_hidden_test_mfcc.csv', names=['Pred'])\n",
    "\n",
    "t4 = pd.read_csv('../src/predict/predictions/true_one_hidden_test_mfcc_128.csv', names=['True'])\n",
    "r4 = pd.read_csv('../src/predict/predictions/one_hidden_test_mfcc_128.csv', names=['Pred'])\n",
    "\n",
    "t5 = pd.read_csv('../src/predict/predictions/true_one_hidden_test_mfcc_zcr_energy_rmse_bpm_256.csv', names=['True'])\n",
    "r5 = pd.read_csv('../src/predict/predictions/one_hidden_test_mfcc_zcr_energy_rmse_bpm_256.csv', names=['Pred'])\n",
    "\n",
    "t6 = pd.read_csv('../src/predict/predictions/true_one_hidden_test_mfcc_zcr_energy_rmse_bpm_128.csv', names=['True'])\n",
    "r6 = pd.read_csv('../src/predict/predictions/one_hidden_test_mfcc_zcr_energy_rmse_bpm_128.csv', names=['Pred'])\n",
    "\n",
    "t7 = pd.read_csv('../src/predict/predictions/true_two_hidden_test_mfcc_zcr_energy_rmse_bpm.csv', names=['True'])\n",
    "r7 = pd.read_csv('../src/predict/predictions/two_hidden_test_mfcc_zcr_energy_rmse_bpm.csv', names=['Pred'])\n",
    "\n",
    "t8 = pd.read_csv('../src/predict/predictions/true_one_hidden_test_mfcc_zcr_energy_rmse_bpm.csv', names=['True'])\n",
    "r8 = pd.read_csv('../src/predict/predictions/one_hidden_test_mfcc_zcr_energy_rmse_bpm.csv', names=['Pred'])"
   ]
  },
  {
   "cell_type": "code",
   "execution_count": 7,
   "metadata": {},
   "outputs": [],
   "source": [
    "results1 = pd.concat([r1, t1], axis = 1)\n",
    "results2 = pd.concat([r2, t2], axis = 1)\n",
    "results3 = pd.concat([r3, t3], axis = 1)\n",
    "results4 = pd.concat([r4, t4], axis = 1)\n",
    "results5 = pd.concat([r5, t5], axis = 1)\n",
    "results6 = pd.concat([r6, t6], axis = 1)\n",
    "results7 = pd.concat([r7, t7], axis = 1)\n",
    "results8 = pd.concat([r8, t8], axis = 1)"
   ]
  },
  {
   "cell_type": "code",
   "execution_count": 8,
   "metadata": {},
   "outputs": [],
   "source": [
    "df_list = [results1, results2, results3, results4, results5, results6, results7, results8]\n",
    "acc_list, pre_list, rec_list, f1_list = [], [], [], []\n",
    "for df in df_list:\n",
    "    acc_list.append(accuracy_score(y_true=df['True'], y_pred=df['Pred']))\n",
    "    pre_list.append(precision_score(y_true=df['True'], y_pred=df['Pred']))\n",
    "    rec_list.append(recall_score(y_true=df['True'], y_pred=df['Pred']))\n",
    "    f1_list.append(f1_score(y_true=df['True'], y_pred=df['Pred']))"
   ]
  },
  {
   "cell_type": "code",
   "execution_count": 9,
   "metadata": {},
   "outputs": [],
   "source": [
    "torch_results = pd.DataFrame(acc_list, columns=['Accuracy'])\n",
    "torch_results.index = [ 'H2_mfcc_bpm',\n",
    "                        'H1_mfcc_bpm_128',\n",
    "                        'H2_mfcc',\n",
    "                        'H1_mfcc_128',\n",
    "                        'H1_all_256',\n",
    "                        'H1_all_128',\n",
    "                        'H2_all',\n",
    "                        'H1_all']\n",
    "torch_results['Precision score'] = pre_list\n",
    "torch_results['Recall score'] = rec_list\n",
    "torch_results['F1 score'] = f1_list"
   ]
  },
  {
   "cell_type": "code",
   "execution_count": 10,
   "metadata": {},
   "outputs": [],
   "source": [
    "#ax = torch_results.plot.bar(legend=False,  figsize=(12,8), rot=0)\n",
    "#ax.set_title('Accuracy results by torch model');"
   ]
  },
  {
   "cell_type": "code",
   "execution_count": 11,
   "metadata": {},
   "outputs": [
    {
     "data": {
      "text/html": [
       "<div>\n",
       "<style scoped>\n",
       "    .dataframe tbody tr th:only-of-type {\n",
       "        vertical-align: middle;\n",
       "    }\n",
       "\n",
       "    .dataframe tbody tr th {\n",
       "        vertical-align: top;\n",
       "    }\n",
       "\n",
       "    .dataframe thead th {\n",
       "        text-align: right;\n",
       "    }\n",
       "</style>\n",
       "<table border=\"1\" class=\"dataframe\">\n",
       "  <thead>\n",
       "    <tr style=\"text-align: right;\">\n",
       "      <th></th>\n",
       "      <th>Accuracy</th>\n",
       "      <th>Precision score</th>\n",
       "      <th>Recall score</th>\n",
       "      <th>F1 score</th>\n",
       "    </tr>\n",
       "  </thead>\n",
       "  <tbody>\n",
       "    <tr>\n",
       "      <th>H2_mfcc_bpm</th>\n",
       "      <td>0.921053</td>\n",
       "      <td>0.913043</td>\n",
       "      <td>0.954545</td>\n",
       "      <td>0.933333</td>\n",
       "    </tr>\n",
       "    <tr>\n",
       "      <th>H1_mfcc_bpm_128</th>\n",
       "      <td>0.947368</td>\n",
       "      <td>0.916667</td>\n",
       "      <td>1.000000</td>\n",
       "      <td>0.956522</td>\n",
       "    </tr>\n",
       "    <tr>\n",
       "      <th>H2_mfcc</th>\n",
       "      <td>0.947368</td>\n",
       "      <td>0.916667</td>\n",
       "      <td>1.000000</td>\n",
       "      <td>0.956522</td>\n",
       "    </tr>\n",
       "    <tr>\n",
       "      <th>H1_mfcc_128</th>\n",
       "      <td>0.973684</td>\n",
       "      <td>0.956522</td>\n",
       "      <td>1.000000</td>\n",
       "      <td>0.977778</td>\n",
       "    </tr>\n",
       "    <tr>\n",
       "      <th>H1_all_256</th>\n",
       "      <td>0.947368</td>\n",
       "      <td>0.954545</td>\n",
       "      <td>0.954545</td>\n",
       "      <td>0.954545</td>\n",
       "    </tr>\n",
       "    <tr>\n",
       "      <th>H1_all_128</th>\n",
       "      <td>0.947368</td>\n",
       "      <td>0.916667</td>\n",
       "      <td>1.000000</td>\n",
       "      <td>0.956522</td>\n",
       "    </tr>\n",
       "    <tr>\n",
       "      <th>H2_all</th>\n",
       "      <td>0.921053</td>\n",
       "      <td>0.952381</td>\n",
       "      <td>0.909091</td>\n",
       "      <td>0.930233</td>\n",
       "    </tr>\n",
       "    <tr>\n",
       "      <th>H1_all</th>\n",
       "      <td>0.947368</td>\n",
       "      <td>0.916667</td>\n",
       "      <td>1.000000</td>\n",
       "      <td>0.956522</td>\n",
       "    </tr>\n",
       "  </tbody>\n",
       "</table>\n",
       "</div>"
      ],
      "text/plain": [
       "                 Accuracy  Precision score  Recall score  F1 score\n",
       "H2_mfcc_bpm      0.921053         0.913043      0.954545  0.933333\n",
       "H1_mfcc_bpm_128  0.947368         0.916667      1.000000  0.956522\n",
       "H2_mfcc          0.947368         0.916667      1.000000  0.956522\n",
       "H1_mfcc_128      0.973684         0.956522      1.000000  0.977778\n",
       "H1_all_256       0.947368         0.954545      0.954545  0.954545\n",
       "H1_all_128       0.947368         0.916667      1.000000  0.956522\n",
       "H2_all           0.921053         0.952381      0.909091  0.930233\n",
       "H1_all           0.947368         0.916667      1.000000  0.956522"
      ]
     },
     "execution_count": 11,
     "metadata": {},
     "output_type": "execute_result"
    }
   ],
   "source": [
    "torch_results"
   ]
  },
  {
   "cell_type": "code",
   "execution_count": 12,
   "metadata": {},
   "outputs": [
    {
     "name": "stdout",
     "output_type": "stream",
     "text": [
      "H2_mfcc_bpm\n",
      "[[14  2]\n",
      " [ 1 21]]\n",
      "Precision score: 0.9130434782608695\n",
      "Recall score: 0.9545454545454546\n",
      "F1 score: 0.9333333333333332\n",
      "\n",
      "H1_mfcc_bpm_128\n",
      "[[14  2]\n",
      " [ 0 22]]\n",
      "Precision score: 0.9166666666666666\n",
      "Recall score: 1.0\n",
      "F1 score: 0.9565217391304348\n",
      "\n",
      "H2_mfcc\n",
      "[[14  2]\n",
      " [ 0 22]]\n",
      "Precision score: 0.9166666666666666\n",
      "Recall score: 1.0\n",
      "F1 score: 0.9565217391304348\n",
      "\n",
      "H1_mfcc_128\n",
      "[[15  1]\n",
      " [ 0 22]]\n",
      "Precision score: 0.9565217391304348\n",
      "Recall score: 1.0\n",
      "F1 score: 0.9777777777777777\n",
      "\n",
      "H1_all_256\n",
      "[[15  1]\n",
      " [ 1 21]]\n",
      "Precision score: 0.9545454545454546\n",
      "Recall score: 0.9545454545454546\n",
      "F1 score: 0.9545454545454546\n",
      "\n",
      "H1_all_128\n",
      "[[14  2]\n",
      " [ 0 22]]\n",
      "Precision score: 0.9166666666666666\n",
      "Recall score: 1.0\n",
      "F1 score: 0.9565217391304348\n",
      "\n",
      "H2_all\n",
      "[[15  1]\n",
      " [ 2 20]]\n",
      "Precision score: 0.9523809523809523\n",
      "Recall score: 0.9090909090909091\n",
      "F1 score: 0.9302325581395349\n",
      "\n",
      "H1_all\n",
      "[[14  2]\n",
      " [ 0 22]]\n",
      "Precision score: 0.9166666666666666\n",
      "Recall score: 1.0\n",
      "F1 score: 0.9565217391304348\n",
      "\n"
     ]
    }
   ],
   "source": [
    "df_list = [results1, results2, results3, results4, results5, results6, results7, results8]\n",
    "model_names = [ 'H2_mfcc_bpm','H1_mfcc_bpm_128','H2_mfcc','H1_mfcc_128','H1_all_256','H1_all_128','H2_all','H1_all']\n",
    "i = 0\n",
    "for df in df_list:\n",
    "    print(model_names[i])\n",
    "    print(confusion_matrix(y_true=df['True'], y_pred=df['Pred']))\n",
    "    print('Precision score: ' + str(precision_score(y_true=df['True'], y_pred=df['Pred'])))\n",
    "    print('Recall score: ' + str(recall_score(y_true=df['True'], y_pred=df['Pred'])))\n",
    "    print('F1 score: ' + str(f1_score(y_true=df['True'], y_pred=df['Pred'])))\n",
    "    print()\n",
    "    i += 1"
   ]
  },
  {
   "cell_type": "markdown",
   "metadata": {},
   "source": [
    "### How did the \"best\" model (H1_mfcc_128) hold up with the test set?"
   ]
  },
  {
   "cell_type": "code",
   "execution_count": 13,
   "metadata": {},
   "outputs": [],
   "source": [
    "best_t = pd.read_csv('../src/predict/predictions/true_one_hidden_test_mfcc_128_testset.csv', names=['True'])\n",
    "best_r = pd.read_csv('../src/predict/predictions/one_hidden_test_mfcc_128_testset.csv', names=['Pred'])"
   ]
  },
  {
   "cell_type": "code",
   "execution_count": 14,
   "metadata": {},
   "outputs": [],
   "source": [
    "best_results = pd.concat([best_r, best_t], axis = 1)"
   ]
  },
  {
   "cell_type": "code",
   "execution_count": 15,
   "metadata": {},
   "outputs": [
    {
     "name": "stdout",
     "output_type": "stream",
     "text": [
      "[[29  2]\n",
      " [ 1 44]]\n",
      "Precision score: 0.9565217391304348\n",
      "Recall score: 0.9777777777777777\n",
      "F1 score: 0.967032967032967\n"
     ]
    }
   ],
   "source": [
    "print(confusion_matrix(y_true=best_results['True'], y_pred=best_results['Pred']))\n",
    "print('Precision score: ' + str(precision_score(y_true=best_results['True'], y_pred=best_results['Pred'])))\n",
    "print('Recall score: ' + str(recall_score(y_true=best_results['True'], y_pred=best_results['Pred'])))\n",
    "print('F1 score: ' + str(f1_score(y_true=best_results['True'], y_pred=best_results['Pred'])))"
   ]
  },
  {
   "cell_type": "markdown",
   "metadata": {},
   "source": [
    "**Pretty, pretty, pretty good!**"
   ]
  },
  {
   "cell_type": "code",
   "execution_count": null,
   "metadata": {},
   "outputs": [],
   "source": []
  }
 ],
 "metadata": {
  "kernelspec": {
   "display_name": "Python 3",
   "language": "python",
   "name": "python3"
  },
  "language_info": {
   "codemirror_mode": {
    "name": "ipython",
    "version": 3
   },
   "file_extension": ".py",
   "mimetype": "text/x-python",
   "name": "python",
   "nbconvert_exporter": "python",
   "pygments_lexer": "ipython3",
   "version": "3.6.5"
  }
 },
 "nbformat": 4,
 "nbformat_minor": 2
}
