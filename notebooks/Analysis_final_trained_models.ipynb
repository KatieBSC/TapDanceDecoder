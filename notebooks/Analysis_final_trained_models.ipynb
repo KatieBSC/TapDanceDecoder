{
 "cells": [
  {
   "cell_type": "markdown",
   "metadata": {},
   "source": [
    "# Analysis: Trained FNN Models"
   ]
  },
  {
   "cell_type": "markdown",
   "metadata": {},
   "source": [
    "Which model performs the best so far?"
   ]
  },
  {
   "cell_type": "code",
   "execution_count": 20,
   "metadata": {},
   "outputs": [],
   "source": [
    "import pandas as pd\n",
    "import matplotlib.pyplot as plt\n",
    "from sklearn.metrics import accuracy_score"
   ]
  },
  {
   "cell_type": "code",
   "execution_count": null,
   "metadata": {},
   "outputs": [],
   "source": [
    "# Models to compare\n",
    "\n",
    "#model = ('../src/train/trained_models/one_hidden_mfcc_zcr_energy_rmse_bpm.pt')\n",
    "#model = ('../src/train/trained_models/one_hidden_mfcc_zcr_energy_rmse_bpm_128.pt')\n",
    "#model = ('../src/train/trained_models/one_hidden_mfcc_zcr_energy_rmse_bpm_256.pt')\n",
    "#model = ('../src/train/trained_models/two_hidden_mfcc_zcr_energy_rmse_bpm.pt')\n",
    "\n",
    "#model = ('../src/train/trained_models/one_hidden_mfcc_128.pt')\n",
    "#model = ('../src/train/trained_models/two_hidden_mfcc.pt')\n",
    "#model = ('../src/train/trained_models/one_hidden_mfcc_bpm_128.pt')\n",
    "#model = ('../src/train/trained_models/two_hidden_mfcc_bpm.pt')\n"
   ]
  },
  {
   "cell_type": "markdown",
   "metadata": {},
   "source": [
    "## Validation Results"
   ]
  },
  {
   "cell_type": "markdown",
   "metadata": {},
   "source": [
    "Models tested on validation data set"
   ]
  },
  {
   "cell_type": "code",
   "execution_count": 14,
   "metadata": {},
   "outputs": [],
   "source": [
    "t1 = pd.read_csv('../src/predict/predictions/true_two_hidden_test_mfcc_bpm.csv', names=['True'])\n",
    "r1 = pd.read_csv('../src/predict/predictions/two_hidden_test_mfcc_bpm.csv', names=['Pred'])\n",
    "\n",
    "t2 = pd.read_csv('../src/predict/predictions/true_one_hidden_test_mfcc_bpm_128.csv', names=['True'])\n",
    "r2 = pd.read_csv('../src/predict/predictions/one_hidden_test_mfcc_bpm_128.csv', names=['Pred'])\n",
    "\n",
    "t3 = pd.read_csv('../src/predict/predictions/true_two_hidden_test_mfcc.csv', names=['True'])\n",
    "r3 = pd.read_csv('../src/predict/predictions/two_hidden_test_mfcc.csv', names=['Pred'])\n",
    "\n",
    "t4 = pd.read_csv('../src/predict/predictions/true_one_hidden_test_mfcc_128.csv', names=['True'])\n",
    "r4 = pd.read_csv('../src/predict/predictions/one_hidden_test_mfcc_128.csv', names=['Pred'])\n",
    "\n",
    "t5 = pd.read_csv('../src/predict/predictions/true_one_hidden_test_mfcc_zcr_energy_rmse_bpm_256.csv', names=['True'])\n",
    "r5 = pd.read_csv('../src/predict/predictions/one_hidden_test_mfcc_zcr_energy_rmse_bpm_256.csv', names=['Pred'])\n",
    "\n",
    "t6 = pd.read_csv('../src/predict/predictions/true_one_hidden_test_mfcc_zcr_energy_rmse_bpm_128.csv', names=['True'])\n",
    "r6 = pd.read_csv('../src/predict/predictions/one_hidden_test_mfcc_zcr_energy_rmse_bpm_128.csv', names=['Pred'])\n",
    "\n",
    "t7 = pd.read_csv('../src/predict/predictions/true_two_hidden_test_mfcc_zcr_energy_rmse_bpm.csv', names=['True'])\n",
    "r7 = pd.read_csv('../src/predict/predictions/two_hidden_test_mfcc_zcr_energy_rmse_bpm.csv', names=['Pred'])\n",
    "\n",
    "t8 = pd.read_csv('../src/predict/predictions/true_one_hidden_test_mfcc_zcr_energy_rmse_bpm.csv', names=['True'])\n",
    "r8 = pd.read_csv('../src/predict/predictions/one_hidden_test_mfcc_zcr_energy_rmse_bpm.csv', names=['Pred'])"
   ]
  },
  {
   "cell_type": "code",
   "execution_count": 17,
   "metadata": {},
   "outputs": [],
   "source": [
    "results1 = pd.concat([r1, t1], axis = 1)\n",
    "results2 = pd.concat([r2, t2], axis = 1)\n",
    "results3 = pd.concat([r3, t3], axis = 1)\n",
    "results4 = pd.concat([r4, t4], axis = 1)\n",
    "results5 = pd.concat([r5, t5], axis = 1)\n",
    "results6 = pd.concat([r6, t6], axis = 1)\n",
    "results7 = pd.concat([r7, t7], axis = 1)\n",
    "results8 = pd.concat([r8, t8], axis = 1)"
   ]
  },
  {
   "cell_type": "code",
   "execution_count": 21,
   "metadata": {},
   "outputs": [],
   "source": [
    "df_list = [results1, results2, results3, results4, results5, results6, results7, results8]\n",
    "acc_list = []\n",
    "for df in df_list:\n",
    "    acc_list.append(accuracy_score(y_true=df['True'], y_pred=df['Pred']))"
   ]
  },
  {
   "cell_type": "code",
   "execution_count": 23,
   "metadata": {},
   "outputs": [],
   "source": [
    "torch_results = pd.DataFrame(acc_list, columns=['Accuracy'])\n",
    "torch_results.index = [ 'model_1',\n",
    "                        'model_2',\n",
    "                        'model_3',\n",
    "                        'model_4',\n",
    "                        'model_5',\n",
    "                        'model_6',\n",
    "                        'model_7',\n",
    "                        'model_8']"
   ]
  },
  {
   "cell_type": "code",
   "execution_count": 25,
   "metadata": {},
   "outputs": [
    {
     "data": {
      "image/png": "[encoded data removed]",
      "text/plain": [
       "<Figure size 864x576 with 1 Axes>"
      ]
     },
     "metadata": {},
     "output_type": "display_data"
    }
   ],
   "source": [
    "ax = torch_results.plot.bar(legend=False,  figsize=(12,8), rot=0)\n",
    "ax.set_title('Accuracy results by torch model');"
   ]
  },
  {
   "cell_type": "code",
   "execution_count": 32,
   "metadata": {},
   "outputs": [
    {
     "data": {
      "text/html": [
       "<div>\n",
       "<style scoped>\n",
       "    .dataframe tbody tr th:only-of-type {\n",
       "        vertical-align: middle;\n",
       "    }\n",
       "\n",
       "    .dataframe tbody tr th {\n",
       "        vertical-align: top;\n",
       "    }\n",
       "\n",
       "    .dataframe thead th {\n",
       "        text-align: right;\n",
       "    }\n",
       "</style>\n",
       "<table border=\"1\" class=\"dataframe\">\n",
       "  <thead>\n",
       "    <tr style=\"text-align: right;\">\n",
       "      <th></th>\n",
       "      <th>Accuracy</th>\n",
       "    </tr>\n",
       "  </thead>\n",
       "  <tbody>\n",
       "    <tr>\n",
       "      <th>model_1</th>\n",
       "      <td>0.921053</td>\n",
       "    </tr>\n",
       "    <tr>\n",
       "      <th>model_2</th>\n",
       "      <td>0.947368</td>\n",
       "    </tr>\n",
       "    <tr>\n",
       "      <th>model_3</th>\n",
       "      <td>0.947368</td>\n",
       "    </tr>\n",
       "    <tr>\n",
       "      <th>model_4</th>\n",
       "      <td>0.973684</td>\n",
       "    </tr>\n",
       "    <tr>\n",
       "      <th>model_5</th>\n",
       "      <td>0.947368</td>\n",
       "    </tr>\n",
       "    <tr>\n",
       "      <th>model_6</th>\n",
       "      <td>0.947368</td>\n",
       "    </tr>\n",
       "    <tr>\n",
       "      <th>model_7</th>\n",
       "      <td>0.921053</td>\n",
       "    </tr>\n",
       "    <tr>\n",
       "      <th>model_8</th>\n",
       "      <td>0.947368</td>\n",
       "    </tr>\n",
       "  </tbody>\n",
       "</table>\n",
       "</div>"
      ],
      "text/plain": [
       "         Accuracy\n",
       "model_1  0.921053\n",
       "model_2  0.947368\n",
       "model_3  0.947368\n",
       "model_4  0.973684\n",
       "model_5  0.947368\n",
       "model_6  0.947368\n",
       "model_7  0.921053\n",
       "model_8  0.947368"
      ]
     },
     "execution_count": 32,
     "metadata": {},
     "output_type": "execute_result"
    }
   ],
   "source": [
    "torch_results"
   ]
  },
  {
   "cell_type": "code",
   "execution_count": null,
   "metadata": {},
   "outputs": [],
   "source": []
  }
 ],
 "metadata": {
  "kernelspec": {
   "display_name": "Python 3",
   "language": "python",
   "name": "python3"
  },
  "language_info": {
   "codemirror_mode": {
    "name": "ipython",
    "version": 3
   },
   "file_extension": ".py",
   "mimetype": "text/x-python",
   "name": "python",
   "nbconvert_exporter": "python",
   "pygments_lexer": "ipython3",
   "version": "3.6.5"
  }
 },
 "nbformat": 4,
 "nbformat_minor": 2
}
