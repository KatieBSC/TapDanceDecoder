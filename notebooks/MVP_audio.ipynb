{
 "cells": [
  {
   "cell_type": "markdown",
   "metadata": {},
   "source": [
    "## TapDanceDecoder: MVP"
   ]
  },
  {
   "cell_type": "code",
   "execution_count": 25,
   "metadata": {},
   "outputs": [],
   "source": [
    "import pandas as pd\n",
    "import numpy as np\n",
    "import matplotlib.pyplot as plt\n",
    "from sklearn.metrics import accuracy_score,roc_curve, auc,roc_auc_score\n",
    "from sklearn.linear_model import LogisticRegression\n",
    "from sklearn.model_selection import train_test_split\n",
    "from sklearn.ensemble import RandomForestClassifier"
   ]
  },
  {
   "cell_type": "markdown",
   "metadata": {},
   "source": [
    "### Get Data"
   ]
  },
  {
   "cell_type": "code",
   "execution_count": 26,
   "metadata": {},
   "outputs": [],
   "source": [
    "#tap_df = pd.read_csv('../../../Source/Data/Train_data_n40.csv')\n",
    "#tap_df = pd.read_csv('../../../Source/Data/audio_data.csv')\n",
    "#tap_df = pd.read_csv('../../../Source/Data/audio_data_full.csv')\n",
    "#tap_df = pd.read_csv('../../../Source/Data/audio_data_filterbanks.csv')\n",
    "#tap_df = pd.read_csv('../../../Source/Data/audio_data_augmented.csv')\n",
    "tap_df = pd.read_csv('../../../Source/Data/train_data_reaugmented_pad_mfcc.csv')\n",
    "#tap_df = pd.read_csv('../../../Source/Data/train_data_reaugmented_zcr.csv')\n",
    "#tap_df = pd.read_csv('../../../Source/Data/train_data_augmented_stft_tempo.csv')"
   ]
  },
  {
   "cell_type": "code",
   "execution_count": 27,
   "metadata": {},
   "outputs": [
    {
     "data": {
      "text/html": [
       "<div>\n",
       "<style scoped>\n",
       "    .dataframe tbody tr th:only-of-type {\n",
       "        vertical-align: middle;\n",
       "    }\n",
       "\n",
       "    .dataframe tbody tr th {\n",
       "        vertical-align: top;\n",
       "    }\n",
       "\n",
       "    .dataframe thead th {\n",
       "        text-align: right;\n",
       "    }\n",
       "</style>\n",
       "<table border=\"1\" class=\"dataframe\">\n",
       "  <thead>\n",
       "    <tr style=\"text-align: right;\">\n",
       "      <th></th>\n",
       "      <th>Path</th>\n",
       "      <th>Labels</th>\n",
       "      <th>0</th>\n",
       "      <th>1</th>\n",
       "      <th>2</th>\n",
       "      <th>3</th>\n",
       "      <th>4</th>\n",
       "      <th>5</th>\n",
       "      <th>6</th>\n",
       "      <th>7</th>\n",
       "      <th>...</th>\n",
       "      <th>10</th>\n",
       "      <th>11</th>\n",
       "      <th>12</th>\n",
       "      <th>13</th>\n",
       "      <th>14</th>\n",
       "      <th>15</th>\n",
       "      <th>16</th>\n",
       "      <th>17</th>\n",
       "      <th>18</th>\n",
       "      <th>19</th>\n",
       "    </tr>\n",
       "  </thead>\n",
       "  <tbody>\n",
       "    <tr>\n",
       "      <th>0</th>\n",
       "      <td>../../../Source/Clean_train_clips/Re_augmented...</td>\n",
       "      <td>1</td>\n",
       "      <td>-513.434783</td>\n",
       "      <td>42.275352</td>\n",
       "      <td>-43.574934</td>\n",
       "      <td>8.922600</td>\n",
       "      <td>-11.386917</td>\n",
       "      <td>5.315976</td>\n",
       "      <td>-14.234438</td>\n",
       "      <td>-1.206219</td>\n",
       "      <td>...</td>\n",
       "      <td>-8.755037</td>\n",
       "      <td>-4.508263</td>\n",
       "      <td>-5.842792</td>\n",
       "      <td>-3.051108</td>\n",
       "      <td>-4.320598</td>\n",
       "      <td>-3.928329</td>\n",
       "      <td>-0.795162</td>\n",
       "      <td>-3.953750</td>\n",
       "      <td>-2.532973</td>\n",
       "      <td>-2.307693</td>\n",
       "    </tr>\n",
       "    <tr>\n",
       "      <th>1</th>\n",
       "      <td>../../../Source/Clean_train_clips/Re_augmented...</td>\n",
       "      <td>1</td>\n",
       "      <td>-520.366836</td>\n",
       "      <td>42.178901</td>\n",
       "      <td>-42.901227</td>\n",
       "      <td>8.465756</td>\n",
       "      <td>-6.467199</td>\n",
       "      <td>3.962063</td>\n",
       "      <td>-10.262548</td>\n",
       "      <td>2.102345</td>\n",
       "      <td>...</td>\n",
       "      <td>-6.013928</td>\n",
       "      <td>-3.190040</td>\n",
       "      <td>-4.381639</td>\n",
       "      <td>-2.809416</td>\n",
       "      <td>-0.952587</td>\n",
       "      <td>-3.608523</td>\n",
       "      <td>-0.974664</td>\n",
       "      <td>-2.792483</td>\n",
       "      <td>-2.055713</td>\n",
       "      <td>-1.199564</td>\n",
       "    </tr>\n",
       "    <tr>\n",
       "      <th>2</th>\n",
       "      <td>../../../Source/Clean_train_clips/Re_augmented...</td>\n",
       "      <td>0</td>\n",
       "      <td>-338.287209</td>\n",
       "      <td>59.362735</td>\n",
       "      <td>-45.628555</td>\n",
       "      <td>17.710239</td>\n",
       "      <td>-12.615943</td>\n",
       "      <td>-4.175951</td>\n",
       "      <td>-16.339347</td>\n",
       "      <td>-12.162610</td>\n",
       "      <td>...</td>\n",
       "      <td>-14.960085</td>\n",
       "      <td>-5.714965</td>\n",
       "      <td>-7.746904</td>\n",
       "      <td>-4.678124</td>\n",
       "      <td>-5.567488</td>\n",
       "      <td>-6.126950</td>\n",
       "      <td>-5.093155</td>\n",
       "      <td>-4.679337</td>\n",
       "      <td>-6.816532</td>\n",
       "      <td>-2.937599</td>\n",
       "    </tr>\n",
       "    <tr>\n",
       "      <th>3</th>\n",
       "      <td>../../../Source/Clean_train_clips/Re_augmented...</td>\n",
       "      <td>1</td>\n",
       "      <td>-381.970414</td>\n",
       "      <td>51.246450</td>\n",
       "      <td>-47.111796</td>\n",
       "      <td>19.729852</td>\n",
       "      <td>-4.108406</td>\n",
       "      <td>2.620009</td>\n",
       "      <td>-9.760340</td>\n",
       "      <td>-1.519934</td>\n",
       "      <td>...</td>\n",
       "      <td>-11.461138</td>\n",
       "      <td>-5.805019</td>\n",
       "      <td>-6.461581</td>\n",
       "      <td>-9.079039</td>\n",
       "      <td>-8.321539</td>\n",
       "      <td>-7.406770</td>\n",
       "      <td>-5.146965</td>\n",
       "      <td>-6.835102</td>\n",
       "      <td>-3.355231</td>\n",
       "      <td>-1.591103</td>\n",
       "    </tr>\n",
       "    <tr>\n",
       "      <th>4</th>\n",
       "      <td>../../../Source/Clean_train_clips/Re_augmented...</td>\n",
       "      <td>1</td>\n",
       "      <td>-496.690477</td>\n",
       "      <td>41.429445</td>\n",
       "      <td>-39.020128</td>\n",
       "      <td>12.506958</td>\n",
       "      <td>-9.727698</td>\n",
       "      <td>3.349217</td>\n",
       "      <td>-11.389727</td>\n",
       "      <td>2.234426</td>\n",
       "      <td>...</td>\n",
       "      <td>-9.346168</td>\n",
       "      <td>-3.828823</td>\n",
       "      <td>-5.700296</td>\n",
       "      <td>-6.104075</td>\n",
       "      <td>-4.188008</td>\n",
       "      <td>-4.387148</td>\n",
       "      <td>1.377132</td>\n",
       "      <td>-3.326681</td>\n",
       "      <td>-1.626681</td>\n",
       "      <td>-1.369617</td>\n",
       "    </tr>\n",
       "  </tbody>\n",
       "</table>\n",
       "<p>5 rows × 22 columns</p>\n",
       "</div>"
      ],
      "text/plain": [
       "                                                Path  Labels           0  \\\n",
       "0  ../../../Source/Clean_train_clips/Re_augmented...       1 -513.434783   \n",
       "1  ../../../Source/Clean_train_clips/Re_augmented...       1 -520.366836   \n",
       "2  ../../../Source/Clean_train_clips/Re_augmented...       0 -338.287209   \n",
       "3  ../../../Source/Clean_train_clips/Re_augmented...       1 -381.970414   \n",
       "4  ../../../Source/Clean_train_clips/Re_augmented...       1 -496.690477   \n",
       "\n",
       "           1          2          3          4         5          6          7  \\\n",
       "0  42.275352 -43.574934   8.922600 -11.386917  5.315976 -14.234438  -1.206219   \n",
       "1  42.178901 -42.901227   8.465756  -6.467199  3.962063 -10.262548   2.102345   \n",
       "2  59.362735 -45.628555  17.710239 -12.615943 -4.175951 -16.339347 -12.162610   \n",
       "3  51.246450 -47.111796  19.729852  -4.108406  2.620009  -9.760340  -1.519934   \n",
       "4  41.429445 -39.020128  12.506958  -9.727698  3.349217 -11.389727   2.234426   \n",
       "\n",
       "     ...            10        11        12        13        14        15  \\\n",
       "0    ...     -8.755037 -4.508263 -5.842792 -3.051108 -4.320598 -3.928329   \n",
       "1    ...     -6.013928 -3.190040 -4.381639 -2.809416 -0.952587 -3.608523   \n",
       "2    ...    -14.960085 -5.714965 -7.746904 -4.678124 -5.567488 -6.126950   \n",
       "3    ...    -11.461138 -5.805019 -6.461581 -9.079039 -8.321539 -7.406770   \n",
       "4    ...     -9.346168 -3.828823 -5.700296 -6.104075 -4.188008 -4.387148   \n",
       "\n",
       "         16        17        18        19  \n",
       "0 -0.795162 -3.953750 -2.532973 -2.307693  \n",
       "1 -0.974664 -2.792483 -2.055713 -1.199564  \n",
       "2 -5.093155 -4.679337 -6.816532 -2.937599  \n",
       "3 -5.146965 -6.835102 -3.355231 -1.591103  \n",
       "4  1.377132 -3.326681 -1.626681 -1.369617  \n",
       "\n",
       "[5 rows x 22 columns]"
      ]
     },
     "execution_count": 27,
     "metadata": {},
     "output_type": "execute_result"
    }
   ],
   "source": [
    "tap_df.head()"
   ]
  },
  {
   "cell_type": "markdown",
   "metadata": {},
   "source": [
    "## Models"
   ]
  },
  {
   "cell_type": "markdown",
   "metadata": {},
   "source": [
    "### Split the data / Load the data"
   ]
  },
  {
   "cell_type": "code",
   "execution_count": 28,
   "metadata": {},
   "outputs": [],
   "source": [
    "data = tap_df.iloc[:,2:].values\n",
    "labels = tap_df['Labels']"
   ]
  },
  {
   "cell_type": "code",
   "execution_count": 29,
   "metadata": {},
   "outputs": [],
   "source": [
    "#data\n",
    "#labels\n"
   ]
  },
  {
   "cell_type": "code",
   "execution_count": 30,
   "metadata": {},
   "outputs": [],
   "source": [
    "#X_train, X_test, y_train, y_test = train_test_split(data, labels, test_size=0.33, random_state=11, stratify=labels)"
   ]
  },
  {
   "cell_type": "code",
   "execution_count": 31,
   "metadata": {},
   "outputs": [],
   "source": [
    "#X_train = pd.read_csv('../../../Source/Data/X_train_mfccplus.csv')\n",
    "#y_train = pd.read_csv('../../../Source/Data/y_train_mfccplus.csv')\n",
    "#X_test = pd.read_csv('../../../Source/Data/X_test_mfccplus.csv')\n",
    "#y_test = pd.read_csv('../../../Source/Data/y_test_mfccplus.csv')\n",
    "#\n",
    "#X_train = X_train.drop(['Path'], axis = 1).values\n",
    "#X_test = X_test.drop(['Path'], axis = 1).values\n",
    "#y_train = y_train.values.ravel()\n",
    "#y_test = y_test.values.ravel()"
   ]
  },
  {
   "cell_type": "code",
   "execution_count": 32,
   "metadata": {},
   "outputs": [],
   "source": [
    "X_train = data\n",
    "y_train = labels"
   ]
  },
  {
   "cell_type": "code",
   "execution_count": 33,
   "metadata": {},
   "outputs": [],
   "source": [
    "X_test = pd.read_csv('../../../Source/Data/X_test_audio_pad_mfcc.csv')\n",
    "y_test = pd.read_csv('../../../Source/Data/y_test_audio_pad_mfcc.csv')"
   ]
  },
  {
   "cell_type": "code",
   "execution_count": 34,
   "metadata": {},
   "outputs": [
    {
     "data": {
      "text/html": [
       "<div>\n",
       "<style scoped>\n",
       "    .dataframe tbody tr th:only-of-type {\n",
       "        vertical-align: middle;\n",
       "    }\n",
       "\n",
       "    .dataframe tbody tr th {\n",
       "        vertical-align: top;\n",
       "    }\n",
       "\n",
       "    .dataframe thead th {\n",
       "        text-align: right;\n",
       "    }\n",
       "</style>\n",
       "<table border=\"1\" class=\"dataframe\">\n",
       "  <thead>\n",
       "    <tr style=\"text-align: right;\">\n",
       "      <th></th>\n",
       "      <th>Path</th>\n",
       "      <th>0</th>\n",
       "      <th>1</th>\n",
       "      <th>2</th>\n",
       "      <th>3</th>\n",
       "      <th>4</th>\n",
       "      <th>5</th>\n",
       "      <th>6</th>\n",
       "      <th>7</th>\n",
       "      <th>8</th>\n",
       "      <th>...</th>\n",
       "      <th>10</th>\n",
       "      <th>11</th>\n",
       "      <th>12</th>\n",
       "      <th>13</th>\n",
       "      <th>14</th>\n",
       "      <th>15</th>\n",
       "      <th>16</th>\n",
       "      <th>17</th>\n",
       "      <th>18</th>\n",
       "      <th>19</th>\n",
       "    </tr>\n",
       "  </thead>\n",
       "  <tbody>\n",
       "    <tr>\n",
       "      <th>0</th>\n",
       "      <td>../../../Source/Clean_train_clips/Test_pad/Bal...</td>\n",
       "      <td>-293.037943</td>\n",
       "      <td>58.505334</td>\n",
       "      <td>-48.589866</td>\n",
       "      <td>17.169116</td>\n",
       "      <td>-6.572513</td>\n",
       "      <td>7.458624</td>\n",
       "      <td>-18.516129</td>\n",
       "      <td>-4.076180</td>\n",
       "      <td>-5.928857</td>\n",
       "      <td>...</td>\n",
       "      <td>-11.396065</td>\n",
       "      <td>-6.967381</td>\n",
       "      <td>-13.589901</td>\n",
       "      <td>-5.837967</td>\n",
       "      <td>-5.179842</td>\n",
       "      <td>-7.704733</td>\n",
       "      <td>-7.414687</td>\n",
       "      <td>-3.320110</td>\n",
       "      <td>-5.325567</td>\n",
       "      <td>-0.951670</td>\n",
       "    </tr>\n",
       "    <tr>\n",
       "      <th>1</th>\n",
       "      <td>../../../Source/Clean_train_clips/Test_pad/Shu...</td>\n",
       "      <td>-384.336383</td>\n",
       "      <td>47.068545</td>\n",
       "      <td>-45.293521</td>\n",
       "      <td>13.427367</td>\n",
       "      <td>-13.270577</td>\n",
       "      <td>-1.291721</td>\n",
       "      <td>-13.609023</td>\n",
       "      <td>3.785221</td>\n",
       "      <td>-10.895158</td>\n",
       "      <td>...</td>\n",
       "      <td>-10.857611</td>\n",
       "      <td>-4.648366</td>\n",
       "      <td>-7.143908</td>\n",
       "      <td>-5.901735</td>\n",
       "      <td>-5.324317</td>\n",
       "      <td>-5.204102</td>\n",
       "      <td>-2.262903</td>\n",
       "      <td>-4.743410</td>\n",
       "      <td>-4.527111</td>\n",
       "      <td>-4.428521</td>\n",
       "    </tr>\n",
       "    <tr>\n",
       "      <th>2</th>\n",
       "      <td>../../../Source/Clean_train_clips/Test_pad/Bal...</td>\n",
       "      <td>-520.247082</td>\n",
       "      <td>27.081231</td>\n",
       "      <td>-20.913136</td>\n",
       "      <td>6.208832</td>\n",
       "      <td>-1.711949</td>\n",
       "      <td>3.825482</td>\n",
       "      <td>-8.540246</td>\n",
       "      <td>-3.395663</td>\n",
       "      <td>-4.924479</td>\n",
       "      <td>...</td>\n",
       "      <td>-5.470911</td>\n",
       "      <td>-2.400662</td>\n",
       "      <td>-2.123239</td>\n",
       "      <td>-4.389208</td>\n",
       "      <td>-4.464401</td>\n",
       "      <td>-2.490282</td>\n",
       "      <td>-1.779873</td>\n",
       "      <td>-3.779712</td>\n",
       "      <td>-1.225601</td>\n",
       "      <td>-1.614159</td>\n",
       "    </tr>\n",
       "    <tr>\n",
       "      <th>3</th>\n",
       "      <td>../../../Source/Clean_train_clips/Test_pad/Shu...</td>\n",
       "      <td>-308.469831</td>\n",
       "      <td>56.266528</td>\n",
       "      <td>-82.179828</td>\n",
       "      <td>26.003649</td>\n",
       "      <td>-6.314797</td>\n",
       "      <td>1.156485</td>\n",
       "      <td>-14.727843</td>\n",
       "      <td>-3.775998</td>\n",
       "      <td>-8.173048</td>\n",
       "      <td>...</td>\n",
       "      <td>-18.237127</td>\n",
       "      <td>-3.376053</td>\n",
       "      <td>-11.601492</td>\n",
       "      <td>-3.089659</td>\n",
       "      <td>-6.187914</td>\n",
       "      <td>-4.790451</td>\n",
       "      <td>-3.271651</td>\n",
       "      <td>-3.614034</td>\n",
       "      <td>-4.755073</td>\n",
       "      <td>-3.978672</td>\n",
       "    </tr>\n",
       "    <tr>\n",
       "      <th>4</th>\n",
       "      <td>../../../Source/Clean_train_clips/Test_pad/Shu...</td>\n",
       "      <td>-331.345416</td>\n",
       "      <td>62.737518</td>\n",
       "      <td>-70.032324</td>\n",
       "      <td>17.782250</td>\n",
       "      <td>-3.121940</td>\n",
       "      <td>-4.137454</td>\n",
       "      <td>-15.838885</td>\n",
       "      <td>0.413734</td>\n",
       "      <td>-6.607059</td>\n",
       "      <td>...</td>\n",
       "      <td>-16.465318</td>\n",
       "      <td>-1.578397</td>\n",
       "      <td>-10.076773</td>\n",
       "      <td>-4.570083</td>\n",
       "      <td>-4.776446</td>\n",
       "      <td>-6.193735</td>\n",
       "      <td>-4.736327</td>\n",
       "      <td>-5.317162</td>\n",
       "      <td>-4.541855</td>\n",
       "      <td>-3.242185</td>\n",
       "    </tr>\n",
       "  </tbody>\n",
       "</table>\n",
       "<p>5 rows × 21 columns</p>\n",
       "</div>"
      ],
      "text/plain": [
       "                                                Path           0          1  \\\n",
       "0  ../../../Source/Clean_train_clips/Test_pad/Bal... -293.037943  58.505334   \n",
       "1  ../../../Source/Clean_train_clips/Test_pad/Shu... -384.336383  47.068545   \n",
       "2  ../../../Source/Clean_train_clips/Test_pad/Bal... -520.247082  27.081231   \n",
       "3  ../../../Source/Clean_train_clips/Test_pad/Shu... -308.469831  56.266528   \n",
       "4  ../../../Source/Clean_train_clips/Test_pad/Shu... -331.345416  62.737518   \n",
       "\n",
       "           2          3          4         5          6         7          8  \\\n",
       "0 -48.589866  17.169116  -6.572513  7.458624 -18.516129 -4.076180  -5.928857   \n",
       "1 -45.293521  13.427367 -13.270577 -1.291721 -13.609023  3.785221 -10.895158   \n",
       "2 -20.913136   6.208832  -1.711949  3.825482  -8.540246 -3.395663  -4.924479   \n",
       "3 -82.179828  26.003649  -6.314797  1.156485 -14.727843 -3.775998  -8.173048   \n",
       "4 -70.032324  17.782250  -3.121940 -4.137454 -15.838885  0.413734  -6.607059   \n",
       "\n",
       "     ...            10        11         12        13        14        15  \\\n",
       "0    ...    -11.396065 -6.967381 -13.589901 -5.837967 -5.179842 -7.704733   \n",
       "1    ...    -10.857611 -4.648366  -7.143908 -5.901735 -5.324317 -5.204102   \n",
       "2    ...     -5.470911 -2.400662  -2.123239 -4.389208 -4.464401 -2.490282   \n",
       "3    ...    -18.237127 -3.376053 -11.601492 -3.089659 -6.187914 -4.790451   \n",
       "4    ...    -16.465318 -1.578397 -10.076773 -4.570083 -4.776446 -6.193735   \n",
       "\n",
       "         16        17        18        19  \n",
       "0 -7.414687 -3.320110 -5.325567 -0.951670  \n",
       "1 -2.262903 -4.743410 -4.527111 -4.428521  \n",
       "2 -1.779873 -3.779712 -1.225601 -1.614159  \n",
       "3 -3.271651 -3.614034 -4.755073 -3.978672  \n",
       "4 -4.736327 -5.317162 -4.541855 -3.242185  \n",
       "\n",
       "[5 rows x 21 columns]"
      ]
     },
     "execution_count": 34,
     "metadata": {},
     "output_type": "execute_result"
    }
   ],
   "source": [
    "X_test.head()"
   ]
  },
  {
   "cell_type": "code",
   "execution_count": 35,
   "metadata": {},
   "outputs": [],
   "source": [
    "X_test = X_test.iloc[:,1:].values\n",
    "y_test = y_test['Labels']"
   ]
  },
  {
   "cell_type": "code",
   "execution_count": null,
   "metadata": {},
   "outputs": [],
   "source": []
  },
  {
   "cell_type": "code",
   "execution_count": null,
   "metadata": {},
   "outputs": [],
   "source": []
  },
  {
   "cell_type": "markdown",
   "metadata": {},
   "source": [
    "## Logistic Regression"
   ]
  },
  {
   "cell_type": "code",
   "execution_count": 36,
   "metadata": {},
   "outputs": [
    {
     "data": {
      "text/plain": [
       "LogisticRegression(C=1.0, class_weight=None, dual=False, fit_intercept=True,\n",
       "          intercept_scaling=1, max_iter=100, multi_class='ovr', n_jobs=1,\n",
       "          penalty='l2', random_state=None, solver='liblinear', tol=0.0001,\n",
       "          verbose=0, warm_start=False)"
      ]
     },
     "execution_count": 36,
     "metadata": {},
     "output_type": "execute_result"
    }
   ],
   "source": [
    "logreg = LogisticRegression()\n",
    "logreg.fit(X_train,y_train)"
   ]
  },
  {
   "cell_type": "code",
   "execution_count": 37,
   "metadata": {},
   "outputs": [],
   "source": [
    "predict = logreg.predict(X_test)\n",
    "proba = logreg.predict_proba(X_test)"
   ]
  },
  {
   "cell_type": "code",
   "execution_count": 38,
   "metadata": {},
   "outputs": [],
   "source": [
    "results = pd.DataFrame()\n",
    "results['True'] = y_test\n",
    "results['Predict_lr'] = predict\n",
    "results['Prob_0_lr'] = proba[:,0]"
   ]
  },
  {
   "cell_type": "code",
   "execution_count": null,
   "metadata": {},
   "outputs": [],
   "source": []
  },
  {
   "cell_type": "code",
   "execution_count": 39,
   "metadata": {},
   "outputs": [
    {
     "data": {
      "text/html": [
       "<div>\n",
       "<style scoped>\n",
       "    .dataframe tbody tr th:only-of-type {\n",
       "        vertical-align: middle;\n",
       "    }\n",
       "\n",
       "    .dataframe tbody tr th {\n",
       "        vertical-align: top;\n",
       "    }\n",
       "\n",
       "    .dataframe thead th {\n",
       "        text-align: right;\n",
       "    }\n",
       "</style>\n",
       "<table border=\"1\" class=\"dataframe\">\n",
       "  <thead>\n",
       "    <tr style=\"text-align: right;\">\n",
       "      <th></th>\n",
       "      <th>True</th>\n",
       "      <th>Predict_lr</th>\n",
       "      <th>Prob_0_lr</th>\n",
       "    </tr>\n",
       "  </thead>\n",
       "  <tbody>\n",
       "    <tr>\n",
       "      <th>6</th>\n",
       "      <td>1</td>\n",
       "      <td>0</td>\n",
       "      <td>0.991939</td>\n",
       "    </tr>\n",
       "    <tr>\n",
       "      <th>7</th>\n",
       "      <td>0</td>\n",
       "      <td>1</td>\n",
       "      <td>0.023048</td>\n",
       "    </tr>\n",
       "    <tr>\n",
       "      <th>13</th>\n",
       "      <td>1</td>\n",
       "      <td>0</td>\n",
       "      <td>0.987399</td>\n",
       "    </tr>\n",
       "    <tr>\n",
       "      <th>14</th>\n",
       "      <td>1</td>\n",
       "      <td>0</td>\n",
       "      <td>0.948028</td>\n",
       "    </tr>\n",
       "    <tr>\n",
       "      <th>21</th>\n",
       "      <td>1</td>\n",
       "      <td>0</td>\n",
       "      <td>0.823009</td>\n",
       "    </tr>\n",
       "    <tr>\n",
       "      <th>29</th>\n",
       "      <td>1</td>\n",
       "      <td>0</td>\n",
       "      <td>0.560909</td>\n",
       "    </tr>\n",
       "    <tr>\n",
       "      <th>35</th>\n",
       "      <td>1</td>\n",
       "      <td>0</td>\n",
       "      <td>0.831596</td>\n",
       "    </tr>\n",
       "    <tr>\n",
       "      <th>36</th>\n",
       "      <td>1</td>\n",
       "      <td>0</td>\n",
       "      <td>0.686126</td>\n",
       "    </tr>\n",
       "    <tr>\n",
       "      <th>44</th>\n",
       "      <td>1</td>\n",
       "      <td>0</td>\n",
       "      <td>0.935907</td>\n",
       "    </tr>\n",
       "    <tr>\n",
       "      <th>45</th>\n",
       "      <td>1</td>\n",
       "      <td>0</td>\n",
       "      <td>0.998826</td>\n",
       "    </tr>\n",
       "    <tr>\n",
       "      <th>47</th>\n",
       "      <td>1</td>\n",
       "      <td>0</td>\n",
       "      <td>0.950084</td>\n",
       "    </tr>\n",
       "    <tr>\n",
       "      <th>54</th>\n",
       "      <td>1</td>\n",
       "      <td>0</td>\n",
       "      <td>0.992704</td>\n",
       "    </tr>\n",
       "    <tr>\n",
       "      <th>62</th>\n",
       "      <td>0</td>\n",
       "      <td>1</td>\n",
       "      <td>0.462548</td>\n",
       "    </tr>\n",
       "    <tr>\n",
       "      <th>68</th>\n",
       "      <td>0</td>\n",
       "      <td>1</td>\n",
       "      <td>0.348132</td>\n",
       "    </tr>\n",
       "    <tr>\n",
       "      <th>83</th>\n",
       "      <td>1</td>\n",
       "      <td>0</td>\n",
       "      <td>0.503811</td>\n",
       "    </tr>\n",
       "    <tr>\n",
       "      <th>87</th>\n",
       "      <td>1</td>\n",
       "      <td>0</td>\n",
       "      <td>0.519459</td>\n",
       "    </tr>\n",
       "    <tr>\n",
       "      <th>94</th>\n",
       "      <td>1</td>\n",
       "      <td>0</td>\n",
       "      <td>0.647322</td>\n",
       "    </tr>\n",
       "    <tr>\n",
       "      <th>109</th>\n",
       "      <td>0</td>\n",
       "      <td>1</td>\n",
       "      <td>0.429989</td>\n",
       "    </tr>\n",
       "  </tbody>\n",
       "</table>\n",
       "</div>"
      ],
      "text/plain": [
       "     True  Predict_lr  Prob_0_lr\n",
       "6       1           0   0.991939\n",
       "7       0           1   0.023048\n",
       "13      1           0   0.987399\n",
       "14      1           0   0.948028\n",
       "21      1           0   0.823009\n",
       "29      1           0   0.560909\n",
       "35      1           0   0.831596\n",
       "36      1           0   0.686126\n",
       "44      1           0   0.935907\n",
       "45      1           0   0.998826\n",
       "47      1           0   0.950084\n",
       "54      1           0   0.992704\n",
       "62      0           1   0.462548\n",
       "68      0           1   0.348132\n",
       "83      1           0   0.503811\n",
       "87      1           0   0.519459\n",
       "94      1           0   0.647322\n",
       "109     0           1   0.429989"
      ]
     },
     "execution_count": 39,
     "metadata": {},
     "output_type": "execute_result"
    }
   ],
   "source": [
    "mistakes = results.copy()\n",
    "mistakes = mistakes.loc[~(mistakes['True'] == mistakes['Predict_lr'])]\n",
    "mistakes"
   ]
  },
  {
   "cell_type": "code",
   "execution_count": 40,
   "metadata": {},
   "outputs": [
    {
     "name": "stdout",
     "output_type": "stream",
     "text": [
      "Accuracy score: 0.8434782608695652\n"
     ]
    }
   ],
   "source": [
    "print('Accuracy score: ' + str(accuracy_score(y_test, predict)))"
   ]
  },
  {
   "cell_type": "markdown",
   "metadata": {},
   "source": [
    "### Visualizing results"
   ]
  },
  {
   "cell_type": "code",
   "execution_count": 41,
   "metadata": {},
   "outputs": [],
   "source": [
    "def ROC_plot (testname, y_true, y_prob):\n",
    "    \n",
    "    logit_roc_auc = roc_auc_score(y_true, y_prob)\n",
    "    \n",
    "    fpr, tpr, thresholds = roc_curve(y_true, y_prob)\n",
    "    \n",
    "    plt.figure()\n",
    "    plt.plot(fpr, tpr)\n",
    "    plt.plot([0, 1], [0, 1], 'r--')\n",
    "    plt.xlim([-0.01, 1.0])\n",
    "    plt.ylim([0, 1.05])\n",
    "    plt.xlabel('False Positive Rate', size=15)\n",
    "    plt.ylabel('True Positive Rate', size=15)\n",
    "    plt.xticks(size=15)\n",
    "    plt.yticks(size=15)\n",
    "    plt.title('ROC: ' + testname, size=25)\n",
    "    \n",
    "    plt.show()\n",
    "    print ('ROC_AUC_Score: ' + str(logit_roc_auc))"
   ]
  },
  {
   "cell_type": "code",
   "execution_count": 42,
   "metadata": {},
   "outputs": [
    {
     "data": {
      "image/png": "[encoded data removed]",
      "text/plain": [
       "<Figure size 432x288 with 1 Axes>"
      ]
     },
     "metadata": {},
     "output_type": "display_data"
    },
    {
     "name": "stdout",
     "output_type": "stream",
     "text": [
      "ROC_AUC_Score: 0.8538557213930348\n"
     ]
    }
   ],
   "source": [
    "ROC_plot('LogReg',  y_test, predict )"
   ]
  },
  {
   "cell_type": "markdown",
   "metadata": {},
   "source": [
    "## Can't see the forest for the trees.... Random Forest Classifier"
   ]
  },
  {
   "cell_type": "code",
   "execution_count": 43,
   "metadata": {},
   "outputs": [
    {
     "data": {
      "text/plain": [
       "RandomForestClassifier(bootstrap=True, class_weight=None, criterion='gini',\n",
       "            max_depth=None, max_features='auto', max_leaf_nodes=16,\n",
       "            min_impurity_decrease=0.0, min_impurity_split=None,\n",
       "            min_samples_leaf=1, min_samples_split=2,\n",
       "            min_weight_fraction_leaf=0.0, n_estimators=100, n_jobs=1,\n",
       "            oob_score=False, random_state=None, verbose=0,\n",
       "            warm_start=False)"
      ]
     },
     "execution_count": 43,
     "metadata": {},
     "output_type": "execute_result"
    }
   ],
   "source": [
    "rnd_clf = RandomForestClassifier(n_estimators=100, max_leaf_nodes=16)\n",
    "rnd_clf.fit(X_train, y_train)"
   ]
  },
  {
   "cell_type": "code",
   "execution_count": 44,
   "metadata": {},
   "outputs": [],
   "source": [
    "predict_rf = rnd_clf.predict(X_test)\n",
    "proba_rf = rnd_clf.predict_proba(X_test)"
   ]
  },
  {
   "cell_type": "code",
   "execution_count": 45,
   "metadata": {},
   "outputs": [],
   "source": [
    "results['Predict_rf'] = predict_rf\n",
    "results['Prob_0_rf'] = proba_rf[:,0]"
   ]
  },
  {
   "cell_type": "code",
   "execution_count": null,
   "metadata": {},
   "outputs": [],
   "source": []
  },
  {
   "cell_type": "code",
   "execution_count": 46,
   "metadata": {},
   "outputs": [
    {
     "data": {
      "text/html": [
       "<div>\n",
       "<style scoped>\n",
       "    .dataframe tbody tr th:only-of-type {\n",
       "        vertical-align: middle;\n",
       "    }\n",
       "\n",
       "    .dataframe tbody tr th {\n",
       "        vertical-align: top;\n",
       "    }\n",
       "\n",
       "    .dataframe thead th {\n",
       "        text-align: right;\n",
       "    }\n",
       "</style>\n",
       "<table border=\"1\" class=\"dataframe\">\n",
       "  <thead>\n",
       "    <tr style=\"text-align: right;\">\n",
       "      <th></th>\n",
       "      <th>True</th>\n",
       "      <th>Predict_lr</th>\n",
       "      <th>Prob_0_lr</th>\n",
       "      <th>Predict_rf</th>\n",
       "      <th>Prob_0_rf</th>\n",
       "    </tr>\n",
       "  </thead>\n",
       "  <tbody>\n",
       "    <tr>\n",
       "      <th>2</th>\n",
       "      <td>0</td>\n",
       "      <td>0</td>\n",
       "      <td>0.857030</td>\n",
       "      <td>1</td>\n",
       "      <td>0.403425</td>\n",
       "    </tr>\n",
       "    <tr>\n",
       "      <th>45</th>\n",
       "      <td>1</td>\n",
       "      <td>0</td>\n",
       "      <td>0.998826</td>\n",
       "      <td>0</td>\n",
       "      <td>0.571381</td>\n",
       "    </tr>\n",
       "    <tr>\n",
       "      <th>54</th>\n",
       "      <td>1</td>\n",
       "      <td>0</td>\n",
       "      <td>0.992704</td>\n",
       "      <td>0</td>\n",
       "      <td>0.507619</td>\n",
       "    </tr>\n",
       "    <tr>\n",
       "      <th>63</th>\n",
       "      <td>0</td>\n",
       "      <td>0</td>\n",
       "      <td>0.591287</td>\n",
       "      <td>1</td>\n",
       "      <td>0.269156</td>\n",
       "    </tr>\n",
       "    <tr>\n",
       "      <th>68</th>\n",
       "      <td>0</td>\n",
       "      <td>1</td>\n",
       "      <td>0.348132</td>\n",
       "      <td>1</td>\n",
       "      <td>0.383046</td>\n",
       "    </tr>\n",
       "    <tr>\n",
       "      <th>71</th>\n",
       "      <td>0</td>\n",
       "      <td>0</td>\n",
       "      <td>0.980559</td>\n",
       "      <td>1</td>\n",
       "      <td>0.421881</td>\n",
       "    </tr>\n",
       "    <tr>\n",
       "      <th>87</th>\n",
       "      <td>1</td>\n",
       "      <td>0</td>\n",
       "      <td>0.519459</td>\n",
       "      <td>0</td>\n",
       "      <td>0.578583</td>\n",
       "    </tr>\n",
       "    <tr>\n",
       "      <th>91</th>\n",
       "      <td>1</td>\n",
       "      <td>1</td>\n",
       "      <td>0.441035</td>\n",
       "      <td>0</td>\n",
       "      <td>0.518463</td>\n",
       "    </tr>\n",
       "    <tr>\n",
       "      <th>97</th>\n",
       "      <td>0</td>\n",
       "      <td>0</td>\n",
       "      <td>0.868744</td>\n",
       "      <td>1</td>\n",
       "      <td>0.434614</td>\n",
       "    </tr>\n",
       "    <tr>\n",
       "      <th>109</th>\n",
       "      <td>0</td>\n",
       "      <td>1</td>\n",
       "      <td>0.429989</td>\n",
       "      <td>1</td>\n",
       "      <td>0.422887</td>\n",
       "    </tr>\n",
       "  </tbody>\n",
       "</table>\n",
       "</div>"
      ],
      "text/plain": [
       "     True  Predict_lr  Prob_0_lr  Predict_rf  Prob_0_rf\n",
       "2       0           0   0.857030           1   0.403425\n",
       "45      1           0   0.998826           0   0.571381\n",
       "54      1           0   0.992704           0   0.507619\n",
       "63      0           0   0.591287           1   0.269156\n",
       "68      0           1   0.348132           1   0.383046\n",
       "71      0           0   0.980559           1   0.421881\n",
       "87      1           0   0.519459           0   0.578583\n",
       "91      1           1   0.441035           0   0.518463\n",
       "97      0           0   0.868744           1   0.434614\n",
       "109     0           1   0.429989           1   0.422887"
      ]
     },
     "execution_count": 46,
     "metadata": {},
     "output_type": "execute_result"
    }
   ],
   "source": [
    "mistakes = results.copy()\n",
    "mistakes = mistakes.loc[~(mistakes['True'] == mistakes['Predict_rf'])]\n",
    "mistakes"
   ]
  },
  {
   "cell_type": "markdown",
   "metadata": {},
   "source": [
    "So where the Random Forest model makes mistakes, the LogReg model makes correct predictions. <br/>Perhaps a voting classifier would improve the accuracy even more."
   ]
  },
  {
   "cell_type": "code",
   "execution_count": 47,
   "metadata": {},
   "outputs": [
    {
     "name": "stdout",
     "output_type": "stream",
     "text": [
      "Accuracy score: 0.9130434782608695\n"
     ]
    }
   ],
   "source": [
    "print('Accuracy score: ' + str(accuracy_score(y_test, predict_rf)))"
   ]
  },
  {
   "cell_type": "code",
   "execution_count": 48,
   "metadata": {},
   "outputs": [
    {
     "data": {
      "image/png": "[encoded data removed]",
      "text/plain": [
       "<Figure size 432x288 with 1 Axes>"
      ]
     },
     "metadata": {},
     "output_type": "display_data"
    },
    {
     "name": "stdout",
     "output_type": "stream",
     "text": [
      "ROC_AUC_Score: 0.9076492537313433\n"
     ]
    }
   ],
   "source": [
    "ROC_plot('Random Forest', y_test, predict_rf)"
   ]
  },
  {
   "cell_type": "code",
   "execution_count": 49,
   "metadata": {},
   "outputs": [],
   "source": [
    "#results.to_csv('../../../Source/Data/results_sklearn_reaugmented_pad_mfcc.csv', index = False)"
   ]
  },
  {
   "cell_type": "code",
   "execution_count": null,
   "metadata": {},
   "outputs": [],
   "source": []
  },
  {
   "cell_type": "code",
   "execution_count": null,
   "metadata": {},
   "outputs": [],
   "source": []
  }
 ],
 "metadata": {
  "kernelspec": {
   "display_name": "Python 3",
   "language": "python",
   "name": "python3"
  },
  "language_info": {
   "codemirror_mode": {
    "name": "ipython",
    "version": 3
   },
   "file_extension": ".py",
   "mimetype": "text/x-python",
   "name": "python",
   "nbconvert_exporter": "python",
   "pygments_lexer": "ipython3",
   "version": "3.6.5"
  }
 },
 "nbformat": 4,
 "nbformat_minor": 2
}
