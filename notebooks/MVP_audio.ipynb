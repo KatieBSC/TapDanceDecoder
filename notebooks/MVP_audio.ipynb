{
 "cells": [
  {
   "cell_type": "markdown",
   "metadata": {},
   "source": [
    "## TapDanceDecoder: MVP"
   ]
  },
  {
   "cell_type": "code",
   "execution_count": 1,
   "metadata": {},
   "outputs": [],
   "source": [
    "import pandas as pd\n",
    "import numpy as np\n",
    "import matplotlib.pyplot as plt\n",
    "from sklearn.metrics import accuracy_score,roc_curve, auc,roc_auc_score\n",
    "from sklearn.linear_model import LogisticRegression\n",
    "from sklearn.model_selection import train_test_split\n",
    "from sklearn.ensemble import RandomForestClassifier"
   ]
  },
  {
   "cell_type": "markdown",
   "metadata": {},
   "source": [
    "### Get Data"
   ]
  },
  {
   "cell_type": "code",
   "execution_count": 2,
   "metadata": {},
   "outputs": [],
   "source": [
    "#tap_df = pd.read_csv('../../../Source/Data/Train_data_n40.csv')\n",
    "tap_df = pd.read_csv('../../../Source/Data/audio_data.csv')"
   ]
  },
  {
   "cell_type": "code",
   "execution_count": 3,
   "metadata": {},
   "outputs": [
    {
     "data": {
      "text/html": [
       "<div>\n",
       "<style scoped>\n",
       "    .dataframe tbody tr th:only-of-type {\n",
       "        vertical-align: middle;\n",
       "    }\n",
       "\n",
       "    .dataframe tbody tr th {\n",
       "        vertical-align: top;\n",
       "    }\n",
       "\n",
       "    .dataframe thead th {\n",
       "        text-align: right;\n",
       "    }\n",
       "</style>\n",
       "<table border=\"1\" class=\"dataframe\">\n",
       "  <thead>\n",
       "    <tr style=\"text-align: right;\">\n",
       "      <th></th>\n",
       "      <th>Path</th>\n",
       "      <th>Labels</th>\n",
       "      <th>0</th>\n",
       "      <th>1</th>\n",
       "      <th>2</th>\n",
       "      <th>3</th>\n",
       "      <th>4</th>\n",
       "      <th>5</th>\n",
       "      <th>6</th>\n",
       "      <th>7</th>\n",
       "      <th>...</th>\n",
       "      <th>14</th>\n",
       "      <th>15</th>\n",
       "      <th>16</th>\n",
       "      <th>17</th>\n",
       "      <th>18</th>\n",
       "      <th>19</th>\n",
       "      <th>BPM</th>\n",
       "      <th>ZCR</th>\n",
       "      <th>RMSE</th>\n",
       "      <th>STE</th>\n",
       "    </tr>\n",
       "  </thead>\n",
       "  <tbody>\n",
       "    <tr>\n",
       "      <th>0</th>\n",
       "      <td>../../../Source/Clean_train_clips/Shuffle/1/1.wav</td>\n",
       "      <td>1</td>\n",
       "      <td>-152.435155</td>\n",
       "      <td>78.311769</td>\n",
       "      <td>-106.482258</td>\n",
       "      <td>40.668131</td>\n",
       "      <td>-6.848575</td>\n",
       "      <td>-13.537377</td>\n",
       "      <td>-25.102485</td>\n",
       "      <td>6.754208</td>\n",
       "      <td>...</td>\n",
       "      <td>-10.265548</td>\n",
       "      <td>-2.854873</td>\n",
       "      <td>-2.821410</td>\n",
       "      <td>-11.892168</td>\n",
       "      <td>-1.505338</td>\n",
       "      <td>-2.087528</td>\n",
       "      <td>258.398438</td>\n",
       "      <td>0.183553</td>\n",
       "      <td>0.113765</td>\n",
       "      <td>3.927907</td>\n",
       "    </tr>\n",
       "    <tr>\n",
       "      <th>1</th>\n",
       "      <td>../../../Source/Clean_train_clips/Shuffle/1/10...</td>\n",
       "      <td>1</td>\n",
       "      <td>-143.991075</td>\n",
       "      <td>65.523449</td>\n",
       "      <td>-102.436753</td>\n",
       "      <td>32.133732</td>\n",
       "      <td>-7.930019</td>\n",
       "      <td>-3.615873</td>\n",
       "      <td>-29.871724</td>\n",
       "      <td>-0.182348</td>\n",
       "      <td>...</td>\n",
       "      <td>-13.680871</td>\n",
       "      <td>-0.441789</td>\n",
       "      <td>-5.826206</td>\n",
       "      <td>-15.578982</td>\n",
       "      <td>-4.161982</td>\n",
       "      <td>-2.657234</td>\n",
       "      <td>215.332031</td>\n",
       "      <td>0.187988</td>\n",
       "      <td>0.105637</td>\n",
       "      <td>3.369918</td>\n",
       "    </tr>\n",
       "    <tr>\n",
       "      <th>2</th>\n",
       "      <td>../../../Source/Clean_train_clips/Shuffle/1/11...</td>\n",
       "      <td>1</td>\n",
       "      <td>-129.072670</td>\n",
       "      <td>59.774233</td>\n",
       "      <td>-97.656748</td>\n",
       "      <td>35.739948</td>\n",
       "      <td>-4.885226</td>\n",
       "      <td>-0.900206</td>\n",
       "      <td>-23.750029</td>\n",
       "      <td>-4.998659</td>\n",
       "      <td>...</td>\n",
       "      <td>-14.757999</td>\n",
       "      <td>-2.040899</td>\n",
       "      <td>-4.384916</td>\n",
       "      <td>-20.807594</td>\n",
       "      <td>-8.360181</td>\n",
       "      <td>-2.981402</td>\n",
       "      <td>234.907670</td>\n",
       "      <td>0.201621</td>\n",
       "      <td>0.082684</td>\n",
       "      <td>1.902416</td>\n",
       "    </tr>\n",
       "    <tr>\n",
       "      <th>3</th>\n",
       "      <td>../../../Source/Clean_train_clips/Shuffle/1/12...</td>\n",
       "      <td>1</td>\n",
       "      <td>-157.448416</td>\n",
       "      <td>71.945819</td>\n",
       "      <td>-105.594077</td>\n",
       "      <td>33.904608</td>\n",
       "      <td>-1.771036</td>\n",
       "      <td>-8.738653</td>\n",
       "      <td>-30.610143</td>\n",
       "      <td>1.405105</td>\n",
       "      <td>...</td>\n",
       "      <td>-14.136805</td>\n",
       "      <td>-4.416947</td>\n",
       "      <td>-4.629338</td>\n",
       "      <td>-16.549472</td>\n",
       "      <td>-3.571637</td>\n",
       "      <td>-3.324539</td>\n",
       "      <td>215.332031</td>\n",
       "      <td>0.185764</td>\n",
       "      <td>0.094802</td>\n",
       "      <td>2.716855</td>\n",
       "    </tr>\n",
       "    <tr>\n",
       "      <th>4</th>\n",
       "      <td>../../../Source/Clean_train_clips/Shuffle/1/13...</td>\n",
       "      <td>1</td>\n",
       "      <td>-182.069789</td>\n",
       "      <td>83.063060</td>\n",
       "      <td>-97.683985</td>\n",
       "      <td>32.842908</td>\n",
       "      <td>3.010242</td>\n",
       "      <td>5.194879</td>\n",
       "      <td>-24.979170</td>\n",
       "      <td>0.772903</td>\n",
       "      <td>...</td>\n",
       "      <td>-13.376806</td>\n",
       "      <td>-5.384937</td>\n",
       "      <td>-2.593670</td>\n",
       "      <td>-19.554310</td>\n",
       "      <td>-7.848034</td>\n",
       "      <td>-1.967332</td>\n",
       "      <td>184.570312</td>\n",
       "      <td>0.180020</td>\n",
       "      <td>0.068570</td>\n",
       "      <td>1.398406</td>\n",
       "    </tr>\n",
       "  </tbody>\n",
       "</table>\n",
       "<p>5 rows × 26 columns</p>\n",
       "</div>"
      ],
      "text/plain": [
       "                                                Path  Labels           0  \\\n",
       "0  ../../../Source/Clean_train_clips/Shuffle/1/1.wav       1 -152.435155   \n",
       "1  ../../../Source/Clean_train_clips/Shuffle/1/10...       1 -143.991075   \n",
       "2  ../../../Source/Clean_train_clips/Shuffle/1/11...       1 -129.072670   \n",
       "3  ../../../Source/Clean_train_clips/Shuffle/1/12...       1 -157.448416   \n",
       "4  ../../../Source/Clean_train_clips/Shuffle/1/13...       1 -182.069789   \n",
       "\n",
       "           1           2          3         4          5          6         7  \\\n",
       "0  78.311769 -106.482258  40.668131 -6.848575 -13.537377 -25.102485  6.754208   \n",
       "1  65.523449 -102.436753  32.133732 -7.930019  -3.615873 -29.871724 -0.182348   \n",
       "2  59.774233  -97.656748  35.739948 -4.885226  -0.900206 -23.750029 -4.998659   \n",
       "3  71.945819 -105.594077  33.904608 -1.771036  -8.738653 -30.610143  1.405105   \n",
       "4  83.063060  -97.683985  32.842908  3.010242   5.194879 -24.979170  0.772903   \n",
       "\n",
       "     ...            14        15        16         17        18        19  \\\n",
       "0    ...    -10.265548 -2.854873 -2.821410 -11.892168 -1.505338 -2.087528   \n",
       "1    ...    -13.680871 -0.441789 -5.826206 -15.578982 -4.161982 -2.657234   \n",
       "2    ...    -14.757999 -2.040899 -4.384916 -20.807594 -8.360181 -2.981402   \n",
       "3    ...    -14.136805 -4.416947 -4.629338 -16.549472 -3.571637 -3.324539   \n",
       "4    ...    -13.376806 -5.384937 -2.593670 -19.554310 -7.848034 -1.967332   \n",
       "\n",
       "          BPM       ZCR      RMSE       STE  \n",
       "0  258.398438  0.183553  0.113765  3.927907  \n",
       "1  215.332031  0.187988  0.105637  3.369918  \n",
       "2  234.907670  0.201621  0.082684  1.902416  \n",
       "3  215.332031  0.185764  0.094802  2.716855  \n",
       "4  184.570312  0.180020  0.068570  1.398406  \n",
       "\n",
       "[5 rows x 26 columns]"
      ]
     },
     "execution_count": 3,
     "metadata": {},
     "output_type": "execute_result"
    }
   ],
   "source": [
    "tap_df.head()"
   ]
  },
  {
   "cell_type": "markdown",
   "metadata": {},
   "source": [
    "## Models"
   ]
  },
  {
   "cell_type": "markdown",
   "metadata": {},
   "source": [
    "### LogReg it like you mean it!"
   ]
  },
  {
   "cell_type": "code",
   "execution_count": 25,
   "metadata": {},
   "outputs": [],
   "source": [
    "data = tap_df.iloc[:,2:].values\n",
    "labels = tap_df['Labels']"
   ]
  },
  {
   "cell_type": "code",
   "execution_count": 27,
   "metadata": {},
   "outputs": [
    {
     "data": {
      "text/plain": [
       "array([[-1.52435155e+02,  7.83117693e+01, -1.06482258e+02, ...,\n",
       "         1.83553060e-01,  1.13765448e-01,  3.92790711e+00],\n",
       "       [-1.43991075e+02,  6.55234491e+01, -1.02436753e+02, ...,\n",
       "         1.87988281e-01,  1.05637036e-01,  3.36991802e+00],\n",
       "       [-1.29072670e+02,  5.97742333e+01, -9.76567480e+01, ...,\n",
       "         2.01621094e-01,  8.26842040e-02,  1.90241615e+00],\n",
       "       ...,\n",
       "       [-1.75902702e+02,  7.17048030e+01, -9.98925117e+01, ...,\n",
       "         1.68273926e-01,  7.83131048e-02,  2.04752400e+00],\n",
       "       [-1.61098657e+02,  9.19380869e+01, -1.08378352e+02, ...,\n",
       "         1.76468461e-01,  7.09584206e-02,  1.69808359e+00],\n",
       "       [-1.94718871e+02,  1.06080963e+02, -1.01207606e+02, ...,\n",
       "         1.54259315e-01,  6.39540181e-02,  1.38981479e+00]])"
      ]
     },
     "execution_count": 27,
     "metadata": {},
     "output_type": "execute_result"
    }
   ],
   "source": [
    "data\n",
    "#labels\n"
   ]
  },
  {
   "cell_type": "code",
   "execution_count": 5,
   "metadata": {},
   "outputs": [],
   "source": [
    "X_train, X_test, y_train, y_test = train_test_split(data, labels, test_size=0.33, random_state=11, stratify=labels)"
   ]
  },
  {
   "cell_type": "code",
   "execution_count": null,
   "metadata": {},
   "outputs": [],
   "source": [
    "#X_train = pd.read_csv('../../../Source/Data/X_train_mfccplus.csv')\n",
    "#y_train = pd.read_csv('../../../Source/Data/y_train_mfccplus.csv')\n",
    "#X_test = pd.read_csv('../../../Source/Data/X_test_mfccplus.csv')\n",
    "#y_test = pd.read_csv('../../../Source/Data/y_test_mfccplus.csv')\n",
    "#\n",
    "#X_train = X_train.drop(['Path'], axis = 1).values\n",
    "#X_test = X_test.drop(['Path'], axis = 1).values\n",
    "#y_train = y_train.values.ravel()\n",
    "#y_test = y_test.values.ravel()"
   ]
  },
  {
   "cell_type": "code",
   "execution_count": null,
   "metadata": {},
   "outputs": [],
   "source": []
  },
  {
   "cell_type": "code",
   "execution_count": 7,
   "metadata": {},
   "outputs": [
    {
     "data": {
      "text/plain": [
       "LogisticRegression(C=1.0, class_weight=None, dual=False, fit_intercept=True,\n",
       "          intercept_scaling=1, max_iter=100, multi_class='ovr', n_jobs=1,\n",
       "          penalty='l2', random_state=None, solver='liblinear', tol=0.0001,\n",
       "          verbose=0, warm_start=False)"
      ]
     },
     "execution_count": 7,
     "metadata": {},
     "output_type": "execute_result"
    }
   ],
   "source": [
    "logreg = LogisticRegression()\n",
    "logreg.fit(X_train,y_train)"
   ]
  },
  {
   "cell_type": "code",
   "execution_count": 8,
   "metadata": {},
   "outputs": [],
   "source": [
    "predict = logreg.predict(X_test)\n",
    "proba = logreg.predict_proba(X_test)"
   ]
  },
  {
   "cell_type": "code",
   "execution_count": 9,
   "metadata": {},
   "outputs": [],
   "source": [
    "results = pd.DataFrame()\n",
    "results['True'] = y_test\n",
    "results['Predict_lr'] = predict\n",
    "results['Prob_0_lr'] = proba[:,0]"
   ]
  },
  {
   "cell_type": "code",
   "execution_count": null,
   "metadata": {},
   "outputs": [],
   "source": []
  },
  {
   "cell_type": "code",
   "execution_count": 10,
   "metadata": {},
   "outputs": [
    {
     "data": {
      "text/html": [
       "<div>\n",
       "<style scoped>\n",
       "    .dataframe tbody tr th:only-of-type {\n",
       "        vertical-align: middle;\n",
       "    }\n",
       "\n",
       "    .dataframe tbody tr th {\n",
       "        vertical-align: top;\n",
       "    }\n",
       "\n",
       "    .dataframe thead th {\n",
       "        text-align: right;\n",
       "    }\n",
       "</style>\n",
       "<table border=\"1\" class=\"dataframe\">\n",
       "  <thead>\n",
       "    <tr style=\"text-align: right;\">\n",
       "      <th></th>\n",
       "      <th>True</th>\n",
       "      <th>Predict_lr</th>\n",
       "      <th>Prob_0_lr</th>\n",
       "    </tr>\n",
       "  </thead>\n",
       "  <tbody>\n",
       "    <tr>\n",
       "      <th>310</th>\n",
       "      <td>0</td>\n",
       "      <td>1</td>\n",
       "      <td>0.011390</td>\n",
       "    </tr>\n",
       "    <tr>\n",
       "      <th>232</th>\n",
       "      <td>0</td>\n",
       "      <td>1</td>\n",
       "      <td>0.442047</td>\n",
       "    </tr>\n",
       "    <tr>\n",
       "      <th>78</th>\n",
       "      <td>1</td>\n",
       "      <td>0</td>\n",
       "      <td>0.565010</td>\n",
       "    </tr>\n",
       "    <tr>\n",
       "      <th>66</th>\n",
       "      <td>1</td>\n",
       "      <td>0</td>\n",
       "      <td>0.956233</td>\n",
       "    </tr>\n",
       "    <tr>\n",
       "      <th>277</th>\n",
       "      <td>0</td>\n",
       "      <td>1</td>\n",
       "      <td>0.341742</td>\n",
       "    </tr>\n",
       "    <tr>\n",
       "      <th>202</th>\n",
       "      <td>0</td>\n",
       "      <td>1</td>\n",
       "      <td>0.489852</td>\n",
       "    </tr>\n",
       "    <tr>\n",
       "      <th>309</th>\n",
       "      <td>0</td>\n",
       "      <td>1</td>\n",
       "      <td>0.119194</td>\n",
       "    </tr>\n",
       "    <tr>\n",
       "      <th>65</th>\n",
       "      <td>1</td>\n",
       "      <td>0</td>\n",
       "      <td>0.985220</td>\n",
       "    </tr>\n",
       "    <tr>\n",
       "      <th>84</th>\n",
       "      <td>1</td>\n",
       "      <td>0</td>\n",
       "      <td>0.542112</td>\n",
       "    </tr>\n",
       "    <tr>\n",
       "      <th>19</th>\n",
       "      <td>1</td>\n",
       "      <td>0</td>\n",
       "      <td>0.500954</td>\n",
       "    </tr>\n",
       "    <tr>\n",
       "      <th>293</th>\n",
       "      <td>0</td>\n",
       "      <td>1</td>\n",
       "      <td>0.382487</td>\n",
       "    </tr>\n",
       "  </tbody>\n",
       "</table>\n",
       "</div>"
      ],
      "text/plain": [
       "     True  Predict_lr  Prob_0_lr\n",
       "310     0           1   0.011390\n",
       "232     0           1   0.442047\n",
       "78      1           0   0.565010\n",
       "66      1           0   0.956233\n",
       "277     0           1   0.341742\n",
       "202     0           1   0.489852\n",
       "309     0           1   0.119194\n",
       "65      1           0   0.985220\n",
       "84      1           0   0.542112\n",
       "19      1           0   0.500954\n",
       "293     0           1   0.382487"
      ]
     },
     "execution_count": 10,
     "metadata": {},
     "output_type": "execute_result"
    }
   ],
   "source": [
    "mistakes = results.copy()\n",
    "mistakes = mistakes.loc[~(mistakes['True'] == mistakes['Predict_lr'])]\n",
    "mistakes"
   ]
  },
  {
   "cell_type": "code",
   "execution_count": 11,
   "metadata": {},
   "outputs": [
    {
     "name": "stdout",
     "output_type": "stream",
     "text": [
      "Accuracy score: 0.8932038834951457\n"
     ]
    }
   ],
   "source": [
    "print('Accuracy score: ' + str(accuracy_score(y_test, predict)))"
   ]
  },
  {
   "cell_type": "markdown",
   "metadata": {},
   "source": [
    "### YAAAAAAAAASSSSSS QUEEN!"
   ]
  },
  {
   "cell_type": "markdown",
   "metadata": {},
   "source": [
    "### Visualizing results"
   ]
  },
  {
   "cell_type": "code",
   "execution_count": 22,
   "metadata": {},
   "outputs": [],
   "source": [
    "def ROC_plot (testname, y_true, y_prob):\n",
    "    \n",
    "    logit_roc_auc = roc_auc_score(y_true, y_prob)\n",
    "    \n",
    "    fpr, tpr, thresholds = roc_curve(y_true, y_prob)\n",
    "    \n",
    "    plt.figure()\n",
    "    plt.plot(fpr, tpr)\n",
    "    plt.plot([0, 1], [0, 1], 'r--')\n",
    "    plt.xlim([-0.01, 1.0])\n",
    "    plt.ylim([0, 1.05])\n",
    "    plt.xlabel('False Positive Rate', size=15)\n",
    "    plt.ylabel('True Positive Rate', size=15)\n",
    "    plt.xticks(size=15)\n",
    "    plt.yticks(size=15)\n",
    "    plt.title('ROC: ' + testname, size=25)\n",
    "    \n",
    "    plt.show()\n",
    "    print ('ROC_AUC_Score: ' + str(logit_roc_auc))"
   ]
  },
  {
   "cell_type": "code",
   "execution_count": 23,
   "metadata": {},
   "outputs": [
    {
     "data": {
      "image/png": "[encoded data removed]",
      "text/plain": [
       "<Figure size 432x288 with 1 Axes>"
      ]
     },
     "metadata": {},
     "output_type": "display_data"
    },
    {
     "name": "stdout",
     "output_type": "stream",
     "text": [
      "ROC_AUC_Score: 0.8920454545454545\n"
     ]
    }
   ],
   "source": [
    "ROC_plot('LogReg',  y_test, predict )"
   ]
  },
  {
   "cell_type": "markdown",
   "metadata": {},
   "source": [
    "## Can't see the forest for the trees.... Random Forest Classifier"
   ]
  },
  {
   "cell_type": "code",
   "execution_count": 14,
   "metadata": {},
   "outputs": [
    {
     "data": {
      "text/plain": [
       "RandomForestClassifier(bootstrap=True, class_weight=None, criterion='gini',\n",
       "            max_depth=None, max_features='auto', max_leaf_nodes=16,\n",
       "            min_impurity_decrease=0.0, min_impurity_split=None,\n",
       "            min_samples_leaf=1, min_samples_split=2,\n",
       "            min_weight_fraction_leaf=0.0, n_estimators=100, n_jobs=1,\n",
       "            oob_score=False, random_state=None, verbose=0,\n",
       "            warm_start=False)"
      ]
     },
     "execution_count": 14,
     "metadata": {},
     "output_type": "execute_result"
    }
   ],
   "source": [
    "rnd_clf = RandomForestClassifier(n_estimators=100, max_leaf_nodes=16)\n",
    "rnd_clf.fit(X_train, y_train)"
   ]
  },
  {
   "cell_type": "code",
   "execution_count": 15,
   "metadata": {},
   "outputs": [],
   "source": [
    "predict_rf = rnd_clf.predict(X_test)\n",
    "proba_rf = rnd_clf.predict_proba(X_test)"
   ]
  },
  {
   "cell_type": "code",
   "execution_count": 16,
   "metadata": {},
   "outputs": [],
   "source": [
    "results['Predict_rf'] = predict_rf\n",
    "results['Prob_0_rf'] = proba_rf[:,0]"
   ]
  },
  {
   "cell_type": "code",
   "execution_count": null,
   "metadata": {},
   "outputs": [],
   "source": []
  },
  {
   "cell_type": "code",
   "execution_count": 17,
   "metadata": {},
   "outputs": [
    {
     "data": {
      "text/html": [
       "<div>\n",
       "<style scoped>\n",
       "    .dataframe tbody tr th:only-of-type {\n",
       "        vertical-align: middle;\n",
       "    }\n",
       "\n",
       "    .dataframe tbody tr th {\n",
       "        vertical-align: top;\n",
       "    }\n",
       "\n",
       "    .dataframe thead th {\n",
       "        text-align: right;\n",
       "    }\n",
       "</style>\n",
       "<table border=\"1\" class=\"dataframe\">\n",
       "  <thead>\n",
       "    <tr style=\"text-align: right;\">\n",
       "      <th></th>\n",
       "      <th>True</th>\n",
       "      <th>Predict_lr</th>\n",
       "      <th>Prob_0_lr</th>\n",
       "      <th>Predict_rf</th>\n",
       "      <th>Prob_0_rf</th>\n",
       "    </tr>\n",
       "  </thead>\n",
       "  <tbody>\n",
       "    <tr>\n",
       "      <th>309</th>\n",
       "      <td>0</td>\n",
       "      <td>1</td>\n",
       "      <td>0.119194</td>\n",
       "      <td>1</td>\n",
       "      <td>0.389893</td>\n",
       "    </tr>\n",
       "  </tbody>\n",
       "</table>\n",
       "</div>"
      ],
      "text/plain": [
       "     True  Predict_lr  Prob_0_lr  Predict_rf  Prob_0_rf\n",
       "309     0           1   0.119194           1   0.389893"
      ]
     },
     "execution_count": 17,
     "metadata": {},
     "output_type": "execute_result"
    }
   ],
   "source": [
    "mistakes = results.copy()\n",
    "mistakes = mistakes.loc[~(mistakes['True'] == mistakes['Predict_rf'])]\n",
    "mistakes"
   ]
  },
  {
   "cell_type": "markdown",
   "metadata": {},
   "source": [
    "So where the Random Forest model makes mistakes, the LogReg model makes correct predictions. <br/>Perhaps a voting classifier would improve the accuracy even more."
   ]
  },
  {
   "cell_type": "code",
   "execution_count": 18,
   "metadata": {},
   "outputs": [
    {
     "name": "stdout",
     "output_type": "stream",
     "text": [
      "Accuracy score: 0.9902912621359223\n"
     ]
    }
   ],
   "source": [
    "print('Accuracy score: ' + str(accuracy_score(y_test, predict_rf)))"
   ]
  },
  {
   "cell_type": "code",
   "execution_count": 24,
   "metadata": {},
   "outputs": [
    {
     "data": {
      "image/png": "[encoded data removed]",
      "text/plain": [
       "<Figure size 432x288 with 1 Axes>"
      ]
     },
     "metadata": {},
     "output_type": "display_data"
    },
    {
     "name": "stdout",
     "output_type": "stream",
     "text": [
      "ROC_AUC_Score: 0.9895833333333333\n"
     ]
    }
   ],
   "source": [
    "ROC_plot('Random Forest', y_test, predict_rf)"
   ]
  },
  {
   "cell_type": "code",
   "execution_count": null,
   "metadata": {},
   "outputs": [],
   "source": [
    "#results.to_csv('../../../Source/Data/Train_results_mfccplus_perfect.csv', index=None)"
   ]
  },
  {
   "cell_type": "markdown",
   "metadata": {},
   "source": []
  },
  {
   "cell_type": "code",
   "execution_count": null,
   "metadata": {},
   "outputs": [],
   "source": []
  }
 ],
 "metadata": {
  "kernelspec": {
   "display_name": "Python 3",
   "language": "python",
   "name": "python3"
  },
  "language_info": {
   "codemirror_mode": {
    "name": "ipython",
    "version": 3
   },
   "file_extension": ".py",
   "mimetype": "text/x-python",
   "name": "python",
   "nbconvert_exporter": "python",
   "pygments_lexer": "ipython3",
   "version": "3.6.5"
  }
 },
 "nbformat": 4,
 "nbformat_minor": 2
}
