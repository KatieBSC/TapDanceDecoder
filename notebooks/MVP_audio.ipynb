{
 "cells": [
  {
   "cell_type": "markdown",
   "metadata": {},
   "source": [
    "## TapDanceDecoder: MVP"
   ]
  },
  {
   "cell_type": "code",
   "execution_count": 1,
   "metadata": {},
   "outputs": [],
   "source": [
    "import pandas as pd\n",
    "import numpy as np\n",
    "import matplotlib.pyplot as plt\n",
    "from sklearn.metrics import accuracy_score,roc_curve, auc,roc_auc_score\n",
    "from sklearn.linear_model import LogisticRegression\n",
    "from sklearn.model_selection import train_test_split\n",
    "from sklearn.ensemble import RandomForestClassifier"
   ]
  },
  {
   "cell_type": "markdown",
   "metadata": {},
   "source": [
    "### Get Data"
   ]
  },
  {
   "cell_type": "code",
   "execution_count": 73,
   "metadata": {},
   "outputs": [],
   "source": [
    "#tap_df = pd.read_csv('../../../Source/Data/Train_data_n40.csv')\n",
    "#tap_df = pd.read_csv('../../../Source/Data/audio_data.csv')\n",
    "#tap_df = pd.read_csv('../../../Source/Data/audio_data_full.csv')\n",
    "#tap_df = pd.read_csv('../../../Source/Data/audio_data_filterbanks.csv')\n",
    "#tap_df = pd.read_csv('../../../Source/Data/audio_data_augmented.csv')\n",
    "tap_df = pd.read_csv('../../../Source/Data/train_data_reaugmented_mfcc.csv')\n",
    "#tap_df = pd.read_csv('../../../Source/Data/train_data_reaugmented_zcr.csv')\n",
    "#tap_df = pd.read_csv('../../../Source/Data/train_data_augmented_stft_tempo.csv')"
   ]
  },
  {
   "cell_type": "code",
   "execution_count": 74,
   "metadata": {},
   "outputs": [
    {
     "data": {
      "text/html": [
       "<div>\n",
       "<style scoped>\n",
       "    .dataframe tbody tr th:only-of-type {\n",
       "        vertical-align: middle;\n",
       "    }\n",
       "\n",
       "    .dataframe tbody tr th {\n",
       "        vertical-align: top;\n",
       "    }\n",
       "\n",
       "    .dataframe thead th {\n",
       "        text-align: right;\n",
       "    }\n",
       "</style>\n",
       "<table border=\"1\" class=\"dataframe\">\n",
       "  <thead>\n",
       "    <tr style=\"text-align: right;\">\n",
       "      <th></th>\n",
       "      <th>Path</th>\n",
       "      <th>Labels</th>\n",
       "      <th>0</th>\n",
       "      <th>1</th>\n",
       "      <th>2</th>\n",
       "      <th>3</th>\n",
       "      <th>4</th>\n",
       "      <th>5</th>\n",
       "      <th>6</th>\n",
       "      <th>7</th>\n",
       "      <th>...</th>\n",
       "      <th>10</th>\n",
       "      <th>11</th>\n",
       "      <th>12</th>\n",
       "      <th>13</th>\n",
       "      <th>14</th>\n",
       "      <th>15</th>\n",
       "      <th>16</th>\n",
       "      <th>17</th>\n",
       "      <th>18</th>\n",
       "      <th>19</th>\n",
       "    </tr>\n",
       "  </thead>\n",
       "  <tbody>\n",
       "    <tr>\n",
       "      <th>0</th>\n",
       "      <td>../../../Source/Clean_train_clips/Re_augmented...</td>\n",
       "      <td>1</td>\n",
       "      <td>-111.605465</td>\n",
       "      <td>39.188962</td>\n",
       "      <td>-81.679966</td>\n",
       "      <td>20.393887</td>\n",
       "      <td>4.074106</td>\n",
       "      <td>-11.102911</td>\n",
       "      <td>-18.300510</td>\n",
       "      <td>-4.375751</td>\n",
       "      <td>...</td>\n",
       "      <td>-14.746165</td>\n",
       "      <td>-13.217085</td>\n",
       "      <td>2.010731</td>\n",
       "      <td>-9.008981</td>\n",
       "      <td>-11.552828</td>\n",
       "      <td>1.225305</td>\n",
       "      <td>-3.679972</td>\n",
       "      <td>-13.073083</td>\n",
       "      <td>-2.380595</td>\n",
       "      <td>-2.002468</td>\n",
       "    </tr>\n",
       "    <tr>\n",
       "      <th>1</th>\n",
       "      <td>../../../Source/Clean_train_clips/Re_augmented...</td>\n",
       "      <td>1</td>\n",
       "      <td>-124.765927</td>\n",
       "      <td>59.099908</td>\n",
       "      <td>-107.706609</td>\n",
       "      <td>34.986722</td>\n",
       "      <td>-7.126354</td>\n",
       "      <td>-4.114656</td>\n",
       "      <td>-28.856100</td>\n",
       "      <td>0.194913</td>\n",
       "      <td>...</td>\n",
       "      <td>-19.339707</td>\n",
       "      <td>-13.854616</td>\n",
       "      <td>-1.720148</td>\n",
       "      <td>-9.828810</td>\n",
       "      <td>-14.683264</td>\n",
       "      <td>-0.436352</td>\n",
       "      <td>-6.158605</td>\n",
       "      <td>-14.315085</td>\n",
       "      <td>-3.680532</td>\n",
       "      <td>-3.380997</td>\n",
       "    </tr>\n",
       "    <tr>\n",
       "      <th>2</th>\n",
       "      <td>../../../Source/Clean_train_clips/Re_augmented...</td>\n",
       "      <td>1</td>\n",
       "      <td>-157.899262</td>\n",
       "      <td>62.348967</td>\n",
       "      <td>-104.690150</td>\n",
       "      <td>33.359436</td>\n",
       "      <td>-9.649191</td>\n",
       "      <td>-4.823440</td>\n",
       "      <td>-30.225424</td>\n",
       "      <td>0.160945</td>\n",
       "      <td>...</td>\n",
       "      <td>-22.051224</td>\n",
       "      <td>-11.060202</td>\n",
       "      <td>1.349207</td>\n",
       "      <td>-10.089470</td>\n",
       "      <td>-13.730110</td>\n",
       "      <td>-0.723506</td>\n",
       "      <td>-5.207173</td>\n",
       "      <td>-16.210524</td>\n",
       "      <td>-4.518669</td>\n",
       "      <td>-3.492280</td>\n",
       "    </tr>\n",
       "    <tr>\n",
       "      <th>3</th>\n",
       "      <td>../../../Source/Clean_train_clips/Re_augmented...</td>\n",
       "      <td>1</td>\n",
       "      <td>-112.563192</td>\n",
       "      <td>43.322040</td>\n",
       "      <td>-77.893877</td>\n",
       "      <td>23.408783</td>\n",
       "      <td>9.349165</td>\n",
       "      <td>-9.172222</td>\n",
       "      <td>-12.264922</td>\n",
       "      <td>-10.973006</td>\n",
       "      <td>...</td>\n",
       "      <td>-24.674963</td>\n",
       "      <td>-12.264014</td>\n",
       "      <td>5.147175</td>\n",
       "      <td>-9.701486</td>\n",
       "      <td>-10.931069</td>\n",
       "      <td>-0.785393</td>\n",
       "      <td>-1.715562</td>\n",
       "      <td>-19.159819</td>\n",
       "      <td>-5.605177</td>\n",
       "      <td>-2.166103</td>\n",
       "    </tr>\n",
       "    <tr>\n",
       "      <th>4</th>\n",
       "      <td>../../../Source/Clean_train_clips/Re_augmented...</td>\n",
       "      <td>1</td>\n",
       "      <td>-127.778268</td>\n",
       "      <td>59.036205</td>\n",
       "      <td>-98.709749</td>\n",
       "      <td>36.489147</td>\n",
       "      <td>-5.924282</td>\n",
       "      <td>-0.904265</td>\n",
       "      <td>-23.447733</td>\n",
       "      <td>-5.196082</td>\n",
       "      <td>...</td>\n",
       "      <td>-32.384483</td>\n",
       "      <td>-10.076653</td>\n",
       "      <td>-0.175095</td>\n",
       "      <td>-9.560018</td>\n",
       "      <td>-14.250261</td>\n",
       "      <td>-1.962245</td>\n",
       "      <td>-4.320603</td>\n",
       "      <td>-20.652914</td>\n",
       "      <td>-8.085718</td>\n",
       "      <td>-2.686323</td>\n",
       "    </tr>\n",
       "  </tbody>\n",
       "</table>\n",
       "<p>5 rows × 22 columns</p>\n",
       "</div>"
      ],
      "text/plain": [
       "                                                Path  Labels           0  \\\n",
       "0  ../../../Source/Clean_train_clips/Re_augmented...       1 -111.605465   \n",
       "1  ../../../Source/Clean_train_clips/Re_augmented...       1 -124.765927   \n",
       "2  ../../../Source/Clean_train_clips/Re_augmented...       1 -157.899262   \n",
       "3  ../../../Source/Clean_train_clips/Re_augmented...       1 -112.563192   \n",
       "4  ../../../Source/Clean_train_clips/Re_augmented...       1 -127.778268   \n",
       "\n",
       "           1           2          3         4          5          6  \\\n",
       "0  39.188962  -81.679966  20.393887  4.074106 -11.102911 -18.300510   \n",
       "1  59.099908 -107.706609  34.986722 -7.126354  -4.114656 -28.856100   \n",
       "2  62.348967 -104.690150  33.359436 -9.649191  -4.823440 -30.225424   \n",
       "3  43.322040  -77.893877  23.408783  9.349165  -9.172222 -12.264922   \n",
       "4  59.036205  -98.709749  36.489147 -5.924282  -0.904265 -23.447733   \n",
       "\n",
       "           7    ...            10         11        12         13         14  \\\n",
       "0  -4.375751    ...    -14.746165 -13.217085  2.010731  -9.008981 -11.552828   \n",
       "1   0.194913    ...    -19.339707 -13.854616 -1.720148  -9.828810 -14.683264   \n",
       "2   0.160945    ...    -22.051224 -11.060202  1.349207 -10.089470 -13.730110   \n",
       "3 -10.973006    ...    -24.674963 -12.264014  5.147175  -9.701486 -10.931069   \n",
       "4  -5.196082    ...    -32.384483 -10.076653 -0.175095  -9.560018 -14.250261   \n",
       "\n",
       "         15        16         17        18        19  \n",
       "0  1.225305 -3.679972 -13.073083 -2.380595 -2.002468  \n",
       "1 -0.436352 -6.158605 -14.315085 -3.680532 -3.380997  \n",
       "2 -0.723506 -5.207173 -16.210524 -4.518669 -3.492280  \n",
       "3 -0.785393 -1.715562 -19.159819 -5.605177 -2.166103  \n",
       "4 -1.962245 -4.320603 -20.652914 -8.085718 -2.686323  \n",
       "\n",
       "[5 rows x 22 columns]"
      ]
     },
     "execution_count": 74,
     "metadata": {},
     "output_type": "execute_result"
    }
   ],
   "source": [
    "tap_df.head()"
   ]
  },
  {
   "cell_type": "markdown",
   "metadata": {},
   "source": [
    "## Models"
   ]
  },
  {
   "cell_type": "markdown",
   "metadata": {},
   "source": [
    "### Split the data / Load the data"
   ]
  },
  {
   "cell_type": "code",
   "execution_count": 75,
   "metadata": {},
   "outputs": [],
   "source": [
    "data = tap_df.iloc[:,2:].values\n",
    "labels = tap_df['Labels']"
   ]
  },
  {
   "cell_type": "code",
   "execution_count": 77,
   "metadata": {},
   "outputs": [],
   "source": [
    "#data\n",
    "#labels\n"
   ]
  },
  {
   "cell_type": "code",
   "execution_count": 32,
   "metadata": {},
   "outputs": [],
   "source": [
    "#X_train, X_test, y_train, y_test = train_test_split(data, labels, test_size=0.33, random_state=11, stratify=labels)"
   ]
  },
  {
   "cell_type": "code",
   "execution_count": 33,
   "metadata": {},
   "outputs": [],
   "source": [
    "#X_train = pd.read_csv('../../../Source/Data/X_train_mfccplus.csv')\n",
    "#y_train = pd.read_csv('../../../Source/Data/y_train_mfccplus.csv')\n",
    "#X_test = pd.read_csv('../../../Source/Data/X_test_mfccplus.csv')\n",
    "#y_test = pd.read_csv('../../../Source/Data/y_test_mfccplus.csv')\n",
    "#\n",
    "#X_train = X_train.drop(['Path'], axis = 1).values\n",
    "#X_test = X_test.drop(['Path'], axis = 1).values\n",
    "#y_train = y_train.values.ravel()\n",
    "#y_test = y_test.values.ravel()"
   ]
  },
  {
   "cell_type": "code",
   "execution_count": 78,
   "metadata": {},
   "outputs": [],
   "source": [
    "X_train = data\n",
    "y_train = labels"
   ]
  },
  {
   "cell_type": "code",
   "execution_count": 79,
   "metadata": {},
   "outputs": [],
   "source": [
    "X_test = pd.read_csv('../../../Source/Data/X_test_audio_mfcc_2.csv')\n",
    "y_test = pd.read_csv('../../../Source/Data/y_test_audio_mfcc_2.csv')"
   ]
  },
  {
   "cell_type": "code",
   "execution_count": 80,
   "metadata": {},
   "outputs": [
    {
     "data": {
      "text/html": [
       "<div>\n",
       "<style scoped>\n",
       "    .dataframe tbody tr th:only-of-type {\n",
       "        vertical-align: middle;\n",
       "    }\n",
       "\n",
       "    .dataframe tbody tr th {\n",
       "        vertical-align: top;\n",
       "    }\n",
       "\n",
       "    .dataframe thead th {\n",
       "        text-align: right;\n",
       "    }\n",
       "</style>\n",
       "<table border=\"1\" class=\"dataframe\">\n",
       "  <thead>\n",
       "    <tr style=\"text-align: right;\">\n",
       "      <th></th>\n",
       "      <th>Path</th>\n",
       "      <th>0</th>\n",
       "      <th>1</th>\n",
       "      <th>2</th>\n",
       "      <th>3</th>\n",
       "      <th>4</th>\n",
       "      <th>5</th>\n",
       "      <th>6</th>\n",
       "      <th>7</th>\n",
       "      <th>8</th>\n",
       "      <th>...</th>\n",
       "      <th>10</th>\n",
       "      <th>11</th>\n",
       "      <th>12</th>\n",
       "      <th>13</th>\n",
       "      <th>14</th>\n",
       "      <th>15</th>\n",
       "      <th>16</th>\n",
       "      <th>17</th>\n",
       "      <th>18</th>\n",
       "      <th>19</th>\n",
       "    </tr>\n",
       "  </thead>\n",
       "  <tbody>\n",
       "    <tr>\n",
       "      <th>0</th>\n",
       "      <td>../../../Source/Clean_train_clips/Shuffle/3/39...</td>\n",
       "      <td>-114.548223</td>\n",
       "      <td>64.454932</td>\n",
       "      <td>-77.314706</td>\n",
       "      <td>27.647666</td>\n",
       "      <td>-18.880241</td>\n",
       "      <td>6.279307</td>\n",
       "      <td>-20.374333</td>\n",
       "      <td>-0.831546</td>\n",
       "      <td>-5.715018</td>\n",
       "      <td>...</td>\n",
       "      <td>-22.844750</td>\n",
       "      <td>-7.210562</td>\n",
       "      <td>-7.076589</td>\n",
       "      <td>-13.142979</td>\n",
       "      <td>-12.609853</td>\n",
       "      <td>-9.319132</td>\n",
       "      <td>-10.587290</td>\n",
       "      <td>-15.024789</td>\n",
       "      <td>-8.364390</td>\n",
       "      <td>-2.824221</td>\n",
       "    </tr>\n",
       "    <tr>\n",
       "      <th>1</th>\n",
       "      <td>../../../Source/Clean_train_clips/Ball_change/...</td>\n",
       "      <td>-103.390895</td>\n",
       "      <td>86.076240</td>\n",
       "      <td>-73.935278</td>\n",
       "      <td>29.533037</td>\n",
       "      <td>-22.579631</td>\n",
       "      <td>3.080539</td>\n",
       "      <td>-20.211751</td>\n",
       "      <td>1.793535</td>\n",
       "      <td>-9.863037</td>\n",
       "      <td>...</td>\n",
       "      <td>-15.762601</td>\n",
       "      <td>-10.053743</td>\n",
       "      <td>-16.649715</td>\n",
       "      <td>-16.621905</td>\n",
       "      <td>-12.470625</td>\n",
       "      <td>-15.124338</td>\n",
       "      <td>-3.046835</td>\n",
       "      <td>-8.643995</td>\n",
       "      <td>-1.299350</td>\n",
       "      <td>-1.434101</td>\n",
       "    </tr>\n",
       "    <tr>\n",
       "      <th>2</th>\n",
       "      <td>../../../Source/Clean_train_clips/Shuffle/3/13...</td>\n",
       "      <td>-147.022697</td>\n",
       "      <td>82.257708</td>\n",
       "      <td>-68.832783</td>\n",
       "      <td>32.539703</td>\n",
       "      <td>-27.455560</td>\n",
       "      <td>8.271985</td>\n",
       "      <td>-15.769955</td>\n",
       "      <td>-12.008158</td>\n",
       "      <td>3.731921</td>\n",
       "      <td>...</td>\n",
       "      <td>-23.066932</td>\n",
       "      <td>-5.984023</td>\n",
       "      <td>-2.649878</td>\n",
       "      <td>-14.088877</td>\n",
       "      <td>-8.889521</td>\n",
       "      <td>-3.477000</td>\n",
       "      <td>-5.694297</td>\n",
       "      <td>-7.917601</td>\n",
       "      <td>-4.370791</td>\n",
       "      <td>-2.954681</td>\n",
       "    </tr>\n",
       "    <tr>\n",
       "      <th>3</th>\n",
       "      <td>../../../Source/Clean_train_clips/Shuffle/3/24...</td>\n",
       "      <td>-138.297464</td>\n",
       "      <td>54.704689</td>\n",
       "      <td>-79.929603</td>\n",
       "      <td>19.508279</td>\n",
       "      <td>-22.542803</td>\n",
       "      <td>10.450329</td>\n",
       "      <td>-24.721127</td>\n",
       "      <td>1.757363</td>\n",
       "      <td>-14.869691</td>\n",
       "      <td>...</td>\n",
       "      <td>-21.709473</td>\n",
       "      <td>-5.791632</td>\n",
       "      <td>1.467667</td>\n",
       "      <td>-19.687812</td>\n",
       "      <td>-6.999248</td>\n",
       "      <td>-6.416146</td>\n",
       "      <td>-10.514065</td>\n",
       "      <td>-19.087137</td>\n",
       "      <td>-3.717649</td>\n",
       "      <td>-8.090376</td>\n",
       "    </tr>\n",
       "    <tr>\n",
       "      <th>4</th>\n",
       "      <td>../../../Source/Clean_train_clips/Shuffle/7/13...</td>\n",
       "      <td>-117.315429</td>\n",
       "      <td>96.050648</td>\n",
       "      <td>-98.759497</td>\n",
       "      <td>19.092895</td>\n",
       "      <td>-23.565324</td>\n",
       "      <td>7.130129</td>\n",
       "      <td>-25.762713</td>\n",
       "      <td>-5.114320</td>\n",
       "      <td>-19.130269</td>\n",
       "      <td>...</td>\n",
       "      <td>-21.705894</td>\n",
       "      <td>-11.200221</td>\n",
       "      <td>-12.618418</td>\n",
       "      <td>-8.927065</td>\n",
       "      <td>-7.479821</td>\n",
       "      <td>-6.126805</td>\n",
       "      <td>-2.563883</td>\n",
       "      <td>-8.348513</td>\n",
       "      <td>-8.931115</td>\n",
       "      <td>-5.765018</td>\n",
       "    </tr>\n",
       "  </tbody>\n",
       "</table>\n",
       "<p>5 rows × 21 columns</p>\n",
       "</div>"
      ],
      "text/plain": [
       "                                                Path           0          1  \\\n",
       "0  ../../../Source/Clean_train_clips/Shuffle/3/39... -114.548223  64.454932   \n",
       "1  ../../../Source/Clean_train_clips/Ball_change/... -103.390895  86.076240   \n",
       "2  ../../../Source/Clean_train_clips/Shuffle/3/13... -147.022697  82.257708   \n",
       "3  ../../../Source/Clean_train_clips/Shuffle/3/24... -138.297464  54.704689   \n",
       "4  ../../../Source/Clean_train_clips/Shuffle/7/13... -117.315429  96.050648   \n",
       "\n",
       "           2          3          4          5          6          7  \\\n",
       "0 -77.314706  27.647666 -18.880241   6.279307 -20.374333  -0.831546   \n",
       "1 -73.935278  29.533037 -22.579631   3.080539 -20.211751   1.793535   \n",
       "2 -68.832783  32.539703 -27.455560   8.271985 -15.769955 -12.008158   \n",
       "3 -79.929603  19.508279 -22.542803  10.450329 -24.721127   1.757363   \n",
       "4 -98.759497  19.092895 -23.565324   7.130129 -25.762713  -5.114320   \n",
       "\n",
       "           8    ...            10         11         12         13         14  \\\n",
       "0  -5.715018    ...    -22.844750  -7.210562  -7.076589 -13.142979 -12.609853   \n",
       "1  -9.863037    ...    -15.762601 -10.053743 -16.649715 -16.621905 -12.470625   \n",
       "2   3.731921    ...    -23.066932  -5.984023  -2.649878 -14.088877  -8.889521   \n",
       "3 -14.869691    ...    -21.709473  -5.791632   1.467667 -19.687812  -6.999248   \n",
       "4 -19.130269    ...    -21.705894 -11.200221 -12.618418  -8.927065  -7.479821   \n",
       "\n",
       "          15         16         17        18        19  \n",
       "0  -9.319132 -10.587290 -15.024789 -8.364390 -2.824221  \n",
       "1 -15.124338  -3.046835  -8.643995 -1.299350 -1.434101  \n",
       "2  -3.477000  -5.694297  -7.917601 -4.370791 -2.954681  \n",
       "3  -6.416146 -10.514065 -19.087137 -3.717649 -8.090376  \n",
       "4  -6.126805  -2.563883  -8.348513 -8.931115 -5.765018  \n",
       "\n",
       "[5 rows x 21 columns]"
      ]
     },
     "execution_count": 80,
     "metadata": {},
     "output_type": "execute_result"
    }
   ],
   "source": [
    "X_test.head()"
   ]
  },
  {
   "cell_type": "code",
   "execution_count": 81,
   "metadata": {},
   "outputs": [],
   "source": [
    "X_test = X_test.iloc[:,1:].values\n",
    "y_test = y_test['Labels']"
   ]
  },
  {
   "cell_type": "code",
   "execution_count": null,
   "metadata": {},
   "outputs": [],
   "source": []
  },
  {
   "cell_type": "code",
   "execution_count": null,
   "metadata": {},
   "outputs": [],
   "source": []
  },
  {
   "cell_type": "markdown",
   "metadata": {},
   "source": [
    "## Logistic Regression"
   ]
  },
  {
   "cell_type": "code",
   "execution_count": 82,
   "metadata": {},
   "outputs": [
    {
     "data": {
      "text/plain": [
       "LogisticRegression(C=1.0, class_weight=None, dual=False, fit_intercept=True,\n",
       "          intercept_scaling=1, max_iter=100, multi_class='ovr', n_jobs=1,\n",
       "          penalty='l2', random_state=None, solver='liblinear', tol=0.0001,\n",
       "          verbose=0, warm_start=False)"
      ]
     },
     "execution_count": 82,
     "metadata": {},
     "output_type": "execute_result"
    }
   ],
   "source": [
    "logreg = LogisticRegression()\n",
    "logreg.fit(X_train,y_train)"
   ]
  },
  {
   "cell_type": "code",
   "execution_count": 83,
   "metadata": {},
   "outputs": [],
   "source": [
    "predict = logreg.predict(X_test)\n",
    "proba = logreg.predict_proba(X_test)"
   ]
  },
  {
   "cell_type": "code",
   "execution_count": 84,
   "metadata": {},
   "outputs": [],
   "source": [
    "results = pd.DataFrame()\n",
    "results['True'] = y_test\n",
    "results['Predict_lr'] = predict\n",
    "results['Prob_0_lr'] = proba[:,0]"
   ]
  },
  {
   "cell_type": "code",
   "execution_count": null,
   "metadata": {},
   "outputs": [],
   "source": []
  },
  {
   "cell_type": "code",
   "execution_count": 85,
   "metadata": {},
   "outputs": [
    {
     "data": {
      "text/html": [
       "<div>\n",
       "<style scoped>\n",
       "    .dataframe tbody tr th:only-of-type {\n",
       "        vertical-align: middle;\n",
       "    }\n",
       "\n",
       "    .dataframe tbody tr th {\n",
       "        vertical-align: top;\n",
       "    }\n",
       "\n",
       "    .dataframe thead th {\n",
       "        text-align: right;\n",
       "    }\n",
       "</style>\n",
       "<table border=\"1\" class=\"dataframe\">\n",
       "  <thead>\n",
       "    <tr style=\"text-align: right;\">\n",
       "      <th></th>\n",
       "      <th>True</th>\n",
       "      <th>Predict_lr</th>\n",
       "      <th>Prob_0_lr</th>\n",
       "    </tr>\n",
       "  </thead>\n",
       "  <tbody>\n",
       "    <tr>\n",
       "      <th>0</th>\n",
       "      <td>1</td>\n",
       "      <td>0</td>\n",
       "      <td>0.556282</td>\n",
       "    </tr>\n",
       "    <tr>\n",
       "      <th>2</th>\n",
       "      <td>1</td>\n",
       "      <td>0</td>\n",
       "      <td>0.581410</td>\n",
       "    </tr>\n",
       "    <tr>\n",
       "      <th>6</th>\n",
       "      <td>1</td>\n",
       "      <td>0</td>\n",
       "      <td>0.731362</td>\n",
       "    </tr>\n",
       "    <tr>\n",
       "      <th>15</th>\n",
       "      <td>0</td>\n",
       "      <td>1</td>\n",
       "      <td>0.384724</td>\n",
       "    </tr>\n",
       "    <tr>\n",
       "      <th>17</th>\n",
       "      <td>1</td>\n",
       "      <td>0</td>\n",
       "      <td>0.980700</td>\n",
       "    </tr>\n",
       "    <tr>\n",
       "      <th>19</th>\n",
       "      <td>1</td>\n",
       "      <td>0</td>\n",
       "      <td>0.543416</td>\n",
       "    </tr>\n",
       "    <tr>\n",
       "      <th>23</th>\n",
       "      <td>1</td>\n",
       "      <td>0</td>\n",
       "      <td>0.622142</td>\n",
       "    </tr>\n",
       "    <tr>\n",
       "      <th>48</th>\n",
       "      <td>0</td>\n",
       "      <td>1</td>\n",
       "      <td>0.003170</td>\n",
       "    </tr>\n",
       "    <tr>\n",
       "      <th>50</th>\n",
       "      <td>0</td>\n",
       "      <td>1</td>\n",
       "      <td>0.447284</td>\n",
       "    </tr>\n",
       "    <tr>\n",
       "      <th>53</th>\n",
       "      <td>0</td>\n",
       "      <td>1</td>\n",
       "      <td>0.303931</td>\n",
       "    </tr>\n",
       "    <tr>\n",
       "      <th>57</th>\n",
       "      <td>0</td>\n",
       "      <td>1</td>\n",
       "      <td>0.473519</td>\n",
       "    </tr>\n",
       "    <tr>\n",
       "      <th>58</th>\n",
       "      <td>0</td>\n",
       "      <td>1</td>\n",
       "      <td>0.224026</td>\n",
       "    </tr>\n",
       "    <tr>\n",
       "      <th>68</th>\n",
       "      <td>0</td>\n",
       "      <td>1</td>\n",
       "      <td>0.209649</td>\n",
       "    </tr>\n",
       "    <tr>\n",
       "      <th>72</th>\n",
       "      <td>1</td>\n",
       "      <td>0</td>\n",
       "      <td>0.584367</td>\n",
       "    </tr>\n",
       "    <tr>\n",
       "      <th>74</th>\n",
       "      <td>0</td>\n",
       "      <td>1</td>\n",
       "      <td>0.388562</td>\n",
       "    </tr>\n",
       "    <tr>\n",
       "      <th>81</th>\n",
       "      <td>1</td>\n",
       "      <td>0</td>\n",
       "      <td>0.665304</td>\n",
       "    </tr>\n",
       "    <tr>\n",
       "      <th>87</th>\n",
       "      <td>1</td>\n",
       "      <td>0</td>\n",
       "      <td>0.501249</td>\n",
       "    </tr>\n",
       "    <tr>\n",
       "      <th>94</th>\n",
       "      <td>0</td>\n",
       "      <td>1</td>\n",
       "      <td>0.009446</td>\n",
       "    </tr>\n",
       "    <tr>\n",
       "      <th>102</th>\n",
       "      <td>1</td>\n",
       "      <td>0</td>\n",
       "      <td>0.746091</td>\n",
       "    </tr>\n",
       "    <tr>\n",
       "      <th>109</th>\n",
       "      <td>0</td>\n",
       "      <td>1</td>\n",
       "      <td>0.436263</td>\n",
       "    </tr>\n",
       "  </tbody>\n",
       "</table>\n",
       "</div>"
      ],
      "text/plain": [
       "     True  Predict_lr  Prob_0_lr\n",
       "0       1           0   0.556282\n",
       "2       1           0   0.581410\n",
       "6       1           0   0.731362\n",
       "15      0           1   0.384724\n",
       "17      1           0   0.980700\n",
       "19      1           0   0.543416\n",
       "23      1           0   0.622142\n",
       "48      0           1   0.003170\n",
       "50      0           1   0.447284\n",
       "53      0           1   0.303931\n",
       "57      0           1   0.473519\n",
       "58      0           1   0.224026\n",
       "68      0           1   0.209649\n",
       "72      1           0   0.584367\n",
       "74      0           1   0.388562\n",
       "81      1           0   0.665304\n",
       "87      1           0   0.501249\n",
       "94      0           1   0.009446\n",
       "102     1           0   0.746091\n",
       "109     0           1   0.436263"
      ]
     },
     "execution_count": 85,
     "metadata": {},
     "output_type": "execute_result"
    }
   ],
   "source": [
    "mistakes = results.copy()\n",
    "mistakes = mistakes.loc[~(mistakes['True'] == mistakes['Predict_lr'])]\n",
    "mistakes"
   ]
  },
  {
   "cell_type": "code",
   "execution_count": 86,
   "metadata": {},
   "outputs": [
    {
     "name": "stdout",
     "output_type": "stream",
     "text": [
      "Accuracy score: 0.8260869565217391\n"
     ]
    }
   ],
   "source": [
    "print('Accuracy score: ' + str(accuracy_score(y_test, predict)))"
   ]
  },
  {
   "cell_type": "markdown",
   "metadata": {},
   "source": [
    "### Visualizing results"
   ]
  },
  {
   "cell_type": "code",
   "execution_count": 87,
   "metadata": {},
   "outputs": [],
   "source": [
    "def ROC_plot (testname, y_true, y_prob):\n",
    "    \n",
    "    logit_roc_auc = roc_auc_score(y_true, y_prob)\n",
    "    \n",
    "    fpr, tpr, thresholds = roc_curve(y_true, y_prob)\n",
    "    \n",
    "    plt.figure()\n",
    "    plt.plot(fpr, tpr)\n",
    "    plt.plot([0, 1], [0, 1], 'r--')\n",
    "    plt.xlim([-0.01, 1.0])\n",
    "    plt.ylim([0, 1.05])\n",
    "    plt.xlabel('False Positive Rate', size=15)\n",
    "    plt.ylabel('True Positive Rate', size=15)\n",
    "    plt.xticks(size=15)\n",
    "    plt.yticks(size=15)\n",
    "    plt.title('ROC: ' + testname, size=25)\n",
    "    \n",
    "    plt.show()\n",
    "    print ('ROC_AUC_Score: ' + str(logit_roc_auc))"
   ]
  },
  {
   "cell_type": "code",
   "execution_count": 88,
   "metadata": {},
   "outputs": [
    {
     "data": {
      "image/png": "[encoded data removed]",
      "text/plain": [
       "<Figure size 432x288 with 1 Axes>"
      ]
     },
     "metadata": {},
     "output_type": "display_data"
    },
    {
     "name": "stdout",
     "output_type": "stream",
     "text": [
      "ROC_AUC_Score: 0.8212064676616916\n"
     ]
    }
   ],
   "source": [
    "ROC_plot('LogReg',  y_test, predict )"
   ]
  },
  {
   "cell_type": "markdown",
   "metadata": {},
   "source": [
    "## Can't see the forest for the trees.... Random Forest Classifier"
   ]
  },
  {
   "cell_type": "code",
   "execution_count": 89,
   "metadata": {},
   "outputs": [
    {
     "data": {
      "text/plain": [
       "RandomForestClassifier(bootstrap=True, class_weight=None, criterion='gini',\n",
       "            max_depth=None, max_features='auto', max_leaf_nodes=16,\n",
       "            min_impurity_decrease=0.0, min_impurity_split=None,\n",
       "            min_samples_leaf=1, min_samples_split=2,\n",
       "            min_weight_fraction_leaf=0.0, n_estimators=100, n_jobs=1,\n",
       "            oob_score=False, random_state=None, verbose=0,\n",
       "            warm_start=False)"
      ]
     },
     "execution_count": 89,
     "metadata": {},
     "output_type": "execute_result"
    }
   ],
   "source": [
    "rnd_clf = RandomForestClassifier(n_estimators=100, max_leaf_nodes=16)\n",
    "rnd_clf.fit(X_train, y_train)"
   ]
  },
  {
   "cell_type": "code",
   "execution_count": 90,
   "metadata": {},
   "outputs": [],
   "source": [
    "predict_rf = rnd_clf.predict(X_test)\n",
    "proba_rf = rnd_clf.predict_proba(X_test)"
   ]
  },
  {
   "cell_type": "code",
   "execution_count": 91,
   "metadata": {},
   "outputs": [],
   "source": [
    "results['Predict_rf'] = predict_rf\n",
    "results['Prob_0_rf'] = proba_rf[:,0]"
   ]
  },
  {
   "cell_type": "code",
   "execution_count": null,
   "metadata": {},
   "outputs": [],
   "source": []
  },
  {
   "cell_type": "code",
   "execution_count": 92,
   "metadata": {},
   "outputs": [
    {
     "data": {
      "text/html": [
       "<div>\n",
       "<style scoped>\n",
       "    .dataframe tbody tr th:only-of-type {\n",
       "        vertical-align: middle;\n",
       "    }\n",
       "\n",
       "    .dataframe tbody tr th {\n",
       "        vertical-align: top;\n",
       "    }\n",
       "\n",
       "    .dataframe thead th {\n",
       "        text-align: right;\n",
       "    }\n",
       "</style>\n",
       "<table border=\"1\" class=\"dataframe\">\n",
       "  <thead>\n",
       "    <tr style=\"text-align: right;\">\n",
       "      <th></th>\n",
       "      <th>True</th>\n",
       "      <th>Predict_lr</th>\n",
       "      <th>Prob_0_lr</th>\n",
       "      <th>Predict_rf</th>\n",
       "      <th>Prob_0_rf</th>\n",
       "    </tr>\n",
       "  </thead>\n",
       "  <tbody>\n",
       "    <tr>\n",
       "      <th>1</th>\n",
       "      <td>0</td>\n",
       "      <td>0</td>\n",
       "      <td>0.951753</td>\n",
       "      <td>1</td>\n",
       "      <td>0.376585</td>\n",
       "    </tr>\n",
       "    <tr>\n",
       "      <th>15</th>\n",
       "      <td>0</td>\n",
       "      <td>1</td>\n",
       "      <td>0.384724</td>\n",
       "      <td>1</td>\n",
       "      <td>0.447496</td>\n",
       "    </tr>\n",
       "    <tr>\n",
       "      <th>21</th>\n",
       "      <td>1</td>\n",
       "      <td>1</td>\n",
       "      <td>0.471451</td>\n",
       "      <td>0</td>\n",
       "      <td>0.563412</td>\n",
       "    </tr>\n",
       "    <tr>\n",
       "      <th>48</th>\n",
       "      <td>0</td>\n",
       "      <td>1</td>\n",
       "      <td>0.003170</td>\n",
       "      <td>1</td>\n",
       "      <td>0.461320</td>\n",
       "    </tr>\n",
       "    <tr>\n",
       "      <th>54</th>\n",
       "      <td>1</td>\n",
       "      <td>1</td>\n",
       "      <td>0.394591</td>\n",
       "      <td>0</td>\n",
       "      <td>0.521570</td>\n",
       "    </tr>\n",
       "    <tr>\n",
       "      <th>57</th>\n",
       "      <td>0</td>\n",
       "      <td>1</td>\n",
       "      <td>0.473519</td>\n",
       "      <td>1</td>\n",
       "      <td>0.441988</td>\n",
       "    </tr>\n",
       "    <tr>\n",
       "      <th>58</th>\n",
       "      <td>0</td>\n",
       "      <td>1</td>\n",
       "      <td>0.224026</td>\n",
       "      <td>1</td>\n",
       "      <td>0.292847</td>\n",
       "    </tr>\n",
       "    <tr>\n",
       "      <th>64</th>\n",
       "      <td>1</td>\n",
       "      <td>1</td>\n",
       "      <td>0.360372</td>\n",
       "      <td>0</td>\n",
       "      <td>0.560442</td>\n",
       "    </tr>\n",
       "    <tr>\n",
       "      <th>68</th>\n",
       "      <td>0</td>\n",
       "      <td>1</td>\n",
       "      <td>0.209649</td>\n",
       "      <td>1</td>\n",
       "      <td>0.180273</td>\n",
       "    </tr>\n",
       "    <tr>\n",
       "      <th>74</th>\n",
       "      <td>0</td>\n",
       "      <td>1</td>\n",
       "      <td>0.388562</td>\n",
       "      <td>1</td>\n",
       "      <td>0.410586</td>\n",
       "    </tr>\n",
       "    <tr>\n",
       "      <th>98</th>\n",
       "      <td>0</td>\n",
       "      <td>0</td>\n",
       "      <td>0.663062</td>\n",
       "      <td>1</td>\n",
       "      <td>0.347730</td>\n",
       "    </tr>\n",
       "    <tr>\n",
       "      <th>109</th>\n",
       "      <td>0</td>\n",
       "      <td>1</td>\n",
       "      <td>0.436263</td>\n",
       "      <td>1</td>\n",
       "      <td>0.286546</td>\n",
       "    </tr>\n",
       "  </tbody>\n",
       "</table>\n",
       "</div>"
      ],
      "text/plain": [
       "     True  Predict_lr  Prob_0_lr  Predict_rf  Prob_0_rf\n",
       "1       0           0   0.951753           1   0.376585\n",
       "15      0           1   0.384724           1   0.447496\n",
       "21      1           1   0.471451           0   0.563412\n",
       "48      0           1   0.003170           1   0.461320\n",
       "54      1           1   0.394591           0   0.521570\n",
       "57      0           1   0.473519           1   0.441988\n",
       "58      0           1   0.224026           1   0.292847\n",
       "64      1           1   0.360372           0   0.560442\n",
       "68      0           1   0.209649           1   0.180273\n",
       "74      0           1   0.388562           1   0.410586\n",
       "98      0           0   0.663062           1   0.347730\n",
       "109     0           1   0.436263           1   0.286546"
      ]
     },
     "execution_count": 92,
     "metadata": {},
     "output_type": "execute_result"
    }
   ],
   "source": [
    "mistakes = results.copy()\n",
    "mistakes = mistakes.loc[~(mistakes['True'] == mistakes['Predict_rf'])]\n",
    "mistakes"
   ]
  },
  {
   "cell_type": "markdown",
   "metadata": {},
   "source": [
    "So where the Random Forest model makes mistakes, the LogReg model makes correct predictions. <br/>Perhaps a voting classifier would improve the accuracy even more."
   ]
  },
  {
   "cell_type": "code",
   "execution_count": 93,
   "metadata": {},
   "outputs": [
    {
     "name": "stdout",
     "output_type": "stream",
     "text": [
      "Accuracy score: 0.8956521739130435\n"
     ]
    }
   ],
   "source": [
    "print('Accuracy score: ' + str(accuracy_score(y_test, predict_rf)))"
   ]
  },
  {
   "cell_type": "code",
   "execution_count": 94,
   "metadata": {},
   "outputs": [
    {
     "data": {
      "image/png": "[encoded data removed]",
      "text/plain": [
       "<Figure size 432x288 with 1 Axes>"
      ]
     },
     "metadata": {},
     "output_type": "display_data"
    },
    {
     "name": "stdout",
     "output_type": "stream",
     "text": [
      "ROC_AUC_Score: 0.8838619402985075\n"
     ]
    }
   ],
   "source": [
    "ROC_plot('Random Forest', y_test, predict_rf)"
   ]
  },
  {
   "cell_type": "code",
   "execution_count": 95,
   "metadata": {},
   "outputs": [],
   "source": [
    "#results.to_csv('../../../Source/Data/results_sklearn_reaugmented_mfcc.csv', index = False)"
   ]
  },
  {
   "cell_type": "code",
   "execution_count": null,
   "metadata": {},
   "outputs": [],
   "source": []
  },
  {
   "cell_type": "code",
   "execution_count": null,
   "metadata": {},
   "outputs": [],
   "source": []
  }
 ],
 "metadata": {
  "kernelspec": {
   "display_name": "Python 3",
   "language": "python",
   "name": "python3"
  },
  "language_info": {
   "codemirror_mode": {
    "name": "ipython",
    "version": 3
   },
   "file_extension": ".py",
   "mimetype": "text/x-python",
   "name": "python",
   "nbconvert_exporter": "python",
   "pygments_lexer": "ipython3",
   "version": "3.6.5"
  }
 },
 "nbformat": 4,
 "nbformat_minor": 2
}
