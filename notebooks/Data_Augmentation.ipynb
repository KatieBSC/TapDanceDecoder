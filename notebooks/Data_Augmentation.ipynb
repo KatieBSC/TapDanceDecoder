{
 "cells": [
  {
   "cell_type": "markdown",
   "metadata": {},
   "source": [
    "## Data Augmentation"
   ]
  },
  {
   "cell_type": "code",
   "execution_count": 1,
   "metadata": {},
   "outputs": [],
   "source": [
    "from scipy.io import wavfile as wav\n",
    "from scipy.io.wavfile import read, write\n",
    "import matplotlib.pyplot as plt\n",
    "import pandas as pd\n",
    "import numpy as np\n",
    "import librosa.display\n",
    "from pathlib import Path\n",
    "from sklearn.model_selection import train_test_split"
   ]
  },
  {
   "cell_type": "code",
   "execution_count": 26,
   "metadata": {},
   "outputs": [],
   "source": [
    "def add_noise(file_path):\n",
    "    data = librosa.core.load(file_path)[0]\n",
    "    noise = np.random.randn(len(data))\n",
    "    data_noise = data + 0.005 * noise\n",
    "    return data_noise\n",
    " \n",
    "def shift(file_path):\n",
    "    data = librosa.core.load(file_path)[0]\n",
    "    return np.roll(data, 300)\n",
    " \n",
    "def stretch(file_path):\n",
    "    data = librosa.core.load(file_path)[0]\n",
    "    rate=0.25\n",
    "    data = librosa.effects.time_stretch(data, rate)\n",
    "    return data\n",
    " \n",
    "def write_audio_file(file, data, sample_rate=22050):\n",
    "    librosa.output.write_wav(file, data, sample_rate)\n",
    "    \n",
    "    \n",
    "def new_name (source_str, insert_str):\n",
    "    #return source_str[:-4]+insert_str+source_str[-4:]\n",
    "    return source_str[:34] + str('Augmented/') + source_str[34:-4] + insert_str + source_str[-4:]\n"
   ]
  },
  {
   "cell_type": "code",
   "execution_count": 56,
   "metadata": {},
   "outputs": [
    {
     "data": {
      "image/png": "[encoded data removed]",
      "text/plain": [
       "<Figure size 432x288 with 2 Axes>"
      ]
     },
     "metadata": {},
     "output_type": "display_data"
    }
   ],
   "source": [
    "path = '../../../Source/Clean_train_clips/Shuffle/1/1.wav'\n",
    "y, sr = librosa.load(path)\n",
    "plt.subplot(221)\n",
    "plt.plot(y)\n",
    "\n",
    "plt.subplot(222)\n",
    "plt.plot(add_noise(path));\n",
    "add_noise(path);\n"
   ]
  },
  {
   "cell_type": "markdown",
   "metadata": {},
   "source": [
    "### Getting all the cleaned data in one list"
   ]
  },
  {
   "cell_type": "code",
   "execution_count": 3,
   "metadata": {},
   "outputs": [],
   "source": [
    "shuffle_col=[]\n",
    "pathlist = Path('../../../Source/Clean_train_clips/Shuffle').glob('**/*.wav')\n",
    "for path in pathlist:\n",
    "    shuffle_col.append(path)"
   ]
  },
  {
   "cell_type": "code",
   "execution_count": 4,
   "metadata": {},
   "outputs": [],
   "source": [
    "bc_col = []\n",
    "pathlist = Path('../../../Source/Clean_train_clips/Ball_change').glob('**/*.wav')\n",
    "for path in pathlist:\n",
    "    bc_col.append(path)\n",
    "    bc_col.sort()"
   ]
  },
  {
   "cell_type": "code",
   "execution_count": 5,
   "metadata": {},
   "outputs": [],
   "source": [
    "path_col = shuffle_col + bc_col"
   ]
  },
  {
   "cell_type": "markdown",
   "metadata": {},
   "source": [
    "### Set aside some data for validation"
   ]
  },
  {
   "cell_type": "code",
   "execution_count": 6,
   "metadata": {},
   "outputs": [
    {
     "data": {
      "text/plain": [
       "343"
      ]
     },
     "execution_count": 6,
     "metadata": {},
     "output_type": "execute_result"
    }
   ],
   "source": [
    "len(path_col)"
   ]
  },
  {
   "cell_type": "code",
   "execution_count": 7,
   "metadata": {},
   "outputs": [],
   "source": [
    "path_copy = path_col.copy()"
   ]
  },
  {
   "cell_type": "code",
   "execution_count": 8,
   "metadata": {},
   "outputs": [],
   "source": [
    "def get_label(path):\n",
    "    if path.parts[-3] == 'Shuffle':\n",
    "        return 1\n",
    "    else:\n",
    "        return 0"
   ]
  },
  {
   "cell_type": "code",
   "execution_count": 9,
   "metadata": {},
   "outputs": [],
   "source": [
    "path_df = pd.DataFrame(path_copy, columns=['Path'])\n",
    "path_df['Labels'] = [get_label(path_df.loc[idx,'Path']) for idx in range(len(path_df))]"
   ]
  },
  {
   "cell_type": "code",
   "execution_count": 10,
   "metadata": {},
   "outputs": [],
   "source": [
    "X = path_df['Path']\n",
    "y = path_df['Labels']"
   ]
  },
  {
   "cell_type": "code",
   "execution_count": 11,
   "metadata": {},
   "outputs": [],
   "source": [
    "X_train, X_test, y_train, y_test = train_test_split(X, y,\n",
    "                                                    stratify=y, \n",
    "                                                    test_size=(1/3))"
   ]
  },
  {
   "cell_type": "code",
   "execution_count": 12,
   "metadata": {},
   "outputs": [],
   "source": [
    "X_test.to_csv('../../../Source/Data/X_test_preAugmented.csv', index=None)\n",
    "y_test.to_csv('../../../Source/Data/y_test_preAugmented.csv', index=None)"
   ]
  },
  {
   "cell_type": "code",
   "execution_count": 13,
   "metadata": {},
   "outputs": [
    {
     "data": {
      "text/plain": [
       "((228,), (115,))"
      ]
     },
     "execution_count": 13,
     "metadata": {},
     "output_type": "execute_result"
    }
   ],
   "source": [
    "X_train.shape, X_test.shape\n",
    "y_train.shape, y_test.shape"
   ]
  },
  {
   "cell_type": "code",
   "execution_count": 14,
   "metadata": {},
   "outputs": [
    {
     "data": {
      "text/plain": [
       "228"
      ]
     },
     "execution_count": 14,
     "metadata": {},
     "output_type": "execute_result"
    }
   ],
   "source": [
    "path_col = (X_train.tolist())\n",
    "len(path_col)"
   ]
  },
  {
   "cell_type": "markdown",
   "metadata": {},
   "source": [
    "### Creating, exporting noisy clips"
   ]
  },
  {
   "cell_type": "code",
   "execution_count": 15,
   "metadata": {},
   "outputs": [],
   "source": [
    "for i in range (len(path_col)): \n",
    "    write_audio_file((new_name(str(path_col[i]), '_noise')),\n",
    "                      add_noise(path_col[i]))"
   ]
  },
  {
   "cell_type": "code",
   "execution_count": null,
   "metadata": {},
   "outputs": [],
   "source": []
  },
  {
   "cell_type": "markdown",
   "metadata": {},
   "source": [
    "### Creating, exporting stretched clips"
   ]
  },
  {
   "cell_type": "code",
   "execution_count": 16,
   "metadata": {},
   "outputs": [],
   "source": [
    "for i in range (len(path_col)): \n",
    "    write_audio_file((new_name(str(path_col[i]), '_stretch')),\n",
    "                      stretch(path_col[i]))"
   ]
  },
  {
   "cell_type": "code",
   "execution_count": null,
   "metadata": {},
   "outputs": [],
   "source": []
  },
  {
   "cell_type": "markdown",
   "metadata": {},
   "source": [
    "### Creating, exporting shifted clips"
   ]
  },
  {
   "cell_type": "code",
   "execution_count": 17,
   "metadata": {},
   "outputs": [],
   "source": [
    "for i in range (len(path_col)): \n",
    "    write_audio_file((new_name(str(path_col[i]), '_shift')),\n",
    "                      shift(path_col[i]))"
   ]
  },
  {
   "cell_type": "code",
   "execution_count": null,
   "metadata": {},
   "outputs": [],
   "source": []
  },
  {
   "cell_type": "markdown",
   "metadata": {},
   "source": [
    "### Export un-augmented data"
   ]
  },
  {
   "cell_type": "code",
   "execution_count": 23,
   "metadata": {},
   "outputs": [],
   "source": [
    "#train_untrans = pd.DataFrame(path_col, columns=['Path'])"
   ]
  },
  {
   "cell_type": "code",
   "execution_count": 25,
   "metadata": {},
   "outputs": [],
   "source": [
    "#train_untrans.to_csv('../../../Source/Data/X_train_preAugmented.csv', index=None)"
   ]
  },
  {
   "cell_type": "code",
   "execution_count": null,
   "metadata": {},
   "outputs": [],
   "source": []
  }
 ],
 "metadata": {
  "kernelspec": {
   "display_name": "Python 3",
   "language": "python",
   "name": "python3"
  },
  "language_info": {
   "codemirror_mode": {
    "name": "ipython",
    "version": 3
   },
   "file_extension": ".py",
   "mimetype": "text/x-python",
   "name": "python",
   "nbconvert_exporter": "python",
   "pygments_lexer": "ipython3",
   "version": "3.6.5"
  }
 },
 "nbformat": 4,
 "nbformat_minor": 2
}
