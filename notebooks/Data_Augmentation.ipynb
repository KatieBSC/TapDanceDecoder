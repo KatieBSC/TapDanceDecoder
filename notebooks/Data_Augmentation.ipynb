{
 "cells": [
  {
   "cell_type": "markdown",
   "metadata": {},
   "source": [
    "## Data Augmentation"
   ]
  },
  {
   "cell_type": "code",
   "execution_count": 1,
   "metadata": {},
   "outputs": [],
   "source": [
    "from scipy.io import wavfile as wav\n",
    "from scipy.io.wavfile import read, write\n",
    "import matplotlib.pyplot as plt\n",
    "import pandas as pd\n",
    "import numpy as np\n",
    "import librosa.display\n",
    "from pathlib import Path\n",
    "from sklearn.model_selection import train_test_split"
   ]
  },
  {
   "cell_type": "code",
   "execution_count": 2,
   "metadata": {},
   "outputs": [],
   "source": [
    "def add_noise(file_path):\n",
    "    data = librosa.core.load(file_path)[0]\n",
    "    noise = np.random.randn(len(data))\n",
    "    data_noise = data + 0.005 * noise\n",
    "    return data_noise\n",
    " \n",
    "def shift(file_path):\n",
    "    data = librosa.core.load(file_path)[0]\n",
    "    return np.roll(data, 300)\n",
    " \n",
    "def stretch(file_path):\n",
    "    data = librosa.core.load(file_path)[0]\n",
    "    rate = 1.5\n",
    "    data = librosa.effects.time_stretch(data, rate)\n",
    "    return data\n",
    " \n",
    "def write_audio_file(file, data, sample_rate=22050):\n",
    "    librosa.output.write_wav(file, data, sample_rate)\n",
    "    \n",
    "    \n",
    "def new_name (source_str, insert_str):\n",
    "    #return source_str[:-4]+insert_str+source_str[-4:]\n",
    "    return source_str[:34] + str('Train_augment_pad/') + source_str[34:-4] + insert_str + source_str[-4:]\n",
    "\n",
    "def get_label(path):\n",
    "    if path.parts[-3] == 'Shuffle':\n",
    "        return 1\n",
    "    else:\n",
    "        return 0\n",
    "\n",
    "def pad_signal(path, length):\n",
    "    samples, sample_rate = librosa.load(path)\n",
    "    name = path  # To rewrite files\n",
    "    if len(samples) < length:\n",
    "        y = np.pad(samples, (0, length-len(samples)), 'constant')\n",
    "    else:\n",
    "        y = samples\n",
    "    return librosa.output.write_wav(path=name, y=y, sr=sample_rate)\n",
    "\n",
    "def pad_signal_rename (path, length, new_folder):\n",
    "    samples, sample_rate = librosa.load(path)\n",
    "    name = str(path)[:34] + new_folder + str(path)[34:] # To rename files\n",
    "    if len(samples) < length:\n",
    "        y = np.pad(samples, (0, length-len(samples)), 'constant')\n",
    "    else:\n",
    "        y = samples\n",
    "    return librosa.output.write_wav(path=name, y=y, sr=sample_rate)\n"
   ]
  },
  {
   "cell_type": "markdown",
   "metadata": {},
   "source": [
    "### Getting all the cleaned data in one list"
   ]
  },
  {
   "cell_type": "code",
   "execution_count": 3,
   "metadata": {},
   "outputs": [],
   "source": [
    "shuffle_col=[]\n",
    "pathlist = Path('../../../Source/Clean_train_clips/Shuffle').glob('**/*.wav')\n",
    "for path in pathlist:\n",
    "    shuffle_col.append(path)"
   ]
  },
  {
   "cell_type": "code",
   "execution_count": 4,
   "metadata": {},
   "outputs": [],
   "source": [
    "bc_col = []\n",
    "pathlist = Path('../../../Source/Clean_train_clips/Ball_change').glob('**/*.wav')\n",
    "for path in pathlist:\n",
    "    bc_col.append(path)\n",
    "    bc_col.sort()"
   ]
  },
  {
   "cell_type": "code",
   "execution_count": 5,
   "metadata": {},
   "outputs": [],
   "source": [
    "path_col = shuffle_col + bc_col"
   ]
  },
  {
   "cell_type": "markdown",
   "metadata": {},
   "source": [
    "### Set aside some data for validation"
   ]
  },
  {
   "cell_type": "code",
   "execution_count": 6,
   "metadata": {},
   "outputs": [
    {
     "data": {
      "text/plain": [
       "343"
      ]
     },
     "execution_count": 6,
     "metadata": {},
     "output_type": "execute_result"
    }
   ],
   "source": [
    "len(path_col)"
   ]
  },
  {
   "cell_type": "code",
   "execution_count": null,
   "metadata": {},
   "outputs": [],
   "source": [
    "path_copy = path_col.copy()"
   ]
  },
  {
   "cell_type": "code",
   "execution_count": null,
   "metadata": {},
   "outputs": [],
   "source": [
    "path_df = pd.DataFrame(path_copy, columns=['Path'])\n",
    "path_df['Labels'] = [get_label(path_df.loc[idx,'Path']) for idx in range(len(path_df))]"
   ]
  },
  {
   "cell_type": "code",
   "execution_count": null,
   "metadata": {},
   "outputs": [],
   "source": [
    "path_df.head()"
   ]
  },
  {
   "cell_type": "code",
   "execution_count": null,
   "metadata": {},
   "outputs": [],
   "source": [
    "X = path_df['Path']\n",
    "y = path_df['Labels']"
   ]
  },
  {
   "cell_type": "code",
   "execution_count": null,
   "metadata": {},
   "outputs": [],
   "source": [
    "X_train, X_extra, y_train, y_extra = train_test_split(X, y,\n",
    "                                                    stratify=y, \n",
    "                                                    test_size=0.33,\n",
    "                                                     random_state=17)"
   ]
  },
  {
   "cell_type": "code",
   "execution_count": null,
   "metadata": {},
   "outputs": [],
   "source": [
    "X_train.shape, X_extra.shape\n",
    "y_train.shape, y_extra.shape"
   ]
  },
  {
   "cell_type": "code",
   "execution_count": null,
   "metadata": {},
   "outputs": [],
   "source": [
    "X_test, X_validate, y_test, y_validate = train_test_split(X_extra, y_extra,\n",
    "                                                    stratify=y_extra, \n",
    "                                                    test_size=0.33,\n",
    "                                                     random_state=17)"
   ]
  },
  {
   "cell_type": "code",
   "execution_count": null,
   "metadata": {},
   "outputs": [],
   "source": [
    "X_train.shape, X_test.shape, X_validate.shape\n",
    "y_train.shape, y_test.shape, y_validate.shape"
   ]
  },
  {
   "cell_type": "code",
   "execution_count": null,
   "metadata": {},
   "outputs": [],
   "source": [
    "# Test Data for later use in padding\n",
    "X_test.to_csv('../../../Source/Reserved_data/X_test_reserved.csv', index=None, header=True)\n",
    "y_test.to_csv('../../../Source/Reserved_data/y_test_reserved.csv', index=None, header=True)\n",
    "\n",
    "# Validate Data for later use in padding\n",
    "X_validate.to_csv('../../../Source/Reserved_data/X_validate_reserved.csv', index=None, header=True)\n",
    "y_validate.to_csv('../../../Source/Reserved_data/y_validate_reserved.csv', index=None, header=True)"
   ]
  },
  {
   "cell_type": "code",
   "execution_count": null,
   "metadata": {},
   "outputs": [],
   "source": []
  },
  {
   "cell_type": "code",
   "execution_count": null,
   "metadata": {},
   "outputs": [],
   "source": [
    "path_col = (X_train.tolist())\n",
    "len(path_col)\n"
   ]
  },
  {
   "cell_type": "markdown",
   "metadata": {},
   "source": [
    "### Creating, exporting noisy clips"
   ]
  },
  {
   "cell_type": "code",
   "execution_count": null,
   "metadata": {},
   "outputs": [],
   "source": [
    "for i in range (len(path_col)): \n",
    "    write_audio_file((new_name(str(path_col[i]), '_noise')),\n",
    "                      add_noise(path_col[i]))"
   ]
  },
  {
   "cell_type": "code",
   "execution_count": null,
   "metadata": {},
   "outputs": [],
   "source": []
  },
  {
   "cell_type": "markdown",
   "metadata": {},
   "source": [
    "### Creating, exporting stretched clips"
   ]
  },
  {
   "cell_type": "code",
   "execution_count": null,
   "metadata": {},
   "outputs": [],
   "source": [
    "for i in range (len(path_col)): \n",
    "    write_audio_file((new_name(str(path_col[i]), '_stretch')),\n",
    "                      stretch(path_col[i]))"
   ]
  },
  {
   "cell_type": "code",
   "execution_count": null,
   "metadata": {},
   "outputs": [],
   "source": []
  },
  {
   "cell_type": "markdown",
   "metadata": {},
   "source": [
    "### Creating, exporting shifted clips"
   ]
  },
  {
   "cell_type": "code",
   "execution_count": null,
   "metadata": {},
   "outputs": [],
   "source": [
    "for i in range (len(path_col)): \n",
    "    write_audio_file((new_name(str(path_col[i]), '_shift')),\n",
    "                      shift(path_col[i]))"
   ]
  },
  {
   "cell_type": "code",
   "execution_count": null,
   "metadata": {},
   "outputs": [],
   "source": []
  },
  {
   "cell_type": "markdown",
   "metadata": {},
   "source": [
    "### Export un-augmented data"
   ]
  },
  {
   "cell_type": "code",
   "execution_count": null,
   "metadata": {},
   "outputs": [],
   "source": [
    "for i in range (len(path_col)):\n",
    "    write_audio_file((new_name(str(path_col[i]), '_')),\n",
    "                     librosa.core.load(path_col[i])[0])"
   ]
  },
  {
   "cell_type": "code",
   "execution_count": null,
   "metadata": {},
   "outputs": [],
   "source": []
  },
  {
   "cell_type": "markdown",
   "metadata": {},
   "source": [
    "### Pad samples with silence (to create equal lengths) and resave (overwrite existing files)"
   ]
  },
  {
   "cell_type": "code",
   "execution_count": null,
   "metadata": {},
   "outputs": [],
   "source": [
    "path_col = []\n",
    "pathlist = Path('../../../Source/Clean_train_clips/Train_augment_pad').glob('**/*.wav')\n",
    "for path in pathlist:\n",
    "    path_col.append(path)"
   ]
  },
  {
   "cell_type": "code",
   "execution_count": null,
   "metadata": {},
   "outputs": [],
   "source": [
    "len(path_col) # should be 229*4=916"
   ]
  },
  {
   "cell_type": "code",
   "execution_count": 8,
   "metadata": {},
   "outputs": [
    {
     "name": "stdout",
     "output_type": "stream",
     "text": [
      "20772\n"
     ]
    }
   ],
   "source": [
    "length_list = []\n",
    "for i in range (len(path_col)):\n",
    "    samples, sample_rate = librosa.load(path_col[i])\n",
    "    length_list.append(len(samples))\n",
    "max_length = max(length_list)\n",
    "print(max_length)"
   ]
  },
  {
   "cell_type": "code",
   "execution_count": null,
   "metadata": {},
   "outputs": [],
   "source": [
    "for i in range(len(path_col)):\n",
    "    pad_signal(path_col[i], max_length)"
   ]
  },
  {
   "cell_type": "code",
   "execution_count": null,
   "metadata": {},
   "outputs": [],
   "source": [
    "# Check to see if it worked\n",
    "for i in range (len(path_col)):\n",
    "    samples, sample_rate = librosa.load(path_col[i])\n",
    "    print(len(samples))"
   ]
  },
  {
   "cell_type": "code",
   "execution_count": null,
   "metadata": {},
   "outputs": [],
   "source": []
  },
  {
   "cell_type": "markdown",
   "metadata": {},
   "source": [
    "### Repeat padding for test and validate sets (and write files)"
   ]
  },
  {
   "cell_type": "code",
   "execution_count": null,
   "metadata": {},
   "outputs": [],
   "source": [
    "# Test Data \n",
    "X_test = pd.read_csv('../../../Source/Reserved_data/X_test_reserved.csv')\n",
    "\n",
    "# Validate Data \n",
    "X_validate = pd.read_csv('../../../Source/Reserved_data/X_validate_reserved.csv')"
   ]
  },
  {
   "cell_type": "code",
   "execution_count": null,
   "metadata": {},
   "outputs": [],
   "source": [
    "val_col, test_col = [], []\n",
    "for i in range(len(X_validate)):\n",
    "    val_col.append(Path(X_validate.loc[i, 'Path']))\n",
    "    \n",
    "for j in range(len(X_test)):\n",
    "    test_col.append(Path(X_test.loc[j, 'Path']))"
   ]
  },
  {
   "cell_type": "code",
   "execution_count": null,
   "metadata": {},
   "outputs": [],
   "source": [
    "print (len(val_col) == len(X_validate))\n",
    "print (len(test_col) == len(X_test))\n",
    "print (max_length)"
   ]
  },
  {
   "cell_type": "code",
   "execution_count": null,
   "metadata": {},
   "outputs": [],
   "source": [
    "for i in range(len(val_col)):\n",
    "    pad_signal_rename(val_col[i], max_length, 'Validate_pad/')"
   ]
  },
  {
   "cell_type": "code",
   "execution_count": null,
   "metadata": {},
   "outputs": [],
   "source": [
    "for i in range(len(test_col)):\n",
    "    pad_signal_rename(test_col[i], max_length, 'Test_pad/')"
   ]
  },
  {
   "cell_type": "code",
   "execution_count": null,
   "metadata": {},
   "outputs": [],
   "source": [
    "# Check to see if it worked\n",
    "path_col = []\n",
    "pathlist = Path('../../../Source/Clean_train_clips/Test_pad').glob('**/*.wav') # For Test_pad and Validate_pad\n",
    "for path in pathlist:\n",
    "    path_col.append(path)\n",
    "\n",
    "for i in range (len(path_col)):\n",
    "    samples, sample_rate = librosa.load(path_col[i])\n",
    "    print(len(samples))"
   ]
  },
  {
   "cell_type": "code",
   "execution_count": null,
   "metadata": {},
   "outputs": [],
   "source": []
  },
  {
   "cell_type": "code",
   "execution_count": null,
   "metadata": {},
   "outputs": [],
   "source": []
  },
  {
   "cell_type": "code",
   "execution_count": null,
   "metadata": {},
   "outputs": [],
   "source": []
  },
  {
   "cell_type": "code",
   "execution_count": 1,
   "metadata": {},
   "outputs": [],
   "source": [
    "#for i in range(len(path_col)):\n",
    "#    pad_signal_rename(path_col[i], max_length, 'All_data_pad/')"
   ]
  },
  {
   "cell_type": "code",
   "execution_count": null,
   "metadata": {},
   "outputs": [],
   "source": []
  }
 ],
 "metadata": {
  "kernelspec": {
   "display_name": "Python 3",
   "language": "python",
   "name": "python3"
  },
  "language_info": {
   "codemirror_mode": {
    "name": "ipython",
    "version": 3
   },
   "file_extension": ".py",
   "mimetype": "text/x-python",
   "name": "python",
   "nbconvert_exporter": "python",
   "pygments_lexer": "ipython3",
   "version": "3.6.6"
  }
 },
 "nbformat": 4,
 "nbformat_minor": 2
}
