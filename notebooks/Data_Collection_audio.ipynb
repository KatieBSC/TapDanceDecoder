{
 "cells": [
  {
   "cell_type": "markdown",
   "metadata": {},
   "source": [
    "## Data Preparation: Recordings from Hoofers"
   ]
  },
  {
   "cell_type": "markdown",
   "metadata": {},
   "source": [
    "The following audio samples will be used as training data. They were collected from tap dancing volunteers. "
   ]
  },
  {
   "cell_type": "code",
   "execution_count": 2,
   "metadata": {},
   "outputs": [],
   "source": [
    "from scipy.io import wavfile as wav\n",
    "from scipy.io.wavfile import read, write\n",
    "import matplotlib.pyplot as plt\n",
    "import pandas as pd\n",
    "import numpy as np\n",
    "import librosa.display\n",
    "from pydub import AudioSegment, effects\n",
    "from pydub.silence import split_on_silence, detect_nonsilent, detect_silence"
   ]
  },
  {
   "cell_type": "code",
   "execution_count": 3,
   "metadata": {},
   "outputs": [],
   "source": [
    "def export_wav(m4a_file, new_name):\n",
    "    audio = AudioSegment.from_file(m4a_file, format='m4a')\n",
    "    audio.export(new_name, format='wav')\n",
    "    return \"Exported file as \" + str(new_name)\n",
    "\n",
    "def build_list(step, folder, length):\n",
    "    i = 1\n",
    "    step_list = []\n",
    "    while i <= length :\n",
    "        name = step + \"/\" + str(folder) + \"/\" +str(i) + \".wav\"\n",
    "        step_list.append(name)\n",
    "        i += 1\n",
    "    return step_list\n",
    "\n",
    "def build_list_underscore(step, folder, length):\n",
    "    i = 1\n",
    "    step_list = []\n",
    "    while i <= length :\n",
    "        name = step + \"/\" + str(folder) +str(i) + \".wav\"\n",
    "        step_list.append(name)\n",
    "        i += 1\n",
    "    return step_list\n",
    "\n",
    "def split_silence_chunks(wavfile, silence_length, threshold, file_names_list, keep_silence):\n",
    "    sound_file = AudioSegment.from_wav(wavfile)\n",
    "    audio_chunks = split_on_silence(sound_file, \n",
    "                        keep_silence=keep_silence,\n",
    "                        min_silence_len=silence_length,\n",
    "                        silence_thresh=threshold\n",
    "                                       )\n",
    "    for i in range (len(audio_chunks)) :\n",
    "        chunk = audio_chunks[i]\n",
    "        chunk.export(file_names_list[i], format='wav')\n",
    "    print(\"Exported \" + str(len(audio_chunks)) + \" files\")\n",
    "\n",
    "def match_target_amplitude(sound, target_dBFS):\n",
    "    change_in_dBFS = target_dBFS - sound.dBFS\n",
    "    return sound.apply_gain(change_in_dBFS)"
   ]
  },
  {
   "cell_type": "code",
   "execution_count": 16,
   "metadata": {},
   "outputs": [],
   "source": [
    "#split_silence_chunks(wavfile='../../Source/Train_clips/Shuffle/Shuffle_1.wav', \n",
    "#                    silence_length= 250,\n",
    "#                    threshold= -28,\n",
    "#                    keep_silence= 100,\n",
    "#                    file_names_list=build_list('../../Source/Train_clips', 1, length)\n",
    "#                     \n",
    "#                    )\n",
    "# TEST BEGINS\n",
    "sound = AudioSegment.from_wav('../../../Source/Train_clips/Shuffle/Shuffle_1.wav')\n",
    "test_list = build_list('../../../Source/Shuffle_test', 1, 13 )"
   ]
  },
  {
   "cell_type": "code",
   "execution_count": 26,
   "metadata": {},
   "outputs": [],
   "source": [
    "chunks = split_on_silence(audio_segment=sound, min_silence_len=100, silence_thresh=-28,keep_silence=20, seek_step=2)\n",
    "for i in range (len(chunks)) :\n",
    "        chunk = chunks[i]\n",
    "        chunk.export(test_list[i], format='wav')"
   ]
  },
  {
   "cell_type": "code",
   "execution_count": 67,
   "metadata": {},
   "outputs": [
    {
     "data": {
      "text/plain": [
       "13"
      ]
     },
     "execution_count": 67,
     "metadata": {},
     "output_type": "execute_result"
    }
   ],
   "source": [
    "chunks = detect_nonsilent(audio_segment=sound, min_silence_len=200, silence_thresh=-28, seek_step=5)\n",
    "len(chunks)\n",
    "for i in range (len(chunks)) :\n",
    "#        chunk = sound[chunks[0][0]:chunks[0][1]]\n",
    "#        chunk.export(test_list[i], format='wav')"
   ]
  },
  {
   "cell_type": "code",
   "execution_count": null,
   "metadata": {},
   "outputs": [],
   "source": []
  },
  {
   "cell_type": "code",
   "execution_count": null,
   "metadata": {},
   "outputs": [],
   "source": []
  },
  {
   "cell_type": "code",
   "execution_count": null,
   "metadata": {},
   "outputs": [],
   "source": []
  },
  {
   "cell_type": "code",
   "execution_count": null,
   "metadata": {},
   "outputs": [],
   "source": []
  },
  {
   "cell_type": "markdown",
   "metadata": {},
   "source": [
    "## Step 1:\n",
    "Export all recordings as wav files"
   ]
  },
  {
   "cell_type": "code",
   "execution_count": 12,
   "metadata": {},
   "outputs": [
    {
     "data": {
      "text/plain": [
       "'Exported file as ../../Source/Train_clips/Shuffle/Shuffle_1.wav'"
      ]
     },
     "execution_count": 12,
     "metadata": {},
     "output_type": "execute_result"
    }
   ],
   "source": [
    "export_wav('../../Source/Train_clips/Shuffle/Shuffle_1.m4a', '../../Source/Train_clips/Shuffle/Shuffle_1.wav')"
   ]
  },
  {
   "cell_type": "code",
   "execution_count": 13,
   "metadata": {},
   "outputs": [
    {
     "data": {
      "text/plain": [
       "'Exported file as ../../Source/Train_clips/Shuffle/Shuffle_2.wav'"
      ]
     },
     "execution_count": 13,
     "metadata": {},
     "output_type": "execute_result"
    }
   ],
   "source": [
    "export_wav('../../Source/Train_clips/Shuffle/Shuffle_2.m4a', '../../Source/Train_clips/Shuffle/Shuffle_2.wav')"
   ]
  },
  {
   "cell_type": "code",
   "execution_count": 14,
   "metadata": {},
   "outputs": [
    {
     "data": {
      "text/plain": [
       "'Exported file as ../../Source/Train_clips/Shuffle/Shuffle_3.wav'"
      ]
     },
     "execution_count": 14,
     "metadata": {},
     "output_type": "execute_result"
    }
   ],
   "source": [
    "export_wav('../../Source/Train_clips/Shuffle/Shuffle_3.m4a', '../../Source/Train_clips/Shuffle/Shuffle_3.wav')"
   ]
  },
  {
   "cell_type": "code",
   "execution_count": 15,
   "metadata": {},
   "outputs": [
    {
     "data": {
      "text/plain": [
       "'Exported file as ../../Source/Train_clips/Shuffle/Shuffle_4.wav'"
      ]
     },
     "execution_count": 15,
     "metadata": {},
     "output_type": "execute_result"
    }
   ],
   "source": [
    "export_wav('../../Source/Train_clips/Shuffle/Shuffle_4.m4a', '../../Source/Train_clips/Shuffle/Shuffle_4.wav')"
   ]
  },
  {
   "cell_type": "code",
   "execution_count": 16,
   "metadata": {},
   "outputs": [
    {
     "data": {
      "text/plain": [
       "'Exported file as ../../Source/Train_clips/Shuffle/Shuffle_5.wav'"
      ]
     },
     "execution_count": 16,
     "metadata": {},
     "output_type": "execute_result"
    }
   ],
   "source": [
    "export_wav('../../Source/Train_clips/Shuffle/Shuffle_5.m4a', '../../Source/Train_clips/Shuffle/Shuffle_5.wav')"
   ]
  },
  {
   "cell_type": "code",
   "execution_count": 17,
   "metadata": {},
   "outputs": [
    {
     "data": {
      "text/plain": [
       "'Exported file as ../../Source/Train_clips/Shuffle/Shuffle_6.wav'"
      ]
     },
     "execution_count": 17,
     "metadata": {},
     "output_type": "execute_result"
    }
   ],
   "source": [
    "export_wav('../../Source/Train_clips/Shuffle/Shuffle_6.m4a', '../../Source/Train_clips/Shuffle/Shuffle_6.wav')"
   ]
  },
  {
   "cell_type": "code",
   "execution_count": 18,
   "metadata": {},
   "outputs": [
    {
     "data": {
      "text/plain": [
       "'Exported file as ../../Source/Train_clips/Shuffle/Shuffle_7.wav'"
      ]
     },
     "execution_count": 18,
     "metadata": {},
     "output_type": "execute_result"
    }
   ],
   "source": [
    "export_wav('../../Source/Train_clips/Shuffle/Shuffle_7.m4a', '../../Source/Train_clips/Shuffle/Shuffle_7.wav')"
   ]
  },
  {
   "cell_type": "code",
   "execution_count": 19,
   "metadata": {},
   "outputs": [
    {
     "data": {
      "text/plain": [
       "'Exported file as ../../Source/Train_clips/Shuffle/Shuffle_8.wav'"
      ]
     },
     "execution_count": 19,
     "metadata": {},
     "output_type": "execute_result"
    }
   ],
   "source": [
    "export_wav('../../Source/Train_clips/Shuffle/Shuffle_8.m4a', '../../Source/Train_clips/Shuffle/Shuffle_8.wav')"
   ]
  },
  {
   "cell_type": "code",
   "execution_count": 20,
   "metadata": {},
   "outputs": [
    {
     "data": {
      "text/plain": [
       "'Exported file as ../../Source/Train_clips/Ball_change/Ball_change_1.wav'"
      ]
     },
     "execution_count": 20,
     "metadata": {},
     "output_type": "execute_result"
    }
   ],
   "source": [
    "export_wav('../../Source/Train_clips/Ball_change/Ball_change_1.m4a', \n",
    "           '../../Source/Train_clips/Ball_change/Ball_change_1.wav')"
   ]
  },
  {
   "cell_type": "code",
   "execution_count": 21,
   "metadata": {},
   "outputs": [
    {
     "data": {
      "text/plain": [
       "'Exported file as ../../Source/Train_clips/Ball_change/Ball_change_2.wav'"
      ]
     },
     "execution_count": 21,
     "metadata": {},
     "output_type": "execute_result"
    }
   ],
   "source": [
    "export_wav('../../Source/Train_clips/Ball_change/Ball_change_2.m4a', \n",
    "           '../../Source/Train_clips/Ball_change/Ball_change_2.wav')"
   ]
  },
  {
   "cell_type": "code",
   "execution_count": 22,
   "metadata": {},
   "outputs": [
    {
     "data": {
      "text/plain": [
       "'Exported file as ../../Source/Train_clips/Ball_change/Ball_change_3.wav'"
      ]
     },
     "execution_count": 22,
     "metadata": {},
     "output_type": "execute_result"
    }
   ],
   "source": [
    "export_wav('../../Source/Train_clips/Ball_change/Ball_change_3.m4a', \n",
    "           '../../Source/Train_clips/Ball_change/Ball_change_3.wav')"
   ]
  },
  {
   "cell_type": "code",
   "execution_count": 23,
   "metadata": {},
   "outputs": [
    {
     "data": {
      "text/plain": [
       "'Exported file as ../../Source/Train_clips/Ball_change/Ball_change_4.wav'"
      ]
     },
     "execution_count": 23,
     "metadata": {},
     "output_type": "execute_result"
    }
   ],
   "source": [
    "export_wav('../../Source/Train_clips/Ball_change/Ball_change_4.m4a', \n",
    "           '../../Source/Train_clips/Ball_change/Ball_change_4.wav')"
   ]
  },
  {
   "cell_type": "code",
   "execution_count": 24,
   "metadata": {},
   "outputs": [
    {
     "data": {
      "text/plain": [
       "'Exported file as ../../Source/Train_clips/Ball_change/Ball_change_5.wav'"
      ]
     },
     "execution_count": 24,
     "metadata": {},
     "output_type": "execute_result"
    }
   ],
   "source": [
    "export_wav('../../Source/Train_clips/Ball_change/Ball_change_5.m4a', \n",
    "           '../../Source/Train_clips/Ball_change/Ball_change_5.wav')"
   ]
  },
  {
   "cell_type": "code",
   "execution_count": 25,
   "metadata": {},
   "outputs": [
    {
     "data": {
      "text/plain": [
       "'Exported file as ../../Source/Train_clips/Ball_change/Ball_change_6.wav'"
      ]
     },
     "execution_count": 25,
     "metadata": {},
     "output_type": "execute_result"
    }
   ],
   "source": [
    "export_wav('../../Source/Train_clips/Ball_change/Ball_change_6.m4a', \n",
    "           '../../Source/Train_clips/Ball_change/Ball_change_6.wav')"
   ]
  },
  {
   "cell_type": "code",
   "execution_count": 26,
   "metadata": {},
   "outputs": [
    {
     "data": {
      "text/plain": [
       "'Exported file as ../../Source/Train_clips/Ball_change/Ball_change_7.wav'"
      ]
     },
     "execution_count": 26,
     "metadata": {},
     "output_type": "execute_result"
    }
   ],
   "source": [
    "export_wav('../../Source/Train_clips/Ball_change/Ball_change_7.m4a', \n",
    "           '../../Source/Train_clips/Ball_change/Ball_change_7.wav')"
   ]
  },
  {
   "cell_type": "markdown",
   "metadata": {},
   "source": [
    "##  Step 2: \n",
    "- Check dBFS for all files\n",
    "- Use results in next step"
   ]
  },
  {
   "cell_type": "code",
   "execution_count": 88,
   "metadata": {},
   "outputs": [],
   "source": [
    "shuffle_list = build_list_underscore('../../Source/Train_clips/Shuffle','Shuffle_' , 8)\n",
    "ball_change_list = build_list_underscore('../../Source/Train_clips/Ball_change','Ball_change_' , 7)"
   ]
  },
  {
   "cell_type": "code",
   "execution_count": 111,
   "metadata": {},
   "outputs": [],
   "source": [
    "#shuffle_list"
   ]
  },
  {
   "cell_type": "code",
   "execution_count": 94,
   "metadata": {},
   "outputs": [],
   "source": [
    "#ball_change_list"
   ]
  },
  {
   "cell_type": "code",
   "execution_count": 79,
   "metadata": {},
   "outputs": [
    {
     "name": "stdout",
     "output_type": "stream",
     "text": [
      "-23.745485470427905\n",
      "-24.629413014424756\n",
      "-27.708759705756272\n",
      "-25.563151947845185\n",
      "-25.359353485653273\n",
      "-25.02681557307819\n",
      "-27.779876430558268\n",
      "-24.05698991396917\n"
     ]
    }
   ],
   "source": [
    "for file in shuffle_list:\n",
    "    audio = AudioSegment.from_wav(file)\n",
    "    print (audio.dBFS)"
   ]
  },
  {
   "cell_type": "code",
   "execution_count": 80,
   "metadata": {},
   "outputs": [
    {
     "name": "stdout",
     "output_type": "stream",
     "text": [
      "-26.479978409896447\n",
      "-26.36890413873344\n",
      "-26.297460164097394\n",
      "-26.270137431161352\n",
      "-26.980396422328702\n",
      "-25.059976904585763\n",
      "-25.438316662553117\n"
     ]
    }
   ],
   "source": [
    "for file in ball_change_list:\n",
    "    audio = AudioSegment.from_wav(file)\n",
    "    print (audio.dBFS)"
   ]
  },
  {
   "cell_type": "markdown",
   "metadata": {},
   "source": [
    "So this gives us an idea about where the silence threshold should be set. (Try -28)"
   ]
  },
  {
   "cell_type": "markdown",
   "metadata": {},
   "source": [
    "## Step 3:\n",
    "- Cut files into chunks (split on silence) and export\n",
    "- Audibly check files with pydub\n",
    "- Sort out clips without 2 sounds\n",
    "- Visually check files with librosa"
   ]
  },
  {
   "cell_type": "code",
   "execution_count": 6,
   "metadata": {},
   "outputs": [
    {
     "data": {
      "image/png": "[encoded data removed]",
      "text/plain": [
       "<Figure size 432x288 with 1 Axes>"
      ]
     },
     "metadata": {},
     "output_type": "display_data"
    }
   ],
   "source": [
    "samples, sample_rate = librosa.load('../../../Source/Train_clips/Shuffle/Shuffle_1.wav')\n",
    "librosa.display.waveplot(samples, sr=sample_rate);"
   ]
  },
  {
   "cell_type": "code",
   "execution_count": 120,
   "metadata": {},
   "outputs": [
    {
     "name": "stdout",
     "output_type": "stream",
     "text": [
      "Exported 13 files\n",
      "Exported 92 files\n",
      "Exported 14 files\n",
      "Exported 40 files\n",
      "Exported 32 files\n",
      "Exported 19 files\n",
      "Exported 20 files\n",
      "Exported 48 files\n"
     ]
    }
   ],
   "source": [
    "for i in range(len(shuffle_list)):\n",
    "    file = shuffle_list[i]\n",
    "    sound = AudioSegment.from_wav(file)\n",
    "    thresh = -28\n",
    "    length = len(split_on_silence(audio_segment=sound, min_silence_len=350, silence_thresh=thresh))\n",
    "    split_silence_chunks(wavfile=file,\n",
    "                     file_names_list= build_list('../../Source/Train_clips/Shuffle', i+1, length),\n",
    "                     silence_length= 350,\n",
    "                     threshold= thresh)"
   ]
  },
  {
   "cell_type": "code",
   "execution_count": 125,
   "metadata": {},
   "outputs": [
    {
     "name": "stdout",
     "output_type": "stream",
     "text": [
      "Exported 27 files\n",
      "Exported 18 files\n",
      "Exported 54 files\n",
      "Exported 29 files\n",
      "Exported 23 files\n",
      "Exported 34 files\n",
      "Exported 37 files\n"
     ]
    }
   ],
   "source": [
    "for i in range(len(ball_change_list)):\n",
    "#for i in range(2):\n",
    "    file = ball_change_list[i]\n",
    "    sound = AudioSegment.from_wav(file)\n",
    "    thresh = -28\n",
    "    length = len(split_on_silence(audio_segment=sound, min_silence_len=500, silence_thresh=thresh))\n",
    "    split_silence_chunks(wavfile=file,\n",
    "                     file_names_list= build_list('../../Source/Train_clips/Ball_change', i+1, length),\n",
    "                     silence_length= 500,\n",
    "                     threshold= thresh)"
   ]
  },
  {
   "cell_type": "markdown",
   "metadata": {},
   "source": [
    "While it might seem time consuming to actually listen to all of these clips, it isn't all that crazy considering each root file is no more than 60 seconds long in total. I decided that the time trade-off is worth it to have clean, true data."
   ]
  },
  {
   "cell_type": "code",
   "execution_count": 127,
   "metadata": {},
   "outputs": [
    {
     "data": {
      "text/plain": [
       "<matplotlib.collections.PolyCollection at 0xb0edb1550>"
      ]
     },
     "execution_count": 127,
     "metadata": {},
     "output_type": "execute_result"
    },
    {
     "data": {
      "image/png": "[encoded data removed]",
      "text/plain": [
       "<Figure size 432x288 with 1 Axes>"
      ]
     },
     "metadata": {},
     "output_type": "display_data"
    }
   ],
   "source": [
    "samples, sample_rate = librosa.load('../../Source/Clean_train_clips/Shuffle/1/1.wav')\n",
    "librosa.display.waveplot(samples, sr=sample_rate)"
   ]
  },
  {
   "cell_type": "code",
   "execution_count": null,
   "metadata": {},
   "outputs": [],
   "source": []
  }
 ],
 "metadata": {
  "kernelspec": {
   "display_name": "Python 3",
   "language": "python",
   "name": "python3"
  },
  "language_info": {
   "codemirror_mode": {
    "name": "ipython",
    "version": 3
   },
   "file_extension": ".py",
   "mimetype": "text/x-python",
   "name": "python",
   "nbconvert_exporter": "python",
   "pygments_lexer": "ipython3",
   "version": "3.6.5"
  }
 },
 "nbformat": 4,
 "nbformat_minor": 2
}
