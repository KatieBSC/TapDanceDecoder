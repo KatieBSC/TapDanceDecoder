{
 "cells": [
  {
   "cell_type": "markdown",
   "metadata": {},
   "source": [
    "## Data Collection: youtube\n",
    "The following audio samples will be used as test data (maybe). <br/>They were collected from the following: <br/>\n",
    "### Shuffles:\n",
    "**1** (Source : https://www.youtube.com/watch?v=aJa3DYnAjqU )<br/>\n",
    "**2** (Source: https://en.wikipedia.org/wiki/Tap_dance_technique )<br/>\n",
    "**3** (Source: https://www.youtube.com/watch?v=dYCtgIm43Rk )<br/>\n",
    "**4** (Source: https://www.youtube.com/watch?v=Xbamib_k874 )<br/>\n",
    "### Ball changes:\n",
    "**1** (Source: https://www.youtube.com/watch?v=hi0wkLqPGR0 )<br/>\n",
    "**2** (Source: https://en.wikipedia.org/wiki/Tap_dance_technique )<br/>\n",
    "**3** (Source: https://www.youtube.com/watch?v=dYCtgIm43Rk )<br/>\n",
    "**4** (Source: https://www.youtube.com/watch?v=Xbamib_k874)<br/>"
   ]
  },
  {
   "cell_type": "code",
   "execution_count": 1,
   "metadata": {},
   "outputs": [],
   "source": [
    "from scipy.io import wavfile as wav\n",
    "from scipy.io.wavfile import read, write\n",
    "import matplotlib.pyplot as plt\n",
    "import pandas as pd\n",
    "import numpy as np\n",
    "from pydub import AudioSegment, effects\n",
    "from pydub.silence import split_on_silence, detect_nonsilent, detect_silence\n",
    "from scipy.signal import argrelextrema, find_peaks, peak_prominences, find_peaks_cwt, normalize\n",
    "from sklearn.metrics import accuracy_score"
   ]
  },
  {
   "cell_type": "code",
   "execution_count": 2,
   "metadata": {},
   "outputs": [],
   "source": [
    "def get_wav_mp4(mp4_file, wav_name):\n",
    "    song = AudioSegment.from_file(mp4_file, \"mp4\")\n",
    "    new_song = song.export(wav_name, format=\"wav\")\n",
    "    return new_song\n",
    "\n",
    "#def set_target_amplitude(sound, target_dBFS = -30):\n",
    "#    change_in_dBFS = target_dBFS - sound.dBFS\n",
    "#    return sound.apply_gain(change_in_dBFS)\n",
    "#\n",
    "def build_list(step, folder, length):\n",
    "    i = 1\n",
    "    step_list = []\n",
    "    while i <= length :\n",
    "        name = step + \"/\" + str(folder) + \"/\" +str(i) + \".wav\"\n",
    "        step_list.append(name)\n",
    "        i += 1\n",
    "    return step_list"
   ]
  },
  {
   "cell_type": "markdown",
   "metadata": {},
   "source": [
    "## Steps:\n",
    "- Export all recordings as wav files <br/>\n",
    "- Manually extract the relevant clip. Set channel to 1 (mono). <br/>\n",
    "- Split up the audio into its components.<br/>\n",
    "- Check dBFS for all files\n",
    "- Save and export as wav files."
   ]
  },
  {
   "cell_type": "markdown",
   "metadata": {},
   "source": [
    " **1** "
   ]
  },
  {
   "cell_type": "code",
   "execution_count": 3,
   "metadata": {},
   "outputs": [],
   "source": [
    "get_wav_mp4('../../../Source/Uncut/Shuffle_1.mp4', '../../../Source/Uncut/Shuffle_1.wav');"
   ]
  },
  {
   "cell_type": "code",
   "execution_count": 4,
   "metadata": {},
   "outputs": [],
   "source": [
    "song = AudioSegment.from_wav('../../../Source/Uncut/Shuffle_1.wav')\n",
    "song = song.set_channels(1)\n",
    "#song = set_target_amplitude(song)\n",
    "#song = song.normalize()\n",
    "start = 30 * 1000\n",
    "end = 34 * 1000\n",
    "three_shuffles = song[start:end]"
   ]
  },
  {
   "cell_type": "code",
   "execution_count": 5,
   "metadata": {},
   "outputs": [],
   "source": [
    "shuffle_1 = three_shuffles[:(three_shuffles.duration_seconds/3)*1000]\n",
    "shuffle_2 = three_shuffles[(three_shuffles.duration_seconds/3)*1000:(three_shuffles.duration_seconds/3)*2000]\n",
    "shuffle_3 = three_shuffles[(three_shuffles.duration_seconds/3)*2000:]"
   ]
  },
  {
   "cell_type": "code",
   "execution_count": 6,
   "metadata": {},
   "outputs": [
    {
     "name": "stdout",
     "output_type": "stream",
     "text": [
      "-44.733926680137785\n",
      "-42.455059634001046\n",
      "-43.3040383325111\n"
     ]
    }
   ],
   "source": [
    "path_list = [shuffle_1, shuffle_2, shuffle_3]\n",
    "for audio in path_list:\n",
    "    print(audio.dBFS)"
   ]
  },
  {
   "cell_type": "code",
   "execution_count": 7,
   "metadata": {},
   "outputs": [],
   "source": [
    "path_list = [shuffle_1, shuffle_2, shuffle_3]\n",
    "for i in path_list:\n",
    "    trimmed_sound = i\n",
    "    trimmed_sound.export('../../../Source/Shuffle/1/'+ str(path_list.index(i)+1)+ '.wav', format='wav')"
   ]
  },
  {
   "cell_type": "markdown",
   "metadata": {},
   "source": [
    " **2**"
   ]
  },
  {
   "cell_type": "code",
   "execution_count": 8,
   "metadata": {},
   "outputs": [],
   "source": [
    "full_clip = AudioSegment.from_file('../../../Source/Uncut/Tap_Dance_Technique_2.webm', \"webm\")\n",
    "full_clip.export('../../../Source/Uncut/Tap_Dance_Technique_2.wav', format=\"wav\");"
   ]
  },
  {
   "cell_type": "code",
   "execution_count": 9,
   "metadata": {},
   "outputs": [],
   "source": [
    "song = AudioSegment.from_wav('../../../Source/Uncut/Tap_Dance_Technique_2.wav')\n",
    "song = song.set_channels(1)\n",
    "#song = set_target_amplitude(song)\n",
    "#song = song.normalize()\n",
    "# I noticed during feature extraction that this clip has a frame_width of 4 instead of 2\n",
    "song = song.set_sample_width(2)\n",
    "start = 7.5 * 1000\n",
    "end = 9 * 1000\n",
    "shuffle = song[start:end]"
   ]
  },
  {
   "cell_type": "code",
   "execution_count": 10,
   "metadata": {},
   "outputs": [
    {
     "name": "stdout",
     "output_type": "stream",
     "text": [
      "-33.76161323811785\n"
     ]
    }
   ],
   "source": [
    "path_list = [shuffle]\n",
    "for audio in path_list:\n",
    "    print(audio.dBFS)"
   ]
  },
  {
   "cell_type": "code",
   "execution_count": 11,
   "metadata": {},
   "outputs": [],
   "source": [
    "path_list = [shuffle]\n",
    "for i in path_list:\n",
    "    trimmed_sound = i\n",
    "    trimmed_sound.export('../../../Source/Shuffle/2/'+ str(path_list.index(i)+1)+ '.wav', format='wav')"
   ]
  },
  {
   "cell_type": "markdown",
   "metadata": {},
   "source": [
    " **3** "
   ]
  },
  {
   "cell_type": "code",
   "execution_count": 12,
   "metadata": {},
   "outputs": [],
   "source": [
    "get_wav_mp4('../../../Source/Uncut/Shuffleballchange_3.mp4', '../../../Source/Uncut/Shuffle_Ball_Change_3.wav');"
   ]
  },
  {
   "cell_type": "code",
   "execution_count": 13,
   "metadata": {},
   "outputs": [],
   "source": [
    "song = AudioSegment.from_wav('../../../Source/Uncut/Shuffle_Ball_Change_3.wav')\n",
    "song = song.set_channels(1)\n",
    "#song = set_target_amplitude(song)\n",
    "#song = song.normalize()\n",
    "start = 15 * 1000\n",
    "end = 16 * 1000\n",
    "shuffle = song[start:end]"
   ]
  },
  {
   "cell_type": "code",
   "execution_count": 14,
   "metadata": {},
   "outputs": [
    {
     "name": "stdout",
     "output_type": "stream",
     "text": [
      "-21.972861262735467\n"
     ]
    }
   ],
   "source": [
    "path_list = [shuffle]\n",
    "for audio in path_list:\n",
    "    print(audio.dBFS)"
   ]
  },
  {
   "cell_type": "code",
   "execution_count": 15,
   "metadata": {},
   "outputs": [],
   "source": [
    "path_list = [shuffle]\n",
    "for i in path_list:\n",
    "    trimmed_sound = i\n",
    "    trimmed_sound.export('../../../Source/Shuffle/3/'+ str(path_list.index(i)+1)+ '.wav', format='wav')"
   ]
  },
  {
   "cell_type": "markdown",
   "metadata": {},
   "source": [
    "**4**"
   ]
  },
  {
   "cell_type": "code",
   "execution_count": 16,
   "metadata": {},
   "outputs": [],
   "source": [
    "get_wav_mp4('../../../Source/Uncut/Shuffle_Ball_Change_4.mp4', '../../../Source/Uncut/Shuffle_Ball_Change_4.wav');"
   ]
  },
  {
   "cell_type": "code",
   "execution_count": 17,
   "metadata": {},
   "outputs": [],
   "source": [
    "song = AudioSegment.from_wav('../../../Source/Uncut/Shuffle_Ball_Change_4.wav')\n",
    "song = song.set_channels(1)\n",
    "#song = set_target_amplitude(song)\n",
    "#song = song.normalize()\n",
    "start = 29.5 * 1000\n",
    "end = 33 * 1000\n",
    "shuffle_bc_2x = song[start:end]"
   ]
  },
  {
   "cell_type": "code",
   "execution_count": 18,
   "metadata": {},
   "outputs": [],
   "source": [
    "shuffle_1 = shuffle_bc_2x[0:975]\n",
    "shuffle_2 = shuffle_bc_2x[2000:2800]"
   ]
  },
  {
   "cell_type": "code",
   "execution_count": 19,
   "metadata": {},
   "outputs": [
    {
     "name": "stdout",
     "output_type": "stream",
     "text": [
      "-30.892766481744005\n",
      "-32.590471903165735\n"
     ]
    }
   ],
   "source": [
    "path_list = [shuffle_1, shuffle_2]\n",
    "for audio in path_list:\n",
    "    print(audio.dBFS)"
   ]
  },
  {
   "cell_type": "code",
   "execution_count": 20,
   "metadata": {},
   "outputs": [],
   "source": [
    "path_list = [shuffle_1, shuffle_2]\n",
    "for i in path_list:\n",
    "    trimmed_sound = i\n",
    "    trimmed_sound.export('../../../Source/Shuffle/4/'+ str(path_list.index(i)+1)+ '.wav', format='wav')"
   ]
  },
  {
   "cell_type": "markdown",
   "metadata": {},
   "source": [
    "## Ball change"
   ]
  },
  {
   "cell_type": "markdown",
   "metadata": {},
   "source": [
    "**1** "
   ]
  },
  {
   "cell_type": "code",
   "execution_count": 21,
   "metadata": {},
   "outputs": [],
   "source": [
    "get_wav_mp4('../../../Source/Uncut/Ball_change_1.mp4', '../../../Source/Uncut/Ball_change_1.wav');"
   ]
  },
  {
   "cell_type": "code",
   "execution_count": 22,
   "metadata": {},
   "outputs": [],
   "source": [
    "song = AudioSegment.from_wav('../../../Source/Uncut/Ball_change_1.wav')\n",
    "song = song.set_channels(1)\n",
    "#song = set_target_amplitude(song)\n",
    "#song = song.normalize()\n",
    "start = 48.5 * 1000\n",
    "end = 52 * 1000\n",
    "three_ball_changes = song[start:end]"
   ]
  },
  {
   "cell_type": "code",
   "execution_count": 23,
   "metadata": {},
   "outputs": [],
   "source": [
    "ball_change_1 = three_ball_changes[:(three_ball_changes.duration_seconds/3)*1000]\n",
    "ball_change_2 = three_ball_changes[(three_ball_changes.duration_seconds/3)*1000:(three_ball_changes.duration_seconds/3)*2000]\n",
    "ball_change_3 = three_ball_changes[(three_ball_changes.duration_seconds/3)*2000:]"
   ]
  },
  {
   "cell_type": "code",
   "execution_count": 24,
   "metadata": {},
   "outputs": [
    {
     "name": "stdout",
     "output_type": "stream",
     "text": [
      "-38.117110514689955\n",
      "-39.75640068176758\n",
      "-39.402856369877874\n"
     ]
    }
   ],
   "source": [
    "path_list = [ball_change_1, ball_change_2, ball_change_3]\n",
    "for audio in path_list:\n",
    "    print(audio.dBFS)"
   ]
  },
  {
   "cell_type": "code",
   "execution_count": 25,
   "metadata": {},
   "outputs": [],
   "source": [
    "path_list = [ball_change_1, ball_change_2, ball_change_3]\n",
    "for i in path_list:\n",
    "    trimmed_sound = i\n",
    "    trimmed_sound.export('../../../Source/Ball_change/1/'+ str(path_list.index(i)+1)+ '.wav', format='wav')"
   ]
  },
  {
   "cell_type": "markdown",
   "metadata": {},
   "source": [
    " **2** "
   ]
  },
  {
   "cell_type": "code",
   "execution_count": 26,
   "metadata": {},
   "outputs": [],
   "source": [
    "song = AudioSegment.from_wav('../../../Source/Uncut/Tap_Dance_Technique_2.wav')\n",
    "song = song.set_channels(1)\n",
    "#song = set_target_amplitude(song)\n",
    "#song = song.normalize()\n",
    "# I during feature extraction that this clip has a frame_width of 4 instead of 2\n",
    "song = song.set_sample_width(2)\n",
    "start = 28 * 1000\n",
    "end = 29.5 * 1000\n",
    "ball_change = song[start:end]"
   ]
  },
  {
   "cell_type": "code",
   "execution_count": 27,
   "metadata": {},
   "outputs": [
    {
     "name": "stdout",
     "output_type": "stream",
     "text": [
      "-31.023806095257378\n"
     ]
    }
   ],
   "source": [
    "path_list = [ball_change]\n",
    "for audio in path_list:\n",
    "    print(audio.dBFS)"
   ]
  },
  {
   "cell_type": "code",
   "execution_count": 28,
   "metadata": {},
   "outputs": [
    {
     "data": {
      "text/plain": [
       "<_io.BufferedRandom name='../../../Source/Ball_change/2/1.wav'>"
      ]
     },
     "execution_count": 28,
     "metadata": {},
     "output_type": "execute_result"
    }
   ],
   "source": [
    "path_list = [ball_change]\n",
    "for i in path_list:\n",
    "    trimmed_sound = i\n",
    "trimmed_sound.export('../../../Source/Ball_change/2/'+ str(path_list.index(i)+1)+ '.wav', format='wav')"
   ]
  },
  {
   "cell_type": "markdown",
   "metadata": {},
   "source": [
    " **3** "
   ]
  },
  {
   "cell_type": "code",
   "execution_count": 29,
   "metadata": {},
   "outputs": [],
   "source": [
    "song = AudioSegment.from_wav('../../../Source/Uncut/Shuffle_Ball_Change_3.wav')\n",
    "song = song.set_channels(1)\n",
    "#song = set_target_amplitude(song)\n",
    "#song = song.normalize()\n",
    "start = 3.5 * 1000\n",
    "end = 3.9 * 1000\n",
    "ball_change = song[start:end]"
   ]
  },
  {
   "cell_type": "code",
   "execution_count": 30,
   "metadata": {},
   "outputs": [
    {
     "name": "stdout",
     "output_type": "stream",
     "text": [
      "-22.86180704870788\n"
     ]
    }
   ],
   "source": [
    "path_list = [ball_change]\n",
    "for audio in path_list:\n",
    "    print(audio.dBFS)"
   ]
  },
  {
   "cell_type": "code",
   "execution_count": 31,
   "metadata": {},
   "outputs": [],
   "source": [
    "path_list = [ball_change]\n",
    "for i in path_list:\n",
    "    trimmed_sound = i\n",
    "    trimmed_sound.export('../../../Source/Ball_change/3/'+ str(path_list.index(i)+1)+ '.wav', format='wav')"
   ]
  },
  {
   "cell_type": "markdown",
   "metadata": {},
   "source": [
    "**4** "
   ]
  },
  {
   "cell_type": "code",
   "execution_count": 32,
   "metadata": {},
   "outputs": [],
   "source": [
    "song = AudioSegment.from_wav('../../../Source/Uncut/Shuffle_Ball_Change_4.wav')\n",
    "song = song.set_channels(1)\n",
    "#song = set_target_amplitude(song)\n",
    "#song = song.normalize()\n",
    "start = 29.5 * 1000\n",
    "end = 33 * 1000\n",
    "shuffle_bc_2x = song[start:end]"
   ]
  },
  {
   "cell_type": "code",
   "execution_count": 33,
   "metadata": {},
   "outputs": [],
   "source": [
    "ball_change_1 = shuffle_bc_2x[975:2000]\n",
    "ball_change_2 = shuffle_bc_2x[2800:]"
   ]
  },
  {
   "cell_type": "code",
   "execution_count": 34,
   "metadata": {},
   "outputs": [
    {
     "name": "stdout",
     "output_type": "stream",
     "text": [
      "-28.747115691066142\n",
      "-28.212430626121247\n"
     ]
    }
   ],
   "source": [
    "path_list = [ball_change_1, ball_change_2]\n",
    "for audio in path_list:\n",
    "    print(audio.dBFS)"
   ]
  },
  {
   "cell_type": "code",
   "execution_count": 35,
   "metadata": {},
   "outputs": [],
   "source": [
    "path_list = [ball_change_1, ball_change_2]\n",
    "for i in path_list:\n",
    "    trimmed_sound = i\n",
    "    trimmed_sound.export('../../../Source/Ball_change/4/'+ str(path_list.index(i)+1)+ '.wav', format='wav')"
   ]
  }
 ],
 "metadata": {
  "kernelspec": {
   "display_name": "Python 3",
   "language": "python",
   "name": "python3"
  },
  "language_info": {
   "codemirror_mode": {
    "name": "ipython",
    "version": 3
   },
   "file_extension": ".py",
   "mimetype": "text/x-python",
   "name": "python",
   "nbconvert_exporter": "python",
   "pygments_lexer": "ipython3",
   "version": "3.6.5"
  }
 },
 "nbformat": 4,
 "nbformat_minor": 2
}
