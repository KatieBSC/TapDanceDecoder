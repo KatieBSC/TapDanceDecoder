{
 "cells": [
  {
   "cell_type": "markdown",
   "metadata": {},
   "source": [
    "## Peak Finding"
   ]
  },
  {
   "cell_type": "code",
   "execution_count": null,
   "metadata": {},
   "outputs": [],
   "source": []
  },
  {
   "cell_type": "code",
   "execution_count": null,
   "metadata": {},
   "outputs": [],
   "source": []
  },
  {
   "cell_type": "code",
   "execution_count": 105,
   "metadata": {},
   "outputs": [],
   "source": [
    "from pydub import AudioSegment\n",
    "import pandas as pd\n",
    "import numpy as np\n",
    "import matplotlib.pyplot as plt\n",
    "from pathlib import Path\n",
    "import os"
   ]
  },
  {
   "cell_type": "code",
   "execution_count": null,
   "metadata": {},
   "outputs": [],
   "source": [
    "\n"
   ]
  },
  {
   "cell_type": "code",
   "execution_count": 2,
   "metadata": {},
   "outputs": [],
   "source": [
    "peak_1_list, peak_2_list = [], []"
   ]
  },
  {
   "cell_type": "markdown",
   "metadata": {},
   "source": [
    "## Find peaks of each beat (2 per clip)"
   ]
  },
  {
   "cell_type": "code",
   "execution_count": 444,
   "metadata": {},
   "outputs": [
    {
     "data": {
      "text/plain": [
       "(14641, 14641, 29282, 29283)"
      ]
     },
     "execution_count": 444,
     "metadata": {},
     "output_type": "execute_result"
    },
    {
     "data": {
      "image/png": "[encoded data removed]",
      "text/plain": [
       "<Figure size 432x288 with 3 Axes>"
      ]
     },
     "metadata": {},
     "output_type": "display_data"
    }
   ],
   "source": [
    "song = AudioSegment.from_wav('../../Source/Clean_train_clips/Shuffle/4/40.wav')\n",
    "\n",
    "part1 = song[:song.duration_seconds/2*1000]\n",
    "part2 = song[song.duration_seconds/2*1000:]\n",
    "\n",
    "\n",
    "plt.subplot(211)\n",
    "plt.title('Full clip')\n",
    "plt.plot(np.array(song.get_array_of_samples()), 'orange')\n",
    "\n",
    "plt.subplots_adjust(hspace=0.5)\n",
    "plt.subplot(223)\n",
    "plt.title('Part 1')\n",
    "plt.plot(np.array(part1.get_array_of_samples()), 'r')\n",
    "\n",
    "plt.subplot(224)\n",
    "plt.title('Part 2')\n",
    "plt.plot(np.array(part2.get_array_of_samples()), 'b')\n",
    "\n",
    "len(part1.get_array_of_samples()), len(part2.get_array_of_samples()), len(part1.get_array_of_samples())+len(part2.get_array_of_samples()),len(np.array(song.get_array_of_samples()))\n",
    "\n",
    "\n"
   ]
  },
  {
   "cell_type": "code",
   "execution_count": 440,
   "metadata": {},
   "outputs": [
    {
     "data": {
      "text/plain": [
       "18789"
      ]
     },
     "execution_count": 440,
     "metadata": {},
     "output_type": "execute_result"
    }
   ],
   "source": [
    "peak_1 = pd.DataFrame(np.array(part1.get_array_of_samples())).max().item()\n",
    "peak_1"
   ]
  },
  {
   "cell_type": "code",
   "execution_count": 441,
   "metadata": {},
   "outputs": [
    {
     "data": {
      "text/plain": [
       "19604"
      ]
     },
     "execution_count": 441,
     "metadata": {},
     "output_type": "execute_result"
    }
   ],
   "source": [
    "peak_2 = pd.DataFrame(np.array(part2.get_array_of_samples())).max().item()\n",
    "peak_2"
   ]
  },
  {
   "cell_type": "code",
   "execution_count": 442,
   "metadata": {},
   "outputs": [],
   "source": [
    "peak_1_list.append(peak_1)\n",
    "peak_2_list.append(peak_2)"
   ]
  },
  {
   "cell_type": "code",
   "execution_count": null,
   "metadata": {},
   "outputs": [],
   "source": [
    "# Done: Shuffle/1, Shuffle/3, Shuffle/4 ALL"
   ]
  },
  {
   "cell_type": "code",
   "execution_count": null,
   "metadata": {},
   "outputs": [],
   "source": []
  },
  {
   "cell_type": "code",
   "execution_count": null,
   "metadata": {},
   "outputs": [],
   "source": []
  },
  {
   "cell_type": "code",
   "execution_count": null,
   "metadata": {},
   "outputs": [],
   "source": []
  },
  {
   "cell_type": "code",
   "execution_count": null,
   "metadata": {},
   "outputs": [],
   "source": [
    "path = shuffle_col[0]\n",
    "first = int(os.path.splitext(path.parts[-2])[0])\n",
    "second = int(os.path.splitext(path.parts[-1])[0])\n",
    "first, second   "
   ]
  },
  {
   "cell_type": "code",
   "execution_count": null,
   "metadata": {},
   "outputs": [],
   "source": [
    "root = 'root_folder'\n",
    "my_dir = 'folder_name'\n",
    "file = 'some.file'\n",
    "path = f'{root}/{my_dir}/{file}'\n",
    "path = '{root}/{my_dir}/{file}'.format(root=root, my_dir=my_dir, file=file)\n",
    "print(path)\n",
    "\n"
   ]
  },
  {
   "cell_type": "code",
   "execution_count": null,
   "metadata": {},
   "outputs": [],
   "source": [
    "def my_sort_key(path):\n",
    "    track_number = path.parts[-2]\n",
    "    part_number = os.path.splitext(path.parts[-1])[0]\n",
    "    return f'{track_number}{\"%02d\" % int(part_number)}'"
   ]
  },
  {
   "cell_type": "code",
   "execution_count": 399,
   "metadata": {},
   "outputs": [],
   "source": [
    "shuffle_col = []"
   ]
  },
  {
   "cell_type": "code",
   "execution_count": 402,
   "metadata": {},
   "outputs": [
    {
     "data": {
      "text/plain": [
       "[PosixPath('../../Source/Clean_train_clips/Shuffle/1/1.wav'),\n",
       " PosixPath('../../Source/Clean_train_clips/Shuffle/1/2.wav'),\n",
       " PosixPath('../../Source/Clean_train_clips/Shuffle/1/3.wav'),\n",
       " PosixPath('../../Source/Clean_train_clips/Shuffle/1/4.wav'),\n",
       " PosixPath('../../Source/Clean_train_clips/Shuffle/1/5.wav'),\n",
       " PosixPath('../../Source/Clean_train_clips/Shuffle/1/6.wav'),\n",
       " PosixPath('../../Source/Clean_train_clips/Shuffle/1/7.wav'),\n",
       " PosixPath('../../Source/Clean_train_clips/Shuffle/1/8.wav'),\n",
       " PosixPath('../../Source/Clean_train_clips/Shuffle/1/9.wav'),\n",
       " PosixPath('../../Source/Clean_train_clips/Shuffle/1/10.wav'),\n",
       " PosixPath('../../Source/Clean_train_clips/Shuffle/1/11.wav'),\n",
       " PosixPath('../../Source/Clean_train_clips/Shuffle/1/12.wav'),\n",
       " PosixPath('../../Source/Clean_train_clips/Shuffle/1/13.wav'),\n",
       " PosixPath('../../Source/Clean_train_clips/Shuffle/3/1.wav'),\n",
       " PosixPath('../../Source/Clean_train_clips/Shuffle/3/2.wav'),\n",
       " PosixPath('../../Source/Clean_train_clips/Shuffle/3/3.wav'),\n",
       " PosixPath('../../Source/Clean_train_clips/Shuffle/3/4.wav'),\n",
       " PosixPath('../../Source/Clean_train_clips/Shuffle/3/5.wav'),\n",
       " PosixPath('../../Source/Clean_train_clips/Shuffle/3/6.wav'),\n",
       " PosixPath('../../Source/Clean_train_clips/Shuffle/3/7.wav'),\n",
       " PosixPath('../../Source/Clean_train_clips/Shuffle/3/8.wav'),\n",
       " PosixPath('../../Source/Clean_train_clips/Shuffle/3/9.wav'),\n",
       " PosixPath('../../Source/Clean_train_clips/Shuffle/3/10.wav'),\n",
       " PosixPath('../../Source/Clean_train_clips/Shuffle/3/11.wav'),\n",
       " PosixPath('../../Source/Clean_train_clips/Shuffle/3/12.wav'),\n",
       " PosixPath('../../Source/Clean_train_clips/Shuffle/3/13.wav'),\n",
       " PosixPath('../../Source/Clean_train_clips/Shuffle/3/14.wav'),\n",
       " PosixPath('../../Source/Clean_train_clips/Shuffle/4/1.wav'),\n",
       " PosixPath('../../Source/Clean_train_clips/Shuffle/4/2.wav'),\n",
       " PosixPath('../../Source/Clean_train_clips/Shuffle/4/3.wav'),\n",
       " PosixPath('../../Source/Clean_train_clips/Shuffle/4/4.wav'),\n",
       " PosixPath('../../Source/Clean_train_clips/Shuffle/4/5.wav'),\n",
       " PosixPath('../../Source/Clean_train_clips/Shuffle/4/6.wav'),\n",
       " PosixPath('../../Source/Clean_train_clips/Shuffle/4/7.wav'),\n",
       " PosixPath('../../Source/Clean_train_clips/Shuffle/4/9.wav'),\n",
       " PosixPath('../../Source/Clean_train_clips/Shuffle/4/10.wav'),\n",
       " PosixPath('../../Source/Clean_train_clips/Shuffle/4/11.wav'),\n",
       " PosixPath('../../Source/Clean_train_clips/Shuffle/4/12.wav'),\n",
       " PosixPath('../../Source/Clean_train_clips/Shuffle/4/13.wav'),\n",
       " PosixPath('../../Source/Clean_train_clips/Shuffle/4/14.wav'),\n",
       " PosixPath('../../Source/Clean_train_clips/Shuffle/4/15.wav'),\n",
       " PosixPath('../../Source/Clean_train_clips/Shuffle/4/16.wav'),\n",
       " PosixPath('../../Source/Clean_train_clips/Shuffle/4/17.wav'),\n",
       " PosixPath('../../Source/Clean_train_clips/Shuffle/4/18.wav'),\n",
       " PosixPath('../../Source/Clean_train_clips/Shuffle/4/19.wav'),\n",
       " PosixPath('../../Source/Clean_train_clips/Shuffle/4/20.wav'),\n",
       " PosixPath('../../Source/Clean_train_clips/Shuffle/4/21.wav'),\n",
       " PosixPath('../../Source/Clean_train_clips/Shuffle/4/22.wav'),\n",
       " PosixPath('../../Source/Clean_train_clips/Shuffle/4/23.wav'),\n",
       " PosixPath('../../Source/Clean_train_clips/Shuffle/4/24.wav'),\n",
       " PosixPath('../../Source/Clean_train_clips/Shuffle/4/25.wav'),\n",
       " PosixPath('../../Source/Clean_train_clips/Shuffle/4/31.wav'),\n",
       " PosixPath('../../Source/Clean_train_clips/Shuffle/4/32.wav'),\n",
       " PosixPath('../../Source/Clean_train_clips/Shuffle/4/33.wav'),\n",
       " PosixPath('../../Source/Clean_train_clips/Shuffle/4/34.wav'),\n",
       " PosixPath('../../Source/Clean_train_clips/Shuffle/4/35.wav'),\n",
       " PosixPath('../../Source/Clean_train_clips/Shuffle/4/36.wav'),\n",
       " PosixPath('../../Source/Clean_train_clips/Shuffle/4/37.wav'),\n",
       " PosixPath('../../Source/Clean_train_clips/Shuffle/4/38.wav'),\n",
       " PosixPath('../../Source/Clean_train_clips/Shuffle/4/39.wav'),\n",
       " PosixPath('../../Source/Clean_train_clips/Shuffle/4/40.wav')]"
      ]
     },
     "execution_count": 402,
     "metadata": {},
     "output_type": "execute_result"
    }
   ],
   "source": [
    "pathlist = Path('../../Source/Clean_train_clips/Shuffle/4').glob('**/*.wav')\n",
    "for path in pathlist:\n",
    "    shuffle_col.append(path)\n",
    "    \n",
    "\n",
    "    \n",
    "new_list = sorted(shuffle_col, key=my_sort_key)\n",
    "new_list"
   ]
  },
  {
   "cell_type": "code",
   "execution_count": 445,
   "metadata": {},
   "outputs": [],
   "source": [
    "df = pd.DataFrame({'Path': new_list, 'Peak_1': peak_1_list, 'Peak_2': peak_2_list})\n"
   ]
  },
  {
   "cell_type": "code",
   "execution_count": 446,
   "metadata": {},
   "outputs": [
    {
     "data": {
      "text/html": [
       "<div>\n",
       "<style scoped>\n",
       "    .dataframe tbody tr th:only-of-type {\n",
       "        vertical-align: middle;\n",
       "    }\n",
       "\n",
       "    .dataframe tbody tr th {\n",
       "        vertical-align: top;\n",
       "    }\n",
       "\n",
       "    .dataframe thead th {\n",
       "        text-align: right;\n",
       "    }\n",
       "</style>\n",
       "<table border=\"1\" class=\"dataframe\">\n",
       "  <thead>\n",
       "    <tr style=\"text-align: right;\">\n",
       "      <th></th>\n",
       "      <th>Path</th>\n",
       "      <th>Peak_1</th>\n",
       "      <th>Peak_2</th>\n",
       "    </tr>\n",
       "  </thead>\n",
       "  <tbody>\n",
       "    <tr>\n",
       "      <th>0</th>\n",
       "      <td>../../Source/Clean_train_clips/Shuffle/1/1.wav</td>\n",
       "      <td>31556</td>\n",
       "      <td>31890</td>\n",
       "    </tr>\n",
       "    <tr>\n",
       "      <th>1</th>\n",
       "      <td>../../Source/Clean_train_clips/Shuffle/1/2.wav</td>\n",
       "      <td>21621</td>\n",
       "      <td>31735</td>\n",
       "    </tr>\n",
       "    <tr>\n",
       "      <th>2</th>\n",
       "      <td>../../Source/Clean_train_clips/Shuffle/1/3.wav</td>\n",
       "      <td>26914</td>\n",
       "      <td>32558</td>\n",
       "    </tr>\n",
       "    <tr>\n",
       "      <th>3</th>\n",
       "      <td>../../Source/Clean_train_clips/Shuffle/1/4.wav</td>\n",
       "      <td>31606</td>\n",
       "      <td>32284</td>\n",
       "    </tr>\n",
       "    <tr>\n",
       "      <th>4</th>\n",
       "      <td>../../Source/Clean_train_clips/Shuffle/1/5.wav</td>\n",
       "      <td>23844</td>\n",
       "      <td>32440</td>\n",
       "    </tr>\n",
       "    <tr>\n",
       "      <th>5</th>\n",
       "      <td>../../Source/Clean_train_clips/Shuffle/1/6.wav</td>\n",
       "      <td>23883</td>\n",
       "      <td>32767</td>\n",
       "    </tr>\n",
       "    <tr>\n",
       "      <th>6</th>\n",
       "      <td>../../Source/Clean_train_clips/Shuffle/1/7.wav</td>\n",
       "      <td>27056</td>\n",
       "      <td>32767</td>\n",
       "    </tr>\n",
       "    <tr>\n",
       "      <th>7</th>\n",
       "      <td>../../Source/Clean_train_clips/Shuffle/1/8.wav</td>\n",
       "      <td>32310</td>\n",
       "      <td>32098</td>\n",
       "    </tr>\n",
       "    <tr>\n",
       "      <th>8</th>\n",
       "      <td>../../Source/Clean_train_clips/Shuffle/1/9.wav</td>\n",
       "      <td>15942</td>\n",
       "      <td>18359</td>\n",
       "    </tr>\n",
       "    <tr>\n",
       "      <th>9</th>\n",
       "      <td>../../Source/Clean_train_clips/Shuffle/1/10.wav</td>\n",
       "      <td>31333</td>\n",
       "      <td>32190</td>\n",
       "    </tr>\n",
       "    <tr>\n",
       "      <th>10</th>\n",
       "      <td>../../Source/Clean_train_clips/Shuffle/1/11.wav</td>\n",
       "      <td>12600</td>\n",
       "      <td>32417</td>\n",
       "    </tr>\n",
       "    <tr>\n",
       "      <th>11</th>\n",
       "      <td>../../Source/Clean_train_clips/Shuffle/1/12.wav</td>\n",
       "      <td>28324</td>\n",
       "      <td>32260</td>\n",
       "    </tr>\n",
       "    <tr>\n",
       "      <th>12</th>\n",
       "      <td>../../Source/Clean_train_clips/Shuffle/1/13.wav</td>\n",
       "      <td>15550</td>\n",
       "      <td>20946</td>\n",
       "    </tr>\n",
       "    <tr>\n",
       "      <th>13</th>\n",
       "      <td>../../Source/Clean_train_clips/Shuffle/3/1.wav</td>\n",
       "      <td>32296</td>\n",
       "      <td>32767</td>\n",
       "    </tr>\n",
       "    <tr>\n",
       "      <th>14</th>\n",
       "      <td>../../Source/Clean_train_clips/Shuffle/3/2.wav</td>\n",
       "      <td>30202</td>\n",
       "      <td>29662</td>\n",
       "    </tr>\n",
       "    <tr>\n",
       "      <th>15</th>\n",
       "      <td>../../Source/Clean_train_clips/Shuffle/3/3.wav</td>\n",
       "      <td>28372</td>\n",
       "      <td>25354</td>\n",
       "    </tr>\n",
       "    <tr>\n",
       "      <th>16</th>\n",
       "      <td>../../Source/Clean_train_clips/Shuffle/3/4.wav</td>\n",
       "      <td>24686</td>\n",
       "      <td>19448</td>\n",
       "    </tr>\n",
       "    <tr>\n",
       "      <th>17</th>\n",
       "      <td>../../Source/Clean_train_clips/Shuffle/3/5.wav</td>\n",
       "      <td>31633</td>\n",
       "      <td>29022</td>\n",
       "    </tr>\n",
       "    <tr>\n",
       "      <th>18</th>\n",
       "      <td>../../Source/Clean_train_clips/Shuffle/3/6.wav</td>\n",
       "      <td>26452</td>\n",
       "      <td>23534</td>\n",
       "    </tr>\n",
       "    <tr>\n",
       "      <th>19</th>\n",
       "      <td>../../Source/Clean_train_clips/Shuffle/3/7.wav</td>\n",
       "      <td>27857</td>\n",
       "      <td>23878</td>\n",
       "    </tr>\n",
       "    <tr>\n",
       "      <th>20</th>\n",
       "      <td>../../Source/Clean_train_clips/Shuffle/3/8.wav</td>\n",
       "      <td>29948</td>\n",
       "      <td>21219</td>\n",
       "    </tr>\n",
       "    <tr>\n",
       "      <th>21</th>\n",
       "      <td>../../Source/Clean_train_clips/Shuffle/3/9.wav</td>\n",
       "      <td>31950</td>\n",
       "      <td>20480</td>\n",
       "    </tr>\n",
       "    <tr>\n",
       "      <th>22</th>\n",
       "      <td>../../Source/Clean_train_clips/Shuffle/3/10.wav</td>\n",
       "      <td>32313</td>\n",
       "      <td>32508</td>\n",
       "    </tr>\n",
       "    <tr>\n",
       "      <th>23</th>\n",
       "      <td>../../Source/Clean_train_clips/Shuffle/3/11.wav</td>\n",
       "      <td>32767</td>\n",
       "      <td>24781</td>\n",
       "    </tr>\n",
       "    <tr>\n",
       "      <th>24</th>\n",
       "      <td>../../Source/Clean_train_clips/Shuffle/3/12.wav</td>\n",
       "      <td>25785</td>\n",
       "      <td>24273</td>\n",
       "    </tr>\n",
       "    <tr>\n",
       "      <th>25</th>\n",
       "      <td>../../Source/Clean_train_clips/Shuffle/3/13.wav</td>\n",
       "      <td>25377</td>\n",
       "      <td>32410</td>\n",
       "    </tr>\n",
       "    <tr>\n",
       "      <th>26</th>\n",
       "      <td>../../Source/Clean_train_clips/Shuffle/3/14.wav</td>\n",
       "      <td>32090</td>\n",
       "      <td>32767</td>\n",
       "    </tr>\n",
       "    <tr>\n",
       "      <th>27</th>\n",
       "      <td>../../Source/Clean_train_clips/Shuffle/4/1.wav</td>\n",
       "      <td>22273</td>\n",
       "      <td>22779</td>\n",
       "    </tr>\n",
       "    <tr>\n",
       "      <th>28</th>\n",
       "      <td>../../Source/Clean_train_clips/Shuffle/4/2.wav</td>\n",
       "      <td>31344</td>\n",
       "      <td>18550</td>\n",
       "    </tr>\n",
       "    <tr>\n",
       "      <th>29</th>\n",
       "      <td>../../Source/Clean_train_clips/Shuffle/4/3.wav</td>\n",
       "      <td>16914</td>\n",
       "      <td>22042</td>\n",
       "    </tr>\n",
       "    <tr>\n",
       "      <th>...</th>\n",
       "      <td>...</td>\n",
       "      <td>...</td>\n",
       "      <td>...</td>\n",
       "    </tr>\n",
       "    <tr>\n",
       "      <th>31</th>\n",
       "      <td>../../Source/Clean_train_clips/Shuffle/4/5.wav</td>\n",
       "      <td>21034</td>\n",
       "      <td>23817</td>\n",
       "    </tr>\n",
       "    <tr>\n",
       "      <th>32</th>\n",
       "      <td>../../Source/Clean_train_clips/Shuffle/4/6.wav</td>\n",
       "      <td>21541</td>\n",
       "      <td>22952</td>\n",
       "    </tr>\n",
       "    <tr>\n",
       "      <th>33</th>\n",
       "      <td>../../Source/Clean_train_clips/Shuffle/4/7.wav</td>\n",
       "      <td>18488</td>\n",
       "      <td>21589</td>\n",
       "    </tr>\n",
       "    <tr>\n",
       "      <th>34</th>\n",
       "      <td>../../Source/Clean_train_clips/Shuffle/4/9.wav</td>\n",
       "      <td>5176</td>\n",
       "      <td>11026</td>\n",
       "    </tr>\n",
       "    <tr>\n",
       "      <th>35</th>\n",
       "      <td>../../Source/Clean_train_clips/Shuffle/4/10.wav</td>\n",
       "      <td>13053</td>\n",
       "      <td>21099</td>\n",
       "    </tr>\n",
       "    <tr>\n",
       "      <th>36</th>\n",
       "      <td>../../Source/Clean_train_clips/Shuffle/4/11.wav</td>\n",
       "      <td>11961</td>\n",
       "      <td>16650</td>\n",
       "    </tr>\n",
       "    <tr>\n",
       "      <th>37</th>\n",
       "      <td>../../Source/Clean_train_clips/Shuffle/4/12.wav</td>\n",
       "      <td>15354</td>\n",
       "      <td>11291</td>\n",
       "    </tr>\n",
       "    <tr>\n",
       "      <th>38</th>\n",
       "      <td>../../Source/Clean_train_clips/Shuffle/4/13.wav</td>\n",
       "      <td>12850</td>\n",
       "      <td>8622</td>\n",
       "    </tr>\n",
       "    <tr>\n",
       "      <th>39</th>\n",
       "      <td>../../Source/Clean_train_clips/Shuffle/4/14.wav</td>\n",
       "      <td>16173</td>\n",
       "      <td>8262</td>\n",
       "    </tr>\n",
       "    <tr>\n",
       "      <th>40</th>\n",
       "      <td>../../Source/Clean_train_clips/Shuffle/4/15.wav</td>\n",
       "      <td>12450</td>\n",
       "      <td>22750</td>\n",
       "    </tr>\n",
       "    <tr>\n",
       "      <th>41</th>\n",
       "      <td>../../Source/Clean_train_clips/Shuffle/4/16.wav</td>\n",
       "      <td>6214</td>\n",
       "      <td>11327</td>\n",
       "    </tr>\n",
       "    <tr>\n",
       "      <th>42</th>\n",
       "      <td>../../Source/Clean_train_clips/Shuffle/4/17.wav</td>\n",
       "      <td>8479</td>\n",
       "      <td>9866</td>\n",
       "    </tr>\n",
       "    <tr>\n",
       "      <th>43</th>\n",
       "      <td>../../Source/Clean_train_clips/Shuffle/4/18.wav</td>\n",
       "      <td>11651</td>\n",
       "      <td>14215</td>\n",
       "    </tr>\n",
       "    <tr>\n",
       "      <th>44</th>\n",
       "      <td>../../Source/Clean_train_clips/Shuffle/4/19.wav</td>\n",
       "      <td>19288</td>\n",
       "      <td>15811</td>\n",
       "    </tr>\n",
       "    <tr>\n",
       "      <th>45</th>\n",
       "      <td>../../Source/Clean_train_clips/Shuffle/4/20.wav</td>\n",
       "      <td>21883</td>\n",
       "      <td>9916</td>\n",
       "    </tr>\n",
       "    <tr>\n",
       "      <th>46</th>\n",
       "      <td>../../Source/Clean_train_clips/Shuffle/4/21.wav</td>\n",
       "      <td>17372</td>\n",
       "      <td>24578</td>\n",
       "    </tr>\n",
       "    <tr>\n",
       "      <th>47</th>\n",
       "      <td>../../Source/Clean_train_clips/Shuffle/4/22.wav</td>\n",
       "      <td>16447</td>\n",
       "      <td>20464</td>\n",
       "    </tr>\n",
       "    <tr>\n",
       "      <th>48</th>\n",
       "      <td>../../Source/Clean_train_clips/Shuffle/4/23.wav</td>\n",
       "      <td>17936</td>\n",
       "      <td>26895</td>\n",
       "    </tr>\n",
       "    <tr>\n",
       "      <th>49</th>\n",
       "      <td>../../Source/Clean_train_clips/Shuffle/4/24.wav</td>\n",
       "      <td>20470</td>\n",
       "      <td>20396</td>\n",
       "    </tr>\n",
       "    <tr>\n",
       "      <th>50</th>\n",
       "      <td>../../Source/Clean_train_clips/Shuffle/4/25.wav</td>\n",
       "      <td>17392</td>\n",
       "      <td>20988</td>\n",
       "    </tr>\n",
       "    <tr>\n",
       "      <th>51</th>\n",
       "      <td>../../Source/Clean_train_clips/Shuffle/4/31.wav</td>\n",
       "      <td>11083</td>\n",
       "      <td>9479</td>\n",
       "    </tr>\n",
       "    <tr>\n",
       "      <th>52</th>\n",
       "      <td>../../Source/Clean_train_clips/Shuffle/4/32.wav</td>\n",
       "      <td>28354</td>\n",
       "      <td>8511</td>\n",
       "    </tr>\n",
       "    <tr>\n",
       "      <th>53</th>\n",
       "      <td>../../Source/Clean_train_clips/Shuffle/4/33.wav</td>\n",
       "      <td>12844</td>\n",
       "      <td>25156</td>\n",
       "    </tr>\n",
       "    <tr>\n",
       "      <th>54</th>\n",
       "      <td>../../Source/Clean_train_clips/Shuffle/4/34.wav</td>\n",
       "      <td>14960</td>\n",
       "      <td>31865</td>\n",
       "    </tr>\n",
       "    <tr>\n",
       "      <th>55</th>\n",
       "      <td>../../Source/Clean_train_clips/Shuffle/4/35.wav</td>\n",
       "      <td>15485</td>\n",
       "      <td>28525</td>\n",
       "    </tr>\n",
       "    <tr>\n",
       "      <th>56</th>\n",
       "      <td>../../Source/Clean_train_clips/Shuffle/4/36.wav</td>\n",
       "      <td>26945</td>\n",
       "      <td>8844</td>\n",
       "    </tr>\n",
       "    <tr>\n",
       "      <th>57</th>\n",
       "      <td>../../Source/Clean_train_clips/Shuffle/4/37.wav</td>\n",
       "      <td>15146</td>\n",
       "      <td>21881</td>\n",
       "    </tr>\n",
       "    <tr>\n",
       "      <th>58</th>\n",
       "      <td>../../Source/Clean_train_clips/Shuffle/4/38.wav</td>\n",
       "      <td>15758</td>\n",
       "      <td>32168</td>\n",
       "    </tr>\n",
       "    <tr>\n",
       "      <th>59</th>\n",
       "      <td>../../Source/Clean_train_clips/Shuffle/4/39.wav</td>\n",
       "      <td>22981</td>\n",
       "      <td>24983</td>\n",
       "    </tr>\n",
       "    <tr>\n",
       "      <th>60</th>\n",
       "      <td>../../Source/Clean_train_clips/Shuffle/4/40.wav</td>\n",
       "      <td>18789</td>\n",
       "      <td>19604</td>\n",
       "    </tr>\n",
       "  </tbody>\n",
       "</table>\n",
       "<p>61 rows × 3 columns</p>\n",
       "</div>"
      ],
      "text/plain": [
       "                                               Path  Peak_1  Peak_2\n",
       "0    ../../Source/Clean_train_clips/Shuffle/1/1.wav   31556   31890\n",
       "1    ../../Source/Clean_train_clips/Shuffle/1/2.wav   21621   31735\n",
       "2    ../../Source/Clean_train_clips/Shuffle/1/3.wav   26914   32558\n",
       "3    ../../Source/Clean_train_clips/Shuffle/1/4.wav   31606   32284\n",
       "4    ../../Source/Clean_train_clips/Shuffle/1/5.wav   23844   32440\n",
       "5    ../../Source/Clean_train_clips/Shuffle/1/6.wav   23883   32767\n",
       "6    ../../Source/Clean_train_clips/Shuffle/1/7.wav   27056   32767\n",
       "7    ../../Source/Clean_train_clips/Shuffle/1/8.wav   32310   32098\n",
       "8    ../../Source/Clean_train_clips/Shuffle/1/9.wav   15942   18359\n",
       "9   ../../Source/Clean_train_clips/Shuffle/1/10.wav   31333   32190\n",
       "10  ../../Source/Clean_train_clips/Shuffle/1/11.wav   12600   32417\n",
       "11  ../../Source/Clean_train_clips/Shuffle/1/12.wav   28324   32260\n",
       "12  ../../Source/Clean_train_clips/Shuffle/1/13.wav   15550   20946\n",
       "13   ../../Source/Clean_train_clips/Shuffle/3/1.wav   32296   32767\n",
       "14   ../../Source/Clean_train_clips/Shuffle/3/2.wav   30202   29662\n",
       "15   ../../Source/Clean_train_clips/Shuffle/3/3.wav   28372   25354\n",
       "16   ../../Source/Clean_train_clips/Shuffle/3/4.wav   24686   19448\n",
       "17   ../../Source/Clean_train_clips/Shuffle/3/5.wav   31633   29022\n",
       "18   ../../Source/Clean_train_clips/Shuffle/3/6.wav   26452   23534\n",
       "19   ../../Source/Clean_train_clips/Shuffle/3/7.wav   27857   23878\n",
       "20   ../../Source/Clean_train_clips/Shuffle/3/8.wav   29948   21219\n",
       "21   ../../Source/Clean_train_clips/Shuffle/3/9.wav   31950   20480\n",
       "22  ../../Source/Clean_train_clips/Shuffle/3/10.wav   32313   32508\n",
       "23  ../../Source/Clean_train_clips/Shuffle/3/11.wav   32767   24781\n",
       "24  ../../Source/Clean_train_clips/Shuffle/3/12.wav   25785   24273\n",
       "25  ../../Source/Clean_train_clips/Shuffle/3/13.wav   25377   32410\n",
       "26  ../../Source/Clean_train_clips/Shuffle/3/14.wav   32090   32767\n",
       "27   ../../Source/Clean_train_clips/Shuffle/4/1.wav   22273   22779\n",
       "28   ../../Source/Clean_train_clips/Shuffle/4/2.wav   31344   18550\n",
       "29   ../../Source/Clean_train_clips/Shuffle/4/3.wav   16914   22042\n",
       "..                                              ...     ...     ...\n",
       "31   ../../Source/Clean_train_clips/Shuffle/4/5.wav   21034   23817\n",
       "32   ../../Source/Clean_train_clips/Shuffle/4/6.wav   21541   22952\n",
       "33   ../../Source/Clean_train_clips/Shuffle/4/7.wav   18488   21589\n",
       "34   ../../Source/Clean_train_clips/Shuffle/4/9.wav    5176   11026\n",
       "35  ../../Source/Clean_train_clips/Shuffle/4/10.wav   13053   21099\n",
       "36  ../../Source/Clean_train_clips/Shuffle/4/11.wav   11961   16650\n",
       "37  ../../Source/Clean_train_clips/Shuffle/4/12.wav   15354   11291\n",
       "38  ../../Source/Clean_train_clips/Shuffle/4/13.wav   12850    8622\n",
       "39  ../../Source/Clean_train_clips/Shuffle/4/14.wav   16173    8262\n",
       "40  ../../Source/Clean_train_clips/Shuffle/4/15.wav   12450   22750\n",
       "41  ../../Source/Clean_train_clips/Shuffle/4/16.wav    6214   11327\n",
       "42  ../../Source/Clean_train_clips/Shuffle/4/17.wav    8479    9866\n",
       "43  ../../Source/Clean_train_clips/Shuffle/4/18.wav   11651   14215\n",
       "44  ../../Source/Clean_train_clips/Shuffle/4/19.wav   19288   15811\n",
       "45  ../../Source/Clean_train_clips/Shuffle/4/20.wav   21883    9916\n",
       "46  ../../Source/Clean_train_clips/Shuffle/4/21.wav   17372   24578\n",
       "47  ../../Source/Clean_train_clips/Shuffle/4/22.wav   16447   20464\n",
       "48  ../../Source/Clean_train_clips/Shuffle/4/23.wav   17936   26895\n",
       "49  ../../Source/Clean_train_clips/Shuffle/4/24.wav   20470   20396\n",
       "50  ../../Source/Clean_train_clips/Shuffle/4/25.wav   17392   20988\n",
       "51  ../../Source/Clean_train_clips/Shuffle/4/31.wav   11083    9479\n",
       "52  ../../Source/Clean_train_clips/Shuffle/4/32.wav   28354    8511\n",
       "53  ../../Source/Clean_train_clips/Shuffle/4/33.wav   12844   25156\n",
       "54  ../../Source/Clean_train_clips/Shuffle/4/34.wav   14960   31865\n",
       "55  ../../Source/Clean_train_clips/Shuffle/4/35.wav   15485   28525\n",
       "56  ../../Source/Clean_train_clips/Shuffle/4/36.wav   26945    8844\n",
       "57  ../../Source/Clean_train_clips/Shuffle/4/37.wav   15146   21881\n",
       "58  ../../Source/Clean_train_clips/Shuffle/4/38.wav   15758   32168\n",
       "59  ../../Source/Clean_train_clips/Shuffle/4/39.wav   22981   24983\n",
       "60  ../../Source/Clean_train_clips/Shuffle/4/40.wav   18789   19604\n",
       "\n",
       "[61 rows x 3 columns]"
      ]
     },
     "execution_count": 446,
     "metadata": {},
     "output_type": "execute_result"
    }
   ],
   "source": []
  },
  {
   "cell_type": "code",
   "execution_count": null,
   "metadata": {},
   "outputs": [],
   "source": []
  },
  {
   "cell_type": "code",
   "execution_count": null,
   "metadata": {},
   "outputs": [],
   "source": []
  },
  {
   "cell_type": "code",
   "execution_count": null,
   "metadata": {},
   "outputs": [],
   "source": []
  },
  {
   "cell_type": "markdown",
   "metadata": {},
   "source": [
    "### Repeat for all data (Organize in a DataFrame)"
   ]
  },
  {
   "cell_type": "code",
   "execution_count": null,
   "metadata": {},
   "outputs": [],
   "source": [
    "def build_list(step, folder, length):\n",
    "    i = 1\n",
    "    step_list = []\n",
    "    while i <= length :\n",
    "        name = step + \"/\" + str(folder) + \"/\" +str(i) + \".wav\"\n",
    "        step_list.append(name)\n",
    "        i += 1\n",
    "    return step_list\n",
    "\n",
    "def get_label(path):\n",
    "    #return path.parts[-3]\n",
    "    if path.parts[-3] == 'Shuffle':\n",
    "        return 1\n",
    "    else:\n",
    "        return 0"
   ]
  },
  {
   "cell_type": "code",
   "execution_count": null,
   "metadata": {},
   "outputs": [],
   "source": [
    "shuffle_col, bc_col, path_col = [], [], []"
   ]
  },
  {
   "cell_type": "code",
   "execution_count": null,
   "metadata": {},
   "outputs": [],
   "source": [
    "pathlist = Path('../../Source/Shuffle').glob('**/*.wav')\n",
    "for path in pathlist:\n",
    "    shuffle_col.append(path)\n",
    "    shuffle_col.sort()"
   ]
  },
  {
   "cell_type": "code",
   "execution_count": null,
   "metadata": {},
   "outputs": [],
   "source": [
    "pathlist = Path('../../Source/Normal/Ball_change').glob('**/*.wav')\n",
    "for path in pathlist:\n",
    "    bc_col.append(path)\n",
    "    bc_col.sort()"
   ]
  },
  {
   "cell_type": "code",
   "execution_count": null,
   "metadata": {},
   "outputs": [],
   "source": [
    "path_col = shuffle_col + bc_col"
   ]
  },
  {
   "cell_type": "code",
   "execution_count": null,
   "metadata": {},
   "outputs": [],
   "source": [
    "tap = pd.DataFrame({'Path':path_col})\n",
    "tap"
   ]
  },
  {
   "cell_type": "code",
   "execution_count": null,
   "metadata": {},
   "outputs": [],
   "source": [
    "tap['Labels'] = [get_label(tap.loc[idx,'Path']) for idx in range(len(tap))]"
   ]
  },
  {
   "cell_type": "code",
   "execution_count": null,
   "metadata": {},
   "outputs": [],
   "source": [
    "#tap['Min'] = [wav.read(str(tap.loc[idx, 'Path']))[1].min() for idx in range (len(tap))]"
   ]
  },
  {
   "cell_type": "code",
   "execution_count": null,
   "metadata": {},
   "outputs": [],
   "source": [
    "def get_features(path):\n",
    "    samples, sample_rate = librosa.load(path)\n",
    "    mfccs = np.mean(librosa.feature.mfcc(y=samples, sr=sample_rate, n_mfcc=40).T,axis=0)\n",
    "    return mfccs"
   ]
  },
  {
   "cell_type": "code",
   "execution_count": null,
   "metadata": {},
   "outputs": [],
   "source": [
    "for i in range (40):\n",
    "    tap[str(i)] = [get_features(tap.loc[idx, 'Path'])[i] for idx in range (len(tap))]"
   ]
  },
  {
   "cell_type": "markdown",
   "metadata": {},
   "source": [
    "### Add data from peak_info"
   ]
  },
  {
   "cell_type": "code",
   "execution_count": null,
   "metadata": {},
   "outputs": [],
   "source": [
    "peak_info = pd.read_csv('peak_info.csv')\n",
    "peak_info"
   ]
  },
  {
   "cell_type": "markdown",
   "metadata": {},
   "source": [
    "### Pythagorean theorem to add \"relevant\" features w/r/t the two peaks"
   ]
  },
  {
   "cell_type": "code",
   "execution_count": null,
   "metadata": {},
   "outputs": [],
   "source": [
    "a2 = peak_info['Peak_dist'].values**2 \n",
    "b2 = (peak_info['Peak_1'].values - peak_info['Peak_2'].values)**2\n",
    "c2 = a2 + b2\n",
    "c = np.sqrt(c2)\n",
    "cneg = -c\n",
    "slope = (peak_info['Peak_1'].values - peak_info['Peak_2'].values) / peak_info['Peak_dist'].values\n",
    "slope"
   ]
  },
  {
   "cell_type": "code",
   "execution_count": null,
   "metadata": {},
   "outputs": [],
   "source": [
    "tap['Slope'] = slope"
   ]
  },
  {
   "cell_type": "code",
   "execution_count": null,
   "metadata": {},
   "outputs": [],
   "source": [
    "tap.head()"
   ]
  }
 ],
 "metadata": {
  "kernelspec": {
   "display_name": "Python 3",
   "language": "python",
   "name": "python3"
  },
  "language_info": {
   "codemirror_mode": {
    "name": "ipython",
    "version": 3
   },
   "file_extension": ".py",
   "mimetype": "text/x-python",
   "name": "python",
   "nbconvert_exporter": "python",
   "pygments_lexer": "ipython3",
   "version": "3.6.5"
  }
 },
 "nbformat": 4,
 "nbformat_minor": 2
}
