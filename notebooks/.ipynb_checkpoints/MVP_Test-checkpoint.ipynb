{
 "cells": [
  {
   "cell_type": "markdown",
   "metadata": {},
   "source": [
    "## TapDanceDecoder: MVP "
   ]
  },
  {
   "cell_type": "code",
   "execution_count": 1,
   "metadata": {},
   "outputs": [],
   "source": [
    "import pandas as pd\n",
    "import numpy as np\n",
    "import matplotlib.pyplot as plt\n",
    "from sklearn.metrics import accuracy_score,roc_curve, auc,roc_auc_score\n",
    "from sklearn.linear_model import LogisticRegression\n",
    "from sklearn.model_selection import train_test_split\n",
    "from sklearn.ensemble import RandomForestClassifier"
   ]
  },
  {
   "cell_type": "markdown",
   "metadata": {},
   "source": [
    "### Get Data"
   ]
  },
  {
   "cell_type": "code",
   "execution_count": 3,
   "metadata": {},
   "outputs": [],
   "source": [
    "train = pd.read_csv('../../../Source/Data/audio_data.csv')\n",
    "test = pd.read_csv('../../../Source/Data/youtube_data.csv')"
   ]
  },
  {
   "cell_type": "code",
   "execution_count": 33,
   "metadata": {},
   "outputs": [
    {
     "data": {
      "text/html": [
       "<div>\n",
       "<style scoped>\n",
       "    .dataframe tbody tr th:only-of-type {\n",
       "        vertical-align: middle;\n",
       "    }\n",
       "\n",
       "    .dataframe tbody tr th {\n",
       "        vertical-align: top;\n",
       "    }\n",
       "\n",
       "    .dataframe thead th {\n",
       "        text-align: right;\n",
       "    }\n",
       "</style>\n",
       "<table border=\"1\" class=\"dataframe\">\n",
       "  <thead>\n",
       "    <tr style=\"text-align: right;\">\n",
       "      <th></th>\n",
       "      <th>Path</th>\n",
       "      <th>Labels</th>\n",
       "      <th>0</th>\n",
       "      <th>1</th>\n",
       "      <th>2</th>\n",
       "      <th>3</th>\n",
       "      <th>4</th>\n",
       "      <th>5</th>\n",
       "      <th>6</th>\n",
       "      <th>7</th>\n",
       "      <th>...</th>\n",
       "      <th>14</th>\n",
       "      <th>15</th>\n",
       "      <th>16</th>\n",
       "      <th>17</th>\n",
       "      <th>18</th>\n",
       "      <th>19</th>\n",
       "      <th>BPM</th>\n",
       "      <th>ZCR</th>\n",
       "      <th>RMSE</th>\n",
       "      <th>STE</th>\n",
       "    </tr>\n",
       "  </thead>\n",
       "  <tbody>\n",
       "    <tr>\n",
       "      <th>0</th>\n",
       "      <td>../../../Source/Clean_train_clips/Shuffle/1/1.wav</td>\n",
       "      <td>1</td>\n",
       "      <td>-152.435155</td>\n",
       "      <td>78.311769</td>\n",
       "      <td>-106.482258</td>\n",
       "      <td>40.668131</td>\n",
       "      <td>-6.848575</td>\n",
       "      <td>-13.537377</td>\n",
       "      <td>-25.102485</td>\n",
       "      <td>6.754208</td>\n",
       "      <td>...</td>\n",
       "      <td>-10.265548</td>\n",
       "      <td>-2.854873</td>\n",
       "      <td>-2.821410</td>\n",
       "      <td>-11.892168</td>\n",
       "      <td>-1.505338</td>\n",
       "      <td>-2.087528</td>\n",
       "      <td>258.398438</td>\n",
       "      <td>0.183553</td>\n",
       "      <td>0.113765</td>\n",
       "      <td>3.927907</td>\n",
       "    </tr>\n",
       "    <tr>\n",
       "      <th>1</th>\n",
       "      <td>../../../Source/Clean_train_clips/Shuffle/1/10...</td>\n",
       "      <td>1</td>\n",
       "      <td>-143.991075</td>\n",
       "      <td>65.523449</td>\n",
       "      <td>-102.436753</td>\n",
       "      <td>32.133732</td>\n",
       "      <td>-7.930019</td>\n",
       "      <td>-3.615873</td>\n",
       "      <td>-29.871724</td>\n",
       "      <td>-0.182348</td>\n",
       "      <td>...</td>\n",
       "      <td>-13.680871</td>\n",
       "      <td>-0.441789</td>\n",
       "      <td>-5.826206</td>\n",
       "      <td>-15.578982</td>\n",
       "      <td>-4.161982</td>\n",
       "      <td>-2.657234</td>\n",
       "      <td>215.332031</td>\n",
       "      <td>0.187988</td>\n",
       "      <td>0.105637</td>\n",
       "      <td>3.369918</td>\n",
       "    </tr>\n",
       "    <tr>\n",
       "      <th>2</th>\n",
       "      <td>../../../Source/Clean_train_clips/Shuffle/1/11...</td>\n",
       "      <td>1</td>\n",
       "      <td>-129.072670</td>\n",
       "      <td>59.774233</td>\n",
       "      <td>-97.656748</td>\n",
       "      <td>35.739948</td>\n",
       "      <td>-4.885226</td>\n",
       "      <td>-0.900206</td>\n",
       "      <td>-23.750029</td>\n",
       "      <td>-4.998659</td>\n",
       "      <td>...</td>\n",
       "      <td>-14.757999</td>\n",
       "      <td>-2.040899</td>\n",
       "      <td>-4.384916</td>\n",
       "      <td>-20.807594</td>\n",
       "      <td>-8.360181</td>\n",
       "      <td>-2.981402</td>\n",
       "      <td>234.907670</td>\n",
       "      <td>0.201621</td>\n",
       "      <td>0.082684</td>\n",
       "      <td>1.902416</td>\n",
       "    </tr>\n",
       "    <tr>\n",
       "      <th>3</th>\n",
       "      <td>../../../Source/Clean_train_clips/Shuffle/1/12...</td>\n",
       "      <td>1</td>\n",
       "      <td>-157.448416</td>\n",
       "      <td>71.945819</td>\n",
       "      <td>-105.594077</td>\n",
       "      <td>33.904608</td>\n",
       "      <td>-1.771036</td>\n",
       "      <td>-8.738653</td>\n",
       "      <td>-30.610143</td>\n",
       "      <td>1.405105</td>\n",
       "      <td>...</td>\n",
       "      <td>-14.136805</td>\n",
       "      <td>-4.416947</td>\n",
       "      <td>-4.629338</td>\n",
       "      <td>-16.549472</td>\n",
       "      <td>-3.571637</td>\n",
       "      <td>-3.324539</td>\n",
       "      <td>215.332031</td>\n",
       "      <td>0.185764</td>\n",
       "      <td>0.094802</td>\n",
       "      <td>2.716855</td>\n",
       "    </tr>\n",
       "    <tr>\n",
       "      <th>4</th>\n",
       "      <td>../../../Source/Clean_train_clips/Shuffle/1/13...</td>\n",
       "      <td>1</td>\n",
       "      <td>-182.069789</td>\n",
       "      <td>83.063060</td>\n",
       "      <td>-97.683985</td>\n",
       "      <td>32.842908</td>\n",
       "      <td>3.010242</td>\n",
       "      <td>5.194879</td>\n",
       "      <td>-24.979170</td>\n",
       "      <td>0.772903</td>\n",
       "      <td>...</td>\n",
       "      <td>-13.376806</td>\n",
       "      <td>-5.384937</td>\n",
       "      <td>-2.593670</td>\n",
       "      <td>-19.554310</td>\n",
       "      <td>-7.848034</td>\n",
       "      <td>-1.967332</td>\n",
       "      <td>184.570312</td>\n",
       "      <td>0.180020</td>\n",
       "      <td>0.068570</td>\n",
       "      <td>1.398406</td>\n",
       "    </tr>\n",
       "  </tbody>\n",
       "</table>\n",
       "<p>5 rows × 26 columns</p>\n",
       "</div>"
      ],
      "text/plain": [
       "                                                Path  Labels           0  \\\n",
       "0  ../../../Source/Clean_train_clips/Shuffle/1/1.wav       1 -152.435155   \n",
       "1  ../../../Source/Clean_train_clips/Shuffle/1/10...       1 -143.991075   \n",
       "2  ../../../Source/Clean_train_clips/Shuffle/1/11...       1 -129.072670   \n",
       "3  ../../../Source/Clean_train_clips/Shuffle/1/12...       1 -157.448416   \n",
       "4  ../../../Source/Clean_train_clips/Shuffle/1/13...       1 -182.069789   \n",
       "\n",
       "           1           2          3         4          5          6         7  \\\n",
       "0  78.311769 -106.482258  40.668131 -6.848575 -13.537377 -25.102485  6.754208   \n",
       "1  65.523449 -102.436753  32.133732 -7.930019  -3.615873 -29.871724 -0.182348   \n",
       "2  59.774233  -97.656748  35.739948 -4.885226  -0.900206 -23.750029 -4.998659   \n",
       "3  71.945819 -105.594077  33.904608 -1.771036  -8.738653 -30.610143  1.405105   \n",
       "4  83.063060  -97.683985  32.842908  3.010242   5.194879 -24.979170  0.772903   \n",
       "\n",
       "     ...            14        15        16         17        18        19  \\\n",
       "0    ...    -10.265548 -2.854873 -2.821410 -11.892168 -1.505338 -2.087528   \n",
       "1    ...    -13.680871 -0.441789 -5.826206 -15.578982 -4.161982 -2.657234   \n",
       "2    ...    -14.757999 -2.040899 -4.384916 -20.807594 -8.360181 -2.981402   \n",
       "3    ...    -14.136805 -4.416947 -4.629338 -16.549472 -3.571637 -3.324539   \n",
       "4    ...    -13.376806 -5.384937 -2.593670 -19.554310 -7.848034 -1.967332   \n",
       "\n",
       "          BPM       ZCR      RMSE       STE  \n",
       "0  258.398438  0.183553  0.113765  3.927907  \n",
       "1  215.332031  0.187988  0.105637  3.369918  \n",
       "2  234.907670  0.201621  0.082684  1.902416  \n",
       "3  215.332031  0.185764  0.094802  2.716855  \n",
       "4  184.570312  0.180020  0.068570  1.398406  \n",
       "\n",
       "[5 rows x 26 columns]"
      ]
     },
     "execution_count": 33,
     "metadata": {},
     "output_type": "execute_result"
    }
   ],
   "source": [
    "train.head()"
   ]
  },
  {
   "cell_type": "code",
   "execution_count": 34,
   "metadata": {},
   "outputs": [
    {
     "data": {
      "text/html": [
       "<div>\n",
       "<style scoped>\n",
       "    .dataframe tbody tr th:only-of-type {\n",
       "        vertical-align: middle;\n",
       "    }\n",
       "\n",
       "    .dataframe tbody tr th {\n",
       "        vertical-align: top;\n",
       "    }\n",
       "\n",
       "    .dataframe thead th {\n",
       "        text-align: right;\n",
       "    }\n",
       "</style>\n",
       "<table border=\"1\" class=\"dataframe\">\n",
       "  <thead>\n",
       "    <tr style=\"text-align: right;\">\n",
       "      <th></th>\n",
       "      <th>Path</th>\n",
       "      <th>Labels</th>\n",
       "      <th>0</th>\n",
       "      <th>1</th>\n",
       "      <th>2</th>\n",
       "      <th>3</th>\n",
       "      <th>4</th>\n",
       "      <th>5</th>\n",
       "      <th>6</th>\n",
       "      <th>7</th>\n",
       "      <th>...</th>\n",
       "      <th>14</th>\n",
       "      <th>15</th>\n",
       "      <th>16</th>\n",
       "      <th>17</th>\n",
       "      <th>18</th>\n",
       "      <th>19</th>\n",
       "      <th>BPM</th>\n",
       "      <th>ZCR</th>\n",
       "      <th>RMSE</th>\n",
       "      <th>STE</th>\n",
       "    </tr>\n",
       "  </thead>\n",
       "  <tbody>\n",
       "    <tr>\n",
       "      <th>0</th>\n",
       "      <td>../../../Source/Shuffle/1/1.wav</td>\n",
       "      <td>1</td>\n",
       "      <td>-397.996291</td>\n",
       "      <td>69.919217</td>\n",
       "      <td>-30.816585</td>\n",
       "      <td>2.052624</td>\n",
       "      <td>-4.498367</td>\n",
       "      <td>3.586868</td>\n",
       "      <td>1.112511</td>\n",
       "      <td>-0.931258</td>\n",
       "      <td>...</td>\n",
       "      <td>-5.293024</td>\n",
       "      <td>0.152664</td>\n",
       "      <td>-3.874195</td>\n",
       "      <td>2.935363</td>\n",
       "      <td>-2.040664</td>\n",
       "      <td>0.617618</td>\n",
       "      <td>258.398438</td>\n",
       "      <td>0.181868</td>\n",
       "      <td>0.004159</td>\n",
       "      <td>0.008354</td>\n",
       "    </tr>\n",
       "    <tr>\n",
       "      <th>1</th>\n",
       "      <td>../../../Source/Shuffle/1/2.wav</td>\n",
       "      <td>1</td>\n",
       "      <td>-380.969173</td>\n",
       "      <td>68.260789</td>\n",
       "      <td>-36.607765</td>\n",
       "      <td>5.305637</td>\n",
       "      <td>-5.950456</td>\n",
       "      <td>2.665462</td>\n",
       "      <td>3.021190</td>\n",
       "      <td>-3.789654</td>\n",
       "      <td>...</td>\n",
       "      <td>-5.927427</td>\n",
       "      <td>-0.186541</td>\n",
       "      <td>-4.511462</td>\n",
       "      <td>1.920166</td>\n",
       "      <td>-2.233199</td>\n",
       "      <td>1.871566</td>\n",
       "      <td>215.332031</td>\n",
       "      <td>0.186700</td>\n",
       "      <td>0.005309</td>\n",
       "      <td>0.014077</td>\n",
       "    </tr>\n",
       "    <tr>\n",
       "      <th>2</th>\n",
       "      <td>../../../Source/Shuffle/1/3.wav</td>\n",
       "      <td>1</td>\n",
       "      <td>-379.707155</td>\n",
       "      <td>71.743598</td>\n",
       "      <td>-38.705834</td>\n",
       "      <td>4.732883</td>\n",
       "      <td>-3.484858</td>\n",
       "      <td>2.979705</td>\n",
       "      <td>2.399476</td>\n",
       "      <td>-3.935687</td>\n",
       "      <td>...</td>\n",
       "      <td>-5.749561</td>\n",
       "      <td>-0.498359</td>\n",
       "      <td>-4.594561</td>\n",
       "      <td>1.812919</td>\n",
       "      <td>-2.993126</td>\n",
       "      <td>1.252439</td>\n",
       "      <td>172.265625</td>\n",
       "      <td>0.176909</td>\n",
       "      <td>0.004938</td>\n",
       "      <td>0.011588</td>\n",
       "    </tr>\n",
       "    <tr>\n",
       "      <th>3</th>\n",
       "      <td>../../../Source/Shuffle/2/1.wav</td>\n",
       "      <td>1</td>\n",
       "      <td>-365.681881</td>\n",
       "      <td>112.207218</td>\n",
       "      <td>-44.156703</td>\n",
       "      <td>28.384908</td>\n",
       "      <td>5.436029</td>\n",
       "      <td>10.016629</td>\n",
       "      <td>-1.238957</td>\n",
       "      <td>6.827234</td>\n",
       "      <td>...</td>\n",
       "      <td>-3.921688</td>\n",
       "      <td>1.802320</td>\n",
       "      <td>-6.703229</td>\n",
       "      <td>-1.233793</td>\n",
       "      <td>-6.914826</td>\n",
       "      <td>2.094775</td>\n",
       "      <td>234.907670</td>\n",
       "      <td>0.120793</td>\n",
       "      <td>0.012703</td>\n",
       "      <td>0.104904</td>\n",
       "    </tr>\n",
       "    <tr>\n",
       "      <th>4</th>\n",
       "      <td>../../../Source/Shuffle/3/1.wav</td>\n",
       "      <td>1</td>\n",
       "      <td>-140.521704</td>\n",
       "      <td>26.983688</td>\n",
       "      <td>-72.189903</td>\n",
       "      <td>16.219018</td>\n",
       "      <td>-55.419643</td>\n",
       "      <td>15.687635</td>\n",
       "      <td>-15.282690</td>\n",
       "      <td>3.851774</td>\n",
       "      <td>...</td>\n",
       "      <td>-6.116531</td>\n",
       "      <td>5.181411</td>\n",
       "      <td>3.371878</td>\n",
       "      <td>6.317297</td>\n",
       "      <td>-1.877233</td>\n",
       "      <td>3.540987</td>\n",
       "      <td>99.384014</td>\n",
       "      <td>0.286321</td>\n",
       "      <td>0.065943</td>\n",
       "      <td>1.549808</td>\n",
       "    </tr>\n",
       "  </tbody>\n",
       "</table>\n",
       "<p>5 rows × 26 columns</p>\n",
       "</div>"
      ],
      "text/plain": [
       "                              Path  Labels           0           1          2  \\\n",
       "0  ../../../Source/Shuffle/1/1.wav       1 -397.996291   69.919217 -30.816585   \n",
       "1  ../../../Source/Shuffle/1/2.wav       1 -380.969173   68.260789 -36.607765   \n",
       "2  ../../../Source/Shuffle/1/3.wav       1 -379.707155   71.743598 -38.705834   \n",
       "3  ../../../Source/Shuffle/2/1.wav       1 -365.681881  112.207218 -44.156703   \n",
       "4  ../../../Source/Shuffle/3/1.wav       1 -140.521704   26.983688 -72.189903   \n",
       "\n",
       "           3          4          5          6         7    ...           14  \\\n",
       "0   2.052624  -4.498367   3.586868   1.112511 -0.931258    ...    -5.293024   \n",
       "1   5.305637  -5.950456   2.665462   3.021190 -3.789654    ...    -5.927427   \n",
       "2   4.732883  -3.484858   2.979705   2.399476 -3.935687    ...    -5.749561   \n",
       "3  28.384908   5.436029  10.016629  -1.238957  6.827234    ...    -3.921688   \n",
       "4  16.219018 -55.419643  15.687635 -15.282690  3.851774    ...    -6.116531   \n",
       "\n",
       "         15        16        17        18        19         BPM       ZCR  \\\n",
       "0  0.152664 -3.874195  2.935363 -2.040664  0.617618  258.398438  0.181868   \n",
       "1 -0.186541 -4.511462  1.920166 -2.233199  1.871566  215.332031  0.186700   \n",
       "2 -0.498359 -4.594561  1.812919 -2.993126  1.252439  172.265625  0.176909   \n",
       "3  1.802320 -6.703229 -1.233793 -6.914826  2.094775  234.907670  0.120793   \n",
       "4  5.181411  3.371878  6.317297 -1.877233  3.540987   99.384014  0.286321   \n",
       "\n",
       "       RMSE       STE  \n",
       "0  0.004159  0.008354  \n",
       "1  0.005309  0.014077  \n",
       "2  0.004938  0.011588  \n",
       "3  0.012703  0.104904  \n",
       "4  0.065943  1.549808  \n",
       "\n",
       "[5 rows x 26 columns]"
      ]
     },
     "execution_count": 34,
     "metadata": {},
     "output_type": "execute_result"
    }
   ],
   "source": [
    "test.head()"
   ]
  },
  {
   "cell_type": "markdown",
   "metadata": {},
   "source": [
    "## Split into inputs and targets"
   ]
  },
  {
   "cell_type": "code",
   "execution_count": 37,
   "metadata": {},
   "outputs": [],
   "source": [
    "#X_train = train.iloc[:,2:].values\n",
    "X_train = train[['BPM', 'ZCR', 'RMSE', 'STE']]\n",
    "y_train = train['Labels']\n",
    "\n",
    "#X_test = test.iloc[:,2:].values\n",
    "X_test = test[['BPM', 'ZCR', 'RMSE', 'STE']]\n",
    "y_test = test['Labels']"
   ]
  },
  {
   "cell_type": "markdown",
   "metadata": {},
   "source": [
    "## Logistic Regression"
   ]
  },
  {
   "cell_type": "code",
   "execution_count": 38,
   "metadata": {},
   "outputs": [
    {
     "data": {
      "text/plain": [
       "LogisticRegression(C=1.0, class_weight=None, dual=False, fit_intercept=True,\n",
       "          intercept_scaling=1, max_iter=100, multi_class='ovr', n_jobs=1,\n",
       "          penalty='l2', random_state=None, solver='liblinear', tol=0.0001,\n",
       "          verbose=0, warm_start=False)"
      ]
     },
     "execution_count": 38,
     "metadata": {},
     "output_type": "execute_result"
    }
   ],
   "source": [
    "logreg = LogisticRegression()\n",
    "logreg.fit(X_train,y_train)"
   ]
  },
  {
   "cell_type": "code",
   "execution_count": 39,
   "metadata": {},
   "outputs": [],
   "source": [
    "predict = logreg.predict(X_test)\n",
    "proba = logreg.predict_proba(X_test)"
   ]
  },
  {
   "cell_type": "code",
   "execution_count": 40,
   "metadata": {},
   "outputs": [],
   "source": [
    "results = pd.DataFrame()\n",
    "results['True'] = y_test.values\n",
    "results['Predict_lr'] = predict\n",
    "results['Prob_0_lr'] = proba[:,0]"
   ]
  },
  {
   "cell_type": "code",
   "execution_count": 41,
   "metadata": {},
   "outputs": [
    {
     "data": {
      "text/html": [
       "<div>\n",
       "<style scoped>\n",
       "    .dataframe tbody tr th:only-of-type {\n",
       "        vertical-align: middle;\n",
       "    }\n",
       "\n",
       "    .dataframe tbody tr th {\n",
       "        vertical-align: top;\n",
       "    }\n",
       "\n",
       "    .dataframe thead th {\n",
       "        text-align: right;\n",
       "    }\n",
       "</style>\n",
       "<table border=\"1\" class=\"dataframe\">\n",
       "  <thead>\n",
       "    <tr style=\"text-align: right;\">\n",
       "      <th></th>\n",
       "      <th>True</th>\n",
       "      <th>Predict_lr</th>\n",
       "      <th>Prob_0_lr</th>\n",
       "    </tr>\n",
       "  </thead>\n",
       "  <tbody>\n",
       "    <tr>\n",
       "      <th>0</th>\n",
       "      <td>1</td>\n",
       "      <td>1</td>\n",
       "      <td>0.198457</td>\n",
       "    </tr>\n",
       "    <tr>\n",
       "      <th>1</th>\n",
       "      <td>1</td>\n",
       "      <td>1</td>\n",
       "      <td>0.262722</td>\n",
       "    </tr>\n",
       "    <tr>\n",
       "      <th>2</th>\n",
       "      <td>1</td>\n",
       "      <td>1</td>\n",
       "      <td>0.338086</td>\n",
       "    </tr>\n",
       "    <tr>\n",
       "      <th>3</th>\n",
       "      <td>1</td>\n",
       "      <td>1</td>\n",
       "      <td>0.235340</td>\n",
       "    </tr>\n",
       "    <tr>\n",
       "      <th>4</th>\n",
       "      <td>1</td>\n",
       "      <td>0</td>\n",
       "      <td>0.595353</td>\n",
       "    </tr>\n",
       "    <tr>\n",
       "      <th>5</th>\n",
       "      <td>1</td>\n",
       "      <td>1</td>\n",
       "      <td>0.205950</td>\n",
       "    </tr>\n",
       "    <tr>\n",
       "      <th>6</th>\n",
       "      <td>1</td>\n",
       "      <td>1</td>\n",
       "      <td>0.166927</td>\n",
       "    </tr>\n",
       "    <tr>\n",
       "      <th>7</th>\n",
       "      <td>0</td>\n",
       "      <td>1</td>\n",
       "      <td>0.263307</td>\n",
       "    </tr>\n",
       "    <tr>\n",
       "      <th>8</th>\n",
       "      <td>0</td>\n",
       "      <td>1</td>\n",
       "      <td>0.290707</td>\n",
       "    </tr>\n",
       "    <tr>\n",
       "      <th>9</th>\n",
       "      <td>0</td>\n",
       "      <td>1</td>\n",
       "      <td>0.316304</td>\n",
       "    </tr>\n",
       "    <tr>\n",
       "      <th>10</th>\n",
       "      <td>0</td>\n",
       "      <td>0</td>\n",
       "      <td>0.533406</td>\n",
       "    </tr>\n",
       "    <tr>\n",
       "      <th>11</th>\n",
       "      <td>0</td>\n",
       "      <td>1</td>\n",
       "      <td>0.260875</td>\n",
       "    </tr>\n",
       "    <tr>\n",
       "      <th>12</th>\n",
       "      <td>0</td>\n",
       "      <td>1</td>\n",
       "      <td>0.413340</td>\n",
       "    </tr>\n",
       "    <tr>\n",
       "      <th>13</th>\n",
       "      <td>0</td>\n",
       "      <td>1</td>\n",
       "      <td>0.416960</td>\n",
       "    </tr>\n",
       "  </tbody>\n",
       "</table>\n",
       "</div>"
      ],
      "text/plain": [
       "    True  Predict_lr  Prob_0_lr\n",
       "0      1           1   0.198457\n",
       "1      1           1   0.262722\n",
       "2      1           1   0.338086\n",
       "3      1           1   0.235340\n",
       "4      1           0   0.595353\n",
       "5      1           1   0.205950\n",
       "6      1           1   0.166927\n",
       "7      0           1   0.263307\n",
       "8      0           1   0.290707\n",
       "9      0           1   0.316304\n",
       "10     0           0   0.533406\n",
       "11     0           1   0.260875\n",
       "12     0           1   0.413340\n",
       "13     0           1   0.416960"
      ]
     },
     "execution_count": 41,
     "metadata": {},
     "output_type": "execute_result"
    }
   ],
   "source": [
    "results"
   ]
  },
  {
   "cell_type": "code",
   "execution_count": 42,
   "metadata": {},
   "outputs": [
    {
     "name": "stdout",
     "output_type": "stream",
     "text": [
      "Accuracy score: 0.5\n"
     ]
    }
   ],
   "source": [
    "print('Accuracy score: ' + str(accuracy_score(y_test, predict)))"
   ]
  },
  {
   "cell_type": "markdown",
   "metadata": {},
   "source": [
    "### Visualizing results"
   ]
  },
  {
   "cell_type": "code",
   "execution_count": 43,
   "metadata": {},
   "outputs": [],
   "source": [
    "def ROC_plot (testname, y_true, y_prob):\n",
    "    \n",
    "    logit_roc_auc = roc_auc_score(y_true, y_prob)\n",
    "    \n",
    "    fpr, tpr, thresholds = roc_curve(y_true, y_prob)\n",
    "    \n",
    "    plt.figure()\n",
    "    plt.plot(fpr, tpr)\n",
    "    plt.plot([0, 1], [0, 1], 'r--')\n",
    "    plt.xlim([0.0, 1.0])\n",
    "    plt.ylim([0.0, 1.0])\n",
    "    plt.xlabel('False Positive Rate', size=20)\n",
    "    plt.ylabel('True Positive Rate', size=20)\n",
    "    plt.xticks(size=15)\n",
    "    plt.yticks(size=15)\n",
    "    plt.title('ROC: ' + testname, size=25)\n",
    "    \n",
    "    plt.show()\n",
    "    print ('ROC_AUC_Score: ' + str(logit_roc_auc))"
   ]
  },
  {
   "cell_type": "code",
   "execution_count": 44,
   "metadata": {},
   "outputs": [
    {
     "data": {
      "image/png": "[encoded data removed]",
      "text/plain": [
       "<Figure size 432x288 with 1 Axes>"
      ]
     },
     "metadata": {},
     "output_type": "display_data"
    },
    {
     "name": "stdout",
     "output_type": "stream",
     "text": [
      "ROC_AUC_Score: 0.5\n"
     ]
    }
   ],
   "source": [
    "ROC_plot('LogReg',  y_test.values, predict )"
   ]
  },
  {
   "cell_type": "markdown",
   "metadata": {},
   "source": [
    "## Random Forest "
   ]
  },
  {
   "cell_type": "code",
   "execution_count": 62,
   "metadata": {},
   "outputs": [
    {
     "data": {
      "text/plain": [
       "RandomForestClassifier(bootstrap=True, class_weight=None, criterion='gini',\n",
       "            max_depth=None, max_features='auto', max_leaf_nodes=16,\n",
       "            min_impurity_decrease=0.0, min_impurity_split=None,\n",
       "            min_samples_leaf=1, min_samples_split=2,\n",
       "            min_weight_fraction_leaf=0.0, n_estimators=200, n_jobs=1,\n",
       "            oob_score=False, random_state=None, verbose=0,\n",
       "            warm_start=False)"
      ]
     },
     "execution_count": 62,
     "metadata": {},
     "output_type": "execute_result"
    }
   ],
   "source": [
    "rnd_clf = RandomForestClassifier(n_estimators=200, max_leaf_nodes=16) \n",
    "rnd_clf.fit(X_train, y_train)"
   ]
  },
  {
   "cell_type": "code",
   "execution_count": 63,
   "metadata": {},
   "outputs": [],
   "source": [
    "predict_rf = rnd_clf.predict(X_test)\n",
    "proba_rf = rnd_clf.predict_proba(X_test)"
   ]
  },
  {
   "cell_type": "code",
   "execution_count": 64,
   "metadata": {},
   "outputs": [],
   "source": [
    "results['Predict_rf'] = predict_rf\n",
    "results['Prob_0_rf'] = proba_rf[:,0]"
   ]
  },
  {
   "cell_type": "code",
   "execution_count": 65,
   "metadata": {},
   "outputs": [
    {
     "data": {
      "text/html": [
       "<div>\n",
       "<style scoped>\n",
       "    .dataframe tbody tr th:only-of-type {\n",
       "        vertical-align: middle;\n",
       "    }\n",
       "\n",
       "    .dataframe tbody tr th {\n",
       "        vertical-align: top;\n",
       "    }\n",
       "\n",
       "    .dataframe thead th {\n",
       "        text-align: right;\n",
       "    }\n",
       "</style>\n",
       "<table border=\"1\" class=\"dataframe\">\n",
       "  <thead>\n",
       "    <tr style=\"text-align: right;\">\n",
       "      <th></th>\n",
       "      <th>True</th>\n",
       "      <th>Predict_lr</th>\n",
       "      <th>Prob_0_lr</th>\n",
       "      <th>Predict_rf</th>\n",
       "      <th>Prob_0_rf</th>\n",
       "    </tr>\n",
       "  </thead>\n",
       "  <tbody>\n",
       "    <tr>\n",
       "      <th>0</th>\n",
       "      <td>1</td>\n",
       "      <td>1</td>\n",
       "      <td>0.198457</td>\n",
       "      <td>0</td>\n",
       "      <td>0.502745</td>\n",
       "    </tr>\n",
       "    <tr>\n",
       "      <th>1</th>\n",
       "      <td>1</td>\n",
       "      <td>1</td>\n",
       "      <td>0.262722</td>\n",
       "      <td>1</td>\n",
       "      <td>0.393355</td>\n",
       "    </tr>\n",
       "    <tr>\n",
       "      <th>2</th>\n",
       "      <td>1</td>\n",
       "      <td>1</td>\n",
       "      <td>0.338086</td>\n",
       "      <td>1</td>\n",
       "      <td>0.498827</td>\n",
       "    </tr>\n",
       "    <tr>\n",
       "      <th>3</th>\n",
       "      <td>1</td>\n",
       "      <td>1</td>\n",
       "      <td>0.235340</td>\n",
       "      <td>1</td>\n",
       "      <td>0.273342</td>\n",
       "    </tr>\n",
       "    <tr>\n",
       "      <th>4</th>\n",
       "      <td>1</td>\n",
       "      <td>0</td>\n",
       "      <td>0.595353</td>\n",
       "      <td>0</td>\n",
       "      <td>0.715468</td>\n",
       "    </tr>\n",
       "    <tr>\n",
       "      <th>5</th>\n",
       "      <td>1</td>\n",
       "      <td>1</td>\n",
       "      <td>0.205950</td>\n",
       "      <td>1</td>\n",
       "      <td>0.243987</td>\n",
       "    </tr>\n",
       "    <tr>\n",
       "      <th>6</th>\n",
       "      <td>1</td>\n",
       "      <td>1</td>\n",
       "      <td>0.166927</td>\n",
       "      <td>1</td>\n",
       "      <td>0.238987</td>\n",
       "    </tr>\n",
       "    <tr>\n",
       "      <th>7</th>\n",
       "      <td>0</td>\n",
       "      <td>1</td>\n",
       "      <td>0.263307</td>\n",
       "      <td>1</td>\n",
       "      <td>0.437549</td>\n",
       "    </tr>\n",
       "    <tr>\n",
       "      <th>8</th>\n",
       "      <td>0</td>\n",
       "      <td>1</td>\n",
       "      <td>0.290707</td>\n",
       "      <td>0</td>\n",
       "      <td>0.546752</td>\n",
       "    </tr>\n",
       "    <tr>\n",
       "      <th>9</th>\n",
       "      <td>0</td>\n",
       "      <td>1</td>\n",
       "      <td>0.316304</td>\n",
       "      <td>0</td>\n",
       "      <td>0.511842</td>\n",
       "    </tr>\n",
       "    <tr>\n",
       "      <th>10</th>\n",
       "      <td>0</td>\n",
       "      <td>0</td>\n",
       "      <td>0.533406</td>\n",
       "      <td>0</td>\n",
       "      <td>0.567317</td>\n",
       "    </tr>\n",
       "    <tr>\n",
       "      <th>11</th>\n",
       "      <td>0</td>\n",
       "      <td>1</td>\n",
       "      <td>0.260875</td>\n",
       "      <td>1</td>\n",
       "      <td>0.420617</td>\n",
       "    </tr>\n",
       "    <tr>\n",
       "      <th>12</th>\n",
       "      <td>0</td>\n",
       "      <td>1</td>\n",
       "      <td>0.413340</td>\n",
       "      <td>1</td>\n",
       "      <td>0.306753</td>\n",
       "    </tr>\n",
       "    <tr>\n",
       "      <th>13</th>\n",
       "      <td>0</td>\n",
       "      <td>1</td>\n",
       "      <td>0.416960</td>\n",
       "      <td>1</td>\n",
       "      <td>0.301753</td>\n",
       "    </tr>\n",
       "  </tbody>\n",
       "</table>\n",
       "</div>"
      ],
      "text/plain": [
       "    True  Predict_lr  Prob_0_lr  Predict_rf  Prob_0_rf\n",
       "0      1           1   0.198457           0   0.502745\n",
       "1      1           1   0.262722           1   0.393355\n",
       "2      1           1   0.338086           1   0.498827\n",
       "3      1           1   0.235340           1   0.273342\n",
       "4      1           0   0.595353           0   0.715468\n",
       "5      1           1   0.205950           1   0.243987\n",
       "6      1           1   0.166927           1   0.238987\n",
       "7      0           1   0.263307           1   0.437549\n",
       "8      0           1   0.290707           0   0.546752\n",
       "9      0           1   0.316304           0   0.511842\n",
       "10     0           0   0.533406           0   0.567317\n",
       "11     0           1   0.260875           1   0.420617\n",
       "12     0           1   0.413340           1   0.306753\n",
       "13     0           1   0.416960           1   0.301753"
      ]
     },
     "execution_count": 65,
     "metadata": {},
     "output_type": "execute_result"
    }
   ],
   "source": [
    "results"
   ]
  },
  {
   "cell_type": "code",
   "execution_count": 66,
   "metadata": {},
   "outputs": [
    {
     "name": "stdout",
     "output_type": "stream",
     "text": [
      "Accuracy score: 0.5714285714285714\n"
     ]
    }
   ],
   "source": [
    "print('Accuracy score: ' + str(accuracy_score(y_test, predict_rf)))"
   ]
  },
  {
   "cell_type": "code",
   "execution_count": 67,
   "metadata": {},
   "outputs": [
    {
     "data": {
      "image/png": "[encoded data removed]",
      "text/plain": [
       "<Figure size 432x288 with 1 Axes>"
      ]
     },
     "metadata": {},
     "output_type": "display_data"
    },
    {
     "name": "stdout",
     "output_type": "stream",
     "text": [
      "ROC_AUC_Score: 0.5714285714285715\n"
     ]
    }
   ],
   "source": [
    "ROC_plot('Random Forest', y_test.values, predict_rf)"
   ]
  },
  {
   "cell_type": "code",
   "execution_count": null,
   "metadata": {},
   "outputs": [],
   "source": [
    "#results.to_csv('../../Source/Data/Train_results_n40.csv', index=None)"
   ]
  },
  {
   "cell_type": "markdown",
   "metadata": {},
   "source": [
    "Minimal improvement when using only a few features with RF clf"
   ]
  },
  {
   "cell_type": "markdown",
   "metadata": {},
   "source": [
    "### What if the model is trained and tested on a combination of the two sources (audio&video) data?"
   ]
  },
  {
   "cell_type": "code",
   "execution_count": 117,
   "metadata": {},
   "outputs": [],
   "source": [
    "data = pd.concat([train, test], axis=0)\n",
    "data = data.sample(frac=1)"
   ]
  },
  {
   "cell_type": "code",
   "execution_count": 118,
   "metadata": {},
   "outputs": [],
   "source": [
    "X = data.iloc[:,2:].values\n",
    "y = data['Labels']\n",
    "#X = data[['BPM', 'ZCR', 'RMSE', 'STE']]"
   ]
  },
  {
   "cell_type": "code",
   "execution_count": 119,
   "metadata": {},
   "outputs": [],
   "source": [
    "X_train, X_test, y_train, y_test = train_test_split(X, y,\n",
    "                                                    stratify=y, \n",
    "                                                    test_size=0.20)"
   ]
  },
  {
   "cell_type": "markdown",
   "metadata": {},
   "source": [
    "### Logistic Regression"
   ]
  },
  {
   "cell_type": "code",
   "execution_count": 120,
   "metadata": {},
   "outputs": [
    {
     "data": {
      "text/plain": [
       "LogisticRegression(C=1.0, class_weight=None, dual=False, fit_intercept=True,\n",
       "          intercept_scaling=1, max_iter=100, multi_class='ovr', n_jobs=1,\n",
       "          penalty='l2', random_state=None, solver='liblinear', tol=0.0001,\n",
       "          verbose=0, warm_start=False)"
      ]
     },
     "execution_count": 120,
     "metadata": {},
     "output_type": "execute_result"
    }
   ],
   "source": [
    "logreg = LogisticRegression()\n",
    "logreg.fit(X_train,y_train)"
   ]
  },
  {
   "cell_type": "code",
   "execution_count": 121,
   "metadata": {},
   "outputs": [],
   "source": [
    "predict = logreg.predict(X_test)\n",
    "proba = logreg.predict_proba(X_test)"
   ]
  },
  {
   "cell_type": "code",
   "execution_count": 122,
   "metadata": {},
   "outputs": [
    {
     "name": "stdout",
     "output_type": "stream",
     "text": [
      "Accuracy score (LogReg): 0.8181818181818182\n"
     ]
    }
   ],
   "source": [
    "print('Accuracy score (LogReg): ' + str(accuracy_score(y_test, predict)))"
   ]
  },
  {
   "cell_type": "markdown",
   "metadata": {},
   "source": [
    "### Random Forest"
   ]
  },
  {
   "cell_type": "code",
   "execution_count": 123,
   "metadata": {},
   "outputs": [
    {
     "data": {
      "text/plain": [
       "RandomForestClassifier(bootstrap=True, class_weight=None, criterion='gini',\n",
       "            max_depth=None, max_features='auto', max_leaf_nodes=16,\n",
       "            min_impurity_decrease=0.0, min_impurity_split=None,\n",
       "            min_samples_leaf=1, min_samples_split=2,\n",
       "            min_weight_fraction_leaf=0.0, n_estimators=200, n_jobs=1,\n",
       "            oob_score=False, random_state=None, verbose=0,\n",
       "            warm_start=False)"
      ]
     },
     "execution_count": 123,
     "metadata": {},
     "output_type": "execute_result"
    }
   ],
   "source": [
    "rnd_clf = RandomForestClassifier(n_estimators=200, max_leaf_nodes=16) \n",
    "rnd_clf.fit(X_train, y_train)"
   ]
  },
  {
   "cell_type": "code",
   "execution_count": 124,
   "metadata": {},
   "outputs": [],
   "source": [
    "predict_rf = rnd_clf.predict(X_test)\n",
    "proba_rf = rnd_clf.predict_proba(X_test)"
   ]
  },
  {
   "cell_type": "code",
   "execution_count": 125,
   "metadata": {},
   "outputs": [
    {
     "name": "stdout",
     "output_type": "stream",
     "text": [
      "Accuracy score (RF): 0.9242424242424242\n"
     ]
    }
   ],
   "source": [
    "print('Accuracy score (RF): ' + str(accuracy_score(y_test, predict_rf)))"
   ]
  },
  {
   "cell_type": "markdown",
   "metadata": {},
   "source": [
    "That method performs considerably better!"
   ]
  },
  {
   "cell_type": "code",
   "execution_count": null,
   "metadata": {},
   "outputs": [],
   "source": []
  }
 ],
 "metadata": {
  "kernelspec": {
   "display_name": "Python 3",
   "language": "python",
   "name": "python3"
  },
  "language_info": {
   "codemirror_mode": {
    "name": "ipython",
    "version": 3
   },
   "file_extension": ".py",
   "mimetype": "text/x-python",
   "name": "python",
   "nbconvert_exporter": "python",
   "pygments_lexer": "ipython3",
   "version": "3.6.5"
  }
 },
 "nbformat": 4,
 "nbformat_minor": 2
}
