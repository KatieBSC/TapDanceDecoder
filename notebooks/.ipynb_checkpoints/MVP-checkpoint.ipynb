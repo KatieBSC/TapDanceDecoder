{
 "cells": [
  {
   "cell_type": "markdown",
   "metadata": {},
   "source": [
    "## TapDanceDecoder: MVP"
   ]
  },
  {
   "cell_type": "code",
   "execution_count": 1,
   "metadata": {},
   "outputs": [],
   "source": [
    "import pandas as pd\n",
    "import numpy as np\n",
    "import matplotlib.pyplot as plt\n",
    "from sklearn.metrics import accuracy_score,roc_curve, auc,roc_auc_score\n",
    "from sklearn.linear_model import LogisticRegression\n",
    "from sklearn.model_selection import train_test_split\n",
    "from sklearn.ensemble import RandomForestClassifier"
   ]
  },
  {
   "cell_type": "markdown",
   "metadata": {},
   "source": [
    "### Get Data"
   ]
  },
  {
   "cell_type": "markdown",
   "metadata": {},
   "source": [
    "**Source:** Small sample set from youtube"
   ]
  },
  {
   "cell_type": "code",
   "execution_count": 2,
   "metadata": {},
   "outputs": [],
   "source": [
    "tap_df = pd.read_csv('../../Source/Data/Tap_data_n40.csv')"
   ]
  },
  {
   "cell_type": "code",
   "execution_count": 3,
   "metadata": {},
   "outputs": [
    {
     "data": {
      "text/html": [
       "<div>\n",
       "<style scoped>\n",
       "    .dataframe tbody tr th:only-of-type {\n",
       "        vertical-align: middle;\n",
       "    }\n",
       "\n",
       "    .dataframe tbody tr th {\n",
       "        vertical-align: top;\n",
       "    }\n",
       "\n",
       "    .dataframe thead th {\n",
       "        text-align: right;\n",
       "    }\n",
       "</style>\n",
       "<table border=\"1\" class=\"dataframe\">\n",
       "  <thead>\n",
       "    <tr style=\"text-align: right;\">\n",
       "      <th></th>\n",
       "      <th>Unnamed: 0</th>\n",
       "      <th>Path</th>\n",
       "      <th>Labels</th>\n",
       "      <th>0</th>\n",
       "      <th>1</th>\n",
       "      <th>2</th>\n",
       "      <th>3</th>\n",
       "      <th>4</th>\n",
       "      <th>5</th>\n",
       "      <th>6</th>\n",
       "      <th>...</th>\n",
       "      <th>31</th>\n",
       "      <th>32</th>\n",
       "      <th>33</th>\n",
       "      <th>34</th>\n",
       "      <th>35</th>\n",
       "      <th>36</th>\n",
       "      <th>37</th>\n",
       "      <th>38</th>\n",
       "      <th>39</th>\n",
       "      <th>Slope</th>\n",
       "    </tr>\n",
       "  </thead>\n",
       "  <tbody>\n",
       "    <tr>\n",
       "      <th>0</th>\n",
       "      <td>0</td>\n",
       "      <td>../../Source/Shuffle/1/1.wav</td>\n",
       "      <td>1</td>\n",
       "      <td>-293.324979</td>\n",
       "      <td>69.916925</td>\n",
       "      <td>-30.826160</td>\n",
       "      <td>2.049414</td>\n",
       "      <td>-4.496487</td>\n",
       "      <td>3.587130</td>\n",
       "      <td>1.109237</td>\n",
       "      <td>...</td>\n",
       "      <td>-0.636060</td>\n",
       "      <td>-5.408465</td>\n",
       "      <td>-0.498015</td>\n",
       "      <td>-4.975301</td>\n",
       "      <td>-0.122819</td>\n",
       "      <td>-4.887241</td>\n",
       "      <td>1.021584</td>\n",
       "      <td>-3.304852</td>\n",
       "      <td>1.667827</td>\n",
       "      <td>0.000000</td>\n",
       "    </tr>\n",
       "    <tr>\n",
       "      <th>1</th>\n",
       "      <td>1</td>\n",
       "      <td>../../Source/Shuffle/1/2.wav</td>\n",
       "      <td>1</td>\n",
       "      <td>-276.266510</td>\n",
       "      <td>68.263278</td>\n",
       "      <td>-36.615667</td>\n",
       "      <td>5.305029</td>\n",
       "      <td>-5.954178</td>\n",
       "      <td>2.666508</td>\n",
       "      <td>3.021715</td>\n",
       "      <td>...</td>\n",
       "      <td>-0.102422</td>\n",
       "      <td>-4.830428</td>\n",
       "      <td>0.547850</td>\n",
       "      <td>-5.434464</td>\n",
       "      <td>1.211024</td>\n",
       "      <td>-4.144923</td>\n",
       "      <td>1.080524</td>\n",
       "      <td>-3.205386</td>\n",
       "      <td>1.662278</td>\n",
       "      <td>0.000000</td>\n",
       "    </tr>\n",
       "    <tr>\n",
       "      <th>2</th>\n",
       "      <td>2</td>\n",
       "      <td>../../Source/Shuffle/1/3.wav</td>\n",
       "      <td>1</td>\n",
       "      <td>-274.936810</td>\n",
       "      <td>71.731858</td>\n",
       "      <td>-38.724074</td>\n",
       "      <td>4.732382</td>\n",
       "      <td>-3.488196</td>\n",
       "      <td>2.976912</td>\n",
       "      <td>2.397730</td>\n",
       "      <td>...</td>\n",
       "      <td>0.539130</td>\n",
       "      <td>-3.999879</td>\n",
       "      <td>-0.789776</td>\n",
       "      <td>-5.696328</td>\n",
       "      <td>0.496009</td>\n",
       "      <td>-4.336192</td>\n",
       "      <td>0.904035</td>\n",
       "      <td>-2.891622</td>\n",
       "      <td>1.183886</td>\n",
       "      <td>0.000000</td>\n",
       "    </tr>\n",
       "    <tr>\n",
       "      <th>3</th>\n",
       "      <td>3</td>\n",
       "      <td>../../Source/Shuffle/2/1.wav</td>\n",
       "      <td>1</td>\n",
       "      <td>-326.417460</td>\n",
       "      <td>112.223266</td>\n",
       "      <td>-44.161899</td>\n",
       "      <td>28.389066</td>\n",
       "      <td>5.440479</td>\n",
       "      <td>10.000289</td>\n",
       "      <td>-1.217789</td>\n",
       "      <td>...</td>\n",
       "      <td>-1.519514</td>\n",
       "      <td>-2.083231</td>\n",
       "      <td>1.679214</td>\n",
       "      <td>-1.359012</td>\n",
       "      <td>1.875121</td>\n",
       "      <td>-1.500028</td>\n",
       "      <td>1.136799</td>\n",
       "      <td>-1.029760</td>\n",
       "      <td>0.435550</td>\n",
       "      <td>0.000000</td>\n",
       "    </tr>\n",
       "    <tr>\n",
       "      <th>4</th>\n",
       "      <td>4</td>\n",
       "      <td>../../Source/Shuffle/3/1.wav</td>\n",
       "      <td>1</td>\n",
       "      <td>-141.855900</td>\n",
       "      <td>26.935705</td>\n",
       "      <td>-72.139592</td>\n",
       "      <td>16.181255</td>\n",
       "      <td>-55.381490</td>\n",
       "      <td>15.658915</td>\n",
       "      <td>-15.245119</td>\n",
       "      <td>...</td>\n",
       "      <td>-0.263565</td>\n",
       "      <td>-3.020770</td>\n",
       "      <td>0.935590</td>\n",
       "      <td>-3.086069</td>\n",
       "      <td>0.824559</td>\n",
       "      <td>-2.220420</td>\n",
       "      <td>2.242528</td>\n",
       "      <td>-3.602058</td>\n",
       "      <td>0.658871</td>\n",
       "      <td>0.011436</td>\n",
       "    </tr>\n",
       "  </tbody>\n",
       "</table>\n",
       "<p>5 rows × 44 columns</p>\n",
       "</div>"
      ],
      "text/plain": [
       "   Unnamed: 0                          Path  Labels           0           1  \\\n",
       "0           0  ../../Source/Shuffle/1/1.wav       1 -293.324979   69.916925   \n",
       "1           1  ../../Source/Shuffle/1/2.wav       1 -276.266510   68.263278   \n",
       "2           2  ../../Source/Shuffle/1/3.wav       1 -274.936810   71.731858   \n",
       "3           3  ../../Source/Shuffle/2/1.wav       1 -326.417460  112.223266   \n",
       "4           4  ../../Source/Shuffle/3/1.wav       1 -141.855900   26.935705   \n",
       "\n",
       "           2          3          4          5          6    ...           31  \\\n",
       "0 -30.826160   2.049414  -4.496487   3.587130   1.109237    ...    -0.636060   \n",
       "1 -36.615667   5.305029  -5.954178   2.666508   3.021715    ...    -0.102422   \n",
       "2 -38.724074   4.732382  -3.488196   2.976912   2.397730    ...     0.539130   \n",
       "3 -44.161899  28.389066   5.440479  10.000289  -1.217789    ...    -1.519514   \n",
       "4 -72.139592  16.181255 -55.381490  15.658915 -15.245119    ...    -0.263565   \n",
       "\n",
       "         32        33        34        35        36        37        38  \\\n",
       "0 -5.408465 -0.498015 -4.975301 -0.122819 -4.887241  1.021584 -3.304852   \n",
       "1 -4.830428  0.547850 -5.434464  1.211024 -4.144923  1.080524 -3.205386   \n",
       "2 -3.999879 -0.789776 -5.696328  0.496009 -4.336192  0.904035 -2.891622   \n",
       "3 -2.083231  1.679214 -1.359012  1.875121 -1.500028  1.136799 -1.029760   \n",
       "4 -3.020770  0.935590 -3.086069  0.824559 -2.220420  2.242528 -3.602058   \n",
       "\n",
       "         39     Slope  \n",
       "0  1.667827  0.000000  \n",
       "1  1.662278  0.000000  \n",
       "2  1.183886  0.000000  \n",
       "3  0.435550  0.000000  \n",
       "4  0.658871  0.011436  \n",
       "\n",
       "[5 rows x 44 columns]"
      ]
     },
     "execution_count": 3,
     "metadata": {},
     "output_type": "execute_result"
    }
   ],
   "source": [
    "tap_df.head()"
   ]
  },
  {
   "cell_type": "markdown",
   "metadata": {},
   "source": [
    "## Quick & dirty test with a little bit of data"
   ]
  },
  {
   "cell_type": "markdown",
   "metadata": {},
   "source": [
    "### LogReg it like you mean it!"
   ]
  },
  {
   "cell_type": "code",
   "execution_count": 4,
   "metadata": {},
   "outputs": [],
   "source": [
    "data = tap_df.iloc[:,3:].values\n",
    "labels = tap_df['Labels']"
   ]
  },
  {
   "cell_type": "code",
   "execution_count": 5,
   "metadata": {},
   "outputs": [],
   "source": [
    "X_train, X_test, y_train, y_test = train_test_split(data, labels, test_size=0.33, random_state=42)"
   ]
  },
  {
   "cell_type": "code",
   "execution_count": 6,
   "metadata": {},
   "outputs": [
    {
     "data": {
      "text/plain": [
       "LogisticRegression(C=1.0, class_weight=None, dual=False, fit_intercept=True,\n",
       "          intercept_scaling=1, max_iter=100, multi_class='ovr', n_jobs=1,\n",
       "          penalty='l2', random_state=None, solver='liblinear', tol=0.0001,\n",
       "          verbose=0, warm_start=False)"
      ]
     },
     "execution_count": 6,
     "metadata": {},
     "output_type": "execute_result"
    }
   ],
   "source": [
    "logreg = LogisticRegression()\n",
    "logreg.fit(X_train,y_train)"
   ]
  },
  {
   "cell_type": "code",
   "execution_count": 7,
   "metadata": {},
   "outputs": [],
   "source": [
    "predict = logreg.predict(X_test)\n",
    "proba = logreg.predict_proba(X_test)"
   ]
  },
  {
   "cell_type": "code",
   "execution_count": 8,
   "metadata": {},
   "outputs": [],
   "source": [
    "results = pd.DataFrame()\n",
    "results['True'] = y_test.values\n",
    "results['Predict_lr'] = predict\n",
    "results['Prob_0_lr'] = proba[:,0]"
   ]
  },
  {
   "cell_type": "code",
   "execution_count": 9,
   "metadata": {},
   "outputs": [
    {
     "data": {
      "text/html": [
       "<div>\n",
       "<style scoped>\n",
       "    .dataframe tbody tr th:only-of-type {\n",
       "        vertical-align: middle;\n",
       "    }\n",
       "\n",
       "    .dataframe tbody tr th {\n",
       "        vertical-align: top;\n",
       "    }\n",
       "\n",
       "    .dataframe thead th {\n",
       "        text-align: right;\n",
       "    }\n",
       "</style>\n",
       "<table border=\"1\" class=\"dataframe\">\n",
       "  <thead>\n",
       "    <tr style=\"text-align: right;\">\n",
       "      <th></th>\n",
       "      <th>True</th>\n",
       "      <th>Predict_lr</th>\n",
       "      <th>Prob_0_lr</th>\n",
       "    </tr>\n",
       "  </thead>\n",
       "  <tbody>\n",
       "    <tr>\n",
       "      <th>0</th>\n",
       "      <td>0</td>\n",
       "      <td>0</td>\n",
       "      <td>8.577234e-01</td>\n",
       "    </tr>\n",
       "    <tr>\n",
       "      <th>1</th>\n",
       "      <td>0</td>\n",
       "      <td>1</td>\n",
       "      <td>3.533965e-08</td>\n",
       "    </tr>\n",
       "    <tr>\n",
       "      <th>2</th>\n",
       "      <td>1</td>\n",
       "      <td>1</td>\n",
       "      <td>7.643396e-04</td>\n",
       "    </tr>\n",
       "    <tr>\n",
       "      <th>3</th>\n",
       "      <td>0</td>\n",
       "      <td>0</td>\n",
       "      <td>9.455213e-01</td>\n",
       "    </tr>\n",
       "    <tr>\n",
       "      <th>4</th>\n",
       "      <td>1</td>\n",
       "      <td>1</td>\n",
       "      <td>3.196600e-01</td>\n",
       "    </tr>\n",
       "  </tbody>\n",
       "</table>\n",
       "</div>"
      ],
      "text/plain": [
       "   True  Predict_lr     Prob_0_lr\n",
       "0     0           0  8.577234e-01\n",
       "1     0           1  3.533965e-08\n",
       "2     1           1  7.643396e-04\n",
       "3     0           0  9.455213e-01\n",
       "4     1           1  3.196600e-01"
      ]
     },
     "execution_count": 9,
     "metadata": {},
     "output_type": "execute_result"
    }
   ],
   "source": [
    "results"
   ]
  },
  {
   "cell_type": "code",
   "execution_count": 10,
   "metadata": {},
   "outputs": [
    {
     "name": "stdout",
     "output_type": "stream",
     "text": [
      "Accuracy score: 0.8\n"
     ]
    }
   ],
   "source": [
    "print('Accuracy score: ' + str(accuracy_score(y_test, predict)))"
   ]
  },
  {
   "cell_type": "markdown",
   "metadata": {},
   "source": [
    "### YAAAAAAAAASSSSSS QUEEN!"
   ]
  },
  {
   "cell_type": "markdown",
   "metadata": {},
   "source": [
    "Note: Input data is based on the original (not normalized) files and n_ MFC coefficients"
   ]
  },
  {
   "cell_type": "markdown",
   "metadata": {},
   "source": [
    "### Visualizing results"
   ]
  },
  {
   "cell_type": "code",
   "execution_count": 11,
   "metadata": {},
   "outputs": [],
   "source": [
    "def ROC_plot (testname, y_true, y_prob):\n",
    "    \n",
    "    logit_roc_auc = roc_auc_score(y_true, y_prob)\n",
    "    \n",
    "    fpr, tpr, thresholds = roc_curve(y_true, y_prob)\n",
    "    \n",
    "    plt.figure()\n",
    "    plt.plot(fpr, tpr)\n",
    "    plt.plot([0, 1], [0, 1], 'r--')\n",
    "    plt.xlim([-0.1, 1.0])\n",
    "    plt.ylim([0.0, 1.05])\n",
    "    plt.xlabel('False Positive Rate', size=20)\n",
    "    plt.ylabel('True Positive Rate', size=20)\n",
    "    plt.xticks(size=15)\n",
    "    plt.yticks(size=15)\n",
    "    plt.title('ROC: ' + testname, size=25)\n",
    "    \n",
    "    plt.show()\n",
    "    print ('ROC_AUC_Score: ' + str(logit_roc_auc))"
   ]
  },
  {
   "cell_type": "code",
   "execution_count": 12,
   "metadata": {},
   "outputs": [
    {
     "data": {
      "image/png": "[encoded data removed]",
      "text/plain": [
       "<Figure size 432x288 with 1 Axes>"
      ]
     },
     "metadata": {},
     "output_type": "display_data"
    },
    {
     "name": "stdout",
     "output_type": "stream",
     "text": [
      "ROC_AUC_Score: 0.8333333333333334\n"
     ]
    }
   ],
   "source": [
    "ROC_plot('LogReg',  y_test.values, predict )"
   ]
  },
  {
   "cell_type": "markdown",
   "metadata": {},
   "source": [
    "## Can't see the forest for the trees.... Random Forest Classifier"
   ]
  },
  {
   "cell_type": "code",
   "execution_count": 13,
   "metadata": {},
   "outputs": [
    {
     "data": {
      "text/plain": [
       "RandomForestClassifier(bootstrap=True, class_weight=None, criterion='gini',\n",
       "            max_depth=None, max_features='auto', max_leaf_nodes=16,\n",
       "            min_impurity_decrease=0.0, min_impurity_split=None,\n",
       "            min_samples_leaf=1, min_samples_split=2,\n",
       "            min_weight_fraction_leaf=0.0, n_estimators=500, n_jobs=-1,\n",
       "            oob_score=False, random_state=None, verbose=0,\n",
       "            warm_start=False)"
      ]
     },
     "execution_count": 13,
     "metadata": {},
     "output_type": "execute_result"
    }
   ],
   "source": [
    "rnd_clf = RandomForestClassifier(n_estimators=500, max_leaf_nodes=16, n_jobs=-1) # Just using these values from the book\n",
    "rnd_clf.fit(X_train, y_train)"
   ]
  },
  {
   "cell_type": "code",
   "execution_count": 14,
   "metadata": {},
   "outputs": [],
   "source": [
    "predict_rf = rnd_clf.predict(X_test)\n",
    "proba_rf = rnd_clf.predict_proba(X_test)"
   ]
  },
  {
   "cell_type": "code",
   "execution_count": 15,
   "metadata": {},
   "outputs": [],
   "source": [
    "results['Predict_rf'] = predict_rf\n",
    "results['Prob_0_rf'] = proba_rf[:,0]"
   ]
  },
  {
   "cell_type": "code",
   "execution_count": 16,
   "metadata": {},
   "outputs": [
    {
     "data": {
      "text/html": [
       "<div>\n",
       "<style scoped>\n",
       "    .dataframe tbody tr th:only-of-type {\n",
       "        vertical-align: middle;\n",
       "    }\n",
       "\n",
       "    .dataframe tbody tr th {\n",
       "        vertical-align: top;\n",
       "    }\n",
       "\n",
       "    .dataframe thead th {\n",
       "        text-align: right;\n",
       "    }\n",
       "</style>\n",
       "<table border=\"1\" class=\"dataframe\">\n",
       "  <thead>\n",
       "    <tr style=\"text-align: right;\">\n",
       "      <th></th>\n",
       "      <th>True</th>\n",
       "      <th>Predict_lr</th>\n",
       "      <th>Prob_0_lr</th>\n",
       "      <th>Predict_rf</th>\n",
       "      <th>Prob_0_rf</th>\n",
       "    </tr>\n",
       "  </thead>\n",
       "  <tbody>\n",
       "    <tr>\n",
       "      <th>0</th>\n",
       "      <td>0</td>\n",
       "      <td>0</td>\n",
       "      <td>8.577234e-01</td>\n",
       "      <td>0</td>\n",
       "      <td>0.796</td>\n",
       "    </tr>\n",
       "    <tr>\n",
       "      <th>1</th>\n",
       "      <td>0</td>\n",
       "      <td>1</td>\n",
       "      <td>3.533965e-08</td>\n",
       "      <td>1</td>\n",
       "      <td>0.206</td>\n",
       "    </tr>\n",
       "    <tr>\n",
       "      <th>2</th>\n",
       "      <td>1</td>\n",
       "      <td>1</td>\n",
       "      <td>7.643396e-04</td>\n",
       "      <td>1</td>\n",
       "      <td>0.286</td>\n",
       "    </tr>\n",
       "    <tr>\n",
       "      <th>3</th>\n",
       "      <td>0</td>\n",
       "      <td>0</td>\n",
       "      <td>9.455213e-01</td>\n",
       "      <td>1</td>\n",
       "      <td>0.422</td>\n",
       "    </tr>\n",
       "    <tr>\n",
       "      <th>4</th>\n",
       "      <td>1</td>\n",
       "      <td>1</td>\n",
       "      <td>3.196600e-01</td>\n",
       "      <td>1</td>\n",
       "      <td>0.398</td>\n",
       "    </tr>\n",
       "  </tbody>\n",
       "</table>\n",
       "</div>"
      ],
      "text/plain": [
       "   True  Predict_lr     Prob_0_lr  Predict_rf  Prob_0_rf\n",
       "0     0           0  8.577234e-01           0      0.796\n",
       "1     0           1  3.533965e-08           1      0.206\n",
       "2     1           1  7.643396e-04           1      0.286\n",
       "3     0           0  9.455213e-01           1      0.422\n",
       "4     1           1  3.196600e-01           1      0.398"
      ]
     },
     "execution_count": 16,
     "metadata": {},
     "output_type": "execute_result"
    }
   ],
   "source": [
    "results"
   ]
  },
  {
   "cell_type": "code",
   "execution_count": 17,
   "metadata": {},
   "outputs": [
    {
     "name": "stdout",
     "output_type": "stream",
     "text": [
      "Accuracy score: 0.6\n"
     ]
    }
   ],
   "source": [
    "print('Accuracy score: ' + str(accuracy_score(y_test, predict_rf)))"
   ]
  },
  {
   "cell_type": "code",
   "execution_count": 18,
   "metadata": {},
   "outputs": [
    {
     "data": {
      "image/png": "[encoded data removed]",
      "text/plain": [
       "<Figure size 432x288 with 1 Axes>"
      ]
     },
     "metadata": {},
     "output_type": "display_data"
    },
    {
     "name": "stdout",
     "output_type": "stream",
     "text": [
      "ROC_AUC_Score: 0.6666666666666667\n"
     ]
    }
   ],
   "source": [
    "ROC_plot('Random Forest', y_test.values, predict_rf)"
   ]
  },
  {
   "cell_type": "code",
   "execution_count": 19,
   "metadata": {},
   "outputs": [],
   "source": [
    "#results.to_csv('../../Source/Data/Results_n30.csv')"
   ]
  },
  {
   "cell_type": "code",
   "execution_count": null,
   "metadata": {},
   "outputs": [],
   "source": []
  },
  {
   "cell_type": "code",
   "execution_count": null,
   "metadata": {},
   "outputs": [],
   "source": []
  }
 ],
 "metadata": {
  "kernelspec": {
   "display_name": "Python 3",
   "language": "python",
   "name": "python3"
  },
  "language_info": {
   "codemirror_mode": {
    "name": "ipython",
    "version": 3
   },
   "file_extension": ".py",
   "mimetype": "text/x-python",
   "name": "python",
   "nbconvert_exporter": "python",
   "pygments_lexer": "ipython3",
   "version": "3.6.5"
  }
 },
 "nbformat": 4,
 "nbformat_minor": 2
}
