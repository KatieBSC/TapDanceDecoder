{
 "cells": [
  {
   "cell_type": "markdown",
   "metadata": {},
   "source": [
    "## MVP: Result Analyis"
   ]
  },
  {
   "cell_type": "code",
   "execution_count": 1,
   "metadata": {},
   "outputs": [],
   "source": [
    "import pandas as pd\n",
    "import matplotlib.pyplot as plt\n",
    "from sklearn.metrics import accuracy_score, confusion_matrix\n"
   ]
  },
  {
   "cell_type": "markdown",
   "metadata": {},
   "source": [
    "### Load results"
   ]
  },
  {
   "cell_type": "code",
   "execution_count": 3,
   "metadata": {},
   "outputs": [],
   "source": [
    "result_10 = pd.read_csv('../../../Source/Data/Results_n10.csv').drop(['Unnamed: 0'], axis=1)\n",
    "result_20 = pd.read_csv('../../../Source/Data/Results_n20.csv').drop(['Unnamed: 0'], axis=1)\n",
    "result_30 = pd.read_csv('../../../Source/Data/Results_n30.csv').drop(['Unnamed: 0'], axis=1)\n",
    "result_40 = pd.read_csv('../../../Source/Data/Results_n40.csv').drop(['Unnamed: 0'], axis=1)\n",
    "result_50 = pd.read_csv('../../../Source/Data/Results_n50.csv').drop(['Unnamed: 0'], axis=1)\n",
    "result_60 = pd.read_csv('../../../Source/Data/Results_n60.csv').drop(['Unnamed: 0'], axis=1)\n",
    "result_70 = pd.read_csv('../../../Source/Data/Results_n70.csv').drop(['Unnamed: 0'], axis=1)\n",
    "result_80 = pd.read_csv('../../../Source/Data/Results_n80.csv').drop(['Unnamed: 0'], axis=1)\n",
    "result_90 = pd.read_csv('../../../Source/Data/Results_n90.csv').drop(['Unnamed: 0'], axis=1)\n",
    "result_100 = pd.read_csv('../../../Source/Data/Results_n100.csv').drop(['Unnamed: 0'], axis=1)\n",
    "result_128 = pd.read_csv('../../../Source/Data/Results_n128.csv').drop(['Unnamed: 0'], axis=1)"
   ]
  },
  {
   "cell_type": "markdown",
   "metadata": {},
   "source": [
    "From the results, we see that the test observation at index 1 was always missclassified.\n",
    "<br/> Let's examine the probablities to see by how much each test was off."
   ]
  },
  {
   "cell_type": "code",
   "execution_count": 4,
   "metadata": {},
   "outputs": [
    {
     "data": {
      "text/html": [
       "<div>\n",
       "<style scoped>\n",
       "    .dataframe tbody tr th:only-of-type {\n",
       "        vertical-align: middle;\n",
       "    }\n",
       "\n",
       "    .dataframe tbody tr th {\n",
       "        vertical-align: top;\n",
       "    }\n",
       "\n",
       "    .dataframe thead th {\n",
       "        text-align: right;\n",
       "    }\n",
       "</style>\n",
       "<table border=\"1\" class=\"dataframe\">\n",
       "  <thead>\n",
       "    <tr style=\"text-align: right;\">\n",
       "      <th></th>\n",
       "      <th>True</th>\n",
       "      <th>Predict_lr</th>\n",
       "      <th>Prob_0_lr</th>\n",
       "      <th>Predict_rf</th>\n",
       "      <th>Prob_0_rf</th>\n",
       "    </tr>\n",
       "  </thead>\n",
       "  <tbody>\n",
       "    <tr>\n",
       "      <th>0</th>\n",
       "      <td>0</td>\n",
       "      <td>0</td>\n",
       "      <td>8.303252e-01</td>\n",
       "      <td>0</td>\n",
       "      <td>0.684</td>\n",
       "    </tr>\n",
       "    <tr>\n",
       "      <th>1</th>\n",
       "      <td>0</td>\n",
       "      <td>1</td>\n",
       "      <td>4.130023e-10</td>\n",
       "      <td>1</td>\n",
       "      <td>0.378</td>\n",
       "    </tr>\n",
       "    <tr>\n",
       "      <th>2</th>\n",
       "      <td>1</td>\n",
       "      <td>1</td>\n",
       "      <td>8.895908e-04</td>\n",
       "      <td>1</td>\n",
       "      <td>0.242</td>\n",
       "    </tr>\n",
       "    <tr>\n",
       "      <th>3</th>\n",
       "      <td>0</td>\n",
       "      <td>0</td>\n",
       "      <td>9.561106e-01</td>\n",
       "      <td>1</td>\n",
       "      <td>0.492</td>\n",
       "    </tr>\n",
       "    <tr>\n",
       "      <th>4</th>\n",
       "      <td>1</td>\n",
       "      <td>0</td>\n",
       "      <td>7.815561e-01</td>\n",
       "      <td>1</td>\n",
       "      <td>0.392</td>\n",
       "    </tr>\n",
       "  </tbody>\n",
       "</table>\n",
       "</div>"
      ],
      "text/plain": [
       "   True  Predict_lr     Prob_0_lr  Predict_rf  Prob_0_rf\n",
       "0     0           0  8.303252e-01           0      0.684\n",
       "1     0           1  4.130023e-10           1      0.378\n",
       "2     1           1  8.895908e-04           1      0.242\n",
       "3     0           0  9.561106e-01           1      0.492\n",
       "4     1           0  7.815561e-01           1      0.392"
      ]
     },
     "execution_count": 4,
     "metadata": {},
     "output_type": "execute_result"
    }
   ],
   "source": [
    "result_10"
   ]
  },
  {
   "cell_type": "code",
   "execution_count": 5,
   "metadata": {},
   "outputs": [
    {
     "data": {
      "text/plain": [
       "(4.130022990267434e-10, 0.37799999999999995)"
      ]
     },
     "execution_count": 5,
     "metadata": {},
     "output_type": "execute_result"
    }
   ],
   "source": [
    "result_10.iloc[1,2], result_10.iloc[1,4]"
   ]
  },
  {
   "cell_type": "code",
   "execution_count": 6,
   "metadata": {},
   "outputs": [],
   "source": [
    "lr_prob, rf_prob = [], []\n",
    "df_list = [result_10, result_20, result_30, result_40, result_50, \n",
    "           result_60, result_70, result_80, result_90, result_100, result_128]"
   ]
  },
  {
   "cell_type": "code",
   "execution_count": 7,
   "metadata": {},
   "outputs": [],
   "source": [
    "for df in df_list:\n",
    "    lr_prob.append(df.iloc[1,2])\n",
    "    rf_prob.append(df.iloc[1,4])   "
   ]
  },
  {
   "cell_type": "code",
   "execution_count": 8,
   "metadata": {},
   "outputs": [],
   "source": [
    "prob_sample_1 = pd.DataFrame({'LogReg': lr_prob, 'RdmFst': rf_prob})\n",
    "prob_sample_1= prob_sample_1.set_index([[10,20,30,40,50,60,70,80,90,100,128]])"
   ]
  },
  {
   "cell_type": "code",
   "execution_count": 9,
   "metadata": {},
   "outputs": [
    {
     "data": {
      "text/html": [
       "<div>\n",
       "<style scoped>\n",
       "    .dataframe tbody tr th:only-of-type {\n",
       "        vertical-align: middle;\n",
       "    }\n",
       "\n",
       "    .dataframe tbody tr th {\n",
       "        vertical-align: top;\n",
       "    }\n",
       "\n",
       "    .dataframe thead th {\n",
       "        text-align: right;\n",
       "    }\n",
       "</style>\n",
       "<table border=\"1\" class=\"dataframe\">\n",
       "  <thead>\n",
       "    <tr style=\"text-align: right;\">\n",
       "      <th></th>\n",
       "      <th>LogReg</th>\n",
       "      <th>RdmFst</th>\n",
       "    </tr>\n",
       "  </thead>\n",
       "  <tbody>\n",
       "    <tr>\n",
       "      <th>10</th>\n",
       "      <td>4.130023e-10</td>\n",
       "      <td>0.378</td>\n",
       "    </tr>\n",
       "    <tr>\n",
       "      <th>20</th>\n",
       "      <td>5.689643e-09</td>\n",
       "      <td>0.360</td>\n",
       "    </tr>\n",
       "    <tr>\n",
       "      <th>30</th>\n",
       "      <td>1.018999e-08</td>\n",
       "      <td>0.314</td>\n",
       "    </tr>\n",
       "    <tr>\n",
       "      <th>40</th>\n",
       "      <td>3.533965e-08</td>\n",
       "      <td>0.206</td>\n",
       "    </tr>\n",
       "    <tr>\n",
       "      <th>50</th>\n",
       "      <td>3.279950e-08</td>\n",
       "      <td>0.180</td>\n",
       "    </tr>\n",
       "    <tr>\n",
       "      <th>60</th>\n",
       "      <td>3.568288e-08</td>\n",
       "      <td>0.214</td>\n",
       "    </tr>\n",
       "    <tr>\n",
       "      <th>70</th>\n",
       "      <td>3.618687e-08</td>\n",
       "      <td>0.192</td>\n",
       "    </tr>\n",
       "    <tr>\n",
       "      <th>80</th>\n",
       "      <td>4.174278e-08</td>\n",
       "      <td>0.256</td>\n",
       "    </tr>\n",
       "    <tr>\n",
       "      <th>90</th>\n",
       "      <td>4.408176e-08</td>\n",
       "      <td>0.272</td>\n",
       "    </tr>\n",
       "    <tr>\n",
       "      <th>100</th>\n",
       "      <td>4.418536e-08</td>\n",
       "      <td>0.326</td>\n",
       "    </tr>\n",
       "    <tr>\n",
       "      <th>128</th>\n",
       "      <td>4.959936e-08</td>\n",
       "      <td>0.368</td>\n",
       "    </tr>\n",
       "  </tbody>\n",
       "</table>\n",
       "</div>"
      ],
      "text/plain": [
       "           LogReg  RdmFst\n",
       "10   4.130023e-10   0.378\n",
       "20   5.689643e-09   0.360\n",
       "30   1.018999e-08   0.314\n",
       "40   3.533965e-08   0.206\n",
       "50   3.279950e-08   0.180\n",
       "60   3.568288e-08   0.214\n",
       "70   3.618687e-08   0.192\n",
       "80   4.174278e-08   0.256\n",
       "90   4.408176e-08   0.272\n",
       "100  4.418536e-08   0.326\n",
       "128  4.959936e-08   0.368"
      ]
     },
     "execution_count": 9,
     "metadata": {},
     "output_type": "execute_result"
    }
   ],
   "source": [
    "prob_sample_1"
   ]
  },
  {
   "cell_type": "markdown",
   "metadata": {},
   "source": [
    "Since the true value is 0, we're looking for which test has a higher probability of 0 (bigger number)."
   ]
  },
  {
   "cell_type": "code",
   "execution_count": null,
   "metadata": {},
   "outputs": [],
   "source": [
    "prob_sample_1.max()"
   ]
  },
  {
   "cell_type": "markdown",
   "metadata": {},
   "source": [
    "These values correspond to:\n",
    "- Logistic Regression with 128 (maximum) coefficients\n",
    "- Random Forest with 10 (minimum sampled) coefficients"
   ]
  },
  {
   "cell_type": "markdown",
   "metadata": {},
   "source": [
    "Now let's examine the **accuracy scores** for all of these."
   ]
  },
  {
   "cell_type": "code",
   "execution_count": null,
   "metadata": {},
   "outputs": [],
   "source": [
    "lr_acc, rf_acc = [], []"
   ]
  },
  {
   "cell_type": "code",
   "execution_count": null,
   "metadata": {},
   "outputs": [],
   "source": [
    "for df in df_list:\n",
    "    lr_acc.append(accuracy_score(df['True'], df['Predict_lr']))\n",
    "    rf_acc.append(accuracy_score(df['True'], df['Predict_rf']))   "
   ]
  },
  {
   "cell_type": "code",
   "execution_count": null,
   "metadata": {},
   "outputs": [],
   "source": [
    "accuracy = pd.DataFrame({'LogReg': lr_acc, 'RdmFst': rf_acc})\n",
    "accuracy= accuracy.set_index([[10,20,30,40,50,60,70,80,90,100,128]])"
   ]
  },
  {
   "cell_type": "code",
   "execution_count": null,
   "metadata": {},
   "outputs": [],
   "source": [
    "accuracy"
   ]
  },
  {
   "cell_type": "markdown",
   "metadata": {},
   "source": [
    "This is *interesting*. <br/>With logistic regression, the accuracy improves and stays consistant with increasing values of n_ coefficients. <br/> But with the random forest, it improves, then gets worse, before ultimately getting better and staying consistant. <br/>Does this make sense logically?"
   ]
  },
  {
   "cell_type": "markdown",
   "metadata": {},
   "source": [
    "Is there a correlation between accuracy and probability of predicting the problematic test sample at index 1?"
   ]
  },
  {
   "cell_type": "code",
   "execution_count": null,
   "metadata": {},
   "outputs": [],
   "source": [
    "acc_prob_df = pd.concat([prob_sample_1, accuracy], axis=1)\n",
    "acc_prob_df"
   ]
  },
  {
   "cell_type": "markdown",
   "metadata": {},
   "source": [
    "- Logistic Regression: 128 coefficients: accuracy 80%\n",
    "- Random Forest: 10 coefficients: accuracy 60%"
   ]
  },
  {
   "cell_type": "markdown",
   "metadata": {},
   "source": [
    "Perhaps there is some correlation with logistic regression. But that isn't the case for random forest."
   ]
  },
  {
   "cell_type": "code",
   "execution_count": null,
   "metadata": {},
   "outputs": [],
   "source": [
    "labels = [0, 1]\n",
    "n_list = [10,20,30,40,50,60,70,80,90,100,128]\n",
    "for df in df_list:\n",
    "    y_test = df['True']\n",
    "    pred = df['Predict_lr']\n",
    "    \n",
    "    cm = confusion_matrix(y_test, pred, labels)\n",
    "    #print(cm)\n",
    "    fig = plt.figure()\n",
    "    ax = fig.add_subplot(111)\n",
    "    cax = ax.matshow(cm)\n",
    "    plt.title('Confusion matrix of LogReg')\n",
    "    fig.colorbar(cax)\n",
    "    ax.set_xticklabels([''] + labels)\n",
    "    ax.set_yticklabels([''] + labels)\n",
    "    plt.xlabel('Predicted')\n",
    "    plt.ylabel('True')\n",
    "    plt.show()"
   ]
  },
  {
   "cell_type": "code",
   "execution_count": null,
   "metadata": {},
   "outputs": [],
   "source": []
  },
  {
   "cell_type": "code",
   "execution_count": null,
   "metadata": {},
   "outputs": [],
   "source": []
  }
 ],
 "metadata": {
  "kernelspec": {
   "display_name": "Python 3",
   "language": "python",
   "name": "python3"
  },
  "language_info": {
   "codemirror_mode": {
    "name": "ipython",
    "version": 3
   },
   "file_extension": ".py",
   "mimetype": "text/x-python",
   "name": "python",
   "nbconvert_exporter": "python",
   "pygments_lexer": "ipython3",
   "version": "3.6.5"
  }
 },
 "nbformat": 4,
 "nbformat_minor": 2
}
