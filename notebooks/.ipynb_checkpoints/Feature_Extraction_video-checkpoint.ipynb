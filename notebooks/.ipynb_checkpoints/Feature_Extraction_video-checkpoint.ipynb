{
 "cells": [
  {
   "cell_type": "markdown",
   "metadata": {},
   "source": [
    "## Feature Extraction"
   ]
  },
  {
   "cell_type": "code",
   "execution_count": 1,
   "metadata": {},
   "outputs": [],
   "source": [
    "import pandas as pd\n",
    "import numpy as np\n",
    "import matplotlib.pyplot as plt\n",
    "import librosa.display\n",
    "from pathlib import Path\n",
    "from sklearn.model_selection import train_test_split\n",
    "from pydub import AudioSegment"
   ]
  },
  {
   "cell_type": "markdown",
   "metadata": {},
   "source": [
    "## Using data from youtube "
   ]
  },
  {
   "cell_type": "code",
   "execution_count": 2,
   "metadata": {},
   "outputs": [],
   "source": [
    "samples, sample_rate = librosa.load('../../../Source/Shuffle/1/1.wav')"
   ]
  },
  {
   "cell_type": "markdown",
   "metadata": {},
   "source": [
    "**Visualize audio files with librosa**"
   ]
  },
  {
   "cell_type": "code",
   "execution_count": 3,
   "metadata": {},
   "outputs": [
    {
     "data": {
      "text/plain": [
       "<matplotlib.collections.PolyCollection at 0x1139b6b38>"
      ]
     },
     "execution_count": 3,
     "metadata": {},
     "output_type": "execute_result"
    },
    {
     "data": {
      "image/png": "[encoded data removed]",
      "text/plain": [
       "<Figure size 432x288 with 1 Axes>"
      ]
     },
     "metadata": {},
     "output_type": "display_data"
    }
   ],
   "source": [
    "librosa.display.waveplot(samples, sr=sample_rate)"
   ]
  },
  {
   "cell_type": "markdown",
   "metadata": {},
   "source": [
    "### Repeat for all data (Organize in a DataFrame)"
   ]
  },
  {
   "cell_type": "code",
   "execution_count": 7,
   "metadata": {},
   "outputs": [],
   "source": [
    "def build_list(step, folder, length):\n",
    "    i = 1\n",
    "    step_list = []\n",
    "    while i <= length :\n",
    "        name = step + \"/\" + str(folder) + \"/\" +str(i) + \".wav\"\n",
    "        step_list.append(name)\n",
    "        i += 1\n",
    "    return step_list\n",
    "\n",
    "def get_label(path):\n",
    "    if path.parts[-3] == 'Shuffle':\n",
    "        return 1\n",
    "    else:\n",
    "        return 0"
   ]
  },
  {
   "cell_type": "code",
   "execution_count": 8,
   "metadata": {},
   "outputs": [],
   "source": [
    "shuffle_col, bc_col, path_col = [], [], []"
   ]
  },
  {
   "cell_type": "code",
   "execution_count": 9,
   "metadata": {},
   "outputs": [],
   "source": [
    "pathlist = Path('../../../Source/Shuffle').glob('**/*.wav')\n",
    "for path in pathlist:\n",
    "    shuffle_col.append(path)\n",
    "    shuffle_col.sort()"
   ]
  },
  {
   "cell_type": "code",
   "execution_count": 10,
   "metadata": {},
   "outputs": [],
   "source": [
    "pathlist = Path('../../../Source/Ball_change').glob('**/*.wav')\n",
    "for path in pathlist:\n",
    "    bc_col.append(path)\n",
    "    bc_col.sort()"
   ]
  },
  {
   "cell_type": "code",
   "execution_count": 15,
   "metadata": {},
   "outputs": [],
   "source": [
    "path_col = shuffle_col + bc_col"
   ]
  },
  {
   "cell_type": "markdown",
   "metadata": {},
   "source": [
    "** Add file paths**"
   ]
  },
  {
   "cell_type": "code",
   "execution_count": 16,
   "metadata": {},
   "outputs": [
    {
     "data": {
      "text/html": [
       "<div>\n",
       "<style scoped>\n",
       "    .dataframe tbody tr th:only-of-type {\n",
       "        vertical-align: middle;\n",
       "    }\n",
       "\n",
       "    .dataframe tbody tr th {\n",
       "        vertical-align: top;\n",
       "    }\n",
       "\n",
       "    .dataframe thead th {\n",
       "        text-align: right;\n",
       "    }\n",
       "</style>\n",
       "<table border=\"1\" class=\"dataframe\">\n",
       "  <thead>\n",
       "    <tr style=\"text-align: right;\">\n",
       "      <th></th>\n",
       "      <th>Path</th>\n",
       "    </tr>\n",
       "  </thead>\n",
       "  <tbody>\n",
       "    <tr>\n",
       "      <th>0</th>\n",
       "      <td>../../../Source/Shuffle/1/1.wav</td>\n",
       "    </tr>\n",
       "    <tr>\n",
       "      <th>1</th>\n",
       "      <td>../../../Source/Shuffle/1/2.wav</td>\n",
       "    </tr>\n",
       "    <tr>\n",
       "      <th>2</th>\n",
       "      <td>../../../Source/Shuffle/1/3.wav</td>\n",
       "    </tr>\n",
       "    <tr>\n",
       "      <th>3</th>\n",
       "      <td>../../../Source/Shuffle/2/1.wav</td>\n",
       "    </tr>\n",
       "    <tr>\n",
       "      <th>4</th>\n",
       "      <td>../../../Source/Shuffle/3/1.wav</td>\n",
       "    </tr>\n",
       "    <tr>\n",
       "      <th>5</th>\n",
       "      <td>../../../Source/Shuffle/4/1.wav</td>\n",
       "    </tr>\n",
       "    <tr>\n",
       "      <th>6</th>\n",
       "      <td>../../../Source/Shuffle/4/2.wav</td>\n",
       "    </tr>\n",
       "    <tr>\n",
       "      <th>7</th>\n",
       "      <td>../../../Source/Ball_change/1/1.wav</td>\n",
       "    </tr>\n",
       "    <tr>\n",
       "      <th>8</th>\n",
       "      <td>../../../Source/Ball_change/1/2.wav</td>\n",
       "    </tr>\n",
       "    <tr>\n",
       "      <th>9</th>\n",
       "      <td>../../../Source/Ball_change/1/3.wav</td>\n",
       "    </tr>\n",
       "    <tr>\n",
       "      <th>10</th>\n",
       "      <td>../../../Source/Ball_change/2/1.wav</td>\n",
       "    </tr>\n",
       "    <tr>\n",
       "      <th>11</th>\n",
       "      <td>../../../Source/Ball_change/3/1.wav</td>\n",
       "    </tr>\n",
       "    <tr>\n",
       "      <th>12</th>\n",
       "      <td>../../../Source/Ball_change/4/1.wav</td>\n",
       "    </tr>\n",
       "    <tr>\n",
       "      <th>13</th>\n",
       "      <td>../../../Source/Ball_change/4/2.wav</td>\n",
       "    </tr>\n",
       "  </tbody>\n",
       "</table>\n",
       "</div>"
      ],
      "text/plain": [
       "                                   Path\n",
       "0       ../../../Source/Shuffle/1/1.wav\n",
       "1       ../../../Source/Shuffle/1/2.wav\n",
       "2       ../../../Source/Shuffle/1/3.wav\n",
       "3       ../../../Source/Shuffle/2/1.wav\n",
       "4       ../../../Source/Shuffle/3/1.wav\n",
       "5       ../../../Source/Shuffle/4/1.wav\n",
       "6       ../../../Source/Shuffle/4/2.wav\n",
       "7   ../../../Source/Ball_change/1/1.wav\n",
       "8   ../../../Source/Ball_change/1/2.wav\n",
       "9   ../../../Source/Ball_change/1/3.wav\n",
       "10  ../../../Source/Ball_change/2/1.wav\n",
       "11  ../../../Source/Ball_change/3/1.wav\n",
       "12  ../../../Source/Ball_change/4/1.wav\n",
       "13  ../../../Source/Ball_change/4/2.wav"
      ]
     },
     "execution_count": 16,
     "metadata": {},
     "output_type": "execute_result"
    }
   ],
   "source": [
    "tap = pd.DataFrame({'Path':path_col})\n",
    "tap"
   ]
  },
  {
   "cell_type": "markdown",
   "metadata": {},
   "source": [
    "** Add labels**"
   ]
  },
  {
   "cell_type": "code",
   "execution_count": 17,
   "metadata": {},
   "outputs": [],
   "source": [
    "tap['Labels'] = [get_label(tap.loc[idx,'Path']) for idx in range(len(tap))]"
   ]
  },
  {
   "cell_type": "code",
   "execution_count": null,
   "metadata": {},
   "outputs": [],
   "source": []
  },
  {
   "cell_type": "markdown",
   "metadata": {},
   "source": [
    "**Add Features: MFCCs**"
   ]
  },
  {
   "cell_type": "code",
   "execution_count": 19,
   "metadata": {},
   "outputs": [],
   "source": [
    "n_mfcc = 20"
   ]
  },
  {
   "cell_type": "code",
   "execution_count": 20,
   "metadata": {},
   "outputs": [],
   "source": [
    "def get_features_mfcc(path):\n",
    "    samples, sample_rate = librosa.load(path)\n",
    "    mfccs = np.mean(librosa.feature.mfcc(y=samples, sr=sample_rate, n_mfcc=n_mfcc).T,axis=0)\n",
    "    return mfccs"
   ]
  },
  {
   "cell_type": "code",
   "execution_count": 21,
   "metadata": {},
   "outputs": [],
   "source": [
    "for i in range (n_mfcc):\n",
    "    tap[str(i)] = [get_features_mfcc(tap.loc[idx, 'Path'])[i] for idx in range (len(tap))]"
   ]
  },
  {
   "cell_type": "code",
   "execution_count": 22,
   "metadata": {},
   "outputs": [
    {
     "data": {
      "text/html": [
       "<div>\n",
       "<style scoped>\n",
       "    .dataframe tbody tr th:only-of-type {\n",
       "        vertical-align: middle;\n",
       "    }\n",
       "\n",
       "    .dataframe tbody tr th {\n",
       "        vertical-align: top;\n",
       "    }\n",
       "\n",
       "    .dataframe thead th {\n",
       "        text-align: right;\n",
       "    }\n",
       "</style>\n",
       "<table border=\"1\" class=\"dataframe\">\n",
       "  <thead>\n",
       "    <tr style=\"text-align: right;\">\n",
       "      <th></th>\n",
       "      <th>Path</th>\n",
       "      <th>Labels</th>\n",
       "      <th>0</th>\n",
       "      <th>1</th>\n",
       "      <th>2</th>\n",
       "      <th>3</th>\n",
       "      <th>4</th>\n",
       "      <th>5</th>\n",
       "      <th>6</th>\n",
       "      <th>7</th>\n",
       "      <th>...</th>\n",
       "      <th>10</th>\n",
       "      <th>11</th>\n",
       "      <th>12</th>\n",
       "      <th>13</th>\n",
       "      <th>14</th>\n",
       "      <th>15</th>\n",
       "      <th>16</th>\n",
       "      <th>17</th>\n",
       "      <th>18</th>\n",
       "      <th>19</th>\n",
       "    </tr>\n",
       "  </thead>\n",
       "  <tbody>\n",
       "    <tr>\n",
       "      <th>0</th>\n",
       "      <td>../../../Source/Shuffle/1/1.wav</td>\n",
       "      <td>1</td>\n",
       "      <td>-397.996291</td>\n",
       "      <td>69.919217</td>\n",
       "      <td>-30.816585</td>\n",
       "      <td>2.052624</td>\n",
       "      <td>-4.498367</td>\n",
       "      <td>3.586868</td>\n",
       "      <td>1.112511</td>\n",
       "      <td>-0.931258</td>\n",
       "      <td>...</td>\n",
       "      <td>-10.322354</td>\n",
       "      <td>-0.978540</td>\n",
       "      <td>-5.840766</td>\n",
       "      <td>0.325457</td>\n",
       "      <td>-5.293024</td>\n",
       "      <td>0.152664</td>\n",
       "      <td>-3.874195</td>\n",
       "      <td>2.935363</td>\n",
       "      <td>-2.040664</td>\n",
       "      <td>0.617618</td>\n",
       "    </tr>\n",
       "    <tr>\n",
       "      <th>1</th>\n",
       "      <td>../../../Source/Shuffle/1/2.wav</td>\n",
       "      <td>1</td>\n",
       "      <td>-380.969173</td>\n",
       "      <td>68.260789</td>\n",
       "      <td>-36.607765</td>\n",
       "      <td>5.305637</td>\n",
       "      <td>-5.950456</td>\n",
       "      <td>2.665462</td>\n",
       "      <td>3.021190</td>\n",
       "      <td>-3.789654</td>\n",
       "      <td>...</td>\n",
       "      <td>-9.871991</td>\n",
       "      <td>-1.143852</td>\n",
       "      <td>-6.094870</td>\n",
       "      <td>-0.928319</td>\n",
       "      <td>-5.927427</td>\n",
       "      <td>-0.186541</td>\n",
       "      <td>-4.511462</td>\n",
       "      <td>1.920166</td>\n",
       "      <td>-2.233199</td>\n",
       "      <td>1.871566</td>\n",
       "    </tr>\n",
       "    <tr>\n",
       "      <th>2</th>\n",
       "      <td>../../../Source/Shuffle/1/3.wav</td>\n",
       "      <td>1</td>\n",
       "      <td>-379.707155</td>\n",
       "      <td>71.743598</td>\n",
       "      <td>-38.705834</td>\n",
       "      <td>4.732883</td>\n",
       "      <td>-3.484858</td>\n",
       "      <td>2.979705</td>\n",
       "      <td>2.399476</td>\n",
       "      <td>-3.935687</td>\n",
       "      <td>...</td>\n",
       "      <td>-12.638600</td>\n",
       "      <td>-2.505807</td>\n",
       "      <td>-5.666910</td>\n",
       "      <td>-0.247560</td>\n",
       "      <td>-5.749561</td>\n",
       "      <td>-0.498359</td>\n",
       "      <td>-4.594561</td>\n",
       "      <td>1.812919</td>\n",
       "      <td>-2.993126</td>\n",
       "      <td>1.252439</td>\n",
       "    </tr>\n",
       "    <tr>\n",
       "      <th>3</th>\n",
       "      <td>../../../Source/Shuffle/2/1.wav</td>\n",
       "      <td>1</td>\n",
       "      <td>-365.681881</td>\n",
       "      <td>112.207218</td>\n",
       "      <td>-44.156703</td>\n",
       "      <td>28.384908</td>\n",
       "      <td>5.436029</td>\n",
       "      <td>10.016629</td>\n",
       "      <td>-1.238957</td>\n",
       "      <td>6.827234</td>\n",
       "      <td>...</td>\n",
       "      <td>-1.899000</td>\n",
       "      <td>2.469534</td>\n",
       "      <td>6.690579</td>\n",
       "      <td>3.534026</td>\n",
       "      <td>-3.921688</td>\n",
       "      <td>1.802320</td>\n",
       "      <td>-6.703229</td>\n",
       "      <td>-1.233793</td>\n",
       "      <td>-6.914826</td>\n",
       "      <td>2.094775</td>\n",
       "    </tr>\n",
       "    <tr>\n",
       "      <th>4</th>\n",
       "      <td>../../../Source/Shuffle/3/1.wav</td>\n",
       "      <td>1</td>\n",
       "      <td>-140.521704</td>\n",
       "      <td>26.983688</td>\n",
       "      <td>-72.189903</td>\n",
       "      <td>16.219018</td>\n",
       "      <td>-55.419643</td>\n",
       "      <td>15.687635</td>\n",
       "      <td>-15.282690</td>\n",
       "      <td>3.851774</td>\n",
       "      <td>...</td>\n",
       "      <td>-16.894729</td>\n",
       "      <td>10.758064</td>\n",
       "      <td>-6.026893</td>\n",
       "      <td>4.054874</td>\n",
       "      <td>-6.116531</td>\n",
       "      <td>5.181411</td>\n",
       "      <td>3.371878</td>\n",
       "      <td>6.317297</td>\n",
       "      <td>-1.877233</td>\n",
       "      <td>3.540987</td>\n",
       "    </tr>\n",
       "  </tbody>\n",
       "</table>\n",
       "<p>5 rows × 22 columns</p>\n",
       "</div>"
      ],
      "text/plain": [
       "                              Path  Labels           0           1          2  \\\n",
       "0  ../../../Source/Shuffle/1/1.wav       1 -397.996291   69.919217 -30.816585   \n",
       "1  ../../../Source/Shuffle/1/2.wav       1 -380.969173   68.260789 -36.607765   \n",
       "2  ../../../Source/Shuffle/1/3.wav       1 -379.707155   71.743598 -38.705834   \n",
       "3  ../../../Source/Shuffle/2/1.wav       1 -365.681881  112.207218 -44.156703   \n",
       "4  ../../../Source/Shuffle/3/1.wav       1 -140.521704   26.983688 -72.189903   \n",
       "\n",
       "           3          4          5          6         7    ...            10  \\\n",
       "0   2.052624  -4.498367   3.586868   1.112511 -0.931258    ...    -10.322354   \n",
       "1   5.305637  -5.950456   2.665462   3.021190 -3.789654    ...     -9.871991   \n",
       "2   4.732883  -3.484858   2.979705   2.399476 -3.935687    ...    -12.638600   \n",
       "3  28.384908   5.436029  10.016629  -1.238957  6.827234    ...     -1.899000   \n",
       "4  16.219018 -55.419643  15.687635 -15.282690  3.851774    ...    -16.894729   \n",
       "\n",
       "          11        12        13        14        15        16        17  \\\n",
       "0  -0.978540 -5.840766  0.325457 -5.293024  0.152664 -3.874195  2.935363   \n",
       "1  -1.143852 -6.094870 -0.928319 -5.927427 -0.186541 -4.511462  1.920166   \n",
       "2  -2.505807 -5.666910 -0.247560 -5.749561 -0.498359 -4.594561  1.812919   \n",
       "3   2.469534  6.690579  3.534026 -3.921688  1.802320 -6.703229 -1.233793   \n",
       "4  10.758064 -6.026893  4.054874 -6.116531  5.181411  3.371878  6.317297   \n",
       "\n",
       "         18        19  \n",
       "0 -2.040664  0.617618  \n",
       "1 -2.233199  1.871566  \n",
       "2 -2.993126  1.252439  \n",
       "3 -6.914826  2.094775  \n",
       "4 -1.877233  3.540987  \n",
       "\n",
       "[5 rows x 22 columns]"
      ]
     },
     "execution_count": 22,
     "metadata": {},
     "output_type": "execute_result"
    }
   ],
   "source": [
    "tap.head()"
   ]
  },
  {
   "cell_type": "markdown",
   "metadata": {},
   "source": [
    "** Add Features: Tempo**"
   ]
  },
  {
   "cell_type": "code",
   "execution_count": 23,
   "metadata": {},
   "outputs": [],
   "source": [
    "def get_features_bpm(path):\n",
    "    samples, sample_rate = librosa.load(path)\n",
    "    onset_env = librosa.onset.onset_strength(samples, sr=sample_rate)\n",
    "    tempo = librosa.beat.tempo(onset_envelope=onset_env, sr=sample_rate)\n",
    "    return tempo.item()"
   ]
  },
  {
   "cell_type": "code",
   "execution_count": 24,
   "metadata": {},
   "outputs": [],
   "source": [
    "tap['BPM'] = [get_features_bpm(tap.loc[idx, 'Path']) for idx in range (len(tap))]"
   ]
  },
  {
   "cell_type": "code",
   "execution_count": 31,
   "metadata": {},
   "outputs": [
    {
     "data": {
      "text/html": [
       "<div>\n",
       "<style scoped>\n",
       "    .dataframe tbody tr th:only-of-type {\n",
       "        vertical-align: middle;\n",
       "    }\n",
       "\n",
       "    .dataframe tbody tr th {\n",
       "        vertical-align: top;\n",
       "    }\n",
       "\n",
       "    .dataframe thead th {\n",
       "        text-align: right;\n",
       "    }\n",
       "</style>\n",
       "<table border=\"1\" class=\"dataframe\">\n",
       "  <thead>\n",
       "    <tr style=\"text-align: right;\">\n",
       "      <th></th>\n",
       "      <th>Path</th>\n",
       "      <th>Labels</th>\n",
       "      <th>0</th>\n",
       "      <th>1</th>\n",
       "      <th>2</th>\n",
       "      <th>3</th>\n",
       "      <th>4</th>\n",
       "      <th>5</th>\n",
       "      <th>6</th>\n",
       "      <th>7</th>\n",
       "      <th>...</th>\n",
       "      <th>13</th>\n",
       "      <th>14</th>\n",
       "      <th>15</th>\n",
       "      <th>16</th>\n",
       "      <th>17</th>\n",
       "      <th>18</th>\n",
       "      <th>19</th>\n",
       "      <th>BPM</th>\n",
       "      <th>ZCR</th>\n",
       "      <th>RMSE</th>\n",
       "    </tr>\n",
       "  </thead>\n",
       "  <tbody>\n",
       "    <tr>\n",
       "      <th>0</th>\n",
       "      <td>../../../Source/Shuffle/1/1.wav</td>\n",
       "      <td>1</td>\n",
       "      <td>-397.996291</td>\n",
       "      <td>69.919217</td>\n",
       "      <td>-30.816585</td>\n",
       "      <td>2.052624</td>\n",
       "      <td>-4.498367</td>\n",
       "      <td>3.586868</td>\n",
       "      <td>1.112511</td>\n",
       "      <td>-0.931258</td>\n",
       "      <td>...</td>\n",
       "      <td>0.325457</td>\n",
       "      <td>-5.293024</td>\n",
       "      <td>0.152664</td>\n",
       "      <td>-3.874195</td>\n",
       "      <td>2.935363</td>\n",
       "      <td>-2.040664</td>\n",
       "      <td>0.617618</td>\n",
       "      <td>258.398438</td>\n",
       "      <td>0.181868</td>\n",
       "      <td>0.004159</td>\n",
       "    </tr>\n",
       "    <tr>\n",
       "      <th>1</th>\n",
       "      <td>../../../Source/Shuffle/1/2.wav</td>\n",
       "      <td>1</td>\n",
       "      <td>-380.969173</td>\n",
       "      <td>68.260789</td>\n",
       "      <td>-36.607765</td>\n",
       "      <td>5.305637</td>\n",
       "      <td>-5.950456</td>\n",
       "      <td>2.665462</td>\n",
       "      <td>3.021190</td>\n",
       "      <td>-3.789654</td>\n",
       "      <td>...</td>\n",
       "      <td>-0.928319</td>\n",
       "      <td>-5.927427</td>\n",
       "      <td>-0.186541</td>\n",
       "      <td>-4.511462</td>\n",
       "      <td>1.920166</td>\n",
       "      <td>-2.233199</td>\n",
       "      <td>1.871566</td>\n",
       "      <td>215.332031</td>\n",
       "      <td>0.186700</td>\n",
       "      <td>0.005309</td>\n",
       "    </tr>\n",
       "    <tr>\n",
       "      <th>2</th>\n",
       "      <td>../../../Source/Shuffle/1/3.wav</td>\n",
       "      <td>1</td>\n",
       "      <td>-379.707155</td>\n",
       "      <td>71.743598</td>\n",
       "      <td>-38.705834</td>\n",
       "      <td>4.732883</td>\n",
       "      <td>-3.484858</td>\n",
       "      <td>2.979705</td>\n",
       "      <td>2.399476</td>\n",
       "      <td>-3.935687</td>\n",
       "      <td>...</td>\n",
       "      <td>-0.247560</td>\n",
       "      <td>-5.749561</td>\n",
       "      <td>-0.498359</td>\n",
       "      <td>-4.594561</td>\n",
       "      <td>1.812919</td>\n",
       "      <td>-2.993126</td>\n",
       "      <td>1.252439</td>\n",
       "      <td>172.265625</td>\n",
       "      <td>0.176909</td>\n",
       "      <td>0.004938</td>\n",
       "    </tr>\n",
       "    <tr>\n",
       "      <th>3</th>\n",
       "      <td>../../../Source/Shuffle/2/1.wav</td>\n",
       "      <td>1</td>\n",
       "      <td>-365.681881</td>\n",
       "      <td>112.207218</td>\n",
       "      <td>-44.156703</td>\n",
       "      <td>28.384908</td>\n",
       "      <td>5.436029</td>\n",
       "      <td>10.016629</td>\n",
       "      <td>-1.238957</td>\n",
       "      <td>6.827234</td>\n",
       "      <td>...</td>\n",
       "      <td>3.534026</td>\n",
       "      <td>-3.921688</td>\n",
       "      <td>1.802320</td>\n",
       "      <td>-6.703229</td>\n",
       "      <td>-1.233793</td>\n",
       "      <td>-6.914826</td>\n",
       "      <td>2.094775</td>\n",
       "      <td>234.907670</td>\n",
       "      <td>0.120793</td>\n",
       "      <td>0.012703</td>\n",
       "    </tr>\n",
       "    <tr>\n",
       "      <th>4</th>\n",
       "      <td>../../../Source/Shuffle/3/1.wav</td>\n",
       "      <td>1</td>\n",
       "      <td>-140.521704</td>\n",
       "      <td>26.983688</td>\n",
       "      <td>-72.189903</td>\n",
       "      <td>16.219018</td>\n",
       "      <td>-55.419643</td>\n",
       "      <td>15.687635</td>\n",
       "      <td>-15.282690</td>\n",
       "      <td>3.851774</td>\n",
       "      <td>...</td>\n",
       "      <td>4.054874</td>\n",
       "      <td>-6.116531</td>\n",
       "      <td>5.181411</td>\n",
       "      <td>3.371878</td>\n",
       "      <td>6.317297</td>\n",
       "      <td>-1.877233</td>\n",
       "      <td>3.540987</td>\n",
       "      <td>99.384014</td>\n",
       "      <td>0.286321</td>\n",
       "      <td>0.065943</td>\n",
       "    </tr>\n",
       "  </tbody>\n",
       "</table>\n",
       "<p>5 rows × 25 columns</p>\n",
       "</div>"
      ],
      "text/plain": [
       "                              Path  Labels           0           1          2  \\\n",
       "0  ../../../Source/Shuffle/1/1.wav       1 -397.996291   69.919217 -30.816585   \n",
       "1  ../../../Source/Shuffle/1/2.wav       1 -380.969173   68.260789 -36.607765   \n",
       "2  ../../../Source/Shuffle/1/3.wav       1 -379.707155   71.743598 -38.705834   \n",
       "3  ../../../Source/Shuffle/2/1.wav       1 -365.681881  112.207218 -44.156703   \n",
       "4  ../../../Source/Shuffle/3/1.wav       1 -140.521704   26.983688 -72.189903   \n",
       "\n",
       "           3          4          5          6         7    ...           13  \\\n",
       "0   2.052624  -4.498367   3.586868   1.112511 -0.931258    ...     0.325457   \n",
       "1   5.305637  -5.950456   2.665462   3.021190 -3.789654    ...    -0.928319   \n",
       "2   4.732883  -3.484858   2.979705   2.399476 -3.935687    ...    -0.247560   \n",
       "3  28.384908   5.436029  10.016629  -1.238957  6.827234    ...     3.534026   \n",
       "4  16.219018 -55.419643  15.687635 -15.282690  3.851774    ...     4.054874   \n",
       "\n",
       "         14        15        16        17        18        19         BPM  \\\n",
       "0 -5.293024  0.152664 -3.874195  2.935363 -2.040664  0.617618  258.398438   \n",
       "1 -5.927427 -0.186541 -4.511462  1.920166 -2.233199  1.871566  215.332031   \n",
       "2 -5.749561 -0.498359 -4.594561  1.812919 -2.993126  1.252439  172.265625   \n",
       "3 -3.921688  1.802320 -6.703229 -1.233793 -6.914826  2.094775  234.907670   \n",
       "4 -6.116531  5.181411  3.371878  6.317297 -1.877233  3.540987   99.384014   \n",
       "\n",
       "        ZCR      RMSE  \n",
       "0  0.181868  0.004159  \n",
       "1  0.186700  0.005309  \n",
       "2  0.176909  0.004938  \n",
       "3  0.120793  0.012703  \n",
       "4  0.286321  0.065943  \n",
       "\n",
       "[5 rows x 25 columns]"
      ]
     },
     "execution_count": 31,
     "metadata": {},
     "output_type": "execute_result"
    }
   ],
   "source": [
    "tap.head()"
   ]
  },
  {
   "cell_type": "markdown",
   "metadata": {},
   "source": [
    "** Add features: zero-crossing rate**"
   ]
  },
  {
   "cell_type": "code",
   "execution_count": 26,
   "metadata": {},
   "outputs": [],
   "source": [
    "def get_features_ZCR(path):\n",
    "    samples, sample_rate = librosa.load(path)\n",
    "    return np.mean(librosa.feature.zero_crossing_rate(y=samples).T,axis=0).item()"
   ]
  },
  {
   "cell_type": "code",
   "execution_count": 27,
   "metadata": {},
   "outputs": [],
   "source": [
    "tap['ZCR'] = [get_features_ZCR(tap.loc[idx, 'Path']) for idx in range (len(tap))]"
   ]
  },
  {
   "cell_type": "markdown",
   "metadata": {},
   "source": [
    "** Add features: root mean square energy value**"
   ]
  },
  {
   "cell_type": "code",
   "execution_count": 29,
   "metadata": {},
   "outputs": [],
   "source": [
    "def get_features_rmse(path):\n",
    "    samples, sample_rate = librosa.load(path)\n",
    "    return np.mean(librosa.feature.rmse(y=samples).T,axis=0).item()"
   ]
  },
  {
   "cell_type": "code",
   "execution_count": 30,
   "metadata": {},
   "outputs": [],
   "source": [
    "tap['RMSE'] = [get_features_rmse(tap.loc[idx, 'Path']) for idx in range (len(tap))]"
   ]
  },
  {
   "cell_type": "markdown",
   "metadata": {},
   "source": [
    "** Add features: short term energy**"
   ]
  },
  {
   "cell_type": "code",
   "execution_count": 32,
   "metadata": {},
   "outputs": [],
   "source": [
    "def get_features_ste(path):\n",
    "    hop_length = 125\n",
    "    frame_length = 250\n",
    "    samples, sample_rate = librosa.load(path)\n",
    "    energy = np.array([sum(abs(samples[i:i+frame_length]**2))for i in range(0, len(samples), hop_length)])\n",
    "    return np.mean(energy.T)"
   ]
  },
  {
   "cell_type": "code",
   "execution_count": 33,
   "metadata": {},
   "outputs": [],
   "source": [
    "tap['STE'] = [get_features_ste(tap.loc[idx, 'Path']) for idx in range (len(tap))]"
   ]
  },
  {
   "cell_type": "code",
   "execution_count": null,
   "metadata": {},
   "outputs": [],
   "source": []
  },
  {
   "cell_type": "markdown",
   "metadata": {},
   "source": [
    "### Pimped out DataFrame"
   ]
  },
  {
   "cell_type": "code",
   "execution_count": 35,
   "metadata": {},
   "outputs": [
    {
     "data": {
      "text/html": [
       "<div>\n",
       "<style scoped>\n",
       "    .dataframe tbody tr th:only-of-type {\n",
       "        vertical-align: middle;\n",
       "    }\n",
       "\n",
       "    .dataframe tbody tr th {\n",
       "        vertical-align: top;\n",
       "    }\n",
       "\n",
       "    .dataframe thead th {\n",
       "        text-align: right;\n",
       "    }\n",
       "</style>\n",
       "<table border=\"1\" class=\"dataframe\">\n",
       "  <thead>\n",
       "    <tr style=\"text-align: right;\">\n",
       "      <th></th>\n",
       "      <th>Path</th>\n",
       "      <th>Labels</th>\n",
       "      <th>0</th>\n",
       "      <th>1</th>\n",
       "      <th>2</th>\n",
       "      <th>3</th>\n",
       "      <th>4</th>\n",
       "      <th>5</th>\n",
       "      <th>6</th>\n",
       "      <th>7</th>\n",
       "      <th>...</th>\n",
       "      <th>14</th>\n",
       "      <th>15</th>\n",
       "      <th>16</th>\n",
       "      <th>17</th>\n",
       "      <th>18</th>\n",
       "      <th>19</th>\n",
       "      <th>BPM</th>\n",
       "      <th>ZCR</th>\n",
       "      <th>RMSE</th>\n",
       "      <th>STE</th>\n",
       "    </tr>\n",
       "  </thead>\n",
       "  <tbody>\n",
       "    <tr>\n",
       "      <th>0</th>\n",
       "      <td>../../../Source/Shuffle/1/1.wav</td>\n",
       "      <td>1</td>\n",
       "      <td>-397.996291</td>\n",
       "      <td>69.919217</td>\n",
       "      <td>-30.816585</td>\n",
       "      <td>2.052624</td>\n",
       "      <td>-4.498367</td>\n",
       "      <td>3.586868</td>\n",
       "      <td>1.112511</td>\n",
       "      <td>-0.931258</td>\n",
       "      <td>...</td>\n",
       "      <td>-5.293024</td>\n",
       "      <td>0.152664</td>\n",
       "      <td>-3.874195</td>\n",
       "      <td>2.935363</td>\n",
       "      <td>-2.040664</td>\n",
       "      <td>0.617618</td>\n",
       "      <td>258.398438</td>\n",
       "      <td>0.181868</td>\n",
       "      <td>0.004159</td>\n",
       "      <td>0.008354</td>\n",
       "    </tr>\n",
       "    <tr>\n",
       "      <th>1</th>\n",
       "      <td>../../../Source/Shuffle/1/2.wav</td>\n",
       "      <td>1</td>\n",
       "      <td>-380.969173</td>\n",
       "      <td>68.260789</td>\n",
       "      <td>-36.607765</td>\n",
       "      <td>5.305637</td>\n",
       "      <td>-5.950456</td>\n",
       "      <td>2.665462</td>\n",
       "      <td>3.021190</td>\n",
       "      <td>-3.789654</td>\n",
       "      <td>...</td>\n",
       "      <td>-5.927427</td>\n",
       "      <td>-0.186541</td>\n",
       "      <td>-4.511462</td>\n",
       "      <td>1.920166</td>\n",
       "      <td>-2.233199</td>\n",
       "      <td>1.871566</td>\n",
       "      <td>215.332031</td>\n",
       "      <td>0.186700</td>\n",
       "      <td>0.005309</td>\n",
       "      <td>0.014077</td>\n",
       "    </tr>\n",
       "    <tr>\n",
       "      <th>2</th>\n",
       "      <td>../../../Source/Shuffle/1/3.wav</td>\n",
       "      <td>1</td>\n",
       "      <td>-379.707155</td>\n",
       "      <td>71.743598</td>\n",
       "      <td>-38.705834</td>\n",
       "      <td>4.732883</td>\n",
       "      <td>-3.484858</td>\n",
       "      <td>2.979705</td>\n",
       "      <td>2.399476</td>\n",
       "      <td>-3.935687</td>\n",
       "      <td>...</td>\n",
       "      <td>-5.749561</td>\n",
       "      <td>-0.498359</td>\n",
       "      <td>-4.594561</td>\n",
       "      <td>1.812919</td>\n",
       "      <td>-2.993126</td>\n",
       "      <td>1.252439</td>\n",
       "      <td>172.265625</td>\n",
       "      <td>0.176909</td>\n",
       "      <td>0.004938</td>\n",
       "      <td>0.011588</td>\n",
       "    </tr>\n",
       "    <tr>\n",
       "      <th>3</th>\n",
       "      <td>../../../Source/Shuffle/2/1.wav</td>\n",
       "      <td>1</td>\n",
       "      <td>-365.681881</td>\n",
       "      <td>112.207218</td>\n",
       "      <td>-44.156703</td>\n",
       "      <td>28.384908</td>\n",
       "      <td>5.436029</td>\n",
       "      <td>10.016629</td>\n",
       "      <td>-1.238957</td>\n",
       "      <td>6.827234</td>\n",
       "      <td>...</td>\n",
       "      <td>-3.921688</td>\n",
       "      <td>1.802320</td>\n",
       "      <td>-6.703229</td>\n",
       "      <td>-1.233793</td>\n",
       "      <td>-6.914826</td>\n",
       "      <td>2.094775</td>\n",
       "      <td>234.907670</td>\n",
       "      <td>0.120793</td>\n",
       "      <td>0.012703</td>\n",
       "      <td>0.104904</td>\n",
       "    </tr>\n",
       "    <tr>\n",
       "      <th>4</th>\n",
       "      <td>../../../Source/Shuffle/3/1.wav</td>\n",
       "      <td>1</td>\n",
       "      <td>-140.521704</td>\n",
       "      <td>26.983688</td>\n",
       "      <td>-72.189903</td>\n",
       "      <td>16.219018</td>\n",
       "      <td>-55.419643</td>\n",
       "      <td>15.687635</td>\n",
       "      <td>-15.282690</td>\n",
       "      <td>3.851774</td>\n",
       "      <td>...</td>\n",
       "      <td>-6.116531</td>\n",
       "      <td>5.181411</td>\n",
       "      <td>3.371878</td>\n",
       "      <td>6.317297</td>\n",
       "      <td>-1.877233</td>\n",
       "      <td>3.540987</td>\n",
       "      <td>99.384014</td>\n",
       "      <td>0.286321</td>\n",
       "      <td>0.065943</td>\n",
       "      <td>1.549808</td>\n",
       "    </tr>\n",
       "  </tbody>\n",
       "</table>\n",
       "<p>5 rows × 26 columns</p>\n",
       "</div>"
      ],
      "text/plain": [
       "                              Path  Labels           0           1          2  \\\n",
       "0  ../../../Source/Shuffle/1/1.wav       1 -397.996291   69.919217 -30.816585   \n",
       "1  ../../../Source/Shuffle/1/2.wav       1 -380.969173   68.260789 -36.607765   \n",
       "2  ../../../Source/Shuffle/1/3.wav       1 -379.707155   71.743598 -38.705834   \n",
       "3  ../../../Source/Shuffle/2/1.wav       1 -365.681881  112.207218 -44.156703   \n",
       "4  ../../../Source/Shuffle/3/1.wav       1 -140.521704   26.983688 -72.189903   \n",
       "\n",
       "           3          4          5          6         7    ...           14  \\\n",
       "0   2.052624  -4.498367   3.586868   1.112511 -0.931258    ...    -5.293024   \n",
       "1   5.305637  -5.950456   2.665462   3.021190 -3.789654    ...    -5.927427   \n",
       "2   4.732883  -3.484858   2.979705   2.399476 -3.935687    ...    -5.749561   \n",
       "3  28.384908   5.436029  10.016629  -1.238957  6.827234    ...    -3.921688   \n",
       "4  16.219018 -55.419643  15.687635 -15.282690  3.851774    ...    -6.116531   \n",
       "\n",
       "         15        16        17        18        19         BPM       ZCR  \\\n",
       "0  0.152664 -3.874195  2.935363 -2.040664  0.617618  258.398438  0.181868   \n",
       "1 -0.186541 -4.511462  1.920166 -2.233199  1.871566  215.332031  0.186700   \n",
       "2 -0.498359 -4.594561  1.812919 -2.993126  1.252439  172.265625  0.176909   \n",
       "3  1.802320 -6.703229 -1.233793 -6.914826  2.094775  234.907670  0.120793   \n",
       "4  5.181411  3.371878  6.317297 -1.877233  3.540987   99.384014  0.286321   \n",
       "\n",
       "       RMSE       STE  \n",
       "0  0.004159  0.008354  \n",
       "1  0.005309  0.014077  \n",
       "2  0.004938  0.011588  \n",
       "3  0.012703  0.104904  \n",
       "4  0.065943  1.549808  \n",
       "\n",
       "[5 rows x 26 columns]"
      ]
     },
     "execution_count": 35,
     "metadata": {},
     "output_type": "execute_result"
    }
   ],
   "source": [
    "tap.head()"
   ]
  },
  {
   "cell_type": "markdown",
   "metadata": {},
   "source": [
    "### Split into input and targets (X and y)"
   ]
  },
  {
   "cell_type": "code",
   "execution_count": 36,
   "metadata": {},
   "outputs": [],
   "source": [
    "X = tap.drop(['Labels'], axis =1)\n",
    "y = tap[['Labels']]"
   ]
  },
  {
   "cell_type": "code",
   "execution_count": 38,
   "metadata": {},
   "outputs": [],
   "source": [
    "inputs = pd.DataFrame(X)\n",
    "targets = pd.DataFrame(y)"
   ]
  },
  {
   "cell_type": "code",
   "execution_count": 39,
   "metadata": {},
   "outputs": [],
   "source": [
    "inputs.to_csv('../../../Source/Data/X_youtube.csv', index=None)\n",
    "targets.to_csv('../../../Source/Data/y_youtube.csv', index=None)\n",
    "\n"
   ]
  },
  {
   "cell_type": "code",
   "execution_count": 40,
   "metadata": {},
   "outputs": [],
   "source": [
    "tap.to_csv('../../../Source/Data/youtube_data.csv', index=None)"
   ]
  }
 ],
 "metadata": {
  "kernelspec": {
   "display_name": "Python 3",
   "language": "python",
   "name": "python3"
  },
  "language_info": {
   "codemirror_mode": {
    "name": "ipython",
    "version": 3
   },
   "file_extension": ".py",
   "mimetype": "text/x-python",
   "name": "python",
   "nbconvert_exporter": "python",
   "pygments_lexer": "ipython3",
   "version": "3.6.5"
  }
 },
 "nbformat": 4,
 "nbformat_minor": 2
}
