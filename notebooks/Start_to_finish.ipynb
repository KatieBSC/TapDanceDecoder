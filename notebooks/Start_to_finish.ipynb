{
 "cells": [
  {
   "cell_type": "markdown",
   "metadata": {},
   "source": [
    "# Start to finish\n",
    "rough draft to implement in pycharm project"
   ]
  },
  {
   "cell_type": "code",
   "execution_count": 1,
   "metadata": {},
   "outputs": [],
   "source": [
    "from pydub import AudioSegment\n",
    "import librosa\n",
    "import numpy as np\n",
    "import torch\n",
    "from pathlib import Path\n",
    "#import pandas as pd"
   ]
  },
  {
   "cell_type": "markdown",
   "metadata": {},
   "source": [
    "## Select tap sound"
   ]
  },
  {
   "cell_type": "code",
   "execution_count": 45,
   "metadata": {},
   "outputs": [],
   "source": [
    "# Prepared, reserved test clip recorded same as train\n",
    "#clip = '../../../Source/Clean_train_clips/Test_pad/Ball_change/1/15.wav'\n",
    "\n",
    "# Audio extracted from youtube\n",
    "clip = '../../../Source/Shuffle/4/1.wav'\n",
    "\n",
    "clip_path = Path(clip)"
   ]
  },
  {
   "cell_type": "code",
   "execution_count": 47,
   "metadata": {},
   "outputs": [
    {
     "data": {
      "text/html": [
       "\n",
       "                    <audio controls>\n",
       "                        <source src=\"data:audio/mpeg;base64,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\" type=\"audio/mpeg\"/>\n",
       "                        Your browser does not support the audio element.\n",
       "                    </audio>\n",
       "                  "
      ],
      "text/plain": [
       "<pydub.audio_segment.AudioSegment at 0x1c1c1e1d68>"
      ]
     },
     "execution_count": 47,
     "metadata": {},
     "output_type": "execute_result"
    }
   ],
   "source": [
    "# Play sound\n",
    "AudioSegment.from_wav(clip)"
   ]
  },
  {
   "cell_type": "markdown",
   "metadata": {},
   "source": [
    "## Processing Pipeline"
   ]
  },
  {
   "cell_type": "code",
   "execution_count": null,
   "metadata": {},
   "outputs": [],
   "source": []
  },
  {
   "cell_type": "code",
   "execution_count": 48,
   "metadata": {},
   "outputs": [],
   "source": [
    "# Parameters (set in training and validation)\n",
    "clip_length = 20772\n",
    "n_mfcc = 20\n",
    "frame_length = 256\n",
    "hop_length = 128"
   ]
  },
  {
   "cell_type": "code",
   "execution_count": 49,
   "metadata": {},
   "outputs": [],
   "source": [
    "def resize_signal(path, length):\n",
    "    samples, sample_rate = librosa.load(path)\n",
    "    if len(samples) < length:\n",
    "        y = np.pad(samples, (0, length-len(samples)), 'constant')\n",
    "    elif len(samples) > length:\n",
    "        y = samples[:length]\n",
    "    else:\n",
    "        y = samples\n",
    "    return y, sample_rate\n",
    "\n",
    "def get_features_mfcc(samples, sample_rate):\n",
    "    mfccs = np.mean(librosa.feature.mfcc(y=samples, sr=sample_rate, n_mfcc=n_mfcc).T,axis=0)\n",
    "    return mfccs\n",
    "\n",
    "def get_features_zcr(samples, sample_rate):\n",
    "    zcr = librosa.feature.zero_crossing_rate(samples, frame_length=frame_length, hop_length=hop_length)\n",
    "    return zcr\n",
    "    \n",
    "def get_features_energy(samples, sample_rate) :\n",
    "    energy = np.array([sum(abs(samples[i:i+frame_length]**2)) for i in range (0, len(samples), hop_length)])\n",
    "    return energy\n",
    "\n",
    "def get_features_rmse(samples, sample_rate):\n",
    "    rmse = librosa.feature.rmse(samples, frame_length=frame_length, hop_length=hop_length, center=True)\n",
    "    return rmse[0]\n",
    "\n",
    "def get_features_bpm(samples, sample_rate): \n",
    "    onset_env = librosa.onset.onset_strength(samples, sr=sample_rate) # Assumes static tempo, for dynamic: aggregate=None\n",
    "    tempo = librosa.beat.tempo(onset_envelope=onset_env, sr=sample_rate)\n",
    "    return tempo\n",
    "\n",
    "def get_label(path):\n",
    "    if path.parts[-3] == 'Shuffle':\n",
    "        return 1\n",
    "    else:\n",
    "        return 0"
   ]
  },
  {
   "cell_type": "code",
   "execution_count": 50,
   "metadata": {},
   "outputs": [],
   "source": [
    "# Pad with ending silence or cut to set length\n",
    "y, sr = resize_signal(clip_path, clip_length)\n"
   ]
  },
  {
   "cell_type": "code",
   "execution_count": 51,
   "metadata": {},
   "outputs": [],
   "source": [
    "# Extract features\n",
    "mfcc = get_features_mfcc (y, sr)[:,np.newaxis]\n",
    "zcr = get_features_zcr (y, sr).T\n",
    "energy = get_features_energy(y, sr)[:,np.newaxis]\n",
    "rmse = get_features_rmse (y, sr)[:,np.newaxis]\n",
    "bpm = get_features_bpm (y, sr)[:,np.newaxis]\n"
   ]
  },
  {
   "cell_type": "markdown",
   "metadata": {},
   "source": [
    "## Select features"
   ]
  },
  {
   "cell_type": "code",
   "execution_count": 52,
   "metadata": {},
   "outputs": [],
   "source": [
    "feature_set = (mfcc, zcr, energy,rmse, bpm)\n"
   ]
  },
  {
   "cell_type": "code",
   "execution_count": 53,
   "metadata": {},
   "outputs": [],
   "source": [
    "# Combine features to form input for model\n",
    "inputs = np.concatenate(feature_set, axis=0).T\n"
   ]
  },
  {
   "cell_type": "markdown",
   "metadata": {},
   "source": [
    "## Select model"
   ]
  },
  {
   "cell_type": "code",
   "execution_count": 54,
   "metadata": {},
   "outputs": [],
   "source": [
    "# Trained models\n",
    "#model = ('../src/train/trained_models/one_hidden_mfcc_zcr_energy_rmse_bpm.pt')\n",
    "#model = ('../src/train/trained_models/one_hidden_mfcc_zcr_energy_rmse_bpm_128.pt')\n",
    "model = ('../src/train/trained_models/one_hidden_mfcc_zcr_energy_rmse_bpm_256.pt')\n",
    "#model = ('../src/train/trained_models/two_hidden_mfcc_zcr_energy_rmse_bpm.pt')\n",
    "\n",
    "#model = ('../src/train/trained_models/one_hidden_mfcc_128.pt')\n",
    "#model = ('../src/train/trained_models/two_hidden_mfcc.pt')\n",
    "#model = ('../src/train/trained_models/one_hidden_mfcc_bpm_128.pt')\n",
    "#model = ('../src/train/trained_models/two_hidden_mfcc_bpm.pt')\n",
    "\n"
   ]
  },
  {
   "cell_type": "markdown",
   "metadata": {},
   "source": [
    "## Run and predict"
   ]
  },
  {
   "cell_type": "code",
   "execution_count": 55,
   "metadata": {},
   "outputs": [
    {
     "name": "stdout",
     "output_type": "stream",
     "text": [
      "What's on tap?\n",
      "\n",
      "Predicted: Ball change\n",
      "\n",
      "It was a Shuffle.\n"
     ]
    }
   ],
   "source": [
    "dtype = torch.float\n",
    "device = torch.device('cpu')\n",
    "\n",
    "inputs = torch.tensor(inputs, device=device, dtype=dtype)\n",
    "\n",
    "# Load model\n",
    "model = torch.load(model)\n",
    "\n",
    "outputs = model(inputs)\n",
    "\n",
    "y_pred = (torch.argmax(outputs.data).numpy())\n",
    "\n",
    "true = get_label(clip_path)\n",
    "\n",
    "print(\"What's on tap?\")\n",
    "print()\n",
    "if y_pred == 1:\n",
    "    print('Predicted: Shuffle')\n",
    "elif y_pred == 0:\n",
    "    print('Predicted: Ball change')\n",
    "print()\n",
    "if true == 1:\n",
    "    print('It was a Shuffle.')\n",
    "elif true == 0:\n",
    "    print('It was a Ball change.')\n"
   ]
  },
  {
   "cell_type": "code",
   "execution_count": 13,
   "metadata": {},
   "outputs": [
    {
     "data": {
      "text/html": [
       "\n",
       "                    <audio controls>\n",
       "                        <source src=\"data:audio/mpeg;base64,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\" type=\"audio/mpeg\"/>\n",
       "                        Your browser does not support the audio element.\n",
       "                    </audio>\n",
       "                  "
      ],
      "text/plain": [
       "<pydub.audio_segment.AudioSegment at 0x1c1c189f60>"
      ]
     },
     "execution_count": 13,
     "metadata": {},
     "output_type": "execute_result"
    }
   ],
   "source": [
    "# What did that sound like again?\n",
    "AudioSegment.from_wav(clip)"
   ]
  },
  {
   "cell_type": "code",
   "execution_count": null,
   "metadata": {},
   "outputs": [],
   "source": []
  },
  {
   "cell_type": "code",
   "execution_count": null,
   "metadata": {},
   "outputs": [],
   "source": []
  }
 ],
 "metadata": {
  "kernelspec": {
   "display_name": "Python 3",
   "language": "python",
   "name": "python3"
  },
  "language_info": {
   "codemirror_mode": {
    "name": "ipython",
    "version": 3
   },
   "file_extension": ".py",
   "mimetype": "text/x-python",
   "name": "python",
   "nbconvert_exporter": "python",
   "pygments_lexer": "ipython3",
   "version": "3.6.5"
  }
 },
 "nbformat": 4,
 "nbformat_minor": 2
}
