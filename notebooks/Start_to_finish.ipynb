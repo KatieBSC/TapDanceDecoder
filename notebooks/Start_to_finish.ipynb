{
 "cells": [
  {
   "cell_type": "markdown",
   "metadata": {},
   "source": [
    "# Start to finish\n",
    "rough draft to implement in pycharm project"
   ]
  },
  {
   "cell_type": "code",
   "execution_count": 1,
   "metadata": {},
   "outputs": [],
   "source": [
    "from pydub import AudioSegment\n",
    "import librosa\n",
    "import numpy as np\n",
    "import torch\n",
    "from pathlib import Path"
   ]
  },
  {
   "cell_type": "markdown",
   "metadata": {},
   "source": [
    "## Select tap sound"
   ]
  },
  {
   "cell_type": "code",
   "execution_count": 15,
   "metadata": {},
   "outputs": [],
   "source": [
    "# Prepared, reserved test clip recorded same as train\n",
    "clip = '../../../Source/Clean_train_clips/Test_pad/Ball_change/1/15.wav'\n",
    "\n",
    "# Audio extracted from youtube\n",
    "#clip = '../../../Source/Shuffle/4/1.wav'\n",
    "\n",
    "clip_path = Path(clip)"
   ]
  },
  {
   "cell_type": "code",
   "execution_count": 16,
   "metadata": {},
   "outputs": [
    {
     "data": {
      "text/html": [
       "\n",
       "                    <audio controls>\n",
       "                        <source src=\"data:audio/mpeg;base64,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\" type=\"audio/mpeg\"/>\n",
       "                        Your browser does not support the audio element.\n",
       "                    </audio>\n",
       "                  "
      ],
      "text/plain": [
       "<pydub.audio_segment.AudioSegment at 0x1c1701d780>"
      ]
     },
     "execution_count": 16,
     "metadata": {},
     "output_type": "execute_result"
    }
   ],
   "source": [
    "# Play sound\n",
    "AudioSegment.from_wav(clip)"
   ]
  },
  {
   "cell_type": "markdown",
   "metadata": {},
   "source": [
    "## Processing Pipeline"
   ]
  },
  {
   "cell_type": "code",
   "execution_count": null,
   "metadata": {},
   "outputs": [],
   "source": []
  },
  {
   "cell_type": "code",
   "execution_count": 17,
   "metadata": {},
   "outputs": [],
   "source": [
    "# Parameters (set in training and validation)\n",
    "clip_length = 20772\n",
    "n_mfcc = 20\n",
    "frame_length = 256\n",
    "hop_length = 128"
   ]
  },
  {
   "cell_type": "code",
   "execution_count": 18,
   "metadata": {},
   "outputs": [],
   "source": [
    "def resize_signal(path, length):\n",
    "    samples, sample_rate = librosa.load(path)\n",
    "    if len(samples) < length:\n",
    "        y = np.pad(samples, (0, length-len(samples)), 'constant')\n",
    "    elif len(samples) > length:\n",
    "        y = samples[:length]\n",
    "    else:\n",
    "        y = samples\n",
    "    return y, sample_rate\n",
    "\n",
    "def get_features_mfcc(samples, sample_rate):\n",
    "    mfccs = np.mean(librosa.feature.mfcc(y=samples, sr=sample_rate, n_mfcc=n_mfcc).T,axis=0)\n",
    "    return mfccs\n",
    "\n",
    "def get_features_zcr(samples, sample_rate):\n",
    "    zcr = librosa.feature.zero_crossing_rate(samples, frame_length=frame_length, hop_length=hop_length)\n",
    "    return zcr\n",
    "    \n",
    "def get_features_energy(samples, sample_rate) :\n",
    "    energy = np.array([sum(abs(samples[i:i+frame_length]**2)) for i in range (0, len(samples), hop_length)])\n",
    "    return energy\n",
    "\n",
    "def get_features_rmse(samples, sample_rate):\n",
    "    rmse = librosa.feature.rmse(samples, frame_length=frame_length, hop_length=hop_length, center=True)\n",
    "    return rmse[0]\n",
    "\n",
    "def get_features_bpm(samples, sample_rate): \n",
    "    onset_env = librosa.onset.onset_strength(samples, sr=sample_rate) # Assumes static tempo, for dynamic: aggregate=None\n",
    "    tempo = librosa.beat.tempo(onset_envelope=onset_env, sr=sample_rate)\n",
    "    return tempo\n",
    "\n",
    "def get_label(path):\n",
    "    if path.parts[-3] == 'Shuffle':\n",
    "        return 1\n",
    "    else:\n",
    "        return 0"
   ]
  },
  {
   "cell_type": "code",
   "execution_count": 19,
   "metadata": {},
   "outputs": [],
   "source": [
    "# Pad with ending silence or cut to set length\n",
    "y, sr = resize_signal(clip_path, clip_length)\n"
   ]
  },
  {
   "cell_type": "code",
   "execution_count": 20,
   "metadata": {},
   "outputs": [],
   "source": [
    "# Extract features\n",
    "mfcc = get_features_mfcc (y, sr)[:,np.newaxis]\n",
    "zcr = get_features_zcr (y, sr).T\n",
    "energy = get_features_energy(y, sr)[:,np.newaxis]\n",
    "rmse = get_features_rmse (y, sr)[:,np.newaxis]\n",
    "bpm = get_features_bpm (y, sr)[:,np.newaxis]\n"
   ]
  },
  {
   "cell_type": "markdown",
   "metadata": {},
   "source": [
    "## Select features"
   ]
  },
  {
   "cell_type": "code",
   "execution_count": 21,
   "metadata": {},
   "outputs": [],
   "source": [
    "feature_set = (mfcc)\n"
   ]
  },
  {
   "cell_type": "code",
   "execution_count": 22,
   "metadata": {},
   "outputs": [],
   "source": [
    "# Combine features to form input for model\n",
    "inputs = np.concatenate(feature_set, axis=0).T\n"
   ]
  },
  {
   "cell_type": "markdown",
   "metadata": {},
   "source": [
    "## Select model"
   ]
  },
  {
   "cell_type": "code",
   "execution_count": 23,
   "metadata": {},
   "outputs": [],
   "source": [
    "model = ('../src/train/trained_models/one_hidden_mfcc_128.pt')\n",
    "\n",
    "# Models to compare\n",
    "\n",
    "#model = ('../src/train/trained_models/one_hidden_mfcc_zcr_energy_rmse_bpm.pt')\n",
    "#model = ('../src/train/trained_models/one_hidden_mfcc_zcr_energy_rmse_bpm_128.pt')\n",
    "#model = ('../src/train/trained_models/one_hidden_mfcc_zcr_energy_rmse_bpm_256.pt')\n",
    "#model = ('../src/train/trained_models/two_hidden_mfcc_zcr_energy_rmse_bpm.pt')\n",
    "\n",
    "#model = ('../src/train/trained_models/one_hidden_mfcc_128.pt')\n",
    "#model = ('../src/train/trained_models/two_hidden_mfcc.pt')\n",
    "#model = ('../src/train/trained_models/one_hidden_mfcc_bpm_128.pt')\n",
    "#model = ('../src/train/trained_models/two_hidden_mfcc_bpm.pt')\n",
    "\n"
   ]
  },
  {
   "cell_type": "markdown",
   "metadata": {},
   "source": [
    "## Run and predict"
   ]
  },
  {
   "cell_type": "code",
   "execution_count": 24,
   "metadata": {},
   "outputs": [
    {
     "name": "stdout",
     "output_type": "stream",
     "text": [
      "What's on tap?\n",
      "\n",
      "Predicted: Ball change\n",
      "\n",
      "It was a Ball change.\n"
     ]
    }
   ],
   "source": [
    "dtype = torch.float\n",
    "device = torch.device('cpu')\n",
    "\n",
    "inputs = torch.tensor(inputs, device=device, dtype=dtype)\n",
    "\n",
    "# Load model\n",
    "model = torch.load(model)\n",
    "\n",
    "outputs = model(inputs)\n",
    "\n",
    "y_pred = (torch.argmax(outputs.data).numpy())\n",
    "\n",
    "true = get_label(clip_path)\n",
    "\n",
    "print(\"What's on tap?\")\n",
    "print()\n",
    "if y_pred == 1:\n",
    "    print('Predicted: Shuffle')\n",
    "elif y_pred == 0:\n",
    "    print('Predicted: Ball change')\n",
    "print()\n",
    "if true == 1:\n",
    "    print('It was a Shuffle.')\n",
    "elif true == 0:\n",
    "    print('It was a Ball change.')\n"
   ]
  },
  {
   "cell_type": "code",
   "execution_count": 25,
   "metadata": {},
   "outputs": [
    {
     "data": {
      "text/html": [
       "\n",
       "                    <audio controls>\n",
       "                        <source src=\"data:audio/mpeg;base64,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\" type=\"audio/mpeg\"/>\n",
       "                        Your browser does not support the audio element.\n",
       "                    </audio>\n",
       "                  "
      ],
      "text/plain": [
       "<pydub.audio_segment.AudioSegment at 0x1c1703ff28>"
      ]
     },
     "execution_count": 25,
     "metadata": {},
     "output_type": "execute_result"
    }
   ],
   "source": [
    "# What did that sound like again?\n",
    "AudioSegment.from_wav(clip)"
   ]
  },
  {
   "cell_type": "code",
   "execution_count": null,
   "metadata": {},
   "outputs": [],
   "source": []
  },
  {
   "cell_type": "code",
   "execution_count": null,
   "metadata": {},
   "outputs": [],
   "source": []
  },
  {
   "cell_type": "code",
   "execution_count": null,
   "metadata": {},
   "outputs": [],
   "source": []
  },
  {
   "cell_type": "code",
   "execution_count": null,
   "metadata": {},
   "outputs": [],
   "source": []
  }
 ],
 "metadata": {
  "kernelspec": {
   "display_name": "Python 3",
   "language": "python",
   "name": "python3"
  },
  "language_info": {
   "codemirror_mode": {
    "name": "ipython",
    "version": 3
   },
   "file_extension": ".py",
   "mimetype": "text/x-python",
   "name": "python",
   "nbconvert_exporter": "python",
   "pygments_lexer": "ipython3",
   "version": "3.6.5"
  }
 },
 "nbformat": 4,
 "nbformat_minor": 2
}
