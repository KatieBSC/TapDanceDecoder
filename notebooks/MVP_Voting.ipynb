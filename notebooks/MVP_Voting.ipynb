{
 "cells": [
  {
   "cell_type": "markdown",
   "metadata": {},
   "source": [
    "## MVP: Voting Classifier, Hoofers data"
   ]
  },
  {
   "cell_type": "code",
   "execution_count": 17,
   "metadata": {},
   "outputs": [],
   "source": [
    "import pandas as pd\n",
    "import numpy as np\n",
    "from sklearn.model_selection import train_test_split\n",
    "from sklearn.ensemble import RandomForestClassifier\n",
    "from sklearn.ensemble import VotingClassifier\n",
    "from sklearn.linear_model import LogisticRegression\n",
    "from sklearn.metrics import accuracy_score\n",
    "from sklearn.preprocessing import LabelEncoder"
   ]
  },
  {
   "cell_type": "markdown",
   "metadata": {},
   "source": [
    "### Data"
   ]
  },
  {
   "cell_type": "code",
   "execution_count": null,
   "metadata": {},
   "outputs": [],
   "source": [
    "X_train = pd.read_csv('../../../Source/Data/X_train_mfccplus.csv')\n",
    "y_train = pd.read_csv('../../../Source/Data/y_train_mfccplus.csv')"
   ]
  },
  {
   "cell_type": "code",
   "execution_count": null,
   "metadata": {},
   "outputs": [],
   "source": [
    "X_train = X_train.iloc[:,1:]\n",
    "y_train = y_train.values.ravel()"
   ]
  },
  {
   "cell_type": "code",
   "execution_count": null,
   "metadata": {},
   "outputs": [],
   "source": [
    "X_test = pd.read_csv('../../../Source/Data/X_test_mfccplus.csv')\n",
    "y_test = pd.read_csv('../../../Source/Data/y_test_mfccplus.csv')"
   ]
  },
  {
   "cell_type": "code",
   "execution_count": null,
   "metadata": {},
   "outputs": [],
   "source": [
    "X_test = X_test.iloc[:,1:]\n",
    "y_test = y_test.values.ravel()"
   ]
  },
  {
   "cell_type": "code",
   "execution_count": null,
   "metadata": {},
   "outputs": [],
   "source": []
  },
  {
   "cell_type": "code",
   "execution_count": null,
   "metadata": {},
   "outputs": [],
   "source": [
    "#X = data.iloc[:,2:]\n",
    "#y = data['Labels']"
   ]
  },
  {
   "cell_type": "code",
   "execution_count": null,
   "metadata": {},
   "outputs": [],
   "source": [
    "#X_train, X_test, y_train, y_test = train_test_split(X, y, test_size=0.20, random_state=42, stratify=y)"
   ]
  },
  {
   "cell_type": "markdown",
   "metadata": {},
   "source": [
    "### Model"
   ]
  },
  {
   "cell_type": "code",
   "execution_count": null,
   "metadata": {},
   "outputs": [],
   "source": [
    "log_clf = LogisticRegression()\n",
    "rnd_clf = RandomForestClassifier()"
   ]
  },
  {
   "cell_type": "code",
   "execution_count": null,
   "metadata": {},
   "outputs": [],
   "source": [
    "voting_clf = VotingClassifier(estimators=[('lr', log_clf), ('rf', rnd_clf)],\n",
    "                              voting='soft')\n",
    "voting_clf.fit(X_train, y_train)"
   ]
  },
  {
   "cell_type": "markdown",
   "metadata": {},
   "source": [
    "### How does it stand up?"
   ]
  },
  {
   "cell_type": "code",
   "execution_count": null,
   "metadata": {},
   "outputs": [],
   "source": [
    "for clf in (log_clf, rnd_clf, voting_clf):\n",
    "    clf.fit(X_train, y_train)\n",
    "    y_pred = clf.predict(X_test)\n",
    "    print(clf.__class__.__name__, accuracy_score(y_test, y_pred))"
   ]
  },
  {
   "cell_type": "code",
   "execution_count": null,
   "metadata": {},
   "outputs": [],
   "source": []
  },
  {
   "cell_type": "markdown",
   "metadata": {},
   "source": [
    "# Fitting models on different features: INCOMPLETE#"
   ]
  },
  {
   "cell_type": "code",
   "execution_count": 9,
   "metadata": {},
   "outputs": [],
   "source": [
    "def fit_multiple_estimators(classifiers, X_list, y_list, sample_weights = None):\n",
    "    \n",
    "    # Convert the labels `y` using LabelEncoder, because the predict method is using index-based pointers\n",
    "    # which will be converted back to original data later.\n",
    "    for y in y_list:\n",
    "        le_ = LabelEncoder()\n",
    "        le_.fit(y)\n",
    "        transformed_y = le_.transform(y)\n",
    "        # Fit all estimators with their respective feature arrays\n",
    "        estimators_ = [clf.fit(X, y) if sample_weights is None else clf.fit(X, y, sample_weights) for clf, X, y in zip([clf for _, clf in classifiers], X_list, y_list)]\n",
    "        \n",
    "    return estimators_, le_\n",
    "\n",
    "\n",
    "def predict_from_multiple_estimator(estimators, label_encoder, X_list, weights = None):\n",
    "\n",
    "    # Predict 'soft' voting with probabilities\n",
    "\n",
    "    pred1 = np.asarray([clf.predict_proba(X) for clf, X in zip(estimators, X_list)])\n",
    "    pred2 = np.average(pred1, axis=0, weights=weights)\n",
    "    pred = np.argmax(pred2, axis=1)\n",
    "\n",
    "    # Convert integer predictions to original labels:\n",
    "    return label_encoder.inverse_transform(pred)"
   ]
  },
  {
   "cell_type": "markdown",
   "metadata": {},
   "source": [
    "### Get the data \n",
    "(labels just to match the code, will fix later)"
   ]
  },
  {
   "cell_type": "code",
   "execution_count": 3,
   "metadata": {},
   "outputs": [],
   "source": [
    "data_train1 = pd.read_csv('../../../Source/Data/train_data_reaugmented_pad_energy.csv')\n",
    "X_train1 = data_train1.iloc[:,2:]\n",
    "y_train1 = []\n",
    "for num in data_train1['Labels']:\n",
    "    if num == 0:\n",
    "        y_train1.append('Ball_change')\n",
    "    if num == 1:\n",
    "        y_train1.append('Shuffle')\n",
    "        \n",
    "data_test1 = pd.read_csv('../../../Source/Data/TEST_data_pad_energy.csv')\n",
    "X_test1 = data_test1.iloc[:,2:]\n",
    "y_test1 = []\n",
    "for num in data_test1['Labels']:\n",
    "    if num == 0:\n",
    "        y_test1.append('Ball_change')\n",
    "    if num == 1:\n",
    "        y_test1.append('Shuffle')"
   ]
  },
  {
   "cell_type": "code",
   "execution_count": 4,
   "metadata": {},
   "outputs": [],
   "source": [
    "data_train2 = pd.read_csv('../../../Source/Data/train_data_reaugmented_pad_rmse.csv')\n",
    "X_train2 = data_train2.iloc[:,2:]\n",
    "y_train2 = []\n",
    "for num in data_train2['Labels']:\n",
    "    if num == 0:\n",
    "        y_train2.append('Ball_change')\n",
    "    if num == 1:\n",
    "        y_train2.append('Shuffle')\n",
    "        \n",
    "data_test2 = pd.read_csv('../../../Source/Data/TEST_data_pad_rmse.csv')\n",
    "X_test2 = data_test2.iloc[:,2:]\n",
    "y_test2 = []\n",
    "for num in data_test2['Labels']:\n",
    "    if num == 0:\n",
    "        y_test2.append('Ball_change')\n",
    "    if num == 1:\n",
    "        y_test2.append('Shuffle')"
   ]
  },
  {
   "cell_type": "code",
   "execution_count": 5,
   "metadata": {},
   "outputs": [],
   "source": [
    "data_train3 = pd.read_csv('../../../Source/Data/train_data_reaugmented_pad_mfcc.csv')\n",
    "X_train3 = data_train3.iloc[:,2:]\n",
    "y_train3 = []\n",
    "for num in data_train3['Labels']:\n",
    "    if num == 0:\n",
    "        y_train3.append('Ball_change')\n",
    "    if num == 1:\n",
    "        y_train3.append('Shuffle')\n",
    "        \n",
    "data_test3 = pd.read_csv('../../../Source/Data/TEST_data_pad_mfcc.csv')\n",
    "X_test3 = data_test3.iloc[:,2:]\n",
    "y_test3 = []\n",
    "for num in data_test3['Labels']:\n",
    "    if num == 0:\n",
    "        y_test3.append('Ball_change')\n",
    "    if num == 1:\n",
    "        y_test3.append('Shuffle')"
   ]
  },
  {
   "cell_type": "code",
   "execution_count": 6,
   "metadata": {},
   "outputs": [],
   "source": [
    "data_train4 = pd.read_csv('../../../Source/Data/train_data_reaugmented_pad_zcr.csv')\n",
    "X_train4 = data_train4.iloc[:,2:]\n",
    "y_train4 = []\n",
    "for num in data_train4['Labels']:\n",
    "    if num == 0:\n",
    "        y_train4.append('Ball_change')\n",
    "    if num == 1:\n",
    "        y_train4.append('Shuffle')\n",
    "        \n",
    "data_test4 = pd.read_csv('../../../Source/Data/TEST_data_pad_zcr.csv')\n",
    "X_test4 = data_test4.iloc[:,2:]\n",
    "y_test4 = []\n",
    "for num in data_test4['Labels']:\n",
    "    if num == 0:\n",
    "        y_test4.append('Ball_change')\n",
    "    if num == 1:\n",
    "        y_test4.append('Shuffle')"
   ]
  },
  {
   "cell_type": "code",
   "execution_count": 11,
   "metadata": {},
   "outputs": [],
   "source": [
    "X_train_list = [X_train1, X_train2, X_train3, X_train4]\n",
    "X_test_list = [X_test1, X_test2, X_test3, X_test4]\n",
    "\n",
    "y_train_list = [y_train1, y_train2, y_train3, y_train4]\n",
    "y_test_list = [y_test1, y_test2, y_test3, y_test4]"
   ]
  },
  {
   "cell_type": "code",
   "execution_count": 30,
   "metadata": {},
   "outputs": [],
   "source": [
    "classifiers = [ ('rdmfst1', RandomForestClassifier()),\n",
    "               ('rdmfst2', RandomForestClassifier()),\n",
    "               ('rdmfst3', RandomForestClassifier()),\n",
    "               ('rdmfst4', RandomForestClassifier())]\n",
    "\n",
    "classifiers = [ (RandomForestClassifier()),\n",
    "               (RandomForestClassifier()),\n",
    "               (RandomForestClassifier()),\n",
    "               (RandomForestClassifier())]"
   ]
  },
  {
   "cell_type": "code",
   "execution_count": 13,
   "metadata": {},
   "outputs": [],
   "source": [
    "fitted_estimators, label_encoder = fit_multiple_estimators(classifiers, X_train_list, y_train_list)"
   ]
  },
  {
   "cell_type": "code",
   "execution_count": null,
   "metadata": {},
   "outputs": [],
   "source": []
  },
  {
   "cell_type": "code",
   "execution_count": 38,
   "metadata": {},
   "outputs": [],
   "source": [
    "#fitted_models ={}\n",
    "fitted_models = []\n",
    "for i in range (len(classifiers)):\n",
    "    #fitted_models[str(i)] = classifiers[i].fit(X_train_list[i], y_train_list[i])\n",
    "    fitted_models.append(classifiers[i].fit(X_train_list[i], y_train_list[i]))"
   ]
  },
  {
   "cell_type": "code",
   "execution_count": 39,
   "metadata": {},
   "outputs": [
    {
     "data": {
      "text/plain": [
       "RandomForestClassifier(bootstrap=True, class_weight=None, criterion='gini',\n",
       "            max_depth=None, max_features='auto', max_leaf_nodes=None,\n",
       "            min_impurity_decrease=0.0, min_impurity_split=None,\n",
       "            min_samples_leaf=1, min_samples_split=2,\n",
       "            min_weight_fraction_leaf=0.0, n_estimators=10, n_jobs=1,\n",
       "            oob_score=False, random_state=None, verbose=0,\n",
       "            warm_start=False)"
      ]
     },
     "execution_count": 39,
     "metadata": {},
     "output_type": "execute_result"
    }
   ],
   "source": [
    "fitted_models[0]"
   ]
  },
  {
   "cell_type": "code",
   "execution_count": 47,
   "metadata": {},
   "outputs": [],
   "source": [
    "pred1 = np.asarray([clf.predict_proba(X) for clf, X in zip(fitted_models, X_test_list)])\n",
    "pred2 = np.average(pred1, axis=0) # But my test data is from other data sets??? This won't work!\n",
    "pred = np.argmax(pred2, axis=1)\n",
    "\n"
   ]
  },
  {
   "cell_type": "code",
   "execution_count": null,
   "metadata": {},
   "outputs": [],
   "source": []
  },
  {
   "cell_type": "code",
   "execution_count": null,
   "metadata": {},
   "outputs": [],
   "source": []
  },
  {
   "cell_type": "code",
   "execution_count": null,
   "metadata": {},
   "outputs": [],
   "source": []
  }
 ],
 "metadata": {
  "kernelspec": {
   "display_name": "Python 3",
   "language": "python",
   "name": "python3"
  },
  "language_info": {
   "codemirror_mode": {
    "name": "ipython",
    "version": 3
   },
   "file_extension": ".py",
   "mimetype": "text/x-python",
   "name": "python",
   "nbconvert_exporter": "python",
   "pygments_lexer": "ipython3",
   "version": "3.6.5"
  }
 },
 "nbformat": 4,
 "nbformat_minor": 2
}
