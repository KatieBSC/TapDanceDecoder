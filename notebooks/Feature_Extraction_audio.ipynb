{
 "cells": [
  {
   "cell_type": "markdown",
   "metadata": {},
   "source": [
    "## Feature Extraction, New and Improved"
   ]
  },
  {
   "cell_type": "code",
   "execution_count": 92,
   "metadata": {},
   "outputs": [],
   "source": [
    "import pandas as pd\n",
    "import numpy as np\n",
    "import matplotlib.pyplot as plt\n",
    "import librosa.display\n",
    "from pathlib import Path\n",
    "from sklearn.model_selection import train_test_split\n",
    "from pydub import AudioSegment\n",
    "from scipy.fftpack import fft, dct"
   ]
  },
  {
   "cell_type": "markdown",
   "metadata": {},
   "source": [
    "---"
   ]
  },
  {
   "cell_type": "markdown",
   "metadata": {},
   "source": [
    "## Visualize audio data with librosa"
   ]
  },
  {
   "cell_type": "code",
   "execution_count": null,
   "metadata": {},
   "outputs": [],
   "source": [
    "y, sr = librosa.load('../../../Source/Shuffle_test/1/1_pad.wav')\n",
    "D = np.abs(librosa.stft(y))\n",
    "\n",
    "# Using left-aligned frames\n",
    "D_left = np.abs(librosa.stft(y,center=False))\n",
    "\n",
    "# Using a shorter hop length\n",
    "D_short = np.abs(librosa.stft(y, n_fft=n_fft,hop_length=64)) # defaults to win_length(or n_fft)/4.\n",
    "\n",
    "\n",
    "\n",
    "#librosa.display.specshow(D_left);\n",
    "#librosa.display.specshow(D_short);\n",
    "\n",
    "# Wave plot\n",
    "plt.figure(figsize=(8,6))\n",
    "plt.subplot(221)\n",
    "librosa.display.waveplot(y, sr=sample_rate)\n",
    "plt.title('Raw data: amplitude')\n",
    "\n",
    "# Power spectrogram with abs(stft(y))^2\n",
    "plt.subplot(222)\n",
    "librosa.display.specshow(D**2, sr=sr, y_axis='log')\n",
    "plt.colorbar()\n",
    "plt.title('Power spectrogram')\n",
    "\n",
    "# Log power with power_to_db\n",
    "plt.subplot(223)\n",
    "librosa.display.specshow(librosa.power_to_db(D**2,ref=np.max),sr=sr, y_axis='log', x_axis='time')\n",
    "plt.title('Log power spectrogram')\n",
    "plt.colorbar(format='%+2.0f dB')\n",
    "\n",
    "# Mel spectrogram \n",
    "plt.subplot(224)\n",
    "librosa.display.specshow(librosa.power_to_db(D**2,ref=np.max),\n",
    "                         y_axis='mel', fmax=8000, x_axis='time')\n",
    "plt.colorbar(format='%+2.0f dB')\n",
    "plt.title('Mel spectrogram');\n",
    "plt.tight_layout()\n",
    "\n",
    "\n",
    "\n",
    "#y, sr = librosa.load('../../../workout.wav')\n",
    "#D = np.abs(librosa.stft(y))**2\n",
    "#S = librosa.feature.melspectrogram(S=D)\n",
    "#\n",
    "#\n",
    "#plt.figure(figsize=(10, 4))\n",
    "#librosa.display.specshow(librosa.power_to_db(S,ref=np.max),\n",
    "#                         y_axis='mel', fmax=8000, x_axis='time')\n",
    "#plt.colorbar(format='%+2.0f dB')\n",
    "#plt.title('Mel spectrogram: (\"Workout\" by Chance the rapper)')\n",
    "#plt.tight_layout()"
   ]
  },
  {
   "cell_type": "markdown",
   "metadata": {},
   "source": [
    "---"
   ]
  },
  {
   "cell_type": "markdown",
   "metadata": {},
   "source": [
    "## Pad samples with zeros to create equal length"
   ]
  },
  {
   "cell_type": "code",
   "execution_count": 93,
   "metadata": {},
   "outputs": [],
   "source": [
    "path_col = []\n",
    "pathlist = Path('../../../Source/Clean_train_clips/Re_augmented_pad').glob('**/*.wav')\n",
    "#pathlist = Path('../../../Source/Clean_train_clips/Test_pad').glob('**/*.wav')\n",
    "for path in pathlist:\n",
    "    path_col.append(path)"
   ]
  },
  {
   "cell_type": "code",
   "execution_count": 39,
   "metadata": {},
   "outputs": [],
   "source": [
    "# Test Data \n",
    "#X_reserve = pd.read_csv('../../../Source/Data/X_test_reserved.csv')\n",
    "\n",
    "\n",
    "#path_col = []\n",
    "#for i in range (len(X_reserve)):\n",
    "#    path_col.append(Path(X_ddd.loc[i,'Path']))\n",
    "#"
   ]
  },
  {
   "cell_type": "code",
   "execution_count": 94,
   "metadata": {},
   "outputs": [
    {
     "data": {
      "text/plain": [
       "912"
      ]
     },
     "execution_count": 94,
     "metadata": {},
     "output_type": "execute_result"
    }
   ],
   "source": [
    "#path_col\n",
    "len(path_col)"
   ]
  },
  {
   "cell_type": "code",
   "execution_count": 38,
   "metadata": {},
   "outputs": [
    {
     "name": "stdout",
     "output_type": "stream",
     "text": [
      "20772\n"
     ]
    }
   ],
   "source": [
    "length_list = []\n",
    "for i in range (len(path_col)):\n",
    "    samples, sample_rate = librosa.load(path_col[i])\n",
    "    length_list.append(len(samples))\n",
    "max_length = max(length_list)\n",
    "print(max_length)"
   ]
  },
  {
   "cell_type": "code",
   "execution_count": 59,
   "metadata": {},
   "outputs": [],
   "source": [
    "def pad_signal(path, length):\n",
    "    samples, sample_rate = librosa.load(path)\n",
    "    #name = str(path)[:34] + \"Test_pad/\" + str(path)[34:]\n",
    "    #name = path\n",
    "    if len(samples) < length:\n",
    "        y = librosa.util.pad_center(samples, length ,axis=0) \n",
    "    else:\n",
    "        y = samples\n",
    "    return librosa.output.write_wav(path=name, y=y, sr=sample_rate)"
   ]
  },
  {
   "cell_type": "code",
   "execution_count": 60,
   "metadata": {},
   "outputs": [],
   "source": [
    "# Pad with silence and resave (saving over file)\n",
    "#max_length = 20772\n",
    "#for i in range(len(path_col)):\n",
    "#    pad_signal(path_col[i], max_length)"
   ]
  },
  {
   "cell_type": "code",
   "execution_count": 63,
   "metadata": {},
   "outputs": [
    {
     "name": "stdout",
     "output_type": "stream",
     "text": [
      "0.9420408163265306\n",
      "0.9420408163265306\n",
      "0.9420408163265306\n",
      "0.9420408163265306\n",
      "0.9420408163265306\n",
      "0.9420408163265306\n",
      "0.9420408163265306\n",
      "0.9420408163265306\n",
      "0.9420408163265306\n",
      "0.9420408163265306\n",
      "0.9420408163265306\n",
      "0.9420408163265306\n",
      "0.9420408163265306\n",
      "0.9420408163265306\n",
      "0.9420408163265306\n",
      "0.9420408163265306\n",
      "0.9420408163265306\n",
      "0.9420408163265306\n",
      "0.9420408163265306\n",
      "0.9420408163265306\n",
      "0.9420408163265306\n",
      "0.9420408163265306\n",
      "0.9420408163265306\n",
      "0.9420408163265306\n",
      "0.9420408163265306\n",
      "0.9420408163265306\n",
      "0.9420408163265306\n",
      "0.9420408163265306\n",
      "0.9420408163265306\n",
      "0.9420408163265306\n",
      "0.9420408163265306\n",
      "0.9420408163265306\n",
      "0.9420408163265306\n",
      "0.9420408163265306\n",
      "0.9420408163265306\n",
      "0.9420408163265306\n",
      "0.9420408163265306\n",
      "0.9420408163265306\n",
      "0.9420408163265306\n",
      "0.9420408163265306\n",
      "0.9420408163265306\n",
      "0.9420408163265306\n",
      "0.9420408163265306\n",
      "0.9420408163265306\n",
      "0.9420408163265306\n",
      "0.9420408163265306\n",
      "0.9420408163265306\n",
      "0.9420408163265306\n",
      "0.9420408163265306\n",
      "0.9420408163265306\n",
      "0.9420408163265306\n",
      "0.9420408163265306\n",
      "0.9420408163265306\n",
      "0.9420408163265306\n",
      "0.9420408163265306\n",
      "0.9420408163265306\n",
      "0.9420408163265306\n",
      "0.9420408163265306\n",
      "0.9420408163265306\n",
      "0.9420408163265306\n",
      "0.9420408163265306\n",
      "0.9420408163265306\n",
      "0.9420408163265306\n",
      "0.9420408163265306\n",
      "0.9420408163265306\n",
      "0.9420408163265306\n",
      "0.9420408163265306\n",
      "0.9420408163265306\n",
      "0.9420408163265306\n",
      "0.9420408163265306\n",
      "0.9420408163265306\n",
      "0.9420408163265306\n",
      "0.9420408163265306\n",
      "0.9420408163265306\n",
      "0.9420408163265306\n",
      "0.9420408163265306\n",
      "0.9420408163265306\n",
      "0.9420408163265306\n",
      "0.9420408163265306\n",
      "0.9420408163265306\n",
      "0.9420408163265306\n",
      "0.9420408163265306\n",
      "0.9420408163265306\n",
      "0.9420408163265306\n",
      "0.9420408163265306\n",
      "0.9420408163265306\n",
      "0.9420408163265306\n",
      "0.9420408163265306\n",
      "0.9420408163265306\n",
      "0.9420408163265306\n",
      "0.9420408163265306\n",
      "0.9420408163265306\n",
      "0.9420408163265306\n",
      "0.9420408163265306\n",
      "0.9420408163265306\n",
      "0.9420408163265306\n",
      "0.9420408163265306\n",
      "0.9420408163265306\n",
      "0.9420408163265306\n",
      "0.9420408163265306\n",
      "0.9420408163265306\n",
      "0.9420408163265306\n",
      "0.9420408163265306\n",
      "0.9420408163265306\n",
      "0.9420408163265306\n",
      "0.9420408163265306\n",
      "0.9420408163265306\n",
      "0.9420408163265306\n",
      "0.9420408163265306\n",
      "0.9420408163265306\n",
      "0.9420408163265306\n",
      "0.9420408163265306\n",
      "0.9420408163265306\n",
      "0.9420408163265306\n",
      "0.9420408163265306\n"
     ]
    }
   ],
   "source": [
    "# Check if it worked\n",
    "for path in path_col:\n",
    "    samples, sample_rate = librosa.load(path)\n",
    "    print(librosa.core.get_duration(y=samples, sr=sample_rate))\n"
   ]
  },
  {
   "cell_type": "code",
   "execution_count": null,
   "metadata": {},
   "outputs": [],
   "source": []
  },
  {
   "cell_type": "code",
   "execution_count": null,
   "metadata": {},
   "outputs": [],
   "source": []
  },
  {
   "cell_type": "code",
   "execution_count": null,
   "metadata": {},
   "outputs": [],
   "source": []
  },
  {
   "cell_type": "markdown",
   "metadata": {},
   "source": [
    "---"
   ]
  },
  {
   "cell_type": "markdown",
   "metadata": {},
   "source": [
    "# Feature Extraction: exploration\n",
    "## Tempo"
   ]
  },
  {
   "cell_type": "markdown",
   "metadata": {},
   "source": [
    "Let's try it with a stretched and unstretched sample"
   ]
  },
  {
   "cell_type": "code",
   "execution_count": null,
   "metadata": {},
   "outputs": [],
   "source": [
    "fast_clip = ('../../../Source/Clean_train_clips/Shuffle/1/1.wav')\n",
    "slow_clip = ('../../../Source/Clean_train_clips/Augmented/Shuffle/1/1_stretch.wav') "
   ]
  },
  {
   "cell_type": "code",
   "execution_count": null,
   "metadata": {},
   "outputs": [],
   "source": [
    "def get_features_bpm(path): \n",
    "    samples, sample_rate = librosa.load(path)\n",
    "    onset_env = librosa.onset.onset_strength(samples, sr=sample_rate) # Assumes static tempo, for dynamic: aggregate=None\n",
    "    tempo = librosa.beat.tempo(onset_envelope=onset_env, sr=sample_rate)\n",
    "    return tempo.item()\n"
   ]
  },
  {
   "cell_type": "code",
   "execution_count": null,
   "metadata": {},
   "outputs": [],
   "source": [
    "get_features_bpm(slow_clip), get_features_bpm(fast_clip)"
   ]
  },
  {
   "cell_type": "code",
   "execution_count": null,
   "metadata": {},
   "outputs": [],
   "source": []
  },
  {
   "cell_type": "markdown",
   "metadata": {},
   "source": [
    "## Short-time Fourier transform (STFT)"
   ]
  },
  {
   "cell_type": "markdown",
   "metadata": {},
   "source": [
    "From librosa documentation: <br/>\n",
    "Returns a complex-valued matrix D such that\n",
    "np.abs(D[f, t]) is the magnitude of frequency bin f at frame t"
   ]
  },
  {
   "cell_type": "code",
   "execution_count": null,
   "metadata": {},
   "outputs": [],
   "source": [
    "n_fft = 2048 # default 2048\n"
   ]
  },
  {
   "cell_type": "code",
   "execution_count": null,
   "metadata": {},
   "outputs": [],
   "source": [
    "def get_features_stft (path):\n",
    "        y, sr = librosa.load(path)\n",
    "        D = np.abs(librosa.stft(y))\n",
    "        return D"
   ]
  },
  {
   "cell_type": "code",
   "execution_count": null,
   "metadata": {},
   "outputs": [],
   "source": []
  },
  {
   "cell_type": "markdown",
   "metadata": {},
   "source": [
    "## Mel-frequency cepstral coefficients "
   ]
  },
  {
   "cell_type": "code",
   "execution_count": 97,
   "metadata": {},
   "outputs": [],
   "source": [
    "n_mfcc = 20 "
   ]
  },
  {
   "cell_type": "code",
   "execution_count": 98,
   "metadata": {},
   "outputs": [],
   "source": [
    "def get_features_mfcc(path):\n",
    "    samples, sample_rate = librosa.load(path)\n",
    "    mfccs = np.mean(librosa.feature.mfcc(y=samples, sr=sample_rate, n_mfcc=n_mfcc).T,axis=0)\n",
    "    return mfccs"
   ]
  },
  {
   "cell_type": "code",
   "execution_count": null,
   "metadata": {},
   "outputs": [],
   "source": []
  },
  {
   "cell_type": "markdown",
   "metadata": {},
   "source": [
    "## Zero crossing rate\n",
    "Use with padded samples of equal length"
   ]
  },
  {
   "cell_type": "code",
   "execution_count": 64,
   "metadata": {},
   "outputs": [],
   "source": [
    "def get_features_ZCR(path):\n",
    "    samples, sample_rate = librosa.load(path)\n",
    "    return librosa.feature.zero_crossing_rate(samples, frame_length=250, hop_length=125)"
   ]
  },
  {
   "cell_type": "code",
   "execution_count": 68,
   "metadata": {},
   "outputs": [],
   "source": [
    "test_path = ('../../../Source/Clean_train_clips/Test_pad/Shuffle/1/10.wav')"
   ]
  },
  {
   "cell_type": "code",
   "execution_count": 69,
   "metadata": {},
   "outputs": [],
   "source": [
    "zcr_length = get_features_ZCR(test_path).shape[1]"
   ]
  },
  {
   "cell_type": "code",
   "execution_count": 70,
   "metadata": {},
   "outputs": [
    {
     "data": {
      "text/plain": [
       "167"
      ]
     },
     "execution_count": 70,
     "metadata": {},
     "output_type": "execute_result"
    }
   ],
   "source": [
    "zcr_length"
   ]
  },
  {
   "cell_type": "markdown",
   "metadata": {},
   "source": [
    "---"
   ]
  },
  {
   "cell_type": "markdown",
   "metadata": {},
   "source": [
    "## Feature Extraction: implementation\n",
    "(Organized in a DataFrame)"
   ]
  },
  {
   "cell_type": "code",
   "execution_count": 99,
   "metadata": {},
   "outputs": [],
   "source": [
    "def build_list(step, folder, length):\n",
    "    i = 1\n",
    "    step_list = []\n",
    "    while i <= length :\n",
    "        name = step + \"/\" + str(folder) + \"/\" +str(i) + \".wav\"\n",
    "        step_list.append(name)\n",
    "        i += 1\n",
    "    return step_list\n",
    "\n",
    "def get_label(path):\n",
    "    if path.parts[-3] == 'Shuffle':\n",
    "        return 1\n",
    "    else:\n",
    "        return 0"
   ]
  },
  {
   "cell_type": "markdown",
   "metadata": {},
   "source": [
    "---"
   ]
  },
  {
   "cell_type": "markdown",
   "metadata": {},
   "source": [
    "### Load Training Data"
   ]
  },
  {
   "cell_type": "code",
   "execution_count": 100,
   "metadata": {},
   "outputs": [],
   "source": [
    "shuffle_col, bc_col, path_col = [], [], []"
   ]
  },
  {
   "cell_type": "code",
   "execution_count": 101,
   "metadata": {},
   "outputs": [],
   "source": [
    "pathlist = Path('../../../Source/Clean_train_clips/Test_pad/Shuffle').glob('**/*.wav')\n",
    "for path in pathlist:\n",
    "    shuffle_col.append(path)\n",
    "    shuffle_col.sort()"
   ]
  },
  {
   "cell_type": "code",
   "execution_count": 102,
   "metadata": {},
   "outputs": [],
   "source": [
    "pathlist = Path('../../../Source/Clean_train_clips/Test_pad/Ball_change').glob('**/*.wav')\n",
    "for path in pathlist:\n",
    "    bc_col.append(path)\n",
    "    bc_col.sort()"
   ]
  },
  {
   "cell_type": "code",
   "execution_count": null,
   "metadata": {},
   "outputs": [],
   "source": [
    "#untrans_path_col = []\n",
    "#train_untransform = pd.read_csv('../../../Source/Data/X_train_preAugmented.csv')\n",
    "#for i in range ( len(train_untransform)):\n",
    "#    untrans_path_col.append(Path(train_untransform.loc[i, 'Path']))"
   ]
  },
  {
   "cell_type": "code",
   "execution_count": 103,
   "metadata": {},
   "outputs": [],
   "source": [
    "path_col = shuffle_col + bc_col #+ untran's_path_col"
   ]
  },
  {
   "cell_type": "code",
   "execution_count": 104,
   "metadata": {},
   "outputs": [
    {
     "data": {
      "text/plain": [
       "115"
      ]
     },
     "execution_count": 104,
     "metadata": {},
     "output_type": "execute_result"
    }
   ],
   "source": [
    "len(path_col)"
   ]
  },
  {
   "cell_type": "markdown",
   "metadata": {},
   "source": [
    "** Create DataFrame from file paths **"
   ]
  },
  {
   "cell_type": "code",
   "execution_count": 105,
   "metadata": {},
   "outputs": [
    {
     "data": {
      "text/plain": [
       "(115, 1)"
      ]
     },
     "execution_count": 105,
     "metadata": {},
     "output_type": "execute_result"
    }
   ],
   "source": [
    "tap = pd.DataFrame({'Path':path_col})\n",
    "tap.shape"
   ]
  },
  {
   "cell_type": "markdown",
   "metadata": {},
   "source": [
    "---"
   ]
  },
  {
   "cell_type": "markdown",
   "metadata": {},
   "source": [
    "### OR load (reserved) Test Data"
   ]
  },
  {
   "cell_type": "code",
   "execution_count": null,
   "metadata": {},
   "outputs": [],
   "source": [
    "#test_data = pd.read_csv('../../../Source/Data/X_test_reserved.csv')\n",
    "#test_labels = pd.read_csv('../../../Source/Data/y_test_reserved.csv')"
   ]
  },
  {
   "cell_type": "code",
   "execution_count": null,
   "metadata": {},
   "outputs": [],
   "source": [
    "# tap = test_data"
   ]
  },
  {
   "cell_type": "code",
   "execution_count": null,
   "metadata": {},
   "outputs": [],
   "source": []
  },
  {
   "cell_type": "code",
   "execution_count": null,
   "metadata": {},
   "outputs": [],
   "source": []
  },
  {
   "cell_type": "markdown",
   "metadata": {},
   "source": [
    "---"
   ]
  },
  {
   "cell_type": "markdown",
   "metadata": {},
   "source": [
    "**Add labels**"
   ]
  },
  {
   "cell_type": "code",
   "execution_count": 106,
   "metadata": {},
   "outputs": [],
   "source": [
    "tap['Labels'] = [get_label(tap.loc[idx,'Path']) for idx in range(len(tap))]"
   ]
  },
  {
   "cell_type": "code",
   "execution_count": 107,
   "metadata": {},
   "outputs": [
    {
     "data": {
      "text/html": [
       "<div>\n",
       "<style scoped>\n",
       "    .dataframe tbody tr th:only-of-type {\n",
       "        vertical-align: middle;\n",
       "    }\n",
       "\n",
       "    .dataframe tbody tr th {\n",
       "        vertical-align: top;\n",
       "    }\n",
       "\n",
       "    .dataframe thead th {\n",
       "        text-align: right;\n",
       "    }\n",
       "</style>\n",
       "<table border=\"1\" class=\"dataframe\">\n",
       "  <thead>\n",
       "    <tr style=\"text-align: right;\">\n",
       "      <th></th>\n",
       "      <th>Path</th>\n",
       "      <th>Labels</th>\n",
       "    </tr>\n",
       "  </thead>\n",
       "  <tbody>\n",
       "    <tr>\n",
       "      <th>0</th>\n",
       "      <td>../../../Source/Clean_train_clips/Test_pad/Shu...</td>\n",
       "      <td>1</td>\n",
       "    </tr>\n",
       "    <tr>\n",
       "      <th>1</th>\n",
       "      <td>../../../Source/Clean_train_clips/Test_pad/Shu...</td>\n",
       "      <td>1</td>\n",
       "    </tr>\n",
       "    <tr>\n",
       "      <th>2</th>\n",
       "      <td>../../../Source/Clean_train_clips/Test_pad/Shu...</td>\n",
       "      <td>1</td>\n",
       "    </tr>\n",
       "    <tr>\n",
       "      <th>3</th>\n",
       "      <td>../../../Source/Clean_train_clips/Test_pad/Shu...</td>\n",
       "      <td>1</td>\n",
       "    </tr>\n",
       "    <tr>\n",
       "      <th>4</th>\n",
       "      <td>../../../Source/Clean_train_clips/Test_pad/Shu...</td>\n",
       "      <td>1</td>\n",
       "    </tr>\n",
       "  </tbody>\n",
       "</table>\n",
       "</div>"
      ],
      "text/plain": [
       "                                                Path  Labels\n",
       "0  ../../../Source/Clean_train_clips/Test_pad/Shu...       1\n",
       "1  ../../../Source/Clean_train_clips/Test_pad/Shu...       1\n",
       "2  ../../../Source/Clean_train_clips/Test_pad/Shu...       1\n",
       "3  ../../../Source/Clean_train_clips/Test_pad/Shu...       1\n",
       "4  ../../../Source/Clean_train_clips/Test_pad/Shu...       1"
      ]
     },
     "execution_count": 107,
     "metadata": {},
     "output_type": "execute_result"
    }
   ],
   "source": [
    "tap.head()"
   ]
  },
  {
   "cell_type": "markdown",
   "metadata": {},
   "source": [
    "**Add Features: MFCCs**"
   ]
  },
  {
   "cell_type": "code",
   "execution_count": 108,
   "metadata": {},
   "outputs": [],
   "source": [
    "# TOO SLOW!\n",
    "#for i in range (n_mfcc):\n",
    "#    tap[str(i)] = [get_features_mfcc(tap.loc[idx, 'Path'])[i] for idx in range (len(tap))]"
   ]
  },
  {
   "cell_type": "code",
   "execution_count": 109,
   "metadata": {},
   "outputs": [],
   "source": [
    "# Create an empty dataframe to fill with MFCC values\n",
    "d = pd.DataFrame(np.zeros((len(tap), n_mfcc)))\n",
    "tap = pd.concat([tap, d], axis=1)"
   ]
  },
  {
   "cell_type": "code",
   "execution_count": 110,
   "metadata": {},
   "outputs": [],
   "source": [
    "# Add feature to DataFrame\n",
    "for j in range (len(tap))  :  \n",
    "    s = get_features_mfcc(tap.loc[j,'Path'])\n",
    "    for i in range (n_mfcc):\n",
    "        tap.iat[j,i+2] = s[i]"
   ]
  },
  {
   "cell_type": "code",
   "execution_count": 111,
   "metadata": {},
   "outputs": [
    {
     "data": {
      "text/html": [
       "<div>\n",
       "<style scoped>\n",
       "    .dataframe tbody tr th:only-of-type {\n",
       "        vertical-align: middle;\n",
       "    }\n",
       "\n",
       "    .dataframe tbody tr th {\n",
       "        vertical-align: top;\n",
       "    }\n",
       "\n",
       "    .dataframe thead th {\n",
       "        text-align: right;\n",
       "    }\n",
       "</style>\n",
       "<table border=\"1\" class=\"dataframe\">\n",
       "  <thead>\n",
       "    <tr style=\"text-align: right;\">\n",
       "      <th></th>\n",
       "      <th>Path</th>\n",
       "      <th>Labels</th>\n",
       "      <th>0</th>\n",
       "      <th>1</th>\n",
       "      <th>2</th>\n",
       "      <th>3</th>\n",
       "      <th>4</th>\n",
       "      <th>5</th>\n",
       "      <th>6</th>\n",
       "      <th>7</th>\n",
       "      <th>...</th>\n",
       "      <th>10</th>\n",
       "      <th>11</th>\n",
       "      <th>12</th>\n",
       "      <th>13</th>\n",
       "      <th>14</th>\n",
       "      <th>15</th>\n",
       "      <th>16</th>\n",
       "      <th>17</th>\n",
       "      <th>18</th>\n",
       "      <th>19</th>\n",
       "    </tr>\n",
       "  </thead>\n",
       "  <tbody>\n",
       "    <tr>\n",
       "      <th>0</th>\n",
       "      <td>../../../Source/Clean_train_clips/Test_pad/Shu...</td>\n",
       "      <td>1</td>\n",
       "      <td>-335.976138</td>\n",
       "      <td>43.414944</td>\n",
       "      <td>-68.477188</td>\n",
       "      <td>21.008180</td>\n",
       "      <td>-4.408123</td>\n",
       "      <td>-2.970243</td>\n",
       "      <td>-19.639680</td>\n",
       "      <td>-0.455080</td>\n",
       "      <td>...</td>\n",
       "      <td>-12.835432</td>\n",
       "      <td>-8.566720</td>\n",
       "      <td>-0.702506</td>\n",
       "      <td>-5.645249</td>\n",
       "      <td>-9.004763</td>\n",
       "      <td>-0.480133</td>\n",
       "      <td>-4.021731</td>\n",
       "      <td>-9.929621</td>\n",
       "      <td>-2.359306</td>\n",
       "      <td>-1.650723</td>\n",
       "    </tr>\n",
       "    <tr>\n",
       "      <th>1</th>\n",
       "      <td>../../../Source/Clean_train_clips/Test_pad/Shu...</td>\n",
       "      <td>1</td>\n",
       "      <td>-351.007970</td>\n",
       "      <td>40.109784</td>\n",
       "      <td>-63.794729</td>\n",
       "      <td>23.560631</td>\n",
       "      <td>-2.753592</td>\n",
       "      <td>-0.453999</td>\n",
       "      <td>-15.169304</td>\n",
       "      <td>-3.271940</td>\n",
       "      <td>...</td>\n",
       "      <td>-20.223677</td>\n",
       "      <td>-6.160998</td>\n",
       "      <td>0.380872</td>\n",
       "      <td>-5.626927</td>\n",
       "      <td>-9.627007</td>\n",
       "      <td>-1.699224</td>\n",
       "      <td>-2.785877</td>\n",
       "      <td>-13.520097</td>\n",
       "      <td>-5.137728</td>\n",
       "      <td>-1.594331</td>\n",
       "    </tr>\n",
       "    <tr>\n",
       "      <th>2</th>\n",
       "      <td>../../../Source/Clean_train_clips/Test_pad/Shu...</td>\n",
       "      <td>1</td>\n",
       "      <td>-497.674053</td>\n",
       "      <td>19.656596</td>\n",
       "      <td>-27.546274</td>\n",
       "      <td>10.032751</td>\n",
       "      <td>-4.512792</td>\n",
       "      <td>0.937636</td>\n",
       "      <td>-7.593287</td>\n",
       "      <td>1.180707</td>\n",
       "      <td>...</td>\n",
       "      <td>-9.038659</td>\n",
       "      <td>-2.498340</td>\n",
       "      <td>3.109148</td>\n",
       "      <td>-5.935463</td>\n",
       "      <td>-2.240996</td>\n",
       "      <td>-2.418737</td>\n",
       "      <td>-3.276783</td>\n",
       "      <td>-6.091257</td>\n",
       "      <td>-0.218293</td>\n",
       "      <td>-3.540506</td>\n",
       "    </tr>\n",
       "    <tr>\n",
       "      <th>3</th>\n",
       "      <td>../../../Source/Clean_train_clips/Test_pad/Shu...</td>\n",
       "      <td>1</td>\n",
       "      <td>-367.690502</td>\n",
       "      <td>42.046789</td>\n",
       "      <td>-42.360295</td>\n",
       "      <td>15.060588</td>\n",
       "      <td>-14.119677</td>\n",
       "      <td>7.645445</td>\n",
       "      <td>-11.598609</td>\n",
       "      <td>-0.446276</td>\n",
       "      <td>...</td>\n",
       "      <td>-17.959095</td>\n",
       "      <td>-4.773915</td>\n",
       "      <td>-2.184383</td>\n",
       "      <td>-8.884320</td>\n",
       "      <td>-7.921833</td>\n",
       "      <td>-3.847076</td>\n",
       "      <td>-3.137474</td>\n",
       "      <td>-10.508543</td>\n",
       "      <td>-2.878794</td>\n",
       "      <td>-2.108435</td>\n",
       "    </tr>\n",
       "    <tr>\n",
       "      <th>4</th>\n",
       "      <td>../../../Source/Clean_train_clips/Test_pad/Shu...</td>\n",
       "      <td>1</td>\n",
       "      <td>-370.150079</td>\n",
       "      <td>49.300692</td>\n",
       "      <td>-44.129399</td>\n",
       "      <td>14.314299</td>\n",
       "      <td>-7.690344</td>\n",
       "      <td>3.293678</td>\n",
       "      <td>-19.717559</td>\n",
       "      <td>-2.202616</td>\n",
       "      <td>...</td>\n",
       "      <td>-15.074157</td>\n",
       "      <td>-1.624259</td>\n",
       "      <td>-0.397585</td>\n",
       "      <td>-7.367681</td>\n",
       "      <td>-4.400169</td>\n",
       "      <td>-4.383350</td>\n",
       "      <td>-5.219379</td>\n",
       "      <td>-8.893206</td>\n",
       "      <td>-1.945035</td>\n",
       "      <td>-0.631430</td>\n",
       "    </tr>\n",
       "  </tbody>\n",
       "</table>\n",
       "<p>5 rows × 22 columns</p>\n",
       "</div>"
      ],
      "text/plain": [
       "                                                Path  Labels           0  \\\n",
       "0  ../../../Source/Clean_train_clips/Test_pad/Shu...       1 -335.976138   \n",
       "1  ../../../Source/Clean_train_clips/Test_pad/Shu...       1 -351.007970   \n",
       "2  ../../../Source/Clean_train_clips/Test_pad/Shu...       1 -497.674053   \n",
       "3  ../../../Source/Clean_train_clips/Test_pad/Shu...       1 -367.690502   \n",
       "4  ../../../Source/Clean_train_clips/Test_pad/Shu...       1 -370.150079   \n",
       "\n",
       "           1          2          3          4         5          6         7  \\\n",
       "0  43.414944 -68.477188  21.008180  -4.408123 -2.970243 -19.639680 -0.455080   \n",
       "1  40.109784 -63.794729  23.560631  -2.753592 -0.453999 -15.169304 -3.271940   \n",
       "2  19.656596 -27.546274  10.032751  -4.512792  0.937636  -7.593287  1.180707   \n",
       "3  42.046789 -42.360295  15.060588 -14.119677  7.645445 -11.598609 -0.446276   \n",
       "4  49.300692 -44.129399  14.314299  -7.690344  3.293678 -19.717559 -2.202616   \n",
       "\n",
       "     ...            10        11        12        13        14        15  \\\n",
       "0    ...    -12.835432 -8.566720 -0.702506 -5.645249 -9.004763 -0.480133   \n",
       "1    ...    -20.223677 -6.160998  0.380872 -5.626927 -9.627007 -1.699224   \n",
       "2    ...     -9.038659 -2.498340  3.109148 -5.935463 -2.240996 -2.418737   \n",
       "3    ...    -17.959095 -4.773915 -2.184383 -8.884320 -7.921833 -3.847076   \n",
       "4    ...    -15.074157 -1.624259 -0.397585 -7.367681 -4.400169 -4.383350   \n",
       "\n",
       "         16         17        18        19  \n",
       "0 -4.021731  -9.929621 -2.359306 -1.650723  \n",
       "1 -2.785877 -13.520097 -5.137728 -1.594331  \n",
       "2 -3.276783  -6.091257 -0.218293 -3.540506  \n",
       "3 -3.137474 -10.508543 -2.878794 -2.108435  \n",
       "4 -5.219379  -8.893206 -1.945035 -0.631430  \n",
       "\n",
       "[5 rows x 22 columns]"
      ]
     },
     "execution_count": 111,
     "metadata": {},
     "output_type": "execute_result"
    }
   ],
   "source": [
    "tap.head()"
   ]
  },
  {
   "cell_type": "markdown",
   "metadata": {},
   "source": [
    "** Add Features: Tempo**"
   ]
  },
  {
   "cell_type": "code",
   "execution_count": null,
   "metadata": {},
   "outputs": [],
   "source": [
    "tap['BPM'] = [get_features_bpm(tap.loc[idx, 'Path']) for idx in range (len(tap))]"
   ]
  },
  {
   "cell_type": "code",
   "execution_count": null,
   "metadata": {},
   "outputs": [],
   "source": []
  },
  {
   "cell_type": "markdown",
   "metadata": {},
   "source": [
    "** Add features: Zero-crossing rate**"
   ]
  },
  {
   "cell_type": "code",
   "execution_count": 81,
   "metadata": {},
   "outputs": [],
   "source": [
    "# Create an empty dataframe to fill with ZCR values\n",
    "zcr_length = zcr_length\n",
    "d = pd.DataFrame(np.zeros((len(tap), zcr_length)))\n",
    "tap = pd.concat([tap, d], axis=1)"
   ]
  },
  {
   "cell_type": "code",
   "execution_count": 82,
   "metadata": {},
   "outputs": [],
   "source": [
    "for j in range (len(tap))  :  \n",
    "    s = get_features_ZCR(tap.loc[j,'Path'])[0]\n",
    "    for i in range (zcr_length):\n",
    "        tap.iat[j,i+2] = s.item(i)"
   ]
  },
  {
   "cell_type": "code",
   "execution_count": 86,
   "metadata": {},
   "outputs": [
    {
     "data": {
      "text/html": [
       "<div>\n",
       "<style scoped>\n",
       "    .dataframe tbody tr th:only-of-type {\n",
       "        vertical-align: middle;\n",
       "    }\n",
       "\n",
       "    .dataframe tbody tr th {\n",
       "        vertical-align: top;\n",
       "    }\n",
       "\n",
       "    .dataframe thead th {\n",
       "        text-align: right;\n",
       "    }\n",
       "</style>\n",
       "<table border=\"1\" class=\"dataframe\">\n",
       "  <thead>\n",
       "    <tr style=\"text-align: right;\">\n",
       "      <th></th>\n",
       "      <th>Path</th>\n",
       "      <th>Labels</th>\n",
       "      <th>0</th>\n",
       "      <th>1</th>\n",
       "      <th>2</th>\n",
       "      <th>3</th>\n",
       "      <th>4</th>\n",
       "      <th>5</th>\n",
       "      <th>6</th>\n",
       "      <th>7</th>\n",
       "      <th>...</th>\n",
       "      <th>157</th>\n",
       "      <th>158</th>\n",
       "      <th>159</th>\n",
       "      <th>160</th>\n",
       "      <th>161</th>\n",
       "      <th>162</th>\n",
       "      <th>163</th>\n",
       "      <th>164</th>\n",
       "      <th>165</th>\n",
       "      <th>166</th>\n",
       "    </tr>\n",
       "  </thead>\n",
       "  <tbody>\n",
       "    <tr>\n",
       "      <th>0</th>\n",
       "      <td>../../../Source/Clean_train_clips/Test_pad/Shu...</td>\n",
       "      <td>1</td>\n",
       "      <td>0.0</td>\n",
       "      <td>0.0</td>\n",
       "      <td>0.0</td>\n",
       "      <td>0.0</td>\n",
       "      <td>0.0</td>\n",
       "      <td>0.0</td>\n",
       "      <td>0.0</td>\n",
       "      <td>0.0</td>\n",
       "      <td>...</td>\n",
       "      <td>0.0</td>\n",
       "      <td>0.0</td>\n",
       "      <td>0.0</td>\n",
       "      <td>0.0</td>\n",
       "      <td>0.0</td>\n",
       "      <td>0.0</td>\n",
       "      <td>0.0</td>\n",
       "      <td>0.0</td>\n",
       "      <td>0.0</td>\n",
       "      <td>0.0</td>\n",
       "    </tr>\n",
       "    <tr>\n",
       "      <th>1</th>\n",
       "      <td>../../../Source/Clean_train_clips/Test_pad/Shu...</td>\n",
       "      <td>1</td>\n",
       "      <td>0.0</td>\n",
       "      <td>0.0</td>\n",
       "      <td>0.0</td>\n",
       "      <td>0.0</td>\n",
       "      <td>0.0</td>\n",
       "      <td>0.0</td>\n",
       "      <td>0.0</td>\n",
       "      <td>0.0</td>\n",
       "      <td>...</td>\n",
       "      <td>0.0</td>\n",
       "      <td>0.0</td>\n",
       "      <td>0.0</td>\n",
       "      <td>0.0</td>\n",
       "      <td>0.0</td>\n",
       "      <td>0.0</td>\n",
       "      <td>0.0</td>\n",
       "      <td>0.0</td>\n",
       "      <td>0.0</td>\n",
       "      <td>0.0</td>\n",
       "    </tr>\n",
       "    <tr>\n",
       "      <th>2</th>\n",
       "      <td>../../../Source/Clean_train_clips/Test_pad/Shu...</td>\n",
       "      <td>1</td>\n",
       "      <td>0.0</td>\n",
       "      <td>0.0</td>\n",
       "      <td>0.0</td>\n",
       "      <td>0.0</td>\n",
       "      <td>0.0</td>\n",
       "      <td>0.0</td>\n",
       "      <td>0.0</td>\n",
       "      <td>0.0</td>\n",
       "      <td>...</td>\n",
       "      <td>0.0</td>\n",
       "      <td>0.0</td>\n",
       "      <td>0.0</td>\n",
       "      <td>0.0</td>\n",
       "      <td>0.0</td>\n",
       "      <td>0.0</td>\n",
       "      <td>0.0</td>\n",
       "      <td>0.0</td>\n",
       "      <td>0.0</td>\n",
       "      <td>0.0</td>\n",
       "    </tr>\n",
       "    <tr>\n",
       "      <th>3</th>\n",
       "      <td>../../../Source/Clean_train_clips/Test_pad/Shu...</td>\n",
       "      <td>1</td>\n",
       "      <td>0.0</td>\n",
       "      <td>0.0</td>\n",
       "      <td>0.0</td>\n",
       "      <td>0.0</td>\n",
       "      <td>0.0</td>\n",
       "      <td>0.0</td>\n",
       "      <td>0.0</td>\n",
       "      <td>0.0</td>\n",
       "      <td>...</td>\n",
       "      <td>0.0</td>\n",
       "      <td>0.0</td>\n",
       "      <td>0.0</td>\n",
       "      <td>0.0</td>\n",
       "      <td>0.0</td>\n",
       "      <td>0.0</td>\n",
       "      <td>0.0</td>\n",
       "      <td>0.0</td>\n",
       "      <td>0.0</td>\n",
       "      <td>0.0</td>\n",
       "    </tr>\n",
       "    <tr>\n",
       "      <th>4</th>\n",
       "      <td>../../../Source/Clean_train_clips/Test_pad/Shu...</td>\n",
       "      <td>1</td>\n",
       "      <td>0.0</td>\n",
       "      <td>0.0</td>\n",
       "      <td>0.0</td>\n",
       "      <td>0.0</td>\n",
       "      <td>0.0</td>\n",
       "      <td>0.0</td>\n",
       "      <td>0.0</td>\n",
       "      <td>0.0</td>\n",
       "      <td>...</td>\n",
       "      <td>0.0</td>\n",
       "      <td>0.0</td>\n",
       "      <td>0.0</td>\n",
       "      <td>0.0</td>\n",
       "      <td>0.0</td>\n",
       "      <td>0.0</td>\n",
       "      <td>0.0</td>\n",
       "      <td>0.0</td>\n",
       "      <td>0.0</td>\n",
       "      <td>0.0</td>\n",
       "    </tr>\n",
       "  </tbody>\n",
       "</table>\n",
       "<p>5 rows × 169 columns</p>\n",
       "</div>"
      ],
      "text/plain": [
       "                                                Path  Labels    0    1    2  \\\n",
       "0  ../../../Source/Clean_train_clips/Test_pad/Shu...       1  0.0  0.0  0.0   \n",
       "1  ../../../Source/Clean_train_clips/Test_pad/Shu...       1  0.0  0.0  0.0   \n",
       "2  ../../../Source/Clean_train_clips/Test_pad/Shu...       1  0.0  0.0  0.0   \n",
       "3  ../../../Source/Clean_train_clips/Test_pad/Shu...       1  0.0  0.0  0.0   \n",
       "4  ../../../Source/Clean_train_clips/Test_pad/Shu...       1  0.0  0.0  0.0   \n",
       "\n",
       "     3    4    5    6    7 ...   157  158  159  160  161  162  163  164  165  \\\n",
       "0  0.0  0.0  0.0  0.0  0.0 ...   0.0  0.0  0.0  0.0  0.0  0.0  0.0  0.0  0.0   \n",
       "1  0.0  0.0  0.0  0.0  0.0 ...   0.0  0.0  0.0  0.0  0.0  0.0  0.0  0.0  0.0   \n",
       "2  0.0  0.0  0.0  0.0  0.0 ...   0.0  0.0  0.0  0.0  0.0  0.0  0.0  0.0  0.0   \n",
       "3  0.0  0.0  0.0  0.0  0.0 ...   0.0  0.0  0.0  0.0  0.0  0.0  0.0  0.0  0.0   \n",
       "4  0.0  0.0  0.0  0.0  0.0 ...   0.0  0.0  0.0  0.0  0.0  0.0  0.0  0.0  0.0   \n",
       "\n",
       "   166  \n",
       "0  0.0  \n",
       "1  0.0  \n",
       "2  0.0  \n",
       "3  0.0  \n",
       "4  0.0  \n",
       "\n",
       "[5 rows x 169 columns]"
      ]
     },
     "execution_count": 86,
     "metadata": {},
     "output_type": "execute_result"
    }
   ],
   "source": [
    "tap.head()\n"
   ]
  },
  {
   "cell_type": "code",
   "execution_count": null,
   "metadata": {},
   "outputs": [],
   "source": []
  },
  {
   "cell_type": "markdown",
   "metadata": {},
   "source": [
    "**Add features: Short-time Fourier Transform**"
   ]
  },
  {
   "cell_type": "code",
   "execution_count": null,
   "metadata": {},
   "outputs": [],
   "source": [
    "# Create an empty dataframe to fill with STFT values\n",
    "d = pd.DataFrame(np.zeros(len(tap), (int(n_fft/2+1))))\n",
    "tap = pd.concat([tap, d], axis=1)"
   ]
  },
  {
   "cell_type": "code",
   "execution_count": null,
   "metadata": {},
   "outputs": [],
   "source": [
    "for j in range (len(tap))  :  \n",
    "    s = get_features_stft(tap.loc[j,'Path'])[0]\n",
    "    for i in range (int(n_fft/2+1)):\n",
    "        tap.iat[j,i+2] = s.item(i)"
   ]
  },
  {
   "cell_type": "code",
   "execution_count": null,
   "metadata": {},
   "outputs": [],
   "source": [
    "tap.head()"
   ]
  },
  {
   "cell_type": "markdown",
   "metadata": {},
   "source": []
  },
  {
   "cell_type": "code",
   "execution_count": null,
   "metadata": {},
   "outputs": [],
   "source": []
  },
  {
   "cell_type": "markdown",
   "metadata": {},
   "source": [
    "### Export Feature DataFrame"
   ]
  },
  {
   "cell_type": "code",
   "execution_count": 112,
   "metadata": {},
   "outputs": [
    {
     "data": {
      "text/html": [
       "<div>\n",
       "<style scoped>\n",
       "    .dataframe tbody tr th:only-of-type {\n",
       "        vertical-align: middle;\n",
       "    }\n",
       "\n",
       "    .dataframe tbody tr th {\n",
       "        vertical-align: top;\n",
       "    }\n",
       "\n",
       "    .dataframe thead th {\n",
       "        text-align: right;\n",
       "    }\n",
       "</style>\n",
       "<table border=\"1\" class=\"dataframe\">\n",
       "  <thead>\n",
       "    <tr style=\"text-align: right;\">\n",
       "      <th></th>\n",
       "      <th>Path</th>\n",
       "      <th>Labels</th>\n",
       "      <th>0</th>\n",
       "      <th>1</th>\n",
       "      <th>2</th>\n",
       "      <th>3</th>\n",
       "      <th>4</th>\n",
       "      <th>5</th>\n",
       "      <th>6</th>\n",
       "      <th>7</th>\n",
       "      <th>...</th>\n",
       "      <th>10</th>\n",
       "      <th>11</th>\n",
       "      <th>12</th>\n",
       "      <th>13</th>\n",
       "      <th>14</th>\n",
       "      <th>15</th>\n",
       "      <th>16</th>\n",
       "      <th>17</th>\n",
       "      <th>18</th>\n",
       "      <th>19</th>\n",
       "    </tr>\n",
       "  </thead>\n",
       "  <tbody>\n",
       "    <tr>\n",
       "      <th>88</th>\n",
       "      <td>../../../Source/Clean_train_clips/Test_pad/Bal...</td>\n",
       "      <td>0</td>\n",
       "      <td>-293.037943</td>\n",
       "      <td>58.505334</td>\n",
       "      <td>-48.589866</td>\n",
       "      <td>17.169116</td>\n",
       "      <td>-6.572513</td>\n",
       "      <td>7.458624</td>\n",
       "      <td>-18.516129</td>\n",
       "      <td>-4.076180</td>\n",
       "      <td>...</td>\n",
       "      <td>-11.396065</td>\n",
       "      <td>-6.967381</td>\n",
       "      <td>-13.589901</td>\n",
       "      <td>-5.837967</td>\n",
       "      <td>-5.179842</td>\n",
       "      <td>-7.704733</td>\n",
       "      <td>-7.414687</td>\n",
       "      <td>-3.320110</td>\n",
       "      <td>-5.325567</td>\n",
       "      <td>-0.951670</td>\n",
       "    </tr>\n",
       "    <tr>\n",
       "      <th>46</th>\n",
       "      <td>../../../Source/Clean_train_clips/Test_pad/Shu...</td>\n",
       "      <td>1</td>\n",
       "      <td>-384.336383</td>\n",
       "      <td>47.068545</td>\n",
       "      <td>-45.293521</td>\n",
       "      <td>13.427367</td>\n",
       "      <td>-13.270577</td>\n",
       "      <td>-1.291721</td>\n",
       "      <td>-13.609023</td>\n",
       "      <td>3.785221</td>\n",
       "      <td>...</td>\n",
       "      <td>-10.857611</td>\n",
       "      <td>-4.648366</td>\n",
       "      <td>-7.143908</td>\n",
       "      <td>-5.901735</td>\n",
       "      <td>-5.324317</td>\n",
       "      <td>-5.204102</td>\n",
       "      <td>-2.262903</td>\n",
       "      <td>-4.743410</td>\n",
       "      <td>-4.527111</td>\n",
       "      <td>-4.428521</td>\n",
       "    </tr>\n",
       "    <tr>\n",
       "      <th>85</th>\n",
       "      <td>../../../Source/Clean_train_clips/Test_pad/Bal...</td>\n",
       "      <td>0</td>\n",
       "      <td>-520.247082</td>\n",
       "      <td>27.081231</td>\n",
       "      <td>-20.913136</td>\n",
       "      <td>6.208832</td>\n",
       "      <td>-1.711949</td>\n",
       "      <td>3.825482</td>\n",
       "      <td>-8.540246</td>\n",
       "      <td>-3.395663</td>\n",
       "      <td>...</td>\n",
       "      <td>-5.470911</td>\n",
       "      <td>-2.400662</td>\n",
       "      <td>-2.123239</td>\n",
       "      <td>-4.389208</td>\n",
       "      <td>-4.464401</td>\n",
       "      <td>-2.490282</td>\n",
       "      <td>-1.779873</td>\n",
       "      <td>-3.779712</td>\n",
       "      <td>-1.225601</td>\n",
       "      <td>-1.614159</td>\n",
       "    </tr>\n",
       "    <tr>\n",
       "      <th>59</th>\n",
       "      <td>../../../Source/Clean_train_clips/Test_pad/Shu...</td>\n",
       "      <td>1</td>\n",
       "      <td>-308.469831</td>\n",
       "      <td>56.266528</td>\n",
       "      <td>-82.179828</td>\n",
       "      <td>26.003649</td>\n",
       "      <td>-6.314797</td>\n",
       "      <td>1.156485</td>\n",
       "      <td>-14.727843</td>\n",
       "      <td>-3.775998</td>\n",
       "      <td>...</td>\n",
       "      <td>-18.237127</td>\n",
       "      <td>-3.376053</td>\n",
       "      <td>-11.601492</td>\n",
       "      <td>-3.089659</td>\n",
       "      <td>-6.187914</td>\n",
       "      <td>-4.790451</td>\n",
       "      <td>-3.271651</td>\n",
       "      <td>-3.614034</td>\n",
       "      <td>-4.755073</td>\n",
       "      <td>-3.978672</td>\n",
       "    </tr>\n",
       "    <tr>\n",
       "      <th>57</th>\n",
       "      <td>../../../Source/Clean_train_clips/Test_pad/Shu...</td>\n",
       "      <td>1</td>\n",
       "      <td>-331.345416</td>\n",
       "      <td>62.737518</td>\n",
       "      <td>-70.032324</td>\n",
       "      <td>17.782250</td>\n",
       "      <td>-3.121940</td>\n",
       "      <td>-4.137454</td>\n",
       "      <td>-15.838885</td>\n",
       "      <td>0.413734</td>\n",
       "      <td>...</td>\n",
       "      <td>-16.465318</td>\n",
       "      <td>-1.578397</td>\n",
       "      <td>-10.076773</td>\n",
       "      <td>-4.570083</td>\n",
       "      <td>-4.776446</td>\n",
       "      <td>-6.193735</td>\n",
       "      <td>-4.736327</td>\n",
       "      <td>-5.317162</td>\n",
       "      <td>-4.541855</td>\n",
       "      <td>-3.242185</td>\n",
       "    </tr>\n",
       "  </tbody>\n",
       "</table>\n",
       "<p>5 rows × 22 columns</p>\n",
       "</div>"
      ],
      "text/plain": [
       "                                                 Path  Labels           0  \\\n",
       "88  ../../../Source/Clean_train_clips/Test_pad/Bal...       0 -293.037943   \n",
       "46  ../../../Source/Clean_train_clips/Test_pad/Shu...       1 -384.336383   \n",
       "85  ../../../Source/Clean_train_clips/Test_pad/Bal...       0 -520.247082   \n",
       "59  ../../../Source/Clean_train_clips/Test_pad/Shu...       1 -308.469831   \n",
       "57  ../../../Source/Clean_train_clips/Test_pad/Shu...       1 -331.345416   \n",
       "\n",
       "            1          2          3          4         5          6         7  \\\n",
       "88  58.505334 -48.589866  17.169116  -6.572513  7.458624 -18.516129 -4.076180   \n",
       "46  47.068545 -45.293521  13.427367 -13.270577 -1.291721 -13.609023  3.785221   \n",
       "85  27.081231 -20.913136   6.208832  -1.711949  3.825482  -8.540246 -3.395663   \n",
       "59  56.266528 -82.179828  26.003649  -6.314797  1.156485 -14.727843 -3.775998   \n",
       "57  62.737518 -70.032324  17.782250  -3.121940 -4.137454 -15.838885  0.413734   \n",
       "\n",
       "      ...            10        11         12        13        14        15  \\\n",
       "88    ...    -11.396065 -6.967381 -13.589901 -5.837967 -5.179842 -7.704733   \n",
       "46    ...    -10.857611 -4.648366  -7.143908 -5.901735 -5.324317 -5.204102   \n",
       "85    ...     -5.470911 -2.400662  -2.123239 -4.389208 -4.464401 -2.490282   \n",
       "59    ...    -18.237127 -3.376053 -11.601492 -3.089659 -6.187914 -4.790451   \n",
       "57    ...    -16.465318 -1.578397 -10.076773 -4.570083 -4.776446 -6.193735   \n",
       "\n",
       "          16        17        18        19  \n",
       "88 -7.414687 -3.320110 -5.325567 -0.951670  \n",
       "46 -2.262903 -4.743410 -4.527111 -4.428521  \n",
       "85 -1.779873 -3.779712 -1.225601 -1.614159  \n",
       "59 -3.271651 -3.614034 -4.755073 -3.978672  \n",
       "57 -4.736327 -5.317162 -4.541855 -3.242185  \n",
       "\n",
       "[5 rows x 22 columns]"
      ]
     },
     "execution_count": 112,
     "metadata": {},
     "output_type": "execute_result"
    }
   ],
   "source": [
    "tap = tap.sample(frac=1)\n",
    "tap.head()"
   ]
  },
  {
   "cell_type": "code",
   "execution_count": 113,
   "metadata": {},
   "outputs": [],
   "source": [
    "#tap.to_csv('../../../Source/Data/TEST_data_pad_mfcc.csv', index=None)"
   ]
  },
  {
   "cell_type": "markdown",
   "metadata": {},
   "source": [
    "### Split into inputs and labels (and train and validate)"
   ]
  },
  {
   "cell_type": "code",
   "execution_count": 114,
   "metadata": {},
   "outputs": [],
   "source": [
    "X = tap.drop(['Labels'], axis =1)\n",
    "y = tap[['Labels']]"
   ]
  },
  {
   "cell_type": "code",
   "execution_count": null,
   "metadata": {},
   "outputs": [],
   "source": [
    "#X_train, X_val, y_train, y_val = train_test_split(X, y,\n",
    "#                                                    stratify=y, \n",
    "#                                                    test_size=0.25)"
   ]
  },
  {
   "cell_type": "code",
   "execution_count": 115,
   "metadata": {},
   "outputs": [],
   "source": [
    "X_train = pd.DataFrame(X)\n",
    "y_train = pd.DataFrame(y)\n",
    "\n",
    "#X_val = pd.DataFrame(X_val)\n",
    "#y_val = pd.DataFrame(y_val)\n",
    "\n"
   ]
  },
  {
   "cell_type": "code",
   "execution_count": 116,
   "metadata": {},
   "outputs": [],
   "source": [
    "# Export training data\n",
    "#X_train.to_csv('../../../Source/Data/X_train_audio_reaugmented_pad_mfcc.csv', index=None)\n",
    "#y_train.to_csv('../../../Source/Data/y_train_audio_reaugmented_pad_mfcc.csv', index=None)\n",
    "\n",
    "# Export validation data\n",
    "#X_val.to_csv('../../../Source/Data/X_val_audio_augmented_.csv', index=None)\n",
    "#y_val.to_csv('../../../Source/Data/y_val_audio_augmented_.csv', index=None)\n",
    "\n",
    "# Export test data\n",
    "#X_train.to_csv('../../../Source/Data/X_test_audio_pad_mfcc.csv', index=None)\n",
    "#y_train.to_csv('../../../Source/Data/y_test_audio_pad_mfcc.csv', index=None)"
   ]
  },
  {
   "cell_type": "code",
   "execution_count": null,
   "metadata": {},
   "outputs": [],
   "source": []
  },
  {
   "cell_type": "code",
   "execution_count": null,
   "metadata": {},
   "outputs": [],
   "source": []
  },
  {
   "cell_type": "code",
   "execution_count": null,
   "metadata": {},
   "outputs": [],
   "source": []
  },
  {
   "cell_type": "code",
   "execution_count": null,
   "metadata": {},
   "outputs": [],
   "source": []
  },
  {
   "cell_type": "markdown",
   "metadata": {},
   "source": [
    "## TBD \"Features\""
   ]
  },
  {
   "cell_type": "markdown",
   "metadata": {},
   "source": [
    "** Add features: root mean square energy value**"
   ]
  },
  {
   "cell_type": "code",
   "execution_count": null,
   "metadata": {},
   "outputs": [],
   "source": [
    "def get_features_rmse(path):\n",
    "    samples, sample_rate = librosa.load(path)\n",
    "    #return np.mean(librosa.feature.rmse(y=samples).T,axis=0).item()\n",
    "    return librosa.feature.rmse(samples, frame_length=512, hop_length=256)\n",
    "\n",
    "#tap['RMSE'] = [get_features_rmse(tap.loc[idx, 'Path']) for idx in range (len(tap))]\n",
    "get_features_rmse('../../../Source/Shuffle_test/1/1_pad.wav').shape"
   ]
  },
  {
   "cell_type": "markdown",
   "metadata": {},
   "source": [
    "** Add features: short term energy**"
   ]
  },
  {
   "cell_type": "code",
   "execution_count": null,
   "metadata": {},
   "outputs": [],
   "source": [
    "def get_features_ste(path):\n",
    "    hop_length = 125\n",
    "    frame_length = 250\n",
    "    samples, sample_rate = librosa.load(path)\n",
    "    energy = np.array([sum(abs(samples[i:i+frame_length]**2))for i in range(0, len(samples), hop_length)])\n",
    "    #return np.mean(energy.T)\n",
    "    return energy\n",
    "\n",
    "#tap['STE'] = [get_features_ste(tap.loc[idx, 'Path']) for idx in range (len(tap))]\n",
    "get_features_ste('../../../Source/Shuffle_test/1/1_pad.wav').shape"
   ]
  },
  {
   "cell_type": "markdown",
   "metadata": {},
   "source": [
    "**Add features: Fast Fourier Transform**"
   ]
  },
  {
   "cell_type": "code",
   "execution_count": null,
   "metadata": {},
   "outputs": [],
   "source": [
    "def get_features_fft(path):\n",
    "    y, sr = librosa.load(path)\n",
    "    return np.mean(fft(y).real)\n",
    "\n",
    "#tap['FFT'] = [get_features_fft(tap.loc[idx, 'Path']) for idx in range (len(tap))]"
   ]
  },
  {
   "cell_type": "code",
   "execution_count": null,
   "metadata": {},
   "outputs": [],
   "source": []
  },
  {
   "cell_type": "markdown",
   "metadata": {},
   "source": [
    "**Add features: Discrete cosine transform**"
   ]
  },
  {
   "cell_type": "code",
   "execution_count": null,
   "metadata": {},
   "outputs": [],
   "source": [
    "def get_features_dct(path):\n",
    "    y, sr = librosa.load(path)\n",
    "    return (dct(y))\n",
    "\n",
    "#tap['DCT'] = [get_features_dct(tap.loc[idx, 'Path']) for idx in range (len(tap))]"
   ]
  },
  {
   "cell_type": "code",
   "execution_count": null,
   "metadata": {},
   "outputs": [],
   "source": []
  },
  {
   "cell_type": "code",
   "execution_count": null,
   "metadata": {},
   "outputs": [],
   "source": []
  },
  {
   "cell_type": "markdown",
   "metadata": {},
   "source": [
    "**Other (maybe useful) stuff from librosa**"
   ]
  },
  {
   "cell_type": "code",
   "execution_count": null,
   "metadata": {},
   "outputs": [],
   "source": [
    "librosa.core.get_duration(y=y, sr=sr) # Get duration in seconds"
   ]
  },
  {
   "cell_type": "markdown",
   "metadata": {},
   "source": [
    "** Other code to consider/incorporate ** "
   ]
  },
  {
   "cell_type": "code",
   "execution_count": null,
   "metadata": {},
   "outputs": [],
   "source": [
    "def extract_feature(file_name):\n",
    "    X, sample_rate = librosa.load(file_name)\n",
    "    stft = np.abs(librosa.stft(X))\n",
    "    mfccs = np.mean(librosa.feature.mfcc(y=X, sr=sample_rate, n_mfcc=20).T,axis=0)\n",
    "    chroma = np.mean(librosa.feature.chroma_stft(S=stft, sr=sample_rate).T,axis=0)\n",
    "    mel = np.mean(librosa.feature.melspectrogram(X, sr=sample_rate).T,axis=0)\n",
    "    contrast = np.mean(librosa.feature.spectral_contrast(S=stft, sr=sample_rate).T,axis=0)\n",
    "    tonnetz = np.mean(librosa.feature.tonnetz(y=librosa.effects.harmonic(X),\n",
    "    sr=sample_rate).T,axis=0)\n",
    "    return mfccs,chroma,mel,contrast,tonnetz"
   ]
  },
  {
   "cell_type": "code",
   "execution_count": null,
   "metadata": {},
   "outputs": [],
   "source": []
  },
  {
   "cell_type": "code",
   "execution_count": null,
   "metadata": {},
   "outputs": [],
   "source": []
  },
  {
   "cell_type": "markdown",
   "metadata": {},
   "source": [
    "## Trying out stuff"
   ]
  },
  {
   "cell_type": "code",
   "execution_count": null,
   "metadata": {},
   "outputs": [],
   "source": [
    "# Can I make a better graph by splitting differently? \n",
    "# Tested out in Data_Collection_Audio, ultimately ending with detect nonsilence method, then padding\n",
    "samples, sample_rate = librosa.load('../../../Source/Shuffle_test/1/1.wav')\n",
    "librosa.display.waveplot(samples, sr=sample_rate);\n",
    "\n"
   ]
  },
  {
   "cell_type": "code",
   "execution_count": null,
   "metadata": {},
   "outputs": [],
   "source": [
    "# Pad with silence\n",
    "padded_signal = librosa.util.pad_center(samples, 22050, axis=0) # Make clip 1 sec long\n",
    "sound_clip = padded_signal\n",
    "librosa.display.waveplot(sound_clip, sr=sample_rate);\n",
    "#librosa.output.write_wav('../../../Source/Shuffle_test/1/1_pad.wav', padded_signal, 22050)"
   ]
  },
  {
   "cell_type": "code",
   "execution_count": null,
   "metadata": {},
   "outputs": [],
   "source": [
    "def windows(data, window_size):\n",
    "    start=0\n",
    "    while start < len(data):\n",
    "        yield start, start + window_size\n",
    "        start += (window_size/2)"
   ]
  },
  {
   "cell_type": "code",
   "execution_count": null,
   "metadata": {},
   "outputs": [],
   "source": [
    "i = 0\n",
    "for (start, end) in windows(sound_clip, window_size):\n",
    "    i +=1\n",
    "print(i)"
   ]
  },
  {
   "cell_type": "code",
   "execution_count": null,
   "metadata": {},
   "outputs": [],
   "source": [
    "log_specgrams = []\n",
    "window_size = 100 * 60\n",
    "sound_clip = padded_signal\n",
    "bands = 41\n",
    "frames = 60"
   ]
  },
  {
   "cell_type": "code",
   "execution_count": null,
   "metadata": {},
   "outputs": [],
   "source": [
    "for (start, end) in windows(sound_clip, window_size):\n",
    "    if len(sound_clip[int(start):int(end)]) == (window_size):\n",
    "        signal = sound_clip[int(start):int(end)]\n",
    "        melspec = librosa.feature.melspectrogram(signal,n_mels=bands)\n",
    "        logspec = librosa.amplitude_to_db(melspec)\n",
    "        logspec = logspec.T.flatten()[:, np.newaxis].T\n",
    "        log_specgrams.append(logspec)\n",
    "        \n",
    "log_specgrams = np.array(log_specgrams)\n",
    "print(log_specgrams.shape) #  This is (# of complete windows, 1, # of bands)\n",
    "#log_specgrams = np.asarray(log_specgrams).reshape(log_specgrams.shape[0], bands, frames)\n",
    "\n"
   ]
  },
  {
   "cell_type": "code",
   "execution_count": null,
   "metadata": {},
   "outputs": [],
   "source": []
  },
  {
   "cell_type": "code",
   "execution_count": null,
   "metadata": {},
   "outputs": [],
   "source": []
  },
  {
   "cell_type": "code",
   "execution_count": null,
   "metadata": {},
   "outputs": [],
   "source": []
  }
 ],
 "metadata": {
  "kernelspec": {
   "display_name": "Python 3",
   "language": "python",
   "name": "python3"
  },
  "language_info": {
   "codemirror_mode": {
    "name": "ipython",
    "version": 3
   },
   "file_extension": ".py",
   "mimetype": "text/x-python",
   "name": "python",
   "nbconvert_exporter": "python",
   "pygments_lexer": "ipython3",
   "version": "3.6.5"
  }
 },
 "nbformat": 4,
 "nbformat_minor": 2
}
