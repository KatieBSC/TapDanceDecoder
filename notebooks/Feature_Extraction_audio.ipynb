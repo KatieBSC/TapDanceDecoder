{
 "cells": [
  {
   "cell_type": "markdown",
   "metadata": {},
   "source": [
    "## Feature Extraction, New and Improved"
   ]
  },
  {
   "cell_type": "code",
   "execution_count": 1,
   "metadata": {},
   "outputs": [],
   "source": [
    "import pandas as pd\n",
    "import numpy as np\n",
    "import matplotlib.pyplot as plt\n",
    "import librosa.display\n",
    "from pathlib import Path\n",
    "from sklearn.model_selection import train_test_split\n",
    "from pydub import AudioSegment\n",
    "from scipy.fftpack import fft, dct"
   ]
  },
  {
   "cell_type": "markdown",
   "metadata": {},
   "source": [
    "## Using audio data "
   ]
  },
  {
   "cell_type": "code",
   "execution_count": null,
   "metadata": {},
   "outputs": [],
   "source": [
    "samples, sample_rate = librosa.load('../../../Source/Clean_train_clips/Shuffle/1/1.wav')"
   ]
  },
  {
   "cell_type": "markdown",
   "metadata": {},
   "source": [
    "**Visualize audio files with librosa**"
   ]
  },
  {
   "cell_type": "code",
   "execution_count": null,
   "metadata": {},
   "outputs": [],
   "source": [
    "librosa.display.waveplot(samples, sr=sample_rate);"
   ]
  },
  {
   "cell_type": "markdown",
   "metadata": {},
   "source": [
    "---"
   ]
  },
  {
   "cell_type": "markdown",
   "metadata": {},
   "source": [
    "### Feature: \n",
    "BPM"
   ]
  },
  {
   "cell_type": "markdown",
   "metadata": {},
   "source": [
    "Let's try it with a longer sample with a known BPM."
   ]
  },
  {
   "cell_type": "code",
   "execution_count": null,
   "metadata": {},
   "outputs": [],
   "source": [
    "# Estimate a static tempo\n",
    "y, sr = librosa.load( '../../../workout.wav')\n",
    "onset_env = librosa.onset.onset_strength(y, sr=sr)\n",
    "tempo = librosa.beat.tempo(onset_envelope=onset_env, sr=sr)\n",
    "tempo.item() #according to song BPM the correct tempo is 174 BPM"
   ]
  },
  {
   "cell_type": "code",
   "execution_count": null,
   "metadata": {},
   "outputs": [],
   "source": [
    "# Maybe it's not a static tempo\n",
    "\n",
    "# But rather a dynamic tempo\n",
    "dtempo = librosa.beat.tempo(onset_envelope=onset_env, sr=sr,\n",
    "                            aggregate=None)\n",
    "dtempo"
   ]
  },
  {
   "cell_type": "markdown",
   "metadata": {},
   "source": [
    "Now with short, tap sample."
   ]
  },
  {
   "cell_type": "code",
   "execution_count": null,
   "metadata": {},
   "outputs": [],
   "source": [
    "# Estimate a static tempo\n",
    "y, sr = librosa.load('../../../Source/Clean_train_clips/Shuffle/1/1.wav')\n",
    "onset_env = librosa.onset.onset_strength(y, sr=sr)\n",
    "tempo = librosa.beat.tempo(onset_envelope=onset_env, sr=sr)\n",
    "tempo "
   ]
  },
  {
   "cell_type": "code",
   "execution_count": null,
   "metadata": {},
   "outputs": [],
   "source": [
    "# Estimate a static tempo\n",
    "y, sr = librosa.load('../../../Source/Clean_train_clips/Shuffle/1/1_stretch.wav')\n",
    "onset_env = librosa.onset.onset_strength(y, sr=sr)\n",
    "tempo = librosa.beat.tempo(onset_envelope=onset_env, sr=sr)\n",
    "tempo "
   ]
  },
  {
   "cell_type": "markdown",
   "metadata": {},
   "source": [
    "**This could be a promising feature.**"
   ]
  },
  {
   "cell_type": "markdown",
   "metadata": {},
   "source": [
    "### Other (maybe useful) stuff from librosa"
   ]
  },
  {
   "cell_type": "code",
   "execution_count": null,
   "metadata": {},
   "outputs": [],
   "source": [
    "y, sr = librosa.load('../../../Source/Clean_train_clips/Shuffle/1/1.wav', mono=False)\n",
    "#y, sr = librosa.load('../../../Source/Clean_train_clips/Shuffle/1/1_stretch.wav')\n",
    "y.shape # Check mono or stereo"
   ]
  },
  {
   "cell_type": "code",
   "execution_count": null,
   "metadata": {},
   "outputs": [],
   "source": [
    "librosa.core.get_duration(y =y, sr=sr) # Get duration in seconds"
   ]
  },
  {
   "cell_type": "markdown",
   "metadata": {},
   "source": [
    "## Trying out new features"
   ]
  },
  {
   "cell_type": "markdown",
   "metadata": {},
   "source": [
    "**Short-time Fourier transform (STFT)**"
   ]
  },
  {
   "cell_type": "code",
   "execution_count": null,
   "metadata": {},
   "outputs": [],
   "source": [
    "n_fft = 256"
   ]
  },
  {
   "cell_type": "code",
   "execution_count": null,
   "metadata": {},
   "outputs": [],
   "source": [
    "def get_features_stft (path):\n",
    "        y, sr = librosa.load(path)\n",
    "        D = np.abs(librosa.stft(y, n_fft=n_fft))\n",
    "        return np.mean(D.T, axis=0)"
   ]
  },
  {
   "cell_type": "code",
   "execution_count": null,
   "metadata": {},
   "outputs": [],
   "source": [
    "path = '../../../Source/Clean_train_clips/Shuffle/1/1.wav'\n",
    "y, sr = librosa.load(path)\n",
    "#get_features_stft(path)\n",
    "librosa.display.waveplot(y,sr);"
   ]
  },
  {
   "cell_type": "code",
   "execution_count": null,
   "metadata": {},
   "outputs": [],
   "source": [
    "get_features_stft('../../../Source/Clean_train_clips/Shuffle/6/1.wav').shape"
   ]
  },
  {
   "cell_type": "code",
   "execution_count": null,
   "metadata": {},
   "outputs": [],
   "source": [
    "y, sr = librosa.load('../../../Source/Clean_train_clips/Shuffle/1/1.wav')\n",
    "D = np.abs(librosa.stft(y, n_fft=n_fft))\n",
    "\n",
    "librosa.display.specshow(D);\n",
    "D.shape"
   ]
  },
  {
   "cell_type": "code",
   "execution_count": null,
   "metadata": {},
   "outputs": [],
   "source": [
    "# Using left-aligned frames\n",
    "D_left = np.abs(librosa.stft(y, n_fft=n_fft,center=False))\n",
    "D_left.shape\n",
    "#librosa.display.specshow(D_left);"
   ]
  },
  {
   "cell_type": "code",
   "execution_count": null,
   "metadata": {},
   "outputs": [],
   "source": [
    "# Using a shorter hop length\n",
    "D_short = np.abs(librosa.stft(y, n_fft=n_fft,hop_length=64))\n",
    "D_short.shape\n",
    "#librosa.display.specshow(D_short);"
   ]
  },
  {
   "cell_type": "code",
   "execution_count": null,
   "metadata": {},
   "outputs": [],
   "source": [
    "y, sr = librosa.load(path)\n",
    "S = np.abs(librosa.stft(y))\n",
    "plt.figure(figsize=(10,8))\n",
    "plt.subplot(3, 1, 1)\n",
    "librosa.display.specshow(librosa.amplitude_to_db(S,ref=np.max),y_axis='log', x_axis='time')\n",
    "plt.title('Input spectrogram')\n",
    "plt.colorbar(format='%+2.0f dB');"
   ]
  },
  {
   "cell_type": "code",
   "execution_count": null,
   "metadata": {},
   "outputs": [],
   "source": []
  },
  {
   "cell_type": "code",
   "execution_count": null,
   "metadata": {},
   "outputs": [],
   "source": []
  },
  {
   "cell_type": "code",
   "execution_count": null,
   "metadata": {},
   "outputs": [],
   "source": []
  },
  {
   "cell_type": "code",
   "execution_count": null,
   "metadata": {},
   "outputs": [],
   "source": []
  },
  {
   "cell_type": "markdown",
   "metadata": {},
   "source": [
    "**Fast Fourier Transform**"
   ]
  },
  {
   "cell_type": "code",
   "execution_count": null,
   "metadata": {},
   "outputs": [],
   "source": [
    "y, sr = librosa.load('../../../Source/Shuffle/1/1.wav')\n",
    "fftrans = fft(y).real\n",
    "fftrans.shape, fftrans"
   ]
  },
  {
   "cell_type": "code",
   "execution_count": null,
   "metadata": {},
   "outputs": [],
   "source": [
    "def get_features_fft(path):\n",
    "    y, sr = librosa.load(path)\n",
    "    return np.mean(fft(y).real)"
   ]
  },
  {
   "cell_type": "markdown",
   "metadata": {},
   "source": [
    "**Discrete Cosine Transform**"
   ]
  },
  {
   "cell_type": "code",
   "execution_count": null,
   "metadata": {},
   "outputs": [],
   "source": [
    "y, sr = librosa.load('../../../Source/Shuffle/1/1.wav')\n",
    "dctrans = dct(y, axis=0) #dct(y, 1)\n",
    "\n",
    "plt.subplot(211)\n",
    "plt.specgram(y, Fs=sr, NFFT=n_fft);\n",
    "plt.subplot(212)\n",
    "plt.specgram(dctrans, Fs=sr, NFFT=n_fft);\n",
    "\n",
    "#plt.subplot(221)\n",
    "#plt.plot(dctrans)\n",
    "#plt.subplot(222)\n",
    "#plt.plot(y);"
   ]
  },
  {
   "cell_type": "code",
   "execution_count": null,
   "metadata": {},
   "outputs": [],
   "source": [
    "def get_features_dct(path):\n",
    "    y, sr = librosa.load(path)\n",
    "    return (dct(y))"
   ]
  },
  {
   "cell_type": "markdown",
   "metadata": {},
   "source": [
    "### Feature:\n",
    "Mel-frequency cepstral coefficients "
   ]
  },
  {
   "cell_type": "code",
   "execution_count": 2,
   "metadata": {},
   "outputs": [],
   "source": [
    "n_mfcc = 20   #Remember to change file path at end of nb"
   ]
  },
  {
   "cell_type": "code",
   "execution_count": 3,
   "metadata": {},
   "outputs": [
    {
     "ename": "NameError",
     "evalue": "name 'samples' is not defined",
     "output_type": "error",
     "traceback": [
      "\u001b[0;31m---------------------------------------------------------------------------\u001b[0m",
      "\u001b[0;31mNameError\u001b[0m                                 Traceback (most recent call last)",
      "\u001b[0;32m<ipython-input-3-9ed44bfc56d2>\u001b[0m in \u001b[0;36m<module>\u001b[0;34m()\u001b[0m\n\u001b[1;32m      1\u001b[0m \u001b[0;31m# Extract mfcc feature from data\u001b[0m\u001b[0;34m\u001b[0m\u001b[0;34m\u001b[0m\u001b[0m\n\u001b[0;32m----> 2\u001b[0;31m \u001b[0mmfccs\u001b[0m \u001b[0;34m=\u001b[0m \u001b[0mnp\u001b[0m\u001b[0;34m.\u001b[0m\u001b[0mmean\u001b[0m\u001b[0;34m(\u001b[0m\u001b[0mlibrosa\u001b[0m\u001b[0;34m.\u001b[0m\u001b[0mfeature\u001b[0m\u001b[0;34m.\u001b[0m\u001b[0mmfcc\u001b[0m\u001b[0;34m(\u001b[0m\u001b[0my\u001b[0m\u001b[0;34m=\u001b[0m\u001b[0msamples\u001b[0m\u001b[0;34m,\u001b[0m \u001b[0msr\u001b[0m\u001b[0;34m=\u001b[0m\u001b[0msample_rate\u001b[0m\u001b[0;34m,\u001b[0m \u001b[0mn_mfcc\u001b[0m\u001b[0;34m=\u001b[0m\u001b[0mn_mfcc\u001b[0m\u001b[0;34m)\u001b[0m\u001b[0;34m.\u001b[0m\u001b[0mT\u001b[0m\u001b[0;34m,\u001b[0m\u001b[0maxis\u001b[0m\u001b[0;34m=\u001b[0m\u001b[0;36m0\u001b[0m\u001b[0;34m)\u001b[0m\u001b[0;34m\u001b[0m\u001b[0m\n\u001b[0m",
      "\u001b[0;31mNameError\u001b[0m: name 'samples' is not defined"
     ]
    }
   ],
   "source": [
    "# Extract mfcc feature from data\n",
    "mfccs = np.mean(librosa.feature.mfcc(y=samples, sr=sample_rate, n_mfcc=n_mfcc).T,axis=0) "
   ]
  },
  {
   "cell_type": "code",
   "execution_count": 4,
   "metadata": {},
   "outputs": [
    {
     "ename": "NameError",
     "evalue": "name 'mfccs' is not defined",
     "output_type": "error",
     "traceback": [
      "\u001b[0;31m---------------------------------------------------------------------------\u001b[0m",
      "\u001b[0;31mNameError\u001b[0m                                 Traceback (most recent call last)",
      "\u001b[0;32m<ipython-input-4-baca63076859>\u001b[0m in \u001b[0;36m<module>\u001b[0;34m()\u001b[0m\n\u001b[0;32m----> 1\u001b[0;31m \u001b[0mlen\u001b[0m\u001b[0;34m(\u001b[0m\u001b[0mmfccs\u001b[0m\u001b[0;34m)\u001b[0m\u001b[0;34m\u001b[0m\u001b[0m\n\u001b[0m\u001b[1;32m      2\u001b[0m \u001b[0;31m#librosa.display.specshow(librosa.feature.mfcc(y=samples, sr=sample_rate, n_mfcc=n_mfcc))\u001b[0m\u001b[0;34m\u001b[0m\u001b[0;34m\u001b[0m\u001b[0m\n",
      "\u001b[0;31mNameError\u001b[0m: name 'mfccs' is not defined"
     ]
    }
   ],
   "source": [
    "len(mfccs)\n",
    "#librosa.display.specshow(librosa.feature.mfcc(y=samples, sr=sample_rate, n_mfcc=n_mfcc))"
   ]
  },
  {
   "cell_type": "markdown",
   "metadata": {},
   "source": [
    "---"
   ]
  },
  {
   "cell_type": "markdown",
   "metadata": {},
   "source": [
    "### Repeat for all data (Organize in a DataFrame)"
   ]
  },
  {
   "cell_type": "code",
   "execution_count": 5,
   "metadata": {},
   "outputs": [],
   "source": [
    "def build_list(step, folder, length):\n",
    "    i = 1\n",
    "    step_list = []\n",
    "    while i <= length :\n",
    "        name = step + \"/\" + str(folder) + \"/\" +str(i) + \".wav\"\n",
    "        step_list.append(name)\n",
    "        i += 1\n",
    "    return step_list\n",
    "\n",
    "def get_label(path):\n",
    "    if path.parts[-3] == 'Shuffle':\n",
    "        return 1\n",
    "    else:\n",
    "        return 0"
   ]
  },
  {
   "cell_type": "code",
   "execution_count": 6,
   "metadata": {},
   "outputs": [],
   "source": [
    "shuffle_col, bc_col, path_col = [], [], []"
   ]
  },
  {
   "cell_type": "code",
   "execution_count": 7,
   "metadata": {},
   "outputs": [],
   "source": [
    "pathlist = Path('../../../Source/Clean_train_clips/Re_augmented/Shuffle').glob('**/*.wav')\n",
    "for path in pathlist:\n",
    "    shuffle_col.append(path)\n",
    "    shuffle_col.sort()"
   ]
  },
  {
   "cell_type": "code",
   "execution_count": 8,
   "metadata": {},
   "outputs": [],
   "source": [
    "pathlist = Path('../../../Source/Clean_train_clips/Re_augmented/Ball_change').glob('**/*.wav')\n",
    "for path in pathlist:\n",
    "    bc_col.append(path)\n",
    "    bc_col.sort()"
   ]
  },
  {
   "cell_type": "code",
   "execution_count": 9,
   "metadata": {},
   "outputs": [],
   "source": [
    "untrans_path_col = []\n",
    "train_untransform = pd.read_csv('../../../Source/Data/X_train_preAugmented.csv')\n",
    "for i in range ( len(train_untransform)):\n",
    "    untrans_path_col.append(Path(train_untransform.loc[i, 'Path']))"
   ]
  },
  {
   "cell_type": "code",
   "execution_count": 10,
   "metadata": {},
   "outputs": [],
   "source": [
    "path_col = shuffle_col + bc_col + untrans_path_col"
   ]
  },
  {
   "cell_type": "code",
   "execution_count": 11,
   "metadata": {},
   "outputs": [
    {
     "data": {
      "text/plain": [
       "912"
      ]
     },
     "execution_count": 11,
     "metadata": {},
     "output_type": "execute_result"
    }
   ],
   "source": [
    "len(path_col)"
   ]
  },
  {
   "cell_type": "markdown",
   "metadata": {},
   "source": [
    "** Add file paths**"
   ]
  },
  {
   "cell_type": "code",
   "execution_count": 12,
   "metadata": {},
   "outputs": [
    {
     "data": {
      "text/plain": [
       "(912, 1)"
      ]
     },
     "execution_count": 12,
     "metadata": {},
     "output_type": "execute_result"
    }
   ],
   "source": [
    "tap = pd.DataFrame({'Path':path_col})\n",
    "tap.shape"
   ]
  },
  {
   "cell_type": "markdown",
   "metadata": {},
   "source": [
    "** Add labels**"
   ]
  },
  {
   "cell_type": "code",
   "execution_count": 13,
   "metadata": {},
   "outputs": [],
   "source": [
    "tap['Labels'] = [get_label(tap.loc[idx,'Path']) for idx in range(len(tap))]"
   ]
  },
  {
   "cell_type": "code",
   "execution_count": 14,
   "metadata": {},
   "outputs": [
    {
     "data": {
      "text/html": [
       "<div>\n",
       "<style scoped>\n",
       "    .dataframe tbody tr th:only-of-type {\n",
       "        vertical-align: middle;\n",
       "    }\n",
       "\n",
       "    .dataframe tbody tr th {\n",
       "        vertical-align: top;\n",
       "    }\n",
       "\n",
       "    .dataframe thead th {\n",
       "        text-align: right;\n",
       "    }\n",
       "</style>\n",
       "<table border=\"1\" class=\"dataframe\">\n",
       "  <thead>\n",
       "    <tr style=\"text-align: right;\">\n",
       "      <th></th>\n",
       "      <th>Path</th>\n",
       "      <th>Labels</th>\n",
       "    </tr>\n",
       "  </thead>\n",
       "  <tbody>\n",
       "    <tr>\n",
       "      <th>0</th>\n",
       "      <td>../../../Source/Clean_train_clips/Re_augmented...</td>\n",
       "      <td>1</td>\n",
       "    </tr>\n",
       "    <tr>\n",
       "      <th>1</th>\n",
       "      <td>../../../Source/Clean_train_clips/Re_augmented...</td>\n",
       "      <td>1</td>\n",
       "    </tr>\n",
       "    <tr>\n",
       "      <th>2</th>\n",
       "      <td>../../../Source/Clean_train_clips/Re_augmented...</td>\n",
       "      <td>1</td>\n",
       "    </tr>\n",
       "    <tr>\n",
       "      <th>3</th>\n",
       "      <td>../../../Source/Clean_train_clips/Re_augmented...</td>\n",
       "      <td>1</td>\n",
       "    </tr>\n",
       "    <tr>\n",
       "      <th>4</th>\n",
       "      <td>../../../Source/Clean_train_clips/Re_augmented...</td>\n",
       "      <td>1</td>\n",
       "    </tr>\n",
       "  </tbody>\n",
       "</table>\n",
       "</div>"
      ],
      "text/plain": [
       "                                                Path  Labels\n",
       "0  ../../../Source/Clean_train_clips/Re_augmented...       1\n",
       "1  ../../../Source/Clean_train_clips/Re_augmented...       1\n",
       "2  ../../../Source/Clean_train_clips/Re_augmented...       1\n",
       "3  ../../../Source/Clean_train_clips/Re_augmented...       1\n",
       "4  ../../../Source/Clean_train_clips/Re_augmented...       1"
      ]
     },
     "execution_count": 14,
     "metadata": {},
     "output_type": "execute_result"
    }
   ],
   "source": [
    "tap.head()"
   ]
  },
  {
   "cell_type": "markdown",
   "metadata": {},
   "source": [
    "**Add Features: MFCCs**"
   ]
  },
  {
   "cell_type": "code",
   "execution_count": 15,
   "metadata": {},
   "outputs": [],
   "source": [
    "def get_features_mfcc(path):\n",
    "    samples, sample_rate = librosa.load(path)\n",
    "    mfccs = np.mean(librosa.feature.mfcc(y=samples, sr=sample_rate, n_mfcc=n_mfcc).T,axis=0)\n",
    "    return mfccs"
   ]
  },
  {
   "cell_type": "code",
   "execution_count": null,
   "metadata": {},
   "outputs": [],
   "source": [
    "# TOO SLOW!\n",
    "#for i in range (n_mfcc):\n",
    "#    tap[str(i)] = [get_features_mfcc(tap.loc[idx, 'Path'])[i] for idx in range (len(tap))]"
   ]
  },
  {
   "cell_type": "code",
   "execution_count": 16,
   "metadata": {},
   "outputs": [],
   "source": [
    "# Create an empty dataframe to fill with MFCC values\n",
    "d = pd.DataFrame(np.zeros((912, 20)))\n",
    "tap = pd.concat([tap, d], axis=1)"
   ]
  },
  {
   "cell_type": "code",
   "execution_count": null,
   "metadata": {},
   "outputs": [],
   "source": []
  },
  {
   "cell_type": "code",
   "execution_count": 20,
   "metadata": {},
   "outputs": [],
   "source": [
    "# FASTER! \n",
    "for j in range (len(tap))  :  \n",
    "    s = get_features_mfcc(tap.loc[j,'Path'])\n",
    "    for i in range (n_mfcc):\n",
    "        tap.iat[j,i+2] = s[i]"
   ]
  },
  {
   "cell_type": "code",
   "execution_count": 21,
   "metadata": {},
   "outputs": [
    {
     "data": {
      "text/html": [
       "<div>\n",
       "<style scoped>\n",
       "    .dataframe tbody tr th:only-of-type {\n",
       "        vertical-align: middle;\n",
       "    }\n",
       "\n",
       "    .dataframe tbody tr th {\n",
       "        vertical-align: top;\n",
       "    }\n",
       "\n",
       "    .dataframe thead th {\n",
       "        text-align: right;\n",
       "    }\n",
       "</style>\n",
       "<table border=\"1\" class=\"dataframe\">\n",
       "  <thead>\n",
       "    <tr style=\"text-align: right;\">\n",
       "      <th></th>\n",
       "      <th>Path</th>\n",
       "      <th>Labels</th>\n",
       "      <th>0</th>\n",
       "      <th>1</th>\n",
       "      <th>2</th>\n",
       "      <th>3</th>\n",
       "      <th>4</th>\n",
       "      <th>5</th>\n",
       "      <th>6</th>\n",
       "      <th>7</th>\n",
       "      <th>...</th>\n",
       "      <th>10</th>\n",
       "      <th>11</th>\n",
       "      <th>12</th>\n",
       "      <th>13</th>\n",
       "      <th>14</th>\n",
       "      <th>15</th>\n",
       "      <th>16</th>\n",
       "      <th>17</th>\n",
       "      <th>18</th>\n",
       "      <th>19</th>\n",
       "    </tr>\n",
       "  </thead>\n",
       "  <tbody>\n",
       "    <tr>\n",
       "      <th>0</th>\n",
       "      <td>../../../Source/Clean_train_clips/Re_augmented...</td>\n",
       "      <td>1</td>\n",
       "      <td>-111.605465</td>\n",
       "      <td>39.188962</td>\n",
       "      <td>-81.679966</td>\n",
       "      <td>20.393887</td>\n",
       "      <td>4.074106</td>\n",
       "      <td>-11.102911</td>\n",
       "      <td>-18.300510</td>\n",
       "      <td>-4.375751</td>\n",
       "      <td>...</td>\n",
       "      <td>-14.746165</td>\n",
       "      <td>-13.217085</td>\n",
       "      <td>2.010731</td>\n",
       "      <td>-9.008981</td>\n",
       "      <td>-11.552828</td>\n",
       "      <td>1.225305</td>\n",
       "      <td>-3.679972</td>\n",
       "      <td>-13.073083</td>\n",
       "      <td>-2.380595</td>\n",
       "      <td>-2.002468</td>\n",
       "    </tr>\n",
       "    <tr>\n",
       "      <th>1</th>\n",
       "      <td>../../../Source/Clean_train_clips/Re_augmented...</td>\n",
       "      <td>1</td>\n",
       "      <td>-124.765927</td>\n",
       "      <td>59.099908</td>\n",
       "      <td>-107.706609</td>\n",
       "      <td>34.986722</td>\n",
       "      <td>-7.126354</td>\n",
       "      <td>-4.114656</td>\n",
       "      <td>-28.856100</td>\n",
       "      <td>0.194913</td>\n",
       "      <td>...</td>\n",
       "      <td>-19.339707</td>\n",
       "      <td>-13.854616</td>\n",
       "      <td>-1.720148</td>\n",
       "      <td>-9.828810</td>\n",
       "      <td>-14.683264</td>\n",
       "      <td>-0.436352</td>\n",
       "      <td>-6.158605</td>\n",
       "      <td>-14.315085</td>\n",
       "      <td>-3.680532</td>\n",
       "      <td>-3.380997</td>\n",
       "    </tr>\n",
       "    <tr>\n",
       "      <th>2</th>\n",
       "      <td>../../../Source/Clean_train_clips/Re_augmented...</td>\n",
       "      <td>1</td>\n",
       "      <td>-157.899262</td>\n",
       "      <td>62.348967</td>\n",
       "      <td>-104.690150</td>\n",
       "      <td>33.359436</td>\n",
       "      <td>-9.649191</td>\n",
       "      <td>-4.823440</td>\n",
       "      <td>-30.225424</td>\n",
       "      <td>0.160945</td>\n",
       "      <td>...</td>\n",
       "      <td>-22.051224</td>\n",
       "      <td>-11.060202</td>\n",
       "      <td>1.349207</td>\n",
       "      <td>-10.089470</td>\n",
       "      <td>-13.730110</td>\n",
       "      <td>-0.723506</td>\n",
       "      <td>-5.207173</td>\n",
       "      <td>-16.210524</td>\n",
       "      <td>-4.518669</td>\n",
       "      <td>-3.492280</td>\n",
       "    </tr>\n",
       "    <tr>\n",
       "      <th>3</th>\n",
       "      <td>../../../Source/Clean_train_clips/Re_augmented...</td>\n",
       "      <td>1</td>\n",
       "      <td>-112.563192</td>\n",
       "      <td>43.322040</td>\n",
       "      <td>-77.893877</td>\n",
       "      <td>23.408783</td>\n",
       "      <td>9.349165</td>\n",
       "      <td>-9.172222</td>\n",
       "      <td>-12.264922</td>\n",
       "      <td>-10.973006</td>\n",
       "      <td>...</td>\n",
       "      <td>-24.674963</td>\n",
       "      <td>-12.264014</td>\n",
       "      <td>5.147175</td>\n",
       "      <td>-9.701486</td>\n",
       "      <td>-10.931069</td>\n",
       "      <td>-0.785393</td>\n",
       "      <td>-1.715562</td>\n",
       "      <td>-19.159819</td>\n",
       "      <td>-5.605177</td>\n",
       "      <td>-2.166103</td>\n",
       "    </tr>\n",
       "    <tr>\n",
       "      <th>4</th>\n",
       "      <td>../../../Source/Clean_train_clips/Re_augmented...</td>\n",
       "      <td>1</td>\n",
       "      <td>-127.778268</td>\n",
       "      <td>59.036205</td>\n",
       "      <td>-98.709749</td>\n",
       "      <td>36.489147</td>\n",
       "      <td>-5.924282</td>\n",
       "      <td>-0.904265</td>\n",
       "      <td>-23.447733</td>\n",
       "      <td>-5.196082</td>\n",
       "      <td>...</td>\n",
       "      <td>-32.384483</td>\n",
       "      <td>-10.076653</td>\n",
       "      <td>-0.175095</td>\n",
       "      <td>-9.560018</td>\n",
       "      <td>-14.250261</td>\n",
       "      <td>-1.962245</td>\n",
       "      <td>-4.320603</td>\n",
       "      <td>-20.652914</td>\n",
       "      <td>-8.085718</td>\n",
       "      <td>-2.686323</td>\n",
       "    </tr>\n",
       "  </tbody>\n",
       "</table>\n",
       "<p>5 rows × 22 columns</p>\n",
       "</div>"
      ],
      "text/plain": [
       "                                                Path  Labels           0  \\\n",
       "0  ../../../Source/Clean_train_clips/Re_augmented...       1 -111.605465   \n",
       "1  ../../../Source/Clean_train_clips/Re_augmented...       1 -124.765927   \n",
       "2  ../../../Source/Clean_train_clips/Re_augmented...       1 -157.899262   \n",
       "3  ../../../Source/Clean_train_clips/Re_augmented...       1 -112.563192   \n",
       "4  ../../../Source/Clean_train_clips/Re_augmented...       1 -127.778268   \n",
       "\n",
       "           1           2          3         4          5          6  \\\n",
       "0  39.188962  -81.679966  20.393887  4.074106 -11.102911 -18.300510   \n",
       "1  59.099908 -107.706609  34.986722 -7.126354  -4.114656 -28.856100   \n",
       "2  62.348967 -104.690150  33.359436 -9.649191  -4.823440 -30.225424   \n",
       "3  43.322040  -77.893877  23.408783  9.349165  -9.172222 -12.264922   \n",
       "4  59.036205  -98.709749  36.489147 -5.924282  -0.904265 -23.447733   \n",
       "\n",
       "           7    ...            10         11        12         13         14  \\\n",
       "0  -4.375751    ...    -14.746165 -13.217085  2.010731  -9.008981 -11.552828   \n",
       "1   0.194913    ...    -19.339707 -13.854616 -1.720148  -9.828810 -14.683264   \n",
       "2   0.160945    ...    -22.051224 -11.060202  1.349207 -10.089470 -13.730110   \n",
       "3 -10.973006    ...    -24.674963 -12.264014  5.147175  -9.701486 -10.931069   \n",
       "4  -5.196082    ...    -32.384483 -10.076653 -0.175095  -9.560018 -14.250261   \n",
       "\n",
       "         15        16         17        18        19  \n",
       "0  1.225305 -3.679972 -13.073083 -2.380595 -2.002468  \n",
       "1 -0.436352 -6.158605 -14.315085 -3.680532 -3.380997  \n",
       "2 -0.723506 -5.207173 -16.210524 -4.518669 -3.492280  \n",
       "3 -0.785393 -1.715562 -19.159819 -5.605177 -2.166103  \n",
       "4 -1.962245 -4.320603 -20.652914 -8.085718 -2.686323  \n",
       "\n",
       "[5 rows x 22 columns]"
      ]
     },
     "execution_count": 21,
     "metadata": {},
     "output_type": "execute_result"
    }
   ],
   "source": [
    "tap.head()"
   ]
  },
  {
   "cell_type": "markdown",
   "metadata": {},
   "source": [
    "** Add Features: Tempo**"
   ]
  },
  {
   "cell_type": "code",
   "execution_count": null,
   "metadata": {},
   "outputs": [],
   "source": [
    "tap = pd.read_csv('../../../Source/Data/train_data_augmented_mfcc.csv')"
   ]
  },
  {
   "cell_type": "code",
   "execution_count": null,
   "metadata": {},
   "outputs": [],
   "source": [
    "tap.head()"
   ]
  },
  {
   "cell_type": "code",
   "execution_count": null,
   "metadata": {},
   "outputs": [],
   "source": [
    "def get_features_bpm(path):\n",
    "    samples, sample_rate = librosa.load(path)\n",
    "    onset_env = librosa.onset.onset_strength(samples, sr=sample_rate)\n",
    "    tempo = librosa.beat.tempo(onset_envelope=onset_env, sr=sample_rate)\n",
    "    return tempo.item()"
   ]
  },
  {
   "cell_type": "code",
   "execution_count": null,
   "metadata": {},
   "outputs": [],
   "source": [
    "get_features_bpm('../../../Source/Clean_train_clips/Augmented/Shuffle/1/1_stretch.wav')"
   ]
  },
  {
   "cell_type": "code",
   "execution_count": null,
   "metadata": {},
   "outputs": [],
   "source": [
    "get_features_bpm('../../../Source/Clean_train_clips/Shuffle/1/1.wav')"
   ]
  },
  {
   "cell_type": "code",
   "execution_count": null,
   "metadata": {},
   "outputs": [],
   "source": [
    "tap['BPM'] = [get_features_bpm(tap.loc[idx, 'Path']) for idx in range (len(tap))]"
   ]
  },
  {
   "cell_type": "code",
   "execution_count": null,
   "metadata": {},
   "outputs": [],
   "source": [
    "tap.head()"
   ]
  },
  {
   "cell_type": "markdown",
   "metadata": {},
   "source": [
    "** Add features: zero-crossing rate (pad with zeros to make a consistant length)**"
   ]
  },
  {
   "cell_type": "code",
   "execution_count": null,
   "metadata": {},
   "outputs": [],
   "source": [
    "length_list = []\n",
    "for i in range (len(path_col)):\n",
    "    samples, sample_rate = librosa.load(path_col[i])\n",
    "    length_list.append(len(samples))\n",
    "print(max(length_list))"
   ]
  },
  {
   "cell_type": "code",
   "execution_count": null,
   "metadata": {},
   "outputs": [],
   "source": [
    "length = max(length_list)\n",
    "def get_features_ZCR(path):\n",
    "    samples, sample_rate = librosa.load(path)\n",
    "    if len(samples) < length:\n",
    "        y = librosa.util.pad_center(samples, length ,axis=0) \n",
    "    else:\n",
    "        y = samples\n",
    "    #else :\n",
    "    #    midpoint = int(samples.shape[0]/2)\n",
    "    #    y = samples[midpoint-int(length/2):midpoint+int(length/2)]\n",
    "    return librosa.feature.zero_crossing_rate(y, frame_length=250, hop_length=125)"
   ]
  },
  {
   "cell_type": "code",
   "execution_count": null,
   "metadata": {},
   "outputs": [],
   "source": [
    "# Create an empty dataframe to fill with ZCR values\n",
    "d = pd.DataFrame(np.zeros((912, 165)))\n",
    "tap = pd.concat([tap, d], axis=1)"
   ]
  },
  {
   "cell_type": "code",
   "execution_count": null,
   "metadata": {},
   "outputs": [],
   "source": [
    "for j in range (len(tap))  :  \n",
    "    s = get_features_ZCR(tap.loc[j,'Path'])[0]\n",
    "    for i in range (165):\n",
    "        tap.iat[j,i+2] = s.item(i)"
   ]
  },
  {
   "cell_type": "code",
   "execution_count": null,
   "metadata": {},
   "outputs": [],
   "source": [
    "tap.head()"
   ]
  },
  {
   "cell_type": "markdown",
   "metadata": {},
   "source": [
    "** Add features: root mean square energy value**"
   ]
  },
  {
   "cell_type": "code",
   "execution_count": null,
   "metadata": {},
   "outputs": [],
   "source": [
    "def get_features_rmse(path):\n",
    "    samples, sample_rate = librosa.load(path)\n",
    "    samples = librosa.util.pad_center(samples, 54000, axis=0)\n",
    "    #return np.mean(librosa.feature.rmse(y=samples).T,axis=0).item()\n",
    "    #return librosa.feature.rmse(samples, frame_length=512, hop_length=256)\n",
    "    return samples"
   ]
  },
  {
   "cell_type": "code",
   "execution_count": null,
   "metadata": {},
   "outputs": [],
   "source": [
    "#tap['RMSE'] = [get_features_rmse(tap.loc[idx, 'Path']) for idx in range (len(tap))]\n",
    "get_features_rmse('../../../Source/Clean_train_clips/Shuffle/1/2.wav').shape\n",
    "plt.plot(get_features_rmse('../../../Source/Clean_train_clips/Shuffle/1/2.wav'))"
   ]
  },
  {
   "cell_type": "markdown",
   "metadata": {},
   "source": [
    "** Add features: short term energy**"
   ]
  },
  {
   "cell_type": "code",
   "execution_count": null,
   "metadata": {},
   "outputs": [],
   "source": [
    "def get_features_ste(path):\n",
    "    hop_length = 125\n",
    "    frame_length = 250\n",
    "    samples, sample_rate = librosa.load(path)\n",
    "    energy = np.array([sum(abs(samples[i:i+frame_length]**2))for i in range(0, len(samples), hop_length)])\n",
    "    #return np.mean(energy.T)\n",
    "    return energy"
   ]
  },
  {
   "cell_type": "code",
   "execution_count": null,
   "metadata": {},
   "outputs": [],
   "source": [
    "get_features_ste('../../../Source/Clean_train_clips/Augmented/Ball_change/5/1_stretch.wav').shape"
   ]
  },
  {
   "cell_type": "code",
   "execution_count": null,
   "metadata": {},
   "outputs": [],
   "source": [
    "y, sr = librosa.load('../../../Source/Clean_train_clips/Augmented/Ball_change/5/1_stretch.wav')\n",
    "plt.plot(y)"
   ]
  },
  {
   "cell_type": "code",
   "execution_count": null,
   "metadata": {},
   "outputs": [],
   "source": [
    "#tap['STE'] = [get_features_ste(tap.loc[idx, 'Path']) for idx in range (len(tap))]"
   ]
  },
  {
   "cell_type": "markdown",
   "metadata": {},
   "source": [
    "**Add features: Short-time Fourier Transform**"
   ]
  },
  {
   "cell_type": "code",
   "execution_count": null,
   "metadata": {},
   "outputs": [],
   "source": [
    "#tap['STFT'] = [get_features_stft(tap.loc[idx, 'Path']) for idx in range (len(tap))]\n"
   ]
  },
  {
   "cell_type": "code",
   "execution_count": null,
   "metadata": {},
   "outputs": [],
   "source": [
    "#for i in range (int(n_fft/2+1)):\n",
    "#    tap[str(i)] = [get_features_stft(tap.loc[idx, 'Path'])[i] for idx in range (len(tap))]"
   ]
  },
  {
   "cell_type": "markdown",
   "metadata": {},
   "source": [
    "**Add features: Fast Fourier Transform**"
   ]
  },
  {
   "cell_type": "code",
   "execution_count": null,
   "metadata": {},
   "outputs": [],
   "source": [
    "#tap['FFT'] = [get_features_fft(tap.loc[idx, 'Path']) for idx in range (len(tap))]"
   ]
  },
  {
   "cell_type": "markdown",
   "metadata": {},
   "source": [
    "**Add features: Discrete cosine transform**"
   ]
  },
  {
   "cell_type": "code",
   "execution_count": null,
   "metadata": {},
   "outputs": [],
   "source": [
    "#tap['DCT'] = [get_features_dct(tap.loc[idx, 'Path']) for idx in range (len(tap))]"
   ]
  },
  {
   "cell_type": "markdown",
   "metadata": {},
   "source": [
    "### Pimped out DataFrame"
   ]
  },
  {
   "cell_type": "code",
   "execution_count": null,
   "metadata": {},
   "outputs": [],
   "source": []
  },
  {
   "cell_type": "code",
   "execution_count": 22,
   "metadata": {},
   "outputs": [
    {
     "data": {
      "text/html": [
       "<div>\n",
       "<style scoped>\n",
       "    .dataframe tbody tr th:only-of-type {\n",
       "        vertical-align: middle;\n",
       "    }\n",
       "\n",
       "    .dataframe tbody tr th {\n",
       "        vertical-align: top;\n",
       "    }\n",
       "\n",
       "    .dataframe thead th {\n",
       "        text-align: right;\n",
       "    }\n",
       "</style>\n",
       "<table border=\"1\" class=\"dataframe\">\n",
       "  <thead>\n",
       "    <tr style=\"text-align: right;\">\n",
       "      <th></th>\n",
       "      <th>Path</th>\n",
       "      <th>Labels</th>\n",
       "      <th>0</th>\n",
       "      <th>1</th>\n",
       "      <th>2</th>\n",
       "      <th>3</th>\n",
       "      <th>4</th>\n",
       "      <th>5</th>\n",
       "      <th>6</th>\n",
       "      <th>7</th>\n",
       "      <th>...</th>\n",
       "      <th>10</th>\n",
       "      <th>11</th>\n",
       "      <th>12</th>\n",
       "      <th>13</th>\n",
       "      <th>14</th>\n",
       "      <th>15</th>\n",
       "      <th>16</th>\n",
       "      <th>17</th>\n",
       "      <th>18</th>\n",
       "      <th>19</th>\n",
       "    </tr>\n",
       "  </thead>\n",
       "  <tbody>\n",
       "    <tr>\n",
       "      <th>0</th>\n",
       "      <td>../../../Source/Clean_train_clips/Re_augmented...</td>\n",
       "      <td>1</td>\n",
       "      <td>-111.605465</td>\n",
       "      <td>39.188962</td>\n",
       "      <td>-81.679966</td>\n",
       "      <td>20.393887</td>\n",
       "      <td>4.074106</td>\n",
       "      <td>-11.102911</td>\n",
       "      <td>-18.300510</td>\n",
       "      <td>-4.375751</td>\n",
       "      <td>...</td>\n",
       "      <td>-14.746165</td>\n",
       "      <td>-13.217085</td>\n",
       "      <td>2.010731</td>\n",
       "      <td>-9.008981</td>\n",
       "      <td>-11.552828</td>\n",
       "      <td>1.225305</td>\n",
       "      <td>-3.679972</td>\n",
       "      <td>-13.073083</td>\n",
       "      <td>-2.380595</td>\n",
       "      <td>-2.002468</td>\n",
       "    </tr>\n",
       "    <tr>\n",
       "      <th>1</th>\n",
       "      <td>../../../Source/Clean_train_clips/Re_augmented...</td>\n",
       "      <td>1</td>\n",
       "      <td>-124.765927</td>\n",
       "      <td>59.099908</td>\n",
       "      <td>-107.706609</td>\n",
       "      <td>34.986722</td>\n",
       "      <td>-7.126354</td>\n",
       "      <td>-4.114656</td>\n",
       "      <td>-28.856100</td>\n",
       "      <td>0.194913</td>\n",
       "      <td>...</td>\n",
       "      <td>-19.339707</td>\n",
       "      <td>-13.854616</td>\n",
       "      <td>-1.720148</td>\n",
       "      <td>-9.828810</td>\n",
       "      <td>-14.683264</td>\n",
       "      <td>-0.436352</td>\n",
       "      <td>-6.158605</td>\n",
       "      <td>-14.315085</td>\n",
       "      <td>-3.680532</td>\n",
       "      <td>-3.380997</td>\n",
       "    </tr>\n",
       "    <tr>\n",
       "      <th>2</th>\n",
       "      <td>../../../Source/Clean_train_clips/Re_augmented...</td>\n",
       "      <td>1</td>\n",
       "      <td>-157.899262</td>\n",
       "      <td>62.348967</td>\n",
       "      <td>-104.690150</td>\n",
       "      <td>33.359436</td>\n",
       "      <td>-9.649191</td>\n",
       "      <td>-4.823440</td>\n",
       "      <td>-30.225424</td>\n",
       "      <td>0.160945</td>\n",
       "      <td>...</td>\n",
       "      <td>-22.051224</td>\n",
       "      <td>-11.060202</td>\n",
       "      <td>1.349207</td>\n",
       "      <td>-10.089470</td>\n",
       "      <td>-13.730110</td>\n",
       "      <td>-0.723506</td>\n",
       "      <td>-5.207173</td>\n",
       "      <td>-16.210524</td>\n",
       "      <td>-4.518669</td>\n",
       "      <td>-3.492280</td>\n",
       "    </tr>\n",
       "    <tr>\n",
       "      <th>3</th>\n",
       "      <td>../../../Source/Clean_train_clips/Re_augmented...</td>\n",
       "      <td>1</td>\n",
       "      <td>-112.563192</td>\n",
       "      <td>43.322040</td>\n",
       "      <td>-77.893877</td>\n",
       "      <td>23.408783</td>\n",
       "      <td>9.349165</td>\n",
       "      <td>-9.172222</td>\n",
       "      <td>-12.264922</td>\n",
       "      <td>-10.973006</td>\n",
       "      <td>...</td>\n",
       "      <td>-24.674963</td>\n",
       "      <td>-12.264014</td>\n",
       "      <td>5.147175</td>\n",
       "      <td>-9.701486</td>\n",
       "      <td>-10.931069</td>\n",
       "      <td>-0.785393</td>\n",
       "      <td>-1.715562</td>\n",
       "      <td>-19.159819</td>\n",
       "      <td>-5.605177</td>\n",
       "      <td>-2.166103</td>\n",
       "    </tr>\n",
       "    <tr>\n",
       "      <th>4</th>\n",
       "      <td>../../../Source/Clean_train_clips/Re_augmented...</td>\n",
       "      <td>1</td>\n",
       "      <td>-127.778268</td>\n",
       "      <td>59.036205</td>\n",
       "      <td>-98.709749</td>\n",
       "      <td>36.489147</td>\n",
       "      <td>-5.924282</td>\n",
       "      <td>-0.904265</td>\n",
       "      <td>-23.447733</td>\n",
       "      <td>-5.196082</td>\n",
       "      <td>...</td>\n",
       "      <td>-32.384483</td>\n",
       "      <td>-10.076653</td>\n",
       "      <td>-0.175095</td>\n",
       "      <td>-9.560018</td>\n",
       "      <td>-14.250261</td>\n",
       "      <td>-1.962245</td>\n",
       "      <td>-4.320603</td>\n",
       "      <td>-20.652914</td>\n",
       "      <td>-8.085718</td>\n",
       "      <td>-2.686323</td>\n",
       "    </tr>\n",
       "  </tbody>\n",
       "</table>\n",
       "<p>5 rows × 22 columns</p>\n",
       "</div>"
      ],
      "text/plain": [
       "                                                Path  Labels           0  \\\n",
       "0  ../../../Source/Clean_train_clips/Re_augmented...       1 -111.605465   \n",
       "1  ../../../Source/Clean_train_clips/Re_augmented...       1 -124.765927   \n",
       "2  ../../../Source/Clean_train_clips/Re_augmented...       1 -157.899262   \n",
       "3  ../../../Source/Clean_train_clips/Re_augmented...       1 -112.563192   \n",
       "4  ../../../Source/Clean_train_clips/Re_augmented...       1 -127.778268   \n",
       "\n",
       "           1           2          3         4          5          6  \\\n",
       "0  39.188962  -81.679966  20.393887  4.074106 -11.102911 -18.300510   \n",
       "1  59.099908 -107.706609  34.986722 -7.126354  -4.114656 -28.856100   \n",
       "2  62.348967 -104.690150  33.359436 -9.649191  -4.823440 -30.225424   \n",
       "3  43.322040  -77.893877  23.408783  9.349165  -9.172222 -12.264922   \n",
       "4  59.036205  -98.709749  36.489147 -5.924282  -0.904265 -23.447733   \n",
       "\n",
       "           7    ...            10         11        12         13         14  \\\n",
       "0  -4.375751    ...    -14.746165 -13.217085  2.010731  -9.008981 -11.552828   \n",
       "1   0.194913    ...    -19.339707 -13.854616 -1.720148  -9.828810 -14.683264   \n",
       "2   0.160945    ...    -22.051224 -11.060202  1.349207 -10.089470 -13.730110   \n",
       "3 -10.973006    ...    -24.674963 -12.264014  5.147175  -9.701486 -10.931069   \n",
       "4  -5.196082    ...    -32.384483 -10.076653 -0.175095  -9.560018 -14.250261   \n",
       "\n",
       "         15        16         17        18        19  \n",
       "0  1.225305 -3.679972 -13.073083 -2.380595 -2.002468  \n",
       "1 -0.436352 -6.158605 -14.315085 -3.680532 -3.380997  \n",
       "2 -0.723506 -5.207173 -16.210524 -4.518669 -3.492280  \n",
       "3 -0.785393 -1.715562 -19.159819 -5.605177 -2.166103  \n",
       "4 -1.962245 -4.320603 -20.652914 -8.085718 -2.686323  \n",
       "\n",
       "[5 rows x 22 columns]"
      ]
     },
     "execution_count": 22,
     "metadata": {},
     "output_type": "execute_result"
    }
   ],
   "source": [
    "tap.head()"
   ]
  },
  {
   "cell_type": "markdown",
   "metadata": {},
   "source": [
    "### Split into train and test sets"
   ]
  },
  {
   "cell_type": "code",
   "execution_count": 23,
   "metadata": {},
   "outputs": [],
   "source": [
    "X = tap.drop(['Labels'], axis =1)\n",
    "y = tap[['Labels']]"
   ]
  },
  {
   "cell_type": "code",
   "execution_count": 24,
   "metadata": {},
   "outputs": [],
   "source": [
    "#X_train, X_test, y_train, y_test = train_test_split(X, y,\n",
    "#                                                    stratify=y, \n",
    "#                                                    test_size=0.25)"
   ]
  },
  {
   "cell_type": "code",
   "execution_count": null,
   "metadata": {},
   "outputs": [],
   "source": []
  },
  {
   "cell_type": "code",
   "execution_count": 25,
   "metadata": {},
   "outputs": [],
   "source": [
    "X_train = pd.DataFrame(X)\n",
    "#X_test = pd.DataFrame(X_test)\n",
    "y_train = pd.DataFrame(y)\n",
    "#y_test = pd.DataFrame(y_test)"
   ]
  },
  {
   "cell_type": "code",
   "execution_count": 26,
   "metadata": {},
   "outputs": [],
   "source": [
    "X_train.to_csv('../../../Source/Data/X_train_audio_reaugmented_mfcc.csv', index=None)\n",
    "y_train.to_csv('../../../Source/Data/y_train_audio_reaugmented_mfcc.csv', index=None)\n",
    "#X_test.to_csv('../../../Source/Data/X_test_audio_augmented_stft.csv', index=None)\n",
    "#y_test.to_csv('../../../Source/Data/y_test_audio_augmented_stft.csv', index=None)\n",
    "#X_train.to_csv('../../../Source/Data/X_train_audio_augmented_mfcc_tempo.csv', index=None)\n",
    "#y_train.to_csv('../../../Source/Data/y_train_audio_augmented_mfcc_tempo.csv', index=None)\n",
    "\n"
   ]
  },
  {
   "cell_type": "code",
   "execution_count": null,
   "metadata": {},
   "outputs": [],
   "source": []
  },
  {
   "cell_type": "code",
   "execution_count": 27,
   "metadata": {},
   "outputs": [],
   "source": [
    "tap.to_csv('../../../Source/Data/train_data_reaugmented_mfcc.csv', index=None)"
   ]
  },
  {
   "cell_type": "code",
   "execution_count": null,
   "metadata": {},
   "outputs": [],
   "source": []
  },
  {
   "cell_type": "markdown",
   "metadata": {},
   "source": [
    "### Repeat feature extraction on validation/test set"
   ]
  },
  {
   "cell_type": "code",
   "execution_count": null,
   "metadata": {},
   "outputs": [],
   "source": [
    "#y_test = pd.read_csv('../../../Source/Data/y_test_preAugmented_stft.csv')"
   ]
  },
  {
   "cell_type": "code",
   "execution_count": null,
   "metadata": {},
   "outputs": [],
   "source": [
    "#X_test_path_col = []\n",
    "#X_test = pd.read_csv('../../../Source/Data/X_test_preAugmented_stft.csv', names=['Path'])\n",
    "#for i in range ( len(X_test)):\n",
    "#    X_test_path_col.append(Path(X_test.loc[i, 'Path']))"
   ]
  },
  {
   "cell_type": "code",
   "execution_count": null,
   "metadata": {},
   "outputs": [],
   "source": [
    "#test_data = pd.DataFrame({'Path':X_test_path_col})"
   ]
  },
  {
   "cell_type": "code",
   "execution_count": null,
   "metadata": {},
   "outputs": [],
   "source": [
    "#test_data['Labels'] = [get_label(test_data.loc[idx,'Path']) for idx in range(len(test_data))]"
   ]
  },
  {
   "cell_type": "code",
   "execution_count": 28,
   "metadata": {},
   "outputs": [],
   "source": [
    "test_data = pd.read_csv('../../../Source/Data/X_test_reserved.csv')\n",
    "test_labels = pd.read_csv('../../../Source/Data/y_test_reserved.csv')"
   ]
  },
  {
   "cell_type": "code",
   "execution_count": 33,
   "metadata": {},
   "outputs": [
    {
     "data": {
      "text/plain": [
       "(115, 21)"
      ]
     },
     "execution_count": 33,
     "metadata": {},
     "output_type": "execute_result"
    }
   ],
   "source": [
    "test_data.shape"
   ]
  },
  {
   "cell_type": "code",
   "execution_count": null,
   "metadata": {},
   "outputs": [],
   "source": [
    "#for i in range (int(n_fft/2+1)):\n",
    "#    test_data[str(i)] = [get_features_stft(test_data.loc[idx, 'Path'])[i] for idx in range (len(test_data))]"
   ]
  },
  {
   "cell_type": "code",
   "execution_count": null,
   "metadata": {},
   "outputs": [],
   "source": [
    "#for i in range (668):\n",
    "#    test_data[str(i)] = [get_features_ZCR(path)[0][i] for idx in range (len(test_data))]"
   ]
  },
  {
   "cell_type": "code",
   "execution_count": 30,
   "metadata": {},
   "outputs": [],
   "source": [
    "# Create an empty dataframe to fill with MFCC values\n",
    "d = pd.DataFrame(np.zeros((115, 20)))\n",
    "test_data = pd.concat([test_data, d], axis=1)"
   ]
  },
  {
   "cell_type": "code",
   "execution_count": 35,
   "metadata": {},
   "outputs": [],
   "source": [
    "# FASTER! \n",
    "for j in range (len(test_data))  :  \n",
    "    s = get_features_mfcc(test_data.loc[j,'Path'])\n",
    "    for i in range (n_mfcc):\n",
    "        test_data.iat[j,i+1] = s[i]"
   ]
  },
  {
   "cell_type": "code",
   "execution_count": null,
   "metadata": {},
   "outputs": [],
   "source": [
    "#test_data['BPM'] = [get_features_bpm(test_data.loc[idx, 'Path']) for idx in range (len(test_data))]"
   ]
  },
  {
   "cell_type": "code",
   "execution_count": null,
   "metadata": {},
   "outputs": [],
   "source": [
    "# Create an empty dataframe to fill with ZCR values\n",
    "d = pd.DataFrame(np.zeros((115, 165)))\n",
    "test_data = pd.concat([test_data, d], axis=1)"
   ]
  },
  {
   "cell_type": "code",
   "execution_count": null,
   "metadata": {},
   "outputs": [],
   "source": [
    "for j in range (len(test_data))  :  \n",
    "    s = get_features_ZCR(test_data.loc[j,'Path'])[0]\n",
    "    for i in range (165):\n",
    "        test_data.iat[j,i+1] = s.item(i) # Because I don't have the Labels column!"
   ]
  },
  {
   "cell_type": "code",
   "execution_count": null,
   "metadata": {},
   "outputs": [],
   "source": []
  },
  {
   "cell_type": "code",
   "execution_count": null,
   "metadata": {},
   "outputs": [],
   "source": [
    "#X = test_data.drop(['Labels'], axis =1)\n",
    "#y = test_data[['Labels']]"
   ]
  },
  {
   "cell_type": "code",
   "execution_count": 36,
   "metadata": {},
   "outputs": [],
   "source": [
    "#X_test = pd.DataFrame(X)\n",
    "#y_test = pd.DataFrame(y)\n",
    "X_test = test_data\n",
    "y_test = test_labels"
   ]
  },
  {
   "cell_type": "code",
   "execution_count": 39,
   "metadata": {},
   "outputs": [],
   "source": [
    "#X_test.head()\n",
    "#y_test.head()"
   ]
  },
  {
   "cell_type": "code",
   "execution_count": 40,
   "metadata": {},
   "outputs": [],
   "source": [
    "X_test.to_csv('../../../Source/Data/X_test_audio_mfcc_2.csv', index=None)\n",
    "y_test.to_csv('../../../Source/Data/y_test_audio_mfcc_2.csv', index=None)"
   ]
  },
  {
   "cell_type": "code",
   "execution_count": null,
   "metadata": {},
   "outputs": [],
   "source": []
  },
  {
   "cell_type": "code",
   "execution_count": null,
   "metadata": {},
   "outputs": [],
   "source": []
  },
  {
   "cell_type": "code",
   "execution_count": null,
   "metadata": {},
   "outputs": [],
   "source": []
  }
 ],
 "metadata": {
  "kernelspec": {
   "display_name": "Python 3",
   "language": "python",
   "name": "python3"
  },
  "language_info": {
   "codemirror_mode": {
    "name": "ipython",
    "version": 3
   },
   "file_extension": ".py",
   "mimetype": "text/x-python",
   "name": "python",
   "nbconvert_exporter": "python",
   "pygments_lexer": "ipython3",
   "version": "3.6.5"
  }
 },
 "nbformat": 4,
 "nbformat_minor": 2
}
