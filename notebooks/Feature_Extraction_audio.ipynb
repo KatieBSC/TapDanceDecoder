{
 "cells": [
  {
   "cell_type": "markdown",
   "metadata": {},
   "source": [
    "## Feature Extraction, New and Improved"
   ]
  },
  {
   "cell_type": "code",
   "execution_count": 1,
   "metadata": {},
   "outputs": [],
   "source": [
    "import pandas as pd\n",
    "import numpy as np\n",
    "import matplotlib.pyplot as plt\n",
    "import librosa.display\n",
    "from pathlib import Path\n",
    "from sklearn.model_selection import train_test_split\n",
    "from pydub import AudioSegment\n",
    "from scipy.fftpack import fft, dct"
   ]
  },
  {
   "cell_type": "markdown",
   "metadata": {},
   "source": [
    "---"
   ]
  },
  {
   "cell_type": "markdown",
   "metadata": {},
   "source": [
    "## Visualize audio data with librosa"
   ]
  },
  {
   "cell_type": "code",
   "execution_count": null,
   "metadata": {},
   "outputs": [],
   "source": [
    "y, sr = librosa.load('../../../Source/Clean_train_clips/Train_augment_pad/Shuffle/1/1_.wav')\n",
    "D = np.abs(librosa.stft(y))\n",
    "\n",
    "# Using left-aligned frames\n",
    "D_left = np.abs(librosa.stft(y,center=False))\n",
    "\n",
    "# Using a shorter hop length\n",
    "n_fft = 20 # default 2048\n",
    "D_short = np.abs(librosa.stft(y, n_fft=n_fft,hop_length=64)) # defaults to win_length(or n_fft)/4.\n",
    "\n",
    "\n",
    "\n",
    "#librosa.display.specshow(D_left);\n",
    "#librosa.display.specshow(D_short);\n",
    "\n",
    "# Wave plot\n",
    "plt.figure(figsize=(8,6))\n",
    "plt.subplot(221)\n",
    "librosa.display.waveplot(y, sr=sr)\n",
    "plt.title('Raw data: amplitude')\n",
    "\n",
    "# Power spectrogram with abs(stft(y))^2\n",
    "plt.subplot(222)\n",
    "librosa.display.specshow(D**2, sr=sr, y_axis='log')\n",
    "plt.colorbar()\n",
    "plt.title('Power spectrogram')\n",
    "\n",
    "# Log power with power_to_db\n",
    "plt.subplot(223)\n",
    "librosa.display.specshow(librosa.power_to_db(D**2,ref=np.max),sr=sr, y_axis='log', x_axis='time')\n",
    "plt.title('Log power spectrogram')\n",
    "plt.colorbar(format='%+2.0f dB')\n",
    "\n",
    "# Mel spectrogram \n",
    "plt.subplot(224)\n",
    "librosa.display.specshow(librosa.power_to_db(D**2,ref=np.max),\n",
    "                         y_axis='mel', fmax=8000, x_axis='time')\n",
    "plt.colorbar(format='%+2.0f dB')\n",
    "plt.title('Mel spectrogram');\n",
    "plt.tight_layout()\n",
    "\n",
    "\n",
    "\n",
    "y, sr = librosa.load('../../../workout.wav')\n",
    "D = np.abs(librosa.stft(y))**2\n",
    "S = librosa.feature.melspectrogram(S=D)\n",
    "\n",
    "\n",
    "plt.figure(figsize=(10, 4))\n",
    "librosa.display.specshow(librosa.power_to_db(S=S,ref=np.max),\n",
    "                         y_axis='mel', fmax=8000, x_axis='time')\n",
    "plt.colorbar(format='%+2.0f dB')\n",
    "plt.title('Mel spectrogram: (\"Workout\" by Chance the rapper)')\n",
    "plt.tight_layout()"
   ]
  },
  {
   "cell_type": "markdown",
   "metadata": {},
   "source": [
    "---"
   ]
  },
  {
   "cell_type": "markdown",
   "metadata": {},
   "source": [
    "# Feature Extraction: exploration\n",
    "## Tempo"
   ]
  },
  {
   "cell_type": "markdown",
   "metadata": {},
   "source": [
    "Let's try it with a stretched and unstretched sample"
   ]
  },
  {
   "cell_type": "code",
   "execution_count": null,
   "metadata": {},
   "outputs": [],
   "source": [
    "fast_clip = ('../../../Source/Clean_train_clips/Shuffle/1/1.wav')\n",
    "slow_clip = ('../../../Source/Clean_train_clips/Augmented/Shuffle/1/1_stretch.wav') "
   ]
  },
  {
   "cell_type": "code",
   "execution_count": 2,
   "metadata": {},
   "outputs": [],
   "source": [
    "def get_features_bpm(path): \n",
    "    samples, sample_rate = librosa.load(path)\n",
    "    onset_env = librosa.onset.onset_strength(samples, sr=sample_rate) # Assumes static tempo, for dynamic: aggregate=None\n",
    "    tempo = librosa.beat.tempo(onset_envelope=onset_env, sr=sample_rate)\n",
    "    return tempo.item()\n"
   ]
  },
  {
   "cell_type": "code",
   "execution_count": null,
   "metadata": {},
   "outputs": [],
   "source": [
    "get_features_bpm(slow_clip), get_features_bpm(fast_clip)"
   ]
  },
  {
   "cell_type": "code",
   "execution_count": null,
   "metadata": {},
   "outputs": [],
   "source": []
  },
  {
   "cell_type": "markdown",
   "metadata": {},
   "source": [
    "## Short-time Fourier transform (STFT)"
   ]
  },
  {
   "cell_type": "markdown",
   "metadata": {},
   "source": [
    "From librosa documentation: <br/>\n",
    "Returns a complex-valued matrix D such that\n",
    "np.abs(D[f, t]) is the magnitude of frequency bin f at frame t\n",
    " <br/><br/>***Why?***<br/>\n",
    " This transformation allows us to capture information or patterns in the signal's frequency in discrete, short windows of time. By placing them next to one another, we can visualize the signal's frequency as it changes over time (spectrogram)"
   ]
  },
  {
   "cell_type": "code",
   "execution_count": 3,
   "metadata": {},
   "outputs": [],
   "source": [
    "n_fft = 256 # default 2048\n",
    "win_length = n_fft  # default n_fft\n",
    "hop_length = int(win_length/2)  # default win_length/4\n",
    "window = 'hann'  # default hanning window"
   ]
  },
  {
   "cell_type": "code",
   "execution_count": 4,
   "metadata": {},
   "outputs": [],
   "source": [
    "def get_features_stft (path):\n",
    "        y, sr = librosa.load(path)\n",
    "        D = np.abs(librosa.stft(y, n_fft=n_fft, hop_length=hop_length, win_length=win_length, window=window))\n",
    "        return D"
   ]
  },
  {
   "cell_type": "code",
   "execution_count": null,
   "metadata": {},
   "outputs": [],
   "source": [
    "y, sr = librosa.load('../../../Source/Clean_train_clips/Train_augment_pad/Shuffle/1/1_.wav')\n",
    "D = get_features_stft('../../../Source/Clean_train_clips/Train_augment_pad/Shuffle/1/1_.wav')\n",
    "print('Shape of STFT output: ' ,D.shape)\n",
    "print('How did we get that?')\n",
    "print ('1 + n_fft/2 = ', int(1+n_fft/2))\n",
    "print ('len(signal)/n_fft * 2 + 1 = ', int(len(y)/256 *2 +1))"
   ]
  },
  {
   "cell_type": "code",
   "execution_count": null,
   "metadata": {},
   "outputs": [],
   "source": [
    "S_1 = get_features_stft('../../../Source/Clean_train_clips/Train_augment_pad/Shuffle/1/1_.wav')\n",
    "S_2 = get_features_stft('../../../Source/Clean_train_clips/Train_augment_pad/Ball_change/1/3_.wav')\n",
    "\n",
    "D_1 = librosa.power_to_db(S_1**2, ref=np.max)\n",
    "D_2 = librosa.power_to_db(S_2**2, ref=np.max)\n",
    "\n",
    "plt.figure(figsize=(8,6))\n",
    "\n",
    "plt.subplot(211)\n",
    "librosa.display.specshow(D_1, y_axis='linear')\n",
    "plt.colorbar(format='%+2.0f dB')\n",
    "plt.title('Shuffle')\n",
    "\n",
    "plt.subplot(212)\n",
    "librosa.display.specshow(D_2, y_axis='linear')\n",
    "plt.colorbar(format='%+2.0f dB')\n",
    "plt.title('Ball change')\n",
    "\n",
    "print('Linear-frequency power spectrogram for two different steps')"
   ]
  },
  {
   "cell_type": "markdown",
   "metadata": {},
   "source": [
    "## Mel-frequency cepstral coefficients "
   ]
  },
  {
   "cell_type": "code",
   "execution_count": 5,
   "metadata": {},
   "outputs": [],
   "source": [
    "n_mfcc = 20 "
   ]
  },
  {
   "cell_type": "code",
   "execution_count": 6,
   "metadata": {},
   "outputs": [],
   "source": [
    "def get_features_mfcc(path):\n",
    "    samples, sample_rate = librosa.load(path)\n",
    "    mfccs = np.mean(librosa.feature.mfcc(y=samples, sr=sample_rate, n_mfcc=n_mfcc).T,axis=0)\n",
    "    return mfccs"
   ]
  },
  {
   "cell_type": "code",
   "execution_count": null,
   "metadata": {},
   "outputs": [],
   "source": []
  },
  {
   "cell_type": "markdown",
   "metadata": {},
   "source": [
    "## Zero crossing rate\n"
   ]
  },
  {
   "cell_type": "code",
   "execution_count": 7,
   "metadata": {},
   "outputs": [],
   "source": [
    "def get_features_ZCR(path):\n",
    "    samples, sample_rate = librosa.load(path)\n",
    "    return librosa.feature.zero_crossing_rate(samples, frame_length=256, hop_length=128)"
   ]
  },
  {
   "cell_type": "code",
   "execution_count": 28,
   "metadata": {},
   "outputs": [],
   "source": [
    "example_path = ('../../../Source/Clean_train_clips/Train_augment_pad/Shuffle/1/1_.wav')"
   ]
  },
  {
   "cell_type": "code",
   "execution_count": 29,
   "metadata": {},
   "outputs": [],
   "source": [
    "zcr_length = get_features_ZCR(example_path).shape[1]"
   ]
  },
  {
   "cell_type": "code",
   "execution_count": null,
   "metadata": {},
   "outputs": [],
   "source": []
  },
  {
   "cell_type": "markdown",
   "metadata": {},
   "source": [
    "## Energy and Root Mean Square Energy"
   ]
  },
  {
   "cell_type": "code",
   "execution_count": 58,
   "metadata": {},
   "outputs": [
    {
     "name": "stdout",
     "output_type": "stream",
     "text": [
      "Duration in sec: 0.9420408163265306\n",
      "Length of sample: 20772\n"
     ]
    }
   ],
   "source": [
    "#x, sr = librosa.load('../../../Source/Clean_train_clips/Train_augment_pad/Shuffle/1/1_.wav')\n",
    "#x, sr = librosa.load('../../../Source/Clean_train_clips/All_data_pad/Shuffle/1/1.wav')\n",
    "print ('Duration in sec: ' + str(librosa.core.get_duration(x,sr)))\n",
    "print('Length of sample: ' + str(len(x)))"
   ]
  },
  {
   "cell_type": "code",
   "execution_count": 8,
   "metadata": {},
   "outputs": [],
   "source": [
    "hop_length = 128\n",
    "frame_length = 256"
   ]
  },
  {
   "cell_type": "code",
   "execution_count": 9,
   "metadata": {},
   "outputs": [],
   "source": [
    "def get_features_energy(path) :\n",
    "    samples, sample_rate = librosa.load(path)\n",
    "    energy = np.array([sum(abs(samples[i:i+frame_length]**2)) for i in range (0, len(samples), hop_length)])\n",
    "    return energy\n",
    "\n",
    "def get_features_rmse(path):\n",
    "    samples, sample_rate = librosa.load(path)\n",
    "    rmse = librosa.feature.rmse(samples, frame_length=frame_length, hop_length=hop_length, center=True)\n",
    "    return rmse[0]"
   ]
  },
  {
   "cell_type": "code",
   "execution_count": null,
   "metadata": {},
   "outputs": [],
   "source": [
    "# Could this be an option to reduce features? Does this make sense?\n",
    "\n",
    "#frame_length = int(len(x))\n",
    "#hop_length = int(frame_length/2)\n",
    "#print (frame_length, hop_length)\n",
    "#get_features_energy('../../../Source/Clean_train_clips/Re_augmented_pad/Shuffle/1/5_.wav')"
   ]
  },
  {
   "cell_type": "code",
   "execution_count": null,
   "metadata": {},
   "outputs": [],
   "source": [
    "# So the shape of the energy and RMSE is the result of # of samples / (frame_length/2) +1\n",
    "\n",
    "energy = get_features_energy('../../../Source/Clean_train_clips/Train_augment_pad/Shuffle/1/1_.wav')\n",
    "rmse = get_features_rmse('../../../Source/Clean_train_clips/Train_augment_pad/Shuffle/1/1_.wav')\n",
    "frames = range(len(energy))\n",
    "t = librosa.frames_to_time(frames, sr=sr, hop_length=hop_length) # Why?\n",
    "## Visualization\n",
    "#plt.figure(figsize=(8,6))\n",
    "librosa.display.waveplot(x, sr=sr, alpha=0.8)\n",
    "plt.plot(t, energy/energy.max(), 'r--')             # normalized for visualization\n",
    "plt.plot(t[:len(rmse)], rmse/rmse.max(), color='g') # normalized for visualization\n",
    "plt.legend(('Energy', 'RMSE'))\n",
    "plt.title('Shuffle signal');\n"
   ]
  },
  {
   "cell_type": "code",
   "execution_count": null,
   "metadata": {},
   "outputs": [],
   "source": []
  },
  {
   "cell_type": "markdown",
   "metadata": {},
   "source": [
    "---"
   ]
  },
  {
   "cell_type": "markdown",
   "metadata": {},
   "source": [
    "## Feature Extraction: implementation\n",
    "(Organized in a DataFrame)"
   ]
  },
  {
   "cell_type": "code",
   "execution_count": 10,
   "metadata": {},
   "outputs": [],
   "source": [
    "def build_list(step, folder, length):\n",
    "    i = 1\n",
    "    step_list = []\n",
    "    while i <= length :\n",
    "        name = step + \"/\" + str(folder) + \"/\" +str(i) + \".wav\"\n",
    "        step_list.append(name)\n",
    "        i += 1\n",
    "    return step_list\n",
    "\n",
    "def get_label(path):\n",
    "    if path.parts[-3] == 'Shuffle':\n",
    "        return 1\n",
    "    else:\n",
    "        return 0"
   ]
  },
  {
   "cell_type": "markdown",
   "metadata": {},
   "source": [
    "---"
   ]
  },
  {
   "cell_type": "markdown",
   "metadata": {},
   "source": [
    "### Load Train, Validate, or Test Data"
   ]
  },
  {
   "cell_type": "code",
   "execution_count": 40,
   "metadata": {},
   "outputs": [],
   "source": [
    "path_col = []"
   ]
  },
  {
   "cell_type": "code",
   "execution_count": 41,
   "metadata": {},
   "outputs": [],
   "source": [
    "# Train \n",
    "pathlist = Path('../../../Source/Clean_train_clips/All_data_pad/').glob('**/*.wav')\n",
    "for path in pathlist:\n",
    "    path_col.append(path)"
   ]
  },
  {
   "cell_type": "code",
   "execution_count": null,
   "metadata": {},
   "outputs": [],
   "source": [
    "# Validate\n",
    "#pathlist = Path('../../../Source/Clean_train_clips/Validate_pad').glob('**/*.wav')\n",
    "#for path in pathlist:\n",
    "#    path_col.append(path)"
   ]
  },
  {
   "cell_type": "code",
   "execution_count": null,
   "metadata": {},
   "outputs": [],
   "source": [
    "# Test\n",
    "#pathlist = Path('../../../Source/Clean_train_clips/Test_pad').glob('**/*.wav')\n",
    "#for path in pathlist:\n",
    "#    path_col.append(path)"
   ]
  },
  {
   "cell_type": "code",
   "execution_count": 42,
   "metadata": {},
   "outputs": [
    {
     "data": {
      "text/plain": [
       "343"
      ]
     },
     "execution_count": 42,
     "metadata": {},
     "output_type": "execute_result"
    }
   ],
   "source": [
    "len(path_col)  # Train: 916 , Validate: 38 , Test: 76"
   ]
  },
  {
   "cell_type": "markdown",
   "metadata": {},
   "source": [
    "** Create DataFrame from file paths **"
   ]
  },
  {
   "cell_type": "code",
   "execution_count": 43,
   "metadata": {},
   "outputs": [
    {
     "data": {
      "text/plain": [
       "(343, 1)"
      ]
     },
     "execution_count": 43,
     "metadata": {},
     "output_type": "execute_result"
    }
   ],
   "source": [
    "tap = pd.DataFrame({'Path':path_col})\n",
    "tap.shape"
   ]
  },
  {
   "cell_type": "markdown",
   "metadata": {},
   "source": [
    "---"
   ]
  },
  {
   "cell_type": "markdown",
   "metadata": {},
   "source": [
    "**Add labels**"
   ]
  },
  {
   "cell_type": "code",
   "execution_count": 44,
   "metadata": {},
   "outputs": [],
   "source": [
    "tap['Labels'] = [get_label(tap.loc[idx,'Path']) for idx in range(len(tap))]"
   ]
  },
  {
   "cell_type": "code",
   "execution_count": 45,
   "metadata": {},
   "outputs": [
    {
     "data": {
      "text/html": [
       "<div>\n",
       "<style scoped>\n",
       "    .dataframe tbody tr th:only-of-type {\n",
       "        vertical-align: middle;\n",
       "    }\n",
       "\n",
       "    .dataframe tbody tr th {\n",
       "        vertical-align: top;\n",
       "    }\n",
       "\n",
       "    .dataframe thead th {\n",
       "        text-align: right;\n",
       "    }\n",
       "</style>\n",
       "<table border=\"1\" class=\"dataframe\">\n",
       "  <thead>\n",
       "    <tr style=\"text-align: right;\">\n",
       "      <th></th>\n",
       "      <th>Path</th>\n",
       "      <th>Labels</th>\n",
       "    </tr>\n",
       "  </thead>\n",
       "  <tbody>\n",
       "    <tr>\n",
       "      <th>0</th>\n",
       "      <td>../../../Source/Clean_train_clips/All_data_pad...</td>\n",
       "      <td>0</td>\n",
       "    </tr>\n",
       "    <tr>\n",
       "      <th>1</th>\n",
       "      <td>../../../Source/Clean_train_clips/All_data_pad...</td>\n",
       "      <td>0</td>\n",
       "    </tr>\n",
       "    <tr>\n",
       "      <th>2</th>\n",
       "      <td>../../../Source/Clean_train_clips/All_data_pad...</td>\n",
       "      <td>0</td>\n",
       "    </tr>\n",
       "    <tr>\n",
       "      <th>3</th>\n",
       "      <td>../../../Source/Clean_train_clips/All_data_pad...</td>\n",
       "      <td>0</td>\n",
       "    </tr>\n",
       "    <tr>\n",
       "      <th>4</th>\n",
       "      <td>../../../Source/Clean_train_clips/All_data_pad...</td>\n",
       "      <td>0</td>\n",
       "    </tr>\n",
       "  </tbody>\n",
       "</table>\n",
       "</div>"
      ],
      "text/plain": [
       "                                                Path  Labels\n",
       "0  ../../../Source/Clean_train_clips/All_data_pad...       0\n",
       "1  ../../../Source/Clean_train_clips/All_data_pad...       0\n",
       "2  ../../../Source/Clean_train_clips/All_data_pad...       0\n",
       "3  ../../../Source/Clean_train_clips/All_data_pad...       0\n",
       "4  ../../../Source/Clean_train_clips/All_data_pad...       0"
      ]
     },
     "execution_count": 45,
     "metadata": {},
     "output_type": "execute_result"
    }
   ],
   "source": [
    "tap.head()"
   ]
  },
  {
   "cell_type": "markdown",
   "metadata": {},
   "source": [
    "** Empty Dataframe to fill**"
   ]
  },
  {
   "cell_type": "markdown",
   "metadata": {},
   "source": [
    "---"
   ]
  },
  {
   "cell_type": "markdown",
   "metadata": {},
   "source": [
    "# CNN is more than *fake news*"
   ]
  },
  {
   "cell_type": "code",
   "execution_count": null,
   "metadata": {},
   "outputs": [],
   "source": [
    "# Create an empty dataframe to fill with raw signal data\n",
    "\n",
    "d = pd.DataFrame(np.zeros((len(tap), 20772)))\n",
    "tap = pd.concat([tap, d], axis=1)"
   ]
  },
  {
   "cell_type": "code",
   "execution_count": null,
   "metadata": {},
   "outputs": [],
   "source": [
    "# Raw data for CNN\n",
    "\n",
    "for j in range (len(tap))  :  \n",
    "    y, sr = librosa.load(tap.loc[j,'Path'])\n",
    "    for i in range (20772):\n",
    "        tap.iat[j,i+2] = y.item(i)\n",
    "\n",
    "\n"
   ]
  },
  {
   "cell_type": "code",
   "execution_count": null,
   "metadata": {},
   "outputs": [],
   "source": [
    "tap.head()\n",
    "#tap.to_csv('../../../Source/Data/train_data_signal.csv', index=None)\n",
    "\n",
    "X = tap.drop(['Labels'], axis =1)\n",
    "y = tap[['Labels']]\n",
    "\n",
    "X_df = pd.DataFrame(X)\n",
    "y_df = pd.DataFrame(y)\n",
    "\n",
    "# Export inputs and targets\n",
    "\n",
    "#X_df.to_csv('../../../Source/Data/X_train_signal.csv', index=None)\n",
    "#y_df.to_csv('../../../Source/Data/y_train_signal.csv', index=None)\n",
    "\n",
    "\n"
   ]
  },
  {
   "cell_type": "code",
   "execution_count": null,
   "metadata": {},
   "outputs": [],
   "source": []
  },
  {
   "cell_type": "markdown",
   "metadata": {},
   "source": [
    "---"
   ]
  },
  {
   "cell_type": "code",
   "execution_count": 46,
   "metadata": {},
   "outputs": [],
   "source": [
    "# Create an empty dataframe to fill with multiple feature values\n",
    "# mfcc: 20, zcr/rmse/energy: 163 each\n",
    "\n",
    "d = pd.DataFrame(np.zeros((len(tap), int(n_mfcc+zcr_length*3))))\n",
    "tap = pd.concat([tap, d], axis=1)"
   ]
  },
  {
   "cell_type": "code",
   "execution_count": 47,
   "metadata": {},
   "outputs": [
    {
     "name": "stdout",
     "output_type": "stream",
     "text": [
      "(343, 511)\n"
     ]
    },
    {
     "data": {
      "text/plain": [
       "511"
      ]
     },
     "execution_count": 47,
     "metadata": {},
     "output_type": "execute_result"
    }
   ],
   "source": [
    "print(tap.shape)\n",
    "2+20+163*3"
   ]
  },
  {
   "cell_type": "markdown",
   "metadata": {},
   "source": [
    "**Add Features: MFCCs**"
   ]
  },
  {
   "cell_type": "code",
   "execution_count": null,
   "metadata": {},
   "outputs": [],
   "source": [
    "# TOO SLOW!\n",
    "#for i in range (n_mfcc):\n",
    "#    tap[str(i)] = [get_features_mfcc(tap.loc[idx, 'Path'])[i] for idx in range (len(tap))]"
   ]
  },
  {
   "cell_type": "code",
   "execution_count": 48,
   "metadata": {},
   "outputs": [],
   "source": [
    "# Add feature to DataFrame\n",
    "for j in range (len(tap))  :  \n",
    "    s = get_features_mfcc(tap.loc[j,'Path'])\n",
    "    for i in range (n_mfcc):\n",
    "        tap.iat[j,i+2] = s[i]"
   ]
  },
  {
   "cell_type": "code",
   "execution_count": null,
   "metadata": {},
   "outputs": [],
   "source": [
    "tap.head()\n",
    "#tap.iloc[:,20:]\n",
    "#tap.iat[0,0+22]"
   ]
  },
  {
   "cell_type": "markdown",
   "metadata": {},
   "source": [
    "** Add Features: Tempo**"
   ]
  },
  {
   "cell_type": "code",
   "execution_count": 49,
   "metadata": {},
   "outputs": [],
   "source": [
    "tap['BPM'] = [get_features_bpm(tap.loc[idx, 'Path']) for idx in range (len(tap))]"
   ]
  },
  {
   "cell_type": "code",
   "execution_count": 50,
   "metadata": {},
   "outputs": [
    {
     "data": {
      "text/html": [
       "<div>\n",
       "<style scoped>\n",
       "    .dataframe tbody tr th:only-of-type {\n",
       "        vertical-align: middle;\n",
       "    }\n",
       "\n",
       "    .dataframe tbody tr th {\n",
       "        vertical-align: top;\n",
       "    }\n",
       "\n",
       "    .dataframe thead th {\n",
       "        text-align: right;\n",
       "    }\n",
       "</style>\n",
       "<table border=\"1\" class=\"dataframe\">\n",
       "  <thead>\n",
       "    <tr style=\"text-align: right;\">\n",
       "      <th></th>\n",
       "      <th>Path</th>\n",
       "      <th>Labels</th>\n",
       "      <th>0</th>\n",
       "      <th>1</th>\n",
       "      <th>2</th>\n",
       "      <th>3</th>\n",
       "      <th>4</th>\n",
       "      <th>5</th>\n",
       "      <th>6</th>\n",
       "      <th>7</th>\n",
       "      <th>...</th>\n",
       "      <th>500</th>\n",
       "      <th>501</th>\n",
       "      <th>502</th>\n",
       "      <th>503</th>\n",
       "      <th>504</th>\n",
       "      <th>505</th>\n",
       "      <th>506</th>\n",
       "      <th>507</th>\n",
       "      <th>508</th>\n",
       "      <th>BPM</th>\n",
       "    </tr>\n",
       "  </thead>\n",
       "  <tbody>\n",
       "    <tr>\n",
       "      <th>0</th>\n",
       "      <td>../../../Source/Clean_train_clips/All_data_pad...</td>\n",
       "      <td>0</td>\n",
       "      <td>-326.927232</td>\n",
       "      <td>53.234679</td>\n",
       "      <td>-64.985039</td>\n",
       "      <td>25.633761</td>\n",
       "      <td>-1.401056</td>\n",
       "      <td>6.295015</td>\n",
       "      <td>-27.605754</td>\n",
       "      <td>-3.661203</td>\n",
       "      <td>...</td>\n",
       "      <td>0.0</td>\n",
       "      <td>0.0</td>\n",
       "      <td>0.0</td>\n",
       "      <td>0.0</td>\n",
       "      <td>0.0</td>\n",
       "      <td>0.0</td>\n",
       "      <td>0.0</td>\n",
       "      <td>0.0</td>\n",
       "      <td>0.0</td>\n",
       "      <td>129.199219</td>\n",
       "    </tr>\n",
       "    <tr>\n",
       "      <th>1</th>\n",
       "      <td>../../../Source/Clean_train_clips/All_data_pad...</td>\n",
       "      <td>0</td>\n",
       "      <td>-387.249438</td>\n",
       "      <td>42.442224</td>\n",
       "      <td>-54.180225</td>\n",
       "      <td>22.499837</td>\n",
       "      <td>-1.018176</td>\n",
       "      <td>6.160341</td>\n",
       "      <td>-24.550584</td>\n",
       "      <td>0.326513</td>\n",
       "      <td>...</td>\n",
       "      <td>0.0</td>\n",
       "      <td>0.0</td>\n",
       "      <td>0.0</td>\n",
       "      <td>0.0</td>\n",
       "      <td>0.0</td>\n",
       "      <td>0.0</td>\n",
       "      <td>0.0</td>\n",
       "      <td>0.0</td>\n",
       "      <td>0.0</td>\n",
       "      <td>151.999081</td>\n",
       "    </tr>\n",
       "    <tr>\n",
       "      <th>2</th>\n",
       "      <td>../../../Source/Clean_train_clips/All_data_pad...</td>\n",
       "      <td>0</td>\n",
       "      <td>-298.261791</td>\n",
       "      <td>61.460930</td>\n",
       "      <td>-71.170218</td>\n",
       "      <td>30.486394</td>\n",
       "      <td>-1.232350</td>\n",
       "      <td>9.254733</td>\n",
       "      <td>-30.878759</td>\n",
       "      <td>1.156474</td>\n",
       "      <td>...</td>\n",
       "      <td>0.0</td>\n",
       "      <td>0.0</td>\n",
       "      <td>0.0</td>\n",
       "      <td>0.0</td>\n",
       "      <td>0.0</td>\n",
       "      <td>0.0</td>\n",
       "      <td>0.0</td>\n",
       "      <td>0.0</td>\n",
       "      <td>0.0</td>\n",
       "      <td>117.453835</td>\n",
       "    </tr>\n",
       "    <tr>\n",
       "      <th>3</th>\n",
       "      <td>../../../Source/Clean_train_clips/All_data_pad...</td>\n",
       "      <td>0</td>\n",
       "      <td>-417.480027</td>\n",
       "      <td>58.091213</td>\n",
       "      <td>-58.037477</td>\n",
       "      <td>13.197176</td>\n",
       "      <td>-0.272705</td>\n",
       "      <td>7.179415</td>\n",
       "      <td>-2.319621</td>\n",
       "      <td>2.725606</td>\n",
       "      <td>...</td>\n",
       "      <td>0.0</td>\n",
       "      <td>0.0</td>\n",
       "      <td>0.0</td>\n",
       "      <td>0.0</td>\n",
       "      <td>0.0</td>\n",
       "      <td>0.0</td>\n",
       "      <td>0.0</td>\n",
       "      <td>0.0</td>\n",
       "      <td>0.0</td>\n",
       "      <td>234.907670</td>\n",
       "    </tr>\n",
       "    <tr>\n",
       "      <th>4</th>\n",
       "      <td>../../../Source/Clean_train_clips/All_data_pad...</td>\n",
       "      <td>0</td>\n",
       "      <td>-333.263699</td>\n",
       "      <td>53.346323</td>\n",
       "      <td>-69.118786</td>\n",
       "      <td>34.424530</td>\n",
       "      <td>-8.487764</td>\n",
       "      <td>1.854447</td>\n",
       "      <td>-26.983685</td>\n",
       "      <td>3.395640</td>\n",
       "      <td>...</td>\n",
       "      <td>0.0</td>\n",
       "      <td>0.0</td>\n",
       "      <td>0.0</td>\n",
       "      <td>0.0</td>\n",
       "      <td>0.0</td>\n",
       "      <td>0.0</td>\n",
       "      <td>0.0</td>\n",
       "      <td>0.0</td>\n",
       "      <td>0.0</td>\n",
       "      <td>117.453835</td>\n",
       "    </tr>\n",
       "  </tbody>\n",
       "</table>\n",
       "<p>5 rows × 512 columns</p>\n",
       "</div>"
      ],
      "text/plain": [
       "                                                Path  Labels           0  \\\n",
       "0  ../../../Source/Clean_train_clips/All_data_pad...       0 -326.927232   \n",
       "1  ../../../Source/Clean_train_clips/All_data_pad...       0 -387.249438   \n",
       "2  ../../../Source/Clean_train_clips/All_data_pad...       0 -298.261791   \n",
       "3  ../../../Source/Clean_train_clips/All_data_pad...       0 -417.480027   \n",
       "4  ../../../Source/Clean_train_clips/All_data_pad...       0 -333.263699   \n",
       "\n",
       "           1          2          3         4         5          6         7  \\\n",
       "0  53.234679 -64.985039  25.633761 -1.401056  6.295015 -27.605754 -3.661203   \n",
       "1  42.442224 -54.180225  22.499837 -1.018176  6.160341 -24.550584  0.326513   \n",
       "2  61.460930 -71.170218  30.486394 -1.232350  9.254733 -30.878759  1.156474   \n",
       "3  58.091213 -58.037477  13.197176 -0.272705  7.179415  -2.319621  2.725606   \n",
       "4  53.346323 -69.118786  34.424530 -8.487764  1.854447 -26.983685  3.395640   \n",
       "\n",
       "      ...      500  501  502  503  504  505  506  507  508         BPM  \n",
       "0     ...      0.0  0.0  0.0  0.0  0.0  0.0  0.0  0.0  0.0  129.199219  \n",
       "1     ...      0.0  0.0  0.0  0.0  0.0  0.0  0.0  0.0  0.0  151.999081  \n",
       "2     ...      0.0  0.0  0.0  0.0  0.0  0.0  0.0  0.0  0.0  117.453835  \n",
       "3     ...      0.0  0.0  0.0  0.0  0.0  0.0  0.0  0.0  0.0  234.907670  \n",
       "4     ...      0.0  0.0  0.0  0.0  0.0  0.0  0.0  0.0  0.0  117.453835  \n",
       "\n",
       "[5 rows x 512 columns]"
      ]
     },
     "execution_count": 50,
     "metadata": {},
     "output_type": "execute_result"
    }
   ],
   "source": [
    "tap.head()"
   ]
  },
  {
   "cell_type": "markdown",
   "metadata": {},
   "source": [
    "** Add features: Zero-crossing rate**"
   ]
  },
  {
   "cell_type": "code",
   "execution_count": 51,
   "metadata": {},
   "outputs": [],
   "source": [
    "for j in range (len(tap))  :  \n",
    "    s = get_features_ZCR(tap.loc[j,'Path'])[0]\n",
    "    for i in range (zcr_length):\n",
    "        tap.iat[j,i+22] = s.item(i)"
   ]
  },
  {
   "cell_type": "code",
   "execution_count": 52,
   "metadata": {},
   "outputs": [
    {
     "data": {
      "text/plain": [
       "(343, 512)"
      ]
     },
     "execution_count": 52,
     "metadata": {},
     "output_type": "execute_result"
    }
   ],
   "source": [
    "tap.head()\n",
    "tap.shape\n",
    "#tap.iloc[:,20:]"
   ]
  },
  {
   "cell_type": "code",
   "execution_count": 53,
   "metadata": {},
   "outputs": [
    {
     "data": {
      "text/plain": [
       "(343, 512)"
      ]
     },
     "execution_count": 53,
     "metadata": {},
     "output_type": "execute_result"
    }
   ],
   "source": [
    "tap.shape"
   ]
  },
  {
   "cell_type": "markdown",
   "metadata": {},
   "source": [
    "**Add features: Short-time Fourier Transform**"
   ]
  },
  {
   "cell_type": "code",
   "execution_count": null,
   "metadata": {},
   "outputs": [],
   "source": [
    "#for j in range (len(tap))  :  \n",
    "#    s = get_features_stft(tap.loc[j,'Path'])[0]\n",
    "#    for i in range (int(n_fft/2+1)):\n",
    "#        tap.iat[j,i+2] = s.item(i)"
   ]
  },
  {
   "cell_type": "code",
   "execution_count": null,
   "metadata": {},
   "outputs": [],
   "source": [
    "#tap.head()\n",
    "#2+20+zcr_length"
   ]
  },
  {
   "cell_type": "markdown",
   "metadata": {},
   "source": [
    "**Add Features: Energy **"
   ]
  },
  {
   "cell_type": "code",
   "execution_count": 54,
   "metadata": {},
   "outputs": [],
   "source": [
    "for j in range (len(tap))  :  \n",
    "    s = get_features_energy(tap.loc[j,'Path'])\n",
    "    for i in range (zcr_length):\n",
    "        tap.iat[j,i+185] = s.item(i)"
   ]
  },
  {
   "cell_type": "code",
   "execution_count": 55,
   "metadata": {},
   "outputs": [
    {
     "data": {
      "text/html": [
       "<div>\n",
       "<style scoped>\n",
       "    .dataframe tbody tr th:only-of-type {\n",
       "        vertical-align: middle;\n",
       "    }\n",
       "\n",
       "    .dataframe tbody tr th {\n",
       "        vertical-align: top;\n",
       "    }\n",
       "\n",
       "    .dataframe thead th {\n",
       "        text-align: right;\n",
       "    }\n",
       "</style>\n",
       "<table border=\"1\" class=\"dataframe\">\n",
       "  <thead>\n",
       "    <tr style=\"text-align: right;\">\n",
       "      <th></th>\n",
       "      <th>Path</th>\n",
       "      <th>Labels</th>\n",
       "      <th>0</th>\n",
       "      <th>1</th>\n",
       "      <th>2</th>\n",
       "      <th>3</th>\n",
       "      <th>4</th>\n",
       "      <th>5</th>\n",
       "      <th>6</th>\n",
       "      <th>7</th>\n",
       "      <th>...</th>\n",
       "      <th>500</th>\n",
       "      <th>501</th>\n",
       "      <th>502</th>\n",
       "      <th>503</th>\n",
       "      <th>504</th>\n",
       "      <th>505</th>\n",
       "      <th>506</th>\n",
       "      <th>507</th>\n",
       "      <th>508</th>\n",
       "      <th>BPM</th>\n",
       "    </tr>\n",
       "  </thead>\n",
       "  <tbody>\n",
       "    <tr>\n",
       "      <th>0</th>\n",
       "      <td>../../../Source/Clean_train_clips/All_data_pad...</td>\n",
       "      <td>0</td>\n",
       "      <td>-326.927232</td>\n",
       "      <td>53.234679</td>\n",
       "      <td>-64.985039</td>\n",
       "      <td>25.633761</td>\n",
       "      <td>-1.401056</td>\n",
       "      <td>6.295015</td>\n",
       "      <td>-27.605754</td>\n",
       "      <td>-3.661203</td>\n",
       "      <td>...</td>\n",
       "      <td>0.0</td>\n",
       "      <td>0.0</td>\n",
       "      <td>0.0</td>\n",
       "      <td>0.0</td>\n",
       "      <td>0.0</td>\n",
       "      <td>0.0</td>\n",
       "      <td>0.0</td>\n",
       "      <td>0.0</td>\n",
       "      <td>0.0</td>\n",
       "      <td>129.199219</td>\n",
       "    </tr>\n",
       "    <tr>\n",
       "      <th>1</th>\n",
       "      <td>../../../Source/Clean_train_clips/All_data_pad...</td>\n",
       "      <td>0</td>\n",
       "      <td>-387.249438</td>\n",
       "      <td>42.442224</td>\n",
       "      <td>-54.180225</td>\n",
       "      <td>22.499837</td>\n",
       "      <td>-1.018176</td>\n",
       "      <td>6.160341</td>\n",
       "      <td>-24.550584</td>\n",
       "      <td>0.326513</td>\n",
       "      <td>...</td>\n",
       "      <td>0.0</td>\n",
       "      <td>0.0</td>\n",
       "      <td>0.0</td>\n",
       "      <td>0.0</td>\n",
       "      <td>0.0</td>\n",
       "      <td>0.0</td>\n",
       "      <td>0.0</td>\n",
       "      <td>0.0</td>\n",
       "      <td>0.0</td>\n",
       "      <td>151.999081</td>\n",
       "    </tr>\n",
       "    <tr>\n",
       "      <th>2</th>\n",
       "      <td>../../../Source/Clean_train_clips/All_data_pad...</td>\n",
       "      <td>0</td>\n",
       "      <td>-298.261791</td>\n",
       "      <td>61.460930</td>\n",
       "      <td>-71.170218</td>\n",
       "      <td>30.486394</td>\n",
       "      <td>-1.232350</td>\n",
       "      <td>9.254733</td>\n",
       "      <td>-30.878759</td>\n",
       "      <td>1.156474</td>\n",
       "      <td>...</td>\n",
       "      <td>0.0</td>\n",
       "      <td>0.0</td>\n",
       "      <td>0.0</td>\n",
       "      <td>0.0</td>\n",
       "      <td>0.0</td>\n",
       "      <td>0.0</td>\n",
       "      <td>0.0</td>\n",
       "      <td>0.0</td>\n",
       "      <td>0.0</td>\n",
       "      <td>117.453835</td>\n",
       "    </tr>\n",
       "    <tr>\n",
       "      <th>3</th>\n",
       "      <td>../../../Source/Clean_train_clips/All_data_pad...</td>\n",
       "      <td>0</td>\n",
       "      <td>-417.480027</td>\n",
       "      <td>58.091213</td>\n",
       "      <td>-58.037477</td>\n",
       "      <td>13.197176</td>\n",
       "      <td>-0.272705</td>\n",
       "      <td>7.179415</td>\n",
       "      <td>-2.319621</td>\n",
       "      <td>2.725606</td>\n",
       "      <td>...</td>\n",
       "      <td>0.0</td>\n",
       "      <td>0.0</td>\n",
       "      <td>0.0</td>\n",
       "      <td>0.0</td>\n",
       "      <td>0.0</td>\n",
       "      <td>0.0</td>\n",
       "      <td>0.0</td>\n",
       "      <td>0.0</td>\n",
       "      <td>0.0</td>\n",
       "      <td>234.907670</td>\n",
       "    </tr>\n",
       "    <tr>\n",
       "      <th>4</th>\n",
       "      <td>../../../Source/Clean_train_clips/All_data_pad...</td>\n",
       "      <td>0</td>\n",
       "      <td>-333.263699</td>\n",
       "      <td>53.346323</td>\n",
       "      <td>-69.118786</td>\n",
       "      <td>34.424530</td>\n",
       "      <td>-8.487764</td>\n",
       "      <td>1.854447</td>\n",
       "      <td>-26.983685</td>\n",
       "      <td>3.395640</td>\n",
       "      <td>...</td>\n",
       "      <td>0.0</td>\n",
       "      <td>0.0</td>\n",
       "      <td>0.0</td>\n",
       "      <td>0.0</td>\n",
       "      <td>0.0</td>\n",
       "      <td>0.0</td>\n",
       "      <td>0.0</td>\n",
       "      <td>0.0</td>\n",
       "      <td>0.0</td>\n",
       "      <td>117.453835</td>\n",
       "    </tr>\n",
       "  </tbody>\n",
       "</table>\n",
       "<p>5 rows × 512 columns</p>\n",
       "</div>"
      ],
      "text/plain": [
       "                                                Path  Labels           0  \\\n",
       "0  ../../../Source/Clean_train_clips/All_data_pad...       0 -326.927232   \n",
       "1  ../../../Source/Clean_train_clips/All_data_pad...       0 -387.249438   \n",
       "2  ../../../Source/Clean_train_clips/All_data_pad...       0 -298.261791   \n",
       "3  ../../../Source/Clean_train_clips/All_data_pad...       0 -417.480027   \n",
       "4  ../../../Source/Clean_train_clips/All_data_pad...       0 -333.263699   \n",
       "\n",
       "           1          2          3         4         5          6         7  \\\n",
       "0  53.234679 -64.985039  25.633761 -1.401056  6.295015 -27.605754 -3.661203   \n",
       "1  42.442224 -54.180225  22.499837 -1.018176  6.160341 -24.550584  0.326513   \n",
       "2  61.460930 -71.170218  30.486394 -1.232350  9.254733 -30.878759  1.156474   \n",
       "3  58.091213 -58.037477  13.197176 -0.272705  7.179415  -2.319621  2.725606   \n",
       "4  53.346323 -69.118786  34.424530 -8.487764  1.854447 -26.983685  3.395640   \n",
       "\n",
       "      ...      500  501  502  503  504  505  506  507  508         BPM  \n",
       "0     ...      0.0  0.0  0.0  0.0  0.0  0.0  0.0  0.0  0.0  129.199219  \n",
       "1     ...      0.0  0.0  0.0  0.0  0.0  0.0  0.0  0.0  0.0  151.999081  \n",
       "2     ...      0.0  0.0  0.0  0.0  0.0  0.0  0.0  0.0  0.0  117.453835  \n",
       "3     ...      0.0  0.0  0.0  0.0  0.0  0.0  0.0  0.0  0.0  234.907670  \n",
       "4     ...      0.0  0.0  0.0  0.0  0.0  0.0  0.0  0.0  0.0  117.453835  \n",
       "\n",
       "[5 rows x 512 columns]"
      ]
     },
     "execution_count": 55,
     "metadata": {},
     "output_type": "execute_result"
    }
   ],
   "source": [
    "#tap.iloc[:,155:185]\n",
    "tap.head()"
   ]
  },
  {
   "cell_type": "markdown",
   "metadata": {},
   "source": [
    "**Add Features: Root mean square energy **"
   ]
  },
  {
   "cell_type": "code",
   "execution_count": 59,
   "metadata": {},
   "outputs": [],
   "source": [
    "for j in range (len(tap))  :  \n",
    "    s = get_features_rmse(tap.loc[j,'Path'])\n",
    "    for i in range (int(len(x)/(frame_length/2)+1)):\n",
    "        tap.iat[j,i+348] = s.item(i)"
   ]
  },
  {
   "cell_type": "code",
   "execution_count": 60,
   "metadata": {},
   "outputs": [
    {
     "data": {
      "text/plain": [
       "511"
      ]
     },
     "execution_count": 60,
     "metadata": {},
     "output_type": "execute_result"
    }
   ],
   "source": [
    "tap.head()\n",
    "348+zcr_length"
   ]
  },
  {
   "cell_type": "code",
   "execution_count": null,
   "metadata": {},
   "outputs": [],
   "source": []
  },
  {
   "cell_type": "markdown",
   "metadata": {},
   "source": [
    "----"
   ]
  },
  {
   "cell_type": "markdown",
   "metadata": {},
   "source": [
    "### Export Feature DataFrame"
   ]
  },
  {
   "cell_type": "code",
   "execution_count": 61,
   "metadata": {},
   "outputs": [
    {
     "data": {
      "text/html": [
       "<div>\n",
       "<style scoped>\n",
       "    .dataframe tbody tr th:only-of-type {\n",
       "        vertical-align: middle;\n",
       "    }\n",
       "\n",
       "    .dataframe tbody tr th {\n",
       "        vertical-align: top;\n",
       "    }\n",
       "\n",
       "    .dataframe thead th {\n",
       "        text-align: right;\n",
       "    }\n",
       "</style>\n",
       "<table border=\"1\" class=\"dataframe\">\n",
       "  <thead>\n",
       "    <tr style=\"text-align: right;\">\n",
       "      <th></th>\n",
       "      <th>Path</th>\n",
       "      <th>Labels</th>\n",
       "      <th>0</th>\n",
       "      <th>1</th>\n",
       "      <th>2</th>\n",
       "      <th>3</th>\n",
       "      <th>4</th>\n",
       "      <th>5</th>\n",
       "      <th>6</th>\n",
       "      <th>7</th>\n",
       "      <th>...</th>\n",
       "      <th>500</th>\n",
       "      <th>501</th>\n",
       "      <th>502</th>\n",
       "      <th>503</th>\n",
       "      <th>504</th>\n",
       "      <th>505</th>\n",
       "      <th>506</th>\n",
       "      <th>507</th>\n",
       "      <th>508</th>\n",
       "      <th>BPM</th>\n",
       "    </tr>\n",
       "  </thead>\n",
       "  <tbody>\n",
       "    <tr>\n",
       "      <th>287</th>\n",
       "      <td>../../../Source/Clean_train_clips/All_data_pad...</td>\n",
       "      <td>1</td>\n",
       "      <td>-316.899433</td>\n",
       "      <td>40.496876</td>\n",
       "      <td>-47.606103</td>\n",
       "      <td>20.414424</td>\n",
       "      <td>-13.223124</td>\n",
       "      <td>9.532101</td>\n",
       "      <td>-9.091608</td>\n",
       "      <td>-0.184608</td>\n",
       "      <td>...</td>\n",
       "      <td>0.0</td>\n",
       "      <td>0.0</td>\n",
       "      <td>0.0</td>\n",
       "      <td>0.0</td>\n",
       "      <td>0.0</td>\n",
       "      <td>0.0</td>\n",
       "      <td>0.0</td>\n",
       "      <td>0.0</td>\n",
       "      <td>0.0</td>\n",
       "      <td>198.768029</td>\n",
       "    </tr>\n",
       "    <tr>\n",
       "      <th>330</th>\n",
       "      <td>../../../Source/Clean_train_clips/All_data_pad...</td>\n",
       "      <td>1</td>\n",
       "      <td>-382.872937</td>\n",
       "      <td>51.379340</td>\n",
       "      <td>-46.647768</td>\n",
       "      <td>19.897312</td>\n",
       "      <td>-3.929729</td>\n",
       "      <td>2.681134</td>\n",
       "      <td>-9.399345</td>\n",
       "      <td>-1.389285</td>\n",
       "      <td>...</td>\n",
       "      <td>0.0</td>\n",
       "      <td>0.0</td>\n",
       "      <td>0.0</td>\n",
       "      <td>0.0</td>\n",
       "      <td>0.0</td>\n",
       "      <td>0.0</td>\n",
       "      <td>0.0</td>\n",
       "      <td>0.0</td>\n",
       "      <td>0.0</td>\n",
       "      <td>215.332031</td>\n",
       "    </tr>\n",
       "    <tr>\n",
       "      <th>202</th>\n",
       "      <td>../../../Source/Clean_train_clips/All_data_pad...</td>\n",
       "      <td>1</td>\n",
       "      <td>-371.174863</td>\n",
       "      <td>50.103908</td>\n",
       "      <td>-71.744771</td>\n",
       "      <td>21.426257</td>\n",
       "      <td>-7.118995</td>\n",
       "      <td>-4.108719</td>\n",
       "      <td>-12.560796</td>\n",
       "      <td>-0.070634</td>\n",
       "      <td>...</td>\n",
       "      <td>0.0</td>\n",
       "      <td>0.0</td>\n",
       "      <td>0.0</td>\n",
       "      <td>0.0</td>\n",
       "      <td>0.0</td>\n",
       "      <td>0.0</td>\n",
       "      <td>0.0</td>\n",
       "      <td>0.0</td>\n",
       "      <td>0.0</td>\n",
       "      <td>151.999081</td>\n",
       "    </tr>\n",
       "    <tr>\n",
       "      <th>246</th>\n",
       "      <td>../../../Source/Clean_train_clips/All_data_pad...</td>\n",
       "      <td>1</td>\n",
       "      <td>-319.385528</td>\n",
       "      <td>83.077064</td>\n",
       "      <td>-74.035784</td>\n",
       "      <td>16.116328</td>\n",
       "      <td>-8.312489</td>\n",
       "      <td>1.627171</td>\n",
       "      <td>-18.326527</td>\n",
       "      <td>-2.684849</td>\n",
       "      <td>...</td>\n",
       "      <td>0.0</td>\n",
       "      <td>0.0</td>\n",
       "      <td>0.0</td>\n",
       "      <td>0.0</td>\n",
       "      <td>0.0</td>\n",
       "      <td>0.0</td>\n",
       "      <td>0.0</td>\n",
       "      <td>0.0</td>\n",
       "      <td>0.0</td>\n",
       "      <td>151.999081</td>\n",
       "    </tr>\n",
       "    <tr>\n",
       "      <th>45</th>\n",
       "      <td>../../../Source/Clean_train_clips/All_data_pad...</td>\n",
       "      <td>0</td>\n",
       "      <td>-405.937876</td>\n",
       "      <td>35.606141</td>\n",
       "      <td>-31.218399</td>\n",
       "      <td>13.855576</td>\n",
       "      <td>-16.178129</td>\n",
       "      <td>3.175495</td>\n",
       "      <td>-8.401305</td>\n",
       "      <td>-5.367274</td>\n",
       "      <td>...</td>\n",
       "      <td>0.0</td>\n",
       "      <td>0.0</td>\n",
       "      <td>0.0</td>\n",
       "      <td>0.0</td>\n",
       "      <td>0.0</td>\n",
       "      <td>0.0</td>\n",
       "      <td>0.0</td>\n",
       "      <td>0.0</td>\n",
       "      <td>0.0</td>\n",
       "      <td>161.499023</td>\n",
       "    </tr>\n",
       "  </tbody>\n",
       "</table>\n",
       "<p>5 rows × 512 columns</p>\n",
       "</div>"
      ],
      "text/plain": [
       "                                                  Path  Labels           0  \\\n",
       "287  ../../../Source/Clean_train_clips/All_data_pad...       1 -316.899433   \n",
       "330  ../../../Source/Clean_train_clips/All_data_pad...       1 -382.872937   \n",
       "202  ../../../Source/Clean_train_clips/All_data_pad...       1 -371.174863   \n",
       "246  ../../../Source/Clean_train_clips/All_data_pad...       1 -319.385528   \n",
       "45   ../../../Source/Clean_train_clips/All_data_pad...       0 -405.937876   \n",
       "\n",
       "             1          2          3          4         5          6  \\\n",
       "287  40.496876 -47.606103  20.414424 -13.223124  9.532101  -9.091608   \n",
       "330  51.379340 -46.647768  19.897312  -3.929729  2.681134  -9.399345   \n",
       "202  50.103908 -71.744771  21.426257  -7.118995 -4.108719 -12.560796   \n",
       "246  83.077064 -74.035784  16.116328  -8.312489  1.627171 -18.326527   \n",
       "45   35.606141 -31.218399  13.855576 -16.178129  3.175495  -8.401305   \n",
       "\n",
       "            7     ...      500  501  502  503  504  505  506  507  508  \\\n",
       "287 -0.184608     ...      0.0  0.0  0.0  0.0  0.0  0.0  0.0  0.0  0.0   \n",
       "330 -1.389285     ...      0.0  0.0  0.0  0.0  0.0  0.0  0.0  0.0  0.0   \n",
       "202 -0.070634     ...      0.0  0.0  0.0  0.0  0.0  0.0  0.0  0.0  0.0   \n",
       "246 -2.684849     ...      0.0  0.0  0.0  0.0  0.0  0.0  0.0  0.0  0.0   \n",
       "45  -5.367274     ...      0.0  0.0  0.0  0.0  0.0  0.0  0.0  0.0  0.0   \n",
       "\n",
       "            BPM  \n",
       "287  198.768029  \n",
       "330  215.332031  \n",
       "202  151.999081  \n",
       "246  151.999081  \n",
       "45   161.499023  \n",
       "\n",
       "[5 rows x 512 columns]"
      ]
     },
     "execution_count": 61,
     "metadata": {},
     "output_type": "execute_result"
    }
   ],
   "source": [
    "tap = tap.sample(frac=1)\n",
    "tap.head()"
   ]
  },
  {
   "cell_type": "code",
   "execution_count": 62,
   "metadata": {},
   "outputs": [],
   "source": [
    "# Inputs and targets (complete DataFrame)\n",
    "#ätap.to_csv('../../../Source/Data/all_data_pad_mfcc_zcr_energy_rmse_bpm.csv', index=None)\n"
   ]
  },
  {
   "cell_type": "markdown",
   "metadata": {},
   "source": [
    "### Split into inputs and labels (and train and validate)"
   ]
  },
  {
   "cell_type": "code",
   "execution_count": null,
   "metadata": {},
   "outputs": [],
   "source": [
    "X = tap.drop(['Labels'], axis =1)\n",
    "y = tap[['Labels']]"
   ]
  },
  {
   "cell_type": "code",
   "execution_count": null,
   "metadata": {},
   "outputs": [],
   "source": [
    "X_df = pd.DataFrame(X)\n",
    "y_df = pd.DataFrame(y)"
   ]
  },
  {
   "cell_type": "code",
   "execution_count": null,
   "metadata": {},
   "outputs": [],
   "source": [
    "# Export inputs and targets\n",
    "\n",
    "#X_df.to_csv('../../../Source/Data/X_test_mfcc_zcr_energy_rmse_bpm.csv', index=None)\n",
    "#y_df.to_csv('../../../Source/Data/y_test_mfcc_zcr_energy_rmse_bpm.csv', index=None)\n",
    "\n"
   ]
  },
  {
   "cell_type": "code",
   "execution_count": null,
   "metadata": {},
   "outputs": [],
   "source": []
  },
  {
   "cell_type": "code",
   "execution_count": null,
   "metadata": {},
   "outputs": [],
   "source": []
  },
  {
   "cell_type": "markdown",
   "metadata": {},
   "source": [
    "## TBD \"Features\""
   ]
  },
  {
   "cell_type": "markdown",
   "metadata": {},
   "source": [
    "**Add features: Fast Fourier Transform**"
   ]
  },
  {
   "cell_type": "code",
   "execution_count": null,
   "metadata": {},
   "outputs": [],
   "source": [
    "def get_features_fft(path):\n",
    "    y, sr = librosa.load(path)\n",
    "    return np.mean(fft(y).real)\n",
    "\n",
    "#tap['FFT'] = [get_features_fft(tap.loc[idx, 'Path']) for idx in range (len(tap))]"
   ]
  },
  {
   "cell_type": "code",
   "execution_count": null,
   "metadata": {},
   "outputs": [],
   "source": []
  },
  {
   "cell_type": "markdown",
   "metadata": {},
   "source": [
    "**Add features: Discrete cosine transform**"
   ]
  },
  {
   "cell_type": "code",
   "execution_count": null,
   "metadata": {},
   "outputs": [],
   "source": [
    "def get_features_dct(path):\n",
    "    y, sr = librosa.load(path)\n",
    "    return (dct(y))\n",
    "\n",
    "#tap['DCT'] = [get_features_dct(tap.loc[idx, 'Path']) for idx in range (len(tap))]"
   ]
  },
  {
   "cell_type": "code",
   "execution_count": null,
   "metadata": {},
   "outputs": [],
   "source": []
  },
  {
   "cell_type": "code",
   "execution_count": null,
   "metadata": {},
   "outputs": [],
   "source": []
  },
  {
   "cell_type": "markdown",
   "metadata": {},
   "source": [
    "**Other (maybe useful) stuff from librosa**"
   ]
  },
  {
   "cell_type": "code",
   "execution_count": null,
   "metadata": {},
   "outputs": [],
   "source": [
    "librosa.core.get_duration(y=y, sr=sr) # Get duration in seconds"
   ]
  },
  {
   "cell_type": "markdown",
   "metadata": {},
   "source": [
    "** Other code to consider/incorporate ** "
   ]
  },
  {
   "cell_type": "code",
   "execution_count": null,
   "metadata": {},
   "outputs": [],
   "source": [
    "def extract_feature(file_name):\n",
    "    X, sample_rate = librosa.load(file_name)\n",
    "    stft = np.abs(librosa.stft(X))\n",
    "    mfccs = np.mean(librosa.feature.mfcc(y=X, sr=sample_rate, n_mfcc=20).T,axis=0)\n",
    "    chroma = np.mean(librosa.feature.chroma_stft(S=stft, sr=sample_rate).T,axis=0)\n",
    "    mel = np.mean(librosa.feature.melspectrogram(X, sr=sample_rate).T,axis=0)\n",
    "    contrast = np.mean(librosa.feature.spectral_contrast(S=stft, sr=sample_rate).T,axis=0)\n",
    "    tonnetz = np.mean(librosa.feature.tonnetz(y=librosa.effects.harmonic(X),\n",
    "    sr=sample_rate).T,axis=0)\n",
    "    return mfccs,chroma,mel,contrast,tonnetz"
   ]
  },
  {
   "cell_type": "code",
   "execution_count": null,
   "metadata": {},
   "outputs": [],
   "source": []
  },
  {
   "cell_type": "code",
   "execution_count": null,
   "metadata": {},
   "outputs": [],
   "source": []
  },
  {
   "cell_type": "markdown",
   "metadata": {},
   "source": [
    "## Trying out stuff"
   ]
  },
  {
   "cell_type": "code",
   "execution_count": null,
   "metadata": {},
   "outputs": [],
   "source": [
    "# Can I make a better graph by splitting differently? \n",
    "# Tested out in Data_Collection_Audio, ultimately ending with detect nonsilence method, then padding\n",
    "samples, sample_rate = librosa.load('../../../Source/Shuffle_test/1/1.wav')\n",
    "librosa.display.waveplot(samples, sr=sample_rate);\n",
    "\n"
   ]
  },
  {
   "cell_type": "code",
   "execution_count": null,
   "metadata": {},
   "outputs": [],
   "source": [
    "# Pad with silence\n",
    "padded_signal = librosa.util.pad_center(samples, 22050, axis=0) # Make clip 1 sec long\n",
    "sound_clip = padded_signal\n",
    "librosa.display.waveplot(sound_clip, sr=sample_rate);\n",
    "#librosa.output.write_wav('../../../Source/Shuffle_test/1/1_pad.wav', padded_signal, 22050)"
   ]
  },
  {
   "cell_type": "code",
   "execution_count": null,
   "metadata": {},
   "outputs": [],
   "source": [
    "def windows(data, window_size):\n",
    "    start=0\n",
    "    while start < len(data):\n",
    "        yield start, start + window_size\n",
    "        start += (window_size/2)"
   ]
  },
  {
   "cell_type": "code",
   "execution_count": null,
   "metadata": {},
   "outputs": [],
   "source": [
    "i = 0\n",
    "for (start, end) in windows(sound_clip, window_size):\n",
    "    i +=1\n",
    "print(i)"
   ]
  },
  {
   "cell_type": "code",
   "execution_count": null,
   "metadata": {},
   "outputs": [],
   "source": [
    "log_specgrams = []\n",
    "window_size = 100 * 60\n",
    "sound_clip = padded_signal\n",
    "bands = 41\n",
    "frames = 60"
   ]
  },
  {
   "cell_type": "code",
   "execution_count": null,
   "metadata": {},
   "outputs": [],
   "source": [
    "for (start, end) in windows(sound_clip, window_size):\n",
    "    if len(sound_clip[int(start):int(end)]) == (window_size):\n",
    "        signal = sound_clip[int(start):int(end)]\n",
    "        melspec = librosa.feature.melspectrogram(signal,n_mels=bands)\n",
    "        logspec = librosa.amplitude_to_db(melspec)\n",
    "        logspec = logspec.T.flatten()[:, np.newaxis].T\n",
    "        log_specgrams.append(logspec)\n",
    "        \n",
    "log_specgrams = np.array(log_specgrams)\n",
    "print(log_specgrams.shape) #  This is (# of complete windows, 1, # of bands)\n",
    "#log_specgrams = np.asarray(log_specgrams).reshape(log_specgrams.shape[0], bands, frames)\n",
    "\n"
   ]
  },
  {
   "cell_type": "code",
   "execution_count": null,
   "metadata": {},
   "outputs": [],
   "source": []
  },
  {
   "cell_type": "code",
   "execution_count": null,
   "metadata": {},
   "outputs": [],
   "source": []
  },
  {
   "cell_type": "code",
   "execution_count": null,
   "metadata": {},
   "outputs": [],
   "source": []
  }
 ],
 "metadata": {
  "kernelspec": {
   "display_name": "Python 3",
   "language": "python",
   "name": "python3"
  },
  "language_info": {
   "codemirror_mode": {
    "name": "ipython",
    "version": 3
   },
   "file_extension": ".py",
   "mimetype": "text/x-python",
   "name": "python",
   "nbconvert_exporter": "python",
   "pygments_lexer": "ipython3",
   "version": "3.6.5"
  }
 },
 "nbformat": 4,
 "nbformat_minor": 2
}
