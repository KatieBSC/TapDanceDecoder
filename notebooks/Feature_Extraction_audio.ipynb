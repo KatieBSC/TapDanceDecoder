{
 "cells": [
  {
   "cell_type": "markdown",
   "metadata": {},
   "source": [
    "## Feature Extraction, New and Improved"
   ]
  },
  {
   "cell_type": "code",
   "execution_count": 1,
   "metadata": {},
   "outputs": [],
   "source": [
    "import pandas as pd\n",
    "import numpy as np\n",
    "import matplotlib.pyplot as plt\n",
    "import librosa.display\n",
    "from pathlib import Path\n",
    "from sklearn.model_selection import train_test_split\n",
    "from pydub import AudioSegment\n",
    "from scipy.fftpack import fft, dct"
   ]
  },
  {
   "cell_type": "markdown",
   "metadata": {},
   "source": [
    "## Using audio data "
   ]
  },
  {
   "cell_type": "code",
   "execution_count": 2,
   "metadata": {},
   "outputs": [],
   "source": [
    "samples, sample_rate = librosa.load('../../../Source/Clean_train_clips/Shuffle/1/1.wav')"
   ]
  },
  {
   "cell_type": "markdown",
   "metadata": {},
   "source": [
    "**Visualize audio files with librosa**"
   ]
  },
  {
   "cell_type": "code",
   "execution_count": 3,
   "metadata": {},
   "outputs": [
    {
     "data": {
      "text/plain": [
       "<matplotlib.collections.PolyCollection at 0x1c1074cbe0>"
      ]
     },
     "execution_count": 3,
     "metadata": {},
     "output_type": "execute_result"
    },
    {
     "data": {
      "image/png": "[encoded data removed]",
      "text/plain": [
       "<Figure size 432x288 with 1 Axes>"
      ]
     },
     "metadata": {},
     "output_type": "display_data"
    }
   ],
   "source": [
    "librosa.display.waveplot(samples, sr=sample_rate)"
   ]
  },
  {
   "cell_type": "markdown",
   "metadata": {},
   "source": [
    "### Feature: \n",
    "BPM"
   ]
  },
  {
   "cell_type": "markdown",
   "metadata": {},
   "source": [
    "Let's try it with a longer sample with a known BPM."
   ]
  },
  {
   "cell_type": "code",
   "execution_count": 4,
   "metadata": {},
   "outputs": [
    {
     "data": {
      "text/plain": [
       "117.45383522727273"
      ]
     },
     "execution_count": 4,
     "metadata": {},
     "output_type": "execute_result"
    }
   ],
   "source": [
    "# Estimate a static tempo\n",
    "y, sr = librosa.load( '../../../workout.wav')\n",
    "onset_env = librosa.onset.onset_strength(y, sr=sr)\n",
    "tempo = librosa.beat.tempo(onset_envelope=onset_env, sr=sr)\n",
    "tempo.item() #according to song BPM the correct tempo is 174 BPM"
   ]
  },
  {
   "cell_type": "code",
   "execution_count": 5,
   "metadata": {},
   "outputs": [
    {
     "data": {
      "text/plain": [
       "array([ 86.1328125 ,  86.1328125 ,  86.1328125 , ..., 112.34714674,\n",
       "       112.34714674, 112.34714674])"
      ]
     },
     "execution_count": 5,
     "metadata": {},
     "output_type": "execute_result"
    }
   ],
   "source": [
    "# Maybe it's not a static tempo\n",
    "\n",
    "# But rather a dynamic tempo\n",
    "dtempo = librosa.beat.tempo(onset_envelope=onset_env, sr=sr,\n",
    "                            aggregate=None)\n",
    "dtempo"
   ]
  },
  {
   "cell_type": "markdown",
   "metadata": {},
   "source": [
    "Now with short, tap sample."
   ]
  },
  {
   "cell_type": "code",
   "execution_count": 6,
   "metadata": {},
   "outputs": [
    {
     "data": {
      "text/plain": [
       "array([258.3984375])"
      ]
     },
     "execution_count": 6,
     "metadata": {},
     "output_type": "execute_result"
    }
   ],
   "source": [
    "# Estimate a static tempo\n",
    "#y, sr = librosa.load('../../../Source/Clean_train_clips/Ball_change/6/1.wav')\n",
    "y, sr = librosa.load('../../../Source/Shuffle/1/1.wav')\n",
    "onset_env = librosa.onset.onset_strength(y, sr=sr)\n",
    "tempo = librosa.beat.tempo(onset_envelope=onset_env, sr=sr)\n",
    "tempo "
   ]
  },
  {
   "cell_type": "markdown",
   "metadata": {},
   "source": [
    "**This could be a promising feature.**"
   ]
  },
  {
   "cell_type": "markdown",
   "metadata": {},
   "source": [
    "### Other (maybe useful) stuff from librosa"
   ]
  },
  {
   "cell_type": "code",
   "execution_count": 7,
   "metadata": {},
   "outputs": [
    {
     "data": {
      "text/plain": [
       "(29400,)"
      ]
     },
     "execution_count": 7,
     "metadata": {},
     "output_type": "execute_result"
    }
   ],
   "source": [
    "y, sr = librosa.load('../../../Source/Shuffle/1/1.wav', mono=False)\n",
    "y.shape # Check mono or stereo"
   ]
  },
  {
   "cell_type": "code",
   "execution_count": 8,
   "metadata": {},
   "outputs": [
    {
     "data": {
      "text/plain": [
       "1.3333333333333333"
      ]
     },
     "execution_count": 8,
     "metadata": {},
     "output_type": "execute_result"
    }
   ],
   "source": [
    "librosa.core.get_duration(y =y, sr=sr) # Get duration in seconds"
   ]
  },
  {
   "cell_type": "markdown",
   "metadata": {},
   "source": [
    "## Trying out new features"
   ]
  },
  {
   "cell_type": "markdown",
   "metadata": {},
   "source": [
    "**Short-time Fourier transform (STFT)**"
   ]
  },
  {
   "cell_type": "code",
   "execution_count": null,
   "metadata": {},
   "outputs": [],
   "source": [
    "def get_features_stft (path):\n",
    "        y, sr = librosa.load(path)\n",
    "        return np.mean(np.abs(librosa.stft(y)))"
   ]
  },
  {
   "cell_type": "code",
   "execution_count": null,
   "metadata": {},
   "outputs": [],
   "source": [
    "y, sr = librosa.load('../../../Source/Shuffle/1/1.wav')\n",
    "D = np.abs(librosa.stft(y))\n",
    "D.shape, D\n",
    "librosa.display.specshow(D);"
   ]
  },
  {
   "cell_type": "code",
   "execution_count": null,
   "metadata": {},
   "outputs": [],
   "source": [
    "# Using left-aligned frames\n",
    "D_left = np.abs(librosa.stft(y, center=False))\n",
    "D_left.shape, D_left\n",
    "librosa.display.specshow(D_left);"
   ]
  },
  {
   "cell_type": "code",
   "execution_count": null,
   "metadata": {},
   "outputs": [],
   "source": [
    "# Using a shorter hop length\n",
    "D_short = np.abs(librosa.stft(y, hop_length=64))\n",
    "D_short.shape, D_short\n",
    "librosa.display.specshow(D_short);"
   ]
  },
  {
   "cell_type": "markdown",
   "metadata": {},
   "source": [
    "**Fast Fourier Transform**"
   ]
  },
  {
   "cell_type": "code",
   "execution_count": null,
   "metadata": {},
   "outputs": [],
   "source": [
    "y, sr = librosa.load('../../../Source/Shuffle/1/1.wav')\n",
    "fftrans = fft(y).real\n",
    "fftrans.shape, fftrans"
   ]
  },
  {
   "cell_type": "code",
   "execution_count": null,
   "metadata": {},
   "outputs": [],
   "source": [
    "def get_features_fft(path):\n",
    "    y, sr = librosa.load(path)\n",
    "    return np.mean(fft(y).real)"
   ]
  },
  {
   "cell_type": "markdown",
   "metadata": {},
   "source": [
    "**Discrete Cosine Transform**"
   ]
  },
  {
   "cell_type": "code",
   "execution_count": null,
   "metadata": {},
   "outputs": [],
   "source": [
    "y, sr = librosa.load('../../../Source/Shuffle/1/1.wav')\n",
    "dctrans = dct(y) #dct(y, 1)\n",
    "dctrans.shape, dctrans\n"
   ]
  },
  {
   "cell_type": "code",
   "execution_count": null,
   "metadata": {},
   "outputs": [],
   "source": [
    "def get_features_dct(path):\n",
    "    y, sr = librosa.load(path)\n",
    "    return np.mean(dct(y))"
   ]
  },
  {
   "cell_type": "markdown",
   "metadata": {},
   "source": [
    "### Feature:\n",
    "Mel-frequency cepstral coefficients "
   ]
  },
  {
   "cell_type": "code",
   "execution_count": 9,
   "metadata": {},
   "outputs": [],
   "source": [
    "n_mfcc = 20   #Remember to change file path at end of nb"
   ]
  },
  {
   "cell_type": "code",
   "execution_count": 10,
   "metadata": {},
   "outputs": [],
   "source": [
    "# Extract mfcc feature from data\n",
    "mfccs = np.mean(librosa.feature.mfcc(y=samples, sr=sample_rate, n_mfcc=n_mfcc).T,axis=0) "
   ]
  },
  {
   "cell_type": "code",
   "execution_count": 11,
   "metadata": {},
   "outputs": [
    {
     "data": {
      "text/plain": [
       "20"
      ]
     },
     "execution_count": 11,
     "metadata": {},
     "output_type": "execute_result"
    }
   ],
   "source": [
    "len(mfccs)\n",
    "#librosa.display.specshow(librosa.feature.mfcc(y=samples, sr=sample_rate, n_mfcc=n_mfcc))"
   ]
  },
  {
   "cell_type": "markdown",
   "metadata": {},
   "source": [
    "### Repeat for all data (Organize in a DataFrame)"
   ]
  },
  {
   "cell_type": "code",
   "execution_count": 12,
   "metadata": {},
   "outputs": [],
   "source": [
    "def build_list(step, folder, length):\n",
    "    i = 1\n",
    "    step_list = []\n",
    "    while i <= length :\n",
    "        name = step + \"/\" + str(folder) + \"/\" +str(i) + \".wav\"\n",
    "        step_list.append(name)\n",
    "        i += 1\n",
    "    return step_list\n",
    "\n",
    "def get_label(path):\n",
    "    if path.parts[-3] == 'Shuffle':\n",
    "        return 1\n",
    "    else:\n",
    "        return 0"
   ]
  },
  {
   "cell_type": "code",
   "execution_count": 13,
   "metadata": {},
   "outputs": [],
   "source": [
    "shuffle_col, bc_col, path_col = [], [], []"
   ]
  },
  {
   "cell_type": "code",
   "execution_count": 14,
   "metadata": {},
   "outputs": [],
   "source": [
    "pathlist = Path('../../../Source/Clean_train_clips/Shuffle').glob('**/*.wav')\n",
    "for path in pathlist:\n",
    "    shuffle_col.append(path)\n",
    "    shuffle_col.sort()"
   ]
  },
  {
   "cell_type": "code",
   "execution_count": 15,
   "metadata": {},
   "outputs": [],
   "source": [
    "pathlist = Path('../../../Source/Clean_train_clips/Ball_change').glob('**/*.wav')\n",
    "for path in pathlist:\n",
    "    bc_col.append(path)\n",
    "    bc_col.sort()"
   ]
  },
  {
   "cell_type": "code",
   "execution_count": 16,
   "metadata": {},
   "outputs": [],
   "source": [
    "path_col = shuffle_col + bc_col"
   ]
  },
  {
   "cell_type": "markdown",
   "metadata": {},
   "source": [
    "** Add file paths**"
   ]
  },
  {
   "cell_type": "code",
   "execution_count": 17,
   "metadata": {},
   "outputs": [
    {
     "data": {
      "text/html": [
       "<div>\n",
       "<style scoped>\n",
       "    .dataframe tbody tr th:only-of-type {\n",
       "        vertical-align: middle;\n",
       "    }\n",
       "\n",
       "    .dataframe tbody tr th {\n",
       "        vertical-align: top;\n",
       "    }\n",
       "\n",
       "    .dataframe thead th {\n",
       "        text-align: right;\n",
       "    }\n",
       "</style>\n",
       "<table border=\"1\" class=\"dataframe\">\n",
       "  <thead>\n",
       "    <tr style=\"text-align: right;\">\n",
       "      <th></th>\n",
       "      <th>Path</th>\n",
       "    </tr>\n",
       "  </thead>\n",
       "  <tbody>\n",
       "    <tr>\n",
       "      <th>0</th>\n",
       "      <td>../../../Source/Clean_train_clips/Shuffle/1/1.wav</td>\n",
       "    </tr>\n",
       "    <tr>\n",
       "      <th>1</th>\n",
       "      <td>../../../Source/Clean_train_clips/Shuffle/1/10...</td>\n",
       "    </tr>\n",
       "    <tr>\n",
       "      <th>2</th>\n",
       "      <td>../../../Source/Clean_train_clips/Shuffle/1/10...</td>\n",
       "    </tr>\n",
       "    <tr>\n",
       "      <th>3</th>\n",
       "      <td>../../../Source/Clean_train_clips/Shuffle/1/10...</td>\n",
       "    </tr>\n",
       "    <tr>\n",
       "      <th>4</th>\n",
       "      <td>../../../Source/Clean_train_clips/Shuffle/1/10...</td>\n",
       "    </tr>\n",
       "    <tr>\n",
       "      <th>5</th>\n",
       "      <td>../../../Source/Clean_train_clips/Shuffle/1/11...</td>\n",
       "    </tr>\n",
       "    <tr>\n",
       "      <th>6</th>\n",
       "      <td>../../../Source/Clean_train_clips/Shuffle/1/11...</td>\n",
       "    </tr>\n",
       "    <tr>\n",
       "      <th>7</th>\n",
       "      <td>../../../Source/Clean_train_clips/Shuffle/1/11...</td>\n",
       "    </tr>\n",
       "    <tr>\n",
       "      <th>8</th>\n",
       "      <td>../../../Source/Clean_train_clips/Shuffle/1/11...</td>\n",
       "    </tr>\n",
       "    <tr>\n",
       "      <th>9</th>\n",
       "      <td>../../../Source/Clean_train_clips/Shuffle/1/12...</td>\n",
       "    </tr>\n",
       "    <tr>\n",
       "      <th>10</th>\n",
       "      <td>../../../Source/Clean_train_clips/Shuffle/1/12...</td>\n",
       "    </tr>\n",
       "    <tr>\n",
       "      <th>11</th>\n",
       "      <td>../../../Source/Clean_train_clips/Shuffle/1/12...</td>\n",
       "    </tr>\n",
       "    <tr>\n",
       "      <th>12</th>\n",
       "      <td>../../../Source/Clean_train_clips/Shuffle/1/12...</td>\n",
       "    </tr>\n",
       "    <tr>\n",
       "      <th>13</th>\n",
       "      <td>../../../Source/Clean_train_clips/Shuffle/1/13...</td>\n",
       "    </tr>\n",
       "    <tr>\n",
       "      <th>14</th>\n",
       "      <td>../../../Source/Clean_train_clips/Shuffle/1/13...</td>\n",
       "    </tr>\n",
       "    <tr>\n",
       "      <th>15</th>\n",
       "      <td>../../../Source/Clean_train_clips/Shuffle/1/13...</td>\n",
       "    </tr>\n",
       "    <tr>\n",
       "      <th>16</th>\n",
       "      <td>../../../Source/Clean_train_clips/Shuffle/1/13...</td>\n",
       "    </tr>\n",
       "    <tr>\n",
       "      <th>17</th>\n",
       "      <td>../../../Source/Clean_train_clips/Shuffle/1/1_...</td>\n",
       "    </tr>\n",
       "    <tr>\n",
       "      <th>18</th>\n",
       "      <td>../../../Source/Clean_train_clips/Shuffle/1/1_...</td>\n",
       "    </tr>\n",
       "    <tr>\n",
       "      <th>19</th>\n",
       "      <td>../../../Source/Clean_train_clips/Shuffle/1/1_...</td>\n",
       "    </tr>\n",
       "    <tr>\n",
       "      <th>20</th>\n",
       "      <td>../../../Source/Clean_train_clips/Shuffle/1/2.wav</td>\n",
       "    </tr>\n",
       "    <tr>\n",
       "      <th>21</th>\n",
       "      <td>../../../Source/Clean_train_clips/Shuffle/1/2_...</td>\n",
       "    </tr>\n",
       "    <tr>\n",
       "      <th>22</th>\n",
       "      <td>../../../Source/Clean_train_clips/Shuffle/1/2_...</td>\n",
       "    </tr>\n",
       "    <tr>\n",
       "      <th>23</th>\n",
       "      <td>../../../Source/Clean_train_clips/Shuffle/1/2_...</td>\n",
       "    </tr>\n",
       "    <tr>\n",
       "      <th>24</th>\n",
       "      <td>../../../Source/Clean_train_clips/Shuffle/1/3.wav</td>\n",
       "    </tr>\n",
       "    <tr>\n",
       "      <th>25</th>\n",
       "      <td>../../../Source/Clean_train_clips/Shuffle/1/3_...</td>\n",
       "    </tr>\n",
       "    <tr>\n",
       "      <th>26</th>\n",
       "      <td>../../../Source/Clean_train_clips/Shuffle/1/3_...</td>\n",
       "    </tr>\n",
       "    <tr>\n",
       "      <th>27</th>\n",
       "      <td>../../../Source/Clean_train_clips/Shuffle/1/3_...</td>\n",
       "    </tr>\n",
       "    <tr>\n",
       "      <th>28</th>\n",
       "      <td>../../../Source/Clean_train_clips/Shuffle/1/4.wav</td>\n",
       "    </tr>\n",
       "    <tr>\n",
       "      <th>29</th>\n",
       "      <td>../../../Source/Clean_train_clips/Shuffle/1/4_...</td>\n",
       "    </tr>\n",
       "    <tr>\n",
       "      <th>...</th>\n",
       "      <td>...</td>\n",
       "    </tr>\n",
       "    <tr>\n",
       "      <th>1218</th>\n",
       "      <td>../../../Source/Clean_train_clips/Ball_change/...</td>\n",
       "    </tr>\n",
       "    <tr>\n",
       "      <th>1219</th>\n",
       "      <td>../../../Source/Clean_train_clips/Ball_change/...</td>\n",
       "    </tr>\n",
       "    <tr>\n",
       "      <th>1220</th>\n",
       "      <td>../../../Source/Clean_train_clips/Ball_change/...</td>\n",
       "    </tr>\n",
       "    <tr>\n",
       "      <th>1221</th>\n",
       "      <td>../../../Source/Clean_train_clips/Ball_change/...</td>\n",
       "    </tr>\n",
       "    <tr>\n",
       "      <th>1222</th>\n",
       "      <td>../../../Source/Clean_train_clips/Ball_change/...</td>\n",
       "    </tr>\n",
       "    <tr>\n",
       "      <th>1223</th>\n",
       "      <td>../../../Source/Clean_train_clips/Ball_change/...</td>\n",
       "    </tr>\n",
       "    <tr>\n",
       "      <th>1224</th>\n",
       "      <td>../../../Source/Clean_train_clips/Ball_change/...</td>\n",
       "    </tr>\n",
       "    <tr>\n",
       "      <th>1225</th>\n",
       "      <td>../../../Source/Clean_train_clips/Ball_change/...</td>\n",
       "    </tr>\n",
       "    <tr>\n",
       "      <th>1226</th>\n",
       "      <td>../../../Source/Clean_train_clips/Ball_change/...</td>\n",
       "    </tr>\n",
       "    <tr>\n",
       "      <th>1227</th>\n",
       "      <td>../../../Source/Clean_train_clips/Ball_change/...</td>\n",
       "    </tr>\n",
       "    <tr>\n",
       "      <th>1228</th>\n",
       "      <td>../../../Source/Clean_train_clips/Ball_change/...</td>\n",
       "    </tr>\n",
       "    <tr>\n",
       "      <th>1229</th>\n",
       "      <td>../../../Source/Clean_train_clips/Ball_change/...</td>\n",
       "    </tr>\n",
       "    <tr>\n",
       "      <th>1230</th>\n",
       "      <td>../../../Source/Clean_train_clips/Ball_change/...</td>\n",
       "    </tr>\n",
       "    <tr>\n",
       "      <th>1231</th>\n",
       "      <td>../../../Source/Clean_train_clips/Ball_change/...</td>\n",
       "    </tr>\n",
       "    <tr>\n",
       "      <th>1232</th>\n",
       "      <td>../../../Source/Clean_train_clips/Ball_change/...</td>\n",
       "    </tr>\n",
       "    <tr>\n",
       "      <th>1233</th>\n",
       "      <td>../../../Source/Clean_train_clips/Ball_change/...</td>\n",
       "    </tr>\n",
       "    <tr>\n",
       "      <th>1234</th>\n",
       "      <td>../../../Source/Clean_train_clips/Ball_change/...</td>\n",
       "    </tr>\n",
       "    <tr>\n",
       "      <th>1235</th>\n",
       "      <td>../../../Source/Clean_train_clips/Ball_change/...</td>\n",
       "    </tr>\n",
       "    <tr>\n",
       "      <th>1236</th>\n",
       "      <td>../../../Source/Clean_train_clips/Ball_change/...</td>\n",
       "    </tr>\n",
       "    <tr>\n",
       "      <th>1237</th>\n",
       "      <td>../../../Source/Clean_train_clips/Ball_change/...</td>\n",
       "    </tr>\n",
       "    <tr>\n",
       "      <th>1238</th>\n",
       "      <td>../../../Source/Clean_train_clips/Ball_change/...</td>\n",
       "    </tr>\n",
       "    <tr>\n",
       "      <th>1239</th>\n",
       "      <td>../../../Source/Clean_train_clips/Ball_change/...</td>\n",
       "    </tr>\n",
       "    <tr>\n",
       "      <th>1240</th>\n",
       "      <td>../../../Source/Clean_train_clips/Ball_change/...</td>\n",
       "    </tr>\n",
       "    <tr>\n",
       "      <th>1241</th>\n",
       "      <td>../../../Source/Clean_train_clips/Ball_change/...</td>\n",
       "    </tr>\n",
       "    <tr>\n",
       "      <th>1242</th>\n",
       "      <td>../../../Source/Clean_train_clips/Ball_change/...</td>\n",
       "    </tr>\n",
       "    <tr>\n",
       "      <th>1243</th>\n",
       "      <td>../../../Source/Clean_train_clips/Ball_change/...</td>\n",
       "    </tr>\n",
       "    <tr>\n",
       "      <th>1244</th>\n",
       "      <td>../../../Source/Clean_train_clips/Ball_change/...</td>\n",
       "    </tr>\n",
       "    <tr>\n",
       "      <th>1245</th>\n",
       "      <td>../../../Source/Clean_train_clips/Ball_change/...</td>\n",
       "    </tr>\n",
       "    <tr>\n",
       "      <th>1246</th>\n",
       "      <td>../../../Source/Clean_train_clips/Ball_change/...</td>\n",
       "    </tr>\n",
       "    <tr>\n",
       "      <th>1247</th>\n",
       "      <td>../../../Source/Clean_train_clips/Ball_change/...</td>\n",
       "    </tr>\n",
       "  </tbody>\n",
       "</table>\n",
       "<p>1248 rows × 1 columns</p>\n",
       "</div>"
      ],
      "text/plain": [
       "                                                   Path\n",
       "0     ../../../Source/Clean_train_clips/Shuffle/1/1.wav\n",
       "1     ../../../Source/Clean_train_clips/Shuffle/1/10...\n",
       "2     ../../../Source/Clean_train_clips/Shuffle/1/10...\n",
       "3     ../../../Source/Clean_train_clips/Shuffle/1/10...\n",
       "4     ../../../Source/Clean_train_clips/Shuffle/1/10...\n",
       "5     ../../../Source/Clean_train_clips/Shuffle/1/11...\n",
       "6     ../../../Source/Clean_train_clips/Shuffle/1/11...\n",
       "7     ../../../Source/Clean_train_clips/Shuffle/1/11...\n",
       "8     ../../../Source/Clean_train_clips/Shuffle/1/11...\n",
       "9     ../../../Source/Clean_train_clips/Shuffle/1/12...\n",
       "10    ../../../Source/Clean_train_clips/Shuffle/1/12...\n",
       "11    ../../../Source/Clean_train_clips/Shuffle/1/12...\n",
       "12    ../../../Source/Clean_train_clips/Shuffle/1/12...\n",
       "13    ../../../Source/Clean_train_clips/Shuffle/1/13...\n",
       "14    ../../../Source/Clean_train_clips/Shuffle/1/13...\n",
       "15    ../../../Source/Clean_train_clips/Shuffle/1/13...\n",
       "16    ../../../Source/Clean_train_clips/Shuffle/1/13...\n",
       "17    ../../../Source/Clean_train_clips/Shuffle/1/1_...\n",
       "18    ../../../Source/Clean_train_clips/Shuffle/1/1_...\n",
       "19    ../../../Source/Clean_train_clips/Shuffle/1/1_...\n",
       "20    ../../../Source/Clean_train_clips/Shuffle/1/2.wav\n",
       "21    ../../../Source/Clean_train_clips/Shuffle/1/2_...\n",
       "22    ../../../Source/Clean_train_clips/Shuffle/1/2_...\n",
       "23    ../../../Source/Clean_train_clips/Shuffle/1/2_...\n",
       "24    ../../../Source/Clean_train_clips/Shuffle/1/3.wav\n",
       "25    ../../../Source/Clean_train_clips/Shuffle/1/3_...\n",
       "26    ../../../Source/Clean_train_clips/Shuffle/1/3_...\n",
       "27    ../../../Source/Clean_train_clips/Shuffle/1/3_...\n",
       "28    ../../../Source/Clean_train_clips/Shuffle/1/4.wav\n",
       "29    ../../../Source/Clean_train_clips/Shuffle/1/4_...\n",
       "...                                                 ...\n",
       "1218  ../../../Source/Clean_train_clips/Ball_change/...\n",
       "1219  ../../../Source/Clean_train_clips/Ball_change/...\n",
       "1220  ../../../Source/Clean_train_clips/Ball_change/...\n",
       "1221  ../../../Source/Clean_train_clips/Ball_change/...\n",
       "1222  ../../../Source/Clean_train_clips/Ball_change/...\n",
       "1223  ../../../Source/Clean_train_clips/Ball_change/...\n",
       "1224  ../../../Source/Clean_train_clips/Ball_change/...\n",
       "1225  ../../../Source/Clean_train_clips/Ball_change/...\n",
       "1226  ../../../Source/Clean_train_clips/Ball_change/...\n",
       "1227  ../../../Source/Clean_train_clips/Ball_change/...\n",
       "1228  ../../../Source/Clean_train_clips/Ball_change/...\n",
       "1229  ../../../Source/Clean_train_clips/Ball_change/...\n",
       "1230  ../../../Source/Clean_train_clips/Ball_change/...\n",
       "1231  ../../../Source/Clean_train_clips/Ball_change/...\n",
       "1232  ../../../Source/Clean_train_clips/Ball_change/...\n",
       "1233  ../../../Source/Clean_train_clips/Ball_change/...\n",
       "1234  ../../../Source/Clean_train_clips/Ball_change/...\n",
       "1235  ../../../Source/Clean_train_clips/Ball_change/...\n",
       "1236  ../../../Source/Clean_train_clips/Ball_change/...\n",
       "1237  ../../../Source/Clean_train_clips/Ball_change/...\n",
       "1238  ../../../Source/Clean_train_clips/Ball_change/...\n",
       "1239  ../../../Source/Clean_train_clips/Ball_change/...\n",
       "1240  ../../../Source/Clean_train_clips/Ball_change/...\n",
       "1241  ../../../Source/Clean_train_clips/Ball_change/...\n",
       "1242  ../../../Source/Clean_train_clips/Ball_change/...\n",
       "1243  ../../../Source/Clean_train_clips/Ball_change/...\n",
       "1244  ../../../Source/Clean_train_clips/Ball_change/...\n",
       "1245  ../../../Source/Clean_train_clips/Ball_change/...\n",
       "1246  ../../../Source/Clean_train_clips/Ball_change/...\n",
       "1247  ../../../Source/Clean_train_clips/Ball_change/...\n",
       "\n",
       "[1248 rows x 1 columns]"
      ]
     },
     "execution_count": 17,
     "metadata": {},
     "output_type": "execute_result"
    }
   ],
   "source": [
    "tap = pd.DataFrame({'Path':path_col})\n",
    "tap"
   ]
  },
  {
   "cell_type": "markdown",
   "metadata": {},
   "source": [
    "** Add labels**"
   ]
  },
  {
   "cell_type": "code",
   "execution_count": 18,
   "metadata": {},
   "outputs": [],
   "source": [
    "tap['Labels'] = [get_label(tap.loc[idx,'Path']) for idx in range(len(tap))]"
   ]
  },
  {
   "cell_type": "code",
   "execution_count": null,
   "metadata": {},
   "outputs": [],
   "source": []
  },
  {
   "cell_type": "markdown",
   "metadata": {},
   "source": [
    "**Add Features: MFCCs**"
   ]
  },
  {
   "cell_type": "code",
   "execution_count": 21,
   "metadata": {},
   "outputs": [],
   "source": [
    "def get_features_mfcc(path):\n",
    "    samples, sample_rate = librosa.load(path)\n",
    "    mfccs = np.mean(librosa.feature.mfcc(y=samples, sr=sample_rate, n_mfcc=n_mfcc).T,axis=0)\n",
    "    return mfccs"
   ]
  },
  {
   "cell_type": "code",
   "execution_count": 22,
   "metadata": {},
   "outputs": [],
   "source": [
    "for i in range (n_mfcc):\n",
    "    tap[str(i)] = [get_features_mfcc(tap.loc[idx, 'Path'])[i] for idx in range (len(tap))]"
   ]
  },
  {
   "cell_type": "code",
   "execution_count": null,
   "metadata": {},
   "outputs": [],
   "source": []
  },
  {
   "cell_type": "code",
   "execution_count": 23,
   "metadata": {},
   "outputs": [
    {
     "data": {
      "text/html": [
       "<div>\n",
       "<style scoped>\n",
       "    .dataframe tbody tr th:only-of-type {\n",
       "        vertical-align: middle;\n",
       "    }\n",
       "\n",
       "    .dataframe tbody tr th {\n",
       "        vertical-align: top;\n",
       "    }\n",
       "\n",
       "    .dataframe thead th {\n",
       "        text-align: right;\n",
       "    }\n",
       "</style>\n",
       "<table border=\"1\" class=\"dataframe\">\n",
       "  <thead>\n",
       "    <tr style=\"text-align: right;\">\n",
       "      <th></th>\n",
       "      <th>Path</th>\n",
       "      <th>Labels</th>\n",
       "      <th>0</th>\n",
       "      <th>1</th>\n",
       "      <th>2</th>\n",
       "      <th>3</th>\n",
       "      <th>4</th>\n",
       "      <th>5</th>\n",
       "      <th>6</th>\n",
       "      <th>7</th>\n",
       "      <th>...</th>\n",
       "      <th>10</th>\n",
       "      <th>11</th>\n",
       "      <th>12</th>\n",
       "      <th>13</th>\n",
       "      <th>14</th>\n",
       "      <th>15</th>\n",
       "      <th>16</th>\n",
       "      <th>17</th>\n",
       "      <th>18</th>\n",
       "      <th>19</th>\n",
       "    </tr>\n",
       "  </thead>\n",
       "  <tbody>\n",
       "    <tr>\n",
       "      <th>0</th>\n",
       "      <td>../../../Source/Clean_train_clips/Shuffle/1/1.wav</td>\n",
       "      <td>1</td>\n",
       "      <td>-152.435155</td>\n",
       "      <td>78.311769</td>\n",
       "      <td>-106.482258</td>\n",
       "      <td>40.668131</td>\n",
       "      <td>-6.848575</td>\n",
       "      <td>-13.537377</td>\n",
       "      <td>-25.102485</td>\n",
       "      <td>6.754208</td>\n",
       "      <td>...</td>\n",
       "      <td>-18.794214</td>\n",
       "      <td>-9.100824</td>\n",
       "      <td>-3.329641</td>\n",
       "      <td>-9.682083</td>\n",
       "      <td>-10.265548</td>\n",
       "      <td>-2.854873</td>\n",
       "      <td>-2.821410</td>\n",
       "      <td>-11.892168</td>\n",
       "      <td>-1.505338</td>\n",
       "      <td>-2.087528</td>\n",
       "    </tr>\n",
       "    <tr>\n",
       "      <th>1</th>\n",
       "      <td>../../../Source/Clean_train_clips/Shuffle/1/10...</td>\n",
       "      <td>1</td>\n",
       "      <td>-143.991075</td>\n",
       "      <td>65.523449</td>\n",
       "      <td>-102.436753</td>\n",
       "      <td>32.133732</td>\n",
       "      <td>-7.930019</td>\n",
       "      <td>-3.615873</td>\n",
       "      <td>-29.871724</td>\n",
       "      <td>-0.182348</td>\n",
       "      <td>...</td>\n",
       "      <td>-20.080337</td>\n",
       "      <td>-12.818014</td>\n",
       "      <td>-1.179643</td>\n",
       "      <td>-8.972827</td>\n",
       "      <td>-13.680871</td>\n",
       "      <td>-0.441789</td>\n",
       "      <td>-5.826206</td>\n",
       "      <td>-15.578982</td>\n",
       "      <td>-4.161982</td>\n",
       "      <td>-2.657234</td>\n",
       "    </tr>\n",
       "    <tr>\n",
       "      <th>2</th>\n",
       "      <td>../../../Source/Clean_train_clips/Shuffle/1/10...</td>\n",
       "      <td>1</td>\n",
       "      <td>-111.612287</td>\n",
       "      <td>38.485560</td>\n",
       "      <td>-82.105803</td>\n",
       "      <td>20.092784</td>\n",
       "      <td>4.521734</td>\n",
       "      <td>-11.397102</td>\n",
       "      <td>-17.515387</td>\n",
       "      <td>-4.323631</td>\n",
       "      <td>...</td>\n",
       "      <td>-14.350838</td>\n",
       "      <td>-13.162733</td>\n",
       "      <td>2.241935</td>\n",
       "      <td>-9.635265</td>\n",
       "      <td>-11.721482</td>\n",
       "      <td>0.729660</td>\n",
       "      <td>-4.075102</td>\n",
       "      <td>-13.519880</td>\n",
       "      <td>-2.646125</td>\n",
       "      <td>-1.819422</td>\n",
       "    </tr>\n",
       "    <tr>\n",
       "      <th>3</th>\n",
       "      <td>../../../Source/Clean_train_clips/Shuffle/1/10...</td>\n",
       "      <td>1</td>\n",
       "      <td>-124.765927</td>\n",
       "      <td>59.099908</td>\n",
       "      <td>-107.706609</td>\n",
       "      <td>34.986722</td>\n",
       "      <td>-7.126354</td>\n",
       "      <td>-4.114656</td>\n",
       "      <td>-28.856100</td>\n",
       "      <td>0.194913</td>\n",
       "      <td>...</td>\n",
       "      <td>-19.339707</td>\n",
       "      <td>-13.854616</td>\n",
       "      <td>-1.720148</td>\n",
       "      <td>-9.828810</td>\n",
       "      <td>-14.683264</td>\n",
       "      <td>-0.436352</td>\n",
       "      <td>-6.158605</td>\n",
       "      <td>-14.315085</td>\n",
       "      <td>-3.680532</td>\n",
       "      <td>-3.380997</td>\n",
       "    </tr>\n",
       "    <tr>\n",
       "      <th>4</th>\n",
       "      <td>../../../Source/Clean_train_clips/Shuffle/1/10...</td>\n",
       "      <td>1</td>\n",
       "      <td>-171.803904</td>\n",
       "      <td>61.124764</td>\n",
       "      <td>-105.591733</td>\n",
       "      <td>32.832019</td>\n",
       "      <td>-7.868860</td>\n",
       "      <td>-2.751917</td>\n",
       "      <td>-29.451636</td>\n",
       "      <td>0.423611</td>\n",
       "      <td>...</td>\n",
       "      <td>-20.465516</td>\n",
       "      <td>-14.246567</td>\n",
       "      <td>-1.306208</td>\n",
       "      <td>-9.365910</td>\n",
       "      <td>-13.807159</td>\n",
       "      <td>-0.393419</td>\n",
       "      <td>-5.879256</td>\n",
       "      <td>-15.103948</td>\n",
       "      <td>-3.742887</td>\n",
       "      <td>-3.202471</td>\n",
       "    </tr>\n",
       "  </tbody>\n",
       "</table>\n",
       "<p>5 rows × 22 columns</p>\n",
       "</div>"
      ],
      "text/plain": [
       "                                                Path  Labels           0  \\\n",
       "0  ../../../Source/Clean_train_clips/Shuffle/1/1.wav       1 -152.435155   \n",
       "1  ../../../Source/Clean_train_clips/Shuffle/1/10...       1 -143.991075   \n",
       "2  ../../../Source/Clean_train_clips/Shuffle/1/10...       1 -111.612287   \n",
       "3  ../../../Source/Clean_train_clips/Shuffle/1/10...       1 -124.765927   \n",
       "4  ../../../Source/Clean_train_clips/Shuffle/1/10...       1 -171.803904   \n",
       "\n",
       "           1           2          3         4          5          6         7  \\\n",
       "0  78.311769 -106.482258  40.668131 -6.848575 -13.537377 -25.102485  6.754208   \n",
       "1  65.523449 -102.436753  32.133732 -7.930019  -3.615873 -29.871724 -0.182348   \n",
       "2  38.485560  -82.105803  20.092784  4.521734 -11.397102 -17.515387 -4.323631   \n",
       "3  59.099908 -107.706609  34.986722 -7.126354  -4.114656 -28.856100  0.194913   \n",
       "4  61.124764 -105.591733  32.832019 -7.868860  -2.751917 -29.451636  0.423611   \n",
       "\n",
       "     ...            10         11        12        13         14        15  \\\n",
       "0    ...    -18.794214  -9.100824 -3.329641 -9.682083 -10.265548 -2.854873   \n",
       "1    ...    -20.080337 -12.818014 -1.179643 -8.972827 -13.680871 -0.441789   \n",
       "2    ...    -14.350838 -13.162733  2.241935 -9.635265 -11.721482  0.729660   \n",
       "3    ...    -19.339707 -13.854616 -1.720148 -9.828810 -14.683264 -0.436352   \n",
       "4    ...    -20.465516 -14.246567 -1.306208 -9.365910 -13.807159 -0.393419   \n",
       "\n",
       "         16         17        18        19  \n",
       "0 -2.821410 -11.892168 -1.505338 -2.087528  \n",
       "1 -5.826206 -15.578982 -4.161982 -2.657234  \n",
       "2 -4.075102 -13.519880 -2.646125 -1.819422  \n",
       "3 -6.158605 -14.315085 -3.680532 -3.380997  \n",
       "4 -5.879256 -15.103948 -3.742887 -3.202471  \n",
       "\n",
       "[5 rows x 22 columns]"
      ]
     },
     "execution_count": 23,
     "metadata": {},
     "output_type": "execute_result"
    }
   ],
   "source": [
    "tap.head()"
   ]
  },
  {
   "cell_type": "markdown",
   "metadata": {},
   "source": [
    "** Add Features: Tempo**"
   ]
  },
  {
   "cell_type": "code",
   "execution_count": 24,
   "metadata": {},
   "outputs": [],
   "source": [
    "def get_features_bpm(path):\n",
    "    samples, sample_rate = librosa.load(path)\n",
    "    onset_env = librosa.onset.onset_strength(samples, sr=sample_rate)\n",
    "    tempo = librosa.beat.tempo(onset_envelope=onset_env, sr=sample_rate)\n",
    "    return tempo.item()"
   ]
  },
  {
   "cell_type": "code",
   "execution_count": 25,
   "metadata": {},
   "outputs": [],
   "source": [
    "tap['BPM'] = [get_features_bpm(tap.loc[idx, 'Path']) for idx in range (len(tap))]"
   ]
  },
  {
   "cell_type": "code",
   "execution_count": 26,
   "metadata": {},
   "outputs": [
    {
     "data": {
      "text/html": [
       "<div>\n",
       "<style scoped>\n",
       "    .dataframe tbody tr th:only-of-type {\n",
       "        vertical-align: middle;\n",
       "    }\n",
       "\n",
       "    .dataframe tbody tr th {\n",
       "        vertical-align: top;\n",
       "    }\n",
       "\n",
       "    .dataframe thead th {\n",
       "        text-align: right;\n",
       "    }\n",
       "</style>\n",
       "<table border=\"1\" class=\"dataframe\">\n",
       "  <thead>\n",
       "    <tr style=\"text-align: right;\">\n",
       "      <th></th>\n",
       "      <th>Path</th>\n",
       "      <th>Labels</th>\n",
       "      <th>0</th>\n",
       "      <th>1</th>\n",
       "      <th>2</th>\n",
       "      <th>3</th>\n",
       "      <th>4</th>\n",
       "      <th>5</th>\n",
       "      <th>6</th>\n",
       "      <th>7</th>\n",
       "      <th>...</th>\n",
       "      <th>11</th>\n",
       "      <th>12</th>\n",
       "      <th>13</th>\n",
       "      <th>14</th>\n",
       "      <th>15</th>\n",
       "      <th>16</th>\n",
       "      <th>17</th>\n",
       "      <th>18</th>\n",
       "      <th>19</th>\n",
       "      <th>BPM</th>\n",
       "    </tr>\n",
       "  </thead>\n",
       "  <tbody>\n",
       "    <tr>\n",
       "      <th>0</th>\n",
       "      <td>../../../Source/Clean_train_clips/Shuffle/1/1.wav</td>\n",
       "      <td>1</td>\n",
       "      <td>-152.435155</td>\n",
       "      <td>78.311769</td>\n",
       "      <td>-106.482258</td>\n",
       "      <td>40.668131</td>\n",
       "      <td>-6.848575</td>\n",
       "      <td>-13.537377</td>\n",
       "      <td>-25.102485</td>\n",
       "      <td>6.754208</td>\n",
       "      <td>...</td>\n",
       "      <td>-9.100824</td>\n",
       "      <td>-3.329641</td>\n",
       "      <td>-9.682083</td>\n",
       "      <td>-10.265548</td>\n",
       "      <td>-2.854873</td>\n",
       "      <td>-2.821410</td>\n",
       "      <td>-11.892168</td>\n",
       "      <td>-1.505338</td>\n",
       "      <td>-2.087528</td>\n",
       "      <td>258.398438</td>\n",
       "    </tr>\n",
       "    <tr>\n",
       "      <th>1</th>\n",
       "      <td>../../../Source/Clean_train_clips/Shuffle/1/10...</td>\n",
       "      <td>1</td>\n",
       "      <td>-143.991075</td>\n",
       "      <td>65.523449</td>\n",
       "      <td>-102.436753</td>\n",
       "      <td>32.133732</td>\n",
       "      <td>-7.930019</td>\n",
       "      <td>-3.615873</td>\n",
       "      <td>-29.871724</td>\n",
       "      <td>-0.182348</td>\n",
       "      <td>...</td>\n",
       "      <td>-12.818014</td>\n",
       "      <td>-1.179643</td>\n",
       "      <td>-8.972827</td>\n",
       "      <td>-13.680871</td>\n",
       "      <td>-0.441789</td>\n",
       "      <td>-5.826206</td>\n",
       "      <td>-15.578982</td>\n",
       "      <td>-4.161982</td>\n",
       "      <td>-2.657234</td>\n",
       "      <td>215.332031</td>\n",
       "    </tr>\n",
       "    <tr>\n",
       "      <th>2</th>\n",
       "      <td>../../../Source/Clean_train_clips/Shuffle/1/10...</td>\n",
       "      <td>1</td>\n",
       "      <td>-111.612287</td>\n",
       "      <td>38.485560</td>\n",
       "      <td>-82.105803</td>\n",
       "      <td>20.092784</td>\n",
       "      <td>4.521734</td>\n",
       "      <td>-11.397102</td>\n",
       "      <td>-17.515387</td>\n",
       "      <td>-4.323631</td>\n",
       "      <td>...</td>\n",
       "      <td>-13.162733</td>\n",
       "      <td>2.241935</td>\n",
       "      <td>-9.635265</td>\n",
       "      <td>-11.721482</td>\n",
       "      <td>0.729660</td>\n",
       "      <td>-4.075102</td>\n",
       "      <td>-13.519880</td>\n",
       "      <td>-2.646125</td>\n",
       "      <td>-1.819422</td>\n",
       "      <td>215.332031</td>\n",
       "    </tr>\n",
       "    <tr>\n",
       "      <th>3</th>\n",
       "      <td>../../../Source/Clean_train_clips/Shuffle/1/10...</td>\n",
       "      <td>1</td>\n",
       "      <td>-124.765927</td>\n",
       "      <td>59.099908</td>\n",
       "      <td>-107.706609</td>\n",
       "      <td>34.986722</td>\n",
       "      <td>-7.126354</td>\n",
       "      <td>-4.114656</td>\n",
       "      <td>-28.856100</td>\n",
       "      <td>0.194913</td>\n",
       "      <td>...</td>\n",
       "      <td>-13.854616</td>\n",
       "      <td>-1.720148</td>\n",
       "      <td>-9.828810</td>\n",
       "      <td>-14.683264</td>\n",
       "      <td>-0.436352</td>\n",
       "      <td>-6.158605</td>\n",
       "      <td>-14.315085</td>\n",
       "      <td>-3.680532</td>\n",
       "      <td>-3.380997</td>\n",
       "      <td>215.332031</td>\n",
       "    </tr>\n",
       "    <tr>\n",
       "      <th>4</th>\n",
       "      <td>../../../Source/Clean_train_clips/Shuffle/1/10...</td>\n",
       "      <td>1</td>\n",
       "      <td>-171.803904</td>\n",
       "      <td>61.124764</td>\n",
       "      <td>-105.591733</td>\n",
       "      <td>32.832019</td>\n",
       "      <td>-7.868860</td>\n",
       "      <td>-2.751917</td>\n",
       "      <td>-29.451636</td>\n",
       "      <td>0.423611</td>\n",
       "      <td>...</td>\n",
       "      <td>-14.246567</td>\n",
       "      <td>-1.306208</td>\n",
       "      <td>-9.365910</td>\n",
       "      <td>-13.807159</td>\n",
       "      <td>-0.393419</td>\n",
       "      <td>-5.879256</td>\n",
       "      <td>-15.103948</td>\n",
       "      <td>-3.742887</td>\n",
       "      <td>-3.202471</td>\n",
       "      <td>123.046875</td>\n",
       "    </tr>\n",
       "  </tbody>\n",
       "</table>\n",
       "<p>5 rows × 23 columns</p>\n",
       "</div>"
      ],
      "text/plain": [
       "                                                Path  Labels           0  \\\n",
       "0  ../../../Source/Clean_train_clips/Shuffle/1/1.wav       1 -152.435155   \n",
       "1  ../../../Source/Clean_train_clips/Shuffle/1/10...       1 -143.991075   \n",
       "2  ../../../Source/Clean_train_clips/Shuffle/1/10...       1 -111.612287   \n",
       "3  ../../../Source/Clean_train_clips/Shuffle/1/10...       1 -124.765927   \n",
       "4  ../../../Source/Clean_train_clips/Shuffle/1/10...       1 -171.803904   \n",
       "\n",
       "           1           2          3         4          5          6         7  \\\n",
       "0  78.311769 -106.482258  40.668131 -6.848575 -13.537377 -25.102485  6.754208   \n",
       "1  65.523449 -102.436753  32.133732 -7.930019  -3.615873 -29.871724 -0.182348   \n",
       "2  38.485560  -82.105803  20.092784  4.521734 -11.397102 -17.515387 -4.323631   \n",
       "3  59.099908 -107.706609  34.986722 -7.126354  -4.114656 -28.856100  0.194913   \n",
       "4  61.124764 -105.591733  32.832019 -7.868860  -2.751917 -29.451636  0.423611   \n",
       "\n",
       "      ...             11        12        13         14        15        16  \\\n",
       "0     ...      -9.100824 -3.329641 -9.682083 -10.265548 -2.854873 -2.821410   \n",
       "1     ...     -12.818014 -1.179643 -8.972827 -13.680871 -0.441789 -5.826206   \n",
       "2     ...     -13.162733  2.241935 -9.635265 -11.721482  0.729660 -4.075102   \n",
       "3     ...     -13.854616 -1.720148 -9.828810 -14.683264 -0.436352 -6.158605   \n",
       "4     ...     -14.246567 -1.306208 -9.365910 -13.807159 -0.393419 -5.879256   \n",
       "\n",
       "          17        18        19         BPM  \n",
       "0 -11.892168 -1.505338 -2.087528  258.398438  \n",
       "1 -15.578982 -4.161982 -2.657234  215.332031  \n",
       "2 -13.519880 -2.646125 -1.819422  215.332031  \n",
       "3 -14.315085 -3.680532 -3.380997  215.332031  \n",
       "4 -15.103948 -3.742887 -3.202471  123.046875  \n",
       "\n",
       "[5 rows x 23 columns]"
      ]
     },
     "execution_count": 26,
     "metadata": {},
     "output_type": "execute_result"
    }
   ],
   "source": [
    "tap.head()"
   ]
  },
  {
   "cell_type": "markdown",
   "metadata": {},
   "source": [
    "** Add features: zero-crossing rate**"
   ]
  },
  {
   "cell_type": "code",
   "execution_count": 27,
   "metadata": {},
   "outputs": [
    {
     "data": {
      "text/plain": [
       "27"
      ]
     },
     "execution_count": 27,
     "metadata": {},
     "output_type": "execute_result"
    }
   ],
   "source": [
    "y, sr = librosa.load('../../../Source/Clean_train_clips/Shuffle/1/12.wav')\n",
    "zero_rate = librosa.feature.zero_crossing_rate(y)\n",
    "zero_rate.shape[1]"
   ]
  },
  {
   "cell_type": "code",
   "execution_count": 28,
   "metadata": {},
   "outputs": [
    {
     "name": "stdout",
     "output_type": "stream",
     "text": [
      "(20, 26)\n",
      "(1, 26)\n",
      "(20,)\n",
      "(1,)\n"
     ]
    }
   ],
   "source": [
    "samples, sample_rate = librosa.load('../../../Source/Clean_train_clips/Shuffle/1/10.wav')\n",
    "avg_zcr = np.mean(librosa.feature.zero_crossing_rate(y=samples).T,axis=0)\n",
    "zcrs= librosa.feature.zero_crossing_rate(samples)\n",
    "\n",
    "print((librosa.feature.mfcc(y=samples, sr=sample_rate, n_mfcc=n_mfcc)).shape)\n",
    "print(zcrs.shape)\n",
    "print(np.mean(librosa.feature.mfcc(y=samples, sr=sample_rate, n_mfcc=n_mfcc).T,axis=0).shape)\n",
    "print(avg_zcr.shape)"
   ]
  },
  {
   "cell_type": "code",
   "execution_count": 29,
   "metadata": {},
   "outputs": [],
   "source": [
    "def get_features_ZCR(path):\n",
    "    samples, sample_rate = librosa.load(path)\n",
    "    return np.mean(librosa.feature.zero_crossing_rate(y=samples).T,axis=0).item()"
   ]
  },
  {
   "cell_type": "code",
   "execution_count": 30,
   "metadata": {},
   "outputs": [],
   "source": [
    "tap['ZCR'] = [get_features_ZCR(tap.loc[idx, 'Path']) for idx in range (len(tap))]"
   ]
  },
  {
   "cell_type": "markdown",
   "metadata": {},
   "source": [
    "** Add features: root mean square energy value**"
   ]
  },
  {
   "cell_type": "code",
   "execution_count": 31,
   "metadata": {},
   "outputs": [],
   "source": [
    "def get_features_rmse(path):\n",
    "    samples, sample_rate = librosa.load(path)\n",
    "    return np.mean(librosa.feature.rmse(y=samples).T,axis=0).item()"
   ]
  },
  {
   "cell_type": "code",
   "execution_count": 32,
   "metadata": {},
   "outputs": [],
   "source": [
    "tap['RMSE'] = [get_features_rmse(tap.loc[idx, 'Path']) for idx in range (len(tap))]"
   ]
  },
  {
   "cell_type": "markdown",
   "metadata": {},
   "source": [
    "** Add features: short term energy**"
   ]
  },
  {
   "cell_type": "code",
   "execution_count": 33,
   "metadata": {},
   "outputs": [],
   "source": [
    "def get_features_ste(path):\n",
    "    hop_length = 125\n",
    "    frame_length = 250\n",
    "    samples, sample_rate = librosa.load(path)\n",
    "    energy = np.array([sum(abs(samples[i:i+frame_length]**2))for i in range(0, len(samples), hop_length)])\n",
    "    return np.mean(energy.T)"
   ]
  },
  {
   "cell_type": "code",
   "execution_count": 34,
   "metadata": {},
   "outputs": [],
   "source": [
    "tap['STE'] = [get_features_ste(tap.loc[idx, 'Path']) for idx in range (len(tap))]"
   ]
  },
  {
   "cell_type": "markdown",
   "metadata": {},
   "source": [
    "**Add features: Short-time Fourier Transform**"
   ]
  },
  {
   "cell_type": "code",
   "execution_count": null,
   "metadata": {},
   "outputs": [],
   "source": [
    "#tap['STFT'] = [get_features_stft(tap.loc[idx, 'Path']) for idx in range (len(tap))]"
   ]
  },
  {
   "cell_type": "markdown",
   "metadata": {},
   "source": [
    "**Add features: Fast Fourier Transform**"
   ]
  },
  {
   "cell_type": "code",
   "execution_count": null,
   "metadata": {},
   "outputs": [],
   "source": [
    "#tap['FFT'] = [get_features_fft(tap.loc[idx, 'Path']) for idx in range (len(tap))]"
   ]
  },
  {
   "cell_type": "markdown",
   "metadata": {},
   "source": [
    "**Add features: Discrete cosine transform**"
   ]
  },
  {
   "cell_type": "code",
   "execution_count": null,
   "metadata": {},
   "outputs": [],
   "source": [
    "#tap['DCT'] = [get_features_dct(tap.loc[idx, 'Path']) for idx in range (len(tap))]"
   ]
  },
  {
   "cell_type": "markdown",
   "metadata": {},
   "source": [
    "### Pimped out DataFrame"
   ]
  },
  {
   "cell_type": "code",
   "execution_count": 35,
   "metadata": {},
   "outputs": [
    {
     "data": {
      "text/html": [
       "<div>\n",
       "<style scoped>\n",
       "    .dataframe tbody tr th:only-of-type {\n",
       "        vertical-align: middle;\n",
       "    }\n",
       "\n",
       "    .dataframe tbody tr th {\n",
       "        vertical-align: top;\n",
       "    }\n",
       "\n",
       "    .dataframe thead th {\n",
       "        text-align: right;\n",
       "    }\n",
       "</style>\n",
       "<table border=\"1\" class=\"dataframe\">\n",
       "  <thead>\n",
       "    <tr style=\"text-align: right;\">\n",
       "      <th></th>\n",
       "      <th>Path</th>\n",
       "      <th>Labels</th>\n",
       "      <th>0</th>\n",
       "      <th>1</th>\n",
       "      <th>2</th>\n",
       "      <th>3</th>\n",
       "      <th>4</th>\n",
       "      <th>5</th>\n",
       "      <th>6</th>\n",
       "      <th>7</th>\n",
       "      <th>...</th>\n",
       "      <th>14</th>\n",
       "      <th>15</th>\n",
       "      <th>16</th>\n",
       "      <th>17</th>\n",
       "      <th>18</th>\n",
       "      <th>19</th>\n",
       "      <th>BPM</th>\n",
       "      <th>ZCR</th>\n",
       "      <th>RMSE</th>\n",
       "      <th>STE</th>\n",
       "    </tr>\n",
       "  </thead>\n",
       "  <tbody>\n",
       "    <tr>\n",
       "      <th>0</th>\n",
       "      <td>../../../Source/Clean_train_clips/Shuffle/1/1.wav</td>\n",
       "      <td>1</td>\n",
       "      <td>-152.435155</td>\n",
       "      <td>78.311769</td>\n",
       "      <td>-106.482258</td>\n",
       "      <td>40.668131</td>\n",
       "      <td>-6.848575</td>\n",
       "      <td>-13.537377</td>\n",
       "      <td>-25.102485</td>\n",
       "      <td>6.754208</td>\n",
       "      <td>...</td>\n",
       "      <td>-10.265548</td>\n",
       "      <td>-2.854873</td>\n",
       "      <td>-2.821410</td>\n",
       "      <td>-11.892168</td>\n",
       "      <td>-1.505338</td>\n",
       "      <td>-2.087528</td>\n",
       "      <td>258.398438</td>\n",
       "      <td>0.183553</td>\n",
       "      <td>0.113765</td>\n",
       "      <td>3.927907</td>\n",
       "    </tr>\n",
       "    <tr>\n",
       "      <th>1</th>\n",
       "      <td>../../../Source/Clean_train_clips/Shuffle/1/10...</td>\n",
       "      <td>1</td>\n",
       "      <td>-143.991075</td>\n",
       "      <td>65.523449</td>\n",
       "      <td>-102.436753</td>\n",
       "      <td>32.133732</td>\n",
       "      <td>-7.930019</td>\n",
       "      <td>-3.615873</td>\n",
       "      <td>-29.871724</td>\n",
       "      <td>-0.182348</td>\n",
       "      <td>...</td>\n",
       "      <td>-13.680871</td>\n",
       "      <td>-0.441789</td>\n",
       "      <td>-5.826206</td>\n",
       "      <td>-15.578982</td>\n",
       "      <td>-4.161982</td>\n",
       "      <td>-2.657234</td>\n",
       "      <td>215.332031</td>\n",
       "      <td>0.187988</td>\n",
       "      <td>0.105637</td>\n",
       "      <td>3.369918</td>\n",
       "    </tr>\n",
       "    <tr>\n",
       "      <th>2</th>\n",
       "      <td>../../../Source/Clean_train_clips/Shuffle/1/10...</td>\n",
       "      <td>1</td>\n",
       "      <td>-111.612287</td>\n",
       "      <td>38.485560</td>\n",
       "      <td>-82.105803</td>\n",
       "      <td>20.092784</td>\n",
       "      <td>4.521734</td>\n",
       "      <td>-11.397102</td>\n",
       "      <td>-17.515387</td>\n",
       "      <td>-4.323631</td>\n",
       "      <td>...</td>\n",
       "      <td>-11.721482</td>\n",
       "      <td>0.729660</td>\n",
       "      <td>-4.075102</td>\n",
       "      <td>-13.519880</td>\n",
       "      <td>-2.646125</td>\n",
       "      <td>-1.819422</td>\n",
       "      <td>215.332031</td>\n",
       "      <td>0.237868</td>\n",
       "      <td>0.106001</td>\n",
       "      <td>3.373906</td>\n",
       "    </tr>\n",
       "    <tr>\n",
       "      <th>3</th>\n",
       "      <td>../../../Source/Clean_train_clips/Shuffle/1/10...</td>\n",
       "      <td>1</td>\n",
       "      <td>-124.765927</td>\n",
       "      <td>59.099908</td>\n",
       "      <td>-107.706609</td>\n",
       "      <td>34.986722</td>\n",
       "      <td>-7.126354</td>\n",
       "      <td>-4.114656</td>\n",
       "      <td>-28.856100</td>\n",
       "      <td>0.194913</td>\n",
       "      <td>...</td>\n",
       "      <td>-14.683264</td>\n",
       "      <td>-0.436352</td>\n",
       "      <td>-6.158605</td>\n",
       "      <td>-14.315085</td>\n",
       "      <td>-3.680532</td>\n",
       "      <td>-3.380997</td>\n",
       "      <td>215.332031</td>\n",
       "      <td>0.187538</td>\n",
       "      <td>0.106388</td>\n",
       "      <td>3.366737</td>\n",
       "    </tr>\n",
       "    <tr>\n",
       "      <th>4</th>\n",
       "      <td>../../../Source/Clean_train_clips/Shuffle/1/10...</td>\n",
       "      <td>1</td>\n",
       "      <td>-171.803904</td>\n",
       "      <td>61.124764</td>\n",
       "      <td>-105.591733</td>\n",
       "      <td>32.832019</td>\n",
       "      <td>-7.868860</td>\n",
       "      <td>-2.751917</td>\n",
       "      <td>-29.451636</td>\n",
       "      <td>0.423611</td>\n",
       "      <td>...</td>\n",
       "      <td>-13.807159</td>\n",
       "      <td>-0.393419</td>\n",
       "      <td>-5.879256</td>\n",
       "      <td>-15.103948</td>\n",
       "      <td>-3.742887</td>\n",
       "      <td>-3.202471</td>\n",
       "      <td>123.046875</td>\n",
       "      <td>0.204491</td>\n",
       "      <td>0.075551</td>\n",
       "      <td>1.817998</td>\n",
       "    </tr>\n",
       "  </tbody>\n",
       "</table>\n",
       "<p>5 rows × 26 columns</p>\n",
       "</div>"
      ],
      "text/plain": [
       "                                                Path  Labels           0  \\\n",
       "0  ../../../Source/Clean_train_clips/Shuffle/1/1.wav       1 -152.435155   \n",
       "1  ../../../Source/Clean_train_clips/Shuffle/1/10...       1 -143.991075   \n",
       "2  ../../../Source/Clean_train_clips/Shuffle/1/10...       1 -111.612287   \n",
       "3  ../../../Source/Clean_train_clips/Shuffle/1/10...       1 -124.765927   \n",
       "4  ../../../Source/Clean_train_clips/Shuffle/1/10...       1 -171.803904   \n",
       "\n",
       "           1           2          3         4          5          6         7  \\\n",
       "0  78.311769 -106.482258  40.668131 -6.848575 -13.537377 -25.102485  6.754208   \n",
       "1  65.523449 -102.436753  32.133732 -7.930019  -3.615873 -29.871724 -0.182348   \n",
       "2  38.485560  -82.105803  20.092784  4.521734 -11.397102 -17.515387 -4.323631   \n",
       "3  59.099908 -107.706609  34.986722 -7.126354  -4.114656 -28.856100  0.194913   \n",
       "4  61.124764 -105.591733  32.832019 -7.868860  -2.751917 -29.451636  0.423611   \n",
       "\n",
       "     ...            14        15        16         17        18        19  \\\n",
       "0    ...    -10.265548 -2.854873 -2.821410 -11.892168 -1.505338 -2.087528   \n",
       "1    ...    -13.680871 -0.441789 -5.826206 -15.578982 -4.161982 -2.657234   \n",
       "2    ...    -11.721482  0.729660 -4.075102 -13.519880 -2.646125 -1.819422   \n",
       "3    ...    -14.683264 -0.436352 -6.158605 -14.315085 -3.680532 -3.380997   \n",
       "4    ...    -13.807159 -0.393419 -5.879256 -15.103948 -3.742887 -3.202471   \n",
       "\n",
       "          BPM       ZCR      RMSE       STE  \n",
       "0  258.398438  0.183553  0.113765  3.927907  \n",
       "1  215.332031  0.187988  0.105637  3.369918  \n",
       "2  215.332031  0.237868  0.106001  3.373906  \n",
       "3  215.332031  0.187538  0.106388  3.366737  \n",
       "4  123.046875  0.204491  0.075551  1.817998  \n",
       "\n",
       "[5 rows x 26 columns]"
      ]
     },
     "execution_count": 35,
     "metadata": {},
     "output_type": "execute_result"
    }
   ],
   "source": [
    "tap.head()"
   ]
  },
  {
   "cell_type": "markdown",
   "metadata": {},
   "source": [
    "### Split into train and test sets"
   ]
  },
  {
   "cell_type": "code",
   "execution_count": 36,
   "metadata": {},
   "outputs": [],
   "source": [
    "X = tap.drop(['Labels'], axis =1)\n",
    "y = tap[['Labels']]"
   ]
  },
  {
   "cell_type": "code",
   "execution_count": 37,
   "metadata": {},
   "outputs": [],
   "source": [
    "X_train, X_test, y_train, y_test = train_test_split(X, y,\n",
    "                                                    stratify=y, \n",
    "                                                    test_size=0.25)"
   ]
  },
  {
   "cell_type": "code",
   "execution_count": null,
   "metadata": {},
   "outputs": [],
   "source": []
  },
  {
   "cell_type": "code",
   "execution_count": 38,
   "metadata": {},
   "outputs": [],
   "source": [
    "X_train = pd.DataFrame(X_train)\n",
    "X_test = pd.DataFrame(X_test)\n",
    "y_train = pd.DataFrame(y_train)\n",
    "y_test = pd.DataFrame(y_test)"
   ]
  },
  {
   "cell_type": "code",
   "execution_count": 39,
   "metadata": {},
   "outputs": [],
   "source": [
    "#X_train.to_csv('../../../Source/Data/X_train_audio_augmented.csv', index=None)\n",
    "#y_train.to_csv('../../../Source/Data/y_train_audio_augmented.csv', index=None)\n",
    "#X_test.to_csv('../../../Source/Data/X_test_audio_augmented.csv', index=None)\n",
    "#y_test.to_csv('../../../Source/Data/y_test_audio_augmented.csv', index=None)\n",
    "#"
   ]
  },
  {
   "cell_type": "code",
   "execution_count": 40,
   "metadata": {},
   "outputs": [],
   "source": [
    "#tap.to_csv('../../../Source/Data/audio_data_augmented.csv', index=None)"
   ]
  },
  {
   "cell_type": "code",
   "execution_count": null,
   "metadata": {},
   "outputs": [],
   "source": []
  }
 ],
 "metadata": {
  "kernelspec": {
   "display_name": "Python 3",
   "language": "python",
   "name": "python3"
  },
  "language_info": {
   "codemirror_mode": {
    "name": "ipython",
    "version": 3
   },
   "file_extension": ".py",
   "mimetype": "text/x-python",
   "name": "python",
   "nbconvert_exporter": "python",
   "pygments_lexer": "ipython3",
   "version": "3.6.5"
  }
 },
 "nbformat": 4,
 "nbformat_minor": 2
}
