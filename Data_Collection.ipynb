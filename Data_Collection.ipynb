{
 "cells": [
  {
   "cell_type": "markdown",
   "metadata": {},
   "source": [
    "## Data Collection / Preprocessing"
   ]
  },
  {
   "cell_type": "code",
   "execution_count": 1,
   "metadata": {},
   "outputs": [],
   "source": [
    "from scipy.io import wavfile as wav\n",
    "from scipy.io.wavfile import read, write\n",
    "import matplotlib.pyplot as plt\n",
    "import pandas as pd\n",
    "import numpy as np\n",
    "from pydub import AudioSegment, effects\n",
    "from pydub.silence import split_on_silence, detect_nonsilent, detect_silence\n",
    "from scipy.signal import argrelextrema, find_peaks, peak_prominences, find_peaks_cwt, normalize\n",
    "from sklearn.metrics import accuracy_score"
   ]
  },
  {
   "cell_type": "code",
   "execution_count": 2,
   "metadata": {},
   "outputs": [],
   "source": [
    "## CURRENTLY UNUSED FUNCTIONS!!!!!!!!!!!!!!!\n",
    "\n",
    "def split_silence_chunks(wavfile, silence_length, threshold, file_names_list):\n",
    "    sound_file = AudioSegment.from_wav(wavfile)\n",
    "    audio_chunks = split_on_silence(sound_file, \n",
    "                        min_silence_len=silence_length,\n",
    "                        silence_thresh=threshold)\n",
    "    for i in range (len(audio_chunks)) :\n",
    "        chunk = audio_chunks[i]\n",
    "        chunk.export(file_names_list[i], format='wav')\n",
    "    print(\"Exported \" + str(len(audio_chunks)) + \" files\")\n",
    "\n",
    "def get_wav_mp3(mp3_file, wav_name):\n",
    "    song = AudioSegment.from_mp3(mp3_file)\n",
    "    new_song = song.export(wav_name, format=\"wav\")\n",
    "    #print(\"Exported file as: \" + wav_name)\n",
    "    return new_song\n",
    "   "
   ]
  },
  {
   "cell_type": "code",
   "execution_count": 3,
   "metadata": {},
   "outputs": [],
   "source": [
    "def get_wav_mp4(mp4_file, wav_name):\n",
    "    song = AudioSegment.from_file(mp4_file, \"mp4\")\n",
    "    new_song = song.export(wav_name, format=\"wav\")\n",
    "    return new_song\n",
    "\n",
    "def detect_leading_silence(sound):\n",
    "    '''I am still trying to figure out the best values for these silence criteria'''\n",
    "    chunk_size = 10\n",
    "    silence_threshold = -20\n",
    "    trim_ms = 0 \n",
    "\n",
    "    assert chunk_size > 0 # to avoid infinite loop\n",
    "    while sound[trim_ms:trim_ms+chunk_size].dBFS < silence_threshold and trim_ms < len(sound):\n",
    "        trim_ms += chunk_size\n",
    "\n",
    "    return trim_ms\n",
    "\n",
    "def set_target_amplitude(sound, target_dBFS = -30):\n",
    "    change_in_dBFS = target_dBFS - sound.dBFS\n",
    "    return sound.apply_gain(change_in_dBFS)\n",
    "\n",
    "def build_list(step, folder, length):\n",
    "    i = 1\n",
    "    step_list = []\n",
    "    while i <= length :\n",
    "        name = step + \"/\" + str(folder) + \"/\" +str(i) + \".wav\"\n",
    "        step_list.append(name)\n",
    "        i += 1\n",
    "    return step_list"
   ]
  },
  {
   "cell_type": "markdown",
   "metadata": {},
   "source": [
    "## Shuffle"
   ]
  },
  {
   "cell_type": "markdown",
   "metadata": {},
   "source": [
    " **1** (Source : https://www.youtube.com/watch?v=aJa3DYnAjqU )"
   ]
  },
  {
   "cell_type": "markdown",
   "metadata": {},
   "source": [
    "** Step 1:** Save file as wav"
   ]
  },
  {
   "cell_type": "code",
   "execution_count": 4,
   "metadata": {},
   "outputs": [],
   "source": [
    "get_wav_mp4('../../Source/Uncut/Shuffle_1.mp4', '../../Source/Uncut/Shuffle_1.wav');"
   ]
  },
  {
   "cell_type": "markdown",
   "metadata": {},
   "source": [
    "**Step 2:** Manually extract the relevant clip. Set channel to 1 (mono). <br/>\n",
    "**Step 2.5**: Set target amplitude (target_dBFS = -30)<br/>\n",
    "**Step 2.5.5**: Normalize???? (Is this redundant? Check out pydub source code)"
   ]
  },
  {
   "cell_type": "code",
   "execution_count": 5,
   "metadata": {},
   "outputs": [],
   "source": [
    "song = AudioSegment.from_wav('../../Source/Uncut/Shuffle_1.wav')\n",
    "song = song.set_channels(1)\n",
    "song = set_target_amplitude(song)\n",
    "song = song.normalize()\n",
    "start = 30 * 1000\n",
    "end = 34 * 1000\n",
    "three_shuffles = song[start:end]"
   ]
  },
  {
   "cell_type": "markdown",
   "metadata": {},
   "source": [
    "**Step 3:** Split up the audio into its components. This could also be done with split on silence. Split on time needs to be fixed. (Index error)"
   ]
  },
  {
   "cell_type": "code",
   "execution_count": 6,
   "metadata": {},
   "outputs": [],
   "source": [
    "shuffle_1 = three_shuffles[:(three_shuffles.duration_seconds/3)*1000]\n",
    "shuffle_2 = three_shuffles[(three_shuffles.duration_seconds/3)*1000:(three_shuffles.duration_seconds/3)*2000]\n",
    "shuffle_3 = three_shuffles[(three_shuffles.duration_seconds/3)*2000:]"
   ]
  },
  {
   "cell_type": "markdown",
   "metadata": {},
   "source": [
    "**Step 4:** Cut the intro/outro silence from the clips. Save and export as wav files.\n",
    "**This isn't reliable, not implementing at the moment**"
   ]
  },
  {
   "cell_type": "code",
   "execution_count": 7,
   "metadata": {},
   "outputs": [],
   "source": [
    "path_list = [shuffle_1, shuffle_2, shuffle_3]\n",
    "for i in path_list:\n",
    "    sound = i\n",
    "#    start_trim = detect_leading_silence(sound)\n",
    "#    end_trim = detect_leading_silence(sound.reverse())\n",
    "#    duration = len(sound)    \n",
    "#    trimmed_sound = sound[start_trim:duration-end_trim]\n",
    "    trimmed_sound = sound\n",
    "    trimmed_sound.export('../../Source/Shuffle/1/'+ str(path_list.index(i)+1)+ '.wav', format='wav')"
   ]
  },
  {
   "cell_type": "markdown",
   "metadata": {},
   "source": [
    " **2** (Source: https://en.wikipedia.org/wiki/Tap_dance_technique )"
   ]
  },
  {
   "cell_type": "code",
   "execution_count": 8,
   "metadata": {},
   "outputs": [],
   "source": [
    "full_clip = AudioSegment.from_file('../../Source/Uncut/Tap_Dance_Technique_2.webm', \"webm\")\n",
    "full_clip.export('../../Source/Uncut/Tap_Dance_Technique_2.wav', format=\"wav\");"
   ]
  },
  {
   "cell_type": "code",
   "execution_count": 9,
   "metadata": {},
   "outputs": [],
   "source": [
    "song = AudioSegment.from_wav('../../Source/Uncut/Tap_Dance_Technique_2.wav')\n",
    "song = song.set_channels(1)\n",
    "song = set_target_amplitude(song)\n",
    "song = song.normalize()\n",
    "# I during feature extraction that this clip has a frame_width of 4 instead of 2\n",
    "song = song.set_sample_width(2)\n",
    "start = 7.5 * 1000\n",
    "end = 9 * 1000\n",
    "shuffle = song[start:end]"
   ]
  },
  {
   "cell_type": "code",
   "execution_count": 10,
   "metadata": {},
   "outputs": [],
   "source": [
    "path_list = [shuffle]\n",
    "for i in path_list:\n",
    "    sound = i\n",
    "#    start_trim = detect_leading_silence(sound)\n",
    "#    end_trim = detect_leading_silence(sound.reverse())\n",
    "#    duration = len(sound)    \n",
    "#    trimmed_sound = sound[start_trim:duration-end_trim]\n",
    "    trimmed_sound = sound\n",
    "    trimmed_sound.export('../../Source/Shuffle/2/'+ str(path_list.index(i)+1)+ '.wav', format='wav')"
   ]
  },
  {
   "cell_type": "markdown",
   "metadata": {},
   "source": [
    " **3** (Source: https://www.youtube.com/watch?v=dYCtgIm43Rk )"
   ]
  },
  {
   "cell_type": "code",
   "execution_count": 11,
   "metadata": {},
   "outputs": [],
   "source": [
    "get_wav_mp4('../../Source/Uncut/Shuffleballchange_3.mp4', '../../Source/Uncut/Shuffle_Ball_Change_3.wav');"
   ]
  },
  {
   "cell_type": "code",
   "execution_count": 12,
   "metadata": {},
   "outputs": [],
   "source": [
    "song = AudioSegment.from_wav('../../Source/Uncut/Shuffle_Ball_Change_3.wav')\n",
    "song = song.set_channels(1)\n",
    "song = set_target_amplitude(song)\n",
    "song = song.normalize()\n",
    "start = 15 * 1000\n",
    "end = 16 * 1000\n",
    "shuffle = song[start:end]"
   ]
  },
  {
   "cell_type": "code",
   "execution_count": 13,
   "metadata": {},
   "outputs": [],
   "source": [
    "path_list = [shuffle]\n",
    "for i in path_list:\n",
    "    sound = i\n",
    "#    start_trim = detect_leading_silence(sound)\n",
    "#    end_trim = detect_leading_silence(sound.reverse())\n",
    "#    duration = len(sound)    \n",
    "#    trimmed_sound = sound[start_trim:duration-end_trim]\n",
    "    trimmed_sound = sound\n",
    "    trimmed_sound.export('../../Source/Shuffle/3/'+ str(path_list.index(i)+1)+ '.wav', format='wav')"
   ]
  },
  {
   "cell_type": "markdown",
   "metadata": {},
   "source": [
    "**4** (Source: https://www.youtube.com/watch?v=Xbamib_k874 )"
   ]
  },
  {
   "cell_type": "code",
   "execution_count": 14,
   "metadata": {},
   "outputs": [],
   "source": [
    "get_wav_mp4('../../Source/Uncut/Shuffle_Ball_Change_4.mp4', '../../Source/Uncut/Shuffle_Ball_Change_4.wav');"
   ]
  },
  {
   "cell_type": "code",
   "execution_count": 15,
   "metadata": {},
   "outputs": [],
   "source": [
    "song = AudioSegment.from_wav('../../Source/Uncut/Shuffle_Ball_Change_4.wav')\n",
    "song = song.set_channels(1)\n",
    "song = set_target_amplitude(song)\n",
    "song = song.normalize()\n",
    "start = 29.5 * 1000\n",
    "end = 33 * 1000\n",
    "shuffle_bc_2x = song[start:end]"
   ]
  },
  {
   "cell_type": "code",
   "execution_count": 16,
   "metadata": {},
   "outputs": [],
   "source": [
    "shuffle_1 = shuffle_bc_2x[0:975]\n",
    "shuffle_2 = shuffle_bc_2x[2000:2800]"
   ]
  },
  {
   "cell_type": "code",
   "execution_count": 17,
   "metadata": {},
   "outputs": [],
   "source": [
    "path_list = [shuffle_1, shuffle_2]\n",
    "for i in path_list:\n",
    "    sound = i\n",
    "#    start_trim = detect_leading_silence(sound)\n",
    "#    end_trim = detect_leading_silence(sound.reverse())\n",
    "#    duration = len(sound)    \n",
    "#    trimmed_sound = sound[start_trim:duration-end_trim]\n",
    "    trimmed_sound = sound\n",
    "    trimmed_sound.export('../../Source/Shuffle/4/'+ str(path_list.index(i)+1)+ '.wav', format='wav')"
   ]
  },
  {
   "cell_type": "markdown",
   "metadata": {},
   "source": [
    "## Ball change"
   ]
  },
  {
   "cell_type": "markdown",
   "metadata": {},
   "source": [
    "**1** (Source: https://www.youtube.com/watch?v=hi0wkLqPGR0 )"
   ]
  },
  {
   "cell_type": "code",
   "execution_count": 18,
   "metadata": {},
   "outputs": [],
   "source": [
    "get_wav_mp4('../../Source/Uncut/Ball_change_1.mp4', '../../Source/Uncut/Ball_change_1.wav');"
   ]
  },
  {
   "cell_type": "code",
   "execution_count": 19,
   "metadata": {},
   "outputs": [],
   "source": [
    "song = AudioSegment.from_wav('../../Source/Uncut/Ball_change_1.wav')\n",
    "song = song.set_channels(1)\n",
    "song = set_target_amplitude(song)\n",
    "song = song.normalize()\n",
    "start = 48.5 * 1000\n",
    "end = 52 * 1000\n",
    "three_ball_changes = song[start:end]"
   ]
  },
  {
   "cell_type": "code",
   "execution_count": 20,
   "metadata": {},
   "outputs": [],
   "source": [
    "ball_change_1 = three_ball_changes[:(three_ball_changes.duration_seconds/3)*1000]\n",
    "ball_change_2 = three_ball_changes[(three_ball_changes.duration_seconds/3)*1000:(three_ball_changes.duration_seconds/3)*2000]\n",
    "ball_change_3 = three_ball_changes[(three_ball_changes.duration_seconds/3)*2000:]"
   ]
  },
  {
   "cell_type": "code",
   "execution_count": 21,
   "metadata": {},
   "outputs": [],
   "source": [
    "path_list = [ball_change_1, ball_change_2, ball_change_3]\n",
    "for i in path_list:\n",
    "    sound = i\n",
    "#    start_trim = detect_leading_silence(sound)\n",
    "#    end_trim = detect_leading_silence(sound.reverse())\n",
    "#    duration = len(sound)    \n",
    "#    trimmed_sound = sound[start_trim:duration-end_trim]\n",
    "    trimmed_sound = sound\n",
    "    trimmed_sound.export('../../Source/Ball_change/1/'+ str(path_list.index(i)+1)+ '.wav', format='wav')"
   ]
  },
  {
   "cell_type": "markdown",
   "metadata": {},
   "source": [
    " **2** (Source: https://en.wikipedia.org/wiki/Tap_dance_technique )"
   ]
  },
  {
   "cell_type": "code",
   "execution_count": 22,
   "metadata": {},
   "outputs": [],
   "source": [
    "song = AudioSegment.from_wav('../../Source/Uncut/Tap_Dance_Technique_2.wav')\n",
    "song = song.set_channels(1)\n",
    "song = set_target_amplitude(song)\n",
    "song = song.normalize()\n",
    "# I during feature extraction that this clip has a frame_width of 4 instead of 2\n",
    "song = song.set_sample_width(2)\n",
    "start = 28 * 1000\n",
    "end = 29.5 * 1000\n",
    "ball_change = song[start:end]"
   ]
  },
  {
   "cell_type": "code",
   "execution_count": 23,
   "metadata": {},
   "outputs": [
    {
     "data": {
      "text/plain": [
       "<_io.BufferedRandom name='../../Source/Ball_change/2/1.wav'>"
      ]
     },
     "execution_count": 23,
     "metadata": {},
     "output_type": "execute_result"
    }
   ],
   "source": [
    "path_list = [ball_change]\n",
    "for i in path_list:\n",
    "    sound = i\n",
    "#    start_trim = detect_leading_silence(sound)\n",
    "#    end_trim = detect_leading_silence(sound.reverse())\n",
    "#    duration = len(sound)    \n",
    "#    trimmed_sound = sound[start_trim:duration-end_trim]\n",
    "    trimmed_sound = sound\n",
    "trimmed_sound.export('../../Source/Ball_change/2/'+ str(path_list.index(i)+1)+ '.wav', format='wav')"
   ]
  },
  {
   "cell_type": "markdown",
   "metadata": {},
   "source": [
    " **3** (Source: https://www.youtube.com/watch?v=dYCtgIm43Rk )"
   ]
  },
  {
   "cell_type": "code",
   "execution_count": 24,
   "metadata": {},
   "outputs": [],
   "source": [
    "song = AudioSegment.from_wav('../../Source/Uncut/Shuffle_Ball_Change_3.wav')\n",
    "song = song.set_channels(1)\n",
    "song = set_target_amplitude(song)\n",
    "song = song.normalize()\n",
    "start = 3.5 * 1000\n",
    "end = 3.9 * 1000\n",
    "ball_change = song[start:end]"
   ]
  },
  {
   "cell_type": "code",
   "execution_count": 25,
   "metadata": {},
   "outputs": [],
   "source": [
    "path_list = [ball_change]\n",
    "for i in path_list:\n",
    "    sound = i\n",
    "#    start_trim = detect_leading_silence(sound)\n",
    "#    end_trim = detect_leading_silence(sound.reverse())\n",
    "#    duration = len(sound)    \n",
    "#    trimmed_sound = sound[start_trim:duration-end_trim]\n",
    "    trimmed_sound = sound\n",
    "    trimmed_sound.export('../../Source/Ball_change/3/'+ str(path_list.index(i)+1)+ '.wav', format='wav')"
   ]
  },
  {
   "cell_type": "markdown",
   "metadata": {},
   "source": [
    "**4** (Source: https://www.youtube.com/watch?v=Xbamib_k874)"
   ]
  },
  {
   "cell_type": "code",
   "execution_count": 26,
   "metadata": {},
   "outputs": [],
   "source": [
    "song = AudioSegment.from_wav('../../Source/Uncut/Shuffle_Ball_Change_4.wav')\n",
    "song = song.set_channels(1)\n",
    "song = set_target_amplitude(song)\n",
    "song = song.normalize()\n",
    "start = 29.5 * 1000\n",
    "end = 33 * 1000\n",
    "shuffle_bc_2x = song[start:end]"
   ]
  },
  {
   "cell_type": "code",
   "execution_count": 27,
   "metadata": {},
   "outputs": [],
   "source": [
    "ball_change_1 = shuffle_bc_2x[975:2000]\n",
    "ball_change_2 = shuffle_bc_2x[2800:]"
   ]
  },
  {
   "cell_type": "code",
   "execution_count": 28,
   "metadata": {},
   "outputs": [],
   "source": [
    "path_list = [ball_change_1, ball_change_2]\n",
    "for i in path_list:\n",
    "    sound = i\n",
    "#    start_trim = detect_leading_silence(sound)\n",
    "#    end_trim = detect_leading_silence(sound.reverse())\n",
    "#    duration = len(sound)    \n",
    "#    trimmed_sound = sound[start_trim:duration-end_trim]\n",
    "    trimmed_sound = sound\n",
    "    trimmed_sound.export('../../Source/Ball_change/4/'+ str(path_list.index(i)+1)+ '.wav', format='wav')"
   ]
  },
  {
   "cell_type": "code",
   "execution_count": null,
   "metadata": {},
   "outputs": [],
   "source": []
  },
  {
   "cell_type": "code",
   "execution_count": null,
   "metadata": {},
   "outputs": [],
   "source": []
  },
  {
   "cell_type": "markdown",
   "metadata": {},
   "source": [
    "## Normalization of audio files (HOPEFULLY)"
   ]
  },
  {
   "cell_type": "code",
   "execution_count": 29,
   "metadata": {},
   "outputs": [],
   "source": [
    "def match_target_amplitude(sound, target_dBFS):\n",
    "    change_in_dBFS = target_dBFS - sound.dBFS\n",
    "    return sound.apply_gain(change_in_dBFS)"
   ]
  },
  {
   "cell_type": "code",
   "execution_count": 38,
   "metadata": {},
   "outputs": [],
   "source": [
    "file_list = (\n",
    "build_list('Shuffle', 1, 3)+\n",
    "build_list('Shuffle', 2, 1)+\n",
    "build_list('Shuffle', 3, 1)+\n",
    "build_list('Shuffle', 4, 2)+\n",
    "build_list('Ball_change', 1, 3)+\n",
    "build_list('Ball_change', 2, 1)+\n",
    "build_list('Ball_change', 3, 1)+\n",
    "build_list('Ball_change', 4, 2)\n",
    ")\n",
    "\n"
   ]
  },
  {
   "cell_type": "code",
   "execution_count": 40,
   "metadata": {},
   "outputs": [],
   "source": [
    "for i in file_list:  \n",
    "    sound = AudioSegment.from_wav('../../Source/' + i )\n",
    "    normalized_sound = match_target_amplitude(sound, -20)\n",
    "    normalized_sound.export(\"../../Source/Normal/\" + i , format=\"wav\")"
   ]
  },
  {
   "cell_type": "code",
   "execution_count": 42,
   "metadata": {},
   "outputs": [
    {
     "name": "stdout",
     "output_type": "stream",
     "text": [
      "-35.407502867553205\n",
      "-33.15029340480577\n",
      "-33.99744373270901\n",
      "-30.29164426856982\n",
      "-22.076604579929754\n",
      "-31.01438027812177\n",
      "-32.715614586553286\n",
      "-28.370798439033223\n",
      "-30.026992268801944\n",
      "-29.672753272586945\n",
      "-27.549264044723728\n",
      "-22.969339179637338\n",
      "-28.864000746924063\n",
      "-28.32920591117081\n",
      "-20.074004472294703\n",
      "-20.039319565109217\n",
      "-20.04464669783558\n",
      "-21.26406720878561\n",
      "-20.00212083742674\n",
      "-19.99417036580705\n",
      "-20.039319565109217\n",
      "-20.041982723075215\n",
      "-20.036657223436862\n",
      "-20.039319565109217\n",
      "-20.127637798851126\n",
      "-20.007425197675907\n",
      "-19.996819714504753\n",
      "-19.99417036580705\n"
     ]
    }
   ],
   "source": [
    "for i in file_list:  \n",
    "    sound = AudioSegment.from_wav('../../Source/' + i )\n",
    "    print(sound.dBFS)\n",
    "for i in file_list:  \n",
    "    sound = AudioSegment.from_wav('../../Source/Normal/' + i )\n",
    "    print(sound.dBFS)"
   ]
  },
  {
   "cell_type": "code",
   "execution_count": null,
   "metadata": {},
   "outputs": [],
   "source": []
  },
  {
   "cell_type": "code",
   "execution_count": null,
   "metadata": {},
   "outputs": [],
   "source": []
  },
  {
   "cell_type": "code",
   "execution_count": null,
   "metadata": {},
   "outputs": [],
   "source": []
  },
  {
   "cell_type": "code",
   "execution_count": null,
   "metadata": {},
   "outputs": [],
   "source": []
  },
  {
   "cell_type": "code",
   "execution_count": null,
   "metadata": {},
   "outputs": [],
   "source": []
  },
  {
   "cell_type": "code",
   "execution_count": null,
   "metadata": {},
   "outputs": [],
   "source": []
  },
  {
   "cell_type": "code",
   "execution_count": null,
   "metadata": {},
   "outputs": [],
   "source": []
  },
  {
   "cell_type": "markdown",
   "metadata": {},
   "source": [
    "## Cutting out silence"
   ]
  },
  {
   "cell_type": "code",
   "execution_count": null,
   "metadata": {},
   "outputs": [],
   "source": [
    "# file_list = ['Shuffle/1/1', 'Shuffle/1/2', 'Shuffle/1/3', 'Shuffle/2/1', 'Shuffle/3/1', 'Shuffle/4/1', 'Shuffle/4/2',\n",
    "#             'Ball_change/1/1', 'Ball_change/1/2', 'Ball_change/1/3', 'Ball_change/2/1', 'Ball_change/3/1', 'Ball_change/4/1', 'Ball_change/4/2']\n",
    "# \n",
    "# for i in file_list:\n",
    "#     samplingFrequency, signalData = wav.read('../../Source/' + i + '.wav')\n",
    "#     signalData_normed = normalize(signalData, samplingFrequency) # Am I using this correctly?!?!?!?!\n",
    "#     signalData_normed = signalData_normed[0]\n",
    "#     wav.write('../../Source/Normal/' + i + '.wav', rate, signalData_normed)\n",
    "#     "
   ]
  },
  {
   "cell_type": "code",
   "execution_count": 44,
   "metadata": {},
   "outputs": [
    {
     "name": "stdout",
     "output_type": "stream",
     "text": [
      "Shuffle/1/1.wav\n",
      "-20.074004472294703\n",
      "1.3333333333333333\n",
      "0.0\n",
      "Shuffle/1/2.wav\n",
      "-20.039319565109217\n",
      "1.3333333333333333\n",
      "0.0\n",
      "Shuffle/1/3.wav\n",
      "-20.04464669783558\n",
      "1.3333333333333333\n",
      "0.0\n",
      "Shuffle/2/1.wav\n",
      "-21.26406720878561\n",
      "1.5\n",
      "0.0\n",
      "Shuffle/3/1.wav\n",
      "-20.00212083742674\n",
      "1.0\n",
      "0.0\n",
      "Shuffle/4/1.wav\n",
      "-19.99417036580705\n",
      "0.9749886621315192\n",
      "0.9749886621315192\n",
      "Shuffle/4/2.wav\n",
      "-20.039319565109217\n",
      "0.8\n",
      "0.8\n",
      "Ball_change/1/1.wav\n",
      "-20.041982723075215\n",
      "1.1666666666666667\n",
      "0.0\n",
      "Ball_change/1/2.wav\n",
      "-20.036657223436862\n",
      "1.1666666666666667\n",
      "0.0\n",
      "Ball_change/1/3.wav\n",
      "-20.039319565109217\n",
      "1.1666666666666667\n",
      "0.0\n",
      "Ball_change/2/1.wav\n",
      "-20.127637798851126\n",
      "1.5\n",
      "0.0\n",
      "Ball_change/3/1.wav\n",
      "-20.007425197675907\n",
      "0.4\n",
      "0.4\n",
      "Ball_change/4/1.wav\n",
      "-19.996819714504753\n",
      "1.0250113378684806\n",
      "0.0\n",
      "Ball_change/4/2.wav\n",
      "-19.99417036580705\n",
      "0.7\n",
      "0.7\n"
     ]
    }
   ],
   "source": [
    "#def detect_silence(audio_segment, min_silence_len=1000, silence_thresh=-16, seek_step=1):\n",
    "\n",
    "for i in file_list:\n",
    "    song = AudioSegment.from_wav('../../Source/Normal/' + i )\n",
    "    print (i)\n",
    "    print (song.dBFS)\n",
    "    print (song.duration_seconds)\n",
    "    new_song = song.strip_silence(silence_thresh=-16)\n",
    "    print(new_song.duration_seconds)\n",
    "    new_song\n",
    "    #print (detect_leading_silence(song))"
   ]
  },
  {
   "cell_type": "code",
   "execution_count": 45,
   "metadata": {},
   "outputs": [
    {
     "data": {
      "text/html": [
       "\n",
       "                    <audio controls>\n",
       "                        <source src=\"data:audio/mpeg;base64,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\" type=\"audio/mpeg\"/>\n",
       "                        Your browser does not support the audio element.\n",
       "                    </audio>\n",
       "                  "
      ],
      "text/plain": [
       "<pydub.audio_segment.AudioSegment at 0x1072c3630>"
      ]
     },
     "execution_count": 45,
     "metadata": {},
     "output_type": "execute_result"
    }
   ],
   "source": [
    "song = AudioSegment.from_wav('../../Source/Normal/Ball_change/1/2.wav')\n",
    "new_song = song[:700]\n",
    "new_song\n",
    "#new_song.export('../../Source/Nonsilent/Ball_change/1/2.wav', format='wav')"
   ]
  },
  {
   "cell_type": "markdown",
   "metadata": {},
   "source": [
    "## Finding the two f**king peaks... FML ... I need a new project"
   ]
  },
  {
   "cell_type": "markdown",
   "metadata": {},
   "source": [
    "### Doing this by hand because I am insane"
   ]
  },
  {
   "cell_type": "code",
   "execution_count": null,
   "metadata": {},
   "outputs": [],
   "source": [
    "first_wave_amp_list, second_wave_amp_list = [], []\n",
    "first_wave_idx_list, second_wave_idx_list = [], []"
   ]
  },
  {
   "cell_type": "code",
   "execution_count": 46,
   "metadata": {},
   "outputs": [
    {
     "data": {
      "text/plain": [
       "(15435, 15435, 30870, 30870)"
      ]
     },
     "execution_count": 46,
     "metadata": {},
     "output_type": "execute_result"
    },
    {
     "data": {
      "image/png": "[encoded data removed]",
      "text/plain": [
       "<Figure size 432x288 with 3 Axes>"
      ]
     },
     "metadata": {},
     "output_type": "display_data"
    }
   ],
   "source": [
    "song = AudioSegment.from_wav('../../Source/Normal/Ball_change/4/2.wav')\n",
    "\n",
    "part1 = song[:song.duration_seconds/2*1000]\n",
    "part2 = song[song.duration_seconds/2*1000:]\n",
    "\n",
    "\n",
    "plt.subplot(211)\n",
    "plt.title('Full clip')\n",
    "plt.plot(np.array(song.get_array_of_samples()), 'orange')\n",
    "\n",
    "plt.subplots_adjust(hspace=0.5)\n",
    "plt.subplot(223)\n",
    "plt.title('Part 1')\n",
    "plt.plot(np.array(part1.get_array_of_samples()), 'r')\n",
    "\n",
    "plt.subplot(224)\n",
    "plt.title('Part 2')\n",
    "plt.plot(np.array(part2.get_array_of_samples()), 'b')\n",
    "\n",
    "len(part1.get_array_of_samples()), len(part2.get_array_of_samples()), len(part1.get_array_of_samples())+len(part2.get_array_of_samples()),len(np.array(song.get_array_of_samples()))\n",
    "\n"
   ]
  },
  {
   "cell_type": "code",
   "execution_count": 47,
   "metadata": {},
   "outputs": [
    {
     "name": "stdout",
     "output_type": "stream",
     "text": [
      "19770 24375\n",
      "448 20623\n"
     ]
    }
   ],
   "source": [
    "first_wave_amp = np.array(part1.get_array_of_samples()).max()\n",
    "second_wave_amp = np.array(part2.get_array_of_samples()).max()\n",
    "first_wave_idx = np.array(part1.get_array_of_samples()).argmax()\n",
    "second_wave_idx = np.array(part2.get_array_of_samples()).argmax()+ len(part1.get_array_of_samples())\n",
    "print (first_wave_amp, second_wave_amp)\n",
    "print(first_wave_idx, second_wave_idx)"
   ]
  },
  {
   "cell_type": "code",
   "execution_count": null,
   "metadata": {},
   "outputs": [],
   "source": [
    "first_wave_amp_list.append(first_wave_amp)\n",
    "second_wave_amp_list.append(second_wave_amp)\n",
    "first_wave_idx_list.append(first_wave_idx)\n",
    "second_wave_idx_list.append(second_wave_idx)"
   ]
  },
  {
   "cell_type": "markdown",
   "metadata": {},
   "source": [
    "### Export the four lists to csv to use in DataFrame"
   ]
  },
  {
   "cell_type": "code",
   "execution_count": null,
   "metadata": {},
   "outputs": [],
   "source": [
    "diff_list = []\n",
    "for i in range (len(first_wave_idx_list)):\n",
    "    diff_list.append(second_wave_idx_list[i] - first_wave_idx_list[i])\n",
    "\n",
    "peak_info = pd.DataFrame({'Peak_1':first_wave_amp_list,\n",
    "                          'Peak_2':second_wave_amp_list,\n",
    "                          'Peak_1_idx':first_wave_idx_list,\n",
    "                          'Peak_2_idx':second_wave_idx_list,\n",
    "                          'Peak_dist':diff_list\n",
    "                         })"
   ]
  },
  {
   "cell_type": "code",
   "execution_count": null,
   "metadata": {},
   "outputs": [],
   "source": [
    "peak_info"
   ]
  },
  {
   "cell_type": "code",
   "execution_count": null,
   "metadata": {},
   "outputs": [],
   "source": [
    "#peak_info.to_csv('../../Source/Data/peak_info.csv')"
   ]
  },
  {
   "cell_type": "code",
   "execution_count": null,
   "metadata": {},
   "outputs": [],
   "source": []
  }
 ],
 "metadata": {
  "kernelspec": {
   "display_name": "Python 3",
   "language": "python",
   "name": "python3"
  },
  "language_info": {
   "codemirror_mode": {
    "name": "ipython",
    "version": 3
   },
   "file_extension": ".py",
   "mimetype": "text/x-python",
   "name": "python",
   "nbconvert_exporter": "python",
   "pygments_lexer": "ipython3",
   "version": "3.6.5"
  }
 },
 "nbformat": 4,
 "nbformat_minor": 2
}
