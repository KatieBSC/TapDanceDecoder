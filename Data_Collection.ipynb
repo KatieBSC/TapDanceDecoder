{
 "cells": [
  {
   "cell_type": "markdown",
   "metadata": {},
   "source": [
    "## Data Collection / Preprocessing"
   ]
  },
  {
   "cell_type": "code",
   "execution_count": 1,
   "metadata": {},
   "outputs": [],
   "source": [
    "from scipy.io import wavfile as wav\n",
    "from scipy.io.wavfile import read\n",
    "import matplotlib.pyplot as plt\n",
    "import pandas as pd\n",
    "import numpy as np\n",
    "from pydub import AudioSegment\n",
    "from pydub.silence import split_on_silence\n",
    "from scipy.signal import argrelextrema, find_peaks, peak_prominences, find_peaks_cwt\n",
    "from sklearn.metrics import accuracy_score"
   ]
  },
  {
   "cell_type": "code",
   "execution_count": 2,
   "metadata": {},
   "outputs": [],
   "source": [
    "## CURRENTLY UNUSED FUNCTIONS!!!!!!!!!!!!!!!\n",
    "\n",
    "def build_list(artist, clip_number, length):\n",
    "    i = 1\n",
    "    artist_list = []\n",
    "    while i <= length :\n",
    "        name = artist + \"/\" + str(clip_number) + \"/\" +str(i) + \".wav\"\n",
    "        artist_list.append(name)\n",
    "        i += 1\n",
    "    return artist_list\n",
    "\n",
    "def split_silence_chunks(wavfile, silence_length, threshold, file_names_list):\n",
    "    sound_file = AudioSegment.from_wav(wavfile)\n",
    "    audio_chunks = split_on_silence(sound_file, \n",
    "                        min_silence_len=silence_length,\n",
    "                        silence_thresh=threshold)\n",
    "    for i in range (len(audio_chunks)) :\n",
    "        chunk = audio_chunks[i]\n",
    "        chunk.export(file_names_list[i], format='wav')\n",
    "    print(\"Exported \" + str(len(audio_chunks)) + \" files\")\n",
    "\n",
    "def get_wav_mp3(mp3_file, wav_name):\n",
    "    song = AudioSegment.from_mp3(mp3_file)\n",
    "    new_song = song.export(wav_name, format=\"wav\")\n",
    "    #print(\"Exported file as: \" + wav_name)\n",
    "    return new_song\n",
    "   "
   ]
  },
  {
   "cell_type": "code",
   "execution_count": 3,
   "metadata": {},
   "outputs": [],
   "source": [
    "def get_wav_mp4(mp4_file, wav_name):\n",
    "    song = AudioSegment.from_file(mp4_file, \"mp4\")\n",
    "    new_song = song.export(wav_name, format=\"wav\")\n",
    "    return new_song\n",
    "\n",
    "def detect_leading_silence(sound):\n",
    "    '''I am still trying to figure out the best values for these silence criteria'''\n",
    "    chunk_size = 100\n",
    "    silence_threshold = sound.dBFS - 3\n",
    "    trim_ms = 0 \n",
    "\n",
    "    assert chunk_size > 0 # to avoid infinite loop\n",
    "    while sound[trim_ms:trim_ms+chunk_size].dBFS < silence_threshold and trim_ms < len(sound):\n",
    "        trim_ms += chunk_size\n",
    "\n",
    "    return trim_ms"
   ]
  },
  {
   "cell_type": "markdown",
   "metadata": {},
   "source": [
    "## Shuffle"
   ]
  },
  {
   "cell_type": "markdown",
   "metadata": {},
   "source": [
    " **1** (Source : https://www.youtube.com/watch?v=aJa3DYnAjqU )"
   ]
  },
  {
   "cell_type": "markdown",
   "metadata": {},
   "source": [
    "** Step 1:** Save file as wav"
   ]
  },
  {
   "cell_type": "code",
   "execution_count": 4,
   "metadata": {},
   "outputs": [],
   "source": [
    "get_wav_mp4('../../Source/Uncut/Shuffle_1.mp4', '../../Source/Uncut/Shuffle_1.wav');"
   ]
  },
  {
   "cell_type": "markdown",
   "metadata": {},
   "source": [
    "**Step 2:** Manually extract the relevant clip. Set channel to 1 (mono)."
   ]
  },
  {
   "cell_type": "code",
   "execution_count": 5,
   "metadata": {},
   "outputs": [],
   "source": [
    "song = AudioSegment.from_wav('../../Source/Uncut/Shuffle_1.wav')\n",
    "song = song.set_channels(1)\n",
    "start = 30 * 1000\n",
    "end = 34 * 1000\n",
    "three_shuffles = song[start:end]"
   ]
  },
  {
   "cell_type": "markdown",
   "metadata": {},
   "source": [
    "**Step 3:** Split up the audio into its components. This could also be done with split on silence. Split on time needs to be fixed. (Index error)"
   ]
  },
  {
   "cell_type": "code",
   "execution_count": 6,
   "metadata": {},
   "outputs": [],
   "source": [
    "shuffle_1 = three_shuffles[:(three_shuffles.duration_seconds/3)*1000]\n",
    "shuffle_2 = three_shuffles[(three_shuffles.duration_seconds/3)*1000:(three_shuffles.duration_seconds/3)*2000]\n",
    "shuffle_3 = three_shuffles[(three_shuffles.duration_seconds/3)*2000:]"
   ]
  },
  {
   "cell_type": "markdown",
   "metadata": {},
   "source": [
    "**Step 4:** Cut the intro/outro silence from the clips. Save and export as wav files"
   ]
  },
  {
   "cell_type": "code",
   "execution_count": 7,
   "metadata": {},
   "outputs": [],
   "source": [
    "path_list = [shuffle_1, shuffle_2, shuffle_3]\n",
    "for i in path_list:\n",
    "    sound = i\n",
    "    start_trim = detect_leading_silence(sound)\n",
    "    end_trim = detect_leading_silence(sound.reverse())\n",
    "    duration = len(sound)    \n",
    "    trimmed_sound = sound[start_trim:duration-end_trim]\n",
    "    trimmed_sound.export('../../Source/Shuffle/1/'+ str(path_list.index(i)+1)+ '.wav', format='wav')"
   ]
  },
  {
   "cell_type": "markdown",
   "metadata": {},
   "source": [
    " **2** (Source: https://en.wikipedia.org/wiki/Tap_dance_technique )"
   ]
  },
  {
   "cell_type": "code",
   "execution_count": 29,
   "metadata": {},
   "outputs": [],
   "source": [
    "full_clip = AudioSegment.from_file('../../Source/Uncut/Tap_Dance_Technique_2.webm', \"webm\")\n",
    "full_clip.export('../../Source/Uncut/Tap_Dance_Technique_2.wav', format=\"wav\");"
   ]
  },
  {
   "cell_type": "code",
   "execution_count": 35,
   "metadata": {},
   "outputs": [],
   "source": [
    "song = AudioSegment.from_wav('../../Source/Uncut/Tap_Dance_Technique_2.wav')\n",
    "song = song.set_channels(1)\n",
    "# I during feature extraction that this clip has a frame_width of 4 instead of 2\n",
    "song = song.set_sample_width(2)\n",
    "start = 7.5 * 1000\n",
    "end = 9 * 1000\n",
    "shuffle = song[start:end]"
   ]
  },
  {
   "cell_type": "code",
   "execution_count": 37,
   "metadata": {},
   "outputs": [],
   "source": [
    "path_list = [shuffle]\n",
    "for i in path_list:\n",
    "    sound = i\n",
    "    start_trim = detect_leading_silence(sound)\n",
    "    end_trim = detect_leading_silence(sound.reverse())\n",
    "    duration = len(sound)    \n",
    "    trimmed_sound = sound[start_trim:duration-end_trim]\n",
    "    trimmed_sound.export('../../Source/Shuffle/2/'+ str(path_list.index(i)+1)+ '.wav', format='wav')"
   ]
  },
  {
   "cell_type": "markdown",
   "metadata": {},
   "source": [
    " **3** (Source: https://www.youtube.com/watch?v=dYCtgIm43Rk )"
   ]
  },
  {
   "cell_type": "code",
   "execution_count": 11,
   "metadata": {},
   "outputs": [],
   "source": [
    "get_wav_mp4('../../Source/Uncut/Shuffleballchange_3.mp4', '../../Source/Uncut/Shuffle_Ball_Change_3.wav');"
   ]
  },
  {
   "cell_type": "code",
   "execution_count": 12,
   "metadata": {},
   "outputs": [],
   "source": [
    "song = AudioSegment.from_wav('../../Source/Uncut/Shuffle_Ball_Change_3.wav')\n",
    "song = song.set_channels(1)\n",
    "start = 15 * 1000\n",
    "end = 16 * 1000\n",
    "shuffle = song[start:end]"
   ]
  },
  {
   "cell_type": "code",
   "execution_count": 13,
   "metadata": {},
   "outputs": [],
   "source": [
    "path_list = [shuffle]\n",
    "for i in path_list:\n",
    "    sound = i\n",
    "    start_trim = detect_leading_silence(sound)\n",
    "    end_trim = detect_leading_silence(sound.reverse())\n",
    "    duration = len(sound)    \n",
    "    trimmed_sound = sound[start_trim:duration-end_trim]\n",
    "    trimmed_sound.export('../../Source/Shuffle/3/'+ str(path_list.index(i)+1)+ '.wav', format='wav')"
   ]
  },
  {
   "cell_type": "markdown",
   "metadata": {},
   "source": [
    "**4** (Source: https://www.youtube.com/watch?v=Xbamib_k874 )"
   ]
  },
  {
   "cell_type": "code",
   "execution_count": 14,
   "metadata": {},
   "outputs": [],
   "source": [
    "get_wav_mp4('../../Source/Uncut/Shuffle_Ball_Change_4.mp4', '../../Source/Uncut/Shuffle_Ball_Change_4.wav');"
   ]
  },
  {
   "cell_type": "code",
   "execution_count": 15,
   "metadata": {},
   "outputs": [],
   "source": [
    "song = AudioSegment.from_wav('../../Source/Uncut/Shuffle_Ball_Change_4.wav')\n",
    "song = song.set_channels(1)\n",
    "start = 29.5 * 1000\n",
    "end = 33 * 1000\n",
    "shuffle_bc_2x = song[start:end]"
   ]
  },
  {
   "cell_type": "code",
   "execution_count": 16,
   "metadata": {},
   "outputs": [],
   "source": [
    "shuffle_1 = shuffle_bc_2x[0:975]\n",
    "shuffle_2 = shuffle_bc_2x[2000:2800]"
   ]
  },
  {
   "cell_type": "code",
   "execution_count": 17,
   "metadata": {},
   "outputs": [],
   "source": [
    "path_list = [shuffle_1, shuffle_2]\n",
    "for i in path_list:\n",
    "    sound = i\n",
    "    start_trim = detect_leading_silence(sound)\n",
    "    end_trim = detect_leading_silence(sound.reverse())\n",
    "    duration = len(sound)    \n",
    "    trimmed_sound = sound[start_trim:duration-end_trim]\n",
    "    trimmed_sound.export('../../Source/Shuffle/4/'+ str(path_list.index(i)+1)+ '.wav', format='wav')"
   ]
  },
  {
   "cell_type": "code",
   "execution_count": null,
   "metadata": {},
   "outputs": [],
   "source": []
  },
  {
   "cell_type": "code",
   "execution_count": null,
   "metadata": {},
   "outputs": [],
   "source": [
    "\n"
   ]
  },
  {
   "cell_type": "code",
   "execution_count": null,
   "metadata": {},
   "outputs": [],
   "source": []
  },
  {
   "cell_type": "code",
   "execution_count": null,
   "metadata": {},
   "outputs": [],
   "source": []
  },
  {
   "cell_type": "code",
   "execution_count": null,
   "metadata": {},
   "outputs": [],
   "source": []
  },
  {
   "cell_type": "code",
   "execution_count": null,
   "metadata": {},
   "outputs": [],
   "source": []
  },
  {
   "cell_type": "code",
   "execution_count": null,
   "metadata": {},
   "outputs": [],
   "source": []
  },
  {
   "cell_type": "code",
   "execution_count": null,
   "metadata": {},
   "outputs": [],
   "source": []
  },
  {
   "cell_type": "code",
   "execution_count": null,
   "metadata": {},
   "outputs": [],
   "source": []
  },
  {
   "cell_type": "code",
   "execution_count": null,
   "metadata": {},
   "outputs": [],
   "source": []
  },
  {
   "cell_type": "code",
   "execution_count": null,
   "metadata": {},
   "outputs": [],
   "source": []
  },
  {
   "cell_type": "markdown",
   "metadata": {},
   "source": [
    "## Ball change"
   ]
  },
  {
   "cell_type": "markdown",
   "metadata": {},
   "source": [
    "**1** (Source: https://www.youtube.com/watch?v=hi0wkLqPGR0 )"
   ]
  },
  {
   "cell_type": "code",
   "execution_count": 18,
   "metadata": {},
   "outputs": [],
   "source": [
    "get_wav_mp4('../../Source/Uncut/Ball_change_1.mp4', '../../Source/Uncut/Ball_change_1.wav');"
   ]
  },
  {
   "cell_type": "code",
   "execution_count": 19,
   "metadata": {},
   "outputs": [],
   "source": [
    "song = AudioSegment.from_wav('../../Source/Uncut/Ball_change_1.wav')\n",
    "song = song.set_channels(1)\n",
    "start = 48.5 * 1000\n",
    "end = 52 * 1000\n",
    "three_ball_changes = song[start:end]"
   ]
  },
  {
   "cell_type": "code",
   "execution_count": 20,
   "metadata": {},
   "outputs": [],
   "source": [
    "ball_change_1 = three_ball_changes[:(three_ball_changes.duration_seconds/3)*1000]\n",
    "ball_change_2 = three_ball_changes[(three_ball_changes.duration_seconds/3)*1000:(three_ball_changes.duration_seconds/3)*2000]\n",
    "ball_change_3 = three_ball_changes[(three_ball_changes.duration_seconds/3)*2000:]"
   ]
  },
  {
   "cell_type": "code",
   "execution_count": 21,
   "metadata": {},
   "outputs": [],
   "source": [
    "path_list = [ball_change_1, ball_change_2, ball_change_3]\n",
    "for i in path_list:\n",
    "    sound = i\n",
    "    start_trim = detect_leading_silence(sound)\n",
    "    end_trim = detect_leading_silence(sound.reverse())\n",
    "    duration = len(sound)    \n",
    "    trimmed_sound = sound[start_trim:duration-end_trim]\n",
    "    trimmed_sound.export('../../Source/Ball_change/1/'+ str(path_list.index(i)+1)+ '.wav', format='wav')"
   ]
  },
  {
   "cell_type": "markdown",
   "metadata": {},
   "source": [
    " **2** (Source: https://en.wikipedia.org/wiki/Tap_dance_technique )"
   ]
  },
  {
   "cell_type": "code",
   "execution_count": 38,
   "metadata": {},
   "outputs": [],
   "source": [
    "song = AudioSegment.from_wav('../../Source/Uncut/Tap_Dance_Technique_2.wav')\n",
    "song = song.set_channels(1)\n",
    "# I during feature extraction that this clip has a frame_width of 4 instead of 2\n",
    "song = song.set_sample_width(2)\n",
    "start = 28 * 1000\n",
    "end = 29.5 * 1000\n",
    "ball_change = song[start:end]"
   ]
  },
  {
   "cell_type": "code",
   "execution_count": 39,
   "metadata": {},
   "outputs": [],
   "source": [
    "path_list = [ball_change]\n",
    "for i in path_list:\n",
    "    sound = i\n",
    "    start_trim = detect_leading_silence(sound)\n",
    "    end_trim = detect_leading_silence(sound.reverse())\n",
    "    duration = len(sound)    \n",
    "    trimmed_sound = sound[start_trim:duration-end_trim]\n",
    "    trimmed_sound.export('../../Source/Ball_change/2/'+ str(path_list.index(i)+1)+ '.wav', format='wav')"
   ]
  },
  {
   "cell_type": "markdown",
   "metadata": {},
   "source": [
    " **3** (Source: https://www.youtube.com/watch?v=dYCtgIm43Rk )"
   ]
  },
  {
   "cell_type": "code",
   "execution_count": 24,
   "metadata": {},
   "outputs": [],
   "source": [
    "song = AudioSegment.from_wav('../../Source/Uncut/Shuffle_Ball_Change_3.wav')\n",
    "song = song.set_channels(1)\n",
    "start = 3.5 * 1000\n",
    "end = 3.9 * 1000\n",
    "ball_change = song[start:end]"
   ]
  },
  {
   "cell_type": "code",
   "execution_count": 25,
   "metadata": {},
   "outputs": [],
   "source": [
    "path_list = [ball_change]\n",
    "for i in path_list:\n",
    "    sound = i\n",
    "    start_trim = detect_leading_silence(sound)\n",
    "    end_trim = detect_leading_silence(sound.reverse())\n",
    "    duration = len(sound)    \n",
    "    trimmed_sound = sound[start_trim:duration-end_trim]\n",
    "    trimmed_sound.export('../../Source/Ball_change/3/'+ str(path_list.index(i)+1)+ '.wav', format='wav')"
   ]
  },
  {
   "cell_type": "markdown",
   "metadata": {},
   "source": [
    "**4** (Source: https://www.youtube.com/watch?v=Xbamib_k874)"
   ]
  },
  {
   "cell_type": "code",
   "execution_count": 26,
   "metadata": {},
   "outputs": [],
   "source": [
    "song = AudioSegment.from_wav('../../Source/Uncut/Shuffle_Ball_Change_4.wav')\n",
    "song = song.set_channels(1)\n",
    "start = 29.5 * 1000\n",
    "end = 33 * 1000\n",
    "shuffle_bc_2x = song[start:end]"
   ]
  },
  {
   "cell_type": "code",
   "execution_count": 27,
   "metadata": {},
   "outputs": [],
   "source": [
    "ball_change_1 = shuffle_bc_2x[975:2000]\n",
    "ball_change_2 = shuffle_bc_2x[2800:]"
   ]
  },
  {
   "cell_type": "code",
   "execution_count": 28,
   "metadata": {},
   "outputs": [],
   "source": [
    "path_list = [ball_change_1, ball_change_2]\n",
    "for i in path_list:\n",
    "    sound = i\n",
    "    start_trim = detect_leading_silence(sound)\n",
    "    end_trim = detect_leading_silence(sound.reverse())\n",
    "    duration = len(sound)    \n",
    "    trimmed_sound = sound[start_trim:duration-end_trim]\n",
    "    trimmed_sound.export('../../Source/Ball_change/4/'+ str(path_list.index(i)+1)+ '.wav', format='wav')"
   ]
  },
  {
   "cell_type": "code",
   "execution_count": null,
   "metadata": {},
   "outputs": [],
   "source": []
  },
  {
   "cell_type": "code",
   "execution_count": null,
   "metadata": {},
   "outputs": [],
   "source": []
  },
  {
   "cell_type": "code",
   "execution_count": null,
   "metadata": {},
   "outputs": [],
   "source": []
  },
  {
   "cell_type": "code",
   "execution_count": null,
   "metadata": {},
   "outputs": [],
   "source": []
  },
  {
   "cell_type": "code",
   "execution_count": null,
   "metadata": {},
   "outputs": [],
   "source": []
  },
  {
   "cell_type": "code",
   "execution_count": null,
   "metadata": {},
   "outputs": [],
   "source": []
  },
  {
   "cell_type": "code",
   "execution_count": null,
   "metadata": {},
   "outputs": [],
   "source": []
  },
  {
   "cell_type": "code",
   "execution_count": null,
   "metadata": {},
   "outputs": [],
   "source": []
  },
  {
   "cell_type": "code",
   "execution_count": null,
   "metadata": {},
   "outputs": [],
   "source": []
  },
  {
   "cell_type": "code",
   "execution_count": null,
   "metadata": {},
   "outputs": [],
   "source": []
  },
  {
   "cell_type": "code",
   "execution_count": null,
   "metadata": {},
   "outputs": [],
   "source": []
  },
  {
   "cell_type": "code",
   "execution_count": null,
   "metadata": {},
   "outputs": [],
   "source": []
  }
 ],
 "metadata": {
  "kernelspec": {
   "display_name": "Python 3",
   "language": "python",
   "name": "python3"
  },
  "language_info": {
   "codemirror_mode": {
    "name": "ipython",
    "version": 3
   },
   "file_extension": ".py",
   "mimetype": "text/x-python",
   "name": "python",
   "nbconvert_exporter": "python",
   "pygments_lexer": "ipython3",
   "version": "3.6.5"
  }
 },
 "nbformat": 4,
 "nbformat_minor": 2
}
